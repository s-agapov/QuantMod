{
 "cells": [
  {
   "cell_type": "code",
   "execution_count": 47,
   "id": "c6586d97-dc92-41fd-ba2a-acadb986d019",
   "metadata": {},
   "outputs": [
    {
     "name": "stderr",
     "output_type": "stream",
     "text": [
      "/home/samsmu/anaconda3/envs/t/lib/python3.9/site-packages/pandas/core/computation/expressions.py:21: UserWarning: Pandas requires version '2.8.4' or newer of 'numexpr' (version '2.7.3' currently installed).\n",
      "  from pandas.core.computation.check import NUMEXPR_INSTALLED\n",
      "/home/samsmu/anaconda3/envs/t/lib/python3.9/site-packages/pandas/core/arrays/masked.py:60: UserWarning: Pandas requires version '1.3.6' or newer of 'bottleneck' (version '1.3.2' currently installed).\n",
      "  from pandas.core import (\n"
     ]
    }
   ],
   "source": [
    "import pandas as pd\n",
    "import pybit\n",
    "from datetime import datetime"
   ]
  },
  {
   "cell_type": "code",
   "execution_count": 8,
   "id": "f06889ff-e2bb-49ed-9ed7-66d447d0bfd9",
   "metadata": {},
   "outputs": [],
   "source": [
    "from pybit.unified_trading import HTTP\n",
    "session = HTTP(testnet=False)\n",
    "resp = session.get_tickers(\n",
    "    category=\"spot\",\n",
    "#    symbol=\"BTCUSDT\",\n",
    ")\n"
   ]
  },
  {
   "cell_type": "code",
   "execution_count": 17,
   "id": "fd1be44d-59db-446c-9745-98ed17fbdc78",
   "metadata": {},
   "outputs": [],
   "source": [
    "tickers = []\n",
    "for symbol in resp['result']['list']:\n",
    "    ticker = symbol['symbol']\n",
    "    if 'USDT' in ticker:\n",
    "        volume = float(symbol['volume24h'])\n",
    "        if volume > 1e06 :\n",
    "            #print(ticker)\n",
    "            tickers.append(ticker)\n",
    "            "
   ]
  },
  {
   "cell_type": "code",
   "execution_count": 33,
   "id": "d85ab2e1-afc1-4e19-91ac-f8b138bbfe97",
   "metadata": {},
   "outputs": [
    {
     "name": "stdout",
     "output_type": "stream",
     "text": [
      "{'retCode': 0, 'retMsg': 'OK', 'result': {'category': 'spot', 'symbol': 'BTCUSDT', 'list': [['1670608800000', '16886', '16886', '16596.12', '16783.5', '323.156445', '5456578.71657288'], ['1670605200000', '16976.88', '17044.13', '15400', '16886', '323.936083', '5458892.50591019'], ['1670601600000', '17000', '17042.55', '16832.19', '16976.88', '1343.886676', '22846667.14058788']]}, 'retExtInfo': {}, 'time': 1712130663816}\n"
     ]
    }
   ],
   "source": [
    "from pybit.unified_trading import HTTP\n",
    "session = HTTP(testnet=True)\n",
    "print(session.get_kline(\n",
    "    category=\"spot\",\n",
    "    symbol=\"BTCUSDT\",\n",
    "    interval=60,\n",
    "    start=1670601600000,\n",
    "    end=1670608800000,\n",
    "))"
   ]
  },
  {
   "cell_type": "code",
   "execution_count": 41,
   "id": "dffb20a6-6757-407b-b25e-5f827b6c7d8f",
   "metadata": {},
   "outputs": [],
   "source": [
    "from datetime import datetime, timedelta\n",
    "def get_times():\n",
    "    # Получение timestamp и ms на текущее время\n",
    "    now = datetime.now()\n",
    "    timestamp_now = int(now.timestamp()) * 1000\n",
    "    ms_now = now.microsecond\n",
    "    \n",
    "    # Получение timestamp на неделю раньше\n",
    "    week_ago = now - timedelta(days=7)\n",
    "    timestamp_week_ago = int(week_ago.timestamp()) * 1000\n",
    "    return ( timestamp_week_ago, timestamp_now)\n"
   ]
  },
  {
   "cell_type": "code",
   "execution_count": 87,
   "id": "46d86f2b-4988-4f5f-bab9-9b146174d6a7",
   "metadata": {},
   "outputs": [
    {
     "name": "stdout",
     "output_type": "stream",
     "text": [
      "Start: 2024-03-27 08:19:19\n",
      "End: 2024-04-03 08:19:19\n"
     ]
    }
   ],
   "source": [
    "st, et = get_times()\n",
    "datetime.fromtimestamp(st/1000)\n",
    "print(\"Start:\", datetime.fromtimestamp(st/1000))\n",
    "print(\"End:\", datetime.fromtimestamp(et/1000))"
   ]
  },
  {
   "cell_type": "code",
   "execution_count": 43,
   "id": "551b6341-d42b-4ab4-9d54-6f008dd527cd",
   "metadata": {},
   "outputs": [],
   "source": [
    "session = HTTP(testnet=True)\n",
    "resp = session.get_kline(\n",
    "    category=\"spot\",\n",
    "    symbol=\"BTCUSDT\",\n",
    "    interval= 720,\n",
    "    start = st,\n",
    "    end = et,\n",
    ")\n"
   ]
  },
  {
   "cell_type": "code",
   "execution_count": 55,
   "id": "3442283d-bfe2-41b1-bf1e-fd9bc08d7e98",
   "metadata": {},
   "outputs": [],
   "source": [
    "session = HTTP()\n",
    "prices = {}\n",
    "for ticker in tickers:\n",
    "    resp = session.get_kline(\n",
    "    category=\"spot\",\n",
    "    symbol= ticker,\n",
    "    interval= 720,\n",
    "    start = st,\n",
    "    end = et,\n",
    "    )\n",
    "\n",
    "    df = pd.DataFrame (resp['result']['list'], columns = ['date', 'open', 'high','low','close','volume', 'turnover'])\n",
    "    prices[ticker] = df.close\n",
    "\n",
    "df_res = pd.DataFrame(prices)"
   ]
  },
  {
   "cell_type": "code",
   "execution_count": 63,
   "id": "99f36754-e0ec-457a-bb8b-c89275e3582e",
   "metadata": {},
   "outputs": [],
   "source": [
    "df_res = df_res.astype(float)\n",
    "df_ret = df_res.pct_change(fill_method = None)"
   ]
  },
  {
   "cell_type": "code",
   "execution_count": 75,
   "id": "129127ca-d2a7-45f8-a281-474ace2152c3",
   "metadata": {},
   "outputs": [],
   "source": [
    "dfx = df_ret[-2:]>0\n",
    "df_up = df_ret[-2:][dfx].dropna(axis = 1)"
   ]
  },
  {
   "cell_type": "code",
   "execution_count": 77,
   "id": "7087c41c-6648-42a5-9f97-b2ed16a5ab4e",
   "metadata": {},
   "outputs": [
    {
     "data": {
      "text/plain": [
       "MELOSUSDT     0.092576\n",
       "SYNRUSDT      0.100216\n",
       "TIAUSDT       0.017804\n",
       "RATSUSDT      0.041698\n",
       "FMCUSDT       0.049116\n",
       "TUSDT         0.113071\n",
       "LOOKSUSDT     0.094702\n",
       "SCAUSDT       0.049543\n",
       "MNTUSDT       0.073866\n",
       "ERTHAUSDT     0.053692\n",
       "CTCUSDT       0.015254\n",
       "ANKRUSDT      0.083059\n",
       "THNUSDT       0.571551\n",
       "WOOUSDT       0.047579\n",
       "FLTUSDT       0.207235\n",
       "JTOUSDT       0.040013\n",
       "TOKENUSDT     0.217989\n",
       "MPLXUSDT      0.216104\n",
       "DOMEUSDT      0.040649\n",
       "PUMLXUSDT     0.048246\n",
       "TONUSDT       0.008202\n",
       "MANTAUSDT     0.040139\n",
       "GLMRUSDT      0.049330\n",
       "SOSUSDT       0.079796\n",
       "MVLUSDT       0.019710\n",
       "GMRXUSDT      0.166276\n",
       "WENUSDT       0.159000\n",
       "ACHUSDT       0.046232\n",
       "SOLUSDT       0.016986\n",
       "JASMYUSDT     0.030029\n",
       "HVHUSDT       0.030520\n",
       "ALTUSDT       0.047846\n",
       "MBSUSDT       0.246159\n",
       "APRSUSDT      0.141805\n",
       "AGLAUSDT      0.031641\n",
       "ICPUSDT       0.117399\n",
       "LDOUSDT       0.056069\n",
       "TURBOSUSDT    0.043483\n",
       "PYTHUSDT      0.030486\n",
       "RPKUSDT       0.001377\n",
       "WAXPUSDT      0.034840\n",
       "IRLUSDT       0.049717\n",
       "ARKMUSDT      0.072684\n",
       "THETAUSDT     0.039559\n",
       "POKTUSDT      0.081495\n",
       "EGOUSDT       0.073529\n",
       "LFWUSDT       0.053446\n",
       "LINGUSDT      0.039280\n",
       "APPUSDT       0.056834\n",
       "XDCUSDT       0.024214\n",
       "MINUUSDT      0.077748\n",
       "ZIGUSDT       0.042363\n",
       "AGIUSDT       0.076099\n",
       "GMUSDT        0.012340\n",
       "SALDUSDT      0.126480\n",
       "ZKFUSDT       0.022296\n",
       "FIREUSDT      0.008497\n",
       "dtype: float64"
      ]
     },
     "execution_count": 77,
     "metadata": {},
     "output_type": "execute_result"
    }
   ],
   "source": [
    "df_up.sum()"
   ]
  },
  {
   "cell_type": "code",
   "execution_count": 81,
   "id": "68afcf08-999c-4463-b76d-68ec498807ca",
   "metadata": {},
   "outputs": [
    {
     "data": {
      "text/plain": [
       "0     0.000608\n",
       "1     0.000601\n",
       "2     0.000565\n",
       "3     0.000579\n",
       "4     0.000604\n",
       "5     0.000662\n",
       "6     0.000675\n",
       "7     0.000654\n",
       "8     0.000660\n",
       "9     0.000619\n",
       "10    0.000655\n",
       "11    0.000706\n",
       "12    0.000749\n",
       "13    0.000798\n",
       "14    0.000826\n",
       "Name: SYNRUSDT, dtype: float64"
      ]
     },
     "execution_count": 81,
     "metadata": {},
     "output_type": "execute_result"
    }
   ],
   "source": [
    "df_res['synrusdt'.upper()]"
   ]
  }
 ],
 "metadata": {
  "kernelspec": {
   "display_name": "t",
   "language": "python",
   "name": "t"
  },
  "language_info": {
   "codemirror_mode": {
    "name": "ipython",
    "version": 3
   },
   "file_extension": ".py",
   "mimetype": "text/x-python",
   "name": "python",
   "nbconvert_exporter": "python",
   "pygments_lexer": "ipython3",
   "version": "3.9.4"
  }
 },
 "nbformat": 4,
 "nbformat_minor": 5
}
