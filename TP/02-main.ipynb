{
 "cells": [
  {
   "cell_type": "code",
   "execution_count": 2,
   "metadata": {
    "tags": []
   },
   "outputs": [],
   "source": [
    "import pandas as pd\n",
    "import numpy as np\n",
    "import json\n",
    "from datetime import datetime\n",
    "\n",
    "import ccxt\n",
    "\n",
    "from tp_utils.data_provider import read_prices, read_data, market_to_symbol, load_data_from_exchange\n",
    "from Portfolio.portfolio_tools import *\n",
    "from tp_utils.tp_utils import  create_market_buy_order,  create_market_sell_order, get_balance\n",
    "from tp_config import *\n",
    "from bybit import  *\n",
    "\n",
    "pd.set_option(\"display.max_rows\", 90)\n",
    "from typing import List"
   ]
  },
  {
   "cell_type": "markdown",
   "metadata": {
    "tags": []
   },
   "source": [
    "### Установить подключение"
   ]
  },
  {
   "cell_type": "code",
   "execution_count": 7,
   "metadata": {
    "tags": []
   },
   "outputs": [],
   "source": [
    "from pybit.unified_trading import HTTP\n",
    "\n",
    "main_api = \"5ERAemyDtATcprZyaA\"\n",
    "main_secret = \"KKw2m9BudPFonS6Y5nfsGqKRHTiwzSSoikDv\"\n",
    "\n",
    "\n",
    "trade_api = 'wJaERfyAmGP2Sbv7eR'\n",
    "trade_secret = 'U1zaBFBZe7rwIuF9h9T0BbOsk4cadYFkG6AG'\n",
    "\n",
    "session = HTTP(\n",
    "    api_key = trade_api,\n",
    "    api_secret = trade_secret,\n",
    "    recv_window = 10000\n",
    ")\n",
    "\n",
    "subaccounts = { \n",
    "    \"RiskfolioMaxRet\" : 162098887,\n",
    "    \"Semicovariance\"  : 158552201\n",
    "}"
   ]
  },
  {
   "cell_type": "code",
   "execution_count": 4,
   "metadata": {
    "tags": []
   },
   "outputs": [],
   "source": [
    "class Balance:\n",
    "    def __init__(self, session:HTTP):\n",
    "        self.session = session\n",
    "        \n",
    "    def get_all_assets(self) -> List:\n",
    "        \"\"\"\n",
    "        Получаю остатки на аккаунте по всем монетам\n",
    "        :param cl:\n",
    "        :return: dict\n",
    "        \"\"\"\n",
    "        ask = self.session.get_wallet_balance(accountType=\"UNIFIED\")\n",
    "        resp = ask.get('result', {}).get('list', [])[0].get('coin', [])\n",
    "\n",
    "        assets = [[asset.get('coin'), float(asset.get('availableToWithdraw', '0.0')), float(asset.get('usdValue'))]\n",
    "            for asset in resp]\n",
    "        return assets\n",
    "\n",
    "    def get_coin_limits(self, category:str, symbol:str):\n",
    "        ask = self.session.get_instruments_info(category = 'spot', symbol = \"SOLUSDT\")\n",
    "        limits = ask['result']['list'][0]['lotSizeFilter']\n",
    "        return limits\n",
    "    \n",
    "    def get_df(self):\n",
    "        assets = self.get_all_assets()\n",
    "        res = []\n",
    "        for asset in assets:\n",
    "            limits = self.get_coin_limits(\"spot\", asset[0])\n",
    "            limit = [limits['minOrderQty'], limits['basePrecision']]\n",
    "            res.append(asset + limit)\n",
    "        df = pd.DataFrame(res, columns = ['ticker', 'qty', 'value', 'minQty', 'basePrecision'])\n",
    "        return df\n",
    "    \n",
    "def get_all_assets_main(session : HTTP):\n",
    "    \"\"\"\n",
    "    Получаю остатки на аккаунте по всем монетам\n",
    "    :param cl:\n",
    "    :return: dict\n",
    "    \"\"\"\n",
    "    r = session.get_wallet_balance(accountType=\"UNIFIED\")\n",
    "    assets = {\n",
    "        asset.get('coin') : float(asset.get('availableToWithdraw', '0.0'))\n",
    "        for asset in r.get('result', {}).get('list', [])[0].get('coin', [])\n",
    "    }\n",
    "    return assets\n",
    "\n",
    "def get_all_assets_sub(session, subaccount : str):\n",
    "    \n",
    "    memberId = subaccounts[subaccount]\n",
    "    res = session.get_coins_balance(\n",
    "        memberId = memberId,\n",
    "        accountType=\"UNIFIED\")\n",
    "    \n",
    "    assets = {asset['coin']:asset['walletBalance']\n",
    "              for asset in res['result']['balance'] if float(asset['walletBalance'])}\n",
    "    return assets\n",
    "\n",
    "def get_all_assets(session, subaccount = None):\n",
    "    if subaccount is None:\n",
    "        assets = get_all_assets_main(session)  \n",
    "    else:\n",
    "        assets = get_all_assets_sub(session, subaccount)\n",
    "        \n",
    "    return assets\n",
    "        \n",
    "def get_asset(cl : HTTP, coin, subaccount = None):\n",
    "    \"\"\"\n",
    "    Получаю остатки на аккаунте по конкретной монете\n",
    "    :param cl:\n",
    "    :param coin:\n",
    "    :return:\n",
    "    \"\"\"\n",
    "    assets = get_all_assets(cl, subaccount)\n",
    "    return float(assets.get(coin, 0.0))\n",
    "\n",
    "def get_subaccounts_id():\n",
    "    res = session.get_sub_uid()\n",
    "    return res['result']['subMemberIds']\n"
   ]
  },
  {
   "cell_type": "code",
   "execution_count": 5,
   "metadata": {
    "tags": []
   },
   "outputs": [],
   "source": [
    "### Округление \n",
    "def rd(val, dec):\n",
    "    factor = 1 / (10 ** dec)\n",
    "    return (val // factor) * factor"
   ]
  },
  {
   "cell_type": "markdown",
   "metadata": {},
   "source": [
    "## Balance"
   ]
  },
  {
   "cell_type": "code",
   "execution_count": 9,
   "metadata": {
    "tags": []
   },
   "outputs": [
    {
     "data": {
      "text/html": [
       "<div>\n",
       "<style scoped>\n",
       "    .dataframe tbody tr th:only-of-type {\n",
       "        vertical-align: middle;\n",
       "    }\n",
       "\n",
       "    .dataframe tbody tr th {\n",
       "        vertical-align: top;\n",
       "    }\n",
       "\n",
       "    .dataframe thead th {\n",
       "        text-align: right;\n",
       "    }\n",
       "</style>\n",
       "<table border=\"1\" class=\"dataframe\">\n",
       "  <thead>\n",
       "    <tr style=\"text-align: right;\">\n",
       "      <th></th>\n",
       "      <th>ticker</th>\n",
       "      <th>qty</th>\n",
       "      <th>value</th>\n",
       "      <th>minQty</th>\n",
       "      <th>basePrecision</th>\n",
       "    </tr>\n",
       "  </thead>\n",
       "  <tbody>\n",
       "    <tr>\n",
       "      <th>0</th>\n",
       "      <td>USDT</td>\n",
       "      <td>0.00006142</td>\n",
       "      <td>0.00006144</td>\n",
       "      <td>0.023</td>\n",
       "      <td>0.001</td>\n",
       "    </tr>\n",
       "    <tr>\n",
       "      <th>1</th>\n",
       "      <td>CORE</td>\n",
       "      <td>0.01858000</td>\n",
       "      <td>0.04392066</td>\n",
       "      <td>0.023</td>\n",
       "      <td>0.001</td>\n",
       "    </tr>\n",
       "    <tr>\n",
       "      <th>2</th>\n",
       "      <td>MNT</td>\n",
       "      <td>0.55144683</td>\n",
       "      <td>0.77393853</td>\n",
       "      <td>0.023</td>\n",
       "      <td>0.001</td>\n",
       "    </tr>\n",
       "  </tbody>\n",
       "</table>\n",
       "</div>"
      ],
      "text/plain": [
       "  ticker         qty       value minQty basePrecision\n",
       "0   USDT  0.00006142  0.00006144  0.023         0.001\n",
       "1   CORE  0.01858000  0.04392066  0.023         0.001\n",
       "2    MNT  0.55144683  0.77393853  0.023         0.001"
      ]
     },
     "execution_count": 9,
     "metadata": {},
     "output_type": "execute_result"
    }
   ],
   "source": [
    "bal = Balance(session)\n",
    "\n",
    "bal.get_df()"
   ]
  },
  {
   "cell_type": "code",
   "execution_count": null,
   "metadata": {},
   "outputs": [],
   "source": []
  },
  {
   "cell_type": "code",
   "execution_count": null,
   "metadata": {},
   "outputs": [],
   "source": []
  },
  {
   "cell_type": "code",
   "execution_count": null,
   "metadata": {},
   "outputs": [],
   "source": []
  },
  {
   "cell_type": "markdown",
   "metadata": {
    "jp-MarkdownHeadingCollapsed": true,
    "tags": []
   },
   "source": [
    "## Market buy"
   ]
  },
  {
   "cell_type": "code",
   "execution_count": 37,
   "metadata": {},
   "outputs": [
    {
     "name": "stdout",
     "output_type": "stream",
     "text": [
      "price 0.071306 , sum 0.0142612\n"
     ]
    }
   ],
   "source": [
    "price_buy = create_market_buy_order(exchange, market, amount)\n",
    "print('price', price_buy, ', sum', price_buy * amount)"
   ]
  },
  {
   "cell_type": "markdown",
   "metadata": {
    "jp-MarkdownHeadingCollapsed": true,
    "tags": []
   },
   "source": [
    "## Market Sell"
   ]
  },
  {
   "cell_type": "code",
   "execution_count": 15,
   "metadata": {},
   "outputs": [
    {
     "name": "stdout",
     "output_type": "stream",
     "text": [
      "0.00018281 sum 0.018281\n"
     ]
    }
   ],
   "source": [
    "price_sell = create_market_sell_order(exchange, market, amount)\n",
    "print(price_sell, 'sum', price_sell * amount)"
   ]
  },
  {
   "cell_type": "markdown",
   "metadata": {},
   "source": [
    "### Limit sell"
   ]
  },
  {
   "cell_type": "code",
   "execution_count": 21,
   "metadata": {},
   "outputs": [],
   "source": [
    "order_type = 'stop_loss_limit'  # or 'market', other types aren't unified yet\n",
    "side = 'sell'\n",
    "stop_price = 0.0002150\n",
    "sell_price = 0.0002140\n",
    "# your price\n",
    "# overrides\n",
    "params = {\n",
    "    'stopPrice': stop_price,  # your stop price\n",
    "}\n",
    "order = exchange.create_order(symbol, order_type, side, amount, sell_price, params)"
   ]
  },
  {
   "cell_type": "code",
   "execution_count": 51,
   "metadata": {},
   "outputs": [
    {
     "data": {
      "text/plain": [
       "[{'info': {'symbol': 'DOGEBTC',\n",
       "   'origClientOrderId': 'web_654918598cbd4910a3cb74fe677b92bf',\n",
       "   'orderId': '239881844',\n",
       "   'orderListId': '-1',\n",
       "   'clientOrderId': 'SqiOk3B2fx3pQKDBISxZmL',\n",
       "   'price': '0.00000578',\n",
       "   'origQty': '553.00000000',\n",
       "   'executedQty': '0.00000000',\n",
       "   'cummulativeQuoteQty': '0.00000000',\n",
       "   'status': 'CANCELED',\n",
       "   'timeInForce': 'GTC',\n",
       "   'type': 'STOP_LOSS_LIMIT',\n",
       "   'side': 'SELL',\n",
       "   'stopPrice': '0.00000579'},\n",
       "  'id': '239881844',\n",
       "  'clientOrderId': 'SqiOk3B2fx3pQKDBISxZmL',\n",
       "  'timestamp': None,\n",
       "  'datetime': None,\n",
       "  'lastTradeTimestamp': None,\n",
       "  'symbol': 'DOGE/BTC',\n",
       "  'type': 'stop_loss_limit',\n",
       "  'timeInForce': 'GTC',\n",
       "  'postOnly': False,\n",
       "  'side': 'sell',\n",
       "  'price': 5.78e-06,\n",
       "  'stopPrice': 5.79e-06,\n",
       "  'amount': 553.0,\n",
       "  'cost': 0.0,\n",
       "  'average': None,\n",
       "  'filled': 0.0,\n",
       "  'remaining': 553.0,\n",
       "  'status': 'canceled',\n",
       "  'fee': None,\n",
       "  'trades': [],\n",
       "  'fees': []}]"
      ]
     },
     "execution_count": 51,
     "metadata": {},
     "output_type": "execute_result"
    }
   ],
   "source": [
    "exchange.cancel_all_orders(symbol)"
   ]
  },
  {
   "cell_type": "markdown",
   "metadata": {
    "jp-MarkdownHeadingCollapsed": true,
    "tags": []
   },
   "source": [
    "## Sell All"
   ]
  },
  {
   "cell_type": "code",
   "execution_count": 56,
   "metadata": {},
   "outputs": [
    {
     "name": "stdout",
     "output_type": "stream",
     "text": [
      "ETH-BTC 0.069013\n",
      "QTUM-BTC 0.0002347\n",
      "DATA-BTC 2.81e-06\n",
      "THETA-BTC 0.00015202\n",
      "VET-BTC 2.34e-06\n",
      "DOGE-BTC 5.64e-06\n",
      "FTT-BTC 0.0010006\n",
      "DREP-BTC 1.464e-05\n",
      "SOL-BTC 0.00085663\n",
      "DOT-BTC 0.00045237\n",
      "UNI-BTC 0.0006086\n",
      "PSG-BTC 0.0009337\n",
      "TVK-BTC 7.17e-06\n"
     ]
    }
   ],
   "source": [
    "df = get_balance(exchange)\n",
    "df = df[(df['free'].astype(float) +df['locked'].astype(float)) > 0]\n",
    "df = df[~df['asset'].isin(delisted_assets)]\n",
    "for row in df.iterrows():\n",
    "    asset = row[1]['asset']\n",
    "    amount = row[1]['free']\n",
    "    locked = row[1]['locked']\n",
    "    if asset in ['BTC', 'USDT', 'BNB']:\n",
    "        continue\n",
    "\n",
    "    market = asset + '-BTC' \n",
    "    ticker = asset + '/BTC'\n",
    "    if float(locked) > 0:\n",
    "        exchange.cancel_all_orders(ticker)\n",
    "        \n",
    "    try:\n",
    "        price_sell = create_market_sell_order(exchange, market, amount)\n",
    "        print(market, price_sell)\n",
    "    except:\n",
    "        pass"
   ]
  },
  {
   "cell_type": "markdown",
   "metadata": {},
   "source": [
    "### Trades"
   ]
  },
  {
   "cell_type": "code",
   "execution_count": 988,
   "metadata": {},
   "outputs": [],
   "source": [
    "raw_trades =  exchange.fetch_my_trades('TFUEL/BTC')\n",
    "trades = [[round(x['timestamp']/1000), x['side'], x['amount'], x['price'], x['cost']] for x in raw_trades]"
   ]
  },
  {
   "cell_type": "code",
   "execution_count": null,
   "metadata": {},
   "outputs": [],
   "source": []
  },
  {
   "cell_type": "code",
   "execution_count": null,
   "metadata": {},
   "outputs": [],
   "source": []
  },
  {
   "cell_type": "code",
   "execution_count": null,
   "metadata": {},
   "outputs": [],
   "source": [
    "df  = pd.DataFrame(trades, columns = ['time', 'side', 'amount', 'price', 'cost'])\n",
    "dfx = df.groupby(['time', 'side']).sum()\n",
    "dfx['price'] = dfx['cost']/dfx['amount']\n",
    "dfx.sort_values('time', ascending = False)[:20]  "
   ]
  },
  {
   "cell_type": "code",
   "execution_count": null,
   "metadata": {},
   "outputs": [],
   "source": [
    "portfolios = ['max_sharpe', 'main', 'index_low', 'efficient_risk']\n",
    "for portfolio in portfolios:\n",
    "    portfolio_file = portfolio + '.json'\n",
    "\n",
    "    with open(portfolio_file) as f:\n",
    "        portfolio_data = json.load(f)\n",
    "    portfolio = portfolio_data['markets']\n",
    "    sell_portfolio(exchange, portfolio)"
   ]
  },
  {
   "cell_type": "code",
   "execution_count": 327,
   "metadata": {},
   "outputs": [],
   "source": [
    "d = {\"stop\":not True}\n",
    "with open(\"stop.json\", 'w') as f:\n",
    "    json.dump(d, f)"
   ]
  },
  {
   "cell_type": "code",
   "execution_count": 328,
   "metadata": {},
   "outputs": [
    {
     "data": {
      "text/plain": [
       "{'stop': False}"
      ]
     },
     "execution_count": 328,
     "metadata": {},
     "output_type": "execute_result"
    }
   ],
   "source": [
    "with open(\"stop.json\") as f:\n",
    "    x = json.load(f)\n",
    "x"
   ]
  },
  {
   "cell_type": "markdown",
   "metadata": {},
   "source": [
    "## Portfolio recalc"
   ]
  },
  {
   "cell_type": "markdown",
   "metadata": {},
   "source": [
    "### 0. Data from exchange"
   ]
  },
  {
   "cell_type": "code",
   "execution_count": 10,
   "metadata": {
    "tags": []
   },
   "outputs": [],
   "source": [
    "pair = 'USDT'\n",
    "with open('Portfolio/index_assets.csv') as f:\n",
    "    index_assets = pd.read_csv(f)['asset'].tolist()\n",
    "markets_index = [s + '-' + pair for s in index_assets]\n",
    "\n",
    "with open('Portfolio/index_middle_assets.csv') as f:\n",
    "    index_low_assets = pd.read_csv(f)['asset'].tolist()\n",
    "index_all = index_assets +  index_low_assets\n",
    "markets = [s + '-' + pair for s in index_all]"
   ]
  },
  {
   "cell_type": "code",
   "execution_count": null,
   "metadata": {
    "tags": []
   },
   "outputs": [],
   "source": [
    "exchange = ccxt.bybit()\n",
    "pair = 'USDT'\n",
    "\n",
    "start_timestamp = exchange.parse8601('2023-04-01 00:00:00')\n",
    "timeframes = {'1h':60, '4h':240,  '12h':720}\n",
    "data_path = DATA_PATH_CRYPTO + '/' + pair\n",
    "print(data_path)\n",
    "load_data_from_exchange(exchange, markets, timeframes, start_timestamp, data_path, 10, \n",
    "                        verbose = False)"
   ]
  },
  {
   "cell_type": "markdown",
   "metadata": {},
   "source": [
    "### 1. Set index assets"
   ]
  },
  {
   "cell_type": "markdown",
   "metadata": {},
   "source": [
    "### 2. Load data"
   ]
  },
  {
   "cell_type": "code",
   "execution_count": 11,
   "metadata": {
    "tags": []
   },
   "outputs": [
    {
     "name": "stdout",
     "output_type": "stream",
     "text": [
      "AVAX-USDT\n",
      "BCH-USDT\n",
      "BTC-USDT\n",
      "BNB-USDT\n",
      "CORE-USDT\n",
      "DOT-USDT\n",
      "DOGE-USDT\n",
      "ETH-USDT\n",
      "LINK-USDT\n",
      "LTC-USDT\n",
      "LUNA-USDT\n",
      "MATIC-USDT\n",
      "MNT-USDT\n",
      "MKR-USDT\n",
      "PENDLE-USDT\n",
      "SOL-USDT\n",
      "TON-USDT\n",
      "TRX-USDT\n",
      "AAVE-USDT\n",
      "ADA-USDT\n",
      "AEVO-USDT\n",
      "ALGO-USDT\n",
      "APT-USDT\n",
      "AXS-USDT\n",
      "BONK-USDT\n",
      "BOME-USDT\n",
      "CAKE-USDT\n",
      "COQ-USDT\n",
      "CYBER-USDT\n",
      "CPOOL-USDT\n",
      "EOS-USDT\n",
      "ETC-USDT\n",
      "ETHFI-USDT\n",
      "FIRE-USDT\n",
      "FLT-USDT\n",
      "FTM-USDT\n",
      "GALA-USDT\n",
      "INJ-USDT\n",
      "ICP-USDT\n",
      "JUP-USDT\n",
      "MASK-USDT\n",
      "NEON-USDT\n",
      "NEAR-USDT\n",
      "ONDO-USDT\n",
      "PEPE-USDT\n",
      "PPT-USDT\n",
      "PYTH-USDT\n",
      "RUNE-USDT\n",
      "RVN-USDT\n",
      "SEI-USDT\n",
      "SQT-USDT\n",
      "SUI-USDT\n",
      "THETA-USDT\n",
      "TOKEN-USDT\n",
      "UNI-USDT\n",
      "WAVES-USDT\n",
      "WLD-USDT\n",
      "XRP-USDT\n",
      "ZIL-USDT\n",
      "2024-04-05 08:00:00\n"
     ]
    }
   ],
   "source": [
    "df_prices =  load_data_for_portfolio(markets, '4h')   \n",
    "print(datetime.fromtimestamp(df_prices.index[-1]/1000))"
   ]
  },
  {
   "cell_type": "markdown",
   "metadata": {
    "tags": []
   },
   "source": [
    "### 3. Calc weights"
   ]
  },
  {
   "cell_type": "markdown",
   "metadata": {},
   "source": [
    "#### 3.1 Calc weights "
   ]
  },
  {
   "cell_type": "code",
   "execution_count": 13,
   "metadata": {
    "tags": []
   },
   "outputs": [],
   "source": [
    "lookback = 120\n",
    "df_period = df_prices.iloc[-lookback:]\n",
    "df_period = df_period.dropna(axis = 1)\n",
    "print_data(df_period)\n",
    "\n",
    "ef = calc_frontier(df_period, \"ledoit_wolf\",  \"ema_historical_return\", span = 150, shorts = False)\n",
    "#ef = calc_frontier(df_period, 'semicovariance', \"ema_historical_return\")\n",
    "\n",
    "\n",
    "#opt_method = \"efficient_risk\"\n",
    "opt_method = 'max_sharpe'\n",
    "\n",
    "if opt_method == 'max_sharpe': \n",
    "    dfw = calc_weights(ef, opt_method, 0)\n",
    "else:\n",
    "    dfw = calc_weights(ef, opt_method, 0.25)\n",
    "print(opt_method)    \n",
    "dfw "
   ]
  },
  {
   "cell_type": "code",
   "execution_count": 135,
   "metadata": {
    "tags": []
   },
   "outputs": [
    {
     "data": {
      "text/html": [
       "<div>\n",
       "<style scoped>\n",
       "    .dataframe tbody tr th:only-of-type {\n",
       "        vertical-align: middle;\n",
       "    }\n",
       "\n",
       "    .dataframe tbody tr th {\n",
       "        vertical-align: top;\n",
       "    }\n",
       "\n",
       "    .dataframe thead th {\n",
       "        text-align: right;\n",
       "    }\n",
       "</style>\n",
       "<table border=\"1\" class=\"dataframe\">\n",
       "  <thead>\n",
       "    <tr style=\"text-align: right;\">\n",
       "      <th></th>\n",
       "      <th>weights</th>\n",
       "    </tr>\n",
       "  </thead>\n",
       "  <tbody>\n",
       "    <tr>\n",
       "      <th>CORE-USDT</th>\n",
       "      <td>30.0</td>\n",
       "    </tr>\n",
       "    <tr>\n",
       "      <th>PENDLE-USDT</th>\n",
       "      <td>20.0</td>\n",
       "    </tr>\n",
       "    <tr>\n",
       "      <th>FIRE-USDT</th>\n",
       "      <td>20.0</td>\n",
       "    </tr>\n",
       "  </tbody>\n",
       "</table>\n",
       "</div>"
      ],
      "text/plain": [
       "             weights\n",
       "CORE-USDT       30.0\n",
       "PENDLE-USDT     20.0\n",
       "FIRE-USDT       20.0"
      ]
     },
     "execution_count": 135,
     "metadata": {},
     "output_type": "execute_result"
    }
   ],
   "source": [
    "final_sums(dfw, 73, 1)"
   ]
  },
  {
   "cell_type": "markdown",
   "metadata": {
    "tags": []
   },
   "source": [
    "### 3.2 Calc weghts min. cardinality"
   ]
  },
  {
   "cell_type": "code",
   "execution_count": 62,
   "metadata": {
    "tags": []
   },
   "outputs": [
    {
     "name": "stdout",
     "output_type": "stream",
     "text": [
      "2024-03-09 12:00:00\n",
      "2024-03-29 08:00:00\n",
      "MV\n",
      "                weights\n",
      "CPOOL-USDT  0.334489298\n",
      "SQT-USDT    0.621428656\n",
      "TOKEN-USDT  0.044081998\n",
      "MSV\n",
      "                weights\n",
      "CPOOL-USDT  0.334489298\n",
      "SQT-USDT    0.621428656\n",
      "TOKEN-USDT  0.044081998\n",
      "CVaR\n",
      "                weights\n",
      "CPOOL-USDT  0.334489298\n",
      "SQT-USDT    0.621428656\n",
      "TOKEN-USDT  0.044081998\n"
     ]
    }
   ],
   "source": [
    "import riskfolio as rp\n",
    "\n",
    "rms= ['MV', 'MSV',  'CVaR']\n",
    "\n",
    "def riskfolio_weights(df_period, rm , obj):\n",
    "    \"\"\"\n",
    "        obj - Objective function, could be MinRisk, MaxRet, Utility or Sharpe\n",
    "    \"\"\"\n",
    "    Y = df_period.pct_change().dropna()\n",
    "\n",
    "    # Building the portfolio object\n",
    "    port = rp.Portfolio(returns=Y)\n",
    "    port.solvers = ['MOSEK']\n",
    "    # Calculating optimum portfolio\n",
    "\n",
    "    # Select method and estimate input parameters:\n",
    "\n",
    "    method_mu='hist' # Method to estimate expected returns based on historical data.\n",
    "    method_cov='hist' # Method to estimate covariance matrix based on historical data.\n",
    "\n",
    "    port.assets_stats(method_mu=method_mu, method_cov=method_cov, d=0.94)\n",
    "\n",
    "    # Estimate optimal portfolio:\n",
    "\n",
    "    model='Classic' # Could be Classic (historical), BL (Black Litterman) or FM (Factor Model)\n",
    "    hist = True # Use historical scenarios for risk measures that depend on scenarios\n",
    "    rf = 0 # Risk free rate\n",
    "    l = 0 # Risk aversion factor, only useful when obj is 'Utility'\n",
    "    # First we need to delete the cardinality constraint\n",
    "    port.card = None \n",
    "\n",
    "    # Then we need to set the constraint on the minimum number of effective assets\n",
    "    port.nea = 2\n",
    "    w = port.optimization(model=model, rm=rm, obj=obj, rf=rf, l=l, hist=hist)\n",
    "    w = w[w.weights > 0.01]\n",
    "    return w\n",
    "\n",
    "print_data(df_period)\n",
    "df_period = df_period.dropna(axis = 1)\n",
    "\n",
    "for rm in rms:\n",
    "    print(rm)\n",
    "    w = riskfolio_weights(df_period, rm, 'MaxRet')\n",
    "    print(w)"
   ]
  },
  {
   "cell_type": "code",
   "execution_count": null,
   "metadata": {
    "tags": []
   },
   "outputs": [],
   "source": []
  },
  {
   "cell_type": "code",
   "execution_count": 25,
   "metadata": {
    "tags": []
   },
   "outputs": [
    {
     "data": {
      "text/html": [
       "<div>\n",
       "<style scoped>\n",
       "    .dataframe tbody tr th:only-of-type {\n",
       "        vertical-align: middle;\n",
       "    }\n",
       "\n",
       "    .dataframe tbody tr th {\n",
       "        vertical-align: top;\n",
       "    }\n",
       "\n",
       "    .dataframe thead th {\n",
       "        text-align: right;\n",
       "    }\n",
       "</style>\n",
       "<table border=\"1\" class=\"dataframe\">\n",
       "  <thead>\n",
       "    <tr style=\"text-align: right;\">\n",
       "      <th></th>\n",
       "      <th>weights</th>\n",
       "    </tr>\n",
       "  </thead>\n",
       "  <tbody>\n",
       "    <tr>\n",
       "      <th>ETHFI-USDT</th>\n",
       "      <td>0.016718167</td>\n",
       "    </tr>\n",
       "    <tr>\n",
       "      <th>ONDO-USDT</th>\n",
       "      <td>0.462106652</td>\n",
       "    </tr>\n",
       "    <tr>\n",
       "      <th>TOKEN-USDT</th>\n",
       "      <td>0.521174797</td>\n",
       "    </tr>\n",
       "  </tbody>\n",
       "</table>\n",
       "</div>"
      ],
      "text/plain": [
       "                weights\n",
       "ETHFI-USDT  0.016718167\n",
       "ONDO-USDT   0.462106652\n",
       "TOKEN-USDT  0.521174797"
      ]
     },
     "metadata": {},
     "output_type": "display_data"
    }
   ],
   "source": [
    "# First we need to delete the cardinality constraint\n",
    "port.card = None \n",
    "\n",
    "# Then we need to set the constraint on the minimum number of effective assets\n",
    "port.nea = 2\n",
    "\n",
    "w = port.optimization(model=model, rm=rm, obj=obj, rf=rf, l=l, hist=hist)\n",
    "\n",
    "display(w[w.weights > 0.01])"
   ]
  },
  {
   "cell_type": "code",
   "execution_count": 28,
   "metadata": {
    "tags": []
   },
   "outputs": [
    {
     "name": "stdout",
     "output_type": "stream",
     "text": [
      "Number of Assets: 14\n",
      "Number of Effective Assets: 9.99999858246235\n"
     ]
    },
    {
     "name": "stderr",
     "output_type": "stream",
     "text": [
      "D:\\Soft\\Anaconda\\envs\\t\\Lib\\site-packages\\numpy\\core\\fromnumeric.py:86: FutureWarning: The behavior of DataFrame.sum with axis=None is deprecated, in a future version this will reduce over both axes and return a scalar. To retain the old behavior, pass axis=0 (or do not pass axis)\n",
      "  return reduction(axis=axis, out=out, **passkwargs)\n"
     ]
    }
   ],
   "source": [
    "# Number of assets in portfolio\n",
    "n_assets = np.sum(np.where(np.round(w,4) > 0, 1, 0)).item()\n",
    "\n",
    "# Number of effective assets in portfolio\n",
    "nea = 1/np.sum(w ** 2).item()\n",
    "\n",
    "print('Number of Assets:', n_assets)\n",
    "print('Number of Effective Assets:', nea)"
   ]
  },
  {
   "cell_type": "markdown",
   "metadata": {},
   "source": [
    "### 4. Sell portfolio"
   ]
  },
  {
   "cell_type": "code",
   "execution_count": 18,
   "metadata": {},
   "outputs": [
    {
     "name": "stdout",
     "output_type": "stream",
     "text": [
      "{'opt_method': 'max_sharpe', 'base': ['index'], 'markets': {'ADA-BTC': 647.583133356188, 'AVAX-BTC': 19.2435189120272, 'DOGE-BTC': 1595.947219604147, 'ETC-BTC': 17.649557037172347, 'ONT-BTC': 105.2389705882353, 'RUNE-BTC': 8.051865907653385, 'XMR-BTC': 0.5688474256022674}}\n",
      "Current balance: 0.09769360876527733\n"
     ]
    }
   ],
   "source": [
    "portfolio = portfolio_data['markets']\n",
    "balance = sell_portfolio(portfolio)\n",
    "print('Current balance:', balance)  "
   ]
  },
  {
   "cell_type": "code",
   "execution_count": 39,
   "metadata": {},
   "outputs": [],
   "source": [
    "balance = 0.2"
   ]
  },
  {
   "cell_type": "markdown",
   "metadata": {},
   "source": [
    "### 5. Set new portfolio"
   ]
  },
  {
   "cell_type": "code",
   "execution_count": 40,
   "metadata": {},
   "outputs": [
    {
     "data": {
      "text/plain": [
       "{'ADA-BTC': 1220.7858048162232,\n",
       " 'CTSI-BTC': 1544.097807757167,\n",
       " 'ETC-BTC': 33.56746946583607,\n",
       " 'ETH-BTC': 0.34019285042333025,\n",
       " 'ONT-BTC': 491.70230966638155,\n",
       " 'RUNE-BTC': 15.038899247733559,\n",
       " 'LTC-BTC': 0.41952,\n",
       " 'XVG-BTC': 2419.512195121951}"
      ]
     },
     "execution_count": 40,
     "metadata": {},
     "output_type": "execute_result"
    }
   ],
   "source": [
    "portfolio = set_new_portfolio(exchange,dfw, balance)\n",
    "portfolio"
   ]
  },
  {
   "cell_type": "markdown",
   "metadata": {},
   "source": [
    "### 6. Buy portfolio"
   ]
  },
  {
   "cell_type": "code",
   "execution_count": 41,
   "metadata": {},
   "outputs": [
    {
     "name": "stdout",
     "output_type": "stream",
     "text": [
      "ADA-BTC 1220.7858048162232\n",
      "CTSI-BTC 1544.097807757167\n",
      "ETC-BTC 33.56746946583607\n",
      "ETH-BTC 0.34019285042333025\n",
      "ONT-BTC 491.70230966638155\n",
      "RUNE-BTC 15.038899247733559\n",
      "LTC-BTC 0.41952\n",
      "XVG-BTC 2419.512195121951\n"
     ]
    }
   ],
   "source": [
    "for market in portfolio.keys():\n",
    "    amount = portfolio[market]\n",
    "    print(market, amount)\n",
    "    price_buy =  create_market_buy_order(exchange, market, amount)\n",
    "\n",
    "portfolio_data['markets'] = portfolio    \n",
    "with open(portfolio_file, 'w') as f:\n",
    "    json.dump(portfolio_data, f)    "
   ]
  },
  {
   "cell_type": "markdown",
   "metadata": {},
   "source": [
    "### End"
   ]
  },
  {
   "cell_type": "markdown",
   "metadata": {},
   "source": [
    "## Stop limit orders"
   ]
  },
  {
   "cell_type": "code",
   "execution_count": 27,
   "metadata": {},
   "outputs": [
    {
     "name": "stdout",
     "output_type": "stream",
     "text": [
      "1714800797\n"
     ]
    }
   ],
   "source": [
    "side = 'sell'\n",
    "stop_price = 6\n",
    "limit_price = 6920\n",
    "params = {'stopPrice': stop_price }\n",
    "order =  exchange.createOrder(symbol, 'STOP_LOSS_LIMIT', side, amount, limit_price, params)\n",
    "print(order['id'])"
   ]
  },
  {
   "cell_type": "code",
   "execution_count": null,
   "metadata": {},
   "outputs": [],
   "source": [
    "inf = exchange.cancel_order(order['id'], symbol)"
   ]
  },
  {
   "cell_type": "code",
   "execution_count": null,
   "metadata": {},
   "outputs": [],
   "source": [
    "#Типы поддерживаемых ордеров\n",
    "\n",
    "from pprint import pprint\n",
    "import ccxt\n",
    "exchange = ccxt.binance()\n",
    "exchange.load_markets()\n",
    "pprint(exchange.markets['BTC/USDT'])"
   ]
  },
  {
   "cell_type": "markdown",
   "metadata": {},
   "source": [
    "## Skew"
   ]
  },
  {
   "cell_type": "code",
   "execution_count": 3,
   "metadata": {},
   "outputs": [],
   "source": [
    "from scipy.stats import skew, skewtest"
   ]
  },
  {
   "cell_type": "code",
   "execution_count": 1,
   "metadata": {},
   "outputs": [],
   "source": [
    "timeframes = ['1m', '3m', '5m',  '15m', '30m', '1h', '2h']"
   ]
  },
  {
   "cell_type": "code",
   "execution_count": 20,
   "metadata": {},
   "outputs": [],
   "source": [
    "skew_list = []\n",
    "for tf in timeframes:\n",
    "    prices = read_data('BTC-USDT', tf)\n",
    "    dret = daily_returns(prices['C'])\n",
    "    skew_list.append([tf, skew(dret)])\n",
    "    \n",
    "df_skew = pd.DataFrame(skew_list)    \n",
    "df_skew.columns = ['tf', 'skew']    "
   ]
  },
  {
   "cell_type": "code",
   "execution_count": 21,
   "metadata": {},
   "outputs": [
    {
     "data": {
      "text/html": [
       "<div>\n",
       "<style scoped>\n",
       "    .dataframe tbody tr th:only-of-type {\n",
       "        vertical-align: middle;\n",
       "    }\n",
       "\n",
       "    .dataframe tbody tr th {\n",
       "        vertical-align: top;\n",
       "    }\n",
       "\n",
       "    .dataframe thead th {\n",
       "        text-align: right;\n",
       "    }\n",
       "</style>\n",
       "<table border=\"1\" class=\"dataframe\">\n",
       "  <thead>\n",
       "    <tr style=\"text-align: right;\">\n",
       "      <th></th>\n",
       "      <th>tf</th>\n",
       "      <th>skew</th>\n",
       "    </tr>\n",
       "  </thead>\n",
       "  <tbody>\n",
       "    <tr>\n",
       "      <th>0</th>\n",
       "      <td>1m</td>\n",
       "      <td>0.294967222</td>\n",
       "    </tr>\n",
       "    <tr>\n",
       "      <th>1</th>\n",
       "      <td>3m</td>\n",
       "      <td>0.675015277</td>\n",
       "    </tr>\n",
       "    <tr>\n",
       "      <th>2</th>\n",
       "      <td>5m</td>\n",
       "      <td>0.355812883</td>\n",
       "    </tr>\n",
       "    <tr>\n",
       "      <th>4</th>\n",
       "      <td>30m</td>\n",
       "      <td>0.404607105</td>\n",
       "    </tr>\n",
       "    <tr>\n",
       "      <th>5</th>\n",
       "      <td>1h</td>\n",
       "      <td>0.207761672</td>\n",
       "    </tr>\n",
       "    <tr>\n",
       "      <th>7</th>\n",
       "      <td>4h</td>\n",
       "      <td>0.834205604</td>\n",
       "    </tr>\n",
       "    <tr>\n",
       "      <th>8</th>\n",
       "      <td>6h</td>\n",
       "      <td>0.556794138</td>\n",
       "    </tr>\n",
       "  </tbody>\n",
       "</table>\n",
       "</div>"
      ],
      "text/plain": [
       "    tf         skew\n",
       "0   1m  0.294967222\n",
       "1   3m  0.675015277\n",
       "2   5m  0.355812883\n",
       "4  30m  0.404607105\n",
       "5   1h  0.207761672\n",
       "7   4h  0.834205604\n",
       "8   6h  0.556794138"
      ]
     },
     "execution_count": 21,
     "metadata": {},
     "output_type": "execute_result"
    }
   ],
   "source": [
    "skew_treshold = 0.15\n",
    "df_skew[df_skew['skew'] > skew_treshold]"
   ]
  },
  {
   "cell_type": "code",
   "execution_count": 126,
   "metadata": {},
   "outputs": [
    {
     "data": {
      "text/plain": [
       "10.23"
      ]
     },
     "execution_count": 126,
     "metadata": {},
     "output_type": "execute_result"
    }
   ],
   "source": [
    "round(10.23234234, 2)"
   ]
  }
 ],
 "metadata": {
  "kernelspec": {
   "display_name": "t",
   "language": "python",
   "name": "t"
  },
  "language_info": {
   "codemirror_mode": {
    "name": "ipython",
    "version": 3
   },
   "file_extension": ".py",
   "mimetype": "text/x-python",
   "name": "python",
   "nbconvert_exporter": "python",
   "pygments_lexer": "ipython3",
   "version": "3.11.7"
  }
 },
 "nbformat": 4,
 "nbformat_minor": 4
}
