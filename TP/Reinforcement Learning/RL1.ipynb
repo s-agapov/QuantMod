{
 "cells": [
  {
   "cell_type": "code",
   "execution_count": 2,
   "metadata": {},
   "outputs": [
    {
     "name": "stdout",
     "output_type": "stream",
     "text": [
      "Requirement already satisfied: gym in /home/jupyterlab/.local/lib/python3.6/site-packages (0.17.1)\n",
      "Requirement already satisfied: numpy>=1.10.4 in /home/jupyterlab/conda/envs/python/lib/python3.6/site-packages (from gym) (1.18.1)\n",
      "Requirement already satisfied: cloudpickle<1.4.0,>=1.2.0 in /home/jupyterlab/.local/lib/python3.6/site-packages (from gym) (1.3.0)\n",
      "Requirement already satisfied: scipy in /home/jupyterlab/conda/envs/python/lib/python3.6/site-packages (from gym) (1.4.1)\n",
      "Requirement already satisfied: pyglet<=1.5.0,>=1.4.0 in /home/jupyterlab/.local/lib/python3.6/site-packages (from gym) (1.5.0)\n",
      "Requirement already satisfied: six in /home/jupyterlab/conda/envs/python/lib/python3.6/site-packages (from gym) (1.14.0)\n",
      "Requirement already satisfied: future in /home/jupyterlab/.local/lib/python3.6/site-packages (from pyglet<=1.5.0,>=1.4.0->gym) (0.18.2)\n"
     ]
    }
   ],
   "source": [
    "!pip install gym --user"
   ]
  },
  {
   "cell_type": "code",
   "execution_count": 3,
   "metadata": {},
   "outputs": [],
   "source": [
    "import gym\n"
   ]
  },
  {
   "cell_type": "code",
   "execution_count": 7,
   "metadata": {},
   "outputs": [],
   "source": []
  },
  {
   "cell_type": "code",
   "execution_count": null,
   "metadata": {},
   "outputs": [],
   "source": []
  },
  {
   "cell_type": "code",
   "execution_count": 7,
   "metadata": {},
   "outputs": [
    {
     "name": "stdout",
     "output_type": "stream",
     "text": [
      "Reward Sum on all episodes 0.0348\n",
      "Final Values Q-Table\n",
      "[[0.07882991 0.07258253 0.06225658 0.06838252]\n",
      " [0.05917275 0.02219412 0.0196884  0.06448568]\n",
      " [0.05505914 0.05386261 0.05011751 0.06295193]\n",
      " [0.05558174 0.049026   0.00464728 0.05323092]\n",
      " [0.08293357 0.02934102 0.14186913 0.03567599]\n",
      " [0.         0.         0.         0.        ]\n",
      " [0.04159297 0.02675464 0.01725004 0.01294609]\n",
      " [0.         0.         0.         0.        ]\n",
      " [0.02973929 0.03603065 0.257635   0.19222098]\n",
      " [0.05321873 0.12493406 0.15299202 0.01908788]\n",
      " [0.14406261 0.03983021 0.07577186 0.019281  ]\n",
      " [0.         0.         0.         0.        ]\n",
      " [0.         0.         0.         0.        ]\n",
      " [0.07974945 0.04072495 0.71192136 0.01958167]\n",
      " [0.         0.278264   0.23319674 0.96064554]\n",
      " [0.         0.         0.         0.        ]]\n"
     ]
    }
   ],
   "source": [
    "import numpy as np # 1. Load Environment and Q-table structure\n",
    "env = gym.make('FrozenLake-v0')\n",
    "Q = np.zeros([env.observation_space.n,env.action_space.n])\n",
    "# env.obeservation.n, env.action_space.n gives number of states and action in env loaded# 2. Parameters of Q-leanring\n",
    "eta = .628\n",
    "gma = .9\n",
    "epis = 5000\n",
    "rev_list = [] # rewards per episode calculate\n",
    "# 3. Q-learning Algorithm\n",
    "for i in range(epis):\n",
    "    # Reset environment\n",
    "    s = env.reset()\n",
    "    rAll = 0\n",
    "    d = False\n",
    "    j = 0\n",
    "        #The Q-Table learning algorithm\n",
    "    while j < 99:\n",
    "       # env.render()\n",
    "        j+=1\n",
    "        # Choose action from Q table\n",
    "        a = np.argmax(Q[s,:] + np.random.randn(1,env.action_space.n)*(1./(j+1)))\n",
    "        #Get new state & reward from environment\n",
    "        s1,r,d,_ = env.step(a)\n",
    "            #Update Q-Table with new knowledge\n",
    "        Q[s,a] = Q[s,a] + eta*(r + gma*np.max(Q[s1,:]) - Q[s,a])\n",
    "        rAll += r\n",
    "        s = s1\n",
    "        if d == True:\n",
    "                break\n",
    "    rev_list.append(rAll)\n",
    "        #env.render()\n",
    "    \n",
    "print (\"Reward Sum on all episodes \" + str(sum(rev_list)/epis))\n",
    "print (\"Final Values Q-Table\")\n",
    "print (Q)"
   ]
  },
  {
   "cell_type": "code",
   "execution_count": null,
   "metadata": {},
   "outputs": [],
   "source": []
  },
  {
   "cell_type": "code",
   "execution_count": null,
   "metadata": {},
   "outputs": [],
   "source": []
  },
  {
   "cell_type": "code",
   "execution_count": null,
   "metadata": {},
   "outputs": [],
   "source": []
  },
  {
   "cell_type": "code",
   "execution_count": null,
   "metadata": {},
   "outputs": [],
   "source": []
  }
 ],
 "metadata": {
  "kernelspec": {
   "display_name": "Python 3",
   "language": "python",
   "name": "python3"
  },
  "language_info": {
   "codemirror_mode": {
    "name": "ipython",
    "version": 3
   },
   "file_extension": ".py",
   "mimetype": "text/x-python",
   "name": "python",
   "nbconvert_exporter": "python",
   "pygments_lexer": "ipython3",
   "version": "3.6.10"
  }
 },
 "nbformat": 4,
 "nbformat_minor": 4
}
