{
 "cells": [
  {
   "cell_type": "code",
   "execution_count": 19,
   "metadata": {},
   "outputs": [
    {
     "name": "stdout",
     "output_type": "stream",
     "text": [
      "Requirement already satisfied: gym in /home/jupyterlab/.local/lib/python3.6/site-packages (0.17.1)\n",
      "Requirement already satisfied: numpy>=1.10.4 in /home/jupyterlab/conda/envs/python/lib/python3.6/site-packages (from gym) (1.18.1)\n",
      "Requirement already satisfied: cloudpickle<1.4.0,>=1.2.0 in /home/jupyterlab/.local/lib/python3.6/site-packages (from gym) (1.3.0)\n",
      "Requirement already satisfied: scipy in /home/jupyterlab/conda/envs/python/lib/python3.6/site-packages (from gym) (1.4.1)\n",
      "Requirement already satisfied: pyglet<=1.5.0,>=1.4.0 in /home/jupyterlab/.local/lib/python3.6/site-packages (from gym) (1.5.0)\n",
      "Requirement already satisfied: six in /home/jupyterlab/conda/envs/python/lib/python3.6/site-packages (from gym) (1.14.0)\n",
      "Requirement already satisfied: future in /home/jupyterlab/.local/lib/python3.6/site-packages (from pyglet<=1.5.0,>=1.4.0->gym) (0.18.2)\n"
     ]
    }
   ],
   "source": [
    "!pip install gym --user"
   ]
  },
  {
   "cell_type": "code",
   "execution_count": 70,
   "metadata": {},
   "outputs": [],
   "source": [
    "import math\n",
    "import numpy as np"
   ]
  },
  {
   "cell_type": "code",
   "execution_count": 78,
   "metadata": {},
   "outputs": [],
   "source": [
    "R = 0.14\n",
    "m = 4\n",
    "Rm = (1 + R/m)**m -1"
   ]
  },
  {
   "cell_type": "code",
   "execution_count": 109,
   "metadata": {},
   "outputs": [
    {
     "data": {
      "text/plain": [
       "0.14934202920715767"
      ]
     },
     "execution_count": 109,
     "metadata": {},
     "output_type": "execute_result"
    }
   ],
   "source": [
    "Rm = 0.14\n",
    "\n",
    "\n",
    "m = 1\n",
    "Rm = m*(math.exp(Rc/m) - 1) \n",
    "\n",
    "m = 12\n",
    "Rm = 0.14\n",
    "R = (1 + Rm/m)**m -1\n",
    "R"
   ]
  },
  {
   "cell_type": "code",
   "execution_count": 110,
   "metadata": {},
   "outputs": [
    {
     "data": {
      "text/plain": [
       "0.09568968514684517"
      ]
     },
     "execution_count": 110,
     "metadata": {},
     "output_type": "execute_result"
    }
   ],
   "source": [
    "Rm = 0.1\n",
    "m = 1\n",
    "Rc = m * np.log(1 + Rm/m)\n",
    "\n",
    "m = 12\n",
    "Rm = m*(math.exp(Rc/m) - 1) \n",
    "Rm"
   ]
  },
  {
   "cell_type": "code",
   "execution_count": 116,
   "metadata": {},
   "outputs": [
    {
     "data": {
      "text/plain": [
       "0.09568968514684517"
      ]
     },
     "execution_count": 116,
     "metadata": {},
     "output_type": "execute_result"
    }
   ],
   "source": [
    "(1.1**(1/12) - 1) * 12"
   ]
  },
  {
   "cell_type": "code",
   "execution_count": 1,
   "metadata": {},
   "outputs": [],
   "source": [
    "import torch\n",
    "import numpy as np\n",
    "import time\n",
    "import matplotlib.pyplot as plt\n",
    "%matplotlib inline"
   ]
  },
  {
   "cell_type": "code",
   "execution_count": 4,
   "metadata": {},
   "outputs": [],
   "source": [
    "env = gym.make('FrozenLakeNotSlippery-v0')"
   ]
  },
  {
   "cell_type": "code",
   "execution_count": 5,
   "metadata": {},
   "outputs": [
    {
     "name": "stdout",
     "output_type": "stream",
     "text": [
      "\n",
      "\u001b[41mS\u001b[0mFFF\n",
      "FHFH\n",
      "FFFH\n",
      "HFFG\n"
     ]
    }
   ],
   "source": [
    "env.render()\n"
   ]
  },
  {
   "cell_type": "code",
   "execution_count": 6,
   "metadata": {},
   "outputs": [
    {
     "name": "stdout",
     "output_type": "stream",
     "text": [
      "States =  16\n",
      "Actions =  4\n"
     ]
    }
   ],
   "source": [
    "number_of_states = env.observation_space.n\n",
    "number_of_actions = env.action_space.n\n",
    "print( \"States = \", number_of_states)\n",
    "print( \"Actions = \", number_of_actions)\n",
    "\n",
    "num_episodes = 1000\n",
    "steps_total = []\n",
    "rewards_total = []\n",
    "egreedy_total = []"
   ]
  },
  {
   "cell_type": "code",
   "execution_count": 7,
   "metadata": {},
   "outputs": [],
   "source": [
    "# PARAMS \n",
    "\n",
    "# Discount on reward\n",
    "gamma = 0.95\n",
    "\n",
    "# Factor to balance the ratio of action taken based on past experience to current situtation\n",
    "learning_rate = 0.9\n"
   ]
  },
  {
   "cell_type": "code",
   "execution_count": 8,
   "metadata": {},
   "outputs": [],
   "source": [
    "# exploit vs explore to find action\n",
    "# Start with 70% random actions to explore the environment\n",
    "# And with time, using decay to shift to more optimal actions learned from experience\n",
    "\n",
    "egreedy = 0.7\n",
    "egreedy_final = 0.1\n",
    "egreedy_decay = 0.999\n"
   ]
  },
  {
   "cell_type": "code",
   "execution_count": 9,
   "metadata": {},
   "outputs": [
    {
     "data": {
      "text/plain": [
       "tensor([[0., 0., 0., 0.],\n",
       "        [0., 0., 0., 0.],\n",
       "        [0., 0., 0., 0.],\n",
       "        [0., 0., 0., 0.],\n",
       "        [0., 0., 0., 0.],\n",
       "        [0., 0., 0., 0.],\n",
       "        [0., 0., 0., 0.],\n",
       "        [0., 0., 0., 0.],\n",
       "        [0., 0., 0., 0.],\n",
       "        [0., 0., 0., 0.],\n",
       "        [0., 0., 0., 0.],\n",
       "        [0., 0., 0., 0.],\n",
       "        [0., 0., 0., 0.],\n",
       "        [0., 0., 0., 0.],\n",
       "        [0., 0., 0., 0.],\n",
       "        [0., 0., 0., 0.]])"
      ]
     },
     "execution_count": 9,
     "metadata": {},
     "output_type": "execute_result"
    }
   ],
   "source": [
    "Q = torch.zeros([number_of_states, number_of_actions])\n",
    "Q"
   ]
  },
  {
   "cell_type": "code",
   "execution_count": 10,
   "metadata": {},
   "outputs": [
    {
     "name": "stdout",
     "output_type": "stream",
     "text": [
      "Episode: 0 Reward: 0.0 Steps Taken: 10\n",
      "Episode: 10 Reward: 0.0 Steps Taken: 10\n",
      "Episode: 20 Reward: 0.0 Steps Taken: 4\n",
      "Episode: 30 Reward: 0.0 Steps Taken: 8\n",
      "Episode: 40 Reward: 0.0 Steps Taken: 2\n",
      "Episode: 50 Reward: 0.0 Steps Taken: 10\n",
      "Episode: 60 Reward: 0.0 Steps Taken: 2\n",
      "Episode: 70 Reward: 0.0 Steps Taken: 6\n",
      "Episode: 80 Reward: 1.0 Steps Taken: 8\n",
      "Episode: 90 Reward: 1.0 Steps Taken: 10\n",
      "Episode: 100 Reward: 1.0 Steps Taken: 12\n",
      "Episode: 110 Reward: 1.0 Steps Taken: 6\n",
      "Episode: 120 Reward: 1.0 Steps Taken: 13\n",
      "Episode: 130 Reward: 0.0 Steps Taken: 5\n",
      "Episode: 140 Reward: 1.0 Steps Taken: 7\n",
      "Episode: 150 Reward: 1.0 Steps Taken: 7\n",
      "Episode: 160 Reward: 1.0 Steps Taken: 6\n",
      "Episode: 170 Reward: 1.0 Steps Taken: 6\n",
      "Episode: 180 Reward: 0.0 Steps Taken: 4\n",
      "Episode: 190 Reward: 0.0 Steps Taken: 4\n",
      "Episode: 200 Reward: 1.0 Steps Taken: 6\n",
      "Episode: 210 Reward: 1.0 Steps Taken: 6\n",
      "Episode: 220 Reward: 1.0 Steps Taken: 6\n",
      "Episode: 230 Reward: 1.0 Steps Taken: 6\n",
      "Episode: 240 Reward: 1.0 Steps Taken: 7\n",
      "Episode: 250 Reward: 1.0 Steps Taken: 6\n",
      "Episode: 260 Reward: 1.0 Steps Taken: 6\n",
      "Episode: 270 Reward: 1.0 Steps Taken: 6\n",
      "Episode: 280 Reward: 1.0 Steps Taken: 6\n",
      "Episode: 290 Reward: 1.0 Steps Taken: 6\n",
      "Episode: 300 Reward: 1.0 Steps Taken: 6\n",
      "Episode: 310 Reward: 1.0 Steps Taken: 6\n",
      "Episode: 320 Reward: 1.0 Steps Taken: 7\n",
      "Episode: 330 Reward: 1.0 Steps Taken: 6\n",
      "Episode: 340 Reward: 1.0 Steps Taken: 6\n",
      "Episode: 350 Reward: 0.0 Steps Taken: 4\n",
      "Episode: 360 Reward: 1.0 Steps Taken: 6\n",
      "Episode: 370 Reward: 1.0 Steps Taken: 6\n",
      "Episode: 380 Reward: 1.0 Steps Taken: 6\n",
      "Episode: 390 Reward: 1.0 Steps Taken: 9\n",
      "Episode: 400 Reward: 1.0 Steps Taken: 6\n",
      "Episode: 410 Reward: 1.0 Steps Taken: 7\n",
      "Episode: 420 Reward: 1.0 Steps Taken: 6\n",
      "Episode: 430 Reward: 1.0 Steps Taken: 6\n",
      "Episode: 440 Reward: 0.0 Steps Taken: 5\n",
      "Episode: 450 Reward: 1.0 Steps Taken: 6\n",
      "Episode: 460 Reward: 1.0 Steps Taken: 6\n",
      "Episode: 470 Reward: 1.0 Steps Taken: 6\n",
      "Episode: 480 Reward: 1.0 Steps Taken: 8\n",
      "Episode: 490 Reward: 1.0 Steps Taken: 7\n",
      "Episode: 500 Reward: 1.0 Steps Taken: 6\n",
      "Episode: 510 Reward: 1.0 Steps Taken: 6\n",
      "Episode: 520 Reward: 1.0 Steps Taken: 8\n",
      "Episode: 530 Reward: 0.0 Steps Taken: 4\n",
      "Episode: 540 Reward: 0.0 Steps Taken: 7\n",
      "Episode: 550 Reward: 1.0 Steps Taken: 7\n",
      "Episode: 560 Reward: 0.0 Steps Taken: 2\n",
      "Episode: 570 Reward: 1.0 Steps Taken: 6\n",
      "Episode: 580 Reward: 1.0 Steps Taken: 6\n",
      "Episode: 590 Reward: 1.0 Steps Taken: 6\n",
      "Episode: 600 Reward: 1.0 Steps Taken: 6\n",
      "Episode: 610 Reward: 1.0 Steps Taken: 6\n",
      "Episode: 620 Reward: 1.0 Steps Taken: 6\n",
      "Episode: 630 Reward: 1.0 Steps Taken: 6\n",
      "Episode: 640 Reward: 1.0 Steps Taken: 6\n",
      "Episode: 650 Reward: 1.0 Steps Taken: 6\n",
      "Episode: 660 Reward: 1.0 Steps Taken: 6\n",
      "Episode: 670 Reward: 1.0 Steps Taken: 6\n",
      "Episode: 680 Reward: 1.0 Steps Taken: 10\n",
      "Episode: 690 Reward: 1.0 Steps Taken: 8\n",
      "Episode: 700 Reward: 1.0 Steps Taken: 6\n",
      "Episode: 710 Reward: 1.0 Steps Taken: 6\n",
      "Episode: 720 Reward: 1.0 Steps Taken: 6\n",
      "Episode: 730 Reward: 0.0 Steps Taken: 4\n",
      "Episode: 740 Reward: 1.0 Steps Taken: 7\n",
      "Episode: 750 Reward: 1.0 Steps Taken: 6\n",
      "Episode: 760 Reward: 1.0 Steps Taken: 6\n",
      "Episode: 770 Reward: 0.0 Steps Taken: 4\n",
      "Episode: 780 Reward: 1.0 Steps Taken: 6\n",
      "Episode: 790 Reward: 1.0 Steps Taken: 9\n",
      "Episode: 800 Reward: 0.0 Steps Taken: 4\n",
      "Episode: 810 Reward: 1.0 Steps Taken: 6\n",
      "Episode: 820 Reward: 1.0 Steps Taken: 6\n",
      "Episode: 830 Reward: 1.0 Steps Taken: 6\n",
      "Episode: 840 Reward: 1.0 Steps Taken: 6\n",
      "Episode: 850 Reward: 1.0 Steps Taken: 6\n",
      "Episode: 860 Reward: 1.0 Steps Taken: 7\n",
      "Episode: 870 Reward: 1.0 Steps Taken: 6\n",
      "Episode: 880 Reward: 1.0 Steps Taken: 8\n",
      "Episode: 890 Reward: 1.0 Steps Taken: 7\n",
      "Episode: 900 Reward: 1.0 Steps Taken: 6\n",
      "Episode: 910 Reward: 1.0 Steps Taken: 6\n",
      "Episode: 920 Reward: 1.0 Steps Taken: 8\n",
      "Episode: 930 Reward: 1.0 Steps Taken: 6\n",
      "Episode: 940 Reward: 1.0 Steps Taken: 6\n",
      "Episode: 950 Reward: 1.0 Steps Taken: 6\n",
      "Episode: 960 Reward: 0.0 Steps Taken: 5\n",
      "Episode: 970 Reward: 1.0 Steps Taken: 7\n",
      "Episode: 980 Reward: 1.0 Steps Taken: 7\n",
      "Episode: 990 Reward: 1.0 Steps Taken: 6\n"
     ]
    }
   ],
   "source": [
    "for i_episode in range(num_episodes):\n",
    "    \n",
    "    # resets the environment\n",
    "    state = env.reset()\n",
    "    step = 0\n",
    "\n",
    "    while True:\n",
    "        \n",
    "        step += 1\n",
    "        \n",
    "        random_for_egreedy = torch.rand(1)[0]\n",
    "        \n",
    "\n",
    "        if random_for_egreedy > egreedy:      \n",
    "            random_values = Q[state] + torch.rand(1,number_of_actions) / 1000      \n",
    "            action = torch.max(random_values,1)[1][0]  \n",
    "            action = action.item()\n",
    "        else:\n",
    "            action = env.action_space.sample()\n",
    "            \n",
    "        if egreedy > egreedy_final:\n",
    "            egreedy *= egreedy_decay\n",
    "        \n",
    "        new_state, reward, done, info = env.step(action)\n",
    "\n",
    "        # Filling the Q Table\n",
    "        Q[state, action] = reward + gamma * torch.max(Q[new_state])\n",
    "        \n",
    "        # Setting new state for next action\n",
    "        state = new_state\n",
    "        \n",
    "        # env.render()\n",
    "        # time.sleep(0.4)\n",
    "        \n",
    "        if done:\n",
    "            steps_total.append(step)\n",
    "            rewards_total.append(reward)\n",
    "            egreedy_total.append(egreedy)\n",
    "            if i_episode % 10 == 0:\n",
    "                print('Episode: {} Reward: {} Steps Taken: {}'.format(i_episode,reward, step))\n",
    "            break"
   ]
  },
  {
   "cell_type": "code",
   "execution_count": 11,
   "metadata": {},
   "outputs": [
    {
     "name": "stdout",
     "output_type": "stream",
     "text": [
      "tensor([[0.7351, 0.6983, 0.7738, 0.7351],\n",
      "        [0.7351, 0.0000, 0.8145, 0.7738],\n",
      "        [0.7738, 0.8574, 0.7738, 0.8145],\n",
      "        [0.8145, 0.0000, 0.7738, 0.7738],\n",
      "        [0.6983, 0.6634, 0.0000, 0.7351],\n",
      "        [0.0000, 0.0000, 0.0000, 0.0000],\n",
      "        [0.0000, 0.9025, 0.0000, 0.8145],\n",
      "        [0.0000, 0.0000, 0.0000, 0.0000],\n",
      "        [0.0000, 0.0000, 0.0000, 0.6983],\n",
      "        [0.6634, 0.9025, 0.9025, 0.0000],\n",
      "        [0.8574, 0.9500, 0.0000, 0.8574],\n",
      "        [0.0000, 0.0000, 0.0000, 0.0000],\n",
      "        [0.0000, 0.0000, 0.0000, 0.0000],\n",
      "        [0.0000, 0.9025, 0.9500, 0.8574],\n",
      "        [0.9025, 0.9500, 1.0000, 0.9025],\n",
      "        [0.0000, 0.0000, 0.0000, 0.0000]])\n",
      "Percent of episodes finished successfully: 0.802\n",
      "Percent of episodes finished successfully (last 100 episodes): 0.88\n",
      "Average number of steps: 6.43\n",
      "Average number of steps (last 100 episodes): 6.43\n"
     ]
    }
   ],
   "source": [
    "print(Q)\n",
    "        \n",
    "print(\"Percent of episodes finished successfully: {0}\".format(sum(rewards_total)/num_episodes))\n",
    "print(\"Percent of episodes finished successfully (last 100 episodes): {0}\".format(sum(rewards_total[-100:])/100))\n",
    "\n",
    "print(\"Average number of steps: %.2f\" % (sum(steps_total)/num_episodes))\n",
    "print(\"Average number of steps (last 100 episodes): %.2f\" % (sum(steps_total[-100:])/100))"
   ]
  },
  {
   "cell_type": "code",
   "execution_count": 12,
   "metadata": {},
   "outputs": [
    {
     "data": {
      "image/png": "[encoded data removed]",
      "text/plain": [
       "<Figure size 864x360 with 1 Axes>"
      ]
     },
     "metadata": {
      "needs_background": "light"
     },
     "output_type": "display_data"
    }
   ],
   "source": [
    "plt.figure(figsize=(12,5))\n",
    "plt.title(\"Rewards\")\n",
    "plt.bar(torch.arange(len(rewards_total)), rewards_total, alpha=0.6, color='green', width=5)\n",
    "plt.show()\n"
   ]
  },
  {
   "cell_type": "code",
   "execution_count": 13,
   "metadata": {},
   "outputs": [
    {
     "data": {
      "image/png": "[encoded data removed]",
      "text/plain": [
       "<Figure size 864x360 with 1 Axes>"
      ]
     },
     "metadata": {
      "needs_background": "light"
     },
     "output_type": "display_data"
    }
   ],
   "source": [
    "plt.figure(figsize=(12,5))\n",
    "plt.title(\"Steps / Episode length\")\n",
    "plt.bar(torch.arange(len(steps_total)), steps_total, alpha=0.6, color='red', width=5)\n",
    "plt.show()"
   ]
  },
  {
   "cell_type": "code",
   "execution_count": 14,
   "metadata": {},
   "outputs": [
    {
     "data": {
      "image/png": "[encoded data removed]",
      "text/plain": [
       "<Figure size 864x360 with 1 Axes>"
      ]
     },
     "metadata": {
      "needs_background": "light"
     },
     "output_type": "display_data"
    }
   ],
   "source": [
    "plt.figure(figsize=(12,5))\n",
    "plt.title(\"Egreedy value\")\n",
    "plt.bar(torch.arange(len(egreedy_total)), egreedy_total, alpha=0.6, color='blue', width=5)\n",
    "plt.show()"
   ]
  },
  {
   "cell_type": "code",
   "execution_count": 58,
   "metadata": {},
   "outputs": [],
   "source": [
    "state = torch.rand(2, requires_grad=True)\n",
    "weight = torch.rand(2,3)\n",
    "actions = torch.matmul(state,weight)\n",
    "probs = torch.nn.Softmax(0)(actions)\n",
    "mp = probs.mean()"
   ]
  },
  {
   "cell_type": "code",
   "execution_count": 65,
   "metadata": {},
   "outputs": [
    {
     "data": {
      "text/plain": [
       "tensor([0., 0., 1.])"
      ]
     },
     "execution_count": 65,
     "metadata": {},
     "output_type": "execute_result"
    }
   ],
   "source": [
    "probs = torch.nn.Softmax(0)(torch.tensor([1000.0,2000.0,3000.0]))\n",
    "probs"
   ]
  },
  {
   "cell_type": "code",
   "execution_count": 61,
   "metadata": {},
   "outputs": [
    {
     "data": {
      "text/plain": [
       "tensor([-9.5023e-09, -1.2256e-08])"
      ]
     },
     "execution_count": 61,
     "metadata": {},
     "output_type": "execute_result"
    }
   ],
   "source": [
    "state.grad"
   ]
  },
  {
   "cell_type": "code",
   "execution_count": 32,
   "metadata": {},
   "outputs": [
    {
     "data": {
      "text/plain": [
       "tensor([[0.3540, 0.0000, 0.0000],\n",
       "        [0.0000, 0.3089, 0.0000],\n",
       "        [0.0000, 0.0000, 0.3371]])"
      ]
     },
     "execution_count": 32,
     "metadata": {},
     "output_type": "execute_result"
    }
   ],
   "source": [
    "torch.diag(probs)"
   ]
  },
  {
   "cell_type": "code",
   "execution_count": 49,
   "metadata": {},
   "outputs": [
    {
     "data": {
      "text/plain": [
       "tensor([[0.3346],\n",
       "        [0.0088]])"
      ]
     },
     "execution_count": 49,
     "metadata": {},
     "output_type": "execute_result"
    }
   ],
   "source": [
    "probs.view(-1,1) * probs\n",
    "state.view(-1,1)"
   ]
  },
  {
   "cell_type": "code",
   "execution_count": null,
   "metadata": {},
   "outputs": [],
   "source": []
  },
  {
   "cell_type": "code",
   "execution_count": 39,
   "metadata": {},
   "outputs": [
    {
     "name": "stdout",
     "output_type": "stream",
     "text": [
      "tensor([[1., 1.],\n",
      "        [1., 1.]], requires_grad=True)\n"
     ]
    }
   ],
   "source": [
    "x = torch.ones(2, 2, requires_grad=True)\n",
    "print(x)"
   ]
  },
  {
   "cell_type": "code",
   "execution_count": 40,
   "metadata": {},
   "outputs": [
    {
     "name": "stdout",
     "output_type": "stream",
     "text": [
      "tensor([[3., 3.],\n",
      "        [3., 3.]], grad_fn=<AddBackward0>)\n"
     ]
    }
   ],
   "source": [
    "y = x + 2\n",
    "print(y)"
   ]
  },
  {
   "cell_type": "code",
   "execution_count": 45,
   "metadata": {},
   "outputs": [
    {
     "name": "stdout",
     "output_type": "stream",
     "text": [
      "tensor([[27., 27.],\n",
      "        [27., 27.]], grad_fn=<MulBackward0>)\n",
      "tensor(27., grad_fn=<MeanBackward0>)\n"
     ]
    }
   ],
   "source": [
    "z = y * y * 3\n",
    "out = z.mean()\n",
    "\n",
    "print(z)\n",
    "print(out)"
   ]
  },
  {
   "cell_type": "code",
   "execution_count": 42,
   "metadata": {},
   "outputs": [],
   "source": [
    "out.backward()"
   ]
  },
  {
   "cell_type": "code",
   "execution_count": 43,
   "metadata": {},
   "outputs": [
    {
     "name": "stdout",
     "output_type": "stream",
     "text": [
      "tensor([[4.5000, 4.5000],\n",
      "        [4.5000, 4.5000]])\n"
     ]
    }
   ],
   "source": [
    "print(x.grad)"
   ]
  },
  {
   "cell_type": "code",
   "execution_count": null,
   "metadata": {},
   "outputs": [],
   "source": []
  },
  {
   "cell_type": "code",
   "execution_count": null,
   "metadata": {},
   "outputs": [],
   "source": []
  },
  {
   "cell_type": "code",
   "execution_count": null,
   "metadata": {},
   "outputs": [],
   "source": [
    "\n"
   ]
  },
  {
   "cell_type": "code",
   "execution_count": null,
   "metadata": {},
   "outputs": [],
   "source": []
  },
  {
   "cell_type": "code",
   "execution_count": null,
   "metadata": {},
   "outputs": [],
   "source": []
  },
  {
   "cell_type": "code",
   "execution_count": null,
   "metadata": {},
   "outputs": [],
   "source": []
  },
  {
   "cell_type": "code",
   "execution_count": null,
   "metadata": {},
   "outputs": [],
   "source": []
  },
  {
   "cell_type": "code",
   "execution_count": null,
   "metadata": {},
   "outputs": [],
   "source": [
    "\n"
   ]
  },
  {
   "cell_type": "code",
   "execution_count": null,
   "metadata": {},
   "outputs": [],
   "source": []
  },
  {
   "cell_type": "code",
   "execution_count": null,
   "metadata": {},
   "outputs": [],
   "source": []
  },
  {
   "cell_type": "code",
   "execution_count": null,
   "metadata": {},
   "outputs": [],
   "source": [
    "   \n"
   ]
  },
  {
   "cell_type": "code",
   "execution_count": null,
   "metadata": {},
   "outputs": [],
   "source": [
    "\n",
    "    "
   ]
  },
  {
   "cell_type": "code",
   "execution_count": null,
   "metadata": {},
   "outputs": [],
   "source": [
    "x, y, z = int(input()), int(input()), int(input())\n",
    "if x >= y and x >= z:\n",
    "    Max = x\n",
    "if y >= x and y >= z:\n",
    "    Max = y\n",
    "if z >= x and z >= y:\n",
    "    Max = z\n",
    "if x <= y and x <= z:\n",
    "    Min = x\n",
    "if y <= x and y <= z:\n",
    "    Min = y\n",
    "if z <= x and z <= y:\n",
    "    Min = z\n",
    "s = x + y + z\n",
    "o = s - Max - Min\n",
    "print (str(Max) + \"\\n\" + str(Min) + \"\\n\" + str(o))\n"
   ]
  },
  {
   "cell_type": "code",
   "execution_count": null,
   "metadata": {},
   "outputs": [],
   "source": [
    "a = int(input())\n",
    "if a % 20 == 1 or a % 20 == 11 and (a - 11)%100 != 0 :\n",
    "    print(str(a) + str(\" программист\"))\n",
    "elif a % 20 == 2 or a % 20 == 12 and (a - 12) % 100 != 0:\n",
    "    print(str(a) + str(\" программиста\"))\n",
    "elif a % 20 == 3 or a % 20 == 13 and (a - 13) % 100 != 0:\n",
    "    print(str(a) + str(\" программиста\"))\n",
    "elif a % 20 == 4 or a % 20 == 14 and (a - 14) % 100 != 0:\n",
    "    print(str(a) + str(\" программиста\"))\n",
    "else:\n",
    "    print(str(a) + str(\" программистов\"))\n",
    "                       "
   ]
  },
  {
   "cell_type": "code",
   "execution_count": null,
   "metadata": {},
   "outputs": [],
   "source": [
    "132%20\n"
   ]
  },
  {
   "cell_type": "code",
   "execution_count": null,
   "metadata": {},
   "outputs": [],
   "source": [
    "311%20"
   ]
  },
  {
   "cell_type": "code",
   "execution_count": null,
   "metadata": {},
   "outputs": [],
   "source": [
    "861%20"
   ]
  },
  {
   "cell_type": "code",
   "execution_count": null,
   "metadata": {},
   "outputs": [],
   "source": [
    "123%100\n"
   ]
  },
  {
   "cell_type": "code",
   "execution_count": null,
   "metadata": {},
   "outputs": [],
   "source": [
    "a=\"123456\"\n",
    "a[0:3]\n",
    "\n"
   ]
  },
  {
   "cell_type": "code",
   "execution_count": null,
   "metadata": {},
   "outputs": [],
   "source": [
    "b = str(input())\n",
    "b = int(b)\n",
    "b1 = b // 1000\n",
    "b2 = b % 1000\n",
    "\n",
    "s1 = b1 // 100 + ((b1 % 100)//10)  + b1 % 10\n",
    "s2 = b2 // 100 + ((b2 % 100)//10)  + b2 % 10\n",
    "\n",
    "if s1 == s2:\n",
    "    print(\"Счастливый\")\n",
    "else:\n",
    "    print(\"Обычный\")\n"
   ]
  },
  {
   "cell_type": "code",
   "execution_count": null,
   "metadata": {},
   "outputs": [],
   "source": [
    "a = int(input())\n",
    "i = a\n",
    "s = 0\n",
    "while i != 0:\n",
    "    s = s + i\n",
    "    i = int(input())\n",
    "print(s) "
   ]
  },
  {
   "cell_type": "code",
   "execution_count": null,
   "metadata": {},
   "outputs": [],
   "source": [
    "a = int(input())\n",
    "i = a\n",
    "s = 0\n",
    "while i != 0:\n",
    "    s = s + i\n",
    "    i = int(input()) \n",
    "    if i == 0\n",
    "        print(0)\n",
    "print(s) "
   ]
  },
  {
   "cell_type": "code",
   "execution_count": null,
   "metadata": {},
   "outputs": [],
   "source": [
    "a = int(input())\n",
    "b = int(input())\n",
    "i = a\n",
    "j = b\n",
    "\n",
    "while i != 0 and j != 0:\n",
    "    if i > j:\n",
    "        i = i % j\n",
    "    else:\n",
    "        j = j % i\n",
    "\n",
    "print(int((a*b)/(i + j)))\n",
    "\n",
    "  "
   ]
  },
  {
   "cell_type": "code",
   "execution_count": null,
   "metadata": {},
   "outputs": [],
   "source": [
    "i = 0\n",
    "s = 0\n",
    "while i < 10:\n",
    "    i = i + 1\n",
    "    s = s + i\n",
    "    if s > 15:\n",
    "        continue\n",
    "    i = i + 1\n",
    "print(i)    "
   ]
  },
  {
   "cell_type": "markdown",
   "metadata": {},
   "source": [
    "i = 0\n",
    "while i <= 100:\n",
    "    i = int(input())\n",
    "    if i < 10:\n",
    "        continue\n",
    "    if i > 100:  \n",
    "        break\n",
    "    print(i)    "
   ]
  },
  {
   "cell_type": "code",
   "execution_count": null,
   "metadata": {},
   "outputs": [],
   "source": [
    "2+2\n"
   ]
  },
  {
   "cell_type": "markdown",
   "metadata": {},
   "source": [
    "a = int(input())\n",
    "b = int(input())\n",
    "c = int(input())\n",
    "d = int(input())\n",
    "\n",
    "for i in range(c, d+1):\n",
    "    print(\"\\t\", i, end='')\n",
    "    for j in range(a, b+1):\n",
    "        print(j)\n",
    "    "
   ]
  },
  {
   "cell_type": "code",
   "execution_count": null,
   "metadata": {},
   "outputs": [],
   "source": [
    "2+2"
   ]
  },
  {
   "cell_type": "code",
   "execution_count": null,
   "metadata": {},
   "outputs": [],
   "source": [
    "a = int(input())\n",
    "b = int(input())\n",
    "c = int(input())\n",
    "d = int(input())\n",
    "\n",
    "#for i in range(c, d+1):\n",
    " #   print(\"\\t\", i, end='')\n",
    "#print()    \n",
    "#for j in range(a, b+1):\n",
    " #print(j)\n",
    "\n"
   ]
  },
  {
   "cell_type": "code",
   "execution_count": null,
   "metadata": {},
   "outputs": [],
   "source": [
    "a = int(input())\n",
    "b = int(input())\n",
    "c = int(input())\n",
    "d = int(input())\n",
    "\n",
    "\n",
    "for r in range(c, d+1):\n",
    "    print(\"\\t\", r, end='')\n",
    "print()\n",
    "\n",
    "for i in range(a, b+1):\n",
    "    print( i, end='')\n",
    "    \n",
    "    for j in range(c, d+1):\n",
    "        print(\"\\t\", i*j, end='')\n",
    "    print()    "
   ]
  },
  {
   "cell_type": "code",
   "execution_count": null,
   "metadata": {},
   "outputs": [],
   "source": [
    "\n",
    "2\n"
   ]
  },
  {
   "cell_type": "code",
   "execution_count": null,
   "metadata": {},
   "outputs": [],
   "source": [
    "2+2"
   ]
  },
  {
   "cell_type": "code",
   "execution_count": null,
   "metadata": {},
   "outputs": [],
   "source": [
    "a = int(input())\n",
    "b = int(input())\n",
    "\n",
    "s = 0\n",
    "k = 0\n",
    "\n",
    "for i in range(a, b+1):\n",
    "    if i %3 == 0:\n",
    "        s = s + i\n",
    "        k = k + 1\n",
    "        \n",
    "print(s/k)"
   ]
  },
  {
   "cell_type": "code",
   "execution_count": null,
   "metadata": {},
   "outputs": [],
   "source": [
    "st = str(input())\n",
    "st = st.lower()\n",
    "\n",
    "C = int()\n",
    "G = int()\n",
    "C = st.count('c')\n",
    "G = st.count('g')\n",
    "ds = 0\n",
    "for i in st:\n",
    "    ds = ds+1\n",
    "print(((C + G)/ ds) * 100)\n"
   ]
  },
  {
   "cell_type": "code",
   "execution_count": null,
   "metadata": {},
   "outputs": [],
   "source": [
    "s = 'aTGcc'\n",
    "print(s.lower())"
   ]
  },
  {
   "cell_type": "code",
   "execution_count": null,
   "metadata": {},
   "outputs": [],
   "source": [
    "s = 'abcdefghijk'\n",
    "print(s[3:6])\n",
    "print(s[:6])\n",
    "print(s[3:])\n",
    "print(s[::-1])\n",
    "print(s[-3:])\n",
    "print(s[:-6])\n",
    "print(s[-1:-10:-2])"
   ]
  },
  {
   "cell_type": "code",
   "execution_count": null,
   "metadata": {},
   "outputs": [],
   "source": [
    "st = str(input())\n",
    "\n",
    "p = st[0]\n",
    "s = 1\n",
    "for i in st[1:]:\n",
    "    if p == i:\n",
    "        s = s + 1\n",
    "        p = i\n",
    "        \n",
    "    else:\n",
    "        print(str(p) + str(s), end='')\n",
    "        p = i\n",
    "        s = 1\n",
    "print(str(p) + str(s))\n",
    "            "
   ]
  },
  {
   "cell_type": "code",
   "execution_count": null,
   "metadata": {},
   "outputs": [],
   "source": [
    "2+2"
   ]
  },
  {
   "cell_type": "code",
   "execution_count": null,
   "metadata": {},
   "outputs": [],
   "source": [
    "2+2"
   ]
  },
  {
   "cell_type": "code",
   "execution_count": null,
   "metadata": {},
   "outputs": [],
   "source": [
    "students = ['Ivan', 'Masha', 'Sasha']\n",
    "students += ['Olga']\n",
    "students += 'Olga'\n",
    "print(students)"
   ]
  },
  {
   "cell_type": "code",
   "execution_count": null,
   "metadata": {},
   "outputs": [],
   "source": [
    "a = [1, 2, 3]\n",
    "b = a\n",
    "# значения списка b?\n",
    "print(b)\n",
    "\n",
    "a[1] = 10\n",
    "# значения списка b?\n",
    "print(b)\n",
    "b[0] = 20\n",
    "# значения списка a?\n",
    "\n",
    "print(a)\n",
    "a = [5, 6]\n",
    "# значения списка b?\n",
    "print(b)"
   ]
  },
  {
   "cell_type": "code",
   "execution_count": null,
   "metadata": {},
   "outputs": [],
   "source": [
    "txt = \"welcome to the jungle\"\n",
    "\n",
    "x = txt.split()\n",
    "\n",
    "print(x) "
   ]
  },
  {
   "cell_type": "code",
   "execution_count": null,
   "metadata": {},
   "outputs": [],
   "source": [
    "st = str(input())\n",
    "sp = [int(i) for i in st.split()]\n",
    "s = 0\n",
    "for j in sp:\n",
    "    s = s + j\n",
    "print(s)\n",
    "\n",
    "\n"
   ]
  },
  {
   "cell_type": "code",
   "execution_count": null,
   "metadata": {},
   "outputs": [],
   "source": [
    "2+2"
   ]
  },
  {
   "cell_type": "code",
   "execution_count": null,
   "metadata": {},
   "outputs": [],
   "source": [
    "sp = [int(i) for i in input().split()]\n",
    "s = 0\n",
    "\n",
    "ind = 0\n",
    "for i in sp:\n",
    "    if len(sp)== 1:\n",
    "        s = sp[0]    \n",
    "    elif ind == 0:      \n",
    "        s = sp[1] + sp[-1]       \n",
    "    elif  ind == len(sp) - 1:\n",
    "        s = sp[0] + sp[-2]\n",
    "    else:\n",
    "        s = sp[ind -1] + sp[ind + 1]        \n",
    "    print(s, end=' ')\n",
    "     \n",
    "    ind = ind + 1   \n",
    "                "
   ]
  },
  {
   "cell_type": "code",
   "execution_count": null,
   "metadata": {},
   "outputs": [],
   "source": [
    "2+2"
   ]
  },
  {
   "cell_type": "code",
   "execution_count": null,
   "metadata": {},
   "outputs": [],
   "source": [
    "sp = [int(i) for i in input().split()]\n",
    "#sp.sort() \n",
    "\n",
    "for i in set(sp):\n",
    "      if sp. count(i)> 1:\n",
    "        print (i, end=' ')  \n",
    "\n"
   ]
  },
  {
   "cell_type": "code",
   "execution_count": null,
   "metadata": {},
   "outputs": [],
   "source": [
    "2+2"
   ]
  },
  {
   "cell_type": "code",
   "execution_count": null,
   "metadata": {},
   "outputs": [],
   "source": [
    "sv = 0\n",
    "sk = 0\n",
    "f = True\n",
    "while f == True:\n",
    "    a = int(input())\n",
    "    sv = sv + a\n",
    "    sk = sk + (a * a)\n",
    "        #print(sv, sk)\n",
    "    if sv == 0:\n",
    "        print(sk)\n",
    "        f = False\n",
    "    \n",
    "            \n",
    "            \n",
    "        \n",
    "        "
   ]
  },
  {
   "cell_type": "code",
   "execution_count": null,
   "metadata": {},
   "outputs": [],
   "source": [
    "-3*-3\n"
   ]
  },
  {
   "cell_type": "code",
   "execution_count": null,
   "metadata": {},
   "outputs": [],
   "source": [
    "a = int(input())\n",
    "i = 1\n",
    "sp = []\n",
    "\n",
    "for i in range(1, a + 1):\n",
    "    for x in range(i):        \n",
    "        sp.append(i)\n",
    "print(*sp)\n",
    "sp1 = (sp[0: a])\n",
    "for j in range(len(sp1)):\n",
    "    print(sp[j], end=' ')\n",
    "           \n",
    "    \n"
   ]
  },
  {
   "cell_type": "code",
   "execution_count": null,
   "metadata": {},
   "outputs": [],
   "source": [
    "a = [1] * 3\n",
    "b = str(a)\n",
    "print(b)"
   ]
  },
  {
   "cell_type": "code",
   "execution_count": null,
   "metadata": {},
   "outputs": [],
   "source": [
    "#a= [print(5, end = ' ') for x in range(5)]\n",
    "' '.join([str(i)] *5)\n"
   ]
  },
  {
   "cell_type": "code",
   "execution_count": null,
   "metadata": {},
   "outputs": [],
   "source": [
    "i = int(input())\n",
    "\n",
    "for x in i:\n",
    "    print(i, end=' ')\n",
    "   "
   ]
  },
  {
   "cell_type": "code",
   "execution_count": null,
   "metadata": {},
   "outputs": [],
   "source": [
    "lst = [int(i) for i in input().split()]\n",
    "x = int(input())\n",
    "\n"
   ]
  },
  {
   "cell_type": "code",
   "execution_count": null,
   "metadata": {},
   "outputs": [],
   "source": [
    "ind = 0\n",
    "y = 0\n",
    "\n",
    "for j in lst:\n",
    "    if j == x:\n",
    "        y = y + 1\n",
    "        print(ind, end=' ')\n",
    "        ind = ind + 1\n",
    "    elif j != x:\n",
    "        ind = ind +1   \n",
    "        \n",
    "if y == 0:\n",
    "    print('Отсутствует')\n",
    "        \n",
    "        "
   ]
  },
  {
   "cell_type": "code",
   "execution_count": null,
   "metadata": {},
   "outputs": [],
   "source": [
    "a = [[0 for j in range(5)] for i in range(5)]"
   ]
  },
  {
   "cell_type": "code",
   "execution_count": null,
   "metadata": {},
   "outputs": [],
   "source": [
    "a"
   ]
  },
  {
   "cell_type": "code",
   "execution_count": null,
   "metadata": {},
   "outputs": [],
   "source": [
    "a = int(input())\n",
    "b = int(input())\n",
    "c = int(input())\n",
    "d = int(input())\n",
    "\n",
    "\n",
    "for r in range(c, d+1):\n",
    "    print(\"\\t\", r, end='')\n",
    "print()\n",
    "\n",
    "for i in range(a, b+1):\n",
    "    print( i, end='')\n",
    "    \n",
    "    for j in range(c, d+1):\n",
    "        print(\"\\t\", i*j, end='')\n",
    "    print() \n",
    "    "
   ]
  },
  {
   "cell_type": "code",
   "execution_count": null,
   "metadata": {},
   "outputs": [],
   "source": [
    "2+2\n"
   ]
  },
  {
   "cell_type": "code",
   "execution_count": null,
   "metadata": {},
   "outputs": [],
   "source": [
    "n = int(input())\n",
    "sp = [i+1 for i in range(n * n)]\n",
    "print(sp)\n",
    "print(*sp[0: n])\n",
    "\n",
    "#for j in sp[n: ]:\n",
    "    \n",
    "    \n",
    "    \n"
   ]
  },
  {
   "cell_type": "code",
   "execution_count": null,
   "metadata": {},
   "outputs": [],
   "source": [
    "def f(n):\n",
    "    return n * 10 + 5"
   ]
  },
  {
   "cell_type": "code",
   "execution_count": null,
   "metadata": {},
   "outputs": [],
   "source": [
    "[i for i in range(8) if i%2!=0]\n",
    "[i for i in range(8) if i%2!=0]\n",
    "lst = [10, 5, 8, 3, 1]\n",
    "[x for x in lst if x%2 == 0]"
   ]
  },
  {
   "cell_type": "code",
   "execution_count": null,
   "metadata": {},
   "outputs": [],
   "source": [
    "def md(lst):\n",
    "    xx = [x // 2 for x in lst if x%2 == 0]\n",
    "    return xx\n",
    "\n",
    "lst = [10, 5, 8, 3, 1,16]\n",
    "xx = md(lst)\n",
    "#print('ww', lst)  \n",
    "print(lst, xx)\n",
    "\n",
    "del lst[:]"
   ]
  },
  {
   "cell_type": "code",
   "execution_count": null,
   "metadata": {},
   "outputs": [],
   "source": [
    "def modify_list(l):\n",
    "    # put your python code here\n",
    "    #a = l\n",
    "    print(l)\n",
    "    for i in l:\n",
    "        if i %2 != 0:\n",
    "            l.remove(i)\n",
    "        print('h ', l)\n",
    "        \n",
    "    \n",
    "    \n",
    "\n",
    "\n",
    "\n",
    "           "
   ]
  },
  {
   "cell_type": "code",
   "execution_count": null,
   "metadata": {},
   "outputs": [],
   "source": [
    "lst = [10, 5, 8, 3, 1]\n",
    "modify_list(lst)\n",
    "print('ww', lst) "
   ]
  },
  {
   "cell_type": "code",
   "execution_count": null,
   "metadata": {},
   "outputs": [],
   "source": [
    "2+2"
   ]
  },
  {
   "cell_type": "code",
   "execution_count": null,
   "metadata": {},
   "outputs": [],
   "source": [
    "st = str(input())\n",
    "d = {}\n",
    "d = eval(st)\n",
    "\n",
    "print(d)\n"
   ]
  },
  {
   "cell_type": "code",
   "execution_count": null,
   "metadata": {},
   "outputs": [],
   "source": [
    "p = st[0]\n",
    "s = 1\n",
    "for i in st[1:]:\n",
    "    if p == i:\n",
    "        s = s + 1\n",
    "        p = i\n",
    "        \n",
    "    else:\n",
    "        print(str(p) + str(s), end='')\n",
    "        p = i\n",
    "        s = 1\n",
    "print(str(p) + str(s))"
   ]
  },
  {
   "cell_type": "code",
   "execution_count": null,
   "metadata": {},
   "outputs": [],
   "source": [
    "n = str(input())\n",
    "m = [] #инициализация списка\n",
    "m.append([str(s.lower()) for s in n.split()]) \n",
    "d = {} #инициализация пустого словаря\n",
    "li, lj = len(m), len(m[0])\n",
    "print(len(m[0]))\n",
    "print(len(m))\n",
    "for i in range(li):\n",
    "    for j in range(lj):\n",
    "        p = m[i][j]\n",
    "        if p in d:\n",
    "            d[p]+=1\n",
    "        else:\n",
    "            d[p] = 1\n",
    "for key,value in d.items():\n",
    "    print(key,value)"
   ]
  },
  {
   "cell_type": "code",
   "execution_count": null,
   "metadata": {},
   "outputs": [],
   "source": [
    "2+2\n"
   ]
  },
  {
   "cell_type": "code",
   "execution_count": null,
   "metadata": {},
   "outputs": [],
   "source": []
  },
  {
   "cell_type": "code",
   "execution_count": null,
   "metadata": {},
   "outputs": [],
   "source": []
  }
 ],
 "metadata": {
  "kernelspec": {
   "display_name": "Python 3",
   "language": "python",
   "name": "python3"
  },
  "language_info": {
   "codemirror_mode": {
    "name": "ipython",
    "version": 3
   },
   "file_extension": ".py",
   "mimetype": "text/x-python",
   "name": "python",
   "nbconvert_exporter": "python",
   "pygments_lexer": "ipython3",
   "version": "3.6.10"
  }
 },
 "nbformat": 4,
 "nbformat_minor": 4
}
