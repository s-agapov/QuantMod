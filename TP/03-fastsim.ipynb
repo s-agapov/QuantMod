{
 "cells": [
  {
   "cell_type": "code",
   "execution_count": 1,
   "metadata": {
    "tags": []
   },
   "outputs": [],
   "source": [
    "import numpy  as np \n",
    "import pandas as pd\n",
    "from sklearn.model_selection import TimeSeriesSplit\n",
    "\n",
    "from   glob   import glob\n",
    "import itertools\n",
    "import importlib\n",
    "import time\n",
    "from datetime import datetime\n",
    "import os\n",
    "\n",
    "from concurrent.futures import ProcessPoolExecutor\n",
    "\n",
    "from tp_config import *\n",
    "from tp_utils.data_provider import read_prices, read_data\n",
    "\n",
    "np.set_printoptions(edgeitems=30, linewidth=1000, formatter=dict(float=lambda x: \"%.3g\" % x))\n",
    "np.set_printoptions(precision=8)\n",
    "\n",
    "from IPython.display import Markdown, display\n",
    "def printmd(string):\n",
    "    display(Markdown(\"**\"+string+\"**\"))"
   ]
  },
  {
   "cell_type": "code",
   "execution_count": 2,
   "metadata": {
    "tags": []
   },
   "outputs": [
    {
     "ename": "ModuleNotFoundError",
     "evalue": "No module named 'talib'",
     "output_type": "error",
     "traceback": [
      "\u001b[1;31m---------------------------------------------------------------------------\u001b[0m",
      "\u001b[1;31mModuleNotFoundError\u001b[0m                       Traceback (most recent call last)",
      "Cell \u001b[1;32mIn[2], line 10\u001b[0m\n\u001b[0;32m      1\u001b[0m init_data \u001b[38;5;241m=\u001b[39m {\u001b[38;5;124m'\u001b[39m\u001b[38;5;124mexchange_commission\u001b[39m\u001b[38;5;124m'\u001b[39m: \u001b[38;5;241m0.0\u001b[39m, \u001b[38;5;66;03m#percent\u001b[39;00m\n\u001b[0;32m      2\u001b[0m \u001b[38;5;66;03m#             'start_capital'     : 1,\u001b[39;00m\n\u001b[0;32m      3\u001b[0m              \u001b[38;5;124m'\u001b[39m\u001b[38;5;124mbuy_correction\u001b[39m\u001b[38;5;124m'\u001b[39m    : \u001b[38;5;241m1.0001\u001b[39m,\n\u001b[1;32m   (...)\u001b[0m\n\u001b[0;32m      7\u001b[0m              \u001b[38;5;124m'\u001b[39m\u001b[38;5;124mkline\u001b[39m\u001b[38;5;124m'\u001b[39m             : \u001b[38;5;124m'\u001b[39m\u001b[38;5;124m'\u001b[39m  \n\u001b[0;32m      8\u001b[0m             }\n\u001b[1;32m---> 10\u001b[0m \u001b[38;5;28;01mfrom\u001b[39;00m \u001b[38;5;21;01mTA_robots\u001b[39;00m \u001b[38;5;28;01mimport\u001b[39;00m \u001b[38;5;241m*\u001b[39m\n\u001b[0;32m     11\u001b[0m robot \u001b[38;5;241m=\u001b[39m ma_2_crossover()\n\u001b[0;32m     12\u001b[0m params \u001b[38;5;241m=\u001b[39m robot\u001b[38;5;241m.\u001b[39mps_ranges\n",
      "File \u001b[1;32mD:\\Code\\Projects\\QuantMod\\tp\\TA_robots.py:3\u001b[0m\n\u001b[0;32m      1\u001b[0m \u001b[38;5;28;01mimport\u001b[39;00m \u001b[38;5;21;01mnumpy\u001b[39;00m \u001b[38;5;28;01mas\u001b[39;00m \u001b[38;5;21;01mnp\u001b[39;00m\n\u001b[0;32m      2\u001b[0m \u001b[38;5;28;01mimport\u001b[39;00m \u001b[38;5;21;01mpandas\u001b[39;00m \u001b[38;5;28;01mas\u001b[39;00m \u001b[38;5;21;01mpd\u001b[39;00m\n\u001b[1;32m----> 3\u001b[0m \u001b[38;5;28;01mimport\u001b[39;00m \u001b[38;5;21;01mtalib\u001b[39;00m\n\u001b[0;32m      4\u001b[0m \u001b[38;5;66;03m# signals 0:do nothing, 1:buy, -1:sell\u001b[39;00m\n\u001b[0;32m      6\u001b[0m test \u001b[38;5;241m=\u001b[39m [\u001b[38;5;124m'\u001b[39m\u001b[38;5;124mma_2_crossover\u001b[39m\u001b[38;5;124m'\u001b[39m, \u001b[38;5;124m'\u001b[39m\u001b[38;5;124mma_rsi\u001b[39m\u001b[38;5;124m'\u001b[39m]\n",
      "\u001b[1;31mModuleNotFoundError\u001b[0m: No module named 'talib'"
     ]
    }
   ],
   "source": [
    "init_data = {'exchange_commission': 0.0, #percent\n",
    "#             'start_capital'     : 1,\n",
    "             'buy_correction'    : 1.0001,\n",
    "             'sell_correction'   : 0.9999,\n",
    "             'robot_name'        : '',\n",
    "             'market'            : '',\n",
    "             'kline'             : ''  \n",
    "            }\n",
    "\n",
    "from TA_robots import *\n",
    "robot = ma_2_crossover()\n",
    "params = robot.ps_ranges\n",
    "\n",
    "prices = read_data('SOL-USDC', '5m')\n",
    "signals = robot.signals(prices, 16, 30)"
   ]
  },
  {
   "cell_type": "code",
   "execution_count": 73,
   "metadata": {},
   "outputs": [],
   "source": []
  },
  {
   "cell_type": "code",
   "execution_count": 3,
   "metadata": {},
   "outputs": [],
   "source": [
    "def fastsim_01(prices, signals, init_data):\n",
    "    \"\"\" Trade simulation with one contract\n",
    "    \"\"\"\n",
    "    commission      = init_data['exchange_commission']/100\n",
    "#    one_contract    = init_data['start_capital']\n",
    "    buy_correction  = init_data['buy_correction']\n",
    "    sell_correction = init_data['sell_correction']\n",
    "\n",
    "    s1 = signals[signals!=0]\n",
    "\n",
    "    if len(s1) == 0:\n",
    "        profit = np.zeros(1)\n",
    "        returns = np.zeros(1)\n",
    "        trades = 0\n",
    "    else:\n",
    "        inds = np.where(signals!=0)\n",
    "        s2 = s1 + 1\n",
    "        s3 = np.roll(s2,1)\n",
    "        s3[0] = 0\n",
    "        s4 = np.logical_xor(s2,s3)\n",
    "        inds1  = inds[0][s4]\n",
    "        trades = int(len(inds1)/2)\n",
    "        inds2 = inds1[:trades*2]\n",
    "        \n",
    "        start   = len(prices) - len(signals) \n",
    "        prices1 = prices[start:]\n",
    "        prices2 = prices1[inds2]\n",
    "        prices3 = prices2\n",
    "        prices3 = prices3.reshape(-1,2)\n",
    "        prices_sell = prices3[:,1]*sell_correction*(1 - commission)\n",
    "        prices_buy  = prices3[:,0]*buy_correction*(1 + commission) \n",
    "        profit =  prices_sell - prices_buy \n",
    "        returns = prices_sell/prices_buy - 1\n",
    "    return [profit, returns, trades]"
   ]
  },
  {
   "cell_type": "code",
   "execution_count": 75,
   "metadata": {},
   "outputs": [
    {
     "name": "stdout",
     "output_type": "stream",
     "text": [
      "302 µs ± 6.29 µs per loop (mean ± std. dev. of 7 runs, 1000 loops each)\n"
     ]
    }
   ],
   "source": [
    "test_prices = torch.zeros(100)\n",
    "test_signals = torch.Tensor(np.tile([1, - 1], 50))\n",
    "init_data = torch.Tensor([1,1,1])\n",
    "trades = fastsim_02(test_prices, test_signals, init_data)\n",
    "\n",
    "%timeit fastsim_02(test_prices, test_signals, init_data)"
   ]
  },
  {
   "cell_type": "code",
   "execution_count": null,
   "metadata": {},
   "outputs": [],
   "source": []
  },
  {
   "cell_type": "code",
   "execution_count": 78,
   "metadata": {},
   "outputs": [
    {
     "name": "stderr",
     "output_type": "stream",
     "text": [
      "D:\\Anaconda\\lib\\site-packages\\ipykernel_launcher.py:33: RuntimeWarning: invalid value encountered in true_divide\n"
     ]
    },
    {
     "name": "stdout",
     "output_type": "stream",
     "text": [
      "75.4 µs ± 991 ns per loop (mean ± std. dev. of 7 runs, 10000 loops each)\n"
     ]
    }
   ],
   "source": [
    "#Тесты\n",
    "test_prices = np.zeros(100)\n",
    "test_signals = np.tile([1, - 1], 50)\n",
    "trades = fastsim_01(test_prices, test_signals, init_data)\n",
    "%timeit fastsim_01(test_prices, test_signals, init_data)\n",
    "assert trades[0].sum() == 0\n",
    "\n",
    "test_prices = np.arange(1,101)\n",
    "trades = fastsim_01(test_prices, test_signals, init_data)\n",
    "#assert trades[0].sum() == 50"
   ]
  },
  {
   "cell_type": "code",
   "execution_count": null,
   "metadata": {},
   "outputs": [],
   "source": []
  },
  {
   "cell_type": "code",
   "execution_count": 4,
   "metadata": {},
   "outputs": [],
   "source": [
    "import collections\n",
    "from pyswarm import pso\n",
    "from TA_robots import ma_2_crossover, ma_2_crossover_ichimoku, kestner_ma, macd, rsi, ma_rsi,  rsi_ma\n",
    "#from empyrical import sharpe_ratio, sortino_ratio, calmar_ratio, omega_ratio\n",
    "    \n",
    "def max_drawdown(cum_profit):\n",
    "    high_val = np.maximum.accumulate(cum_profit)\n",
    "    drawdown = cum_profit - high_val\n",
    "    return drawdown\n",
    " \n",
    "def max_len(trades):\n",
    "    \"\"\" Возвращает максимальную длину последовательности минусовых сделок\"\"\"\n",
    "    xx = np.sign(trades[0])\n",
    "    s = 0\n",
    "    res = collections.defaultdict(int)\n",
    "    for i in range(xx.shape[0]):\n",
    "        if xx[i] == -1:\n",
    "            s = s + 1\n",
    "        else:\n",
    "            res[s] = res[s] + 1\n",
    "            s = 0\n",
    "    return max(res.keys())\n",
    "\n",
    "def opt_fun(params, swarmsize = 50, maxiter = 40, trials = 3):\n",
    "    lb = [x[0] for x in params]\n",
    "    ub = [x[1] for x in params]\n",
    "\n",
    "    prev_fopt = np.inf\n",
    "    # Run the optimization\n",
    "    for i in range(trials):\n",
    "        xopt, fopt = pso(obj_fun, lb, ub, swarmsize=swarmsize, maxiter=maxiter)\n",
    "        print('OPTIMAL PARAMETERS:')\n",
    "        \n",
    "        print([int(x) for x in xopt], '%5.4f' % -fopt)\n",
    "        if  fopt < prev_fopt:\n",
    "            best_xopt = xopt\n",
    "            best_fopt = fopt\n",
    "            prev_fopt = fopt\n",
    "    #fastsim_01(prices[\"C\"].values, signals, init_data)\n",
    "    return (best_xopt, best_fopt)\n",
    "\n",
    "def obj_fun(p):\n",
    "    xx = [int(x) for x in p]\n",
    "    signals = robot.signals(train_X, *xx)\n",
    "    trades = fastsim_01(train_X['C'].values, signals, init_data)\n",
    "    if trades[-1] == 0:\n",
    "        of = np.inf\n",
    "    else:\n",
    "        profit = trades[0]\n",
    "        dd = max_drawdown(profit.cumsum())\n",
    "        dd = [1] if len(dd) == 0 else dd\n",
    "        #of = profit.sum()/dd.min() * np.sqrt(trades[1])\n",
    "        #of = profit.sum()/dd.min()\n",
    "        #of = -profit.sum()/max_len(trades)        \n",
    "        of = -profit.sum()\n",
    "        #of = -dd.min()\n",
    "        #of = -omega_ratio(trades[1])* np.sqrt(trades[-1])\n",
    "        #of = -sharpe_ratio(trades[1]) * np.sqrt(trades[-1])\n",
    "        #of = -calmar_ratio(trades[1]) * trades[-1]\n",
    "    return of\n",
    "\n",
    "def get_robots() :\n",
    "    module  = importlib.import_module('TA_robots')\n",
    "    rnames = module.robots\n",
    "    #rnames = ['rsi']\n",
    "    robots = []\n",
    "    for robot_name in rnames:\n",
    "        cl = getattr(module, robot_name)\n",
    "        robot = cl()\n",
    "        robots.append(robot)\n",
    "    return robots\n",
    "\n",
    "        \n",
    "def stats(robot, p, prices):\n",
    "    xx = [int(x) for x in p]\n",
    "    signals = robot.signals(prices, *xx)\n",
    "    trades = fastsim_01(prices['C'].values, signals, init_data)\n",
    "    if trades[-1] == 0:\n",
    "        of = np.inf\n",
    "        return [0, -100, 0]\n",
    "    else:\n",
    "        profit = trades[0]\n",
    "        dd = max_drawdown(profit.cumsum())\n",
    "        dd = [1] if len(dd) == 0 else dd\n",
    "        #of = profit.sum()/dd.min() * trades[1] ** 1.5\n",
    "        #of = profit.sum()/dd.min()\n",
    "        #of = -profit.sum()/max_len(trades)        \n",
    "    return [profit.sum(), dd.min(), trades[-1]]\n",
    "\n",
    "from pylab import plt\n",
    "\n",
    "def test_robot(robot, params, prices):\n",
    "    signals = robot.signals(prices, *[int(x) for x in params])\n",
    "    trades  =  fastsim_01(prices[\"C\"].values, signals, init_data)\n",
    "\n",
    "    print(xopt)\n",
    "    res = pd.DataFrame()\n",
    "    res[\"cum_profit\"] = trades[0].cumsum()\n",
    "    res[\"cum_ret\"] = (trades[1] + 1).cumprod()\n",
    "    res['drawdown'] = max_drawdown(res[\"cum_profit\"])\n",
    "\n",
    "    fig, axes = plt.subplots(nrows=3, ncols=1, figsize = (10,8))\n",
    "\n",
    "    res['cum_profit'].plot(ax=axes[0])\n",
    "    res['drawdown'].plot(ax=axes[1]) \n",
    "    res[\"cum_ret\"].plot(ax = axes[2])\n",
    "    plt.show()"
   ]
  },
  {
   "cell_type": "code",
   "execution_count": null,
   "metadata": {},
   "outputs": [],
   "source": []
  },
  {
   "cell_type": "code",
   "execution_count": 11,
   "metadata": {},
   "outputs": [
    {
     "name": "stdout",
     "output_type": "stream",
     "text": [
      "Stopping search: maximum iterations reached --> 40\n",
      "OPTIMAL PARAMETERS:\n",
      "[56, 94] 0.0000\n",
      "Stopping search: maximum iterations reached --> 40\n",
      "OPTIMAL PARAMETERS:\n",
      "[56, 94] 0.0000\n",
      "Stopping search: maximum iterations reached --> 40\n",
      "OPTIMAL PARAMETERS:\n",
      "[56, 94] 0.0000\n"
     ]
    }
   ],
   "source": [
    "asset = 'LEND-BTC'\n",
    "prices = read_data(asset, '15m', '2018-02-06')\n",
    "train_X = prices\n",
    "#robot = rsi_ma()#_ichimoku() #rsi()\n",
    "robot = ma_2_crossover_ichimoku()\n",
    "robot = ma_2_crossover()\n",
    "\n",
    "\n",
    "# Bounds for parameters space\n",
    "params = robot.ps_ranges\n",
    "#params = ([14, 24], [36,44], [56,64])\n",
    "xopt, fopt = opt_fun(params, 50, 40)"
   ]
  },
  {
   "cell_type": "code",
   "execution_count": 12,
   "metadata": {},
   "outputs": [
    {
     "name": "stdout",
     "output_type": "stream",
     "text": [
      "[56.7016857  94.03499988]\n"
     ]
    },
    {
     "data": {
      "image/png": "[encoded data removed]",
      "text/plain": [
       "<Figure size 720x576 with 3 Axes>"
      ]
     },
     "metadata": {
      "needs_background": "light"
     },
     "output_type": "display_data"
    }
   ],
   "source": [
    "test_robot(robot,xopt,prices)"
   ]
  },
  {
   "cell_type": "code",
   "execution_count": 129,
   "metadata": {},
   "outputs": [],
   "source": [
    "from sklearn.model_selection import train_test_split\n",
    "from sklearn.model_selection import TimeSeriesSplit\n",
    "    \n",
    "asset = 'BNB-USDT'\n",
    "prices = read_data(asset, '1h', '2018-02-06')\n",
    "\n",
    "robot = rsi_ma()\n",
    "robot = ma_2_crossover()\n",
    "#robot = kestner_ma()\n",
    "params = robot.ps_ranges\n",
    "\n"
   ]
  },
  {
   "cell_type": "code",
   "execution_count": 135,
   "metadata": {},
   "outputs": [
    {
     "name": "stdout",
     "output_type": "stream",
     "text": [
      "1794 1791\n",
      "Test: profit 6.675399 dd -1.363165 trades 34\n",
      "3585 1791\n",
      "Test: profit -0.807974 dd -3.104452 trades 39\n",
      "5376 1791\n",
      "Test: profit -0.550054 dd -1.373680 trades 45\n",
      "7167 1791\n",
      "Test: profit 3.378913 dd -0.363291 trades 39\n",
      "8958 1791\n",
      "Test: profit 10.605993 dd -2.376513 trades 37\n",
      "10749 1791\n",
      "Test: profit 2.633308 dd -4.509865 trades 39\n",
      "12540 1791\n",
      "Test: profit -0.719908 dd -3.173142 trades 40\n",
      "14331 1791\n",
      "Test: profit -0.836222 dd -3.046366 trades 45\n",
      "16122 1791\n",
      "Test: profit 7.515454 dd -2.133078 trades 36\n",
      "17913 1791\n",
      "Test: profit 3.026564 dd -1.843500 trades 43\n"
     ]
    }
   ],
   "source": [
    "anchor = False\n",
    "tscv = TimeSeriesSplit(n_splits = 10)\n",
    "res = []\n",
    "i = 0\n",
    "k = 0 \n",
    "for train_index, test_index in tscv.split(prices):\n",
    "    if anchor :\n",
    "        i = i + 1\n",
    "        if i <= 5:\n",
    "            continue\n",
    "        else:\n",
    "            k = k + 1\n",
    "            train_index = train_index[len(test_index)*k:]\n",
    "            \n",
    "    print(len(train_index), len(test_index))\n",
    "    train_X = prices.iloc[train_index]\n",
    "    test_X = prices.iloc[test_index]\n",
    "    #xopt, fopt = opt_fun(params, 50, 50, 1)\n",
    "\n",
    "    #test_robot(robot,xopt,test_X)\n",
    "    profit, dd, trades = stats(robot, xopt, test_X)\n",
    "    res.append([profit, dd, trades])\n",
    "    print(\"Test: profit %f dd %f trades %d\"  %(profit, dd, trades))"
   ]
  },
  {
   "cell_type": "code",
   "execution_count": 136,
   "metadata": {},
   "outputs": [
    {
     "data": {
      "image/png": "[encoded data removed]",
      "text/plain": [
       "<Figure size 432x288 with 1 Axes>"
      ]
     },
     "metadata": {
      "needs_background": "light"
     },
     "output_type": "display_data"
    }
   ],
   "source": [
    "df = pd.DataFrame(res, columns = ['profit', 'dd', 'trades'])\n",
    "df['profit'].cumsum().plot()\n",
    "plt.show()"
   ]
  },
  {
   "cell_type": "code",
   "execution_count": 138,
   "metadata": {},
   "outputs": [
    {
     "data": {
      "text/plain": [
       "array([14.35287484, 24.96455316])"
      ]
     },
     "execution_count": 138,
     "metadata": {},
     "output_type": "execute_result"
    }
   ],
   "source": [
    "xopt"
   ]
  },
  {
   "cell_type": "code",
   "execution_count": 14,
   "metadata": {},
   "outputs": [
    {
     "name": "stdout",
     "output_type": "stream",
     "text": [
      "Stopping search: maximum iterations reached --> 50\n",
      "OPTIMAL PARAMETERS:\n",
      "[61, 160] 5.8516\n",
      "[ 61.13211915 160.        ]\n"
     ]
    },
    {
     "data": {
      "image/png": "[encoded data removed]",
      "text/plain": [
       "<Figure size 720x576 with 3 Axes>"
      ]
     },
     "metadata": {
      "needs_background": "light"
     },
     "output_type": "display_data"
    }
   ],
   "source": [
    "from sklearn.model_selection import train_test_split\n",
    "\n",
    "robot = ma_2_crossover()\n",
    "asset = 'BNB-USDT'\n",
    "prices = read_data(asset, '5m', '2018-02-06')\n",
    "robot = rsi_ma()\n",
    "robot = ma_2_crossover()\n",
    "params = robot.ps_ranges\n",
    "\n",
    "\n",
    "train_X, test_X = train_test_split(prices, train_size = 0.7, shuffle = False)\n",
    "\n",
    "xopt, fopt = opt_fun(params, 50, 50, 1)\n",
    "\n",
    "test_robot(robot,xopt,test_X)"
   ]
  },
  {
   "cell_type": "code",
   "execution_count": null,
   "metadata": {},
   "outputs": [],
   "source": []
  },
  {
   "cell_type": "code",
   "execution_count": 20,
   "metadata": {},
   "outputs": [],
   "source": []
  },
  {
   "cell_type": "markdown",
   "metadata": {},
   "source": [
    "## Mass"
   ]
  },
  {
   "cell_type": "code",
   "execution_count": null,
   "metadata": {},
   "outputs": [],
   "source": [
    "asset = 'BNB-BTC'\n",
    "\n",
    "tfs = ['5m', '15m', '30m', '1h', '2h', '4h', '6h']\n",
    "\n",
    "robot = ma_2_crossover()\n",
    "params = robot.ps_ranges\n",
    "\n",
    "res = []\n",
    "for tf in tfs:\n",
    "    print(tf)\n",
    "    prices = read_data(asset, tf, '2018-02-06')\n",
    "    xopt, fopt = opt_fun(params)\n",
    "    res.append([xopt, fopt])"
   ]
  },
  {
   "cell_type": "code",
   "execution_count": 12,
   "metadata": {},
   "outputs": [
    {
     "data": {
      "text/plain": [
       "['ETH-USDT']"
      ]
     },
     "execution_count": 12,
     "metadata": {},
     "output_type": "execute_result"
    }
   ],
   "source": [
    "assets[3:4]"
   ]
  },
  {
   "cell_type": "code",
   "execution_count": 22,
   "metadata": {},
   "outputs": [
    {
     "data": {
      "text/plain": [
       "[<TA_robots.ma_2_crossover at 0x2060f24f940>,\n",
       " <TA_robots.ma_2_crossover_ichimoku at 0x2060f24f550>,\n",
       " <TA_robots.kestner_ma at 0x2060f24fda0>,\n",
       " <TA_robots.ma_rsi at 0x2060f24f048>,\n",
       " <TA_robots.rsi_ma at 0x2060f24fe48>,\n",
       " <TA_robots.rsi at 0x2060f24f0f0>]"
      ]
     },
     "execution_count": 22,
     "metadata": {},
     "output_type": "execute_result"
    }
   ],
   "source": [
    "robots = get_robots()\n",
    "robots"
   ]
  },
  {
   "cell_type": "code",
   "execution_count": 9,
   "metadata": {},
   "outputs": [
    {
     "data": {
      "text/plain": [
       "[1, 4]"
      ]
     },
     "execution_count": 9,
     "metadata": {},
     "output_type": "execute_result"
    }
   ],
   "source": [
    "np.round([1.2, 3.5]).astype(int).tolist()"
   ]
  },
  {
   "cell_type": "code",
   "execution_count": 23,
   "metadata": {},
   "outputs": [
    {
     "data": {
      "text/markdown": [
       "**ma-2-crossover LEND-USDT 5m**"
      ],
      "text/plain": [
       "<IPython.core.display.Markdown object>"
      ]
     },
     "metadata": {},
     "output_type": "display_data"
    },
    {
     "name": "stdout",
     "output_type": "stream",
     "text": [
      "Stopping search: maximum iterations reached --> 50\n",
      "OPTIMAL PARAMETERS:\n",
      "[61, 160] 5.8516\n",
      "Stopping search: maximum iterations reached --> 50\n",
      "OPTIMAL PARAMETERS:\n",
      "[61, 160] 5.8516\n",
      "Stopping search: maximum iterations reached --> 50\n",
      "OPTIMAL PARAMETERS:\n",
      "[61, 160] 5.8516\n",
      "Test: profit 0.097591 dd -0.015003 trades 15\n"
     ]
    },
    {
     "data": {
      "text/markdown": [
       "**ma-2-crossover LEND-USDT 15m**"
      ],
      "text/plain": [
       "<IPython.core.display.Markdown object>"
      ]
     },
     "metadata": {},
     "output_type": "display_data"
    },
    {
     "name": "stdout",
     "output_type": "stream",
     "text": [
      "Stopping search: maximum iterations reached --> 50\n",
      "OPTIMAL PARAMETERS:\n",
      "[61, 160] 5.8516\n",
      "Stopping search: maximum iterations reached --> 50\n",
      "OPTIMAL PARAMETERS:\n",
      "[61, 160] 5.8516\n",
      "Stopping search: maximum iterations reached --> 50\n",
      "OPTIMAL PARAMETERS:\n",
      "[61, 160] 5.8516\n",
      "Test: profit 0.055668 dd -0.007678 trades 6\n"
     ]
    },
    {
     "data": {
      "text/markdown": [
       "**ma-2-crossover LEND-USDT 30m**"
      ],
      "text/plain": [
       "<IPython.core.display.Markdown object>"
      ]
     },
     "metadata": {},
     "output_type": "display_data"
    },
    {
     "name": "stdout",
     "output_type": "stream",
     "text": [
      "Stopping search: maximum iterations reached --> 50\n",
      "OPTIMAL PARAMETERS:\n",
      "[61, 160] 5.8516\n",
      "Stopping search: maximum iterations reached --> 50\n",
      "OPTIMAL PARAMETERS:\n",
      "[61, 160] 5.8516\n",
      "Stopping search: maximum iterations reached --> 50\n",
      "OPTIMAL PARAMETERS:\n",
      "[61, 160] 5.8516\n",
      "Test: profit 0.062156 dd -0.001464 trades 2\n"
     ]
    },
    {
     "data": {
      "text/markdown": [
       "**ma-2-crossover LEND-USDT 1h**"
      ],
      "text/plain": [
       "<IPython.core.display.Markdown object>"
      ]
     },
     "metadata": {},
     "output_type": "display_data"
    },
    {
     "name": "stdout",
     "output_type": "stream",
     "text": [
      "Stopping search: maximum iterations reached --> 50\n",
      "OPTIMAL PARAMETERS:\n",
      "[61, 160] 5.8516\n",
      "Stopping search: maximum iterations reached --> 50\n",
      "OPTIMAL PARAMETERS:\n",
      "[61, 160] 5.8516\n",
      "Stopping search: maximum iterations reached --> 50\n",
      "OPTIMAL PARAMETERS:\n",
      "[61, 160] 5.8516\n",
      "Test: profit 0.000000 dd -100.000000 trades 0\n"
     ]
    },
    {
     "data": {
      "text/markdown": [
       "**ma-2-crossover-ichimoku LEND-USDT 5m**"
      ],
      "text/plain": [
       "<IPython.core.display.Markdown object>"
      ]
     },
     "metadata": {},
     "output_type": "display_data"
    },
    {
     "name": "stdout",
     "output_type": "stream",
     "text": [
      "Stopping search: maximum iterations reached --> 50\n",
      "OPTIMAL PARAMETERS:\n",
      "[61, 157] 8.8992\n",
      "Stopping search: maximum iterations reached --> 50\n",
      "OPTIMAL PARAMETERS:\n",
      "[62, 155] 9.5006\n",
      "Stopping search: maximum iterations reached --> 50\n",
      "OPTIMAL PARAMETERS:\n",
      "[61, 157] 8.8992\n",
      "Test: profit 0.079649 dd -0.015354 trades 14\n"
     ]
    },
    {
     "data": {
      "text/markdown": [
       "**ma-2-crossover-ichimoku LEND-USDT 15m**"
      ],
      "text/plain": [
       "<IPython.core.display.Markdown object>"
      ]
     },
     "metadata": {},
     "output_type": "display_data"
    },
    {
     "name": "stdout",
     "output_type": "stream",
     "text": [
      "Stopping search: maximum iterations reached --> 50\n",
      "OPTIMAL PARAMETERS:\n",
      "[61, 157] 8.8992\n",
      "Stopping search: maximum iterations reached --> 50\n",
      "OPTIMAL PARAMETERS:\n",
      "[61, 157] 8.8992\n",
      "Stopping search: maximum iterations reached --> 50\n",
      "OPTIMAL PARAMETERS:\n",
      "[61, 157] 8.8992\n",
      "Test: profit 0.065307 dd -0.007359 trades 5\n"
     ]
    },
    {
     "data": {
      "text/markdown": [
       "**ma-2-crossover-ichimoku LEND-USDT 30m**"
      ],
      "text/plain": [
       "<IPython.core.display.Markdown object>"
      ]
     },
     "metadata": {},
     "output_type": "display_data"
    },
    {
     "name": "stdout",
     "output_type": "stream",
     "text": [
      "Stopping search: maximum iterations reached --> 50\n",
      "OPTIMAL PARAMETERS:\n",
      "[61, 159] 8.6702\n",
      "Stopping search: maximum iterations reached --> 50\n",
      "OPTIMAL PARAMETERS:\n",
      "[61, 157] 8.8992\n",
      "Stopping search: maximum iterations reached --> 50\n",
      "OPTIMAL PARAMETERS:\n",
      "[62, 155] 9.5006\n",
      "Test: profit 0.060711 dd 0.000000 trades 2\n"
     ]
    },
    {
     "data": {
      "text/markdown": [
       "**ma-2-crossover-ichimoku LEND-USDT 1h**"
      ],
      "text/plain": [
       "<IPython.core.display.Markdown object>"
      ]
     },
     "metadata": {},
     "output_type": "display_data"
    },
    {
     "name": "stdout",
     "output_type": "stream",
     "text": [
      "Stopping search: maximum iterations reached --> 50\n",
      "OPTIMAL PARAMETERS:\n",
      "[61, 157] 8.8992\n",
      "Stopping search: maximum iterations reached --> 50\n",
      "OPTIMAL PARAMETERS:\n",
      "[61, 159] 8.6702\n",
      "Stopping search: maximum iterations reached --> 50\n",
      "OPTIMAL PARAMETERS:\n",
      "[61, 157] 8.8992\n",
      "Test: profit 0.000000 dd -100.000000 trades 0\n"
     ]
    },
    {
     "data": {
      "text/markdown": [
       "**kestner-ma LEND-USDT 5m**"
      ],
      "text/plain": [
       "<IPython.core.display.Markdown object>"
      ]
     },
     "metadata": {},
     "output_type": "display_data"
    },
    {
     "name": "stdout",
     "output_type": "stream",
     "text": [
      "Stopping search: maximum iterations reached --> 50\n",
      "OPTIMAL PARAMETERS:\n",
      "[77, 19, 117, 30] 6.2150\n",
      "Stopping search: maximum iterations reached --> 50\n",
      "OPTIMAL PARAMETERS:\n",
      "[47, 72, 120, 30] 9.4595\n",
      "Stopping search: maximum iterations reached --> 50\n",
      "OPTIMAL PARAMETERS:\n",
      "[48, 78, 117, 30] 8.8853\n",
      "Test: profit 0.091673 dd -0.020098 trades 15\n"
     ]
    },
    {
     "data": {
      "text/markdown": [
       "**kestner-ma LEND-USDT 15m**"
      ],
      "text/plain": [
       "<IPython.core.display.Markdown object>"
      ]
     },
     "metadata": {},
     "output_type": "display_data"
    },
    {
     "name": "stdout",
     "output_type": "stream",
     "text": [
      "Stopping search: maximum iterations reached --> 50\n",
      "OPTIMAL PARAMETERS:\n",
      "[47, 72, 120, 30] 9.4595\n",
      "Stopping search: maximum iterations reached --> 50\n",
      "OPTIMAL PARAMETERS:\n",
      "[47, 72, 120, 30] 9.4595\n",
      "Stopping search: maximum iterations reached --> 50\n",
      "OPTIMAL PARAMETERS:\n",
      "[47, 72, 120, 30] 9.4595\n",
      "Test: profit 0.052989 dd -0.010044 trades 5\n"
     ]
    },
    {
     "data": {
      "text/markdown": [
       "**kestner-ma LEND-USDT 30m**"
      ],
      "text/plain": [
       "<IPython.core.display.Markdown object>"
      ]
     },
     "metadata": {},
     "output_type": "display_data"
    },
    {
     "name": "stdout",
     "output_type": "stream",
     "text": [
      "Stopping search: maximum iterations reached --> 50\n",
      "OPTIMAL PARAMETERS:\n",
      "[47, 72, 120, 30] 9.4595\n",
      "Stopping search: maximum iterations reached --> 50\n",
      "OPTIMAL PARAMETERS:\n",
      "[64, 45, 118, 30] 6.6317\n",
      "Stopping search: maximum iterations reached --> 50\n",
      "OPTIMAL PARAMETERS:\n",
      "[56, 72, 120, 30] 8.6681\n",
      "Test: profit 0.048375 dd 0.000000 trades 3\n"
     ]
    },
    {
     "data": {
      "text/markdown": [
       "**kestner-ma LEND-USDT 1h**"
      ],
      "text/plain": [
       "<IPython.core.display.Markdown object>"
      ]
     },
     "metadata": {},
     "output_type": "display_data"
    },
    {
     "name": "stdout",
     "output_type": "stream",
     "text": [
      "Stopping search: maximum iterations reached --> 50\n",
      "OPTIMAL PARAMETERS:\n",
      "[47, 72, 120, 30] 9.4595\n",
      "Stopping search: maximum iterations reached --> 50\n",
      "OPTIMAL PARAMETERS:\n",
      "[47, 72, 120, 30] 9.4595\n",
      "Stopping search: maximum iterations reached --> 50\n",
      "OPTIMAL PARAMETERS:\n",
      "[56, 72, 120, 30] 8.6681\n",
      "Test: profit 0.000000 dd -100.000000 trades 0\n"
     ]
    },
    {
     "data": {
      "text/markdown": [
       "**ma-rsi LEND-USDT 5m**"
      ],
      "text/plain": [
       "<IPython.core.display.Markdown object>"
      ]
     },
     "metadata": {},
     "output_type": "display_data"
    },
    {
     "name": "stdout",
     "output_type": "stream",
     "text": [
      "Stopping search: maximum iterations reached --> 50\n",
      "OPTIMAL PARAMETERS:\n",
      "[47, 22, 79] 10.4817\n",
      "Stopping search: maximum iterations reached --> 50\n",
      "OPTIMAL PARAMETERS:\n",
      "[49, 12, 74] 4.5772\n",
      "Stopping search: maximum iterations reached --> 50\n",
      "OPTIMAL PARAMETERS:\n",
      "[5, 24, 80] 13.7537\n",
      "Test: profit 0.069399 dd 0.000000 trades 2\n"
     ]
    },
    {
     "data": {
      "text/markdown": [
       "**ma-rsi LEND-USDT 15m**"
      ],
      "text/plain": [
       "<IPython.core.display.Markdown object>"
      ]
     },
     "metadata": {},
     "output_type": "display_data"
    },
    {
     "name": "stdout",
     "output_type": "stream",
     "text": [
      "Stopping search: maximum iterations reached --> 50\n",
      "OPTIMAL PARAMETERS:\n",
      "[74, 18, 60] 3.7761\n",
      "Stopping search: maximum iterations reached --> 50\n",
      "OPTIMAL PARAMETERS:\n",
      "[72, 13, 78] 2.3198\n",
      "Stopping search: maximum iterations reached --> 50\n",
      "OPTIMAL PARAMETERS:\n",
      "[6, 20, 80] 14.2239\n",
      "Test: profit 0.066168 dd 0.000000 trades 2\n"
     ]
    },
    {
     "data": {
      "text/markdown": [
       "**ma-rsi LEND-USDT 30m**"
      ],
      "text/plain": [
       "<IPython.core.display.Markdown object>"
      ]
     },
     "metadata": {},
     "output_type": "display_data"
    },
    {
     "name": "stdout",
     "output_type": "stream",
     "text": [
      "Stopping search: maximum iterations reached --> 50\n",
      "OPTIMAL PARAMETERS:\n",
      "[56, 21, 77] 6.9931\n",
      "Stopping search: maximum iterations reached --> 50\n",
      "OPTIMAL PARAMETERS:\n",
      "[5, 24, 80] 13.7537\n",
      "Stopping search: maximum iterations reached --> 50\n",
      "OPTIMAL PARAMETERS:\n",
      "[74, 11, 68] 3.4871\n",
      "Test: profit 0.050997 dd 0.000000 trades 1\n"
     ]
    },
    {
     "data": {
      "text/markdown": [
       "**ma-rsi LEND-USDT 1h**"
      ],
      "text/plain": [
       "<IPython.core.display.Markdown object>"
      ]
     },
     "metadata": {},
     "output_type": "display_data"
    },
    {
     "name": "stdout",
     "output_type": "stream",
     "text": [
      "Stopping search: maximum iterations reached --> 50\n",
      "OPTIMAL PARAMETERS:\n",
      "[72, 19, 71] 2.2703\n",
      "Stopping search: maximum iterations reached --> 50\n",
      "OPTIMAL PARAMETERS:\n",
      "[26, 17, 80] 8.8087\n",
      "Stopping search: maximum iterations reached --> 50\n",
      "OPTIMAL PARAMETERS:\n",
      "[5, 24, 80] 13.7537\n",
      "Test: profit 0.000000 dd -100.000000 trades 0\n"
     ]
    },
    {
     "data": {
      "text/markdown": [
       "**rsi_ma LEND-USDT 5m**"
      ],
      "text/plain": [
       "<IPython.core.display.Markdown object>"
      ]
     },
     "metadata": {},
     "output_type": "display_data"
    },
    {
     "name": "stdout",
     "output_type": "stream",
     "text": [
      "Stopping search: maximum iterations reached --> 50\n",
      "OPTIMAL PARAMETERS:\n",
      "[10, 29, 80, 119] 21.2877\n",
      "Stopping search: maximum iterations reached --> 50\n",
      "OPTIMAL PARAMETERS:\n",
      "[11, 32, 78, 114] 23.6570\n",
      "Stopping search: maximum iterations reached --> 50\n",
      "OPTIMAL PARAMETERS:\n",
      "[17, 40, 67, 107] 20.4784\n",
      "Test: profit 0.051169 dd -0.013739 trades 14\n"
     ]
    },
    {
     "data": {
      "text/markdown": [
       "**rsi_ma LEND-USDT 15m**"
      ],
      "text/plain": [
       "<IPython.core.display.Markdown object>"
      ]
     },
     "metadata": {},
     "output_type": "display_data"
    },
    {
     "name": "stdout",
     "output_type": "stream",
     "text": [
      "Stopping search: maximum iterations reached --> 50\n",
      "OPTIMAL PARAMETERS:\n",
      "[10, 30, 80, 106] 20.5268\n",
      "Stopping search: maximum iterations reached --> 50\n",
      "OPTIMAL PARAMETERS:\n",
      "[17, 36, 80, 114] 26.0649\n",
      "Stopping search: maximum iterations reached --> 50\n",
      "OPTIMAL PARAMETERS:\n",
      "[11, 32, 78, 114] 23.6570\n",
      "Test: profit 0.000000 dd -100.000000 trades 0\n"
     ]
    },
    {
     "data": {
      "text/markdown": [
       "**rsi_ma LEND-USDT 30m**"
      ],
      "text/plain": [
       "<IPython.core.display.Markdown object>"
      ]
     },
     "metadata": {},
     "output_type": "display_data"
    },
    {
     "name": "stdout",
     "output_type": "stream",
     "text": [
      "Stopping search: maximum iterations reached --> 50\n",
      "OPTIMAL PARAMETERS:\n",
      "[17, 40, 67, 119] 24.6516\n",
      "Stopping search: maximum iterations reached --> 50\n",
      "OPTIMAL PARAMETERS:\n",
      "[18, 37, 79, 114] 25.4974\n",
      "Stopping search: maximum iterations reached --> 50\n",
      "OPTIMAL PARAMETERS:\n",
      "[12, 34, 72, 114] 21.2231\n",
      "Test: profit 0.019448 dd 0.000000 trades 1\n"
     ]
    },
    {
     "data": {
      "text/markdown": [
       "**rsi_ma LEND-USDT 1h**"
      ],
      "text/plain": [
       "<IPython.core.display.Markdown object>"
      ]
     },
     "metadata": {},
     "output_type": "display_data"
    },
    {
     "name": "stdout",
     "output_type": "stream",
     "text": [
      "Stopping search: maximum iterations reached --> 50\n",
      "OPTIMAL PARAMETERS:\n",
      "[18, 37, 79, 115] 25.0078\n",
      "Stopping search: maximum iterations reached --> 50\n",
      "OPTIMAL PARAMETERS:\n",
      "[17, 40, 67, 119] 24.6516\n",
      "Stopping search: maximum iterations reached --> 50\n",
      "OPTIMAL PARAMETERS:\n",
      "[15, 39, 70, 115] 22.6604\n",
      "Test: profit 0.035517 dd 0.000000 trades 1\n"
     ]
    },
    {
     "data": {
      "text/markdown": [
       "**rsi LEND-USDT 5m**"
      ],
      "text/plain": [
       "<IPython.core.display.Markdown object>"
      ]
     },
     "metadata": {},
     "output_type": "display_data"
    },
    {
     "name": "stdout",
     "output_type": "stream",
     "text": [
      "Stopping search: maximum iterations reached --> 50\n",
      "OPTIMAL PARAMETERS:\n",
      "[9, 22, 63] 12.8110\n",
      "Stopping search: maximum iterations reached --> 50\n",
      "OPTIMAL PARAMETERS:\n",
      "[15, 22, 61] 13.1162\n",
      "Stopping search: maximum iterations reached --> 50\n",
      "OPTIMAL PARAMETERS:\n",
      "[9, 22, 67] 15.1577\n",
      "Test: profit 0.008826 dd -0.026085 trades 24\n"
     ]
    },
    {
     "data": {
      "text/markdown": [
       "**rsi LEND-USDT 15m**"
      ],
      "text/plain": [
       "<IPython.core.display.Markdown object>"
      ]
     },
     "metadata": {},
     "output_type": "display_data"
    },
    {
     "name": "stdout",
     "output_type": "stream",
     "text": [
      "Stopping search: maximum iterations reached --> 50\n",
      "OPTIMAL PARAMETERS:\n",
      "[16, 23, 60] 12.1906\n",
      "Stopping search: maximum iterations reached --> 50\n",
      "OPTIMAL PARAMETERS:\n",
      "[20, 39, 80] 13.3324\n",
      "Stopping search: maximum iterations reached --> 50\n",
      "OPTIMAL PARAMETERS:\n",
      "[15, 22, 61] 13.1162\n",
      "Test: profit 0.051956 dd 0.000000 trades 2\n"
     ]
    },
    {
     "data": {
      "text/markdown": [
       "**rsi LEND-USDT 30m**"
      ],
      "text/plain": [
       "<IPython.core.display.Markdown object>"
      ]
     },
     "metadata": {},
     "output_type": "display_data"
    },
    {
     "name": "stdout",
     "output_type": "stream",
     "text": [
      "Stopping search: maximum iterations reached --> 50\n",
      "OPTIMAL PARAMETERS:\n",
      "[9, 22, 67] 15.1577\n",
      "Stopping search: maximum iterations reached --> 50\n",
      "OPTIMAL PARAMETERS:\n",
      "[9, 22, 61] 13.5711\n",
      "Stopping search: maximum iterations reached --> 50\n",
      "OPTIMAL PARAMETERS:\n",
      "[20, 39, 80] 13.3324\n",
      "Test: profit 0.030588 dd 0.000000 trades 4\n"
     ]
    },
    {
     "data": {
      "text/markdown": [
       "**rsi LEND-USDT 1h**"
      ],
      "text/plain": [
       "<IPython.core.display.Markdown object>"
      ]
     },
     "metadata": {},
     "output_type": "display_data"
    },
    {
     "name": "stdout",
     "output_type": "stream",
     "text": [
      "Stopping search: maximum iterations reached --> 50\n",
      "OPTIMAL PARAMETERS:\n",
      "[15, 22, 61] 13.1162\n",
      "Stopping search: maximum iterations reached --> 50\n",
      "OPTIMAL PARAMETERS:\n",
      "[15, 22, 61] 13.1162\n",
      "Stopping search: maximum iterations reached --> 50\n",
      "OPTIMAL PARAMETERS:\n",
      "[15, 22, 61] 13.1162\n",
      "Test: profit 0.000000 dd -100.000000 trades 0\n"
     ]
    }
   ],
   "source": [
    "#assets = ['BTC-USDT', 'BNB-USDT', 'LINK-USDT', 'ETH-USDT', 'EOS-USDT', 'BCH-USDT', 'LTC-USDT']\n",
    "assets = ['LEND-USDT']\n",
    "#assets = ['LINK-USDT', 'LINK-BTC']\n",
    "tfs = ['5m', '15m', '30m', '1h']\n",
    "#tfs = ['1m', '3m']\n",
    "robots = get_robots()\n",
    "\n",
    "res = []\n",
    "pair = assets[0].split('-')[1]\n",
    "for asset in assets:\n",
    "    for robot in robots:\n",
    "        for tf in tfs:\n",
    "            printmd(f\"{robot.robot_name} {asset} {tf}\")\n",
    "            prices = read_data(asset, tf, '2018-02-06')           \n",
    "            prices, test_X = train_test_split(prices, train_size = 0.7, shuffle = False)\n",
    "            params = robot.ps_ranges\n",
    "            \n",
    "            xopt, fopt = opt_fun(params, 50, 50, 3)\n",
    "            xopt = np.round(xopt).astype(int).tolist()\n",
    "            profit, dd, trades = stats(robot, xopt, test_X)\n",
    "            print(\"Test: profit %f dd %f trades %d\"  %(profit, dd, trades))\n",
    "            res.append([asset, tf, robot.robot_name, xopt, profit, dd, trades])\n",
    "\n",
    "            df = pd.DataFrame(res, columns = ['asset','tf', 'robot', 'params', 'profit', 'dd', 'trades'])\n",
    "            df.to_csv('dd_' + pair + '.csv', index = False)"
   ]
  },
  {
   "cell_type": "code",
   "execution_count": 26,
   "metadata": {},
   "outputs": [],
   "source": [
    "fastsim = fastsim_01\n",
    "\n",
    "\n",
    "robots = get_robots()\n",
    "\n",
    "init_data = {'exchange_commission': 0.075, #percent\n",
    "             'start_capital'     : 100,\n",
    "             'buy_correction'    : 1.001,\n",
    "             'sell_correction'   : 0.999,\n",
    "             'robot_name'        : '',\n",
    "             'market'            : '',\n",
    "             'kline'             : ''  \n",
    "            }\n",
    "\n",
    "data_path = DATA_PATH_CRYPTO\n",
    "pair = 'USDT'\n",
    "#markets = glob(data_path + '/' + pair +'/*-' + pair)\n",
    "#markets = [x.split('/')[-1] for x in markets]\n",
    "fast_trend = ['ADA-BTC', 'EOS-BTC', 'TRX-BTC', 'ONT-BTC', 'NEO-BTC','ZIL-BTC', 'XRP-BTC'] #april 2018\n",
    "markets = ['BTC-USDT', 'LINK-USDT', 'BNB-USDT']\n",
    "#markets = ['XLM-BTC']\n",
    "timeframes = ['3m', '5m',  '15m', '30m', '1h']\n",
    "timeframes = ['15m', '30m', '1h', '2h', '4h','6h']\n",
    "timeframes = ['3m', '5m']\n",
    "\n",
    "def trade_simulation(params):\n",
    "    signals = robot.signals(prices, *params)\n",
    "\n",
    "    profit, trades = fastsim_01(ticks, signals, init_data)\n",
    "    res = [init_data['market'], init_data['kline']] + [profit.sum(), trades] + [init_data['robot_name']] + list(params)\n",
    " \n",
    "    return res #Don't remove\n",
    "\n",
    "def trade_statistics(prices, trade_data, init_data):\n",
    "    #trade statistics        \n",
    "    profit = trade_data.iloc[-1]['cum_profit']       \n",
    "    s = trade_data['signal']\n",
    "    trades = s[s==-1].shape[0] \n",
    "    bnh = prices[-1] / prices[0] * init_data['start_capital']\n",
    "    profit_to_bnh = round(profit/bnh, 2)\n",
    "    \n",
    "    ts = [init_data['market'], init_data['kline'], profit, trades, profit_to_bnh]\n",
    "    return ts\n",
    "\n",
    "def cp_gen(params):\n",
    "    pr = []\n",
    "    for p in params:\n",
    "        pr.append(np.arange(*p))\n",
    "        \n",
    "    pl = [x for x in itertools.product(*pr)]        \n",
    "    return pl"
   ]
  },
  {
   "cell_type": "markdown",
   "metadata": {},
   "source": [
    "## Single "
   ]
  },
  {
   "cell_type": "code",
   "execution_count": 27,
   "metadata": {},
   "outputs": [
    {
     "name": "stdout",
     "output_type": "stream",
     "text": [
      "ma :  \n",
      "\t  BTC-USDT\n",
      "\t\t 3m\n",
      "\t\t 5m\n",
      "\t  LINK-USDT\n",
      "\t\t 3m\n",
      "\t\t 5m\n",
      "\t  BNB-USDT\n",
      "\t\t 3m\n",
      "\t\t 5m\n",
      "ma-2-crossover :  \n",
      "\t  BTC-USDT\n",
      "\t\t 3m\n",
      "\t\t 5m\n",
      "\t  LINK-USDT\n",
      "\t\t 3m\n",
      "\t\t 5m\n",
      "\t  BNB-USDT\n",
      "\t\t 3m\n",
      "\t\t 5m\n",
      "ma-rsi :  \n",
      "\t  BTC-USDT\n",
      "\t\t 3m\n",
      "\t\t 5m\n",
      "\t  LINK-USDT\n",
      "\t\t 3m\n",
      "\t\t 5m\n",
      "\t  BNB-USDT\n",
      "\t\t 3m\n",
      "\t\t 5m\n",
      "ma-rsi-01 :  \n",
      "\t  BTC-USDT\n",
      "\t\t 3m\n",
      "\t\t 5m\n",
      "\t  LINK-USDT\n",
      "\t\t 3m\n",
      "\t\t 5m\n",
      "\t  BNB-USDT\n",
      "\t\t 3m\n",
      "\t\t 5m\n",
      "rsi-ma :  \n",
      "\t  BTC-USDT\n",
      "\t\t 3m\n",
      "\t\t 5m\n",
      "\t  LINK-USDT\n",
      "\t\t 3m\n",
      "\t\t 5m\n",
      "\t  BNB-USDT\n",
      "\t\t 3m\n",
      "\t\t 5m\n",
      "rsi :  \n",
      "\t  BTC-USDT\n",
      "\t\t 3m\n",
      "\t\t 5m\n",
      "\t  LINK-USDT\n",
      "\t\t 3m\n",
      "\t\t 5m\n",
      "\t  BNB-USDT\n",
      "\t\t 3m\n",
      "\t\t 5m\n",
      "macd :  \n",
      "\t  BTC-USDT\n",
      "\t\t 3m\n",
      "\t\t 5m\n",
      "\t  LINK-USDT\n",
      "\t\t 3m\n",
      "\t\t 5m\n",
      "\t  BNB-USDT\n",
      "\t\t 3m\n",
      "\t\t 5m\n",
      "All done = 13.42 min\n"
     ]
    }
   ],
   "source": [
    "train_split = 0.5\n",
    "elitarism = 10\n",
    "from_date = ''\n",
    "to_date = ''\n",
    "\n",
    "#Стираем старые логи\n",
    "log_files = glob(PATH_TO_LOGS + \"/*\")\n",
    "for fn in log_files:\n",
    "    os.remove(fn)\n",
    "\n",
    "all_res = []\n",
    "start_time_all = time.time() \n",
    "for robot in robots:\n",
    "    robot_name = robot.robot_name\n",
    "    print(robot_name, \": \", robot.comment)\n",
    "    params = robot.ps_ranges \n",
    "    params_list = cp_gen(params)\n",
    "    for market in markets:\n",
    "        print('\\t ', market)\n",
    "        for kline in timeframes:\n",
    "            print('\\t\\t', kline)\n",
    "            data = read_data(market, kline, from_date, to_date)\n",
    "            train = int(train_split * data.shape[0])\n",
    "            prices = data[:train]\n",
    "            ticks = prices['C'].values\n",
    "            \n",
    "            init_data['robot_name'] = robot.robot_name\n",
    "            init_data['market'] = market\n",
    "            init_data['kline'] = kline\n",
    "            start = time.time()\n",
    "     \n",
    "            all_res = list(map(trade_simulation, params_list))\n",
    "            #print(market, kline,  \"Time taken = {0:.5f}\".format(time.time() - start))   \n",
    "            \n",
    "            df_train_res = pd.DataFrame(all_res)\n",
    "            df_train_res = df_train_res.sort_values(2, ascending = False)\n",
    "            df_train_res = df_train_res.reset_index(drop = True)\n",
    "            df_train_res = df_train_res[df_train_res[2] > 0]\n",
    "            \n",
    "            if df_train_res.shape[0] > elitarism:\n",
    "                prices = data[train:]\n",
    "                ticks = prices['C'].values\n",
    "                res = []\n",
    "                for ind in range(elitarism):\n",
    "                    params = tuple(df_train_res.iloc[ind, 5:])  \n",
    "                    signals = robot.signals(prices, *params)\n",
    "                    ts = fastsim(ticks, signals, init_data)\n",
    "                    res.append([init_data['market'], init_data['kline']] + [ts[0].sum(), ts[1]] + [init_data['robot_name']] + list(params))\n",
    "\n",
    "                df_res = pd.DataFrame(res)\n",
    "                df_res.to_csv(PATH_TO_LOGS + '/res_' + robot_name + '_' + market +'_' + kline +'.csv', index = False)\n",
    "print(\"All done = {0:.2f} min\".format((time.time() - start_time_all)/60))"
   ]
  },
  {
   "cell_type": "code",
   "execution_count": 33,
   "metadata": {},
   "outputs": [],
   "source": [
    "import os\n",
    "files = glob(PATH_TO_LOGS +'/res_*L*.csv')\n",
    "\n",
    "all_res = []\n",
    "for fn in files:\n",
    "    dfx = pd.read_csv(fn)\n",
    "    all_res.append(dfx)\n",
    "df = pd.concat(all_res) \n",
    "df.columns = ['market', 'tf', 'profit', 'trades', 'robot','p1','p2','p3']\n",
    "df = df.dropna()"
   ]
  },
  {
   "cell_type": "code",
   "execution_count": null,
   "metadata": {},
   "outputs": [],
   "source": []
  },
  {
   "cell_type": "code",
   "execution_count": 34,
   "metadata": {},
   "outputs": [
    {
     "data": {
      "text/html": [
       "<div>\n",
       "<style scoped>\n",
       "    .dataframe tbody tr th:only-of-type {\n",
       "        vertical-align: middle;\n",
       "    }\n",
       "\n",
       "    .dataframe tbody tr th {\n",
       "        vertical-align: top;\n",
       "    }\n",
       "\n",
       "    .dataframe thead th {\n",
       "        text-align: right;\n",
       "    }\n",
       "</style>\n",
       "<table border=\"1\" class=\"dataframe\">\n",
       "  <thead>\n",
       "    <tr style=\"text-align: right;\">\n",
       "      <th></th>\n",
       "      <th>market</th>\n",
       "      <th>tf</th>\n",
       "      <th>profit</th>\n",
       "      <th>trades</th>\n",
       "      <th>robot</th>\n",
       "      <th>p1</th>\n",
       "      <th>p2</th>\n",
       "      <th>p3</th>\n",
       "    </tr>\n",
       "  </thead>\n",
       "  <tbody>\n",
       "    <tr>\n",
       "      <th>2</th>\n",
       "      <td>LINK-USDT</td>\n",
       "      <td>5m</td>\n",
       "      <td>1.1951647</td>\n",
       "      <td>377</td>\n",
       "      <td>rsi</td>\n",
       "      <td>8</td>\n",
       "      <td>28</td>\n",
       "      <td>78</td>\n",
       "    </tr>\n",
       "    <tr>\n",
       "      <th>3</th>\n",
       "      <td>LINK-USDT</td>\n",
       "      <td>5m</td>\n",
       "      <td>1.1594918</td>\n",
       "      <td>386</td>\n",
       "      <td>rsi</td>\n",
       "      <td>14</td>\n",
       "      <td>38</td>\n",
       "      <td>68</td>\n",
       "    </tr>\n",
       "    <tr>\n",
       "      <th>6</th>\n",
       "      <td>LINK-USDT</td>\n",
       "      <td>3m</td>\n",
       "      <td>0.7343999</td>\n",
       "      <td>157</td>\n",
       "      <td>ma-rsi-01</td>\n",
       "      <td>8</td>\n",
       "      <td>22</td>\n",
       "      <td>74</td>\n",
       "    </tr>\n",
       "    <tr>\n",
       "      <th>6</th>\n",
       "      <td>LINK-USDT</td>\n",
       "      <td>5m</td>\n",
       "      <td>0.7319506</td>\n",
       "      <td>98</td>\n",
       "      <td>ma-rsi-01</td>\n",
       "      <td>52</td>\n",
       "      <td>22</td>\n",
       "      <td>70</td>\n",
       "    </tr>\n",
       "    <tr>\n",
       "      <th>9</th>\n",
       "      <td>LINK-USDT</td>\n",
       "      <td>5m</td>\n",
       "      <td>0.5979969</td>\n",
       "      <td>103</td>\n",
       "      <td>ma-rsi-01</td>\n",
       "      <td>52</td>\n",
       "      <td>16</td>\n",
       "      <td>74</td>\n",
       "    </tr>\n",
       "    <tr>\n",
       "      <th>5</th>\n",
       "      <td>LINK-USDT</td>\n",
       "      <td>5m</td>\n",
       "      <td>0.5664836</td>\n",
       "      <td>104</td>\n",
       "      <td>ma-rsi-01</td>\n",
       "      <td>52</td>\n",
       "      <td>18</td>\n",
       "      <td>72</td>\n",
       "    </tr>\n",
       "    <tr>\n",
       "      <th>2</th>\n",
       "      <td>LINK-USDT</td>\n",
       "      <td>3m</td>\n",
       "      <td>0.4622353</td>\n",
       "      <td>245</td>\n",
       "      <td>ma-rsi-01</td>\n",
       "      <td>36</td>\n",
       "      <td>22</td>\n",
       "      <td>66</td>\n",
       "    </tr>\n",
       "    <tr>\n",
       "      <th>5</th>\n",
       "      <td>LINK-USDT</td>\n",
       "      <td>3m</td>\n",
       "      <td>0.3639011</td>\n",
       "      <td>223</td>\n",
       "      <td>ma-rsi-01</td>\n",
       "      <td>36</td>\n",
       "      <td>16</td>\n",
       "      <td>72</td>\n",
       "    </tr>\n",
       "    <tr>\n",
       "      <th>7</th>\n",
       "      <td>LINK-USDT</td>\n",
       "      <td>3m</td>\n",
       "      <td>0.3064929</td>\n",
       "      <td>211</td>\n",
       "      <td>ma-rsi-01</td>\n",
       "      <td>36</td>\n",
       "      <td>22</td>\n",
       "      <td>68</td>\n",
       "    </tr>\n",
       "    <tr>\n",
       "      <th>3</th>\n",
       "      <td>LINK-USDT</td>\n",
       "      <td>5m</td>\n",
       "      <td>0.3041183</td>\n",
       "      <td>114</td>\n",
       "      <td>ma-rsi</td>\n",
       "      <td>32</td>\n",
       "      <td>18</td>\n",
       "      <td>78</td>\n",
       "    </tr>\n",
       "    <tr>\n",
       "      <th>5</th>\n",
       "      <td>LINK-USDT</td>\n",
       "      <td>5m</td>\n",
       "      <td>0.3034176</td>\n",
       "      <td>114</td>\n",
       "      <td>ma-rsi</td>\n",
       "      <td>30</td>\n",
       "      <td>18</td>\n",
       "      <td>78</td>\n",
       "    </tr>\n",
       "    <tr>\n",
       "      <th>4</th>\n",
       "      <td>LINK-USDT</td>\n",
       "      <td>5m</td>\n",
       "      <td>0.3006148</td>\n",
       "      <td>114</td>\n",
       "      <td>ma-rsi</td>\n",
       "      <td>36</td>\n",
       "      <td>18</td>\n",
       "      <td>78</td>\n",
       "    </tr>\n",
       "    <tr>\n",
       "      <th>6</th>\n",
       "      <td>LINK-USDT</td>\n",
       "      <td>5m</td>\n",
       "      <td>0.3006148</td>\n",
       "      <td>114</td>\n",
       "      <td>ma-rsi</td>\n",
       "      <td>34</td>\n",
       "      <td>18</td>\n",
       "      <td>78</td>\n",
       "    </tr>\n",
       "    <tr>\n",
       "      <th>1</th>\n",
       "      <td>LINK-USDT</td>\n",
       "      <td>5m</td>\n",
       "      <td>0.3006148</td>\n",
       "      <td>114</td>\n",
       "      <td>ma-rsi</td>\n",
       "      <td>38</td>\n",
       "      <td>18</td>\n",
       "      <td>78</td>\n",
       "    </tr>\n",
       "    <tr>\n",
       "      <th>2</th>\n",
       "      <td>LINK-USDT</td>\n",
       "      <td>5m</td>\n",
       "      <td>0.2979121</td>\n",
       "      <td>114</td>\n",
       "      <td>ma-rsi</td>\n",
       "      <td>40</td>\n",
       "      <td>18</td>\n",
       "      <td>78</td>\n",
       "    </tr>\n",
       "    <tr>\n",
       "      <th>0</th>\n",
       "      <td>LINK-USDT</td>\n",
       "      <td>5m</td>\n",
       "      <td>0.2979121</td>\n",
       "      <td>114</td>\n",
       "      <td>ma-rsi</td>\n",
       "      <td>42</td>\n",
       "      <td>18</td>\n",
       "      <td>78</td>\n",
       "    </tr>\n",
       "    <tr>\n",
       "      <th>7</th>\n",
       "      <td>LINK-USDT</td>\n",
       "      <td>5m</td>\n",
       "      <td>0.2950092</td>\n",
       "      <td>114</td>\n",
       "      <td>ma-rsi</td>\n",
       "      <td>44</td>\n",
       "      <td>18</td>\n",
       "      <td>78</td>\n",
       "    </tr>\n",
       "    <tr>\n",
       "      <th>8</th>\n",
       "      <td>LINK-USDT</td>\n",
       "      <td>5m</td>\n",
       "      <td>0.2808951</td>\n",
       "      <td>114</td>\n",
       "      <td>ma-rsi</td>\n",
       "      <td>66</td>\n",
       "      <td>18</td>\n",
       "      <td>78</td>\n",
       "    </tr>\n",
       "    <tr>\n",
       "      <th>9</th>\n",
       "      <td>LINK-USDT</td>\n",
       "      <td>5m</td>\n",
       "      <td>0.2808951</td>\n",
       "      <td>114</td>\n",
       "      <td>ma-rsi</td>\n",
       "      <td>60</td>\n",
       "      <td>18</td>\n",
       "      <td>78</td>\n",
       "    </tr>\n",
       "    <tr>\n",
       "      <th>1</th>\n",
       "      <td>LINK-USDT</td>\n",
       "      <td>3m</td>\n",
       "      <td>0.2312187</td>\n",
       "      <td>226</td>\n",
       "      <td>ma-rsi-01</td>\n",
       "      <td>36</td>\n",
       "      <td>14</td>\n",
       "      <td>74</td>\n",
       "    </tr>\n",
       "    <tr>\n",
       "      <th>4</th>\n",
       "      <td>LINK-USDT</td>\n",
       "      <td>3m</td>\n",
       "      <td>0.2281149</td>\n",
       "      <td>225</td>\n",
       "      <td>ma-rsi-01</td>\n",
       "      <td>36</td>\n",
       "      <td>18</td>\n",
       "      <td>70</td>\n",
       "    </tr>\n",
       "  </tbody>\n",
       "</table>\n",
       "</div>"
      ],
      "text/plain": [
       "      market  tf     profit  trades      robot  p1  p2  p3\n",
       "2  LINK-USDT  5m  1.1951647     377        rsi   8  28  78\n",
       "3  LINK-USDT  5m  1.1594918     386        rsi  14  38  68\n",
       "6  LINK-USDT  3m  0.7343999     157  ma-rsi-01   8  22  74\n",
       "6  LINK-USDT  5m  0.7319506      98  ma-rsi-01  52  22  70\n",
       "9  LINK-USDT  5m  0.5979969     103  ma-rsi-01  52  16  74\n",
       "5  LINK-USDT  5m  0.5664836     104  ma-rsi-01  52  18  72\n",
       "2  LINK-USDT  3m  0.4622353     245  ma-rsi-01  36  22  66\n",
       "5  LINK-USDT  3m  0.3639011     223  ma-rsi-01  36  16  72\n",
       "7  LINK-USDT  3m  0.3064929     211  ma-rsi-01  36  22  68\n",
       "3  LINK-USDT  5m  0.3041183     114     ma-rsi  32  18  78\n",
       "5  LINK-USDT  5m  0.3034176     114     ma-rsi  30  18  78\n",
       "4  LINK-USDT  5m  0.3006148     114     ma-rsi  36  18  78\n",
       "6  LINK-USDT  5m  0.3006148     114     ma-rsi  34  18  78\n",
       "1  LINK-USDT  5m  0.3006148     114     ma-rsi  38  18  78\n",
       "2  LINK-USDT  5m  0.2979121     114     ma-rsi  40  18  78\n",
       "0  LINK-USDT  5m  0.2979121     114     ma-rsi  42  18  78\n",
       "7  LINK-USDT  5m  0.2950092     114     ma-rsi  44  18  78\n",
       "8  LINK-USDT  5m  0.2808951     114     ma-rsi  66  18  78\n",
       "9  LINK-USDT  5m  0.2808951     114     ma-rsi  60  18  78\n",
       "1  LINK-USDT  3m  0.2312187     226  ma-rsi-01  36  14  74\n",
       "4  LINK-USDT  3m  0.2281149     225  ma-rsi-01  36  18  70"
      ]
     },
     "execution_count": 34,
     "metadata": {},
     "output_type": "execute_result"
    }
   ],
   "source": [
    "df = df[df['profit'] > 0]\n",
    "#df = df[df['tf'] == '1h']\n",
    "df = df.sort_values('profit', ascending= False)\n",
    "df.head(40)"
   ]
  },
  {
   "cell_type": "markdown",
   "metadata": {},
   "source": [
    "## Parallel"
   ]
  },
  {
   "cell_type": "code",
   "execution_count": null,
   "metadata": {},
   "outputs": [],
   "source": [
    "train_split = 0.5\n",
    "from_date = ''\n",
    "to_date = ''\n",
    "\n",
    "all_res = []\n",
    "start_time_all = time.time() \n",
    "for robot in robots:\n",
    "    robot_name = robot.robot_name\n",
    "    print(robot_name, \": \", robot.comment)\n",
    "    params = robot.ps_ranges \n",
    "    params_list = cp_gen(params)\n",
    "    for market in markets:\n",
    "        print('\\t ', market)\n",
    "        for kline in timeframes:\n",
    "            print('\\t\\t', kline)\n",
    "            data = read_data(market, kline, from_date, to_date)\n",
    "            train = int(train_split * data.shape[0])\n",
    "            prices = data[:train]\n",
    "            ticks = prices['C'].values\n",
    "            \n",
    "            init_data['robot_name'] = robot.robot_name\n",
    "            init_data['market'] = market\n",
    "            init_data['kline'] = kline\n",
    "            start = time.time()\n",
    "            pool = ProcessPoolExecutor(max_workers = 4)\n",
    "            with pool as p:            \n",
    "                all_res = list(p.map(trade_simulation, params_list))\n",
    "            #print(market, kline,  \"Time taken = {0:.5f}\".format(time.time() - start))   \n",
    "            \n",
    "            df_train_res = pd.DataFrame(all_res)\n",
    "            df_train_res = df_train_res.sort_values(2, ascending = False)\n",
    "            prices = data[train:]\n",
    "            ticks = prices['C'].values\n",
    "            res = []\n",
    "            for ind in range(10):\n",
    "                params = tuple(df_train_res.iloc[ind, 5:])  \n",
    "                signals = robot.signals(prices, *params)\n",
    "                ts = fastsim(ticks, signals, init_data)\n",
    "                res.append([init_data['market'], init_data['kline']] + ts + [init_data['robot_name']] + list(params))\n",
    "                \n",
    "            df_res = pd.DataFrame(res)\n",
    "            df_res.to_csv(PATH_TO_LOGS + '/res_' + robot_name + '_' + market +'_' + kline +'.csv', index = False)\n",
    "print(\"All done = {0:.2f} min\".format((time.time() - start_time_all)/60))"
   ]
  },
  {
   "cell_type": "code",
   "execution_count": null,
   "metadata": {},
   "outputs": [],
   "source": []
  },
  {
   "cell_type": "code",
   "execution_count": null,
   "metadata": {},
   "outputs": [],
   "source": []
  },
  {
   "cell_type": "code",
   "execution_count": null,
   "metadata": {},
   "outputs": [],
   "source": []
  },
  {
   "cell_type": "code",
   "execution_count": null,
   "metadata": {},
   "outputs": [],
   "source": []
  },
  {
   "cell_type": "code",
   "execution_count": null,
   "metadata": {},
   "outputs": [],
   "source": []
  },
  {
   "cell_type": "code",
   "execution_count": null,
   "metadata": {},
   "outputs": [],
   "source": []
  },
  {
   "cell_type": "code",
   "execution_count": null,
   "metadata": {},
   "outputs": [],
   "source": []
  },
  {
   "cell_type": "code",
   "execution_count": null,
   "metadata": {},
   "outputs": [],
   "source": []
  },
  {
   "cell_type": "code",
   "execution_count": null,
   "metadata": {},
   "outputs": [],
   "source": []
  },
  {
   "cell_type": "code",
   "execution_count": null,
   "metadata": {},
   "outputs": [],
   "source": []
  },
  {
   "cell_type": "code",
   "execution_count": 75,
   "metadata": {},
   "outputs": [
    {
     "data": {
      "text/plain": [
       "145"
      ]
     },
     "execution_count": 75,
     "metadata": {},
     "output_type": "execute_result"
    }
   ],
   "source": [
    "rsi_win = 14\n",
    "rsi_sell = 78\n",
    "rsi = talib.RSI(prices * 100, rsi_win)\n",
    "rsi[:rsi_win] = 0\n",
    "sum(rsi>rsi_sell)"
   ]
  },
  {
   "cell_type": "code",
   "execution_count": 62,
   "metadata": {},
   "outputs": [],
   "source": [
    "def simulation(ticks, signals, init_data):\n",
    "    market          = init_data['market']\n",
    "    commission      = init_data['exchange_commission']\n",
    "    start_capital   = init_data['start_capital']\n",
    "    buy_correction  = init_data['buy_correction']\n",
    "    sell_correction = init_data['sell_correction']\n",
    "     \n",
    "    cur_capital  = start_capital \n",
    "    num_shares   = 0\n",
    "    trade_profit = 0\n",
    "    cum_profit   = 0\n",
    "    \n",
    "    market_position = 0\n",
    "    start = len(ticks) - len(signals) \n",
    "    ticks = ticks[start:]\n",
    "    trade_statistics = []\n",
    "    #trade_statistics = np.zeros((len(signals),7))\n",
    "    for i in range(len(signals)) :\n",
    "        \n",
    "        if market_position == 0 and signals[i] == 1:\n",
    "            price = ticks[i] * buy_correction\n",
    "            num_shares   = cur_capital * (1-commission)/price\n",
    "            trade_profit = -cur_capital\n",
    "            cur_capital  = 0\n",
    "            market_position = 1\n",
    "            \n",
    "        elif market_position == 1 and signals[i] == -1:\n",
    "            price = ticks[i] * sell_correction\n",
    "            cur_capital  = (num_shares * price)*(1-commission)\n",
    "            trade_profit = trade_profit + cur_capital\n",
    "            cum_profit  += trade_profit\n",
    "            num_shares   = 0\n",
    "            market_position = 0\n",
    "        else:\n",
    "            signals[i] = 0\n",
    "            \n",
    "        trade_statistics.append([ticks[i], signals[i], market_position, cur_capital, num_shares, trade_profit, cum_profit])            \n",
    "        #trade_statistics[i] = [ticks[i], signals[i], market_position, cur_capital, num_shares, trade_profit, cum_profit]\n",
    "\n",
    "    df = pd.DataFrame(trade_statistics)\n",
    "    df.columns = ['price', 'signal', 'MP', 'capital', 'num_shares', 'profit', 'cum_profit']\n",
    "    df = df.astype({'signal':np.int32, 'MP':np.int32})\n",
    "    return df\n",
    "    #return 0"
   ]
  },
  {
   "cell_type": "code",
   "execution_count": null,
   "metadata": {},
   "outputs": [],
   "source": [
    "def simulation_short(ticks, signals, init_data):\n",
    "    market          = init_data['market']\n",
    "    commission      = init_data['exchange_commission']\n",
    "    start_capital   = init_data['start_capital']\n",
    "    buy_correction  = init_data['buy_correction']\n",
    "    sell_correction = init_data['sell_correction']\n",
    "     \n",
    "    cur_capital  = start_capital \n",
    "    num_shares   = 0\n",
    "    trade_profit = 0\n",
    "    cum_profit   = 0\n",
    "    \n",
    "    market_position = 0\n",
    "    start = len(ticks) - len(signals) \n",
    "    ticks = ticks[start:]\n",
    "    trade_statistics = []\n",
    "    #trade_statistics = np.zeros((len(signals),7))\n",
    "    for i in range(len(signals)) :\n",
    "        \n",
    "        #long entry\n",
    "        if market_position == 0 and signals[i] == 1:\n",
    "            price = ticks[i] * buy_correction\n",
    "            num_shares   = cur_capital * (1-commission)/price\n",
    "            trade_profit = -cur_capital\n",
    "            cur_capital  = 0\n",
    "            market_position = 1\n",
    "        #long exit\n",
    "        elif market_position == 1 and signals[i] == -1:\n",
    "            price = ticks[i] * sell_correction\n",
    "            cur_capital  = (num_shares * price)*(1-commission)\n",
    "            trade_profit = trade_profit + cur_capital\n",
    "            cum_profit  += trade_profit\n",
    "            num_shares   = 0\n",
    "            market_position = 0\n",
    "        #short entry\n",
    "        elif market_position == 0 and signals[i] == -1:\n",
    "            price = ticks[i] * sell_correction\n",
    "            num_shares   = cur_capital * (1-commission)/price\n",
    "            trade_profit = num_shares * price\n",
    "            market_position = 2\n",
    "        #short exit\n",
    "        elif market_position == 2 and signals[i] == 1:    \n",
    "            price = ticks[i] * buy_correction\n",
    "            cur_capital  = (num_shares * price)*(1-commission)\n",
    "            num_shares = 0\n",
    "            trade_profit = trade_profit - cur_capital\n",
    "            market_position = 0\n",
    "        else:\n",
    "            signals[i] = 0\n",
    "            \n",
    "        trade_statistics.append([ticks[i], signals[i], market_position, cur_capital, num_shares, trade_profit, cum_profit])            \n",
    "        #trade_statistics[i] = [ticks[i], signals[i], market_position, cur_capital, num_shares, trade_profit, cum_profit]\n",
    "\n",
    "    df = pd.DataFrame(trade_statistics)\n",
    "    df.columns = ['price', 'signal', 'MP', 'capital', 'num_shares', 'profit', 'cum_profit']\n",
    "    df = df.astype({'signal':np.int32, 'MP':np.int32})\n",
    "    return df\n",
    "    #return 0"
   ]
  },
  {
   "cell_type": "code",
   "execution_count": null,
   "metadata": {},
   "outputs": [],
   "source": []
  },
  {
   "cell_type": "code",
   "execution_count": null,
   "metadata": {},
   "outputs": [],
   "source": []
  },
  {
   "cell_type": "code",
   "execution_count": null,
   "metadata": {},
   "outputs": [],
   "source": []
  },
  {
   "cell_type": "code",
   "execution_count": null,
   "metadata": {},
   "outputs": [],
   "source": []
  },
  {
   "cell_type": "code",
   "execution_count": null,
   "metadata": {},
   "outputs": [],
   "source": []
  },
  {
   "cell_type": "code",
   "execution_count": null,
   "metadata": {},
   "outputs": [],
   "source": [
    "\n"
   ]
  },
  {
   "cell_type": "code",
   "execution_count": null,
   "metadata": {},
   "outputs": [],
   "source": []
  },
  {
   "cell_type": "code",
   "execution_count": null,
   "metadata": {},
   "outputs": [],
   "source": []
  },
  {
   "cell_type": "code",
   "execution_count": null,
   "metadata": {},
   "outputs": [],
   "source": []
  },
  {
   "cell_type": "code",
   "execution_count": null,
   "metadata": {},
   "outputs": [],
   "source": []
  },
  {
   "cell_type": "code",
   "execution_count": null,
   "metadata": {},
   "outputs": [],
   "source": []
  },
  {
   "cell_type": "code",
   "execution_count": null,
   "metadata": {},
   "outputs": [],
   "source": []
  },
  {
   "cell_type": "code",
   "execution_count": null,
   "metadata": {},
   "outputs": [],
   "source": []
  },
  {
   "cell_type": "code",
   "execution_count": null,
   "metadata": {},
   "outputs": [],
   "source": []
  },
  {
   "cell_type": "code",
   "execution_count": null,
   "metadata": {},
   "outputs": [],
   "source": []
  }
 ],
 "metadata": {
  "kernelspec": {
   "display_name": "t",
   "language": "python",
   "name": "t"
  },
  "language_info": {
   "codemirror_mode": {
    "name": "ipython",
    "version": 3
   },
   "file_extension": ".py",
   "mimetype": "text/x-python",
   "name": "python",
   "nbconvert_exporter": "python",
   "pygments_lexer": "ipython3",
   "version": "3.11.7"
  }
 },
 "nbformat": 4,
 "nbformat_minor": 4
}
