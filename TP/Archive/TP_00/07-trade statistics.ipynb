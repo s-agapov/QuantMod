{
 "cells": [
  {
   "cell_type": "code",
   "execution_count": 2,
   "metadata": {},
   "outputs": [],
   "source": [
    "import pandas as pd\n",
    "import matplotlib.pyplot as plt\n",
    "\n",
    "%matplotlib inline"
   ]
  },
  {
   "cell_type": "code",
   "execution_count": 15,
   "metadata": {},
   "outputs": [],
   "source": [
    "#Длина сделки в среднем\n",
    "#days = len_list[len_list<>0].mean()"
   ]
  },
  {
   "cell_type": "code",
   "execution_count": 31,
   "metadata": {},
   "outputs": [
    {
     "name": "stdout",
     "output_type": "stream",
     "text": [
      "Avg. profit per trade:  0.016\n"
     ]
    },
    {
     "data": {
      "text/plain": [
       "<Container object of 5 artists>"
      ]
     },
     "execution_count": 31,
     "metadata": {},
     "output_type": "execute_result"
    },
    {
     "data": {
      "image/png": "[encoded data removed]",
      "text/plain": [
       "<matplotlib.figure.Figure at 0x15bdd78d400>"
      ]
     },
     "metadata": {},
     "output_type": "display_data"
    }
   ],
   "source": [
    "#num trades, cumulative profit, average profit per trade\n",
    "df = pd.read_csv('Logs/trades_EOS-BTC_24m.csv')\n",
    "\n",
    "profits = df[df['signal'] == -1]['profit']\n",
    "\n",
    "trades = profits.shape[0]\n",
    "\n",
    "cum_profit = profits.iloc[-1]\n",
    "\n",
    "avg_profit_per_trade = profits.mean()\n",
    "print(\"Avg. profit per trade: \", \"{0:.3f}\".format(avg_profit_per_trade))\n",
    "\n",
    "x = range(trades)\n",
    "colors = ['b' if x > 0 else 'r' for x in profits ]\n",
    "plt.bar(x, profits, color = colors)"
   ]
  },
  {
   "cell_type": "code",
   "execution_count": 30,
   "metadata": {},
   "outputs": [
    {
     "data": {
      "text/plain": [
       "5"
      ]
     },
     "execution_count": 30,
     "metadata": {},
     "output_type": "execute_result"
    }
   ],
   "source": []
  }
 ],
 "metadata": {
  "kernelspec": {
   "display_name": "Python 3",
   "language": "python",
   "name": "python3"
  },
  "language_info": {
   "codemirror_mode": {
    "name": "ipython",
    "version": 3
   },
   "file_extension": ".py",
   "mimetype": "text/x-python",
   "name": "python",
   "nbconvert_exporter": "python",
   "pygments_lexer": "ipython3",
   "version": "3.6.1"
  }
 },
 "nbformat": 4,
 "nbformat_minor": 2
}
