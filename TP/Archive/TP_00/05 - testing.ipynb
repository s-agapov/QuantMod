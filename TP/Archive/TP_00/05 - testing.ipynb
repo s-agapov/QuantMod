{
 "cells": [
  {
   "cell_type": "code",
   "execution_count": 56,
   "metadata": {},
   "outputs": [],
   "source": [
    "import numpy as np\n",
    "import pandas as pd\n",
    "import configparser\n",
    "import time, datetime\n",
    "from glob import glob\n",
    "pd.set_option('precision', 9)\n",
    "from scipy.optimize import brute\n",
    "\n",
    "import talib\n",
    "%matplotlib inline"
   ]
  },
  {
   "cell_type": "code",
   "execution_count": 74,
   "metadata": {},
   "outputs": [
    {
     "data": {
      "text/html": [
       "<div>\n",
       "<style scoped>\n",
       "    .dataframe tbody tr th:only-of-type {\n",
       "        vertical-align: middle;\n",
       "    }\n",
       "\n",
       "    .dataframe tbody tr th {\n",
       "        vertical-align: top;\n",
       "    }\n",
       "\n",
       "    .dataframe thead th {\n",
       "        text-align: right;\n",
       "    }\n",
       "</style>\n",
       "<table border=\"1\" class=\"dataframe\">\n",
       "  <thead>\n",
       "    <tr style=\"text-align: right;\">\n",
       "      <th></th>\n",
       "      <th>BuyPrice</th>\n",
       "      <th>SellPrice</th>\n",
       "      <th>SpentBTC</th>\n",
       "      <th>GainedBTC</th>\n",
       "      <th>ProfitBTC</th>\n",
       "    </tr>\n",
       "    <tr>\n",
       "      <th>ChannelName</th>\n",
       "      <th></th>\n",
       "      <th></th>\n",
       "      <th></th>\n",
       "      <th></th>\n",
       "      <th></th>\n",
       "    </tr>\n",
       "  </thead>\n",
       "  <tbody>\n",
       "    <tr>\n",
       "      <th>(strategy &lt;DRO-106-new-flat&gt;)</th>\n",
       "      <td>0.00002447</td>\n",
       "      <td>0.00002455</td>\n",
       "      <td>0.00499438</td>\n",
       "      <td>0.00500570</td>\n",
       "      <td>0.00001132</td>\n",
       "    </tr>\n",
       "    <tr>\n",
       "      <th>(strategy &lt;Delta 01&gt;)</th>\n",
       "      <td>0.00000884</td>\n",
       "      <td>0.00000885</td>\n",
       "      <td>0.00392692</td>\n",
       "      <td>0.00392744</td>\n",
       "      <td>0.00000051</td>\n",
       "    </tr>\n",
       "    <tr>\n",
       "      <th>(strategy &lt;Dr101&gt;)</th>\n",
       "      <td>0.00483216</td>\n",
       "      <td>0.00486603</td>\n",
       "      <td>0.07992985</td>\n",
       "      <td>0.08041957</td>\n",
       "      <td>0.00048973</td>\n",
       "    </tr>\n",
       "    <tr>\n",
       "      <th>Manual</th>\n",
       "      <td>0.00001713</td>\n",
       "      <td>0.00001731</td>\n",
       "      <td>0.00935766</td>\n",
       "      <td>0.00944653</td>\n",
       "      <td>0.00008888</td>\n",
       "    </tr>\n",
       "    <tr>\n",
       "      <th>MoonShot: (strategy &lt;MoonShot109&gt;)</th>\n",
       "      <td>0.00902878</td>\n",
       "      <td>0.00905503</td>\n",
       "      <td>0.11796500</td>\n",
       "      <td>0.11852019</td>\n",
       "      <td>0.00055518</td>\n",
       "    </tr>\n",
       "    <tr>\n",
       "      <th>MoonShot: (strategy &lt;Sho-107-test&gt;)</th>\n",
       "      <td>0.06141377</td>\n",
       "      <td>0.06156549</td>\n",
       "      <td>0.17363260</td>\n",
       "      <td>0.17384473</td>\n",
       "      <td>0.00021211</td>\n",
       "    </tr>\n",
       "    <tr>\n",
       "      <th>MoonShot: (strategy &lt;TestShoot777&gt;)</th>\n",
       "      <td>0.00323294</td>\n",
       "      <td>0.00324876</td>\n",
       "      <td>0.00971451</td>\n",
       "      <td>0.00988681</td>\n",
       "      <td>0.00017229</td>\n",
       "    </tr>\n",
       "  </tbody>\n",
       "</table>\n",
       "</div>"
      ],
      "text/plain": [
       "                                       BuyPrice   SellPrice    SpentBTC   \\\n",
       "ChannelName                                                                \n",
       "(strategy <DRO-106-new-flat>)         0.00002447  0.00002455  0.00499438   \n",
       "(strategy <Delta 01>)                 0.00000884  0.00000885  0.00392692   \n",
       "(strategy <Dr101>)                    0.00483216  0.00486603  0.07992985   \n",
       "Manual                                0.00001713  0.00001731  0.00935766   \n",
       "MoonShot: (strategy <MoonShot109>)    0.00902878  0.00905503  0.11796500   \n",
       "MoonShot: (strategy <Sho-107-test>)   0.06141377  0.06156549  0.17363260   \n",
       "MoonShot: (strategy <TestShoot777>)   0.00323294  0.00324876  0.00971451   \n",
       "\n",
       "                                      GainedBTC   ProfitBTC   \n",
       "ChannelName                                                   \n",
       "(strategy <DRO-106-new-flat>)         0.00500570  0.00001132  \n",
       "(strategy <Delta 01>)                 0.00392744  0.00000051  \n",
       "(strategy <Dr101>)                    0.08041957  0.00048973  \n",
       "Manual                                0.00944653  0.00008888  \n",
       "MoonShot: (strategy <MoonShot109>)    0.11852019  0.00055518  \n",
       "MoonShot: (strategy <Sho-107-test>)   0.17384473  0.00021211  \n",
       "MoonShot: (strategy <TestShoot777>)   0.00988681  0.00017229  "
      ]
     },
     "execution_count": 74,
     "metadata": {},
     "output_type": "execute_result"
    }
   ],
   "source": [
    "d_path = \"G:\\Code\\Projects\\Quant Mod\\Robots\\Moonbot\"\n",
    "ff = glob(d_path +'/*')\n",
    "df = pd.read_csv(ff[-1], sep = '\\t')\n",
    "df.groupby(['ChannelName ']).sum()\n"
   ]
  },
  {
   "cell_type": "code",
   "execution_count": 40,
   "metadata": {},
   "outputs": [],
   "source": []
  },
  {
   "cell_type": "code",
   "execution_count": 148,
   "metadata": {},
   "outputs": [],
   "source": []
  },
  {
   "cell_type": "code",
   "execution_count": null,
   "metadata": {},
   "outputs": [],
   "source": []
  },
  {
   "cell_type": "code",
   "execution_count": null,
   "metadata": {},
   "outputs": [],
   "source": []
  },
  {
   "cell_type": "code",
   "execution_count": null,
   "metadata": {},
   "outputs": [],
   "source": []
  },
  {
   "cell_type": "code",
   "execution_count": null,
   "metadata": {},
   "outputs": [],
   "source": []
  },
  {
   "cell_type": "code",
   "execution_count": null,
   "metadata": {},
   "outputs": [],
   "source": []
  },
  {
   "cell_type": "code",
   "execution_count": 3,
   "metadata": {},
   "outputs": [],
   "source": [
    "import ffn\n",
    "%matplotlib inline"
   ]
  },
  {
   "cell_type": "code",
   "execution_count": 4,
   "metadata": {},
   "outputs": [
    {
     "data": {
      "text/plain": [
       "ffn.core.PerformanceStats"
      ]
     },
     "execution_count": 4,
     "metadata": {},
     "output_type": "execute_result"
    }
   ],
   "source": [
    "num_days = 1000\n",
    "data = (np.random.randn(num_days) + np.random.uniform(low=0.0, high=0.2, size=num_days))\n",
    "index = pd.date_range('01/01/2010',periods=num_days, freq='D')\n",
    "data = pd.DataFrame(data,index=index,columns=['Returns'])\n",
    "data['Equity'] = data.cumsum() + 100\n",
    "data.iloc[0] = 100\n",
    "perf = data['Equity'].calc_stats()\n",
    "type(perf)"
   ]
  },
  {
   "cell_type": "code",
   "execution_count": 7,
   "metadata": {},
   "outputs": [
    {
     "data": {
      "image/png": "[encoded data removed]",
      "text/plain": [
       "<matplotlib.figure.Figure at 0x17965046828>"
      ]
     },
     "metadata": {},
     "output_type": "display_data"
    }
   ],
   "source": [
    "perf.plot_histogram()"
   ]
  },
  {
   "cell_type": "code",
   "execution_count": 8,
   "metadata": {},
   "outputs": [
    {
     "data": {
      "text/plain": [
       "start                2010-01-01 00:00:00\n",
       "end                  2012-09-26 00:00:00\n",
       "rf                                     0\n",
       "total_return                  1.11514863\n",
       "daily_sharpe                  1.80134629\n",
       "daily_sortino                 2.94419545\n",
       "cagr                         0.315072542\n",
       "max_drawdown                -0.107184472\n",
       "calmar                        2.93953533\n",
       "mtd                         0.0117792641\n",
       "three_month                 0.0253631084\n",
       "six_month                   0.0673374949\n",
       "ytd                          0.137682879\n",
       "one_year                     0.261135258\n",
       "five_year                            NaN\n",
       "daily_mean                   0.194882422\n",
       "daily_vol                    0.108187095\n",
       "daily_skew                 -0.0305679127\n",
       "daily_kurt                   0.508048866\n",
       "best_day                    0.0262176215\n",
       "worst_day                  -0.0237146837\n",
       "monthly_sharpe                2.15060796\n",
       "monthly_sortino               4.22371843\n",
       "monthly_mean                 0.262487419\n",
       "monthly_vol                  0.122052659\n",
       "monthly_skew                 0.372337953\n",
       "monthly_kurt                  1.34723674\n",
       "best_month                   0.121547464\n",
       "worst_month                -0.0618939307\n",
       "yearly_sharpe                 1.25383181\n",
       "yearly_mean                  0.315755022\n",
       "yearly_vol                    0.25183204\n",
       "best_year                    0.493827165\n",
       "avg_drawdown               -0.0147044341\n",
       "avg_drawdown_days             11.4189189\n",
       "avg_up_month                0.0376259556\n",
       "avg_down_month             -0.0183811697\n",
       "win_year_perc                          1\n",
       "dtype: object"
      ]
     },
     "execution_count": 8,
     "metadata": {},
     "output_type": "execute_result"
    }
   ],
   "source": [
    "perf.stats"
   ]
  },
  {
   "cell_type": "code",
   "execution_count": null,
   "metadata": {},
   "outputs": [],
   "source": []
  },
  {
   "cell_type": "code",
   "execution_count": null,
   "metadata": {},
   "outputs": [],
   "source": []
  },
  {
   "cell_type": "code",
   "execution_count": null,
   "metadata": {},
   "outputs": [],
   "source": []
  },
  {
   "cell_type": "code",
   "execution_count": null,
   "metadata": {},
   "outputs": [],
   "source": []
  },
  {
   "cell_type": "code",
   "execution_count": 215,
   "metadata": {},
   "outputs": [
    {
     "name": "stdout",
     "output_type": "stream",
     "text": [
      "NCASH-BTC\n",
      "TRX-BTC\n",
      "NCASH-BTC\n",
      "TRX-BTC\n",
      "NCASH-BTC\n",
      "TRX-BTC\n",
      "NCASH-BTC\n",
      "TRX-BTC\n",
      "NCASH-BTC\n",
      "TRX-BTC\n",
      "NCASH-BTC\n",
      "TRX-BTC\n",
      "NCASH-BTC\n",
      "TRX-BTC\n",
      "16.816666666666666  min\n"
     ]
    }
   ],
   "source": [
    "def trade_statistics(trade_data, init_data):\n",
    "    #trade statistics        \n",
    "    profit = trade_data.iloc[-1]['cum_profit']       \n",
    "\n",
    "    s = trade_data['signal']\n",
    "    trades = s[s==2].shape[0] \n",
    "    \n",
    "    ts = [init_data['market'], init_data['kline'], profit, trades]\n",
    "    return ts\n",
    "    \n",
    "def fo(params):\n",
    "    window = params[0]\n",
    "    buy = params[1]\n",
    "    sell = params[2]\n",
    "    \n",
    "    signals = rsi_01(prices, window, buy, sell) \n",
    "    ts = simulation(prices, signals, init_data)\n",
    "    ts = trade_statistics(ts, init_data)\n",
    "    \n",
    "    results.append(ts + ['#'] + params.tolist() )\n",
    "    return 0\n",
    "\n",
    "timeframes = ['1m', '3m', '5m', '15m', '24m', '30m', '1h']\n",
    "timeframes = ['5m']\n",
    "init_data = {'exchange_commision': 0.0015,\n",
    "             'start_capital'     : 0.1,\n",
    "             'buy_correction'    : 1.004,\n",
    "             'sell_correction'   : 0.996,\n",
    "             'robot_name'        : 'rsi-01',\n",
    "             'market'            : '',\n",
    "             'kline'             : ''  \n",
    "            }\n",
    "markets = glob(data_path + '/BTC/*-BTC')\n",
    "\n",
    "start_time = time.time()\n",
    "for kline in timeframes:\n",
    "    init_data['kline'] =  kline\n",
    "    print(kline)\n",
    "    results = []\n",
    "    for market_path in markets:\n",
    "        market = market_path.split('\\\\')[-1]\n",
    "        init_data['market'] =  market\n",
    "        print('\\t', market)\n",
    "\n",
    "        files = glob(market_path +  '/' + kline + '/' + '*csv') \n",
    "        df = pd.read_csv(files[-1])\n",
    "        prices = df['C'].as_matrix()\n",
    "        \n",
    "        fo(14,30,70)\n",
    "        #brute(fo, ((5,20,1), (30,38,2), (50,80,2)), finish=None)     \n",
    "        xx = pd.DataFrame(results)\n",
    "        xx.to_csv('Logs/mass_backtest_' + kline + '.csv', index = False)\n",
    "end_time = time.time()\n",
    "\n",
    "print(round(end_time-start_time)/60, ' min')\n",
    "results = pd.DataFrame(results)\n",
    "results.columns = ['market','kline','profit','ntrades','delim','window','buy', 'sell']"
   ]
  },
  {
   "cell_type": "code",
   "execution_count": 213,
   "metadata": {},
   "outputs": [
    {
     "name": "stdout",
     "output_type": "stream",
     "text": [
      "Всего результатов:  272\n"
     ]
    },
    {
     "data": {
      "text/html": [
       "<div>\n",
       "<style scoped>\n",
       "    .dataframe tbody tr th:only-of-type {\n",
       "        vertical-align: middle;\n",
       "    }\n",
       "\n",
       "    .dataframe tbody tr th {\n",
       "        vertical-align: top;\n",
       "    }\n",
       "\n",
       "    .dataframe thead th {\n",
       "        text-align: right;\n",
       "    }\n",
       "</style>\n",
       "<table border=\"1\" class=\"dataframe\">\n",
       "  <thead>\n",
       "    <tr style=\"text-align: right;\">\n",
       "      <th></th>\n",
       "      <th>profit</th>\n",
       "      <th>ntrades</th>\n",
       "      <th>window</th>\n",
       "      <th>buy</th>\n",
       "      <th>sell</th>\n",
       "    </tr>\n",
       "    <tr>\n",
       "      <th>market</th>\n",
       "      <th></th>\n",
       "      <th></th>\n",
       "      <th></th>\n",
       "      <th></th>\n",
       "      <th></th>\n",
       "    </tr>\n",
       "  </thead>\n",
       "  <tbody>\n",
       "    <tr>\n",
       "      <th>NCASH-BTC</th>\n",
       "      <td>0.128380576</td>\n",
       "      <td>399</td>\n",
       "      <td>466</td>\n",
       "      <td>830</td>\n",
       "      <td>1842</td>\n",
       "    </tr>\n",
       "    <tr>\n",
       "      <th>TRX-BTC</th>\n",
       "      <td>17.219753948</td>\n",
       "      <td>20583</td>\n",
       "      <td>4088</td>\n",
       "      <td>7912</td>\n",
       "      <td>16356</td>\n",
       "    </tr>\n",
       "  </tbody>\n",
       "</table>\n",
       "</div>"
      ],
      "text/plain": [
       "                 profit  ntrades  window   buy   sell\n",
       "market                                               \n",
       "NCASH-BTC   0.128380576      399     466   830   1842\n",
       "TRX-BTC    17.219753948    20583    4088  7912  16356"
      ]
     },
     "execution_count": 213,
     "metadata": {},
     "output_type": "execute_result"
    }
   ],
   "source": [
    "xx = results [results['profit'] > 0]\n",
    "print('Всего результатов: ', xx.shape[0])\n",
    "xx.groupby('market').sum()"
   ]
  },
  {
   "cell_type": "code",
   "execution_count": null,
   "metadata": {},
   "outputs": [],
   "source": [
    "\n",
    "import plotly\n",
    "plotly.__version__\n",
    "import plotly.offline as py_offline\n",
    "import plotly.graph_objs as go\n",
    "py_offline.init_notebook_mode()\n",
    "\n",
    "candle = go.Candlestick(x=df['T'],open=df['O'],high=df['H'],low=df['L'],close=df['C'],\n",
    "                        increasing=dict(line=dict(color= '#17BECF')),\n",
    "                        decreasing=dict(line=dict(color= '#9E254C')))\n",
    "\n",
    "data = [candle]\n",
    "\n",
    "py_offline.plot(data, filename=data_path + '/' + 'Temp/candle_stick.html')"
   ]
  },
  {
   "cell_type": "code",
   "execution_count": null,
   "metadata": {},
   "outputs": [],
   "source": []
  },
  {
   "cell_type": "code",
   "execution_count": null,
   "metadata": {},
   "outputs": [],
   "source": []
  }
 ],
 "metadata": {
  "kernelspec": {
   "display_name": "Python 3",
   "language": "python",
   "name": "python3"
  },
  "language_info": {
   "codemirror_mode": {
    "name": "ipython",
    "version": 3
   },
   "file_extension": ".py",
   "mimetype": "text/x-python",
   "name": "python",
   "nbconvert_exporter": "python",
   "pygments_lexer": "ipython3",
   "version": "3.6.1"
  }
 },
 "nbformat": 4,
 "nbformat_minor": 2
}
