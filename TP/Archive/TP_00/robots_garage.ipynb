{
 "cells": [
  {
   "cell_type": "code",
   "execution_count": null,
   "metadata": {},
   "outputs": [],
   "source": [
    "import numpy as np\n",
    "import pandas as pd\n",
    "import talib\n",
    "from glob import glob\n",
    "\n",
    "np.set_printoptions(edgeitems=30, linewidth=100000, formatter=dict(float=lambda x: \"%.3g\" % x))\n",
    "from data_provider import read_data_path\n",
    "\n",
    "market = 'ONT-BTC'\n",
    "tf = '3m'\n",
    "\n",
    "data_path = read_data_path() +'/BTC/' +market + '/' + tf\n",
    "files = glob(data_path +'/*csv')\n",
    "files"
   ]
  },
  {
   "cell_type": "code",
   "execution_count": null,
   "metadata": {},
   "outputs": [],
   "source": [
    "def ma_crossover_ichimoku_01 (ticks, lead_window, lag_window):\n",
    "    ma_lead = talib.MA(ticks, lead_window)\n",
    "    ma_lag = talib.MA(ticks, lag_window)\n",
    "    \n",
    "    start = lag_window\n",
    "    signals = np.zeros((len(ticks)))\n",
    "    for cur_tick in range(start,len(ticks)):\n",
    "        if ma_lead[cur_tick] > ma_lag[cur_tick] and ma_lag[cur_tick] > ma_lag[cur_tick-1]:\n",
    "            signals[cur_tick] = 1\n",
    "        elif ma_lead[cur_tick] < ma_lag[cur_tick] and ma_lag[cur_tick] < ma_lag[cur_tick-1]:\n",
    "            signals[cur_tick] = -1\n",
    "     \n",
    "    #robot_log = np.transpose( np.array([ticks, ma_lead, ma_lag,  signals]))\n",
    "    #np.savetxt('Logs/test.csv', robot_log, delimiter=',')\n",
    "    #return robot_log\n",
    "    return signals"
   ]
  },
  {
   "cell_type": "code",
   "execution_count": 196,
   "metadata": {
    "slideshow": {
     "slide_type": "-"
    }
   },
   "outputs": [],
   "source": [
    "def ma_rsi_01 (prices, ma_window, rsi_window, sell_indicator):\n",
    "    rsi = talib.RSI(prices * 100, rsi_window)\n",
    "    ma = talib.MA(prices, ma_window)\n",
    "    \n",
    "    start = max(rsi_window, ma_window)\n",
    "    signals = np.zeros((len(prices)))\n",
    "    market_position = 0\n",
    "    for cur_price in range(start,len(prices)):\n",
    "        if prices[cur_price] > ma[cur_price] and market_position == 0:\n",
    "            signals[cur_price] = 1\n",
    "            market_position = 1\n",
    "        elif  rsi[cur_price] > sell_indicator and market_position == 1:\n",
    "            signals[cur_price] = -1\n",
    "            market_position = 0\n",
    "     \n",
    "    #robot_log = np.transpose( np.array([prices, ma, rsi,  signals]))\n",
    "    #np.savetxt('Logs/test.csv', robot_log, delimiter=',')\n",
    "    #return robot_log\n",
    "    return signals"
   ]
  },
  {
   "cell_type": "code",
   "execution_count": 194,
   "metadata": {},
   "outputs": [],
   "source": [
    "df = pd.read_csv(files[-1])\n",
    "ticks = df['C'].as_matrix()\n",
    "lead_window = 2\n",
    "lag_window = 75\n",
    "\n",
    "\n",
    "ss = ma_crossover_ichimoku_01(ticks, lead_window, lag_window)\n",
    "ss[ss[:,3] !=0];"
   ]
  },
  {
   "cell_type": "code",
   "execution_count": 200,
   "metadata": {},
   "outputs": [],
   "source": [
    "df = pd.read_csv(files[-1])\n",
    "ticks = df['C'].as_matrix()\n",
    "ma_window = 20\n",
    "rsi_window = 14\n",
    "sell_indicator = 75\n",
    "\n",
    "ss = rsi_ma_01(ticks, ma_window, rsi_window, sell_indicator)\n",
    "ss[ss[:,3] !=0];"
   ]
  },
  {
   "cell_type": "code",
   "execution_count": 225,
   "metadata": {},
   "outputs": [
    {
     "name": "stdout",
     "output_type": "stream",
     "text": [
      "0.18435895490300228\n",
      "0.16553631588329534\n",
      "[0.1 0.1 0.1 0.1 0.1 0.1 0.1 0.1 0.1 0.1 0.1 0.1 0.1 0.1 0.1 0.1 0.1 0.1 0.1 0.1 0.1 0.1 126 126 126 126 126 126 126 126 ... 113 113 113 113 113 113 113 113 113 113 113 113 113 113 113 113 113 113 113 113 113 113 113 113 113 113 113 113 113 0.165]\n"
     ]
    },
    {
     "data": {
      "text/plain": [
       "array([0, 0, 0, 0, 0, 0, 0, 0, 0, 0, 0, 0, 0, 0, 0, 0, 0, 0, 0, 0, 0, 0, 1, 0, 0, 0, 0, 0, 0, 0, ..., 0, 0, 0, 0, 0, 0, 0, 0, 0, 0, 0, 0, 0, 0, 0, 0, 0, 0, 0, 0, 0, 0, 0, 0, 0, 0, 0, 0, 0, 0])"
      ]
     },
     "execution_count": 225,
     "metadata": {},
     "output_type": "execute_result"
    }
   ],
   "source": [
    "scap = 0.1\n",
    "cap = scap\n",
    "cums = np.zeros(ss.shape[0])\n",
    "j = 0\n",
    "for i in ss:\n",
    "    if i[3] == 1:\n",
    "        ns = cap/i[0]\n",
    "    elif i[3] == -1:\n",
    "        cap = ns * i[0] \n",
    "    cums[j] = cap\n",
    "    j = j +1\n",
    "\n",
    "print(ss[-1,0]/ ss[0,0] * scap)\n",
    "print(cap)\n",
    "signals = -ss[:,3]\n",
    "signals[-1] = 1\n",
    "xx = np.cumprod(np.power(ss[:,0],signals)) * scap\n",
    "print(xx)\n",
    "ss[:,3]"
   ]
  },
  {
   "cell_type": "code",
   "execution_count": 215,
   "metadata": {},
   "outputs": [
    {
     "data": {
      "text/plain": [
       "array([0, 0, 0, 0, 0, 0, 0, 0, 0, 0, 0, 0, 0, 0, 0, 0, 0, 0, 0, 0, 0, 0, 1, 0, 0, 0, 0, 0, 0, 0, ..., 0, 0, 0, 0, 0, 0, 0, 0, 0, 0, 0, 0, 0, 0, 0, 0, 0, 0, 0, 0, 0, 0, 0, 0, 0, 0, 0, 0, 0, 0])"
      ]
     },
     "execution_count": 215,
     "metadata": {},
     "output_type": "execute_result"
    }
   ],
   "source": [
    "ss[:,3]"
   ]
  },
  {
   "cell_type": "code",
   "execution_count": 14,
   "metadata": {},
   "outputs": [],
   "source": [
    "# signals 0-do nothing, 1-buy, -1-sell\n",
    "\n",
    "def ma_01(ticks, ma_window):\n",
    "    ma = talib.MA(ticks, ma_window)\n",
    "    start = ma_window\n",
    "    \n",
    "    robot_log = np.zeros((len(ticks), 3))\n",
    "    signals = []\n",
    "    for cur_tick in range(start,len(ticks)):\n",
    "        price = ticks[cur_tick]\n",
    "        indicator = ma[cur_tick]\n",
    "        if market_position == 0 and price > indicator:\n",
    "            signal = 1\n",
    "        elif market_position == 1 and price < indicator and bars_since_entry > 0:\n",
    "            signal = -1\n",
    "        else:\n",
    "            signal = 0\n",
    "            \n",
    "        bars_since_entry = bars_since_entry + 1\n",
    "        signals.append(signal)\n",
    "        #robot_log[cur_tick] = [price, indicator, signal]\n",
    "    \n",
    "    \n",
    "    #np.savetxt('Logs/test.csv', robot_log, delimiter=',')\n",
    "    return signals"
   ]
  },
  {
   "cell_type": "code",
   "execution_count": null,
   "metadata": {},
   "outputs": [],
   "source": [
    " \n",
    "def rsi_01 (ticks, window, buy_indicator, sell_indicator):\n",
    "    indicators_array = talib.RSI(ticks * 100, window)\n",
    "    start = window\n",
    "    \n",
    "    robot_log = np.zeros((len(ticks), 3))\n",
    "    signals = []\n",
    "    for cur_tick in range(start,len(ticks)):\n",
    "        price = ticks[cur_tick]\n",
    "        indicator = indicators_array[cur_tick]\n",
    "        if indicator < buy_indicator:\n",
    "            signal = 1\n",
    "        elif indicator > sell_indicator:\n",
    "            signal = -1\n",
    "        else:\n",
    "            signal = 0\n",
    "            \n",
    "        signals.append(signal)\n",
    "        #robot_log[cur_tick] = [price, indicator,  signal]\n",
    "    \n",
    "    \n",
    "    #np.savetxt('Logs/test.csv', robot_log, delimiter=',')\n",
    "    return signals"
   ]
  },
  {
   "cell_type": "code",
   "execution_count": 1,
   "metadata": {},
   "outputs": [],
   "source": [
    "def ma_crossover_01(ticks, lead_window, lag_window, threshold = 0.025):\n",
    "    arr = np.zeros((len(ticks), 3))\n",
    "    arr[:, 0] = ticks\n",
    "    arr[:, 1] = talib.MA(ticks, lead_window)\n",
    "    arr[:, 2] = talib.MA(ticks, lag_window)\n",
    "    ma_df = pd.DataFrame(arr, columns = ['close', 'lead', 'lag'])\n",
    "    \n",
    "    ma_df['lead-lag'] = ma_df['lead'] - ma_df['lag']\n",
    "    ma_df['pc_diff'] = ma_df['lead-lag'] / ma_df['close']\n",
    "    ma_df['signals'] = np.where(ma_df['pc_diff'] > threshold, 1, 0)\n",
    "    ma_df['signals'] = np.where(ma_df['pc_diff'] < -threshold, -1, ma_df['signals'])\n",
    "    \n",
    "    #ma_df.to_csv('Logs/test.csv', robot_log, delimiter=',')\n",
    "    \n",
    "    return ma_df['signals']    "
   ]
  },
  {
   "cell_type": "code",
   "execution_count": 7,
   "metadata": {},
   "outputs": [],
   "source": [
    "def ma_crossover_02(ticks, lead_window, lag_window, threshold = 0.025):\n",
    "    #Fastest\n",
    "    return 'Not tested'\n",
    "    arr = np.zeros((len(ticks), 6))\n",
    "    arr[:, 0] = ticks\n",
    "    arr[:, 1] = talib.MA(ticks, lead_window)\n",
    "    arr[:, 2] = talib.MA(ticks, lag_window)\n",
    "    arr[:lag_window + 1, 1] = 1\n",
    "    arr[:lag_window + 1, 2] = 1\n",
    "        \n",
    "    \n",
    "    arr[:, 3] = arr[:,1] - arr[:,2]\n",
    "    arr[:, 4] = arr[:,3] / arr[:,0]\n",
    "    arr[:, 5] = np.where(arr[:, 4] > threshold, 1, 0)\n",
    "    arr[:, 5] = np.where(arr[:, 4] < -threshold, -1, arr[:, 5])\n",
    "    \n",
    "    return arr[:, 5]   "
   ]
  },
  {
   "cell_type": "code",
   "execution_count": 9,
   "metadata": {},
   "outputs": [
    {
     "name": "stdout",
     "output_type": "stream",
     "text": [
      "0 3\n",
      "1 5\n",
      "2 7\n"
     ]
    }
   ],
   "source": [
    "def ma_crossover_03(ticks, lead_window, lag_window, threshold = 0.025):\n",
    "    #Trade-off between speed and readability\n",
    "    return 'Not tested'\n",
    "    arr = np.zeros((len(ticks), 6))\n",
    "    dtype = [('close', float), ('lead', float), ('lag', float),('lead-lag', float), ('pc_diff', float), ('signals', float)] \n",
    "    arr.dtype = dtype\n",
    "    \n",
    "    ticks_shape = (len(ticks),1)\n",
    "    arr['close'] = np.resize(ticks, ticks_shape)\n",
    "    arr['lead'] = np.resize(talib.MA(ticks, lead_window), ticks_shape)\n",
    "    arr['lag'] = np.resize(talib.MA(ticks, lag_window), ticks_shape)\n",
    "    arr['lead'] = 1\n",
    "    arr['lag'] = 1\n",
    "        \n",
    "    \n",
    "    arr['lead-lag'] = arr['lead'] - arr['lag']\n",
    "    arr['pc_diff'] = arr['lead-lag'] / arr['close']\n",
    "    arr['signals'] = np.where(arr['pc_diff'] > threshold, 1, 0)\n",
    "    arr['signals'] = np.where(arr['pc_diff'] < -threshold, -1, arr['signals'])\n",
    "    \n",
    "    return arr['signals']   "
   ]
  }
 ],
 "metadata": {
  "kernelspec": {
   "display_name": "Python 3",
   "language": "python",
   "name": "python3"
  },
  "language_info": {
   "codemirror_mode": {
    "name": "ipython",
    "version": 3
   },
   "file_extension": ".py",
   "mimetype": "text/x-python",
   "name": "python",
   "nbconvert_exporter": "python",
   "pygments_lexer": "ipython3",
   "version": "3.6.10"
  }
 },
 "nbformat": 4,
 "nbformat_minor": 4
}
