{
 "cells": [
  {
   "cell_type": "code",
   "execution_count": null,
   "metadata": {},
   "outputs": [],
   "source": [
    "import numpy as np\n",
    "import pandas as pd\n",
    "import configparser\n",
    "import time\n",
    "from glob import glob\n",
    "\n",
    "pd.set_option('precision', 9)\n",
    "%matplotlib inline"
   ]
  },
  {
   "cell_type": "code",
   "execution_count": null,
   "metadata": {},
   "outputs": [],
   "source": [
    "results = pd.read_csv('Logs/mass_backtest_24m.csv')\n",
    "results.columns = ['market','kline','profit','ntrades','delim','lead','lag', 'threshold']\n",
    "xx = results [results['profit'] > 0]\n",
    "print('Всего результатов: ', xx.shape[0])\n",
    "xx.groupby('market').sum()"
   ]
  },
  {
   "cell_type": "code",
   "execution_count": null,
   "metadata": {},
   "outputs": [],
   "source": [
    "df01 = results [results['profit'] > 0]\n",
    "df01.groupby('threshold').sum();"
   ]
  },
  {
   "cell_type": "code",
   "execution_count": null,
   "metadata": {},
   "outputs": [],
   "source": [
    "df01['profit'].hist(bins = 30);"
   ]
  },
  {
   "cell_type": "code",
   "execution_count": null,
   "metadata": {},
   "outputs": [],
   "source": [
    "df01.sort_values('profit', ascending = False)"
   ]
  },
  {
   "cell_type": "code",
   "execution_count": null,
   "metadata": {},
   "outputs": [],
   "source": [
    "df01['lead_lag'] = df01['lead'].astype('str')+'_'+df01['lag'].astype('str')\n",
    "df01.groupby('lead_lag').sum()"
   ]
  },
  {
   "cell_type": "code",
   "execution_count": null,
   "metadata": {},
   "outputs": [],
   "source": []
  },
  {
   "cell_type": "code",
   "execution_count": null,
   "metadata": {},
   "outputs": [],
   "source": []
  },
  {
   "cell_type": "code",
   "execution_count": null,
   "metadata": {},
   "outputs": [],
   "source": []
  },
  {
   "cell_type": "code",
   "execution_count": null,
   "metadata": {},
   "outputs": [],
   "source": [
    "from concurrent.futures import ProcessPoolExecutor\n",
    "\n",
    "res = []\n",
    "def fo(x):\n",
    "\n",
    "    profit, num_trades, deposit = RSI03(x, df) \n",
    "    \n",
    "    res.append([profit, num_trades, deposit] + x.tolist() )\n",
    "    return profit\n",
    "\n",
    "def bf(params):\n",
    "    st = params[0]\n",
    "    etl = []\n",
    "    pl = [(i) for i in params[1:]]\n",
    "    for i in range(params[0][0], st[1]):\n",
    "        t1 = i\n",
    "        t2 = i + 1\n",
    "        t3 = 1\n",
    "        et = [(t1 ,t2 ,t3)] + pl\n",
    "       \n",
    "        etl.append(et)\n",
    "    return etl\n",
    "\n",
    "\n",
    "    \n",
    "params = ((6,20,1), (30,48,2), (50,80,2), (6,11,1))\n",
    "pl = bf(params)\n",
    "\n",
    "pool = ProcessPoolExecutor(max_workers = 14)\n",
    "start = time.time()\n",
    "with pool as p:\n",
    "    rr = list(p.map(comp_market, pl))\n",
    "print(\"Time taken = {0:.5f}\".format(time.time() - start))"
   ]
  },
  {
   "cell_type": "code",
   "execution_count": null,
   "metadata": {},
   "outputs": [],
   "source": []
  }
 ],
 "metadata": {
  "kernelspec": {
   "display_name": "Python 3",
   "language": "python",
   "name": "python3"
  },
  "language_info": {
   "codemirror_mode": {
    "name": "ipython",
    "version": 3
   },
   "file_extension": ".py",
   "mimetype": "text/x-python",
   "name": "python",
   "nbconvert_exporter": "python",
   "pygments_lexer": "ipython3",
   "version": "3.6.1"
  }
 },
 "nbformat": 4,
 "nbformat_minor": 2
}
