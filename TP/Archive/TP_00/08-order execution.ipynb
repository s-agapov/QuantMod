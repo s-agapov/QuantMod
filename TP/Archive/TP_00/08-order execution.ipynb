{
 "cells": [
  {
   "cell_type": "code",
   "execution_count": 75,
   "metadata": {
    "collapsed": true
   },
   "outputs": [],
   "source": [
    "rsi_win = 18; rsi_buy = 46; rsi_sell = 52; num_atr_loss = 10\n",
    "\n",
    "market = 'BTC-XVG'\n",
    "tf = '5m'\n",
    "robot_name = 'rsi_01'\n",
    "from robots_garage import rsi_01\n",
    "\n",
    "start_capital = 0.01\n",
    "deposit_percent = 0.3\n",
    "\n",
    "#Work01\n",
    "#api_key = \"c4371a7d59f64a59b5667c3daaba255e\"\n",
    "#api_secret = \"5cc6d8e168914ecd91f6f2136ec0310f\"\n",
    "\n",
    "#Work 30\n",
    "api_key = \"mZrSEDmM7GJ7dCBT5oKcTa5pKdV8CXeEQoR4nlLGPTBWtn9GWqi0UFXLyFG8E6Ry\"\n",
    "api_secret = \"bLtJGjMH0gRRtvDa7OXifGlgpFM2NrsbmOXBnt8tyUuigShZwm2MissRO2PeAKeT\"\n",
    "\n",
    "#Work 5\n",
    "#api_key = \"7761af64992b4b2596b4f0d921697d51\"\n",
    "#api_secret = \"e9f4062734d64d698bb024287ab19720\"\n"
   ]
  },
  {
   "cell_type": "code",
   "execution_count": 76,
   "metadata": {},
   "outputs": [],
   "source": [
    "import pandas as pd\n",
    "import ccxt\n",
    "\n",
    "from data_provider import read_data_path\n",
    "\n",
    "pd.set_option('precision', 9)\n",
    "exchange = ccxt.binance({'apiKey': api_key,\n",
    "                         'secret': api_secret})"
   ]
  },
  {
   "cell_type": "code",
   "execution_count": 80,
   "metadata": {
    "collapsed": true
   },
   "outputs": [
    {
     "data": {
      "text/plain": [
       "[{'amount': 500.0,\n",
       "  'cost': 0.0,\n",
       "  'datetime': '2018-04-14T09:24:37.345Z',\n",
       "  'fee': None,\n",
       "  'filled': 0.0,\n",
       "  'id': '27270366',\n",
       "  'info': {'clientOrderId': 'ngacZTsmbDLZ2OyaaAEKxs',\n",
       "   'executedQty': '0.00000000',\n",
       "   'icebergQty': '0.00000000',\n",
       "   'isWorking': True,\n",
       "   'orderId': 27270366,\n",
       "   'origQty': '500.00000000',\n",
       "   'price': '0.00001000',\n",
       "   'side': 'BUY',\n",
       "   'status': 'CANCELED',\n",
       "   'stopPrice': '0.00000000',\n",
       "   'symbol': 'XVGBTC',\n",
       "   'time': 1523697877345,\n",
       "   'timeInForce': 'GTC',\n",
       "   'type': 'LIMIT'},\n",
       "  'price': 1e-05,\n",
       "  'remaining': 500.0,\n",
       "  'side': 'buy',\n",
       "  'status': 'canceled',\n",
       "  'symbol': 'XVG/BTC',\n",
       "  'timestamp': 1523697877345,\n",
       "  'type': 'limit'}]"
      ]
     },
     "execution_count": 80,
     "metadata": {},
     "output_type": "execute_result"
    }
   ],
   "source": [
    "exchange.fetchOrders(symbol)"
   ]
  },
  {
   "cell_type": "code",
   "execution_count": 78,
   "metadata": {},
   "outputs": [
    {
     "name": "stdout",
     "output_type": "stream",
     "text": [
      "27270366\n"
     ]
    },
    {
     "data": {
      "text/plain": [
       "{'clientOrderId': 'S2qyTMtd1NicRBkDWmaWXx',\n",
       " 'orderId': 27270366,\n",
       " 'origClientOrderId': 'ngacZTsmbDLZ2OyaaAEKxs',\n",
       " 'symbol': 'XVGBTC'}"
      ]
     },
     "execution_count": 78,
     "metadata": {},
     "output_type": "execute_result"
    }
   ],
   "source": [
    "print(order['id'])\n",
    "\n",
    "exchange.cancel_order('27270366', symbol)"
   ]
  },
  {
   "cell_type": "code",
   "execution_count": 45,
   "metadata": {},
   "outputs": [
    {
     "name": "stdout",
     "output_type": "stream",
     "text": [
      "{'info': {'symbol': 'XVGBTC', 'orderId': 27270366, 'clientOrderId': 'ngacZTsmbDLZ2OyaaAEKxs', 'transactTime': 1523697877345, 'price': '0.00001000', 'origQty': '500.00000000', 'executedQty': '0.00000000', 'status': 'NEW', 'timeInForce': 'GTC', 'type': 'LIMIT', 'side': 'BUY'}, 'id': '27270366', 'timestamp': 1523697877345, 'datetime': '2018-04-14T09:24:37.345Z', 'symbol': 'XVG/BTC', 'type': 'limit', 'side': 'buy', 'price': 1e-05, 'amount': 500.0, 'cost': 0.0, 'filled': 0.0, 'remaining': 500.0, 'status': 'open', 'fee': None}\n"
     ]
    }
   ],
   "source": [
    "symbol = 'XVG/BTC'\n",
    "type = 'limit'  # or 'market'\n",
    "side = 'buy'  # or 'buy'\n",
    "amount = 500.0\n",
    "price = 0.00001  # or None\n",
    "\n",
    "# extra params and overrides if needed\n",
    "params = {\n",
    "    'test': True,  # test if it's valid, but don't actually place it\n",
    "}\n",
    "\n",
    "#order = exchange.create_order(symbol, type, side, amount, price)\n",
    "order = exchange.create_limit_buy_order (symbol, amount, price)\n",
    "print(order)"
   ]
  },
  {
   "cell_type": "code",
   "execution_count": 9,
   "metadata": {
    "collapsed": true
   },
   "outputs": [],
   "source": [
    "def response_fail(response):\n",
    "    if response['result'] == None or response['result'] == [] :\n",
    "        return True\n",
    "    else:\n",
    "        return False\n",
    "\n",
    "#Происходит неявное накопление за счет расчета numShares\n",
    "def get_price_orderbook(action, dp = dp11):\n",
    "# API2.0 неправильно отрабатывает ордерную книгу, поэтому применяем 1.1    \n",
    "    if action == 'Entry':\n",
    "        order_type = 'sell'\n",
    "    else:\n",
    "        order_type = 'buy'\n",
    "    orders = dp.get_orderbook(market_name)\n",
    "    orders = json_normalize(orders['result'][order_type])[:10]\n",
    "    price = orders['Rate'][3]\n",
    "    return price\n",
    "\n",
    "def get_price_ticker(action, dp = dp11):\n",
    "# API2.0 неправильно отрабатывает ордерную книгу, поэтому применяем 1.1    \n",
    "    if action == 'Entry':\n",
    "        order_type = 'Ask'\n",
    "    else:\n",
    "        order_type = 'Bid'\n",
    "    ticker = dp.get_ticker(market_name)\n",
    "    price = json_normalize(ticker['result'])\n",
    "    price = price[order_type][0]\n",
    "    return price\n",
    "\n",
    "def write_trades(df_trades, trade):\n",
    "    print('{d[0]} {d[1]:10s} {d[2]:.2f} {d[3]:.8f} {d[4]: .8f} {d[5]:.8f} {d[6]:.8f} {d[7]:.8f}'.format(d=trade))\n",
    "    df_trades.loc[len(df_trades)] = trade\n",
    "    fn =  'trades-' + robot_name + '_' + str(rsiWin) + '_' + str(rsiBuy) + '_' + str(rsiSell) + '.csv'\n",
    "    df_trades.to_csv(fn , index = False)\n",
    "    if trade[1] == \"Entry\" :\n",
    "        order_type = 'sell'\n",
    "    else:\n",
    "        order_type = 'buy'\n",
    "        \n",
    "        \n",
    "def make_order(dp, order_type, market_name, numShares, price):\n",
    "    if not DEBUG :\n",
    "        if order_type == 'buy' :\n",
    "            order = dp.trade_buy(market_name, 'LIMIT', numShares, price, TIMEINEFFECT_IMMEDIATE_OR_CANCEL)\n",
    "        elif order_type == 'sell' :\n",
    "            order = dp.trade_sell(market_name, 'LIMIT', numShares, price, TIMEINEFFECT_IMMEDIATE_OR_CANCEL)\n",
    "        \n",
    "        if response_fail(order):\n",
    "            return  (False, 1,0,0,0)\n",
    "\n",
    "        uuid =  order['result']['OrderId']          \n",
    "\n",
    "        orders = dp.get_order_history(market_name)\n",
    "        if response_fail(orders):\n",
    "            return (False, 2,0,0,0)\n",
    "        \n",
    "        success = False\n",
    "        counter = 0\n",
    "        while (not success or counter <= 3 ):\n",
    "            time.sleep(1)\n",
    "            counter += 1 \n",
    "            orders = dp.get_order_history(market_name)\n",
    "            if response_fail(orders):\n",
    "                return (False, 2,0,0,0)\n",
    "\n",
    "            orders = json_normalize(orders['result'])\n",
    "            filled_order = orders[orders['OrderUuid'] == uuid][['Quantity','PricePerUnit', 'Price', 'QuantityRemaining']]\n",
    "            success = bool(filled_order.shape[0])\n",
    "        \n",
    "        if not success:\n",
    "            return (False, 3,0,0,0)\n",
    "        else:\n",
    "            filled_order = filled_order.to_records(index = False)[0]    \n",
    "    else:\n",
    "        success = True\n",
    "        filled_order = (numShares, numShares * price, price, 0)\n",
    "        \n",
    "    return (success, *filled_order)"
   ]
  },
  {
   "cell_type": "code",
   "execution_count": null,
   "metadata": {},
   "outputs": [],
   "source": []
  },
  {
   "cell_type": "code",
   "execution_count": 25,
   "metadata": {},
   "outputs": [],
   "source": [
    "data_path = read_data_path()\n",
    "df_trades = pd.DataFrame(columns = ['Date', 'Trade type', 'NumShares', 'Price', 'Close', 'cumProfit', 'curCapital', 'Deposit'])\n",
    "\n",
    "commision = 0.001\n",
    "\n",
    "markets = pd.read_csv('markets_in_trade.csv')\n",
    "market_position = np.zeros(markets.shape[0])\n",
    "tf_since_entry = np.zeros(markets.shape[0])\n",
    "cur_capital = np.zeros(markets.shape[0])\n",
    "num_shares = np.zeros(markets.shape[0])\n",
    "cur_capital += start_capital\n",
    "\n",
    "cum_profit = 0\n",
    "deposit = 0\n",
    "last_time = ''\n",
    "\n",
    "stop= False\n",
    "hold = 30\n",
    "fault_count = 0\n",
    "\n"
   ]
  },
  {
   "cell_type": "code",
   "execution_count": 26,
   "metadata": {},
   "outputs": [
    {
     "data": {
      "text/plain": [
       "array([0.01, 0.01, 0.01])"
      ]
     },
     "execution_count": 26,
     "metadata": {},
     "output_type": "execute_result"
    }
   ],
   "source": [
    "cur_capital"
   ]
  },
  {
   "cell_type": "code",
   "execution_count": 2,
   "metadata": {},
   "outputs": [
    {
     "ename": "NameError",
     "evalue": "name 'exchange' is not defined",
     "output_type": "error",
     "traceback": [
      "\u001b[1;31m---------------------------------------------------------------------------\u001b[0m",
      "\u001b[1;31mNameError\u001b[0m                                 Traceback (most recent call last)",
      "\u001b[1;32m<ipython-input-2-6d481f9ecb03>\u001b[0m in \u001b[0;36m<module>\u001b[1;34m()\u001b[0m\n\u001b[1;32m----> 1\u001b[1;33m \u001b[0mdata_path\u001b[0m \u001b[1;33m=\u001b[0m \u001b[0mread_data_path\u001b[0m\u001b[1;33m(\u001b[0m\u001b[1;33m)\u001b[0m\u001b[1;33m\u001b[0m\u001b[0m\n\u001b[0m\u001b[0;32m      2\u001b[0m \u001b[0mdf_trades\u001b[0m \u001b[1;33m=\u001b[0m \u001b[0mpd\u001b[0m\u001b[1;33m.\u001b[0m\u001b[0mDataFrame\u001b[0m\u001b[1;33m(\u001b[0m\u001b[0mcolumns\u001b[0m \u001b[1;33m=\u001b[0m \u001b[1;33m[\u001b[0m\u001b[1;34m'Date'\u001b[0m\u001b[1;33m,\u001b[0m \u001b[1;34m'Trade type'\u001b[0m\u001b[1;33m,\u001b[0m \u001b[1;34m'NumShares'\u001b[0m\u001b[1;33m,\u001b[0m \u001b[1;34m'Price'\u001b[0m\u001b[1;33m,\u001b[0m \u001b[1;34m'Close'\u001b[0m\u001b[1;33m,\u001b[0m \u001b[1;34m'cumProfit'\u001b[0m\u001b[1;33m,\u001b[0m \u001b[1;34m'curCapital'\u001b[0m\u001b[1;33m,\u001b[0m \u001b[1;34m'Deposit'\u001b[0m\u001b[1;33m]\u001b[0m\u001b[1;33m)\u001b[0m\u001b[1;33m\u001b[0m\u001b[0m\n\u001b[0;32m      3\u001b[0m \u001b[1;33m\u001b[0m\u001b[0m\n\u001b[0;32m      4\u001b[0m \u001b[0mcommision\u001b[0m \u001b[1;33m=\u001b[0m \u001b[1;36m0.001\u001b[0m\u001b[1;33m\u001b[0m\u001b[0m\n\u001b[0;32m      5\u001b[0m \u001b[1;33m\u001b[0m\u001b[0m\n",
      "\u001b[1;32mG:\\Code\\Projects\\Quant Mod\\Robots\\TP\\data_provider.py\u001b[0m in \u001b[0;36mread_data_path\u001b[1;34m()\u001b[0m\n\u001b[0;32m     18\u001b[0m     \u001b[0mconfig\u001b[0m \u001b[1;33m=\u001b[0m \u001b[0mconfigparser\u001b[0m\u001b[1;33m.\u001b[0m\u001b[0mConfigParser\u001b[0m\u001b[1;33m(\u001b[0m\u001b[1;33m)\u001b[0m\u001b[1;33m\u001b[0m\u001b[0m\n\u001b[0;32m     19\u001b[0m     \u001b[0mconfig\u001b[0m\u001b[1;33m.\u001b[0m\u001b[0mread\u001b[0m\u001b[1;33m(\u001b[0m\u001b[1;34m\"config.ini\"\u001b[0m\u001b[1;33m)\u001b[0m\u001b[1;33m\u001b[0m\u001b[0m\n\u001b[1;32m---> 20\u001b[1;33m     \u001b[0mdata_path\u001b[0m \u001b[1;33m=\u001b[0m \u001b[0mconfig\u001b[0m\u001b[1;33m[\u001b[0m\u001b[0mexchange\u001b[0m\u001b[1;33m.\u001b[0m\u001b[0mname\u001b[0m\u001b[1;33m]\u001b[0m\u001b[1;33m[\u001b[0m\u001b[1;34m'data_path'\u001b[0m\u001b[1;33m]\u001b[0m\u001b[1;33m\u001b[0m\u001b[0m\n\u001b[0m\u001b[0;32m     21\u001b[0m     \u001b[1;32mreturn\u001b[0m \u001b[0mdata_path\u001b[0m\u001b[1;33m\u001b[0m\u001b[0m\n\u001b[0;32m     22\u001b[0m \u001b[1;33m\u001b[0m\u001b[0m\n",
      "\u001b[1;31mNameError\u001b[0m: name 'exchange' is not defined"
     ]
    }
   ],
   "source": [
    "while not stop:\n",
    "    time.sleep (exchange.rateLimit / 1000) # time.sleep wants seconds\n",
    "    for ind in range(markets.shape[0]):\n",
    "        market = markets.iloc[ind]['market']\n",
    "        tf = markets.iloc[ind]['tf']\n",
    "        df = pd.read_csv(data_path + '/Cash/' + market + '_' + tf + '.csv'  )\n",
    "\n",
    "        data_len = df.shape[0]\n",
    "        tf_closes = df[\"C\"].as_matrix()\n",
    "        \n",
    "        signals = rsi_01(tf_closes, rsi_win, rsi_buy, rsi_sell)\n",
    "        \n",
    "        price = tf_closes[-1]\n",
    "        #Long entry \n",
    "        if  market_position[ind] == 0 and signals[-1] = 1:\n",
    "\n",
    "            num_shares[ind] = cur_capital[ind] / price * (1-commision)     \n",
    "\n",
    "            flag, quantity, price, profit, quantityRemaining =  make_order(dp, 'buy', market_name, numShares, price)\n",
    "            if flag :\n",
    "                if quantityRemaining > 0:\n",
    "                    print(\"Entry numShares: \", numShares, \"Quantity: \", quantity, \"Quantity Remaining:\", quantityRemaining)\n",
    "\n",
    "                buySum = profit + curCapital * commision\n",
    "                curCapital = 0;\n",
    "\n",
    "                market_position[ind] = 1\n",
    "                tf_since_entry[ind] = 0    \n",
    "                entryPrice = price  \n",
    "\n",
    "                print(\"Entry\")\n",
    "                write_trades(df_trades, [myDate[-1], \"Entry\", numShares, price,  myClose[-1], cumProfit, curCapital, deposit])\n",
    "            else:\n",
    "                print(\"buy fail:\", quantity)\n",
    "        #Long Exit Profit \n",
    "        if market_position[ind] == 1 and tf_since_entry[ind] > 1 and signals[-1] == 2:\n",
    "            price = get_price_orderbook('Exit')\n",
    "\n",
    "            flag, quantity,price, profit, quantityRemaining = make_order(dp, 'sell', market_name, numShares, price)\n",
    "            if flag:\n",
    "                if quantityRemaining > 0:\n",
    "                    print(\"Entry numShares: \", numShares, \"Quantity: \", quantity, \"Quantity Remaining:\", quantityRemaining)\n",
    "\n",
    "\n",
    "                pure_profit = profit - buySum\n",
    "                cumProfit += pure_profit\n",
    "                deposit_sum = max(0, pure_profit) * deposit_percent\n",
    "                deposit += deposit_sum\n",
    "                curCapital = profit - deposit_sum\n",
    "\n",
    "                market_position[ind] = 0\n",
    "\n",
    "                write_trades(df_trades, [myDate[-1], \"Exit\", numShares, price, myClose[-1] , cumProfit, curCapital, deposit])\n",
    "            else:\n",
    "                print(\"sell fail : \", quantity)\n",
    "      #------------------Post processing---------------------------------------------------\n",
    "\n",
    "        if last_time != df.iloc[-1]['T']:\n",
    "            last_time = df.iloc[-1]['T']\n",
    "            #print(str(datetime.now()))\n",
    "            #print(df.iloc[-3:][['T','C']])\n",
    "\n",
    "             tf_since_entry[ind] += 1           \n",
    "\n",
    "        log_filename = 'Logs/log-' + robot_name + market.split('-')[1] + '.' + tf  +  '_' + str(rsi_win) + '_' + str(rsi_buy) + '_' + str(rsi_sell) + '.log'    \n",
    "        with open(log_filename, 'w') as log_file:\n",
    "            log_file.write(\"%s, MP: %s, RSI: %s\" % (myDate[-1], market_position[ind], rsiVal))\n",
    "\n",
    "        with open(\"stop.txt\", 'r') as file:\n",
    "            content = file.read()\n",
    "            content = content.replace(' ', '')\n",
    "            content = content.split('\\n')\n",
    "            stop_flag = [s for s in content if robot_name in s]\n",
    "            stop_flag = stop_flag[0].split('=')[1]\n",
    "            stop = bool(int(stop_flag))\n",
    "        \n",
    "        \n",
    "    #Продаем если у нас есть альты\n",
    "    if stop and marketPosition == 1:\n",
    "        print(stop)\n",
    "        price = get_price_orderbook('Stop Robot')\n",
    "        flag, quantity,price, profit, quantityRemaining = make_order(dp, 'sell', market_name, numShares, price)\n",
    "        if flag:\n",
    "            if quantityRemaining > 0:\n",
    "                print(\"Entry numShares: \", numShares, \"Quantity: \", quantity, \"Quantity Remaining:\", quantityRemaining)\n",
    "                \n",
    "            cumProfit += profit - buySum\n",
    "            curCapital = profit \n",
    "            marketPosition = 0\n",
    "\n",
    "            write_trades(df_trades, [myDate[-1], \"Stop Robot\", numShares, price, myClose[-1], cumProfit, curCapital, deposit])\n",
    "        else:\n",
    "            print(\"sell fail: \", quantity)"
   ]
  },
  {
   "cell_type": "code",
   "execution_count": null,
   "metadata": {
    "collapsed": true
   },
   "outputs": [],
   "source": []
  }
 ],
 "metadata": {
  "kernelspec": {
   "display_name": "Python 3",
   "language": "python",
   "name": "python3"
  },
  "language_info": {
   "codemirror_mode": {
    "name": "ipython",
    "version": 3
   },
   "file_extension": ".py",
   "mimetype": "text/x-python",
   "name": "python",
   "nbconvert_exporter": "python",
   "pygments_lexer": "ipython3",
   "version": "3.6.1"
  }
 },
 "nbformat": 4,
 "nbformat_minor": 2
}
