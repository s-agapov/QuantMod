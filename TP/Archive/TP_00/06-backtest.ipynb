{
 "cells": [
  {
   "cell_type": "code",
   "execution_count": null,
   "metadata": {},
   "outputs": [],
   "source": [
    "import numpy as np \n",
    "import pandas as pd\n",
    "from glob import glob\n",
    "import time\n",
    "from scipy.optimize import brute\n",
    "\n",
    "from data_provider import read_data_path"
   ]
  },
  {
   "cell_type": "code",
   "execution_count": 2,
   "metadata": {},
   "outputs": [],
   "source": [
    "def simulation(ticks, signals, init_data):\n",
    "    market = init_data['market']\n",
    "    commission = init_data['exchange_commision']\n",
    "    start_capital = init_data['start_capital']\n",
    "    buy_correction = init_data['buy_correction']\n",
    "    sell_correction = init_data['sell_correction']\n",
    "     \n",
    "    cur_capital = start_capital \n",
    "    num_shares = 0\n",
    "    trade_profit = 0\n",
    "    cum_profit = 0\n",
    "    \n",
    "    market_position = 0\n",
    "    start= len(ticks) - len(signals) \n",
    "    ticks = ticks[start:]\n",
    "    trade_statistics = np.zeros((len(ticks), 7))\n",
    "    for i in range(len(signals)) :\n",
    "        \n",
    "        if market_position == 0 and signals[i] == 1:\n",
    "            price = ticks[i] * buy_correction\n",
    "            num_shares = cur_capital * (1-commission)/price\n",
    "            trade_profit = -cur_capital\n",
    "            cur_capital = 0\n",
    "            market_position = 1\n",
    "            \n",
    "        elif market_position == 1 and signals[i] == -1:\n",
    "            price = ticks[i] * sell_correction\n",
    "            cur_capital = (num_shares * price)*(1-commission)\n",
    "            trade_profit = trade_profit + cur_capital\n",
    "            cum_profit += trade_profit\n",
    "            num_shares = 0\n",
    "            market_position = 0\n",
    "        else:\n",
    "            signals[i] = 0\n",
    "\n",
    "        trade_statistics[i] = [ticks[i], signals[i], market_position, cur_capital, num_shares, trade_profit, cum_profit]     \n",
    "\n",
    "    df = pd.DataFrame(trade_statistics)\n",
    "    df.columns = ['price', 'signal', 'MP', 'capital', 'num_shares', 'profit', 'cum_profit']\n",
    "    df = df.astype({'signal':np.int32, 'MP':np.int32})\n",
    "    return df"
   ]
  },
  {
   "cell_type": "code",
   "execution_count": 3,
   "metadata": {},
   "outputs": [],
   "source": [
    "from robots_garage import ma_crossover_01\n",
    "\n",
    "data_path = read_data_path()\n",
    "markets = glob(data_path + '/BTC/*-BTC')\n",
    "\n",
    "timeframes = ['30m']\n",
    "init_data = {'exchange_commision': 0.0015,\n",
    "             'start_capital'     : 0.1,\n",
    "             'buy_correction'    : 1.004,\n",
    "             'sell_correction'   : 0.996,\n",
    "             'robot_name'        : 'ma_crossover_01',\n",
    "             'market'            : '',\n",
    "             'kline'             : ''  \n",
    "            }\n",
    "results = []\n",
    "\n",
    "def trade_statistics(trade_data, init_data):\n",
    "    #trade statistics        \n",
    "    profit = trade_data.iloc[-1]['cum_profit']       \n",
    "\n",
    "    s = trade_data['signal']\n",
    "    trades = s[s==-1].shape[0] \n",
    "    \n",
    "    ts = [init_data['market'], init_data['kline'], profit, trades]\n",
    "    return ts\n",
    "\n",
    "def fo(params):\n",
    "    lead = params[0]\n",
    "    lag = params[1]\n",
    "    threshold = params[2]/1000\n",
    "    \n",
    "    signals = ma_crossover_01(prices, lead, lag, threshold) \n",
    "    ts = simulation(prices, signals, init_data)\n",
    "    ts = trade_statistics(ts, init_data)\n",
    "    \n",
    "    results.append(ts + ['#'] + params.tolist() )\n",
    "    return 0"
   ]
  },
  {
   "cell_type": "code",
   "execution_count": null,
   "metadata": {},
   "outputs": [
    {
     "name": "stdout",
     "output_type": "stream",
     "text": [
      "30m\n",
      "\t EOS-BTC\n"
     ]
    }
   ],
   "source": [
    "#Grid searsh\n",
    "start_time = time.time()\n",
    "for kline in timeframes:\n",
    "    init_data['kline'] =  kline\n",
    "    print(kline)\n",
    "    results = []\n",
    "    for market_path in markets:\n",
    "        market = market_path.split('\\\\')[-1]\n",
    "        init_data['market'] =  market\n",
    "        print('\\t', market)\n",
    "\n",
    "        files = glob(market_path +  '/' + kline + '/' + '*csv') \n",
    "        df = pd.read_csv(files[-1])\n",
    "        prices = df['C'].as_matrix()\n",
    "        \n",
    "        brute(fo, ((2,12,2), (60,100,2), (17,23,1)), finish=None)     \n",
    "        xx = pd.DataFrame(results)\n",
    "        xx.to_csv('Logs/mass_backtest_' + kline + '.csv', index = False)\n",
    "end_time = time.time()\n",
    "time_taken = (time.time() - start_time)/60\n",
    "print(\"Time taken = {0:.3f}\".format(time_taken),' min')"
   ]
  },
  {
   "cell_type": "code",
   "execution_count": null,
   "metadata": {},
   "outputs": [],
   "source": [
    "results = pd.DataFrame(results)\n",
    "results.columns = ['market','kline','profit','ntrades','delim','lead','lag', 'threshold']\n",
    "xx = results [results['profit'] > 0]\n",
    "print('Всего результатов: ', xx.shape[0])\n",
    "xx.groupby('market').sum()"
   ]
  },
  {
   "cell_type": "code",
   "execution_count": 37,
   "metadata": {},
   "outputs": [
    {
     "name": "stdout",
     "output_type": "stream",
     "text": [
      "24m\n",
      "\t EOS-BTC\n",
      "Time taken = 0.004  min\n"
     ]
    }
   ],
   "source": [
    "timeframes = ['24m']\n",
    "markets = ['EOS-BTC']\n",
    "\n",
    "data_path = read_data_path()\n",
    "start_time = time.time()\n",
    "for kline in timeframes:\n",
    "    init_data['kline'] =  kline\n",
    "    print(kline)\n",
    "    results = []\n",
    "    equity = 0\n",
    "    for market in markets:\n",
    "        market_path  = data_path + '/BTC/' +market\n",
    "        init_data['market'] =  market\n",
    "        print('\\t', market)\n",
    "\n",
    "        files = glob(market_path +  '/' + kline + '/' + '*csv') \n",
    "        df = pd.read_csv(files[-1])\n",
    "        prices = df['C'].as_matrix()\n",
    "        \n",
    "        signals = ma_crossover_01(prices, 8, 72, 0.018) \n",
    "        ts = simulation(prices, signals, init_data)\n",
    "        ts.to_csv('Logs/trades_' + market + '_' + init_data['kline'] + '.csv', index = False)\n",
    "        equity += ts['cum_profit']\n",
    "        \n",
    "end_time = time.time()\n",
    "time_taken = (time.time() - start_time)/60\n",
    "print(\"Time taken = {0:.3f}\".format(time_taken),' min')"
   ]
  },
  {
   "cell_type": "code",
   "execution_count": 32,
   "metadata": {},
   "outputs": [
    {
     "data": {
      "text/plain": [
       "array([[ 1.,  2.,  3.],\n",
       "       [ 0.,  0.,  0.],\n",
       "       [ 0.,  0.,  0.]])"
      ]
     },
     "execution_count": 32,
     "metadata": {},
     "output_type": "execute_result"
    }
   ],
   "source": []
  }
 ],
 "metadata": {
  "kernelspec": {
   "display_name": "Python 3",
   "language": "python",
   "name": "python3"
  },
  "language_info": {
   "codemirror_mode": {
    "name": "ipython",
    "version": 3
   },
   "file_extension": ".py",
   "mimetype": "text/x-python",
   "name": "python",
   "nbconvert_exporter": "python",
   "pygments_lexer": "ipython3",
   "version": "3.6.5"
  }
 },
 "nbformat": 4,
 "nbformat_minor": 2
}
