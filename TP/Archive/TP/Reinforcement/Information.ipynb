{
 "cells": [
  {
   "cell_type": "code",
   "execution_count": 14,
   "metadata": {},
   "outputs": [
    {
     "name": "stdout",
     "output_type": "stream",
     "text": [
      "[2.30258509 1.60943791 1.2039728  1.38629436 1.89711998]\n",
      "[2.45960311 2.22554093 2.01375271 2.11700002 2.33964685]\n"
     ]
    },
    {
     "data": {
      "text/plain": [
       "array([4.32455532, 2.47213595, 1.65148372, 2.        , 3.16397779])"
      ]
     },
     "execution_count": 14,
     "metadata": {},
     "output_type": "execute_result"
    }
   ],
   "source": [
    "import numpy as np\n",
    "\n",
    "p = np.array([0.1, 0.2, 0.3, 0.25, 0.15])\n",
    "print(-np.log(p))\n",
    "print(np.exp(1-p))\n",
    "\n",
    "q = 0.5\n",
    "tsallis = 1/(q-1) * (1 - p**(q-1))\n",
    "tsallis"
   ]
  }
 ],
 "metadata": {
  "kernelspec": {
   "display_name": "Python 3",
   "language": "python",
   "name": "python3"
  },
  "language_info": {
   "codemirror_mode": {
    "name": "ipython",
    "version": 3
   },
   "file_extension": ".py",
   "mimetype": "text/x-python",
   "name": "python",
   "nbconvert_exporter": "python",
   "pygments_lexer": "ipython3",
   "version": "3.5.2"
  }
 },
 "nbformat": 4,
 "nbformat_minor": 2
}
