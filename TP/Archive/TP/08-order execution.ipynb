{
 "cells": [
  {
   "cell_type": "code",
   "execution_count": 2,
   "metadata": {
    "collapsed": true,
    "jupyter": {
     "outputs_hidden": true
    }
   },
   "outputs": [],
   "source": [
    "rsi_win = 18; rsi_buy = 46; rsi_sell = 52; num_atr_loss = 10\n",
    "\n",
    "market = 'BTC-ONT'\n",
    "tf = '3m'\n",
    "robot_name = 'ma_crossover_01'\n",
    "from robots_garage import ma_crossover_01\n",
    "\n",
    "start_capital = 0.01\n",
    "deposit_percent = 0.3\n",
    "\n",
    "#Work01\n",
    "#api_key = \"c4371a7d59f64a59b5667c3daaba255e\"\n",
    "#api_secret = \"5cc6d8e168914ecd91f6f2136ec0310f\"\n",
    "\n",
    "#Work 30\n",
    "api_key = \"mZrSEDmM7GJ7dCBT5oKcTa5pKdV8CXeEQoR4nlLGPTBWtn9GWqi0UFXLyFG8E6Ry\"\n",
    "api_secret = \"bLtJGjMH0gRRtvDa7OXifGlgpFM2NrsbmOXBnt8tyUuigShZwm2MissRO2PeAKeT\""
   ]
  },
  {
   "cell_type": "code",
   "execution_count": 3,
   "metadata": {},
   "outputs": [],
   "source": [
    "import pandas as pd\n",
    "import ccxt\n",
    "\n",
    "from data_provider import read_data_path\n",
    "\n",
    "pd.set_option('precision', 9)\n",
    "exchange = ccxt.binance({'apiKey': api_key,\n",
    "                         'secret': api_secret})"
   ]
  },
  {
   "cell_type": "code",
   "execution_count": 80,
   "metadata": {
    "collapsed": true,
    "jupyter": {
     "outputs_hidden": true
    }
   },
   "outputs": [
    {
     "data": {
      "text/plain": [
       "[{'amount': 500.0,\n",
       "  'cost': 0.0,\n",
       "  'datetime': '2018-04-14T09:24:37.345Z',\n",
       "  'fee': None,\n",
       "  'filled': 0.0,\n",
       "  'id': '27270366',\n",
       "  'info': {'clientOrderId': 'ngacZTsmbDLZ2OyaaAEKxs',\n",
       "   'executedQty': '0.00000000',\n",
       "   'icebergQty': '0.00000000',\n",
       "   'isWorking': True,\n",
       "   'orderId': 27270366,\n",
       "   'origQty': '500.00000000',\n",
       "   'price': '0.00001000',\n",
       "   'side': 'BUY',\n",
       "   'status': 'CANCELED',\n",
       "   'stopPrice': '0.00000000',\n",
       "   'symbol': 'XVGBTC',\n",
       "   'time': 1523697877345,\n",
       "   'timeInForce': 'GTC',\n",
       "   'type': 'LIMIT'},\n",
       "  'price': 1e-05,\n",
       "  'remaining': 500.0,\n",
       "  'side': 'buy',\n",
       "  'status': 'canceled',\n",
       "  'symbol': 'XVG/BTC',\n",
       "  'timestamp': 1523697877345,\n",
       "  'type': 'limit'}]"
      ]
     },
     "execution_count": 80,
     "metadata": {},
     "output_type": "execute_result"
    }
   ],
   "source": [
    "exchange.fetchOrders(symbol)"
   ]
  },
  {
   "cell_type": "code",
   "execution_count": 78,
   "metadata": {},
   "outputs": [
    {
     "name": "stdout",
     "output_type": "stream",
     "text": [
      "27270366\n"
     ]
    },
    {
     "data": {
      "text/plain": [
       "{'clientOrderId': 'S2qyTMtd1NicRBkDWmaWXx',\n",
       " 'orderId': 27270366,\n",
       " 'origClientOrderId': 'ngacZTsmbDLZ2OyaaAEKxs',\n",
       " 'symbol': 'XVGBTC'}"
      ]
     },
     "execution_count": 78,
     "metadata": {},
     "output_type": "execute_result"
    }
   ],
   "source": [
    "print(order['id'])\n",
    "\n",
    "exchange.cancel_order('27270366', symbol)"
   ]
  },
  {
   "cell_type": "code",
   "execution_count": 16,
   "metadata": {},
   "outputs": [
    {
     "name": "stdout",
     "output_type": "stream",
     "text": [
      "{'timestamp': 1525093579320, 'datetime': '2018-04-30T13:06:19.320Z', 'amount': 200.0, 'id': '46903180', 'cost': 0.0, 'status': 'closed', 'info': {'status': 'FILLED', 'origQty': '200.00000000', 'timeInForce': 'GTC', 'type': 'MARKET', 'price': '0.00000000', 'clientOrderId': 'nXPmwo8XK49DVtqbGzRL85', 'executedQty': '200.00000000', 'transactTime': 1525093579320, 'side': 'BUY', 'symbol': 'TRXBTC', 'orderId': 46903180}, 'lastTradeTimestamp': None, 'type': 'market', 'fee': None, 'price': 0.0, 'remaining': 0.0, 'side': 'buy', 'symbol': 'TRX/BTC', 'filled': 200.0}\n"
     ]
    }
   ],
   "source": [
    "symbol = 'TRX/BTC'\n",
    "type = 'limit'  # or 'market'\n",
    "side = 'buy'  # or 'buy'\n",
    "amount = 200.0\n",
    "price = 0.00001  # or None\n",
    "\n",
    "# extra params and overrides if needed\n",
    "params = {\n",
    "    'test': True,  # test if it's valid, but don't actually place it\n",
    "}\n",
    "\n",
    "#order = exchange.create_order(symbol, type, side, amount, price)\n",
    "order = exchange.create_market_buy_order (symbol, amount)\n",
    "print(order)"
   ]
  },
  {
   "cell_type": "code",
   "execution_count": 17,
   "metadata": {},
   "outputs": [
    {
     "data": {
      "text/plain": [
       "1525093579320"
      ]
     },
     "execution_count": 17,
     "metadata": {},
     "output_type": "execute_result"
    }
   ],
   "source": [
    "order['timestamp']"
   ]
  },
  {
   "cell_type": "code",
   "execution_count": 29,
   "metadata": {},
   "outputs": [
    {
     "data": {
      "text/plain": [
       "[{'amount': 200.0,\n",
       "  'cost': 0.002078,\n",
       "  'datetime': '2018-04-30T13:06:19.320Z',\n",
       "  'fee': {'cost': 0.2, 'currency': 'TRX'},\n",
       "  'id': '25405657',\n",
       "  'info': {'commission': '0.20000000',\n",
       "   'commissionAsset': 'TRX',\n",
       "   'id': 25405657,\n",
       "   'isBestMatch': True,\n",
       "   'isBuyer': True,\n",
       "   'isMaker': False,\n",
       "   'orderId': 46903180,\n",
       "   'price': '0.00001039',\n",
       "   'qty': '200.00000000',\n",
       "   'time': 1525093579320},\n",
       "  'order': '46903180',\n",
       "  'price': 1.039e-05,\n",
       "  'side': 'buy',\n",
       "  'symbol': 'TRX/BTC',\n",
       "  'timestamp': 1525093579320,\n",
       "  'type': None},\n",
       " {'amount': 200.0,\n",
       "  'cost': 0.002004,\n",
       "  'datetime': '2018-05-01T06:31:51.932Z',\n",
       "  'fee': {'cost': 2e-06, 'currency': 'BTC'},\n",
       "  'id': '25696950',\n",
       "  'info': {'commission': '0.00000200',\n",
       "   'commissionAsset': 'BTC',\n",
       "   'id': 25696950,\n",
       "   'isBestMatch': True,\n",
       "   'isBuyer': False,\n",
       "   'isMaker': False,\n",
       "   'orderId': 47545022,\n",
       "   'price': '0.00001002',\n",
       "   'qty': '200.00000000',\n",
       "   'time': 1525156310932},\n",
       "  'order': '47545022',\n",
       "  'price': 1.002e-05,\n",
       "  'side': 'sell',\n",
       "  'symbol': 'TRX/BTC',\n",
       "  'timestamp': 1525156310932,\n",
       "  'type': None}]"
      ]
     },
     "execution_count": 29,
     "metadata": {},
     "output_type": "execute_result"
    }
   ],
   "source": [
    "trades = exchange.fetchMyTrades (symbol, since = 1525092666918)#, limit = undefined)\n",
    "trades"
   ]
  },
  {
   "cell_type": "code",
   "execution_count": 28,
   "metadata": {},
   "outputs": [
    {
     "name": "stdout",
     "output_type": "stream",
     "text": [
      "{'timestamp': 1525156310932, 'datetime': '2018-05-01T06:31:51.932Z', 'amount': 200.0, 'id': '47545022', 'cost': 0.0, 'status': 'closed', 'info': {'status': 'FILLED', 'origQty': '200.00000000', 'timeInForce': 'GTC', 'type': 'MARKET', 'price': '0.00000000', 'clientOrderId': 'MFN2CkIoes8Ze1hDEBUjds', 'executedQty': '200.00000000', 'transactTime': 1525156310932, 'side': 'SELL', 'symbol': 'TRXBTC', 'orderId': 47545022}, 'lastTradeTimestamp': None, 'type': 'market', 'fee': None, 'price': 0.0, 'remaining': 0.0, 'side': 'sell', 'symbol': 'TRX/BTC', 'filled': 200.0}\n"
     ]
    }
   ],
   "source": [
    "order = exchange.create_market_sell_order (symbol, amount)\n",
    "print(order)"
   ]
  },
  {
   "cell_type": "code",
   "execution_count": 9,
   "metadata": {
    "collapsed": true,
    "jupyter": {
     "outputs_hidden": true
    }
   },
   "outputs": [],
   "source": [
    "def response_fail(response):\n",
    "    if response['result'] == None or response['result'] == [] :\n",
    "        return True\n",
    "    else:\n",
    "        return False\n",
    "\n",
    "#Происходит неявное накопление за счет расчета numShares\n",
    "def get_price_orderbook(action, dp = dp11):\n",
    "# API2.0 неправильно отрабатывает ордерную книгу, поэтому применяем 1.1    \n",
    "    if action == 'Entry':\n",
    "        order_type = 'sell'\n",
    "    else:\n",
    "        order_type = 'buy'\n",
    "    orders = dp.get_orderbook(market_name)\n",
    "    orders = json_normalize(orders['result'][order_type])[:10]\n",
    "    price = orders['Rate'][3]\n",
    "    return price\n",
    "\n",
    "def get_price_ticker(action, dp = dp11):\n",
    "# API2.0 неправильно отрабатывает ордерную книгу, поэтому применяем 1.1    \n",
    "    if action == 'Entry':\n",
    "        order_type = 'Ask'\n",
    "    else:\n",
    "        order_type = 'Bid'\n",
    "    ticker = dp.get_ticker(market_name)\n",
    "    price = json_normalize(ticker['result'])\n",
    "    price = price[order_type][0]\n",
    "    return price\n",
    "\n",
    "def write_trades(df_trades, trade):\n",
    "    print('{d[0]} {d[1]:10s} {d[2]:.2f} {d[3]:.8f} {d[4]: .8f} {d[5]:.8f} {d[6]:.8f} {d[7]:.8f}'.format(d=trade))\n",
    "    df_trades.loc[len(df_trades)] = trade\n",
    "    fn =  'trades-' + robot_name + '_' + str(rsiWin) + '_' + str(rsiBuy) + '_' + str(rsiSell) + '.csv'\n",
    "    df_trades.to_csv(fn , index = False)\n",
    "    if trade[1] == \"Entry\" :\n",
    "        order_type = 'sell'\n",
    "    else:\n",
    "        order_type = 'buy'\n",
    "        \n",
    "        \n",
    "def make_order(dp, order_type, market_name, numShares, price):\n",
    "    if not DEBUG :\n",
    "        if order_type == 'buy' :\n",
    "            order = dp.trade_buy(market_name, 'LIMIT', numShares, price, TIMEINEFFECT_IMMEDIATE_OR_CANCEL)\n",
    "        elif order_type == 'sell' :\n",
    "            order = dp.trade_sell(market_name, 'LIMIT', numShares, price, TIMEINEFFECT_IMMEDIATE_OR_CANCEL)\n",
    "        \n",
    "        if response_fail(order):\n",
    "            return  (False, 1,0,0,0)\n",
    "\n",
    "        uuid =  order['result']['OrderId']          \n",
    "\n",
    "        orders = dp.get_order_history(market_name)\n",
    "        if response_fail(orders):\n",
    "            return (False, 2,0,0,0)\n",
    "        \n",
    "        success = False\n",
    "        counter = 0\n",
    "        while (not success or counter <= 3 ):\n",
    "            time.sleep(1)\n",
    "            counter += 1 \n",
    "            orders = dp.get_order_history(market_name)\n",
    "            if response_fail(orders):\n",
    "                return (False, 2,0,0,0)\n",
    "\n",
    "            orders = json_normalize(orders['result'])\n",
    "            filled_order = orders[orders['OrderUuid'] == uuid][['Quantity','PricePerUnit', 'Price', 'QuantityRemaining']]\n",
    "            success = bool(filled_order.shape[0])\n",
    "        \n",
    "        if not success:\n",
    "            return (False, 3,0,0,0)\n",
    "        else:\n",
    "            filled_order = filled_order.to_records(index = False)[0]    \n",
    "    else:\n",
    "        success = True\n",
    "        filled_order = (numShares, numShares * price, price, 0)\n",
    "        \n",
    "    return (success, *filled_order)"
   ]
  },
  {
   "cell_type": "code",
   "execution_count": null,
   "metadata": {},
   "outputs": [],
   "source": []
  },
  {
   "cell_type": "code",
   "execution_count": 25,
   "metadata": {},
   "outputs": [],
   "source": [
    "data_path = read_data_path()\n",
    "df_trades = pd.DataFrame(columns = ['Date', 'Trade type', 'NumShares', 'Price', 'Close', 'cumProfit', 'curCapital', 'Deposit'])\n",
    "\n",
    "commision = 0.001\n",
    "\n",
    "markets = pd.read_csv('markets_in_trade.csv')\n",
    "market_position = np.zeros(markets.shape[0])\n",
    "tf_since_entry = np.zeros(markets.shape[0])\n",
    "cur_capital = np.zeros(markets.shape[0])\n",
    "num_shares = np.zeros(markets.shape[0])\n",
    "cur_capital += start_capital\n",
    "\n",
    "cum_profit = 0\n",
    "deposit = 0\n",
    "last_time = ''\n",
    "\n",
    "stop= False\n",
    "hold = 30\n",
    "fault_count = 0\n",
    "\n"
   ]
  },
  {
   "cell_type": "code",
   "execution_count": null,
   "metadata": {},
   "outputs": [],
   "source": []
  },
  {
   "cell_type": "code",
   "execution_count": 2,
   "metadata": {},
   "outputs": [
    {
     "ename": "NameError",
     "evalue": "name 'exchange' is not defined",
     "output_type": "error",
     "traceback": [
      "\u001b[1;31m---------------------------------------------------------------------------\u001b[0m",
      "\u001b[1;31mNameError\u001b[0m                                 Traceback (most recent call last)",
      "\u001b[1;32m<ipython-input-2-6d481f9ecb03>\u001b[0m in \u001b[0;36m<module>\u001b[1;34m()\u001b[0m\n\u001b[1;32m----> 1\u001b[1;33m \u001b[0mdata_path\u001b[0m \u001b[1;33m=\u001b[0m \u001b[0mread_data_path\u001b[0m\u001b[1;33m(\u001b[0m\u001b[1;33m)\u001b[0m\u001b[1;33m\u001b[0m\u001b[0m\n\u001b[0m\u001b[0;32m      2\u001b[0m \u001b[0mdf_trades\u001b[0m \u001b[1;33m=\u001b[0m \u001b[0mpd\u001b[0m\u001b[1;33m.\u001b[0m\u001b[0mDataFrame\u001b[0m\u001b[1;33m(\u001b[0m\u001b[0mcolumns\u001b[0m \u001b[1;33m=\u001b[0m \u001b[1;33m[\u001b[0m\u001b[1;34m'Date'\u001b[0m\u001b[1;33m,\u001b[0m \u001b[1;34m'Trade type'\u001b[0m\u001b[1;33m,\u001b[0m \u001b[1;34m'NumShares'\u001b[0m\u001b[1;33m,\u001b[0m \u001b[1;34m'Price'\u001b[0m\u001b[1;33m,\u001b[0m \u001b[1;34m'Close'\u001b[0m\u001b[1;33m,\u001b[0m \u001b[1;34m'cumProfit'\u001b[0m\u001b[1;33m,\u001b[0m \u001b[1;34m'curCapital'\u001b[0m\u001b[1;33m,\u001b[0m \u001b[1;34m'Deposit'\u001b[0m\u001b[1;33m]\u001b[0m\u001b[1;33m)\u001b[0m\u001b[1;33m\u001b[0m\u001b[0m\n\u001b[0;32m      3\u001b[0m \u001b[1;33m\u001b[0m\u001b[0m\n\u001b[0;32m      4\u001b[0m \u001b[0mcommision\u001b[0m \u001b[1;33m=\u001b[0m \u001b[1;36m0.001\u001b[0m\u001b[1;33m\u001b[0m\u001b[0m\n\u001b[0;32m      5\u001b[0m \u001b[1;33m\u001b[0m\u001b[0m\n",
      "\u001b[1;32mG:\\Code\\Projects\\Quant Mod\\Robots\\TP\\data_provider.py\u001b[0m in \u001b[0;36mread_data_path\u001b[1;34m()\u001b[0m\n\u001b[0;32m     18\u001b[0m     \u001b[0mconfig\u001b[0m \u001b[1;33m=\u001b[0m \u001b[0mconfigparser\u001b[0m\u001b[1;33m.\u001b[0m\u001b[0mConfigParser\u001b[0m\u001b[1;33m(\u001b[0m\u001b[1;33m)\u001b[0m\u001b[1;33m\u001b[0m\u001b[0m\n\u001b[0;32m     19\u001b[0m     \u001b[0mconfig\u001b[0m\u001b[1;33m.\u001b[0m\u001b[0mread\u001b[0m\u001b[1;33m(\u001b[0m\u001b[1;34m\"config.ini\"\u001b[0m\u001b[1;33m)\u001b[0m\u001b[1;33m\u001b[0m\u001b[0m\n\u001b[1;32m---> 20\u001b[1;33m     \u001b[0mdata_path\u001b[0m \u001b[1;33m=\u001b[0m \u001b[0mconfig\u001b[0m\u001b[1;33m[\u001b[0m\u001b[0mexchange\u001b[0m\u001b[1;33m.\u001b[0m\u001b[0mname\u001b[0m\u001b[1;33m]\u001b[0m\u001b[1;33m[\u001b[0m\u001b[1;34m'data_path'\u001b[0m\u001b[1;33m]\u001b[0m\u001b[1;33m\u001b[0m\u001b[0m\n\u001b[0m\u001b[0;32m     21\u001b[0m     \u001b[1;32mreturn\u001b[0m \u001b[0mdata_path\u001b[0m\u001b[1;33m\u001b[0m\u001b[0m\n\u001b[0;32m     22\u001b[0m \u001b[1;33m\u001b[0m\u001b[0m\n",
      "\u001b[1;31mNameError\u001b[0m: name 'exchange' is not defined"
     ]
    }
   ],
   "source": [
    "while not stop:\n",
    "    for ind in range(markets.shape[0]):\n",
    "        market = markets.iloc[ind]['market']\n",
    "        tf = markets.iloc[ind]['tf']\n",
    "        df = pd.read_csv(data_path + '/Cash/' + market + '_' + tf + '.csv'  )\n",
    "\n",
    "        data_len = df.shape[0]\n",
    "        tf_closes = df[\"C\"].as_matrix()\n",
    "        \n",
    "        signals = ma_crossover_01(tf_closes, ma_lead, ma_lag , treshold)\n",
    "        \n",
    "        price = tf_closes[-1]\n",
    "        #Long entry \n",
    "        if  market_position[ind] == 0 and signals[-1] = 1:\n",
    "\n",
    "            num_shares[ind] = cur_capital[ind] / price * (1-commision)     \n",
    "\n",
    "            buy_sum[ind ] = profit[ind] + cur_capital[ind] * commision\n",
    "            curCapital = 0;\n",
    "\n",
    "            market_position[ind] = 1\n",
    "            tf_since_entry[ind] = 0    \n",
    "            entryPrice = price  \n",
    "\n",
    "            print(\"Entry\")\n",
    "            write_trades(df_trades, [myDate[-1], \"Entry\", num_shares, price,  myClose[-1], cumProfit, curCapital, deposit])\n",
    "          #Long Exit Profit \n",
    "        if market_position[ind] == 1 and tf_since_entry[ind] > 1 and signals[-1] == 2:\n",
    "            price = get_price_orderbook('Exit')\n",
    "\n",
    "            flag, quantity,price, profit, quantityRemaining = make_order(dp, 'sell', market_name, numShares, price)\n",
    "            if flag:\n",
    "                if quantityRemaining > 0:\n",
    "                    print(\"Entry numShares: \", numShares, \"Quantity: \", quantity, \"Quantity Remaining:\", quantityRemaining)\n",
    "\n",
    "\n",
    "                pure_profit = profit - buySum\n",
    "                cumProfit += pure_profit\n",
    "                deposit_sum = max(0, pure_profit) * deposit_percent\n",
    "                deposit += deposit_sum\n",
    "                curCapital = profit - deposit_sum\n",
    "\n",
    "                market_position[ind] = 0\n",
    "\n",
    "                write_trades(df_trades, [myDate[-1], \"Exit\", numShares, price, myClose[-1] , cumProfit, curCapital, deposit])\n",
    "            else:\n",
    "                print(\"sell fail : \", quantity)\n",
    "      #------------------Post processing---------------------------------------------------\n",
    "\n",
    "        if last_time != df.iloc[-1]['T']:\n",
    "            last_time = df.iloc[-1]['T']\n",
    "            #print(str(datetime.now()))\n",
    "            #print(df.iloc[-3:][['T','C']])\n",
    "\n",
    "             tf_since_entry[ind] += 1           \n",
    "\n",
    "        log_filename = 'Logs/log-' + robot_name + market.split('-')[1] + '.' + tf  +  '_' + str(rsi_win) + '_' + str(rsi_buy) + '_' + str(rsi_sell) + '.log'    \n",
    "        with open(log_filename, 'w') as log_file:\n",
    "            log_file.write(\"%s, MP: %s, RSI: %s\" % (myDate[-1], market_position[ind], rsiVal))\n",
    "\n",
    "        with open(\"stop.txt\", 'r') as file:\n",
    "            content = file.read()\n",
    "            content = content.replace(' ', '')\n",
    "            content = content.split('\\n')\n",
    "            stop_flag = [s for s in content if robot_name in s]\n",
    "            stop_flag = stop_flag[0].split('=')[1]\n",
    "            stop = bool(int(stop_flag))\n",
    "        \n",
    "        \n",
    "    #Продаем если у нас есть альты\n",
    "    if stop and marketPosition == 1:\n",
    "        print(stop)\n",
    "        price = get_price_orderbook('Stop Robot')\n",
    "        flag, quantity,price, profit, quantityRemaining = make_order(dp, 'sell', market_name, numShares, price)\n",
    "        if flag:\n",
    "            if quantityRemaining > 0:\n",
    "                print(\"Entry numShares: \", numShares, \"Quantity: \", quantity, \"Quantity Remaining:\", quantityRemaining)\n",
    "                \n",
    "            cumProfit += profit - buySum\n",
    "            curCapital = profit \n",
    "            marketPosition = 0\n",
    "\n",
    "            write_trades(df_trades, [myDate[-1], \"Stop Robot\", numShares, price, myClose[-1], cumProfit, curCapital, deposit])\n",
    "        else:\n",
    "            print(\"sell fail: \", quantity)"
   ]
  },
  {
   "cell_type": "code",
   "execution_count": null,
   "metadata": {
    "collapsed": true,
    "jupyter": {
     "outputs_hidden": true
    }
   },
   "outputs": [],
   "source": []
  }
 ],
 "metadata": {
  "kernelspec": {
   "display_name": "Python 3",
   "language": "python",
   "name": "python3"
  },
  "language_info": {
   "codemirror_mode": {
    "name": "ipython",
    "version": 3
   },
   "file_extension": ".py",
   "mimetype": "text/x-python",
   "name": "python",
   "nbconvert_exporter": "python",
   "pygments_lexer": "ipython3",
   "version": "3.6.10"
  }
 },
 "nbformat": 4,
 "nbformat_minor": 4
}
