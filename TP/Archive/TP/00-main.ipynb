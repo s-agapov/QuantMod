{
 "cells": [
  {
   "cell_type": "code",
   "execution_count": 4,
   "metadata": {},
   "outputs": [],
   "source": [
    "import numpy as np\n",
    "import pandas as pd\n",
    "import configparser\n",
    "import time\n",
    "from glob import glob\n",
    "import ccxt\n",
    "\n",
    "pd.set_option('precision', 9)\n",
    "from data_provider import read_prices"
   ]
  },
  {
   "cell_type": "code",
   "execution_count": 7,
   "metadata": {},
   "outputs": [
    {
     "ename": "NameError",
     "evalue": "name 'get_symbols' is not defined",
     "output_type": "error",
     "traceback": [
      "\u001b[0;31m---------------------------------------------------------------------------\u001b[0m",
      "\u001b[0;31mNameError\u001b[0m                                 Traceback (most recent call last)",
      "\u001b[0;32m<ipython-input-7-12539c9989e5>\u001b[0m in \u001b[0;36m<module>\u001b[0;34m()\u001b[0m\n\u001b[1;32m      1\u001b[0m \u001b[0mexchange\u001b[0m \u001b[0;34m=\u001b[0m \u001b[0mccxt\u001b[0m\u001b[0;34m.\u001b[0m\u001b[0mbitmex\u001b[0m\u001b[0;34m(\u001b[0m\u001b[0;34m)\u001b[0m\u001b[0;34m\u001b[0m\u001b[0m\n\u001b[1;32m      2\u001b[0m \u001b[0;31m#exchange.timeframes.values()\u001b[0m\u001b[0;34m\u001b[0m\u001b[0;34m\u001b[0m\u001b[0m\n\u001b[0;32m----> 3\u001b[0;31m \u001b[0mget_symbols\u001b[0m\u001b[0;34m(\u001b[0m\u001b[0mexchange\u001b[0m\u001b[0;34m,\u001b[0m \u001b[0;34m'XBT'\u001b[0m\u001b[0;34m)\u001b[0m\u001b[0;34m\u001b[0m\u001b[0m\n\u001b[0m",
      "\u001b[0;31mNameError\u001b[0m: name 'get_symbols' is not defined"
     ]
    }
   ],
   "source": [
    "exchange = ccxt.bitmex()\n",
    "#exchange.timeframes.values()\n",
    "get_symbols(exchange, 'XBT')"
   ]
  },
  {
   "cell_type": "code",
   "execution_count": 2,
   "metadata": {},
   "outputs": [
    {
     "data": {
      "text/plain": [
       "'2017-07-14T04:00:00.000Z'"
      ]
     },
     "execution_count": 2,
     "metadata": {},
     "output_type": "execute_result"
    }
   ],
   "source": [
    "exchange = ccxt.binance()\n",
    "exchange.iso8601(1500004800000)"
   ]
  },
  {
   "cell_type": "code",
   "execution_count": 3,
   "metadata": {},
   "outputs": [
    {
     "name": "stdout",
     "output_type": "stream",
     "text": [
      "tar: Удаляется начальный `/' из имен объектов\n",
      "/home/user/Robots/Code/TP/\n",
      "/home/user/Robots/Code/TP/integrate.ipynb\n",
      "/home/user/Robots/Code/TP/pr_LSTM.ipynb\n",
      "/home/user/Robots/Code/TP/config.ini\n",
      "/home/user/Robots/Code/TP/Pr_CNN.ipynb\n",
      "/home/user/Robots/Code/TP/robot_02.ipynb\n",
      "/home/user/Robots/Code/TP/TA_robots.py\n",
      "/home/user/Robots/Code/TP/currencies.txt\n",
      "/home/user/Robots/Code/TP/predictive.ipynb\n",
      "/home/user/Robots/Code/TP/xgboost.R\n",
      "/home/user/Robots/Code/TP/01-data provider.ipynb\n",
      "/home/user/Robots/Code/TP/TA_robots.ipynb\n",
      "/home/user/Robots/Code/TP/data_provider.py\n",
      "/home/user/Robots/Code/TP/cash_data_read.py\n",
      "/home/user/Robots/Code/TP/06-backtest_TA.ipynb\n",
      "/home/user/Robots/Code/TP/Pr_automl.ipynb\n",
      "/home/user/Robots/Code/TP/Reinforcement/\n",
      "/home/user/Robots/Code/TP/Reinforcement/Information.ipynb\n",
      "/home/user/Robots/Code/TP/Reinforcement/k-arms bandits.ipynb\n",
      "/home/user/Robots/Code/TP/Reinforcement/.ipynb_checkpoints/\n",
      "/home/user/Robots/Code/TP/Reinforcement/.ipynb_checkpoints/k-arms bandits-checkpoint.ipynb\n",
      "/home/user/Robots/Code/TP/Reinforcement/.ipynb_checkpoints/Information-checkpoint.ipynb\n",
      "/home/user/Robots/Code/TP/Reinforcement/.ipynb_checkpoints/RNN-basic-checkpoint.ipynb\n",
      "/home/user/Robots/Code/TP/Reinforcement/RNN-basic.ipynb\n",
      "/home/user/Robots/Code/TP/arima-test.R\n",
      "/home/user/Robots/Code/TP/visualisation.ipynb\n",
      "/home/user/Robots/Code/TP/arima-garch.R\n",
      "/home/user/Robots/Code/TP/stop.txt\n",
      "/home/user/Robots/Code/TP/08-order execution.ipynb\n",
      "/home/user/Robots/Code/TP/05 - testing.ipynb\n",
      "/home/user/Robots/Code/TP/03-forecast.R\n",
      "/home/user/Robots/Code/TP/test.hdf5\n",
      "/home/user/Robots/Code/TP/forecasts.csv\n",
      "/home/user/Robots/Code/TP/arima.R\n",
      "/home/user/Robots/Code/TP/09-accounts.ipynb\n",
      "/home/user/Robots/Code/TP/robot_01.ipynb\n",
      "/home/user/Robots/Code/TP/02-descritive analytics.ipynb\n",
      "/home/user/Robots/Code/TP/TP.Rproj\n",
      "/home/user/Robots/Code/TP/tp_180825.tar.gz\n",
      "tar: /home/user/Robots/Code/TP/tp_180825.tar.gz: файл изменился во время чтения\n",
      "/home/user/Robots/Code/TP/pr_LSTM_wide.ipynb\n",
      "/home/user/Robots/Code/TP/00-main.ipynb\n",
      "/home/user/Robots/Code/TP/markets_in_trade.csv\n",
      "/home/user/Robots/Code/TP/07-trade statistics.ipynb\n",
      "/home/user/Robots/Code/TP/Pr_class_trees.ipynb\n",
      "/home/user/Robots/Code/TP/tp_circus.ini\n",
      "/home/user/Robots/Code/TP/backtest.py\n",
      "/home/user/Robots/Code/TP/nohup.out\n",
      "/home/user/Robots/Code/TP/pr_LSTM.py\n",
      "Uploading tp_180825.tar.gz\n",
      "Uploaded 1DAl5kWiStLOa_Dx4cOmleR-1bMRikUGl at 469.5 KB/s, total 668.3 KB\n"
     ]
    }
   ],
   "source": [
    "!. ~/Robots/Code/backup.sh"
   ]
  },
  {
   "cell_type": "code",
   "execution_count": 23,
   "metadata": {},
   "outputs": [],
   "source": [
    "import pymc3 as pm\n",
    "import theano.tensor as tt\n",
    "%matplotlib inline\n",
    "from IPython.core.pylabtools import figsize\n",
    "import matplotlib\n",
    "from matplotlib import pyplot as plt\n",
    "\n",
    "import json\n",
    "s = json.load(open(\"data/bmh_matplotlibrc.json\"))\n"
   ]
  },
  {
   "cell_type": "code",
   "execution_count": 8,
   "metadata": {},
   "outputs": [],
   "source": [
    "count_data = np.loadtxt(\"data/txtdata.csv\")\n",
    "n_count_data = len(count_data)"
   ]
  },
  {
   "cell_type": "code",
   "execution_count": 10,
   "metadata": {},
   "outputs": [],
   "source": [
    "with pm.Model() as model:\n",
    "    alpha = 1.0/count_data.mean()  # Recall count_data is the\n",
    "                                   # variable that holds our txt counts\n",
    "    lambda_1 = pm.Exponential(\"lambda_1\", alpha)\n",
    "    lambda_2 = pm.Exponential(\"lambda_2\", alpha)\n",
    "    \n",
    "    tau = pm.DiscreteUniform(\"tau\", lower=0, upper=n_count_data - 1)"
   ]
  },
  {
   "cell_type": "code",
   "execution_count": 11,
   "metadata": {},
   "outputs": [],
   "source": [
    "with model:\n",
    "    idx = np.arange(n_count_data) # Index\n",
    "    lambda_ = pm.math.switch(tau > idx, lambda_1, lambda_2)"
   ]
  },
  {
   "cell_type": "code",
   "execution_count": 12,
   "metadata": {},
   "outputs": [],
   "source": [
    "with model:\n",
    "    observation = pm.Poisson(\"obs\", lambda_, observed=count_data)"
   ]
  },
  {
   "cell_type": "code",
   "execution_count": 14,
   "metadata": {},
   "outputs": [
    {
     "name": "stderr",
     "output_type": "stream",
     "text": [
      "Multiprocess sampling (4 chains in 4 jobs)\n",
      "CompoundStep\n",
      ">Metropolis: [tau]\n",
      ">Metropolis: [lambda_2_log__]\n",
      ">Metropolis: [lambda_1_log__]\n",
      "100%|██████████| 15000/15000 [00:04<00:00, 3247.77it/s]\n",
      "The number of effective samples is smaller than 25% for some parameters.\n"
     ]
    }
   ],
   "source": [
    "with model:\n",
    "    step = pm.Metropolis()\n",
    "    trace = pm.sample(10000, tune=5000,step=step)"
   ]
  },
  {
   "cell_type": "code",
   "execution_count": 25,
   "metadata": {},
   "outputs": [],
   "source": [
    "lambda_1_samples = trace['lambda_1']\n",
    "lambda_2_samples = trace['lambda_2']\n",
    "tau_samples = trace['tau']"
   ]
  },
  {
   "cell_type": "code",
   "execution_count": 26,
   "metadata": {},
   "outputs": [
    {
     "name": "stderr",
     "output_type": "stream",
     "text": [
      "/usr/local/lib/python3.5/dist-packages/matplotlib/axes/_axes.py:6462: UserWarning: The 'normed' kwarg is deprecated, and has been replaced by the 'density' kwarg.\n",
      "  warnings.warn(\"The 'normed' kwarg is deprecated, and has been \"\n"
     ]
    },
    {
     "data": {
      "image/png": "[encoded data removed]",
      "text/plain": [
       "<Figure size 432x288 with 3 Axes>"
      ]
     },
     "metadata": {},
     "output_type": "display_data"
    }
   ],
   "source": [
    "\n",
    "ax = plt.subplot(311)\n",
    "ax.set_autoscaley_on(False)\n",
    "\n",
    "plt.hist(lambda_1_samples, histtype='stepfilled', bins=30, alpha=0.85,\n",
    "         label=\"posterior of $\\lambda_1$\", color=\"#A60628\", normed=True)\n",
    "plt.legend(loc=\"upper left\")\n",
    "plt.title(r\"\"\"Posterior distributions of the variables\n",
    "    $\\lambda_1,\\;\\lambda_2,\\;\\tau$\"\"\")\n",
    "plt.xlim([15, 30])\n",
    "plt.xlabel(\"$\\lambda_1$ value\")\n",
    "\n",
    "ax = plt.subplot(312)\n",
    "ax.set_autoscaley_on(False)\n",
    "plt.hist(lambda_2_samples, histtype='stepfilled', bins=30, alpha=0.85,\n",
    "         label=\"posterior of $\\lambda_2$\", color=\"#7A68A6\", normed=True)\n",
    "plt.legend(loc=\"upper left\")\n",
    "plt.xlim([15, 30])\n",
    "plt.xlabel(\"$\\lambda_2$ value\")\n",
    "\n",
    "plt.subplot(313)\n",
    "w = 1.0 / tau_samples.shape[0] * np.ones_like(tau_samples)\n",
    "plt.hist(tau_samples, bins=n_count_data, alpha=1,\n",
    "         label=r\"posterior of $\\tau$\",\n",
    "         color=\"#467821\", weights=w, rwidth=2.)\n",
    "plt.xticks(np.arange(n_count_data))\n",
    "\n",
    "plt.legend(loc=\"upper left\")\n",
    "plt.ylim([0, .75])\n",
    "plt.xlim([35, len(count_data)-20])\n",
    "plt.xlabel(r\"$\\tau$ (in days)\")\n",
    "plt.ylabel(\"probability\");"
   ]
  }
 ],
 "metadata": {
  "kernelspec": {
   "display_name": "Python 3",
   "language": "python",
   "name": "python3"
  },
  "language_info": {
   "codemirror_mode": {
    "name": "ipython",
    "version": 3
   },
   "file_extension": ".py",
   "mimetype": "text/x-python",
   "name": "python",
   "nbconvert_exporter": "python",
   "pygments_lexer": "ipython3",
   "version": "3.5.2"
  }
 },
 "nbformat": 4,
 "nbformat_minor": 2
}
