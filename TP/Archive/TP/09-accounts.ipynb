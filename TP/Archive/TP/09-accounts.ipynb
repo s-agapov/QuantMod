{
 "cells": [
  {
   "cell_type": "code",
   "execution_count": 2,
   "metadata": {},
   "outputs": [],
   "source": [
    "import pandas as pd\n",
    "from pandas.io.json import json_normalize\n",
    "\n",
    "import ccxt"
   ]
  },
  {
   "cell_type": "code",
   "execution_count": 3,
   "metadata": {},
   "outputs": [],
   "source": [
    "#Work 30\n",
    "api_key = \"7hOldNclzrzvMe3Xs8otllgdmsKLXIpctjP1eB009P9yd7EzIo5FqunaArrb0YFH\"\n",
    "api_secret = \"0J5mmatEvePndM5JwpAIWPYo8ZCDSvxnqxsNPEYXCe35SSF1EDDOaiZQPR0Tenwn\"\n",
    "\n",
    "pd.set_option('precision', 9)\n",
    "exchange = ccxt.binance({'apiKey': api_key,\n",
    "                         'secret': api_secret})\n",
    "bal = exchange.fetch_balance ()\n",
    "df = json_normalize(bal['info']['balances'])"
   ]
  },
  {
   "cell_type": "code",
   "execution_count": 4,
   "metadata": {},
   "outputs": [
    {
     "data": {
      "text/plain": [
       "0.027254600000000004"
      ]
     },
     "execution_count": 4,
     "metadata": {},
     "output_type": "execute_result"
    }
   ],
   "source": []
  },
  {
   "cell_type": "code",
   "execution_count": 4,
   "metadata": {},
   "outputs": [
    {
     "data": {
      "text/html": [
       "<div>\n",
       "<style scoped>\n",
       "    .dataframe tbody tr th:only-of-type {\n",
       "        vertical-align: middle;\n",
       "    }\n",
       "\n",
       "    .dataframe tbody tr th {\n",
       "        vertical-align: top;\n",
       "    }\n",
       "\n",
       "    .dataframe thead th {\n",
       "        text-align: right;\n",
       "    }\n",
       "</style>\n",
       "<table border=\"1\" class=\"dataframe\">\n",
       "  <thead>\n",
       "    <tr style=\"text-align: right;\">\n",
       "      <th></th>\n",
       "      <th>asset</th>\n",
       "      <th>free</th>\n",
       "      <th>locked</th>\n",
       "    </tr>\n",
       "  </thead>\n",
       "  <tbody>\n",
       "    <tr>\n",
       "      <th>0</th>\n",
       "      <td>BTC</td>\n",
       "      <td>0.01995992</td>\n",
       "      <td>0.00000000</td>\n",
       "    </tr>\n",
       "    <tr>\n",
       "      <th>4</th>\n",
       "      <td>BNB</td>\n",
       "      <td>1.87978492</td>\n",
       "      <td>0.00000000</td>\n",
       "    </tr>\n",
       "    <tr>\n",
       "      <th>28</th>\n",
       "      <td>TRX</td>\n",
       "      <td>0.60000000</td>\n",
       "      <td>0.00000000</td>\n",
       "    </tr>\n",
       "    <tr>\n",
       "      <th>125</th>\n",
       "      <td>ONT</td>\n",
       "      <td>0.00128000</td>\n",
       "      <td>0.00000000</td>\n",
       "    </tr>\n",
       "    <tr>\n",
       "      <th>155</th>\n",
       "      <td>ONG</td>\n",
       "      <td>0.00001190</td>\n",
       "      <td>0.00000000</td>\n",
       "    </tr>\n",
       "  </tbody>\n",
       "</table>\n",
       "</div>"
      ],
      "text/plain": [
       "    asset        free      locked\n",
       "0     BTC  0.01995992  0.00000000\n",
       "4     BNB  1.87978492  0.00000000\n",
       "28    TRX  0.60000000  0.00000000\n",
       "125   ONT  0.00128000  0.00000000\n",
       "155   ONG  0.00001190  0.00000000"
      ]
     },
     "execution_count": 4,
     "metadata": {},
     "output_type": "execute_result"
    }
   ],
   "source": [
    "df['free'] = pd.to_numeric(df['free'])\n",
    "df[df['free'] > 0]"
   ]
  },
  {
   "cell_type": "code",
   "execution_count": 37,
   "metadata": {},
   "outputs": [
    {
     "data": {
      "text/plain": [
       "{'amount': 8.71,\n",
       " 'cost': 0.0,\n",
       " 'datetime': '2018-05-04T10:28:27.440Z',\n",
       " 'fee': None,\n",
       " 'filled': 8.71,\n",
       " 'id': '18747808',\n",
       " 'info': {'clientOrderId': 'jkHgU1q2811B1GhclLxo1Z',\n",
       "  'executedQty': '8.71000000',\n",
       "  'orderId': 18747808,\n",
       "  'origQty': '8.71000000',\n",
       "  'price': '0.00000000',\n",
       "  'side': 'SELL',\n",
       "  'status': 'FILLED',\n",
       "  'symbol': 'ONTBTC',\n",
       "  'timeInForce': 'GTC',\n",
       "  'transactTime': 1525429707044,\n",
       "  'type': 'MARKET'},\n",
       " 'lastTradeTimestamp': None,\n",
       " 'price': 0.0,\n",
       " 'remaining': 0.0,\n",
       " 'side': 'sell',\n",
       " 'status': 'closed',\n",
       " 'symbol': 'ONT/BTC',\n",
       " 'timestamp': 1525429707044,\n",
       " 'type': 'market'}"
      ]
     },
     "execution_count": 37,
     "metadata": {},
     "output_type": "execute_result"
    }
   ],
   "source": [
    "symbol = 'ONT/BTC'\n",
    "amount = 8.7112800\n",
    "order = exchange.create_market_sell_order(symbol, amount)\n",
    "order;"
   ]
  },
  {
   "cell_type": "code",
   "execution_count": 40,
   "metadata": {},
   "outputs": [],
   "source": [
    "symbol = 'BNB/BTC'\n",
    "amount = 2\n",
    "order = exchange.create_market_buy_order(symbol, amount)"
   ]
  }
 ],
 "metadata": {
  "kernelspec": {
   "display_name": "Python 3",
   "language": "python",
   "name": "python3"
  },
  "language_info": {
   "codemirror_mode": {
    "name": "ipython",
    "version": 3
   },
   "file_extension": ".py",
   "mimetype": "text/x-python",
   "name": "python",
   "nbconvert_exporter": "python",
   "pygments_lexer": "ipython3",
   "version": "3.5.2"
  }
 },
 "nbformat": 4,
 "nbformat_minor": 2
}
