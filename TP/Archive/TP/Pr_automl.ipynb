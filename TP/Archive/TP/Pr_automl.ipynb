{
 "cells": [
  {
   "cell_type": "code",
   "execution_count": 1,
   "metadata": {},
   "outputs": [],
   "source": [
    "import numpy as np\n",
    "import pandas as pd\n",
    "import time\n",
    "from glob import glob\n",
    "\n",
    "from data_provider import read_data_path, read_prices, read_data\n",
    "from backtest import simulation\n",
    "np.set_printoptions(edgeitems=30, linewidth=1000, formatter=dict(float=lambda x: \"%.7g\" % x))"
   ]
  },
  {
   "cell_type": "code",
   "execution_count": 2,
   "metadata": {},
   "outputs": [],
   "source": [
    "#timeframes = ['1m', '3m', '5m', '15m', '24m', '30m', '1h']\n",
    "timeframes = ['3m', '5m', '15m', '24m', '30m', '1h']\n",
    "#timeframes = ['1h']\n",
    "pair = 'BTC'\n",
    "data_path = read_data_path()\n",
    "data_path = data_path + '/' + pair \n",
    "files = glob(data_path + '/*')\n",
    "markets = [x.split('/')[-1] for x in files]\n",
    "#markets = ['BTC-USDT']\n",
    "markets = ['EOS-BTC','TRX-BTC', 'ONT-BTC', 'ZIL-BTC', 'VEN-BTC']\n",
    "markets = ['ONT-BTC']"
   ]
  },
  {
   "cell_type": "code",
   "execution_count": 3,
   "metadata": {},
   "outputs": [
    {
     "name": "stderr",
     "output_type": "stream",
     "text": [
      "Optimization Progress: 202pipeline [40:13, 11.26s/pipeline]"
     ]
    },
    {
     "name": "stdout",
     "output_type": "stream",
     "text": [
      "Generation 1 - Current best internal CV score: 0.528425365560115\n"
     ]
    },
    {
     "name": "stderr",
     "output_type": "stream",
     "text": [
      "Optimization Progress: 306pipeline [1:02:46,  9.98s/pipeline]"
     ]
    },
    {
     "name": "stdout",
     "output_type": "stream",
     "text": [
      "Generation 2 - Current best internal CV score: 0.5295403769167122\n"
     ]
    },
    {
     "name": "stderr",
     "output_type": "stream",
     "text": [
      "Optimization Progress: 408pipeline [1:20:10,  9.06s/pipeline]"
     ]
    },
    {
     "name": "stdout",
     "output_type": "stream",
     "text": [
      "Generation 3 - Current best internal CV score: 0.5295403769167122\n"
     ]
    },
    {
     "name": "stderr",
     "output_type": "stream",
     "text": [
      "Optimization Progress: 509pipeline [1:33:54,  7.95s/pipeline]"
     ]
    },
    {
     "name": "stdout",
     "output_type": "stream",
     "text": [
      "Generation 4 - Current best internal CV score: 0.5299948965099586\n"
     ]
    },
    {
     "name": "stderr",
     "output_type": "stream",
     "text": [
      "Optimization Progress: 612pipeline [1:54:42, 10.78s/pipeline]"
     ]
    },
    {
     "name": "stdout",
     "output_type": "stream",
     "text": [
      "Generation 5 - Current best internal CV score: 0.5299948965099586\n"
     ]
    },
    {
     "name": "stderr",
     "output_type": "stream",
     "text": [
      "Optimization Progress: 712pipeline [2:14:09, 11.29s/pipeline]"
     ]
    },
    {
     "name": "stdout",
     "output_type": "stream",
     "text": [
      "Generation 6 - Current best internal CV score: 0.5321414222904677\n"
     ]
    },
    {
     "name": "stderr",
     "output_type": "stream",
     "text": [
      "Optimization Progress: 817pipeline [2:38:42, 21.02s/pipeline]"
     ]
    },
    {
     "name": "stdout",
     "output_type": "stream",
     "text": [
      "Generation 7 - Current best internal CV score: 0.5321414222904677\n"
     ]
    },
    {
     "name": "stderr",
     "output_type": "stream",
     "text": [
      "Optimization Progress: 917pipeline [2:56:55, 11.73s/pipeline]"
     ]
    },
    {
     "name": "stdout",
     "output_type": "stream",
     "text": [
      "Generation 8 - Current best internal CV score: 0.5321414222904677\n"
     ]
    },
    {
     "name": "stderr",
     "output_type": "stream",
     "text": []
    },
    {
     "name": "stdout",
     "output_type": "stream",
     "text": [
      "\n",
      "183.48573913333334 minutes have elapsed. TPOT will close down.\n",
      "TPOT closed prematurely. Will use the current best pipeline.\n",
      "\n",
      "Best pipeline: XGBClassifier(input_matrix, learning_rate=0.001, max_depth=5, min_child_weight=11, n_estimators=100, nthread=1, subsample=0.6000000000000001)\n"
     ]
    },
    {
     "name": "stderr",
     "output_type": "stream",
     "text": [
      "/usr/local/lib/python3.5/dist-packages/sklearn/preprocessing/label.py:151: DeprecationWarning: The truth value of an empty array is ambiguous. Returning False, but in future this will result in an error. Use `array.size > 0` to check that an array is not empty.\n",
      "  if diff:\n"
     ]
    },
    {
     "name": "stdout",
     "output_type": "stream",
     "text": [
      "ONT-BTC 3m accuracy: 52.196\n"
     ]
    },
    {
     "name": "stderr",
     "output_type": "stream",
     "text": [
      "Optimization Progress: 100%|██████████| 600/600 [10:13<00:00,  1.80pipeline/s]"
     ]
    },
    {
     "name": "stdout",
     "output_type": "stream",
     "text": [
      "Generation 5 - Current best internal CV score: 0.5458100693434723\n"
     ]
    },
    {
     "name": "stderr",
     "output_type": "stream",
     "text": [
      "Optimization Progress: 100%|██████████| 700/700 [11:44<00:00,  1.20pipeline/s]"
     ]
    },
    {
     "name": "stdout",
     "output_type": "stream",
     "text": [
      "Generation 6 - Current best internal CV score: 0.5499645976472698\n"
     ]
    },
    {
     "name": "stderr",
     "output_type": "stream",
     "text": [
      "Optimization Progress: 100%|██████████| 800/800 [13:32<00:00,  1.41s/pipeline]"
     ]
    },
    {
     "name": "stdout",
     "output_type": "stream",
     "text": [
      "Generation 7 - Current best internal CV score: 0.5499645976472698\n"
     ]
    },
    {
     "name": "stderr",
     "output_type": "stream",
     "text": [
      "Optimization Progress: 100%|██████████| 900/900 [15:06<00:00,  1.85s/pipeline]"
     ]
    },
    {
     "name": "stdout",
     "output_type": "stream",
     "text": [
      "Generation 8 - Current best internal CV score: 0.5499645976472698\n"
     ]
    },
    {
     "name": "stderr",
     "output_type": "stream",
     "text": [
      "Optimization Progress: 100%|██████████| 1000/1000 [16:57<00:00,  1.41s/pipeline]"
     ]
    },
    {
     "name": "stdout",
     "output_type": "stream",
     "text": [
      "Generation 9 - Current best internal CV score: 0.5499645976472698\n"
     ]
    },
    {
     "name": "stderr",
     "output_type": "stream",
     "text": [
      "Optimization Progress: 100%|██████████| 1100/1100 [18:36<00:00,  1.29s/pipeline]"
     ]
    },
    {
     "name": "stdout",
     "output_type": "stream",
     "text": [
      "Generation 10 - Current best internal CV score: 0.5499645976472698\n"
     ]
    },
    {
     "name": "stderr",
     "output_type": "stream",
     "text": [
      "Optimization Progress: 100%|██████████| 1200/1200 [21:00<00:00,  2.62s/pipeline]"
     ]
    },
    {
     "name": "stdout",
     "output_type": "stream",
     "text": [
      "Generation 11 - Current best internal CV score: 0.5499645976472698\n"
     ]
    },
    {
     "name": "stderr",
     "output_type": "stream",
     "text": [
      "Optimization Progress: 100%|██████████| 1300/1300 [23:37<00:00,  1.43s/pipeline]"
     ]
    },
    {
     "name": "stdout",
     "output_type": "stream",
     "text": [
      "Generation 12 - Current best internal CV score: 0.5499645976472698\n"
     ]
    },
    {
     "name": "stderr",
     "output_type": "stream",
     "text": [
      "Optimization Progress: 100%|██████████| 1400/1400 [24:59<00:00,  1.05s/pipeline]"
     ]
    },
    {
     "name": "stdout",
     "output_type": "stream",
     "text": [
      "Generation 13 - Current best internal CV score: 0.5532961876281292\n"
     ]
    },
    {
     "name": "stderr",
     "output_type": "stream",
     "text": [
      "Optimization Progress: 100%|██████████| 1600/1600 [28:54<00:00,  1.32s/pipeline]"
     ]
    },
    {
     "name": "stdout",
     "output_type": "stream",
     "text": [
      "Generation 15 - Current best internal CV score: 0.5562137277794899\n"
     ]
    },
    {
     "name": "stderr",
     "output_type": "stream",
     "text": [
      "Optimization Progress: 100%|██████████| 1700/1700 [32:38<00:00,  1.81s/pipeline]"
     ]
    },
    {
     "name": "stdout",
     "output_type": "stream",
     "text": [
      "Generation 16 - Current best internal CV score: 0.5562137277794899\n"
     ]
    },
    {
     "name": "stderr",
     "output_type": "stream",
     "text": [
      "Optimization Progress: 100%|██████████| 1800/1800 [35:10<00:00,  1.60s/pipeline]"
     ]
    },
    {
     "name": "stdout",
     "output_type": "stream",
     "text": [
      "Generation 17 - Current best internal CV score: 0.5562137277794899\n"
     ]
    },
    {
     "name": "stderr",
     "output_type": "stream",
     "text": [
      "Optimization Progress: 100%|██████████| 1900/1900 [37:19<00:00,  1.65s/pipeline]"
     ]
    },
    {
     "name": "stdout",
     "output_type": "stream",
     "text": [
      "Generation 18 - Current best internal CV score: 0.5562137277794899\n"
     ]
    },
    {
     "name": "stderr",
     "output_type": "stream",
     "text": [
      "Optimization Progress: 100%|██████████| 2000/2000 [38:42<00:00,  1.05pipeline/s]"
     ]
    },
    {
     "name": "stdout",
     "output_type": "stream",
     "text": [
      "Generation 19 - Current best internal CV score: 0.5562137277794899\n"
     ]
    },
    {
     "name": "stderr",
     "output_type": "stream",
     "text": [
      "Optimization Progress: 100%|██████████| 2100/2100 [39:40<00:00,  1.26pipeline/s]"
     ]
    },
    {
     "name": "stdout",
     "output_type": "stream",
     "text": [
      "Generation 20 - Current best internal CV score: 0.5562137277794899\n"
     ]
    },
    {
     "name": "stderr",
     "output_type": "stream",
     "text": [
      "Optimization Progress: 100%|██████████| 2200/2200 [41:59<00:00,  1.25s/pipeline]"
     ]
    },
    {
     "name": "stdout",
     "output_type": "stream",
     "text": [
      "Generation 21 - Current best internal CV score: 0.5562137277794899\n"
     ]
    },
    {
     "name": "stderr",
     "output_type": "stream",
     "text": [
      "Optimization Progress: 100%|██████████| 2300/2300 [44:03<00:00,  1.86s/pipeline]"
     ]
    },
    {
     "name": "stdout",
     "output_type": "stream",
     "text": [
      "Generation 22 - Current best internal CV score: 0.5562137277794899\n"
     ]
    },
    {
     "name": "stderr",
     "output_type": "stream",
     "text": [
      "Optimization Progress: 100%|██████████| 2400/2400 [45:59<00:00,  1.79s/pipeline]"
     ]
    },
    {
     "name": "stdout",
     "output_type": "stream",
     "text": [
      "Generation 23 - Current best internal CV score: 0.5562137277794899\n"
     ]
    },
    {
     "name": "stderr",
     "output_type": "stream",
     "text": [
      "Optimization Progress: 100%|██████████| 2500/2500 [47:51<00:00,  1.61s/pipeline]"
     ]
    },
    {
     "name": "stdout",
     "output_type": "stream",
     "text": [
      "Generation 24 - Current best internal CV score: 0.5562137277794899\n"
     ]
    },
    {
     "name": "stderr",
     "output_type": "stream",
     "text": [
      "Optimization Progress: 100%|██████████| 2600/2600 [50:27<00:00,  1.11s/pipeline]"
     ]
    },
    {
     "name": "stdout",
     "output_type": "stream",
     "text": [
      "Generation 25 - Current best internal CV score: 0.5562137277794899\n"
     ]
    },
    {
     "name": "stderr",
     "output_type": "stream",
     "text": [
      "Optimization Progress: 100%|██████████| 2700/2700 [52:17<00:00,  1.24s/pipeline]"
     ]
    },
    {
     "name": "stdout",
     "output_type": "stream",
     "text": [
      "Generation 26 - Current best internal CV score: 0.5562137277794899\n"
     ]
    },
    {
     "name": "stderr",
     "output_type": "stream",
     "text": [
      "Optimization Progress: 100%|██████████| 2800/2800 [54:28<00:00,  1.53s/pipeline]"
     ]
    },
    {
     "name": "stdout",
     "output_type": "stream",
     "text": [
      "Generation 27 - Current best internal CV score: 0.5562137277794899\n"
     ]
    },
    {
     "name": "stderr",
     "output_type": "stream",
     "text": [
      "Optimization Progress: 100%|██████████| 2900/2900 [56:35<00:00,  1.80s/pipeline]"
     ]
    },
    {
     "name": "stdout",
     "output_type": "stream",
     "text": [
      "Generation 28 - Current best internal CV score: 0.5562137277794899\n"
     ]
    },
    {
     "name": "stderr",
     "output_type": "stream",
     "text": [
      "Optimization Progress: 100%|██████████| 3000/3000 [59:18<00:00,  2.81s/pipeline]"
     ]
    },
    {
     "name": "stdout",
     "output_type": "stream",
     "text": [
      "Generation 29 - Current best internal CV score: 0.5562137277794899\n"
     ]
    },
    {
     "name": "stderr",
     "output_type": "stream",
     "text": [
      "Optimization Progress: 100%|██████████| 3100/3100 [1:02:36<00:00,  1.75s/pipeline]"
     ]
    },
    {
     "name": "stdout",
     "output_type": "stream",
     "text": [
      "Generation 30 - Current best internal CV score: 0.5587059279047797\n"
     ]
    },
    {
     "name": "stderr",
     "output_type": "stream",
     "text": [
      "Optimization Progress: 100%|██████████| 3200/3200 [1:05:21<00:00,  2.01s/pipeline]"
     ]
    },
    {
     "name": "stdout",
     "output_type": "stream",
     "text": [
      "Generation 31 - Current best internal CV score: 0.5587059279047797\n"
     ]
    },
    {
     "name": "stderr",
     "output_type": "stream",
     "text": [
      "Optimization Progress: 100%|██████████| 3300/3300 [1:07:20<00:00,  1.82s/pipeline]"
     ]
    },
    {
     "name": "stdout",
     "output_type": "stream",
     "text": [
      "Generation 32 - Current best internal CV score: 0.5587059279047797\n"
     ]
    },
    {
     "name": "stderr",
     "output_type": "stream",
     "text": [
      "Optimization Progress: 100%|██████████| 3400/3400 [1:09:33<00:00,  1.06pipeline/s]"
     ]
    },
    {
     "name": "stdout",
     "output_type": "stream",
     "text": [
      "Generation 33 - Current best internal CV score: 0.5587059279047797\n"
     ]
    },
    {
     "name": "stderr",
     "output_type": "stream",
     "text": [
      "Optimization Progress: 100%|██████████| 3500/3500 [1:12:01<00:00,  1.78s/pipeline]"
     ]
    },
    {
     "name": "stdout",
     "output_type": "stream",
     "text": [
      "Generation 34 - Current best internal CV score: 0.5587059279047797\n"
     ]
    },
    {
     "name": "stderr",
     "output_type": "stream",
     "text": [
      "Optimization Progress: 100%|██████████| 3600/3600 [1:15:15<00:00,  1.83s/pipeline]"
     ]
    },
    {
     "name": "stdout",
     "output_type": "stream",
     "text": [
      "Generation 35 - Current best internal CV score: 0.5587059279047797\n"
     ]
    },
    {
     "name": "stderr",
     "output_type": "stream",
     "text": [
      "Optimization Progress: 100%|██████████| 3700/3700 [1:18:17<00:00,  2.73s/pipeline]"
     ]
    },
    {
     "name": "stdout",
     "output_type": "stream",
     "text": [
      "Generation 36 - Current best internal CV score: 0.5587059279047797\n"
     ]
    },
    {
     "name": "stderr",
     "output_type": "stream",
     "text": [
      "Optimization Progress: 100%|██████████| 3800/3800 [1:21:13<00:00,  2.39s/pipeline]"
     ]
    },
    {
     "name": "stdout",
     "output_type": "stream",
     "text": [
      "Generation 37 - Current best internal CV score: 0.5587059279047797\n"
     ]
    },
    {
     "name": "stderr",
     "output_type": "stream",
     "text": [
      "Optimization Progress: 100%|██████████| 3900/3900 [1:23:07<00:00,  1.44s/pipeline]"
     ]
    },
    {
     "name": "stdout",
     "output_type": "stream",
     "text": [
      "Generation 38 - Current best internal CV score: 0.5587059279047797\n"
     ]
    },
    {
     "name": "stderr",
     "output_type": "stream",
     "text": [
      "Optimization Progress: 100%|██████████| 4000/4000 [1:25:37<00:00,  3.48s/pipeline]"
     ]
    },
    {
     "name": "stdout",
     "output_type": "stream",
     "text": [
      "Generation 39 - Current best internal CV score: 0.5587059279047797\n"
     ]
    },
    {
     "name": "stderr",
     "output_type": "stream",
     "text": [
      "Optimization Progress: 100%|██████████| 4100/4100 [1:28:39<00:00,  2.72s/pipeline]"
     ]
    },
    {
     "name": "stdout",
     "output_type": "stream",
     "text": [
      "Generation 40 - Current best internal CV score: 0.5587059279047797\n"
     ]
    },
    {
     "name": "stderr",
     "output_type": "stream",
     "text": [
      "Optimization Progress: 100%|██████████| 4200/4200 [1:31:35<00:00,  2.65s/pipeline]"
     ]
    },
    {
     "name": "stdout",
     "output_type": "stream",
     "text": [
      "Generation 41 - Current best internal CV score: 0.5587059279047797\n"
     ]
    },
    {
     "name": "stderr",
     "output_type": "stream",
     "text": [
      "Optimization Progress: 100%|██████████| 4300/4300 [1:34:22<00:00,  2.35s/pipeline]"
     ]
    },
    {
     "name": "stdout",
     "output_type": "stream",
     "text": [
      "Generation 42 - Current best internal CV score: 0.5587059279047797\n"
     ]
    },
    {
     "name": "stderr",
     "output_type": "stream",
     "text": [
      "Optimization Progress: 100%|██████████| 4400/4400 [1:37:16<00:00,  2.67s/pipeline]"
     ]
    },
    {
     "name": "stdout",
     "output_type": "stream",
     "text": [
      "Generation 43 - Current best internal CV score: 0.5587059279047797\n"
     ]
    },
    {
     "name": "stderr",
     "output_type": "stream",
     "text": [
      "Optimization Progress: 100%|██████████| 4500/4500 [1:41:21<00:00,  3.90s/pipeline]"
     ]
    },
    {
     "name": "stdout",
     "output_type": "stream",
     "text": [
      "Generation 44 - Current best internal CV score: 0.5587059279047797\n"
     ]
    },
    {
     "name": "stderr",
     "output_type": "stream",
     "text": [
      "Optimization Progress: 100%|██████████| 4600/4600 [1:45:50<00:00,  3.89s/pipeline]"
     ]
    },
    {
     "name": "stdout",
     "output_type": "stream",
     "text": [
      "Generation 45 - Current best internal CV score: 0.5587059279047797\n"
     ]
    },
    {
     "name": "stderr",
     "output_type": "stream",
     "text": [
      "Optimization Progress: 100%|██████████| 4700/4700 [1:48:52<00:00,  3.21s/pipeline]"
     ]
    },
    {
     "name": "stdout",
     "output_type": "stream",
     "text": [
      "Generation 46 - Current best internal CV score: 0.5587059279047797\n"
     ]
    },
    {
     "name": "stderr",
     "output_type": "stream",
     "text": [
      "Optimization Progress: 100%|██████████| 4800/4800 [1:52:04<00:00,  3.30s/pipeline]"
     ]
    },
    {
     "name": "stdout",
     "output_type": "stream",
     "text": [
      "Generation 47 - Current best internal CV score: 0.5587059279047797\n"
     ]
    },
    {
     "name": "stderr",
     "output_type": "stream",
     "text": [
      "Optimization Progress: 100%|██████████| 4900/4900 [1:54:58<00:00,  2.73s/pipeline]"
     ]
    },
    {
     "name": "stdout",
     "output_type": "stream",
     "text": [
      "Generation 48 - Current best internal CV score: 0.5587059279047797\n"
     ]
    },
    {
     "name": "stderr",
     "output_type": "stream",
     "text": [
      "Optimization Progress: 100%|██████████| 5000/5000 [1:57:38<00:00,  2.07s/pipeline]"
     ]
    },
    {
     "name": "stdout",
     "output_type": "stream",
     "text": [
      "Generation 49 - Current best internal CV score: 0.5587059279047797\n"
     ]
    },
    {
     "name": "stderr",
     "output_type": "stream",
     "text": [
      "Optimization Progress: 100%|██████████| 5100/5100 [2:01:06<00:00,  3.31s/pipeline]"
     ]
    },
    {
     "name": "stdout",
     "output_type": "stream",
     "text": [
      "Generation 50 - Current best internal CV score: 0.5587059279047797\n"
     ]
    },
    {
     "name": "stderr",
     "output_type": "stream",
     "text": [
      "Optimization Progress: 100%|██████████| 5200/5200 [2:04:39<00:00,  3.20s/pipeline]"
     ]
    },
    {
     "name": "stdout",
     "output_type": "stream",
     "text": [
      "Generation 51 - Current best internal CV score: 0.5587059279047797\n"
     ]
    },
    {
     "name": "stderr",
     "output_type": "stream",
     "text": [
      "Optimization Progress: 100%|██████████| 5300/5300 [2:07:19<00:00,  1.95s/pipeline]"
     ]
    },
    {
     "name": "stdout",
     "output_type": "stream",
     "text": [
      "Generation 52 - Current best internal CV score: 0.5587059279047797\n"
     ]
    },
    {
     "name": "stderr",
     "output_type": "stream",
     "text": [
      "Optimization Progress: 100%|██████████| 5400/5400 [2:09:44<00:00,  1.84s/pipeline]"
     ]
    },
    {
     "name": "stdout",
     "output_type": "stream",
     "text": [
      "Generation 53 - Current best internal CV score: 0.5587059279047797\n"
     ]
    },
    {
     "name": "stderr",
     "output_type": "stream",
     "text": [
      "Optimization Progress: 100%|██████████| 5500/5500 [2:13:18<00:00,  2.84s/pipeline]"
     ]
    },
    {
     "name": "stdout",
     "output_type": "stream",
     "text": [
      "Generation 54 - Current best internal CV score: 0.5587059279047797\n"
     ]
    },
    {
     "name": "stderr",
     "output_type": "stream",
     "text": [
      "Optimization Progress: 100%|██████████| 5600/5600 [2:16:48<00:00,  2.20s/pipeline]"
     ]
    },
    {
     "name": "stdout",
     "output_type": "stream",
     "text": [
      "Generation 55 - Current best internal CV score: 0.5587059279047797\n"
     ]
    },
    {
     "name": "stderr",
     "output_type": "stream",
     "text": [
      "Optimization Progress: 100%|██████████| 5700/5700 [2:21:02<00:00,  3.59s/pipeline]"
     ]
    },
    {
     "name": "stdout",
     "output_type": "stream",
     "text": [
      "Generation 56 - Current best internal CV score: 0.5587059279047797\n"
     ]
    },
    {
     "name": "stderr",
     "output_type": "stream",
     "text": [
      "Optimization Progress: 100%|██████████| 5800/5800 [2:23:19<00:00,  2.15s/pipeline]"
     ]
    },
    {
     "name": "stdout",
     "output_type": "stream",
     "text": [
      "Generation 57 - Current best internal CV score: 0.5587059279047797\n"
     ]
    },
    {
     "name": "stderr",
     "output_type": "stream",
     "text": [
      "Optimization Progress: 100%|██████████| 5900/5900 [2:25:50<00:00,  1.67s/pipeline]"
     ]
    },
    {
     "name": "stdout",
     "output_type": "stream",
     "text": [
      "Generation 58 - Current best internal CV score: 0.5595132339260732\n"
     ]
    },
    {
     "name": "stderr",
     "output_type": "stream",
     "text": [
      "Optimization Progress: 100%|██████████| 6000/6000 [2:28:00<00:00,  1.61s/pipeline]"
     ]
    },
    {
     "name": "stdout",
     "output_type": "stream",
     "text": [
      "Generation 59 - Current best internal CV score: 0.5595132339260732\n"
     ]
    },
    {
     "name": "stderr",
     "output_type": "stream",
     "text": [
      "Optimization Progress: 100%|██████████| 6100/6100 [2:31:30<00:00,  2.49s/pipeline]"
     ]
    },
    {
     "name": "stdout",
     "output_type": "stream",
     "text": [
      "Generation 60 - Current best internal CV score: 0.5595132339260732\n"
     ]
    },
    {
     "name": "stderr",
     "output_type": "stream",
     "text": [
      "Optimization Progress: 100%|██████████| 6200/6200 [2:34:38<00:00,  2.17s/pipeline]"
     ]
    },
    {
     "name": "stdout",
     "output_type": "stream",
     "text": [
      "Generation 61 - Current best internal CV score: 0.5595132339260732\n"
     ]
    },
    {
     "name": "stderr",
     "output_type": "stream",
     "text": [
      "Optimization Progress: 100%|██████████| 6300/6300 [2:39:00<00:00,  4.19s/pipeline]"
     ]
    },
    {
     "name": "stdout",
     "output_type": "stream",
     "text": [
      "Generation 62 - Current best internal CV score: 0.5595132339260732\n"
     ]
    },
    {
     "name": "stderr",
     "output_type": "stream",
     "text": [
      "Optimization Progress: 100%|██████████| 6400/6400 [2:41:56<00:00,  2.15s/pipeline]"
     ]
    },
    {
     "name": "stdout",
     "output_type": "stream",
     "text": [
      "Generation 63 - Current best internal CV score: 0.5595132339260732\n"
     ]
    },
    {
     "name": "stderr",
     "output_type": "stream",
     "text": [
      "Optimization Progress: 100%|██████████| 6500/6500 [2:45:42<00:00,  3.10s/pipeline]"
     ]
    },
    {
     "name": "stdout",
     "output_type": "stream",
     "text": [
      "Generation 64 - Current best internal CV score: 0.5595132339260732\n"
     ]
    },
    {
     "name": "stderr",
     "output_type": "stream",
     "text": [
      "Optimization Progress: 100%|██████████| 6600/6600 [2:48:48<00:00,  1.96s/pipeline]"
     ]
    },
    {
     "name": "stdout",
     "output_type": "stream",
     "text": [
      "Generation 65 - Current best internal CV score: 0.5595132339260732\n"
     ]
    },
    {
     "name": "stderr",
     "output_type": "stream",
     "text": [
      "Optimization Progress: 100%|██████████| 6700/6700 [2:52:14<00:00,  2.61s/pipeline]"
     ]
    },
    {
     "name": "stdout",
     "output_type": "stream",
     "text": [
      "Generation 66 - Current best internal CV score: 0.5595132339260732\n"
     ]
    },
    {
     "name": "stderr",
     "output_type": "stream",
     "text": [
      "Optimization Progress: 100%|██████████| 6800/6800 [2:54:53<00:00,  1.85s/pipeline]"
     ]
    },
    {
     "name": "stdout",
     "output_type": "stream",
     "text": [
      "Generation 67 - Current best internal CV score: 0.5595132339260732\n"
     ]
    },
    {
     "name": "stderr",
     "output_type": "stream",
     "text": [
      "Optimization Progress: 100%|██████████| 6900/6900 [2:58:03<00:00,  2.24s/pipeline]"
     ]
    },
    {
     "name": "stdout",
     "output_type": "stream",
     "text": [
      "Generation 68 - Current best internal CV score: 0.5595132339260732\n"
     ]
    },
    {
     "name": "stderr",
     "output_type": "stream",
     "text": []
    },
    {
     "name": "stdout",
     "output_type": "stream",
     "text": [
      "\n",
      "180.21741863333332 minutes have elapsed. TPOT will close down.\n",
      "TPOT closed prematurely. Will use the current best pipeline.\n",
      "\n",
      "Best pipeline: KNeighborsClassifier(ZeroCount(LogisticRegression(Normalizer(input_matrix, norm=max), C=10.0, dual=True, penalty=l2)), n_neighbors=52, p=2, weights=uniform)\n",
      "ONT-BTC 30m accuracy: 52.579\n"
     ]
    },
    {
     "name": "stderr",
     "output_type": "stream",
     "text": [
      "Optimization Progress: 100%|██████████| 200/200 [01:35<00:00,  3.10pipeline/s]"
     ]
    },
    {
     "name": "stdout",
     "output_type": "stream",
     "text": [
      "Generation 1 - Current best internal CV score: 0.5374044453860142\n"
     ]
    },
    {
     "name": "stderr",
     "output_type": "stream",
     "text": [
      "Optimization Progress: 100%|██████████| 300/300 [02:25<00:00,  2.56pipeline/s]"
     ]
    },
    {
     "name": "stdout",
     "output_type": "stream",
     "text": [
      "Generation 2 - Current best internal CV score: 0.5374044453860142\n"
     ]
    },
    {
     "name": "stderr",
     "output_type": "stream",
     "text": [
      "Optimization Progress: 100%|██████████| 400/400 [03:14<00:00,  1.50pipeline/s]"
     ]
    },
    {
     "name": "stdout",
     "output_type": "stream",
     "text": [
      "Generation 3 - Current best internal CV score: 0.5467153928993873\n"
     ]
    },
    {
     "name": "stderr",
     "output_type": "stream",
     "text": [
      "Optimization Progress: 100%|██████████| 500/500 [04:31<00:00,  1.46s/pipeline]"
     ]
    },
    {
     "name": "stdout",
     "output_type": "stream",
     "text": [
      "Generation 4 - Current best internal CV score: 0.5467153928993873\n"
     ]
    },
    {
     "name": "stderr",
     "output_type": "stream",
     "text": [
      "Optimization Progress: 100%|██████████| 600/600 [05:44<00:00,  1.07pipeline/s]"
     ]
    },
    {
     "name": "stdout",
     "output_type": "stream",
     "text": [
      "Generation 5 - Current best internal CV score: 0.5467153928993873\n"
     ]
    },
    {
     "name": "stderr",
     "output_type": "stream",
     "text": [
      "Optimization Progress: 100%|██████████| 700/700 [07:06<00:00,  1.32s/pipeline]"
     ]
    },
    {
     "name": "stdout",
     "output_type": "stream",
     "text": [
      "Generation 6 - Current best internal CV score: 0.5467153928993873\n"
     ]
    },
    {
     "name": "stderr",
     "output_type": "stream",
     "text": [
      "Optimization Progress: 100%|██████████| 800/800 [08:40<00:00,  1.75s/pipeline]"
     ]
    },
    {
     "name": "stdout",
     "output_type": "stream",
     "text": [
      "Generation 7 - Current best internal CV score: 0.5467153928993873\n"
     ]
    },
    {
     "name": "stderr",
     "output_type": "stream",
     "text": [
      "Optimization Progress: 100%|██████████| 900/900 [09:33<00:00,  1.64pipeline/s]"
     ]
    },
    {
     "name": "stdout",
     "output_type": "stream",
     "text": [
      "Generation 8 - Current best internal CV score: 0.5467153928993873\n"
     ]
    },
    {
     "name": "stderr",
     "output_type": "stream",
     "text": [
      "Optimization Progress: 100%|██████████| 1000/1000 [11:34<00:00,  1.66s/pipeline]"
     ]
    },
    {
     "name": "stdout",
     "output_type": "stream",
     "text": [
      "Generation 9 - Current best internal CV score: 0.547516904118779\n"
     ]
    },
    {
     "name": "stderr",
     "output_type": "stream",
     "text": [
      "Optimization Progress: 1101pipeline [17:09,  1.92s/pipeline]"
     ]
    },
    {
     "name": "stdout",
     "output_type": "stream",
     "text": [
      "Generation 10 - Current best internal CV score: 0.5482901682467384\n"
     ]
    },
    {
     "name": "stderr",
     "output_type": "stream",
     "text": [
      "Optimization Progress: 1201pipeline [18:02,  1.01pipeline/s]"
     ]
    },
    {
     "name": "stdout",
     "output_type": "stream",
     "text": [
      "Generation 11 - Current best internal CV score: 0.5482901682467384\n"
     ]
    },
    {
     "name": "stderr",
     "output_type": "stream",
     "text": [
      "Optimization Progress: 1301pipeline [19:23,  1.36s/pipeline]"
     ]
    },
    {
     "name": "stdout",
     "output_type": "stream",
     "text": [
      "Generation 12 - Current best internal CV score: 0.5482901682467384\n"
     ]
    },
    {
     "name": "stderr",
     "output_type": "stream",
     "text": [
      "Optimization Progress: 1401pipeline [20:10,  1.93pipeline/s]"
     ]
    },
    {
     "name": "stdout",
     "output_type": "stream",
     "text": [
      "Generation 13 - Current best internal CV score: 0.5491764207404269\n"
     ]
    },
    {
     "name": "stderr",
     "output_type": "stream",
     "text": [
      "Optimization Progress: 1501pipeline [20:55,  2.53pipeline/s]"
     ]
    },
    {
     "name": "stdout",
     "output_type": "stream",
     "text": [
      "Generation 14 - Current best internal CV score: 0.549190544286143\n"
     ]
    },
    {
     "name": "stderr",
     "output_type": "stream",
     "text": [
      "Optimization Progress: 1601pipeline [21:45,  1.74pipeline/s]"
     ]
    },
    {
     "name": "stdout",
     "output_type": "stream",
     "text": [
      "Generation 15 - Current best internal CV score: 0.5492611620147237\n"
     ]
    },
    {
     "name": "stderr",
     "output_type": "stream",
     "text": [
      "Optimization Progress: 1701pipeline [22:52,  1.53pipeline/s]"
     ]
    },
    {
     "name": "stdout",
     "output_type": "stream",
     "text": [
      "Generation 16 - Current best internal CV score: 0.552622565895168\n"
     ]
    },
    {
     "name": "stderr",
     "output_type": "stream",
     "text": [
      "Optimization Progress: 1801pipeline [23:42,  1.14pipeline/s]"
     ]
    },
    {
     "name": "stdout",
     "output_type": "stream",
     "text": [
      "Generation 17 - Current best internal CV score: 0.552622565895168\n"
     ]
    },
    {
     "name": "stderr",
     "output_type": "stream",
     "text": [
      "Optimization Progress: 1901pipeline [24:32,  1.85pipeline/s]"
     ]
    },
    {
     "name": "stdout",
     "output_type": "stream",
     "text": [
      "Generation 18 - Current best internal CV score: 0.552622565895168\n"
     ]
    },
    {
     "name": "stderr",
     "output_type": "stream",
     "text": [
      "Optimization Progress: 2001pipeline [25:30,  1.79pipeline/s]"
     ]
    },
    {
     "name": "stdout",
     "output_type": "stream",
     "text": [
      "Generation 19 - Current best internal CV score: 0.552622565895168\n"
     ]
    },
    {
     "name": "stderr",
     "output_type": "stream",
     "text": [
      "Optimization Progress: 2101pipeline [26:36,  1.23pipeline/s]"
     ]
    },
    {
     "name": "stdout",
     "output_type": "stream",
     "text": [
      "Generation 20 - Current best internal CV score: 0.552622565895168\n"
     ]
    },
    {
     "name": "stderr",
     "output_type": "stream",
     "text": [
      "Optimization Progress: 2201pipeline [27:40,  1.43pipeline/s]"
     ]
    },
    {
     "name": "stdout",
     "output_type": "stream",
     "text": [
      "Generation 21 - Current best internal CV score: 0.552622565895168\n"
     ]
    },
    {
     "name": "stderr",
     "output_type": "stream",
     "text": [
      "Optimization Progress: 2301pipeline [28:47,  1.02pipeline/s]"
     ]
    },
    {
     "name": "stdout",
     "output_type": "stream",
     "text": [
      "Generation 22 - Current best internal CV score: 0.552622565895168\n"
     ]
    },
    {
     "name": "stderr",
     "output_type": "stream",
     "text": [
      "Optimization Progress: 2401pipeline [29:34,  2.20pipeline/s]"
     ]
    },
    {
     "name": "stdout",
     "output_type": "stream",
     "text": [
      "Generation 23 - Current best internal CV score: 0.552622565895168\n"
     ]
    },
    {
     "name": "stderr",
     "output_type": "stream",
     "text": [
      "Optimization Progress: 2501pipeline [30:28,  1.38pipeline/s]"
     ]
    },
    {
     "name": "stdout",
     "output_type": "stream",
     "text": [
      "Generation 24 - Current best internal CV score: 0.552622565895168\n"
     ]
    },
    {
     "name": "stderr",
     "output_type": "stream",
     "text": [
      "Optimization Progress: 2601pipeline [31:31,  1.39pipeline/s]"
     ]
    },
    {
     "name": "stdout",
     "output_type": "stream",
     "text": [
      "Generation 25 - Current best internal CV score: 0.5575375598043889\n"
     ]
    },
    {
     "name": "stderr",
     "output_type": "stream",
     "text": [
      "Optimization Progress: 2701pipeline [32:57,  1.02s/pipeline]"
     ]
    },
    {
     "name": "stdout",
     "output_type": "stream",
     "text": [
      "Generation 26 - Current best internal CV score: 0.5575375598043889\n"
     ]
    },
    {
     "name": "stderr",
     "output_type": "stream",
     "text": [
      "Optimization Progress: 2801pipeline [33:54,  1.31pipeline/s]"
     ]
    },
    {
     "name": "stdout",
     "output_type": "stream",
     "text": [
      "Generation 27 - Current best internal CV score: 0.5575375598043889\n"
     ]
    },
    {
     "name": "stderr",
     "output_type": "stream",
     "text": [
      "Optimization Progress: 2901pipeline [35:08,  1.52pipeline/s]"
     ]
    },
    {
     "name": "stdout",
     "output_type": "stream",
     "text": [
      "Generation 28 - Current best internal CV score: 0.5609130872305492\n"
     ]
    },
    {
     "name": "stderr",
     "output_type": "stream",
     "text": [
      "Optimization Progress: 3001pipeline [36:12,  1.75pipeline/s]"
     ]
    },
    {
     "name": "stdout",
     "output_type": "stream",
     "text": [
      "Generation 29 - Current best internal CV score: 0.5609130872305492\n"
     ]
    },
    {
     "name": "stderr",
     "output_type": "stream",
     "text": [
      "Optimization Progress: 3101pipeline [37:04,  1.76pipeline/s]"
     ]
    },
    {
     "name": "stdout",
     "output_type": "stream",
     "text": [
      "Generation 30 - Current best internal CV score: 0.5609130872305492\n"
     ]
    },
    {
     "name": "stderr",
     "output_type": "stream",
     "text": [
      "Optimization Progress: 3201pipeline [38:48,  1.06s/pipeline]"
     ]
    },
    {
     "name": "stdout",
     "output_type": "stream",
     "text": [
      "Generation 31 - Current best internal CV score: 0.5642886146567095\n"
     ]
    },
    {
     "name": "stderr",
     "output_type": "stream",
     "text": [
      "Optimization Progress: 3301pipeline [39:46,  1.40pipeline/s]"
     ]
    },
    {
     "name": "stdout",
     "output_type": "stream",
     "text": [
      "Generation 32 - Current best internal CV score: 0.5642886146567095\n"
     ]
    },
    {
     "name": "stderr",
     "output_type": "stream",
     "text": [
      "Optimization Progress: 3401pipeline [40:45,  1.40pipeline/s]"
     ]
    },
    {
     "name": "stdout",
     "output_type": "stream",
     "text": [
      "Generation 33 - Current best internal CV score: 0.5642886146567095\n"
     ]
    },
    {
     "name": "stderr",
     "output_type": "stream",
     "text": [
      "Optimization Progress: 3501pipeline [41:45,  1.22pipeline/s]"
     ]
    },
    {
     "name": "stdout",
     "output_type": "stream",
     "text": [
      "Generation 34 - Current best internal CV score: 0.5642886146567095\n"
     ]
    },
    {
     "name": "stderr",
     "output_type": "stream",
     "text": [
      "Optimization Progress: 3601pipeline [42:52,  1.56pipeline/s]"
     ]
    },
    {
     "name": "stdout",
     "output_type": "stream",
     "text": [
      "Generation 35 - Current best internal CV score: 0.5642886146567095\n"
     ]
    },
    {
     "name": "stderr",
     "output_type": "stream",
     "text": [
      "Optimization Progress: 3701pipeline [44:02,  1.04pipeline/s]"
     ]
    },
    {
     "name": "stdout",
     "output_type": "stream",
     "text": [
      "Generation 36 - Current best internal CV score: 0.5642886146567095\n"
     ]
    },
    {
     "name": "stderr",
     "output_type": "stream",
     "text": [
      "Optimization Progress: 3801pipeline [45:58,  1.17s/pipeline]"
     ]
    },
    {
     "name": "stdout",
     "output_type": "stream",
     "text": [
      "Generation 37 - Current best internal CV score: 0.5642886146567095\n"
     ]
    },
    {
     "name": "stderr",
     "output_type": "stream",
     "text": [
      "Optimization Progress: 3901pipeline [47:13,  1.01s/pipeline]"
     ]
    },
    {
     "name": "stdout",
     "output_type": "stream",
     "text": [
      "Generation 38 - Current best internal CV score: 0.5642886146567095\n"
     ]
    },
    {
     "name": "stderr",
     "output_type": "stream",
     "text": [
      "Optimization Progress: 4001pipeline [48:49,  1.36s/pipeline]"
     ]
    },
    {
     "name": "stdout",
     "output_type": "stream",
     "text": [
      "Generation 39 - Current best internal CV score: 0.5642886146567095\n"
     ]
    },
    {
     "name": "stderr",
     "output_type": "stream",
     "text": [
      "Optimization Progress: 4101pipeline [50:11,  1.20s/pipeline]"
     ]
    },
    {
     "name": "stdout",
     "output_type": "stream",
     "text": [
      "Generation 40 - Current best internal CV score: 0.5642886146567095\n"
     ]
    },
    {
     "name": "stderr",
     "output_type": "stream",
     "text": [
      "Optimization Progress: 4201pipeline [51:49,  1.38s/pipeline]"
     ]
    },
    {
     "name": "stdout",
     "output_type": "stream",
     "text": [
      "Generation 41 - Current best internal CV score: 0.5642886146567095\n"
     ]
    },
    {
     "name": "stderr",
     "output_type": "stream",
     "text": [
      "Optimization Progress: 4301pipeline [53:18,  1.03s/pipeline]"
     ]
    },
    {
     "name": "stdout",
     "output_type": "stream",
     "text": [
      "Generation 42 - Current best internal CV score: 0.5642886146567095\n"
     ]
    },
    {
     "name": "stderr",
     "output_type": "stream",
     "text": [
      "Optimization Progress: 4401pipeline [55:23,  1.32s/pipeline]"
     ]
    },
    {
     "name": "stdout",
     "output_type": "stream",
     "text": [
      "Generation 43 - Current best internal CV score: 0.5642886146567095\n"
     ]
    },
    {
     "name": "stderr",
     "output_type": "stream",
     "text": [
      "Optimization Progress: 4501pipeline [57:01,  1.53s/pipeline]"
     ]
    },
    {
     "name": "stdout",
     "output_type": "stream",
     "text": [
      "Generation 44 - Current best internal CV score: 0.5642886146567095\n"
     ]
    },
    {
     "name": "stderr",
     "output_type": "stream",
     "text": [
      "Optimization Progress: 4601pipeline [59:24,  1.49s/pipeline]"
     ]
    },
    {
     "name": "stdout",
     "output_type": "stream",
     "text": [
      "Generation 45 - Current best internal CV score: 0.5642886146567095\n"
     ]
    },
    {
     "name": "stderr",
     "output_type": "stream",
     "text": [
      "Optimization Progress: 4701pipeline [1:01:10,  1.27s/pipeline]"
     ]
    },
    {
     "name": "stdout",
     "output_type": "stream",
     "text": [
      "Generation 46 - Current best internal CV score: 0.5642886146567095\n"
     ]
    },
    {
     "name": "stderr",
     "output_type": "stream",
     "text": [
      "Optimization Progress: 4801pipeline [1:03:15,  1.30s/pipeline]"
     ]
    },
    {
     "name": "stdout",
     "output_type": "stream",
     "text": [
      "Generation 47 - Current best internal CV score: 0.5642886146567095\n"
     ]
    },
    {
     "name": "stderr",
     "output_type": "stream",
     "text": [
      "Optimization Progress: 4901pipeline [1:05:12,  1.54s/pipeline]"
     ]
    },
    {
     "name": "stdout",
     "output_type": "stream",
     "text": [
      "Generation 48 - Current best internal CV score: 0.5642886146567095\n"
     ]
    },
    {
     "name": "stderr",
     "output_type": "stream",
     "text": [
      "Optimization Progress: 5001pipeline [1:07:11,  1.75s/pipeline]"
     ]
    },
    {
     "name": "stdout",
     "output_type": "stream",
     "text": [
      "Generation 49 - Current best internal CV score: 0.5642886146567095\n"
     ]
    },
    {
     "name": "stderr",
     "output_type": "stream",
     "text": [
      "Optimization Progress: 5101pipeline [1:09:30,  1.15s/pipeline]"
     ]
    },
    {
     "name": "stdout",
     "output_type": "stream",
     "text": [
      "Generation 50 - Current best internal CV score: 0.5642886146567097\n"
     ]
    },
    {
     "name": "stderr",
     "output_type": "stream",
     "text": [
      "Optimization Progress: 5201pipeline [1:11:36,  2.52s/pipeline]"
     ]
    },
    {
     "name": "stdout",
     "output_type": "stream",
     "text": [
      "Generation 51 - Current best internal CV score: 0.5642886146567097\n"
     ]
    },
    {
     "name": "stderr",
     "output_type": "stream",
     "text": [
      "Optimization Progress: 5301pipeline [1:13:18,  1.23s/pipeline]"
     ]
    },
    {
     "name": "stdout",
     "output_type": "stream",
     "text": [
      "Generation 52 - Current best internal CV score: 0.5642886146567097\n"
     ]
    },
    {
     "name": "stderr",
     "output_type": "stream",
     "text": [
      "Optimization Progress: 5401pipeline [1:15:47,  2.28s/pipeline]"
     ]
    },
    {
     "name": "stdout",
     "output_type": "stream",
     "text": [
      "Generation 53 - Current best internal CV score: 0.5642886146567097\n"
     ]
    },
    {
     "name": "stderr",
     "output_type": "stream",
     "text": [
      "Optimization Progress: 5501pipeline [1:18:00,  1.44s/pipeline]"
     ]
    },
    {
     "name": "stdout",
     "output_type": "stream",
     "text": [
      "Generation 54 - Current best internal CV score: 0.5642886146567097\n"
     ]
    },
    {
     "name": "stderr",
     "output_type": "stream",
     "text": [
      "Optimization Progress: 5601pipeline [1:20:07,  1.93s/pipeline]"
     ]
    },
    {
     "name": "stdout",
     "output_type": "stream",
     "text": [
      "Generation 55 - Current best internal CV score: 0.5642886146567097\n"
     ]
    },
    {
     "name": "stderr",
     "output_type": "stream",
     "text": [
      "Optimization Progress: 5701pipeline [1:22:04,  2.01s/pipeline]"
     ]
    },
    {
     "name": "stdout",
     "output_type": "stream",
     "text": [
      "Generation 56 - Current best internal CV score: 0.5642886146567097\n"
     ]
    },
    {
     "name": "stderr",
     "output_type": "stream",
     "text": [
      "Optimization Progress: 5801pipeline [1:23:56,  1.46s/pipeline]"
     ]
    },
    {
     "name": "stdout",
     "output_type": "stream",
     "text": [
      "Generation 57 - Current best internal CV score: 0.5642886146567097\n"
     ]
    },
    {
     "name": "stderr",
     "output_type": "stream",
     "text": [
      "Optimization Progress: 5901pipeline [1:25:51,  2.03s/pipeline]"
     ]
    },
    {
     "name": "stdout",
     "output_type": "stream",
     "text": [
      "Generation 58 - Current best internal CV score: 0.5642886146567097\n"
     ]
    },
    {
     "name": "stderr",
     "output_type": "stream",
     "text": [
      "Optimization Progress: 6001pipeline [1:28:14,  1.61s/pipeline]"
     ]
    },
    {
     "name": "stdout",
     "output_type": "stream",
     "text": [
      "Generation 59 - Current best internal CV score: 0.5642886146567097\n"
     ]
    },
    {
     "name": "stderr",
     "output_type": "stream",
     "text": [
      "Optimization Progress: 6101pipeline [1:30:09,  1.45s/pipeline]"
     ]
    },
    {
     "name": "stdout",
     "output_type": "stream",
     "text": [
      "Generation 60 - Current best internal CV score: 0.5642886146567097\n"
     ]
    },
    {
     "name": "stderr",
     "output_type": "stream",
     "text": [
      "Optimization Progress: 6201pipeline [1:32:07,  1.79s/pipeline]"
     ]
    },
    {
     "name": "stdout",
     "output_type": "stream",
     "text": [
      "Generation 61 - Current best internal CV score: 0.5642886146567097\n"
     ]
    },
    {
     "name": "stderr",
     "output_type": "stream",
     "text": [
      "Optimization Progress: 6301pipeline [1:34:09,  1.92s/pipeline]"
     ]
    },
    {
     "name": "stdout",
     "output_type": "stream",
     "text": [
      "Generation 62 - Current best internal CV score: 0.5642886146567097\n"
     ]
    },
    {
     "name": "stderr",
     "output_type": "stream",
     "text": [
      "Optimization Progress: 6401pipeline [1:36:01,  1.52s/pipeline]"
     ]
    },
    {
     "name": "stdout",
     "output_type": "stream",
     "text": [
      "Generation 63 - Current best internal CV score: 0.5642886146567097\n"
     ]
    },
    {
     "name": "stderr",
     "output_type": "stream",
     "text": [
      "Optimization Progress: 6501pipeline [1:38:36,  2.81s/pipeline]"
     ]
    },
    {
     "name": "stdout",
     "output_type": "stream",
     "text": [
      "Generation 64 - Current best internal CV score: 0.5642886146567097\n"
     ]
    },
    {
     "name": "stderr",
     "output_type": "stream",
     "text": [
      "Optimization Progress: 6601pipeline [1:40:40,  1.61s/pipeline]"
     ]
    },
    {
     "name": "stdout",
     "output_type": "stream",
     "text": [
      "Generation 65 - Current best internal CV score: 0.5642886146567097\n"
     ]
    },
    {
     "name": "stderr",
     "output_type": "stream",
     "text": [
      "Optimization Progress: 6701pipeline [1:42:57,  2.70s/pipeline]"
     ]
    },
    {
     "name": "stdout",
     "output_type": "stream",
     "text": [
      "Generation 66 - Current best internal CV score: 0.5642886146567097\n"
     ]
    },
    {
     "name": "stderr",
     "output_type": "stream",
     "text": [
      "Optimization Progress: 6801pipeline [1:44:46,  1.48s/pipeline]"
     ]
    },
    {
     "name": "stdout",
     "output_type": "stream",
     "text": [
      "Generation 67 - Current best internal CV score: 0.5642886146567097\n"
     ]
    },
    {
     "name": "stderr",
     "output_type": "stream",
     "text": [
      "Optimization Progress: 6901pipeline [1:46:29,  1.45s/pipeline]"
     ]
    },
    {
     "name": "stdout",
     "output_type": "stream",
     "text": [
      "Generation 68 - Current best internal CV score: 0.5642886146567097\n"
     ]
    },
    {
     "name": "stderr",
     "output_type": "stream",
     "text": [
      "Optimization Progress: 7001pipeline [1:48:44,  2.17s/pipeline]"
     ]
    },
    {
     "name": "stdout",
     "output_type": "stream",
     "text": [
      "Generation 69 - Current best internal CV score: 0.5642886146567097\n"
     ]
    },
    {
     "name": "stderr",
     "output_type": "stream",
     "text": [
      "Optimization Progress: 7101pipeline [1:50:37,  1.25s/pipeline]"
     ]
    },
    {
     "name": "stdout",
     "output_type": "stream",
     "text": [
      "Generation 70 - Current best internal CV score: 0.5642886146567097\n"
     ]
    },
    {
     "name": "stderr",
     "output_type": "stream",
     "text": [
      "Optimization Progress: 7201pipeline [1:53:29,  2.25s/pipeline]"
     ]
    },
    {
     "name": "stdout",
     "output_type": "stream",
     "text": [
      "Generation 71 - Current best internal CV score: 0.5642886146567097\n"
     ]
    },
    {
     "name": "stderr",
     "output_type": "stream",
     "text": [
      "Optimization Progress: 7301pipeline [1:55:39,  2.20s/pipeline]"
     ]
    },
    {
     "name": "stdout",
     "output_type": "stream",
     "text": [
      "Generation 72 - Current best internal CV score: 0.5642886146567097\n"
     ]
    },
    {
     "name": "stderr",
     "output_type": "stream",
     "text": [
      "Optimization Progress: 7401pipeline [1:57:59,  2.04s/pipeline]"
     ]
    },
    {
     "name": "stdout",
     "output_type": "stream",
     "text": [
      "Generation 73 - Current best internal CV score: 0.5642886146567097\n"
     ]
    },
    {
     "name": "stderr",
     "output_type": "stream",
     "text": [
      "Optimization Progress: 7501pipeline [1:59:59,  1.27s/pipeline]"
     ]
    },
    {
     "name": "stdout",
     "output_type": "stream",
     "text": [
      "Generation 74 - Current best internal CV score: 0.5642886146567097\n"
     ]
    },
    {
     "name": "stderr",
     "output_type": "stream",
     "text": [
      "Optimization Progress: 7601pipeline [2:02:07,  2.33s/pipeline]"
     ]
    },
    {
     "name": "stdout",
     "output_type": "stream",
     "text": [
      "Generation 75 - Current best internal CV score: 0.5642886146567097\n"
     ]
    },
    {
     "name": "stderr",
     "output_type": "stream",
     "text": [
      "Optimization Progress: 7701pipeline [2:03:53,  1.15s/pipeline]"
     ]
    },
    {
     "name": "stdout",
     "output_type": "stream",
     "text": [
      "Generation 76 - Current best internal CV score: 0.5642886146567097\n"
     ]
    },
    {
     "name": "stderr",
     "output_type": "stream",
     "text": [
      "Optimization Progress: 7801pipeline [2:06:05,  1.98s/pipeline]"
     ]
    },
    {
     "name": "stdout",
     "output_type": "stream",
     "text": [
      "Generation 77 - Current best internal CV score: 0.5642886146567097\n"
     ]
    },
    {
     "name": "stderr",
     "output_type": "stream",
     "text": [
      "Optimization Progress: 7901pipeline [2:07:59,  1.43s/pipeline]"
     ]
    },
    {
     "name": "stdout",
     "output_type": "stream",
     "text": [
      "Generation 78 - Current best internal CV score: 0.5642886146567097\n"
     ]
    },
    {
     "name": "stderr",
     "output_type": "stream",
     "text": [
      "Optimization Progress: 8001pipeline [2:09:49,  2.01s/pipeline]"
     ]
    },
    {
     "name": "stdout",
     "output_type": "stream",
     "text": [
      "Generation 79 - Current best internal CV score: 0.5642886146567097\n"
     ]
    },
    {
     "name": "stderr",
     "output_type": "stream",
     "text": [
      "Optimization Progress: 8101pipeline [2:12:13,  1.94s/pipeline]"
     ]
    },
    {
     "name": "stdout",
     "output_type": "stream",
     "text": [
      "Generation 80 - Current best internal CV score: 0.5642886146567097\n"
     ]
    },
    {
     "name": "stderr",
     "output_type": "stream",
     "text": [
      "Optimization Progress: 8201pipeline [2:14:25,  1.67s/pipeline]"
     ]
    },
    {
     "name": "stdout",
     "output_type": "stream",
     "text": [
      "Generation 81 - Current best internal CV score: 0.5651536818318239\n"
     ]
    },
    {
     "name": "stderr",
     "output_type": "stream",
     "text": [
      "Optimization Progress: 8301pipeline [2:16:36,  1.71s/pipeline]"
     ]
    },
    {
     "name": "stdout",
     "output_type": "stream",
     "text": [
      "Generation 82 - Current best internal CV score: 0.5651536818318239\n"
     ]
    },
    {
     "name": "stderr",
     "output_type": "stream",
     "text": [
      "Optimization Progress: 8401pipeline [2:18:59,  1.69s/pipeline]"
     ]
    },
    {
     "name": "stdout",
     "output_type": "stream",
     "text": [
      "Generation 83 - Current best internal CV score: 0.5651536818318239\n"
     ]
    },
    {
     "name": "stderr",
     "output_type": "stream",
     "text": [
      "Optimization Progress: 8501pipeline [2:21:19,  2.54s/pipeline]"
     ]
    },
    {
     "name": "stdout",
     "output_type": "stream",
     "text": [
      "Generation 84 - Current best internal CV score: 0.5651536818318239\n"
     ]
    },
    {
     "name": "stderr",
     "output_type": "stream",
     "text": [
      "Optimization Progress: 8601pipeline [2:23:14,  1.53s/pipeline]"
     ]
    },
    {
     "name": "stdout",
     "output_type": "stream",
     "text": [
      "Generation 85 - Current best internal CV score: 0.5651536818318239\n"
     ]
    },
    {
     "name": "stderr",
     "output_type": "stream",
     "text": [
      "Optimization Progress: 8701pipeline [2:25:27,  1.74s/pipeline]"
     ]
    },
    {
     "name": "stdout",
     "output_type": "stream",
     "text": [
      "Generation 86 - Current best internal CV score: 0.5651536818318239\n"
     ]
    },
    {
     "name": "stderr",
     "output_type": "stream",
     "text": [
      "Optimization Progress: 8801pipeline [2:27:55,  2.36s/pipeline]"
     ]
    },
    {
     "name": "stdout",
     "output_type": "stream",
     "text": [
      "Generation 87 - Current best internal CV score: 0.5651536818318239\n"
     ]
    },
    {
     "name": "stderr",
     "output_type": "stream",
     "text": [
      "Optimization Progress: 8901pipeline [2:30:07,  2.33s/pipeline]"
     ]
    },
    {
     "name": "stdout",
     "output_type": "stream",
     "text": [
      "Generation 88 - Current best internal CV score: 0.5651536818318239\n"
     ]
    },
    {
     "name": "stderr",
     "output_type": "stream",
     "text": [
      "Optimization Progress: 9001pipeline [2:32:40,  2.41s/pipeline]"
     ]
    },
    {
     "name": "stdout",
     "output_type": "stream",
     "text": [
      "Generation 89 - Current best internal CV score: 0.5651536818318239\n"
     ]
    },
    {
     "name": "stderr",
     "output_type": "stream",
     "text": [
      "Optimization Progress: 9101pipeline [2:34:55,  2.49s/pipeline]"
     ]
    },
    {
     "name": "stdout",
     "output_type": "stream",
     "text": [
      "Generation 90 - Current best internal CV score: 0.5651536818318239\n"
     ]
    },
    {
     "name": "stderr",
     "output_type": "stream",
     "text": [
      "Optimization Progress: 9201pipeline [2:36:51,  1.81s/pipeline]"
     ]
    },
    {
     "name": "stdout",
     "output_type": "stream",
     "text": [
      "Generation 91 - Current best internal CV score: 0.5651536818318239\n"
     ]
    },
    {
     "name": "stderr",
     "output_type": "stream",
     "text": [
      "Optimization Progress: 9301pipeline [2:39:20,  2.05s/pipeline]"
     ]
    },
    {
     "name": "stdout",
     "output_type": "stream",
     "text": [
      "Generation 92 - Current best internal CV score: 0.5651536818318239\n"
     ]
    },
    {
     "name": "stderr",
     "output_type": "stream",
     "text": [
      "Optimization Progress: 9401pipeline [2:41:26,  2.30s/pipeline]"
     ]
    },
    {
     "name": "stdout",
     "output_type": "stream",
     "text": [
      "Generation 93 - Current best internal CV score: 0.5651536818318239\n"
     ]
    },
    {
     "name": "stderr",
     "output_type": "stream",
     "text": [
      "Optimization Progress: 9501pipeline [2:43:57,  1.96s/pipeline]"
     ]
    },
    {
     "name": "stdout",
     "output_type": "stream",
     "text": [
      "Generation 94 - Current best internal CV score: 0.5676500185371538\n"
     ]
    },
    {
     "name": "stderr",
     "output_type": "stream",
     "text": [
      "Optimization Progress: 9601pipeline [2:46:21,  2.15s/pipeline]"
     ]
    },
    {
     "name": "stdout",
     "output_type": "stream",
     "text": [
      "Generation 95 - Current best internal CV score: 0.5676500185371538\n"
     ]
    },
    {
     "name": "stderr",
     "output_type": "stream",
     "text": [
      "Optimization Progress: 9701pipeline [2:48:46,  2.00s/pipeline]"
     ]
    },
    {
     "name": "stdout",
     "output_type": "stream",
     "text": [
      "Generation 96 - Current best internal CV score: 0.5676500185371538\n"
     ]
    },
    {
     "name": "stderr",
     "output_type": "stream",
     "text": [
      "Optimization Progress: 9801pipeline [2:51:01,  1.49s/pipeline]"
     ]
    },
    {
     "name": "stdout",
     "output_type": "stream",
     "text": [
      "Generation 97 - Current best internal CV score: 0.5676500185371538\n"
     ]
    },
    {
     "name": "stderr",
     "output_type": "stream",
     "text": [
      "Optimization Progress: 9901pipeline [2:53:32,  2.27s/pipeline]"
     ]
    },
    {
     "name": "stdout",
     "output_type": "stream",
     "text": [
      "Generation 98 - Current best internal CV score: 0.5676500185371538\n"
     ]
    },
    {
     "name": "stderr",
     "output_type": "stream",
     "text": [
      "Optimization Progress: 10001pipeline [2:55:34,  1.57s/pipeline]"
     ]
    },
    {
     "name": "stdout",
     "output_type": "stream",
     "text": [
      "Generation 99 - Current best internal CV score: 0.5676500185371538\n"
     ]
    },
    {
     "name": "stderr",
     "output_type": "stream",
     "text": [
      "Optimization Progress: 10101pipeline [2:58:13,  1.96s/pipeline]"
     ]
    },
    {
     "name": "stdout",
     "output_type": "stream",
     "text": [
      "Generation 100 - Current best internal CV score: 0.5676500185371538\n"
     ]
    },
    {
     "name": "stderr",
     "output_type": "stream",
     "text": []
    },
    {
     "name": "stdout",
     "output_type": "stream",
     "text": [
      "\n",
      "180.23279998333334 minutes have elapsed. TPOT will close down.\n",
      "TPOT closed prematurely. Will use the current best pipeline.\n",
      "\n",
      "Best pipeline: XGBClassifier(Normalizer(StandardScaler(Normalizer(MaxAbsScaler(RFE(RobustScaler(input_matrix), criterion=gini, max_features=1.0, n_estimators=100, step=0.4)), norm=l1)), norm=l2), learning_rate=0.001, max_depth=8, min_child_weight=15, n_estimators=100, nthread=1, subsample=0.25)\n",
      "ONT-BTC 1h accuracy: 54.027\n",
      "Time taken = 65236.70697\n"
     ]
    },
    {
     "name": "stderr",
     "output_type": "stream",
     "text": [
      "/usr/local/lib/python3.5/dist-packages/sklearn/preprocessing/label.py:151: DeprecationWarning: The truth value of an empty array is ambiguous. Returning False, but in future this will result in an error. Use `array.size > 0` to check that an array is not empty.\n",
      "  if diff:\n"
     ]
    }
   ],
   "source": [
    "from tpot import TPOTClassifier\n",
    "\n",
    "init_data = {'exchange_commission': 0.0005,\n",
    "             'start_capital'     : 100,\n",
    "             'buy_correction'    : 1.0001,\n",
    "             'sell_correction'   : 0.9999,\n",
    "             'robot_name'        : '',\n",
    "             'market'            : '',\n",
    "             'kline'             : ''  \n",
    "            }\n",
    "\n",
    "lag = 30\n",
    "start_time = time.time()\n",
    "res = []\n",
    "for market in markets:\n",
    "    for kline in timeframes:\n",
    "        prices = read_prices(market, kline)\n",
    "        returns = np.diff(np.log(prices))\n",
    "        data = []\n",
    "        for k in range(lag):\n",
    "            xx = np.roll(returns, k)\n",
    "            data.append(xx)\n",
    "\n",
    "        data = np.array(data)\n",
    "        data = data.transpose()\n",
    "        data = data[lag-1:]\n",
    "        data_binary = np.sign(data)\n",
    "        labels = data_binary[:, 0]\n",
    "        labels[labels == 0] = -1\n",
    "\n",
    "        train = int(0.8 * data.shape[0])\n",
    "        val = int(0 * (data.shape[0] - train)) + train\n",
    "\n",
    "        X_train = data[:train, 1:]  \n",
    "        y_train = labels[:train]\n",
    "  \n",
    "        X_val  = data[train:val, 1:]\n",
    "        y_val  = labels[train:val]\n",
    "\n",
    "        X_test  = data[val:, 1:]\n",
    "        y_test  = labels[val:]\n",
    "        \n",
    "        model = TPOTClassifier(max_time_mins = 180, \n",
    "                    n_jobs = -1,\n",
    "                    verbosity = 2,\n",
    "                    cv = 5)\n",
    "        model.fit(X_train, y_train)\n",
    "        \n",
    "        \n",
    "        y_pred = model.predict(X_test)\n",
    "        acc = np.mean(y_pred == y_test) * 100\n",
    "        print(market, kline, \"accuracy:\", round(acc,3))\n",
    "        \n",
    "        signals = y_pred\n",
    "        bt_prices = prices[-signals.shape[0]-1:-1]\n",
    "        df = simulation(bt_prices, signals, init_data)\n",
    "        \n",
    "        res.append([market, kline, acc, df.iloc[-1]['cum_profit']])\n",
    "        df = pd.DataFrame(res)\n",
    "        df.to_csv('Logs/res_tpot_' + market + '_' + kline + '.csv')\n",
    "        model.export('Logs/tpot_' + market + '_' + kline + '.py')\n",
    "print(\"Time taken = {0:.5f}\".format(time.time() - start_time))"
   ]
  },
  {
   "cell_type": "code",
   "execution_count": 3,
   "metadata": {},
   "outputs": [],
   "source": []
  },
  {
   "cell_type": "code",
   "execution_count": 3,
   "metadata": {},
   "outputs": [],
   "source": [
    "import autosklearn.classification\n",
    "\n",
    "def autosklearn_class(X_train, Y_train):\n",
    "\n",
    "    automl = autosklearn.classification.AutoSklearnClassifier()\n",
    "    automl.fit(X_train, y_train)\n",
    "    return automl"
   ]
  },
  {
   "cell_type": "code",
   "execution_count": null,
   "metadata": {},
   "outputs": [],
   "source": [
    "init_data = {'exchange_commission': 0.0005,\n",
    "             'start_capital'     : 100,\n",
    "             'buy_correction'    : 1.0001,\n",
    "             'sell_correction'   : 0.9999,\n",
    "             'robot_name'        : '',\n",
    "             'market'            : '',\n",
    "             'kline'             : ''  \n",
    "            }\n",
    "\n",
    "lag = 24\n",
    "start_time = time.time()\n",
    "res = []\n",
    "for market in markets:\n",
    "    for kline in timeframes:\n",
    "        prices = read_prices(market, kline)\n",
    "        returns = np.diff(np.log(prices))\n",
    "        data = []\n",
    "        for k in range(lag):\n",
    "            xx = np.roll(returns, k)\n",
    "            data.append(xx)\n",
    "\n",
    "        data = np.array(data)\n",
    "        data = data.transpose()\n",
    "        data = data[lag-1:]\n",
    "        data_binary = np.sign(data)\n",
    "        labels = data_binary[:, 0]\n",
    "        labels[labels == 0] = -1\n",
    "\n",
    "        train = int(0.8 * data.shape[0])\n",
    "        val = int(0 * (data.shape[0] - train)) + train\n",
    "\n",
    "        X_train = data[:train, 1:]  \n",
    "        y_train = labels[:train]\n",
    "  \n",
    "        X_val  = data[train:val, 1:]\n",
    "        y_val  = labels[train:val]\n",
    "\n",
    "        X_test  = data[val:, 1:]\n",
    "        y_test  = labels[val:]\n",
    "        \n",
    "        t1 = time.time()\n",
    "        model = autosklearn_class(X_train, y_train)        \n",
    "        t2 = time.time()\n",
    "        \n",
    "        y_pred = model.predict(X_test)\n",
    "        acc = np.mean(y_pred == y_test) * 100\n",
    "        print(market, kline,\"accuracy:\", round(acc,3), \"time:\", round((t2-t1)/60), 'min')\n",
    "        \n",
    "        signals = y_pred\n",
    "        bt_prices = prices[-signals.shape[0]-1:-1]\n",
    "        df = simulation(bt_prices, signals, init_data)\n",
    "        \n",
    "        res.append([market, kline,  acc, df.iloc[-1]['cum_profit']])\n",
    "        df = pd.DataFrame(res)\n",
    "        df.to_csv('Logs/res_autosklearn-class_' + market + '_' + kline + '.csv')\n",
    "print(\"Time taken = {0:.5f}\".format(time.time() - start_time))"
   ]
  },
  {
   "cell_type": "code",
   "execution_count": 15,
   "metadata": {},
   "outputs": [],
   "source": []
  },
  {
   "cell_type": "code",
   "execution_count": null,
   "metadata": {},
   "outputs": [],
   "source": [
    "\n",
    "start_time = time.time()\n",
    "res = []\n",
    "for market in markets:\n",
    "    for kline in timeframes:\n",
    "        prices = read_prices(market, kline)\n",
    "        returns = np.diff(np.log(prices))\n",
    "        returns = returns[returns!=0]\n",
    "        data = []\n",
    "        for k in range(lag):\n",
    "            xx = np.roll(returns, k)\n",
    "            data.append(xx)\n",
    "\n",
    "        data = np.array(data)\n",
    "        data = data.transpose()\n",
    "        data = data[lag-1:]\n",
    "        data_binary = np.sign(data)\n",
    "\n",
    "        train = int(0.7 * data.shape[0])\n",
    "\n",
    "        y_train = data_binary[:train, 0]\n",
    "        X_train = data[:train, 1:]\n",
    "        y_val   = data_binary[train:, 0]\n",
    "        X_val   = data[train:, 1:]\n",
    "\n",
    "\n",
    "        best_model, best_score, all_models, all_scores = bestFit(RandomForestClassifier(), paramGrid,\n",
    "                                                    X_train, y_train, X_val, y_val, nfolds=5, #[optional, instead of validation set]\n",
    "                                                    metric=roc_auc_score, greater_is_better=True, \n",
    "                                                    scoreLabel='AUC',\n",
    "                                                    showPlot = False)\n",
    "        print(market, kline, round(best_score,3))\n",
    "        res.append([market, kline, best_score])\n",
    "        df = pd.DataFrame(res)\n",
    "        df.to_csv('Logs/res_pr-sklearn_' + market + '_' + kline + '.csv')\n",
    "print(\"Time taken = {0:.5f}\".format(time.time() - start_time))"
   ]
  },
  {
   "cell_type": "code",
   "execution_count": 16,
   "metadata": {},
   "outputs": [
    {
     "name": "stdout",
     "output_type": "stream",
     "text": [
      "[[ 0  1  2  3]\n",
      " [ 4  5  6  7]\n",
      " [ 8  9 10 11]\n",
      " [12 13 14 15]\n",
      " [16 17 18 19]]\n"
     ]
    },
    {
     "data": {
      "text/plain": [
       "array([[16, 17, 18, 19],\n",
       "       [ 0,  1,  2,  3],\n",
       "       [ 4,  5,  6,  7],\n",
       "       [ 8,  9, 10, 11],\n",
       "       [12, 13, 14, 15]])"
      ]
     },
     "execution_count": 16,
     "metadata": {},
     "output_type": "execute_result"
    }
   ],
   "source": [
    "xx = np.arange(20).reshape(-1,4)\n",
    "print(xx)\n",
    "np.roll(xx,1, axis = 0)\n"
   ]
  },
  {
   "cell_type": "code",
   "execution_count": 18,
   "metadata": {},
   "outputs": [],
   "source": [
    "market = 'BTC-USDT'\n",
    "kline = '1h'\n",
    "lag = 30\n",
    "window = 30\n",
    "window_step = 1\n",
    "forecast = 1\n",
    "\n",
    "df= read_data(market, kline)\n",
    "\n",
    "data = df.as_matrix(['O','H', 'L', 'C', 'V'])\n",
    "data[:,4] = data[:,4] + 1 \n",
    "data  = np.diff(np.log(data), axis = 0)\n",
    "\n",
    "X = []\n",
    "Y = []\n",
    "for i in range(0, len(data) , window_step): \n",
    "    try:\n",
    "        data_win = data[i:i + window, :].reshape(-1)\n",
    "        X.append(data_win)\n",
    "        Y.append(data[i + window + forecast, 3])\n",
    "    except:\n",
    "        break\n",
    "X = X[:len(Y)]\n",
    "X = np.array(X)\n",
    "Y = np.array(Y)\n",
    "Y = np.sign(Y)\n",
    "\n",
    "train = int(0.6 * X.shape[0])\n",
    "val = int(0.5 * (X.shape[0] - train)) + train\n",
    "\n",
    "y_train = Y[:train]\n",
    "X_train = X[:train,:]\n",
    "y_val  = Y[train:val]\n",
    "X_val  = X[train:val,:]\n",
    "y_test  = Y[val:]\n",
    "X_test  = X[val:,:]\n",
    "\n"
   ]
  },
  {
   "cell_type": "code",
   "execution_count": 53,
   "metadata": {},
   "outputs": [
    {
     "data": {
      "text/plain": [
       "(2022, 150)"
      ]
     },
     "execution_count": 53,
     "metadata": {},
     "output_type": "execute_result"
    }
   ],
   "source": [
    "X.shape"
   ]
  },
  {
   "cell_type": "code",
   "execution_count": null,
   "metadata": {},
   "outputs": [],
   "source": [
    "returns = np.diff(np.log(prices))\n",
    "returns[returns!=0].shape[0]"
   ]
  },
  {
   "cell_type": "code",
   "execution_count": 21,
   "metadata": {},
   "outputs": [
    {
     "name": "stdout",
     "output_type": "stream",
     "text": [
      "2120\n"
     ]
    }
   ],
   "source": [
    "market = 'BTC-USDT'\n",
    "kline = '1h'\n",
    "lag = 30\n",
    "\n",
    "prices= read_prices(market, kline)\n",
    "\n",
    "returns = np.diff(np.log(prices))\n",
    "returns = returns[returns!=0]\n",
    "data = []\n",
    "for k in range(lag):\n",
    "    xx = np.roll(returns, k)\n",
    "    data.append(xx)\n",
    "\n",
    "data = np.array(data)\n",
    "data = data.transpose()\n",
    "data = data[lag-1:]\n",
    "train = int(0.8 * data.shape[0])\n",
    "val = int(0 * (data.shape[0] - train)) + train\n",
    "\n",
    "train_rt = data[:train, 0]\n",
    "mu = np.mean(train_rt)\n",
    "v  = np.std(train_rt) \n",
    "bins = [mu-v, mu, mu+v]\n",
    "data_bins   = np.digitize(data[:,1:], bins)\n",
    "\n",
    "data_binary = np.sign(data)\n",
    "\n",
    "y_train = data_binary[:train, 0]\n",
    "X_train = data[:train, 1:]\n",
    "y_val  = data_binary[train:val, 0]\n",
    "X_val  = data[train:val, 1:]\n",
    "\n",
    "y_test  = data_binary[val:, 0]\n",
    "X_test  = data[val:, 1:]\n",
    "\n",
    "\n",
    "#y_train = data_binary[:, 0]\n",
    "#X_train = data[:, 1:]\n",
    "\n",
    "print(X_train.shape[0] + X_val.shape[0] + X_test.shape[0])\n"
   ]
  },
  {
   "cell_type": "code",
   "execution_count": null,
   "metadata": {},
   "outputs": [],
   "source": [
    "from sklearn.ensemble import RandomForestClassifier\n",
    "from sklearn.model_selection import ParameterGrid\n",
    "\n",
    "from parfit import bestFit # Necessary if you wish to use bestFit\n",
    "from sklearn.metrics import accuracy_score\n",
    "from parfit.score import roc_auc_score\n",
    "\n",
    "grid = {\n",
    "    'min_samples_leaf': [1, 2, 5, 20, 50, 100],\n",
    "    'max_features': ['log2', 0.5, 0.55, 0.6, 0.7],\n",
    "    'n_estimators': [40, 60, 100, 500],\n",
    "    'n_jobs':[-1],\n",
    "}\n",
    "paramGrid = ParameterGrid(grid)\n",
    "\n",
    "ts = time.time()\n",
    "best_model, best_score, all_models, all_scores = bestFit(RandomForestClassifier(), paramGrid,\n",
    "                                                    #X_train, y_train, X_val, y_val,  #[optional, instead of cross - validation]\n",
    "                                                    X_train, y_train, nfolds=5, #[optional, instead of validation set]\n",
    "                                                    greater_is_better=True,\n",
    "                                                    #metric=accuracy_score,                                                          \n",
    "                                                    #scoreLabel='Accuracy', \n",
    "                                                    metric=roc_auc_score,      \n",
    "                                                    scoreLabel='AUC',\n",
    "                                                    showPlot = False)\n",
    "\n",
    "tt = round(time.time() - ts)\n",
    "print(best_score, tt)"
   ]
  },
  {
   "cell_type": "code",
   "execution_count": null,
   "metadata": {},
   "outputs": [],
   "source": [
    "print(best_model)\n",
    "pred = best_model.predict(X_test)\n",
    "np.mean(pred == y_test)"
   ]
  },
  {
   "cell_type": "code",
   "execution_count": 25,
   "metadata": {},
   "outputs": [
    {
     "name": "stdout",
     "output_type": "stream",
     "text": [
      "3596\n"
     ]
    }
   ],
   "source": []
  },
  {
   "cell_type": "code",
   "execution_count": 18,
   "metadata": {},
   "outputs": [
    {
     "data": {
      "text/plain": [
       "0.5731132075471698"
      ]
     },
     "execution_count": 18,
     "metadata": {},
     "output_type": "execute_result"
    }
   ],
   "source": [
    "pred = automl.predict(X_test)\n",
    "np.mean(pred == y_test)"
   ]
  },
  {
   "cell_type": "code",
   "execution_count": 19,
   "metadata": {},
   "outputs": [
    {
     "data": {
      "text/plain": [
       "AutoSklearnClassifier(delete_output_folder_after_terminate=True,\n",
       "           delete_tmp_folder_after_terminate=True,\n",
       "           disable_evaluator_output=False, ensemble_nbest=50,\n",
       "           ensemble_size=50, exclude_estimators=None,\n",
       "           exclude_preprocessors=None, get_smac_object_callback=None,\n",
       "           include_estimators=None, include_preprocessors=None,\n",
       "           initial_configurations_via_metalearning=25,\n",
       "           ml_memory_limit=3072, output_folder=None,\n",
       "           per_run_time_limit=360, resampling_strategy='holdout',\n",
       "           resampling_strategy_arguments=None, seed=1, shared_mode=False,\n",
       "           smac_scenario_args=None, time_left_for_this_task=3600,\n",
       "           tmp_folder=None)"
      ]
     },
     "execution_count": 19,
     "metadata": {},
     "output_type": "execute_result"
    }
   ],
   "source": [
    "automl"
   ]
  },
  {
   "cell_type": "code",
   "execution_count": 6,
   "metadata": {},
   "outputs": [],
   "source": [
    "bt_prices = prices[train:]\n",
    "bt_returns = np.diff(np.log(bt_prices))\n",
    "\n",
    "data = []\n",
    "for k in range(lag):\n",
    "    xx = np.roll(bt_returns, k)\n",
    "    data.append(xx)\n",
    "    \n",
    "data = np.array(data)\n",
    "data = data.transpose()\n",
    "data = data[lag-1:]\n",
    "\n",
    "ticks = bt_prices[lag-1:]\n",
    "np.diff(np.log(ticks))\n",
    "pred = best_model.predict(data[:,1:])\n",
    "true_moves = np.sign(data[:,0])\n",
    "#pred = true_moves\n",
    "signals = np.zeros(len(pred) +1)\n",
    "signals[:-1] = pred"
   ]
  },
  {
   "cell_type": "code",
   "execution_count": 8,
   "metadata": {},
   "outputs": [
    {
     "name": "stdout",
     "output_type": "stream",
     "text": [
      "days 34\n",
      "trades 201\n"
     ]
    },
    {
     "data": {
      "text/html": [
       "<div>\n",
       "<style scoped>\n",
       "    .dataframe tbody tr th:only-of-type {\n",
       "        vertical-align: middle;\n",
       "    }\n",
       "\n",
       "    .dataframe tbody tr th {\n",
       "        vertical-align: top;\n",
       "    }\n",
       "\n",
       "    .dataframe thead th {\n",
       "        text-align: right;\n",
       "    }\n",
       "</style>\n",
       "<table border=\"1\" class=\"dataframe\">\n",
       "  <thead>\n",
       "    <tr style=\"text-align: right;\">\n",
       "      <th></th>\n",
       "      <th>price</th>\n",
       "      <th>signal</th>\n",
       "      <th>MP</th>\n",
       "      <th>capital</th>\n",
       "      <th>num_shares</th>\n",
       "      <th>profit</th>\n",
       "      <th>cum_profit</th>\n",
       "    </tr>\n",
       "  </thead>\n",
       "  <tbody>\n",
       "    <tr>\n",
       "      <th>0</th>\n",
       "      <td>8779.97</td>\n",
       "      <td>0</td>\n",
       "      <td>0</td>\n",
       "      <td>100.000000000</td>\n",
       "      <td>0.000000000</td>\n",
       "      <td>0.000000000</td>\n",
       "      <td>0.000000000</td>\n",
       "    </tr>\n",
       "    <tr>\n",
       "      <th>1</th>\n",
       "      <td>8792.47</td>\n",
       "      <td>0</td>\n",
       "      <td>0</td>\n",
       "      <td>100.000000000</td>\n",
       "      <td>0.000000000</td>\n",
       "      <td>0.000000000</td>\n",
       "      <td>0.000000000</td>\n",
       "    </tr>\n",
       "    <tr>\n",
       "      <th>2</th>\n",
       "      <td>8765.00</td>\n",
       "      <td>1</td>\n",
       "      <td>1</td>\n",
       "      <td>0.000000000</td>\n",
       "      <td>0.011402168</td>\n",
       "      <td>-100.000000000</td>\n",
       "      <td>0.000000000</td>\n",
       "    </tr>\n",
       "    <tr>\n",
       "      <th>3</th>\n",
       "      <td>8780.01</td>\n",
       "      <td>0</td>\n",
       "      <td>1</td>\n",
       "      <td>0.000000000</td>\n",
       "      <td>0.011402168</td>\n",
       "      <td>-100.000000000</td>\n",
       "      <td>0.000000000</td>\n",
       "    </tr>\n",
       "    <tr>\n",
       "      <th>4</th>\n",
       "      <td>8806.29</td>\n",
       "      <td>-1</td>\n",
       "      <td>0</td>\n",
       "      <td>100.350560072</td>\n",
       "      <td>0.000000000</td>\n",
       "      <td>0.350560072</td>\n",
       "      <td>0.350560072</td>\n",
       "    </tr>\n",
       "    <tr>\n",
       "      <th>5</th>\n",
       "      <td>8915.31</td>\n",
       "      <td>1</td>\n",
       "      <td>1</td>\n",
       "      <td>0.000000000</td>\n",
       "      <td>0.011249228</td>\n",
       "      <td>-100.350560072</td>\n",
       "      <td>0.350560072</td>\n",
       "    </tr>\n",
       "    <tr>\n",
       "      <th>6</th>\n",
       "      <td>8816.54</td>\n",
       "      <td>0</td>\n",
       "      <td>1</td>\n",
       "      <td>0.000000000</td>\n",
       "      <td>0.011249228</td>\n",
       "      <td>-100.350560072</td>\n",
       "      <td>0.350560072</td>\n",
       "    </tr>\n",
       "    <tr>\n",
       "      <th>7</th>\n",
       "      <td>8815.99</td>\n",
       "      <td>0</td>\n",
       "      <td>1</td>\n",
       "      <td>0.000000000</td>\n",
       "      <td>0.011249228</td>\n",
       "      <td>-100.350560072</td>\n",
       "      <td>0.350560072</td>\n",
       "    </tr>\n",
       "    <tr>\n",
       "      <th>8</th>\n",
       "      <td>8852.05</td>\n",
       "      <td>-1</td>\n",
       "      <td>0</td>\n",
       "      <td>99.518987328</td>\n",
       "      <td>0.000000000</td>\n",
       "      <td>-0.831572744</td>\n",
       "      <td>-0.481012672</td>\n",
       "    </tr>\n",
       "    <tr>\n",
       "      <th>9</th>\n",
       "      <td>8811.00</td>\n",
       "      <td>1</td>\n",
       "      <td>1</td>\n",
       "      <td>0.000000000</td>\n",
       "      <td>0.011288081</td>\n",
       "      <td>-99.518987328</td>\n",
       "      <td>-0.481012672</td>\n",
       "    </tr>\n",
       "    <tr>\n",
       "      <th>10</th>\n",
       "      <td>8843.60</td>\n",
       "      <td>-1</td>\n",
       "      <td>0</td>\n",
       "      <td>99.767381975</td>\n",
       "      <td>0.000000000</td>\n",
       "      <td>0.248394647</td>\n",
       "      <td>-0.232618025</td>\n",
       "    </tr>\n",
       "    <tr>\n",
       "      <th>11</th>\n",
       "      <td>8834.73</td>\n",
       "      <td>1</td>\n",
       "      <td>1</td>\n",
       "      <td>0.000000000</td>\n",
       "      <td>0.011285860</td>\n",
       "      <td>-99.767381975</td>\n",
       "      <td>-0.232618025</td>\n",
       "    </tr>\n",
       "    <tr>\n",
       "      <th>12</th>\n",
       "      <td>8887.07</td>\n",
       "      <td>-1</td>\n",
       "      <td>0</td>\n",
       "      <td>100.238055531</td>\n",
       "      <td>0.000000000</td>\n",
       "      <td>0.470673555</td>\n",
       "      <td>0.238055531</td>\n",
       "    </tr>\n",
       "    <tr>\n",
       "      <th>13</th>\n",
       "      <td>8875.00</td>\n",
       "      <td>0</td>\n",
       "      <td>0</td>\n",
       "      <td>100.238055531</td>\n",
       "      <td>0.000000000</td>\n",
       "      <td>0.470673555</td>\n",
       "      <td>0.238055531</td>\n",
       "    </tr>\n",
       "    <tr>\n",
       "      <th>14</th>\n",
       "      <td>8940.03</td>\n",
       "      <td>0</td>\n",
       "      <td>0</td>\n",
       "      <td>100.238055531</td>\n",
       "      <td>0.000000000</td>\n",
       "      <td>0.470673555</td>\n",
       "      <td>0.238055531</td>\n",
       "    </tr>\n",
       "    <tr>\n",
       "      <th>15</th>\n",
       "      <td>8910.00</td>\n",
       "      <td>1</td>\n",
       "      <td>1</td>\n",
       "      <td>0.000000000</td>\n",
       "      <td>0.011243313</td>\n",
       "      <td>-100.238055531</td>\n",
       "      <td>0.238055531</td>\n",
       "    </tr>\n",
       "    <tr>\n",
       "      <th>16</th>\n",
       "      <td>8942.00</td>\n",
       "      <td>-1</td>\n",
       "      <td>0</td>\n",
       "      <td>100.477387131</td>\n",
       "      <td>0.000000000</td>\n",
       "      <td>0.239331600</td>\n",
       "      <td>0.477387131</td>\n",
       "    </tr>\n",
       "    <tr>\n",
       "      <th>17</th>\n",
       "      <td>8916.01</td>\n",
       "      <td>1</td>\n",
       "      <td>1</td>\n",
       "      <td>0.000000000</td>\n",
       "      <td>0.011262561</td>\n",
       "      <td>-100.477387131</td>\n",
       "      <td>0.477387131</td>\n",
       "    </tr>\n",
       "    <tr>\n",
       "      <th>18</th>\n",
       "      <td>8853.97</td>\n",
       "      <td>0</td>\n",
       "      <td>1</td>\n",
       "      <td>0.000000000</td>\n",
       "      <td>0.011262561</td>\n",
       "      <td>-100.477387131</td>\n",
       "      <td>0.477387131</td>\n",
       "    </tr>\n",
       "    <tr>\n",
       "      <th>19</th>\n",
       "      <td>8877.00</td>\n",
       "      <td>0</td>\n",
       "      <td>1</td>\n",
       "      <td>0.000000000</td>\n",
       "      <td>0.011262561</td>\n",
       "      <td>-100.477387131</td>\n",
       "      <td>0.477387131</td>\n",
       "    </tr>\n",
       "    <tr>\n",
       "      <th>20</th>\n",
       "      <td>8961.90</td>\n",
       "      <td>-1</td>\n",
       "      <td>0</td>\n",
       "      <td>100.873390331</td>\n",
       "      <td>0.000000000</td>\n",
       "      <td>0.396003201</td>\n",
       "      <td>0.873390331</td>\n",
       "    </tr>\n",
       "    <tr>\n",
       "      <th>21</th>\n",
       "      <td>8940.67</td>\n",
       "      <td>1</td>\n",
       "      <td>1</td>\n",
       "      <td>0.000000000</td>\n",
       "      <td>0.011275763</td>\n",
       "      <td>-100.873390331</td>\n",
       "      <td>0.873390331</td>\n",
       "    </tr>\n",
       "    <tr>\n",
       "      <th>22</th>\n",
       "      <td>8919.95</td>\n",
       "      <td>0</td>\n",
       "      <td>1</td>\n",
       "      <td>0.000000000</td>\n",
       "      <td>0.011275763</td>\n",
       "      <td>-100.873390331</td>\n",
       "      <td>0.873390331</td>\n",
       "    </tr>\n",
       "    <tr>\n",
       "      <th>23</th>\n",
       "      <td>8940.36</td>\n",
       "      <td>0</td>\n",
       "      <td>1</td>\n",
       "      <td>0.000000000</td>\n",
       "      <td>0.011275763</td>\n",
       "      <td>-100.873390331</td>\n",
       "      <td>0.873390331</td>\n",
       "    </tr>\n",
       "    <tr>\n",
       "      <th>24</th>\n",
       "      <td>8948.80</td>\n",
       "      <td>-1</td>\n",
       "      <td>0</td>\n",
       "      <td>100.844006617</td>\n",
       "      <td>0.000000000</td>\n",
       "      <td>-0.029383714</td>\n",
       "      <td>0.844006617</td>\n",
       "    </tr>\n",
       "    <tr>\n",
       "      <th>25</th>\n",
       "      <td>8881.00</td>\n",
       "      <td>1</td>\n",
       "      <td>1</td>\n",
       "      <td>0.000000000</td>\n",
       "      <td>0.011348216</td>\n",
       "      <td>-100.844006617</td>\n",
       "      <td>0.844006617</td>\n",
       "    </tr>\n",
       "    <tr>\n",
       "      <th>26</th>\n",
       "      <td>8898.30</td>\n",
       "      <td>0</td>\n",
       "      <td>1</td>\n",
       "      <td>0.000000000</td>\n",
       "      <td>0.011348216</td>\n",
       "      <td>-100.844006617</td>\n",
       "      <td>0.844006617</td>\n",
       "    </tr>\n",
       "    <tr>\n",
       "      <th>27</th>\n",
       "      <td>8920.02</td>\n",
       "      <td>-1</td>\n",
       "      <td>0</td>\n",
       "      <td>101.165582925</td>\n",
       "      <td>0.000000000</td>\n",
       "      <td>0.321576307</td>\n",
       "      <td>1.165582925</td>\n",
       "    </tr>\n",
       "    <tr>\n",
       "      <th>28</th>\n",
       "      <td>8848.18</td>\n",
       "      <td>1</td>\n",
       "      <td>1</td>\n",
       "      <td>0.000000000</td>\n",
       "      <td>0.011426631</td>\n",
       "      <td>-101.165582925</td>\n",
       "      <td>1.165582925</td>\n",
       "    </tr>\n",
       "    <tr>\n",
       "      <th>29</th>\n",
       "      <td>8787.02</td>\n",
       "      <td>0</td>\n",
       "      <td>1</td>\n",
       "      <td>0.000000000</td>\n",
       "      <td>0.011426631</td>\n",
       "      <td>-101.165582925</td>\n",
       "      <td>1.165582925</td>\n",
       "    </tr>\n",
       "    <tr>\n",
       "      <th>...</th>\n",
       "      <td>...</td>\n",
       "      <td>...</td>\n",
       "      <td>...</td>\n",
       "      <td>...</td>\n",
       "      <td>...</td>\n",
       "      <td>...</td>\n",
       "      <td>...</td>\n",
       "    </tr>\n",
       "    <tr>\n",
       "      <th>782</th>\n",
       "      <td>7688.39</td>\n",
       "      <td>1</td>\n",
       "      <td>1</td>\n",
       "      <td>0.000000000</td>\n",
       "      <td>0.013703876</td>\n",
       "      <td>-105.423992638</td>\n",
       "      <td>5.423992638</td>\n",
       "    </tr>\n",
       "    <tr>\n",
       "      <th>783</th>\n",
       "      <td>7644.29</td>\n",
       "      <td>0</td>\n",
       "      <td>1</td>\n",
       "      <td>0.000000000</td>\n",
       "      <td>0.013703876</td>\n",
       "      <td>-105.423992638</td>\n",
       "      <td>5.423992638</td>\n",
       "    </tr>\n",
       "    <tr>\n",
       "      <th>784</th>\n",
       "      <td>7542.02</td>\n",
       "      <td>-1</td>\n",
       "      <td>0</td>\n",
       "      <td>103.292900433</td>\n",
       "      <td>0.000000000</td>\n",
       "      <td>-2.131092204</td>\n",
       "      <td>3.292900433</td>\n",
       "    </tr>\n",
       "    <tr>\n",
       "      <th>785</th>\n",
       "      <td>7397.07</td>\n",
       "      <td>1</td>\n",
       "      <td>1</td>\n",
       "      <td>0.000000000</td>\n",
       "      <td>0.013955651</td>\n",
       "      <td>-103.292900433</td>\n",
       "      <td>3.292900433</td>\n",
       "    </tr>\n",
       "    <tr>\n",
       "      <th>786</th>\n",
       "      <td>7376.01</td>\n",
       "      <td>0</td>\n",
       "      <td>1</td>\n",
       "      <td>0.000000000</td>\n",
       "      <td>0.013955651</td>\n",
       "      <td>-103.292900433</td>\n",
       "      <td>3.292900433</td>\n",
       "    </tr>\n",
       "    <tr>\n",
       "      <th>787</th>\n",
       "      <td>7342.33</td>\n",
       "      <td>0</td>\n",
       "      <td>1</td>\n",
       "      <td>0.000000000</td>\n",
       "      <td>0.013955651</td>\n",
       "      <td>-103.292900433</td>\n",
       "      <td>3.292900433</td>\n",
       "    </tr>\n",
       "    <tr>\n",
       "      <th>788</th>\n",
       "      <td>7364.99</td>\n",
       "      <td>-1</td>\n",
       "      <td>0</td>\n",
       "      <td>102.721568790</td>\n",
       "      <td>0.000000000</td>\n",
       "      <td>-0.571331644</td>\n",
       "      <td>2.721568790</td>\n",
       "    </tr>\n",
       "    <tr>\n",
       "      <th>789</th>\n",
       "      <td>7530.00</td>\n",
       "      <td>1</td>\n",
       "      <td>1</td>\n",
       "      <td>0.000000000</td>\n",
       "      <td>0.013633458</td>\n",
       "      <td>-102.721568790</td>\n",
       "      <td>2.721568790</td>\n",
       "    </tr>\n",
       "    <tr>\n",
       "      <th>790</th>\n",
       "      <td>7496.03</td>\n",
       "      <td>0</td>\n",
       "      <td>1</td>\n",
       "      <td>0.000000000</td>\n",
       "      <td>0.013633458</td>\n",
       "      <td>-102.721568790</td>\n",
       "      <td>2.721568790</td>\n",
       "    </tr>\n",
       "    <tr>\n",
       "      <th>791</th>\n",
       "      <td>7521.97</td>\n",
       "      <td>-1</td>\n",
       "      <td>0</td>\n",
       "      <td>102.488940188</td>\n",
       "      <td>0.000000000</td>\n",
       "      <td>-0.232628602</td>\n",
       "      <td>2.488940188</td>\n",
       "    </tr>\n",
       "    <tr>\n",
       "      <th>792</th>\n",
       "      <td>7576.06</td>\n",
       "      <td>0</td>\n",
       "      <td>0</td>\n",
       "      <td>102.488940188</td>\n",
       "      <td>0.000000000</td>\n",
       "      <td>-0.232628602</td>\n",
       "      <td>2.488940188</td>\n",
       "    </tr>\n",
       "    <tr>\n",
       "      <th>793</th>\n",
       "      <td>7513.97</td>\n",
       "      <td>1</td>\n",
       "      <td>1</td>\n",
       "      <td>0.000000000</td>\n",
       "      <td>0.013631603</td>\n",
       "      <td>-102.488940188</td>\n",
       "      <td>2.488940188</td>\n",
       "    </tr>\n",
       "    <tr>\n",
       "      <th>794</th>\n",
       "      <td>7512.37</td>\n",
       "      <td>0</td>\n",
       "      <td>1</td>\n",
       "      <td>0.000000000</td>\n",
       "      <td>0.013631603</td>\n",
       "      <td>-102.488940188</td>\n",
       "      <td>2.488940188</td>\n",
       "    </tr>\n",
       "    <tr>\n",
       "      <th>795</th>\n",
       "      <td>7586.66</td>\n",
       "      <td>-1</td>\n",
       "      <td>0</td>\n",
       "      <td>103.356288336</td>\n",
       "      <td>0.000000000</td>\n",
       "      <td>0.867348148</td>\n",
       "      <td>3.356288336</td>\n",
       "    </tr>\n",
       "    <tr>\n",
       "      <th>796</th>\n",
       "      <td>7579.58</td>\n",
       "      <td>1</td>\n",
       "      <td>1</td>\n",
       "      <td>0.000000000</td>\n",
       "      <td>0.013627969</td>\n",
       "      <td>-103.356288336</td>\n",
       "      <td>3.356288336</td>\n",
       "    </tr>\n",
       "    <tr>\n",
       "      <th>797</th>\n",
       "      <td>7538.54</td>\n",
       "      <td>0</td>\n",
       "      <td>1</td>\n",
       "      <td>0.000000000</td>\n",
       "      <td>0.013627969</td>\n",
       "      <td>-103.356288336</td>\n",
       "      <td>3.356288336</td>\n",
       "    </tr>\n",
       "    <tr>\n",
       "      <th>798</th>\n",
       "      <td>7510.00</td>\n",
       "      <td>-1</td>\n",
       "      <td>0</td>\n",
       "      <td>102.284644175</td>\n",
       "      <td>0.000000000</td>\n",
       "      <td>-1.071644161</td>\n",
       "      <td>2.284644175</td>\n",
       "    </tr>\n",
       "    <tr>\n",
       "      <th>799</th>\n",
       "      <td>7575.01</td>\n",
       "      <td>0</td>\n",
       "      <td>0</td>\n",
       "      <td>102.284644175</td>\n",
       "      <td>0.000000000</td>\n",
       "      <td>-1.071644161</td>\n",
       "      <td>2.284644175</td>\n",
       "    </tr>\n",
       "    <tr>\n",
       "      <th>800</th>\n",
       "      <td>7575.01</td>\n",
       "      <td>0</td>\n",
       "      <td>0</td>\n",
       "      <td>102.284644175</td>\n",
       "      <td>0.000000000</td>\n",
       "      <td>-1.071644161</td>\n",
       "      <td>2.284644175</td>\n",
       "    </tr>\n",
       "    <tr>\n",
       "      <th>801</th>\n",
       "      <td>7552.17</td>\n",
       "      <td>1</td>\n",
       "      <td>1</td>\n",
       "      <td>0.000000000</td>\n",
       "      <td>0.013535617</td>\n",
       "      <td>-102.284644175</td>\n",
       "      <td>2.284644175</td>\n",
       "    </tr>\n",
       "    <tr>\n",
       "      <th>802</th>\n",
       "      <td>7557.91</td>\n",
       "      <td>-1</td>\n",
       "      <td>0</td>\n",
       "      <td>102.239598496</td>\n",
       "      <td>0.000000000</td>\n",
       "      <td>-0.045045679</td>\n",
       "      <td>2.239598496</td>\n",
       "    </tr>\n",
       "    <tr>\n",
       "      <th>803</th>\n",
       "      <td>7628.36</td>\n",
       "      <td>1</td>\n",
       "      <td>1</td>\n",
       "      <td>0.000000000</td>\n",
       "      <td>0.013394525</td>\n",
       "      <td>-102.239598496</td>\n",
       "      <td>2.239598496</td>\n",
       "    </tr>\n",
       "    <tr>\n",
       "      <th>804</th>\n",
       "      <td>7591.96</td>\n",
       "      <td>0</td>\n",
       "      <td>1</td>\n",
       "      <td>0.000000000</td>\n",
       "      <td>0.013394525</td>\n",
       "      <td>-102.239598496</td>\n",
       "      <td>2.239598496</td>\n",
       "    </tr>\n",
       "    <tr>\n",
       "      <th>805</th>\n",
       "      <td>7579.73</td>\n",
       "      <td>0</td>\n",
       "      <td>1</td>\n",
       "      <td>0.000000000</td>\n",
       "      <td>0.013394525</td>\n",
       "      <td>-102.239598496</td>\n",
       "      <td>2.239598496</td>\n",
       "    </tr>\n",
       "    <tr>\n",
       "      <th>806</th>\n",
       "      <td>7622.01</td>\n",
       "      <td>-1</td>\n",
       "      <td>0</td>\n",
       "      <td>102.031954817</td>\n",
       "      <td>0.000000000</td>\n",
       "      <td>-0.207643680</td>\n",
       "      <td>2.031954817</td>\n",
       "    </tr>\n",
       "    <tr>\n",
       "      <th>807</th>\n",
       "      <td>7482.98</td>\n",
       "      <td>1</td>\n",
       "      <td>1</td>\n",
       "      <td>0.000000000</td>\n",
       "      <td>0.013627023</td>\n",
       "      <td>-102.031954817</td>\n",
       "      <td>2.031954817</td>\n",
       "    </tr>\n",
       "    <tr>\n",
       "      <th>808</th>\n",
       "      <td>7420.43</td>\n",
       "      <td>0</td>\n",
       "      <td>1</td>\n",
       "      <td>0.000000000</td>\n",
       "      <td>0.013627023</td>\n",
       "      <td>-102.031954817</td>\n",
       "      <td>2.031954817</td>\n",
       "    </tr>\n",
       "    <tr>\n",
       "      <th>809</th>\n",
       "      <td>7440.88</td>\n",
       "      <td>-1</td>\n",
       "      <td>0</td>\n",
       "      <td>101.336210933</td>\n",
       "      <td>0.000000000</td>\n",
       "      <td>-0.695743883</td>\n",
       "      <td>1.336210933</td>\n",
       "    </tr>\n",
       "    <tr>\n",
       "      <th>810</th>\n",
       "      <td>7405.00</td>\n",
       "      <td>0</td>\n",
       "      <td>0</td>\n",
       "      <td>101.336210933</td>\n",
       "      <td>0.000000000</td>\n",
       "      <td>-0.695743883</td>\n",
       "      <td>1.336210933</td>\n",
       "    </tr>\n",
       "    <tr>\n",
       "      <th>811</th>\n",
       "      <td>7440.00</td>\n",
       "      <td>0</td>\n",
       "      <td>0</td>\n",
       "      <td>101.336210933</td>\n",
       "      <td>0.000000000</td>\n",
       "      <td>-0.695743883</td>\n",
       "      <td>1.336210933</td>\n",
       "    </tr>\n",
       "  </tbody>\n",
       "</table>\n",
       "<p>812 rows × 7 columns</p>\n",
       "</div>"
      ],
      "text/plain": [
       "       price  signal  MP        capital   num_shares         profit  \\\n",
       "0    8779.97       0   0  100.000000000  0.000000000    0.000000000   \n",
       "1    8792.47       0   0  100.000000000  0.000000000    0.000000000   \n",
       "2    8765.00       1   1    0.000000000  0.011402168 -100.000000000   \n",
       "3    8780.01       0   1    0.000000000  0.011402168 -100.000000000   \n",
       "4    8806.29      -1   0  100.350560072  0.000000000    0.350560072   \n",
       "5    8915.31       1   1    0.000000000  0.011249228 -100.350560072   \n",
       "6    8816.54       0   1    0.000000000  0.011249228 -100.350560072   \n",
       "7    8815.99       0   1    0.000000000  0.011249228 -100.350560072   \n",
       "8    8852.05      -1   0   99.518987328  0.000000000   -0.831572744   \n",
       "9    8811.00       1   1    0.000000000  0.011288081  -99.518987328   \n",
       "10   8843.60      -1   0   99.767381975  0.000000000    0.248394647   \n",
       "11   8834.73       1   1    0.000000000  0.011285860  -99.767381975   \n",
       "12   8887.07      -1   0  100.238055531  0.000000000    0.470673555   \n",
       "13   8875.00       0   0  100.238055531  0.000000000    0.470673555   \n",
       "14   8940.03       0   0  100.238055531  0.000000000    0.470673555   \n",
       "15   8910.00       1   1    0.000000000  0.011243313 -100.238055531   \n",
       "16   8942.00      -1   0  100.477387131  0.000000000    0.239331600   \n",
       "17   8916.01       1   1    0.000000000  0.011262561 -100.477387131   \n",
       "18   8853.97       0   1    0.000000000  0.011262561 -100.477387131   \n",
       "19   8877.00       0   1    0.000000000  0.011262561 -100.477387131   \n",
       "20   8961.90      -1   0  100.873390331  0.000000000    0.396003201   \n",
       "21   8940.67       1   1    0.000000000  0.011275763 -100.873390331   \n",
       "22   8919.95       0   1    0.000000000  0.011275763 -100.873390331   \n",
       "23   8940.36       0   1    0.000000000  0.011275763 -100.873390331   \n",
       "24   8948.80      -1   0  100.844006617  0.000000000   -0.029383714   \n",
       "25   8881.00       1   1    0.000000000  0.011348216 -100.844006617   \n",
       "26   8898.30       0   1    0.000000000  0.011348216 -100.844006617   \n",
       "27   8920.02      -1   0  101.165582925  0.000000000    0.321576307   \n",
       "28   8848.18       1   1    0.000000000  0.011426631 -101.165582925   \n",
       "29   8787.02       0   1    0.000000000  0.011426631 -101.165582925   \n",
       "..       ...     ...  ..            ...          ...            ...   \n",
       "782  7688.39       1   1    0.000000000  0.013703876 -105.423992638   \n",
       "783  7644.29       0   1    0.000000000  0.013703876 -105.423992638   \n",
       "784  7542.02      -1   0  103.292900433  0.000000000   -2.131092204   \n",
       "785  7397.07       1   1    0.000000000  0.013955651 -103.292900433   \n",
       "786  7376.01       0   1    0.000000000  0.013955651 -103.292900433   \n",
       "787  7342.33       0   1    0.000000000  0.013955651 -103.292900433   \n",
       "788  7364.99      -1   0  102.721568790  0.000000000   -0.571331644   \n",
       "789  7530.00       1   1    0.000000000  0.013633458 -102.721568790   \n",
       "790  7496.03       0   1    0.000000000  0.013633458 -102.721568790   \n",
       "791  7521.97      -1   0  102.488940188  0.000000000   -0.232628602   \n",
       "792  7576.06       0   0  102.488940188  0.000000000   -0.232628602   \n",
       "793  7513.97       1   1    0.000000000  0.013631603 -102.488940188   \n",
       "794  7512.37       0   1    0.000000000  0.013631603 -102.488940188   \n",
       "795  7586.66      -1   0  103.356288336  0.000000000    0.867348148   \n",
       "796  7579.58       1   1    0.000000000  0.013627969 -103.356288336   \n",
       "797  7538.54       0   1    0.000000000  0.013627969 -103.356288336   \n",
       "798  7510.00      -1   0  102.284644175  0.000000000   -1.071644161   \n",
       "799  7575.01       0   0  102.284644175  0.000000000   -1.071644161   \n",
       "800  7575.01       0   0  102.284644175  0.000000000   -1.071644161   \n",
       "801  7552.17       1   1    0.000000000  0.013535617 -102.284644175   \n",
       "802  7557.91      -1   0  102.239598496  0.000000000   -0.045045679   \n",
       "803  7628.36       1   1    0.000000000  0.013394525 -102.239598496   \n",
       "804  7591.96       0   1    0.000000000  0.013394525 -102.239598496   \n",
       "805  7579.73       0   1    0.000000000  0.013394525 -102.239598496   \n",
       "806  7622.01      -1   0  102.031954817  0.000000000   -0.207643680   \n",
       "807  7482.98       1   1    0.000000000  0.013627023 -102.031954817   \n",
       "808  7420.43       0   1    0.000000000  0.013627023 -102.031954817   \n",
       "809  7440.88      -1   0  101.336210933  0.000000000   -0.695743883   \n",
       "810  7405.00       0   0  101.336210933  0.000000000   -0.695743883   \n",
       "811  7440.00       0   0  101.336210933  0.000000000   -0.695743883   \n",
       "\n",
       "      cum_profit  \n",
       "0    0.000000000  \n",
       "1    0.000000000  \n",
       "2    0.000000000  \n",
       "3    0.000000000  \n",
       "4    0.350560072  \n",
       "5    0.350560072  \n",
       "6    0.350560072  \n",
       "7    0.350560072  \n",
       "8   -0.481012672  \n",
       "9   -0.481012672  \n",
       "10  -0.232618025  \n",
       "11  -0.232618025  \n",
       "12   0.238055531  \n",
       "13   0.238055531  \n",
       "14   0.238055531  \n",
       "15   0.238055531  \n",
       "16   0.477387131  \n",
       "17   0.477387131  \n",
       "18   0.477387131  \n",
       "19   0.477387131  \n",
       "20   0.873390331  \n",
       "21   0.873390331  \n",
       "22   0.873390331  \n",
       "23   0.873390331  \n",
       "24   0.844006617  \n",
       "25   0.844006617  \n",
       "26   0.844006617  \n",
       "27   1.165582925  \n",
       "28   1.165582925  \n",
       "29   1.165582925  \n",
       "..           ...  \n",
       "782  5.423992638  \n",
       "783  5.423992638  \n",
       "784  3.292900433  \n",
       "785  3.292900433  \n",
       "786  3.292900433  \n",
       "787  3.292900433  \n",
       "788  2.721568790  \n",
       "789  2.721568790  \n",
       "790  2.721568790  \n",
       "791  2.488940188  \n",
       "792  2.488940188  \n",
       "793  2.488940188  \n",
       "794  2.488940188  \n",
       "795  3.356288336  \n",
       "796  3.356288336  \n",
       "797  3.356288336  \n",
       "798  2.284644175  \n",
       "799  2.284644175  \n",
       "800  2.284644175  \n",
       "801  2.284644175  \n",
       "802  2.239598496  \n",
       "803  2.239598496  \n",
       "804  2.239598496  \n",
       "805  2.239598496  \n",
       "806  2.031954817  \n",
       "807  2.031954817  \n",
       "808  2.031954817  \n",
       "809  1.336210933  \n",
       "810  1.336210933  \n",
       "811  1.336210933  \n",
       "\n",
       "[812 rows x 7 columns]"
      ]
     },
     "execution_count": 8,
     "metadata": {},
     "output_type": "execute_result"
    }
   ],
   "source": [
    "from backtest import simulation\n",
    "init_data = {'exchange_commission': 0.0005,\n",
    "             'start_capital'     : 100,\n",
    "             'buy_correction'    : 1.0001,\n",
    "             'sell_correction'   : 0.9999,\n",
    "             'robot_name'        : '',\n",
    "             'market'            : '',\n",
    "             'kline'             : ''  \n",
    "            }\n",
    "\n",
    "df = simulation(ticks, signals, init_data)\n",
    "print('days', round(len(ticks)/24))\n",
    "print('trades', df[df['signal'] == -1].shape[0])\n",
    "df"
   ]
  },
  {
   "cell_type": "code",
   "execution_count": null,
   "metadata": {},
   "outputs": [],
   "source": [
    "def simulation_short(ticks, signals, init_data):\n",
    "    market          = init_data['market']\n",
    "    commission      = init_data['exchange_commission']\n",
    "    start_capital   = init_data['start_capital']\n",
    "    buy_correction  = init_data['buy_correction']\n",
    "    sell_correction = init_data['sell_correction']\n",
    "     \n",
    "    cur_capital  = start_capital \n",
    "    num_shares   = 0\n",
    "    trade_profit = 0\n",
    "    cum_profit   = 0\n",
    "    \n",
    "    market_position = 0\n",
    "    start = len(ticks) - len(signals) \n",
    "    ticks = ticks[start:]\n",
    "    trade_statistics = []\n",
    "    #trade_statistics = np.zeros((len(signals),7))\n",
    "    for i in range(len(signals)) :\n",
    "        \n",
    "        if market_position = 0  and signals[i] == 1:\n",
    "            price = ticks[i] * buy_correction\n",
    "            num_shares   = cur_capital * (1-commission)/price\n",
    "            trade_profit = -cur_capital\n",
    "            cur_capital  = 0\n",
    "            market_position = market_position + 1\n",
    "              \n",
    "        elif market_position = 1 and signals[i] == -1:\n",
    "            price = ticks[i] * sell_correction\n",
    "            cur_capital  = (num_shares * price)*(1-commission)\n",
    "            trade_profit = trade_profit + cur_capital\n",
    "            cum_profit  += trade_profit\n",
    "            num_shares   = 0\n",
    "            market_position = market_position - 1\n",
    "            \n",
    "        elif market_position = 0 and signals[i] == -1:\n",
    "            price = ticks[i] * sell_correction\n",
    "            num_shares   = cur_capital * (1-commission)/price\n",
    "            trade_profit = cur_capital\n",
    "            cum_profit  += trade_profit\n",
    "            market_position = market_position - 1\n",
    "        elif market_position = -1 and signals[i] == 1:\n",
    "            price = ticks[i] * buy_correction\n",
    "            cur_capital  = (num_shares * price)*(1-commission)\n",
    "            trade_profit = -cur_capital\n",
    "            cum_profit  += trade_profit\n",
    "            market_position = market_position - 1                  \n",
    "        else:\n",
    "            signals[i] = 0\n",
    "            \n",
    "        trade_statistics.append([ticks[i], signals[i], market_position, cur_capital, num_shares, trade_profit, cum_profit])            \n",
    "        #trade_statistics[i] = [ticks[i], signals[i], market_position, cur_capital, num_shares, trade_profit, cum_profit]\n",
    "\n",
    "    df = pd.DataFrame(trade_statistics)\n",
    "    df.columns = ['price', 'signal', 'MP', 'capital', 'num_shares', 'profit', 'cum_profit']\n",
    "    df = df.astype({'signal':np.int32, 'MP':np.int32})\n",
    "    return df"
   ]
  },
  {
   "cell_type": "code",
   "execution_count": 13,
   "metadata": {},
   "outputs": [
    {
     "name": "stdout",
     "output_type": "stream",
     "text": [
      "days 34\n",
      "trades 201\n"
     ]
    }
   ],
   "source": [
    "print('days', round(len(ticks)/24))\n",
    "print('trades', df[df['signal'] == -1].shape[0])\n",
    "df;"
   ]
  },
  {
   "cell_type": "code",
   "execution_count": null,
   "metadata": {},
   "outputs": [],
   "source": [
    "import xgboost as xgb"
   ]
  },
  {
   "cell_type": "code",
   "execution_count": null,
   "metadata": {},
   "outputs": [],
   "source": [
    "clf = xgb.XGBClassifier(n_jobs = -1, max_depth = 3)\n",
    "clf.fit(X_train, y_train)\n",
    "pred = clf.predict(X_val)\n",
    "print(np.mean(pred == y_val))\n",
    "clf.get_xgb_params()"
   ]
  },
  {
   "cell_type": "code",
   "execution_count": null,
   "metadata": {},
   "outputs": [],
   "source": [
    "from sklearn.preprocessing import LabelBinarizer\n",
    "\n",
    "lb = LabelBinarizer()\n",
    "y_train_oh = lb.fit_transform(y_train)\n",
    "churn_dmatrix = xgb.DMatrix(data=X_train, label=y_train_oh)\n",
    "params = {\"objective\":\"binary:logistic\", \"max_depth\":3, \"learning_rate\": 0.03, \"n_estimators\" :1000}\n",
    "cv_results = xgb.cv(dtrain=churn_dmatrix, params= params, nfold=4, num_boost_round=1000, metrics=\"error\", early_stopping_rounds=50)\n",
    "\n",
    "print(cv_results)\n",
    "print(((1-cv_results[\"test-error-mean\"]).iloc[-1]))"
   ]
  },
  {
   "cell_type": "code",
   "execution_count": null,
   "metadata": {},
   "outputs": [],
   "source": [
    "cv_results = xgb.cv(dtrain=churn_dmatrix, params= params, nfold=3, num_boost_round=5, metrics=\"auc\", as_pandas=True, seed=123)\n",
    "print(cv_results)\n",
    "print((cv_results[\"test-auc-mean\"]).iloc[-1])"
   ]
  },
  {
   "cell_type": "code",
   "execution_count": null,
   "metadata": {},
   "outputs": [],
   "source": [
    "clf = xgb.XGBClassifier(\n",
    " learning_rate =0.1,\n",
    " n_estimators=1000,\n",
    " max_depth=5,\n",
    " min_child_weight=1,\n",
    " gamma=0,\n",
    " subsample=0.8,\n",
    " colsample_bytree=0.8,\n",
    " objective= 'binary:logistic',\n",
    " nthread=4,\n",
    " scale_pos_weight=1,\n",
    " seed=27)\n",
    "\n",
    "xgb_param = clf.get_xgb_params()\n",
    "xgtrain = xgb.DMatrix(data=X_train, label=y_train_oh)\n",
    "cvresult = xgb.cv(xgb_param, xgtrain, num_boost_round=clf.get_params()['n_estimators'], nfold=5,\n",
    "        metrics='auc', early_stopping_rounds=50)\n"
   ]
  },
  {
   "cell_type": "code",
   "execution_count": null,
   "metadata": {},
   "outputs": [],
   "source": [
    "    clf.set_params(n_estimators=cvresult.shape[0])\n",
    "\n",
    "    #Fit the algorithm on the data\n",
    "    alg.fit(dtrain[predictors], dtrain['Disbursed'],eval_metric='auc')\n",
    "        \n",
    "    #Predict training set:\n",
    "    dtrain_predictions = alg.predict(dtrain[predictors])\n",
    "    dtrain_predprob = alg.predict_proba(dtrain[predictors])[:,1]\n",
    "        \n",
    "    #Print model report:\n",
    "    print \"\\nModel Report\"\n",
    "    print \"Accuracy : %.4g\" % metrics.accuracy_score(dtrain['Disbursed'].values, dtrain_predictions)\n",
    "    print \"AUC Score (Train): %f\" % metrics.roc_auc_score(dtrain['Disbursed'], dtrain_predprob)\n",
    "                    \n",
    "    feat_imp = pd.Series(alg.booster().get_fscore()).sort_values(ascending=False)\n",
    "    feat_imp.plot(kind='bar', title='Feature Importances')\n",
    "    plt.ylabel('Feature Importance Score')"
   ]
  }
 ],
 "metadata": {
  "kernelspec": {
   "display_name": "Python 3",
   "language": "python",
   "name": "python3"
  },
  "language_info": {
   "codemirror_mode": {
    "name": "ipython",
    "version": 3
   },
   "file_extension": ".py",
   "mimetype": "text/x-python",
   "name": "python",
   "nbconvert_exporter": "python",
   "pygments_lexer": "ipython3",
   "version": "3.5.2"
  }
 },
 "nbformat": 4,
 "nbformat_minor": 2
}
