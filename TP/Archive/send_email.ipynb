{
 "cells": [
  {
   "cell_type": "code",
   "execution_count": null,
   "metadata": {},
   "outputs": [],
   "source": []
  },
  {
   "cell_type": "code",
   "execution_count": null,
   "metadata": {},
   "outputs": [],
   "source": [
    "    "
   ]
  },
  {
   "cell_type": "code",
   "execution_count": 1,
   "metadata": {},
   "outputs": [
    {
     "data": {
      "text/plain": [
       "4"
      ]
     },
     "execution_count": 1,
     "metadata": {},
     "output_type": "execute_result"
    }
   ],
   "source": []
  },
  {
   "cell_type": "code",
   "execution_count": 2,
   "metadata": {},
   "outputs": [],
   "source": [
    "#отправкa почты, с использованием аккаунта gmail.com\n",
    "\n",
    "#нужно отключить блокировку незнакомых адресов через эту ссылку\n",
    "#https://accounts.google.com/DisplayUnlockCaptcha\n",
    "\n",
    "#также разрешить ненадежные приложения через\n",
    "#https://myaccount.google.com/lesssecureapps\n",
    "import smtplib\n",
    "from email.mime.text import MIMEText\n",
    "from email.header import Header\n",
    "\n",
    "\n",
    "\n",
    "def send_email(addr_to, text):\n",
    "# Настройки\n",
    "    mail_sender = 'nkor2021@gmail.com'\n",
    "    mail_receiver = addr_to\n",
    "    username = 'nkor2021'\n",
    "    password = 'samara2269'\n",
    "    server = smtplib.SMTP('smtp.gmail.com:587')\n",
    "\n",
    "    # Формируем тело письма\n",
    "    subject = 'Email от Binance '         # Тема сообщения\n",
    "    body = text                           # Текст сообщения\n",
    "    msg = MIMEText(body, 'plain', 'utf-8')# Добавляем в сообщение текст\n",
    "    msg['Subject'] = Header(subject, 'utf-8')\n",
    "\n",
    "    # Отпавляем письмо\n",
    "    server.starttls()                    #Переводим соединение в защищенный режим (Transport Layer Security)\n",
    "    server.ehlo()\n",
    "    server.login(username, password)     #Проводим авторизацию\n",
    "    server.sendmail(mail_sender, mail_receiver, msg.as_string())\n",
    "    server.quit()"
   ]
  },
  {
   "cell_type": "code",
   "execution_count": 6,
   "metadata": {},
   "outputs": [
    {
     "name": "stdout",
     "output_type": "stream",
     "text": [
      "1.12 s ± 97 ms per loop (mean ± std. dev. of 7 runs, 1 loop each)\n"
     ]
    }
   ],
   "source": [
    "\n",
    "\n",
    "%timeit send_email('nkor2012@yandex.ru', 'kosha molodec')\n"
   ]
  },
  {
   "cell_type": "code",
   "execution_count": 5,
   "metadata": {},
   "outputs": [
    {
     "name": "stdout",
     "output_type": "stream",
     "text": [
      "1.13 s ± 68.4 ms per loop (mean ± std. dev. of 7 runs, 1 loop each)\n"
     ]
    }
   ],
   "source": [
    "%timeit send_email('xfaphefowyad@dropmail.me', 'kosha molodec')"
   ]
  },
  {
   "cell_type": "code",
   "execution_count": null,
   "metadata": {},
   "outputs": [],
   "source": []
  }
 ],
 "metadata": {
  "kernelspec": {
   "display_name": "Python 3",
   "language": "python",
   "name": "python3"
  },
  "language_info": {
   "codemirror_mode": {
    "name": "ipython",
    "version": 3
   },
   "file_extension": ".py",
   "mimetype": "text/x-python",
   "name": "python",
   "nbconvert_exporter": "python",
   "pygments_lexer": "ipython3",
   "version": "3.6.10"
  }
 },
 "nbformat": 4,
 "nbformat_minor": 4
}
