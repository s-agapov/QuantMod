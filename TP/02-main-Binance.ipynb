{
 "cells": [
  {
   "cell_type": "code",
   "execution_count": 1,
   "metadata": {
    "tags": []
   },
   "outputs": [],
   "source": [
    "import pandas as pd\n",
    "import numpy as np\n",
    "import json\n",
    "from datetime import datetime\n",
    "\n",
    "import ccxt\n",
    "\n",
    "from tp_utils.data_provider import read_prices, read_data, market_to_symbol, load_data_from_exchange\n",
    "from Portfolio.portfolio_tools import *\n",
    "from tp_utils.tp_utils import  create_market_buy_order,  create_market_sell_order, get_balance\n",
    "from tp_config import *\n",
    "\n",
    "pd.set_option(\"display.max_rows\", 90)"
   ]
  },
  {
   "cell_type": "code",
   "execution_count": null,
   "metadata": {
    "tags": []
   },
   "outputs": [],
   "source": []
  },
  {
   "cell_type": "code",
   "execution_count": null,
   "metadata": {
    "tags": []
   },
   "outputs": [],
   "source": []
  },
  {
   "cell_type": "code",
   "execution_count": 50,
   "metadata": {
    "tags": []
   },
   "outputs": [],
   "source": [
    "exchange = ccxt.binance({'apiKey': main_api, 'secret': main_secret})\n",
    "\n",
    "def get_balance_values(df, assets):\n",
    "    if type(assets) == list :\n",
    "        if len(assets) > 0:\n",
    "            df = df[df['asset'].isin(assets)]\n",
    "            df = df.set_index('asset').loc[assets].reset_index()\n",
    "            res = df['free'].values.astype(float).tolist()\n",
    "        else:\n",
    "            res = []\n",
    "    elif type(assets) == str :\n",
    "        res = df[df['asset'] == assets]['free'].values.astype(float)[0]\n",
    "    else:\n",
    "        res = None\n",
    "    return res\n",
    "  "
   ]
  },
  {
   "cell_type": "code",
   "execution_count": 2,
   "metadata": {},
   "outputs": [
    {
     "data": {
      "text/plain": [
       "30"
      ]
     },
     "execution_count": 2,
     "metadata": {},
     "output_type": "execute_result"
    }
   ],
   "source": [
    "a = 10\n",
    "a*(3,2)[a<0]"
   ]
  },
  {
   "cell_type": "code",
   "execution_count": null,
   "metadata": {},
   "outputs": [],
   "source": []
  },
  {
   "cell_type": "markdown",
   "metadata": {},
   "source": [
    "## Balance"
   ]
  },
  {
   "cell_type": "code",
   "execution_count": 44,
   "metadata": {
    "tags": []
   },
   "outputs": [
    {
     "ename": "AuthenticationError",
     "evalue": "bybit requires \"apiKey\" credential",
     "output_type": "error",
     "traceback": [
      "\u001b[1;31m---------------------------------------------------------------------------\u001b[0m",
      "\u001b[1;31mAuthenticationError\u001b[0m                       Traceback (most recent call last)",
      "Cell \u001b[1;32mIn[44], line 1\u001b[0m\n\u001b[1;32m----> 1\u001b[0m df \u001b[38;5;241m=\u001b[39m \u001b[43mget_balance\u001b[49m\u001b[43m(\u001b[49m\u001b[43mexchange\u001b[49m\u001b[43m)\u001b[49m\n\u001b[0;32m      2\u001b[0m df \u001b[38;5;241m=\u001b[39m df[(df[\u001b[38;5;124m'\u001b[39m\u001b[38;5;124mfree\u001b[39m\u001b[38;5;124m'\u001b[39m]\u001b[38;5;241m.\u001b[39mastype(\u001b[38;5;28mfloat\u001b[39m) \u001b[38;5;241m+\u001b[39mdf[\u001b[38;5;124m'\u001b[39m\u001b[38;5;124mlocked\u001b[39m\u001b[38;5;124m'\u001b[39m]\u001b[38;5;241m.\u001b[39mastype(\u001b[38;5;28mfloat\u001b[39m)) \u001b[38;5;241m>\u001b[39m \u001b[38;5;241m0\u001b[39m]\n\u001b[0;32m      3\u001b[0m df \u001b[38;5;241m=\u001b[39m df[\u001b[38;5;241m~\u001b[39mdf[\u001b[38;5;124m'\u001b[39m\u001b[38;5;124masset\u001b[39m\u001b[38;5;124m'\u001b[39m]\u001b[38;5;241m.\u001b[39misin(delisted_assets)]\n",
      "File \u001b[1;32mD:\\Code\\Projects\\QuantMod\\tp\\tp_utils\\tp_utils.py:15\u001b[0m, in \u001b[0;36mget_balance\u001b[1;34m(exchange)\u001b[0m\n\u001b[0;32m     14\u001b[0m \u001b[38;5;28;01mdef\u001b[39;00m \u001b[38;5;21mget_balance\u001b[39m(exchange):\n\u001b[1;32m---> 15\u001b[0m     json \u001b[38;5;241m=\u001b[39m \u001b[43mexchange\u001b[49m\u001b[38;5;241;43m.\u001b[39;49m\u001b[43mfetch_balance\u001b[49m\u001b[43m(\u001b[49m\u001b[43m{\u001b[49m\u001b[38;5;124;43m'\u001b[39;49m\u001b[38;5;124;43mrecvWindow\u001b[39;49m\u001b[38;5;124;43m'\u001b[39;49m\u001b[43m:\u001b[49m\u001b[43m \u001b[49m\u001b[38;5;241;43m59999\u001b[39;49m\u001b[43m}\u001b[49m\u001b[43m)\u001b[49m\n\u001b[0;32m     16\u001b[0m     df \u001b[38;5;241m=\u001b[39m pd\u001b[38;5;241m.\u001b[39mDataFrame(json[\u001b[38;5;124m'\u001b[39m\u001b[38;5;124minfo\u001b[39m\u001b[38;5;124m'\u001b[39m][\u001b[38;5;124m'\u001b[39m\u001b[38;5;124mbalances\u001b[39m\u001b[38;5;124m'\u001b[39m])\n\u001b[0;32m     17\u001b[0m     \u001b[38;5;28;01mreturn\u001b[39;00m df\n",
      "File \u001b[1;32mD:\\Soft\\Anaconda\\envs\\t\\Lib\\site-packages\\ccxt\\bybit.py:2910\u001b[0m, in \u001b[0;36mbybit.fetch_balance\u001b[1;34m(self, params)\u001b[0m\n\u001b[0;32m   2908\u001b[0m \u001b[38;5;28mself\u001b[39m\u001b[38;5;241m.\u001b[39mload_markets()\n\u001b[0;32m   2909\u001b[0m request \u001b[38;5;241m=\u001b[39m {}\n\u001b[1;32m-> 2910\u001b[0m enableUnifiedMargin, enableUnifiedAccount \u001b[38;5;241m=\u001b[39m \u001b[38;5;28;43mself\u001b[39;49m\u001b[38;5;241;43m.\u001b[39;49m\u001b[43mis_unified_enabled\u001b[49m\u001b[43m(\u001b[49m\u001b[43m)\u001b[49m\n\u001b[0;32m   2911\u001b[0m isUnifiedAccount \u001b[38;5;241m=\u001b[39m (enableUnifiedMargin \u001b[38;5;129;01mor\u001b[39;00m enableUnifiedAccount)\n\u001b[0;32m   2912\u001b[0m \u001b[38;5;28mtype\u001b[39m \u001b[38;5;241m=\u001b[39m \u001b[38;5;28;01mNone\u001b[39;00m\n",
      "File \u001b[1;32mD:\\Soft\\Anaconda\\envs\\t\\Lib\\site-packages\\ccxt\\bybit.py:1079\u001b[0m, in \u001b[0;36mbybit.is_unified_enabled\u001b[1;34m(self, params)\u001b[0m\n\u001b[0;32m   1077\u001b[0m enableUnifiedAccount \u001b[38;5;241m=\u001b[39m \u001b[38;5;28mself\u001b[39m\u001b[38;5;241m.\u001b[39msafe_value(\u001b[38;5;28mself\u001b[39m\u001b[38;5;241m.\u001b[39moptions, \u001b[38;5;124m'\u001b[39m\u001b[38;5;124menableUnifiedAccount\u001b[39m\u001b[38;5;124m'\u001b[39m)\n\u001b[0;32m   1078\u001b[0m \u001b[38;5;28;01mif\u001b[39;00m enableUnifiedMargin \u001b[38;5;129;01mis\u001b[39;00m \u001b[38;5;28;01mNone\u001b[39;00m \u001b[38;5;129;01mor\u001b[39;00m enableUnifiedAccount \u001b[38;5;129;01mis\u001b[39;00m \u001b[38;5;28;01mNone\u001b[39;00m:\n\u001b[1;32m-> 1079\u001b[0m     response \u001b[38;5;241m=\u001b[39m \u001b[38;5;28;43mself\u001b[39;49m\u001b[38;5;241;43m.\u001b[39;49m\u001b[43mprivateGetV5UserQueryApi\u001b[49m\u001b[43m(\u001b[49m\u001b[43mparams\u001b[49m\u001b[43m)\u001b[49m\n\u001b[0;32m   1080\u001b[0m     \u001b[38;5;66;03m#\u001b[39;00m\n\u001b[0;32m   1081\u001b[0m     \u001b[38;5;66;03m#     {\u001b[39;00m\n\u001b[0;32m   1082\u001b[0m     \u001b[38;5;66;03m#         \"retCode\": 0,\u001b[39;00m\n\u001b[1;32m   (...)\u001b[0m\n\u001b[0;32m   1118\u001b[0m     \u001b[38;5;66;03m#     }\u001b[39;00m\n\u001b[0;32m   1119\u001b[0m     \u001b[38;5;66;03m#\u001b[39;00m\n\u001b[0;32m   1120\u001b[0m     result \u001b[38;5;241m=\u001b[39m \u001b[38;5;28mself\u001b[39m\u001b[38;5;241m.\u001b[39msafe_value(response, \u001b[38;5;124m'\u001b[39m\u001b[38;5;124mresult\u001b[39m\u001b[38;5;124m'\u001b[39m, {})\n",
      "File \u001b[1;32mD:\\Soft\\Anaconda\\envs\\t\\Lib\\site-packages\\ccxt\\base\\types.py:35\u001b[0m, in \u001b[0;36mEntry.__init__.<locals>.unbound_method\u001b[1;34m(_self, params)\u001b[0m\n\u001b[0;32m     34\u001b[0m \u001b[38;5;28;01mdef\u001b[39;00m \u001b[38;5;21munbound_method\u001b[39m(_self, params\u001b[38;5;241m=\u001b[39m{}):\n\u001b[1;32m---> 35\u001b[0m     \u001b[38;5;28;01mreturn\u001b[39;00m \u001b[43m_self\u001b[49m\u001b[38;5;241;43m.\u001b[39;49m\u001b[43mrequest\u001b[49m\u001b[43m(\u001b[49m\u001b[38;5;28;43mself\u001b[39;49m\u001b[38;5;241;43m.\u001b[39;49m\u001b[43mpath\u001b[49m\u001b[43m,\u001b[49m\u001b[43m \u001b[49m\u001b[38;5;28;43mself\u001b[39;49m\u001b[38;5;241;43m.\u001b[39;49m\u001b[43mapi\u001b[49m\u001b[43m,\u001b[49m\u001b[43m \u001b[49m\u001b[38;5;28;43mself\u001b[39;49m\u001b[38;5;241;43m.\u001b[39;49m\u001b[43mmethod\u001b[49m\u001b[43m,\u001b[49m\u001b[43m \u001b[49m\u001b[43mparams\u001b[49m\u001b[43m,\u001b[49m\u001b[43m \u001b[49m\u001b[43mconfig\u001b[49m\u001b[38;5;241;43m=\u001b[39;49m\u001b[38;5;28;43mself\u001b[39;49m\u001b[38;5;241;43m.\u001b[39;49m\u001b[43mconfig\u001b[49m\u001b[43m)\u001b[49m\n",
      "File \u001b[1;32mD:\\Soft\\Anaconda\\envs\\t\\Lib\\site-packages\\ccxt\\base\\exchange.py:3580\u001b[0m, in \u001b[0;36mExchange.request\u001b[1;34m(self, path, api, method, params, headers, body, config)\u001b[0m\n\u001b[0;32m   3579\u001b[0m \u001b[38;5;28;01mdef\u001b[39;00m \u001b[38;5;21mrequest\u001b[39m(\u001b[38;5;28mself\u001b[39m, path, api: Any \u001b[38;5;241m=\u001b[39m \u001b[38;5;124m'\u001b[39m\u001b[38;5;124mpublic\u001b[39m\u001b[38;5;124m'\u001b[39m, method\u001b[38;5;241m=\u001b[39m\u001b[38;5;124m'\u001b[39m\u001b[38;5;124mGET\u001b[39m\u001b[38;5;124m'\u001b[39m, params\u001b[38;5;241m=\u001b[39m{}, headers: Any \u001b[38;5;241m=\u001b[39m \u001b[38;5;28;01mNone\u001b[39;00m, body: Any \u001b[38;5;241m=\u001b[39m \u001b[38;5;28;01mNone\u001b[39;00m, config\u001b[38;5;241m=\u001b[39m{}):\n\u001b[1;32m-> 3580\u001b[0m     \u001b[38;5;28;01mreturn\u001b[39;00m \u001b[38;5;28;43mself\u001b[39;49m\u001b[38;5;241;43m.\u001b[39;49m\u001b[43mfetch2\u001b[49m\u001b[43m(\u001b[49m\u001b[43mpath\u001b[49m\u001b[43m,\u001b[49m\u001b[43m \u001b[49m\u001b[43mapi\u001b[49m\u001b[43m,\u001b[49m\u001b[43m \u001b[49m\u001b[43mmethod\u001b[49m\u001b[43m,\u001b[49m\u001b[43m \u001b[49m\u001b[43mparams\u001b[49m\u001b[43m,\u001b[49m\u001b[43m \u001b[49m\u001b[43mheaders\u001b[49m\u001b[43m,\u001b[49m\u001b[43m \u001b[49m\u001b[43mbody\u001b[49m\u001b[43m,\u001b[49m\u001b[43m \u001b[49m\u001b[43mconfig\u001b[49m\u001b[43m)\u001b[49m\n",
      "File \u001b[1;32mD:\\Soft\\Anaconda\\envs\\t\\Lib\\site-packages\\ccxt\\base\\exchange.py:3573\u001b[0m, in \u001b[0;36mExchange.fetch2\u001b[1;34m(self, path, api, method, params, headers, body, config)\u001b[0m\n\u001b[0;32m   3571\u001b[0m     \u001b[38;5;28mself\u001b[39m\u001b[38;5;241m.\u001b[39mthrottle(cost)\n\u001b[0;32m   3572\u001b[0m \u001b[38;5;28mself\u001b[39m\u001b[38;5;241m.\u001b[39mlastRestRequestTimestamp \u001b[38;5;241m=\u001b[39m \u001b[38;5;28mself\u001b[39m\u001b[38;5;241m.\u001b[39mmilliseconds()\n\u001b[1;32m-> 3573\u001b[0m request \u001b[38;5;241m=\u001b[39m \u001b[38;5;28;43mself\u001b[39;49m\u001b[38;5;241;43m.\u001b[39;49m\u001b[43msign\u001b[49m\u001b[43m(\u001b[49m\u001b[43mpath\u001b[49m\u001b[43m,\u001b[49m\u001b[43m \u001b[49m\u001b[43mapi\u001b[49m\u001b[43m,\u001b[49m\u001b[43m \u001b[49m\u001b[43mmethod\u001b[49m\u001b[43m,\u001b[49m\u001b[43m \u001b[49m\u001b[43mparams\u001b[49m\u001b[43m,\u001b[49m\u001b[43m \u001b[49m\u001b[43mheaders\u001b[49m\u001b[43m,\u001b[49m\u001b[43m \u001b[49m\u001b[43mbody\u001b[49m\u001b[43m)\u001b[49m\n\u001b[0;32m   3574\u001b[0m \u001b[38;5;28mself\u001b[39m\u001b[38;5;241m.\u001b[39mlast_request_headers \u001b[38;5;241m=\u001b[39m request[\u001b[38;5;124m'\u001b[39m\u001b[38;5;124mheaders\u001b[39m\u001b[38;5;124m'\u001b[39m]\n\u001b[0;32m   3575\u001b[0m \u001b[38;5;28mself\u001b[39m\u001b[38;5;241m.\u001b[39mlast_request_body \u001b[38;5;241m=\u001b[39m request[\u001b[38;5;124m'\u001b[39m\u001b[38;5;124mbody\u001b[39m\u001b[38;5;124m'\u001b[39m]\n",
      "File \u001b[1;32mD:\\Soft\\Anaconda\\envs\\t\\Lib\\site-packages\\ccxt\\bybit.py:7456\u001b[0m, in \u001b[0;36mbybit.sign\u001b[1;34m(self, path, api, method, params, headers, body)\u001b[0m\n\u001b[0;32m   7454\u001b[0m         url \u001b[38;5;241m+\u001b[39m\u001b[38;5;241m=\u001b[39m \u001b[38;5;124m'\u001b[39m\u001b[38;5;124m?\u001b[39m\u001b[38;5;124m'\u001b[39m \u001b[38;5;241m+\u001b[39m \u001b[38;5;28mself\u001b[39m\u001b[38;5;241m.\u001b[39mrawencode(params)\n\u001b[0;32m   7455\u001b[0m \u001b[38;5;28;01melif\u001b[39;00m api \u001b[38;5;241m==\u001b[39m \u001b[38;5;124m'\u001b[39m\u001b[38;5;124mprivate\u001b[39m\u001b[38;5;124m'\u001b[39m:\n\u001b[1;32m-> 7456\u001b[0m     \u001b[38;5;28;43mself\u001b[39;49m\u001b[38;5;241;43m.\u001b[39;49m\u001b[43mcheck_required_credentials\u001b[49m\u001b[43m(\u001b[49m\u001b[43m)\u001b[49m\n\u001b[0;32m   7457\u001b[0m     isOpenapi \u001b[38;5;241m=\u001b[39m url\u001b[38;5;241m.\u001b[39mfind(\u001b[38;5;124m'\u001b[39m\u001b[38;5;124mopenapi\u001b[39m\u001b[38;5;124m'\u001b[39m) \u001b[38;5;241m>\u001b[39m\u001b[38;5;241m=\u001b[39m \u001b[38;5;241m0\u001b[39m\n\u001b[0;32m   7458\u001b[0m     isV3UnifiedMargin \u001b[38;5;241m=\u001b[39m url\u001b[38;5;241m.\u001b[39mfind(\u001b[38;5;124m'\u001b[39m\u001b[38;5;124munified/v3\u001b[39m\u001b[38;5;124m'\u001b[39m) \u001b[38;5;241m>\u001b[39m\u001b[38;5;241m=\u001b[39m \u001b[38;5;241m0\u001b[39m\n",
      "File \u001b[1;32mD:\\Soft\\Anaconda\\envs\\t\\Lib\\site-packages\\ccxt\\base\\exchange.py:3766\u001b[0m, in \u001b[0;36mExchange.check_required_credentials\u001b[1;34m(self, error)\u001b[0m\n\u001b[0;32m   3764\u001b[0m \u001b[38;5;28;01mif\u001b[39;00m \u001b[38;5;28mself\u001b[39m\u001b[38;5;241m.\u001b[39mrequiredCredentials[key] \u001b[38;5;129;01mand\u001b[39;00m \u001b[38;5;129;01mnot\u001b[39;00m \u001b[38;5;28mgetattr\u001b[39m(\u001b[38;5;28mself\u001b[39m, key):\n\u001b[0;32m   3765\u001b[0m     \u001b[38;5;28;01mif\u001b[39;00m error:\n\u001b[1;32m-> 3766\u001b[0m         \u001b[38;5;28;01mraise\u001b[39;00m AuthenticationError(\u001b[38;5;28mself\u001b[39m\u001b[38;5;241m.\u001b[39mid \u001b[38;5;241m+\u001b[39m \u001b[38;5;124m'\u001b[39m\u001b[38;5;124m requires \u001b[39m\u001b[38;5;124m\"\u001b[39m\u001b[38;5;124m'\u001b[39m \u001b[38;5;241m+\u001b[39m key \u001b[38;5;241m+\u001b[39m \u001b[38;5;124m'\u001b[39m\u001b[38;5;124m\"\u001b[39m\u001b[38;5;124m credential\u001b[39m\u001b[38;5;124m'\u001b[39m)\n\u001b[0;32m   3767\u001b[0m     \u001b[38;5;28;01melse\u001b[39;00m:\n\u001b[0;32m   3768\u001b[0m         \u001b[38;5;28;01mreturn\u001b[39;00m \u001b[38;5;28;01mFalse\u001b[39;00m\n",
      "\u001b[1;31mAuthenticationError\u001b[0m: bybit requires \"apiKey\" credential"
     ]
    }
   ],
   "source": [
    "df = get_balance(exchange)\n",
    "df = df[(df['free'].astype(float) +df['locked'].astype(float)) > 0]\n",
    "df = df[~df['asset'].isin(delisted_assets)]\n",
    "res_balance = []\n",
    "df = df.sort_values('asset')\n",
    "\n",
    "ticker = 'BTC/USDT'\n",
    "price_btc_usdt = exchange.fetch_ticker(ticker)['last']\n",
    "\n",
    "balance_usdt = 0\n",
    "balance_btc = 0\n",
    "balance_alts = 0\n",
    "sums = []\n",
    "for row in df.iterrows():\n",
    "    asset = row[1]['asset']\n",
    "    amount = float(row[1]['free']) + float(row[1]['locked'])  \n",
    "    if asset == 'BTC':\n",
    "        sum_btc = amount\n",
    "        balance_btc = balance_btc + amount \n",
    "        balance_usdt = balance_usdt + amount * price_btc_usdt\n",
    "    elif asset == \"USDT\":\n",
    "        balance_usdt = balance_usdt + amount\n",
    "        sum_btc = 0\n",
    "    else:\n",
    "        ticker = asset + '/BTC'\n",
    "        price_btc = exchange.fetch_ticker(ticker)['last']\n",
    "        balance_btc = balance_btc + amount * price_btc\n",
    "        if asset != 'BNB':\n",
    "            balance_alts = balance_alts + amount * price_btc     \n",
    "            \n",
    "        balance_usdt = balance_usdt + amount * price_btc * price_btc_usdt\n",
    "        sum_btc = round(amount * price_btc, 4)\n",
    "    sums.append(sum_btc)\n",
    "df['sum_btc'] = sums\n",
    "print('BTC:', round (balance_btc,4), 'ALTs:', round(balance_alts,4)  ,'USDT:', round(balance_usdt))\n",
    "df.sort_values(\"sum_btc\", ascending = False)"
   ]
  },
  {
   "cell_type": "code",
   "execution_count": null,
   "metadata": {},
   "outputs": [],
   "source": []
  },
  {
   "cell_type": "code",
   "execution_count": null,
   "metadata": {},
   "outputs": [],
   "source": []
  },
  {
   "cell_type": "code",
   "execution_count": null,
   "metadata": {},
   "outputs": [],
   "source": []
  },
  {
   "cell_type": "code",
   "execution_count": 36,
   "metadata": {},
   "outputs": [],
   "source": [
    "#market = 'ADA-BTC'\n",
    "#market = 'AVAX-BTC'\n",
    "#market = 'ATA-BTC'\n",
    "market = 'AXS-BTC'\n",
    "#market = 'MATIC-BTC'\n",
    "#market = 'FTT-BTC'\n",
    "\n",
    "#market = 'XLM-BTC'\n",
    "market = 'SOL-BTC'\n",
    "#market = 'LINK-BTC'\n",
    "#market = 'RUNE-BTC'\n",
    "#market = 'BNB-BTC'\n",
    "market = 'ETH-BTC'\n",
    "#market = 'ETC-BTC'\n",
    "#market = 'DOT-BTC'\n",
    "#market = 'XMR-BTC'\n",
    "#market = 'TRX-BTC'\n",
    "#market = 'ZIL-BTC'\n",
    "#market = 'VET-BTC'\n",
    "#market = 'SUSHI-BTC'\n",
    "#market = 'THETA-BTC'\n",
    "#market = 'TFUEL-BTC'\n",
    "#market = 'WAVES-BTC'\n",
    "#market = 'SAND-BTC'\n",
    "#market = 'ONE-BTC'\n",
    "#market = 'UNI-BTC'\n",
    "#market = 'ZRX-BTC'\n",
    "#market = 'TLM-BTC'\n",
    "#market = 'DOGE-BTC'\n",
    "#market = 'ALICE-BTC'\n",
    "#market = 'LUNA-BTC'\n",
    "#market = 'RUNE-BTC'\n",
    "#market = 'BQX-BTC'\n",
    "#market = 'YFII-BTC'\n",
    "amount = 0.2\n",
    "symbol = market_to_symbol(market)"
   ]
  },
  {
   "cell_type": "markdown",
   "metadata": {},
   "source": [
    "## Market buy"
   ]
  },
  {
   "cell_type": "code",
   "execution_count": 37,
   "metadata": {},
   "outputs": [
    {
     "name": "stdout",
     "output_type": "stream",
     "text": [
      "price 0.071306 , sum 0.0142612\n"
     ]
    }
   ],
   "source": [
    "price_buy = create_market_buy_order(exchange, market, amount)\n",
    "print('price', price_buy, ', sum', price_buy * amount)"
   ]
  },
  {
   "cell_type": "markdown",
   "metadata": {},
   "source": [
    "## Market Sell"
   ]
  },
  {
   "cell_type": "code",
   "execution_count": 15,
   "metadata": {},
   "outputs": [
    {
     "name": "stdout",
     "output_type": "stream",
     "text": [
      "0.00018281 sum 0.018281\n"
     ]
    }
   ],
   "source": [
    "price_sell = create_market_sell_order(exchange, market, amount)\n",
    "print(price_sell, 'sum', price_sell * amount)"
   ]
  },
  {
   "cell_type": "markdown",
   "metadata": {},
   "source": [
    "### Limit sell"
   ]
  },
  {
   "cell_type": "code",
   "execution_count": 21,
   "metadata": {},
   "outputs": [],
   "source": [
    "order_type = 'stop_loss_limit'  # or 'market', other types aren't unified yet\n",
    "side = 'sell'\n",
    "stop_price = 0.0002150\n",
    "sell_price = 0.0002140\n",
    "# your price\n",
    "# overrides\n",
    "params = {\n",
    "    'stopPrice': stop_price,  # your stop price\n",
    "}\n",
    "order = exchange.create_order(symbol, order_type, side, amount, sell_price, params)"
   ]
  },
  {
   "cell_type": "code",
   "execution_count": 51,
   "metadata": {},
   "outputs": [
    {
     "data": {
      "text/plain": [
       "[{'info': {'symbol': 'DOGEBTC',\n",
       "   'origClientOrderId': 'web_654918598cbd4910a3cb74fe677b92bf',\n",
       "   'orderId': '239881844',\n",
       "   'orderListId': '-1',\n",
       "   'clientOrderId': 'SqiOk3B2fx3pQKDBISxZmL',\n",
       "   'price': '0.00000578',\n",
       "   'origQty': '553.00000000',\n",
       "   'executedQty': '0.00000000',\n",
       "   'cummulativeQuoteQty': '0.00000000',\n",
       "   'status': 'CANCELED',\n",
       "   'timeInForce': 'GTC',\n",
       "   'type': 'STOP_LOSS_LIMIT',\n",
       "   'side': 'SELL',\n",
       "   'stopPrice': '0.00000579'},\n",
       "  'id': '239881844',\n",
       "  'clientOrderId': 'SqiOk3B2fx3pQKDBISxZmL',\n",
       "  'timestamp': None,\n",
       "  'datetime': None,\n",
       "  'lastTradeTimestamp': None,\n",
       "  'symbol': 'DOGE/BTC',\n",
       "  'type': 'stop_loss_limit',\n",
       "  'timeInForce': 'GTC',\n",
       "  'postOnly': False,\n",
       "  'side': 'sell',\n",
       "  'price': 5.78e-06,\n",
       "  'stopPrice': 5.79e-06,\n",
       "  'amount': 553.0,\n",
       "  'cost': 0.0,\n",
       "  'average': None,\n",
       "  'filled': 0.0,\n",
       "  'remaining': 553.0,\n",
       "  'status': 'canceled',\n",
       "  'fee': None,\n",
       "  'trades': [],\n",
       "  'fees': []}]"
      ]
     },
     "execution_count": 51,
     "metadata": {},
     "output_type": "execute_result"
    }
   ],
   "source": [
    "exchange.cancel_all_orders(symbol)"
   ]
  },
  {
   "cell_type": "markdown",
   "metadata": {},
   "source": [
    "# Sell All"
   ]
  },
  {
   "cell_type": "code",
   "execution_count": 56,
   "metadata": {},
   "outputs": [
    {
     "name": "stdout",
     "output_type": "stream",
     "text": [
      "ETH-BTC 0.069013\n",
      "QTUM-BTC 0.0002347\n",
      "DATA-BTC 2.81e-06\n",
      "THETA-BTC 0.00015202\n",
      "VET-BTC 2.34e-06\n",
      "DOGE-BTC 5.64e-06\n",
      "FTT-BTC 0.0010006\n",
      "DREP-BTC 1.464e-05\n",
      "SOL-BTC 0.00085663\n",
      "DOT-BTC 0.00045237\n",
      "UNI-BTC 0.0006086\n",
      "PSG-BTC 0.0009337\n",
      "TVK-BTC 7.17e-06\n"
     ]
    }
   ],
   "source": [
    "df = get_balance(exchange)\n",
    "df = df[(df['free'].astype(float) +df['locked'].astype(float)) > 0]\n",
    "df = df[~df['asset'].isin(delisted_assets)]\n",
    "for row in df.iterrows():\n",
    "    asset = row[1]['asset']\n",
    "    amount = row[1]['free']\n",
    "    locked = row[1]['locked']\n",
    "    if asset in ['BTC', 'USDT', 'BNB']:\n",
    "        continue\n",
    "\n",
    "    market = asset + '-BTC' \n",
    "    ticker = asset + '/BTC'\n",
    "    if float(locked) > 0:\n",
    "        exchange.cancel_all_orders(ticker)\n",
    "        \n",
    "    try:\n",
    "        price_sell = create_market_sell_order(exchange, market, amount)\n",
    "        print(market, price_sell)\n",
    "    except:\n",
    "        pass"
   ]
  },
  {
   "cell_type": "markdown",
   "metadata": {},
   "source": [
    "### Trades"
   ]
  },
  {
   "cell_type": "code",
   "execution_count": 988,
   "metadata": {},
   "outputs": [],
   "source": [
    "raw_trades =  exchange.fetch_my_trades('TFUEL/BTC')\n",
    "trades = [[round(x['timestamp']/1000), x['side'], x['amount'], x['price'], x['cost']] for x in raw_trades]"
   ]
  },
  {
   "cell_type": "code",
   "execution_count": null,
   "metadata": {},
   "outputs": [],
   "source": []
  },
  {
   "cell_type": "code",
   "execution_count": null,
   "metadata": {},
   "outputs": [],
   "source": []
  },
  {
   "cell_type": "code",
   "execution_count": null,
   "metadata": {},
   "outputs": [],
   "source": [
    "df  = pd.DataFrame(trades, columns = ['time', 'side', 'amount', 'price', 'cost'])\n",
    "dfx = df.groupby(['time', 'side']).sum()\n",
    "dfx['price'] = dfx['cost']/dfx['amount']\n",
    "dfx.sort_values('time', ascending = False)[:20]  "
   ]
  },
  {
   "cell_type": "code",
   "execution_count": null,
   "metadata": {},
   "outputs": [],
   "source": [
    "portfolios = ['max_sharpe', 'main', 'index_low', 'efficient_risk']\n",
    "for portfolio in portfolios:\n",
    "    portfolio_file = portfolio + '.json'\n",
    "\n",
    "    with open(portfolio_file) as f:\n",
    "        portfolio_data = json.load(f)\n",
    "    portfolio = portfolio_data['markets']\n",
    "    sell_portfolio(exchange, portfolio)"
   ]
  },
  {
   "cell_type": "code",
   "execution_count": 327,
   "metadata": {},
   "outputs": [],
   "source": [
    "d = {\"stop\":not True}\n",
    "with open(\"stop.json\", 'w') as f:\n",
    "    json.dump(d, f)"
   ]
  },
  {
   "cell_type": "code",
   "execution_count": 328,
   "metadata": {},
   "outputs": [
    {
     "data": {
      "text/plain": [
       "{'stop': False}"
      ]
     },
     "execution_count": 328,
     "metadata": {},
     "output_type": "execute_result"
    }
   ],
   "source": [
    "with open(\"stop.json\") as f:\n",
    "    x = json.load(f)\n",
    "x"
   ]
  },
  {
   "cell_type": "markdown",
   "metadata": {},
   "source": [
    "## Portfolio recalc"
   ]
  },
  {
   "cell_type": "markdown",
   "metadata": {},
   "source": [
    "### 0. Data from exchange"
   ]
  },
  {
   "cell_type": "code",
   "execution_count": 41,
   "metadata": {
    "tags": []
   },
   "outputs": [],
   "source": [
    "pair = 'USDT'\n",
    "index_assets = pd.read_csv('Portfolio/index_assets.csv')['asset'].tolist()\n",
    "markets_index = [s + '-' + pair for s in index_assets]\n",
    "\n",
    "index_low_assets = pd.read_csv('Portfolio/index_low_assets.csv')['asset'].tolist()\n",
    "index_all = index_assets + index_low_assets\n",
    "markets = [s + '-' + pair for s in index_all]"
   ]
  },
  {
   "cell_type": "code",
   "execution_count": null,
   "metadata": {
    "tags": []
   },
   "outputs": [],
   "source": [
    "exchange = ccxt.bybit()\n",
    "pair = 'USDT'\n",
    "assets = ['ADA', 'APT', 'AVAX', 'BNB', 'SOL', 'TRX', 'ZIL', 'NEON',  'WLD', 'PEPE', 'NEAR', 'ETH', 'BONK', 'WAVES',\n",
    "          'FTT',  'FTM', 'MATIC', 'INJ', 'JUP', 'SEI', 'SUI', 'THETA', 'RUNE', 'GALA', 'PYTH', 'PPT', 'FIRE', 'NGL',\n",
    "         'CYBER']\n",
    "\n",
    "assets.sort()\n",
    "\n",
    "#markets = [m + '-' + pair for m in assets]\n",
    "\n",
    "start_timestamp = exchange.parse8601('2023-04-01 00:00:00')\n",
    "timeframes = {'1h':60, '4h':60}\n",
    "data_path = DATA_PATH_CRYPTO + '/' + pair\n",
    "print(data_path)\n",
    "load_data_from_exchange(exchange, markets, timeframes, start_timestamp, data_path, 10)"
   ]
  },
  {
   "cell_type": "markdown",
   "metadata": {},
   "source": [
    "### 1. Set index assets"
   ]
  },
  {
   "cell_type": "code",
   "execution_count": 56,
   "metadata": {
    "tags": []
   },
   "outputs": [],
   "source": [
    "import os\n",
    "\n",
    "portfolio = 'max_sharpe'\n",
    "#portfolio = 'main'\n",
    "portfolio = 'index_low'\n",
    "#portfolio = 'efficient_risk'\n",
    "\n",
    "portfolio_file = portfolio + '.json'\n",
    "\n",
    "if os.path.exists(portfolio_file):\n",
    "    with open(portfolio_file) as f:\n",
    "        portfolio_data = json.load(f)\n",
    "        opt_method = portfolio_data['opt_method']\n",
    "        \n",
    "        if portfolio_data['base'][0] == 'index':\n",
    "            assets = index_assets\n",
    "        elif portfolio_data['base'][0] == 'index_low':\n",
    "            assets = index_low_assets    \n",
    "        elif portfolio_data['base'][0] == 'index_all':\n",
    "            assets = index_all          \n",
    "\n",
    "opt_method = \"max_sharpe\"\n",
    "pair = 'USDT'\n",
    "#pair = 'BTC'\n"
   ]
  },
  {
   "cell_type": "code",
   "execution_count": 38,
   "metadata": {
    "tags": []
   },
   "outputs": [],
   "source": [
    "def print_data(df):\n",
    "    print(datetime.fromtimestamp(df.index[0]/1000))\n",
    "    print(datetime.fromtimestamp(df.index[-1]/1000))"
   ]
  },
  {
   "cell_type": "markdown",
   "metadata": {},
   "source": [
    "### 2. Load data"
   ]
  },
  {
   "cell_type": "code",
   "execution_count": 42,
   "metadata": {
    "tags": []
   },
   "outputs": [
    {
     "name": "stdout",
     "output_type": "stream",
     "text": [
      "AVAX-USDT\n",
      "BTC-USDT\n",
      "BNB-USDT\n",
      "DOT-USDT\n",
      "ETH-USDT\n",
      "LINK-USDT\n",
      "LTC-USDT\n",
      "LUNA-USDT\n",
      "MATIC-USDT\n",
      "SOL-USDT\n",
      "TON-USDT\n",
      "TRX-USDT\n",
      "2024-03-24 08:00:00\n"
     ]
    }
   ],
   "source": [
    "df_prices =  load_data_for_portfolio(markets_index, '4h')   \n",
    "print(datetime.fromtimestamp(df_prices.index[-1]/1000))"
   ]
  },
  {
   "cell_type": "code",
   "execution_count": null,
   "metadata": {
    "tags": []
   },
   "outputs": [],
   "source": []
  },
  {
   "cell_type": "markdown",
   "metadata": {},
   "source": [
    "### 3. Calc weights"
   ]
  },
  {
   "cell_type": "markdown",
   "metadata": {},
   "source": [
    "#### 3.1 Calc weights "
   ]
  },
  {
   "cell_type": "code",
   "execution_count": 43,
   "metadata": {
    "tags": []
   },
   "outputs": [
    {
     "name": "stdout",
     "output_type": "stream",
     "text": [
      "2024-03-04 12:00:00\n",
      "2024-03-24 08:00:00\n",
      "max_sharpe\n"
     ]
    },
    {
     "data": {
      "text/html": [
       "<div>\n",
       "<style scoped>\n",
       "    .dataframe tbody tr th:only-of-type {\n",
       "        vertical-align: middle;\n",
       "    }\n",
       "\n",
       "    .dataframe tbody tr th {\n",
       "        vertical-align: top;\n",
       "    }\n",
       "\n",
       "    .dataframe thead th {\n",
       "        text-align: right;\n",
       "    }\n",
       "</style>\n",
       "<table border=\"1\" class=\"dataframe\">\n",
       "  <thead>\n",
       "    <tr style=\"text-align: right;\">\n",
       "      <th></th>\n",
       "      <th>W</th>\n",
       "      <th>weights</th>\n",
       "    </tr>\n",
       "  </thead>\n",
       "  <tbody>\n",
       "    <tr>\n",
       "      <th>LUNA-USDT</th>\n",
       "      <td>0.04239</td>\n",
       "      <td>0.04239</td>\n",
       "    </tr>\n",
       "    <tr>\n",
       "      <th>TON-USDT</th>\n",
       "      <td>0.95761</td>\n",
       "      <td>0.95761</td>\n",
       "    </tr>\n",
       "  </tbody>\n",
       "</table>\n",
       "</div>"
      ],
      "text/plain": [
       "                 W  weights\n",
       "LUNA-USDT  0.04239  0.04239\n",
       "TON-USDT   0.95761  0.95761"
      ]
     },
     "execution_count": 43,
     "metadata": {},
     "output_type": "execute_result"
    }
   ],
   "source": [
    "lookback = 120\n",
    "df_period = df_prices.iloc[-lookback:]\n",
    "print_data(df_period)\n",
    "\n",
    "ef = calc_frontier(df_period, \"ledoit_wolf\",  \"ema_historical_return\", span = 150)\n",
    "#ef = calc_frontier(df_period, 'semicovariance', \"ema_historical_return\",)\n",
    "\n",
    "\n",
    "#opt_method = \"efficient_risk\"\n",
    "opt_method = 'max_sharpe'\n",
    "\n",
    "if opt_method == 'max_sharpe': \n",
    "    dfw = calc_weights(ef, opt_method, 0)\n",
    "else:\n",
    "    dfw = calc_weights(ef, opt_method, 0.25)\n",
    "print(opt_method)    \n",
    "dfw "
   ]
  },
  {
   "cell_type": "code",
   "execution_count": null,
   "metadata": {
    "tags": []
   },
   "outputs": [],
   "source": []
  },
  {
   "cell_type": "markdown",
   "metadata": {
    "tags": []
   },
   "source": [
    "### 3.2 Calc weghts min. cardinality"
   ]
  },
  {
   "cell_type": "code",
   "execution_count": 40,
   "metadata": {
    "tags": []
   },
   "outputs": [
    {
     "name": "stdout",
     "output_type": "stream",
     "text": [
      "2024-03-04 12:00:00\n",
      "2024-03-24 08:00:00\n",
      "You must convert self.cov to a positive definite matrix\n",
      "            weights\n",
      "TOKEN-USDT      1.0\n",
      "You must convert self.cov to a positive definite matrix\n",
      "            weights\n",
      "TOKEN-USDT      1.0\n",
      "You must convert self.cov to a positive definite matrix\n",
      "            weights\n",
      "TOKEN-USDT      1.0\n"
     ]
    }
   ],
   "source": [
    "import riskfolio as rp\n",
    "\n",
    "rms= ['MV', 'MSV',  'CVaR']\n",
    "\n",
    "def riskfolio_weights(df_period, rm , obj):\n",
    "    \"\"\"\n",
    "        obj - Objective function, could be MinRisk, MaxRet, Utility or Sharpe\n",
    "    \"\"\"\n",
    "    Y = df_period.pct_change().dropna()\n",
    "\n",
    "    # Building the portfolio object\n",
    "    port = rp.Portfolio(returns=Y)\n",
    "\n",
    "    # Calculating optimum portfolio\n",
    "\n",
    "    # Select method and estimate input parameters:\n",
    "\n",
    "    method_mu='hist' # Method to estimate expected returns based on historical data.\n",
    "    method_cov='hist' # Method to estimate covariance matrix based on historical data.\n",
    "\n",
    "    port.assets_stats(method_mu=method_mu, method_cov=method_cov, d=0.94)\n",
    "\n",
    "    # Estimate optimal portfolio:\n",
    "\n",
    "    model='Classic' # Could be Classic (historical), BL (Black Litterman) or FM (Factor Model)\n",
    "    hist = True # Use historical scenarios for risk measures that depend on scenarios\n",
    "    rf = 0 # Risk free rate\n",
    "    l = 0 # Risk aversion factor, only useful when obj is 'Utility'\n",
    "    # First we need to delete the cardinality constraint\n",
    " #   port.card = None \n",
    "\n",
    "    # Then we need to set the constraint on the minimum number of effective assets\n",
    "  #  port.nea = 2\n",
    "    w = port.optimization(model=model, rm=rm, obj=obj, rf=rf, l=l, hist=hist)\n",
    "    w = w[w.weights > 0.01]\n",
    "    return w\n",
    "\n",
    "print_data(df_period)\n",
    "ws = pd.DataFrame([])\n",
    "for rm in rms:\n",
    "    w = riskfolio_weights(df_period, rm, 'MaxRet')\n",
    "    print(w)"
   ]
  },
  {
   "cell_type": "code",
   "execution_count": null,
   "metadata": {
    "tags": []
   },
   "outputs": [],
   "source": []
  },
  {
   "cell_type": "code",
   "execution_count": 25,
   "metadata": {
    "tags": []
   },
   "outputs": [
    {
     "data": {
      "text/html": [
       "<div>\n",
       "<style scoped>\n",
       "    .dataframe tbody tr th:only-of-type {\n",
       "        vertical-align: middle;\n",
       "    }\n",
       "\n",
       "    .dataframe tbody tr th {\n",
       "        vertical-align: top;\n",
       "    }\n",
       "\n",
       "    .dataframe thead th {\n",
       "        text-align: right;\n",
       "    }\n",
       "</style>\n",
       "<table border=\"1\" class=\"dataframe\">\n",
       "  <thead>\n",
       "    <tr style=\"text-align: right;\">\n",
       "      <th></th>\n",
       "      <th>weights</th>\n",
       "    </tr>\n",
       "  </thead>\n",
       "  <tbody>\n",
       "    <tr>\n",
       "      <th>ETHFI-USDT</th>\n",
       "      <td>0.016718167</td>\n",
       "    </tr>\n",
       "    <tr>\n",
       "      <th>ONDO-USDT</th>\n",
       "      <td>0.462106652</td>\n",
       "    </tr>\n",
       "    <tr>\n",
       "      <th>TOKEN-USDT</th>\n",
       "      <td>0.521174797</td>\n",
       "    </tr>\n",
       "  </tbody>\n",
       "</table>\n",
       "</div>"
      ],
      "text/plain": [
       "                weights\n",
       "ETHFI-USDT  0.016718167\n",
       "ONDO-USDT   0.462106652\n",
       "TOKEN-USDT  0.521174797"
      ]
     },
     "metadata": {},
     "output_type": "display_data"
    }
   ],
   "source": [
    "# First we need to delete the cardinality constraint\n",
    "port.card = None \n",
    "\n",
    "# Then we need to set the constraint on the minimum number of effective assets\n",
    "port.nea = 2\n",
    "\n",
    "w = port.optimization(model=model, rm=rm, obj=obj, rf=rf, l=l, hist=hist)\n",
    "\n",
    "display(w[w.weights > 0.01])"
   ]
  },
  {
   "cell_type": "code",
   "execution_count": 28,
   "metadata": {
    "tags": []
   },
   "outputs": [
    {
     "name": "stdout",
     "output_type": "stream",
     "text": [
      "Number of Assets: 14\n",
      "Number of Effective Assets: 9.99999858246235\n"
     ]
    },
    {
     "name": "stderr",
     "output_type": "stream",
     "text": [
      "D:\\Soft\\Anaconda\\envs\\t\\Lib\\site-packages\\numpy\\core\\fromnumeric.py:86: FutureWarning: The behavior of DataFrame.sum with axis=None is deprecated, in a future version this will reduce over both axes and return a scalar. To retain the old behavior, pass axis=0 (or do not pass axis)\n",
      "  return reduction(axis=axis, out=out, **passkwargs)\n"
     ]
    }
   ],
   "source": [
    "# Number of assets in portfolio\n",
    "n_assets = np.sum(np.where(np.round(w,4) > 0, 1, 0)).item()\n",
    "\n",
    "# Number of effective assets in portfolio\n",
    "nea = 1/np.sum(w ** 2).item()\n",
    "\n",
    "print('Number of Assets:', n_assets)\n",
    "print('Number of Effective Assets:', nea)"
   ]
  },
  {
   "cell_type": "markdown",
   "metadata": {},
   "source": [
    "### 4. Sell portfolio"
   ]
  },
  {
   "cell_type": "code",
   "execution_count": 18,
   "metadata": {},
   "outputs": [
    {
     "name": "stdout",
     "output_type": "stream",
     "text": [
      "{'opt_method': 'max_sharpe', 'base': ['index'], 'markets': {'ADA-BTC': 647.583133356188, 'AVAX-BTC': 19.2435189120272, 'DOGE-BTC': 1595.947219604147, 'ETC-BTC': 17.649557037172347, 'ONT-BTC': 105.2389705882353, 'RUNE-BTC': 8.051865907653385, 'XMR-BTC': 0.5688474256022674}}\n",
      "Current balance: 0.09769360876527733\n"
     ]
    }
   ],
   "source": [
    "portfolio = portfolio_data['markets']\n",
    "balance = sell_portfolio(portfolio)\n",
    "print('Current balance:', balance)  "
   ]
  },
  {
   "cell_type": "code",
   "execution_count": 39,
   "metadata": {},
   "outputs": [],
   "source": [
    "balance = 0.2"
   ]
  },
  {
   "cell_type": "markdown",
   "metadata": {},
   "source": [
    "### 5. Set new portfolio"
   ]
  },
  {
   "cell_type": "code",
   "execution_count": 40,
   "metadata": {},
   "outputs": [
    {
     "data": {
      "text/plain": [
       "{'ADA-BTC': 1220.7858048162232,\n",
       " 'CTSI-BTC': 1544.097807757167,\n",
       " 'ETC-BTC': 33.56746946583607,\n",
       " 'ETH-BTC': 0.34019285042333025,\n",
       " 'ONT-BTC': 491.70230966638155,\n",
       " 'RUNE-BTC': 15.038899247733559,\n",
       " 'LTC-BTC': 0.41952,\n",
       " 'XVG-BTC': 2419.512195121951}"
      ]
     },
     "execution_count": 40,
     "metadata": {},
     "output_type": "execute_result"
    }
   ],
   "source": [
    "portfolio = set_new_portfolio(exchange,dfw, balance)\n",
    "portfolio"
   ]
  },
  {
   "cell_type": "markdown",
   "metadata": {},
   "source": [
    "### 6. Buy portfolio"
   ]
  },
  {
   "cell_type": "code",
   "execution_count": 41,
   "metadata": {},
   "outputs": [
    {
     "name": "stdout",
     "output_type": "stream",
     "text": [
      "ADA-BTC 1220.7858048162232\n",
      "CTSI-BTC 1544.097807757167\n",
      "ETC-BTC 33.56746946583607\n",
      "ETH-BTC 0.34019285042333025\n",
      "ONT-BTC 491.70230966638155\n",
      "RUNE-BTC 15.038899247733559\n",
      "LTC-BTC 0.41952\n",
      "XVG-BTC 2419.512195121951\n"
     ]
    }
   ],
   "source": [
    "for market in portfolio.keys():\n",
    "    amount = portfolio[market]\n",
    "    print(market, amount)\n",
    "    price_buy =  create_market_buy_order(exchange, market, amount)\n",
    "\n",
    "portfolio_data['markets'] = portfolio    \n",
    "with open(portfolio_file, 'w') as f:\n",
    "    json.dump(portfolio_data, f)    "
   ]
  },
  {
   "cell_type": "markdown",
   "metadata": {},
   "source": [
    "### End"
   ]
  },
  {
   "cell_type": "markdown",
   "metadata": {},
   "source": [
    "## Stop limit orders"
   ]
  },
  {
   "cell_type": "code",
   "execution_count": 27,
   "metadata": {},
   "outputs": [
    {
     "name": "stdout",
     "output_type": "stream",
     "text": [
      "1714800797\n"
     ]
    }
   ],
   "source": [
    "side = 'sell'\n",
    "stop_price = 6\n",
    "limit_price = 6920\n",
    "params = {'stopPrice': stop_price }\n",
    "order =  exchange.createOrder(symbol, 'STOP_LOSS_LIMIT', side, amount, limit_price, params)\n",
    "print(order['id'])"
   ]
  },
  {
   "cell_type": "code",
   "execution_count": null,
   "metadata": {},
   "outputs": [],
   "source": [
    "inf = exchange.cancel_order(order['id'], symbol)"
   ]
  },
  {
   "cell_type": "code",
   "execution_count": null,
   "metadata": {},
   "outputs": [],
   "source": [
    "#Типы поддерживаемых ордеров\n",
    "\n",
    "from pprint import pprint\n",
    "import ccxt\n",
    "exchange = ccxt.binance()\n",
    "exchange.load_markets()\n",
    "pprint(exchange.markets['BTC/USDT'])"
   ]
  },
  {
   "cell_type": "markdown",
   "metadata": {},
   "source": [
    "## Skew"
   ]
  },
  {
   "cell_type": "code",
   "execution_count": 3,
   "metadata": {},
   "outputs": [],
   "source": [
    "from scipy.stats import skew, skewtest"
   ]
  },
  {
   "cell_type": "code",
   "execution_count": 1,
   "metadata": {},
   "outputs": [],
   "source": [
    "timeframes = ['1m', '3m', '5m',  '15m', '30m', '1h', '2h']"
   ]
  },
  {
   "cell_type": "code",
   "execution_count": 20,
   "metadata": {},
   "outputs": [],
   "source": [
    "skew_list = []\n",
    "for tf in timeframes:\n",
    "    prices = read_data('BTC-USDT', tf)\n",
    "    dret = daily_returns(prices['C'])\n",
    "    skew_list.append([tf, skew(dret)])\n",
    "    \n",
    "df_skew = pd.DataFrame(skew_list)    \n",
    "df_skew.columns = ['tf', 'skew']    "
   ]
  },
  {
   "cell_type": "code",
   "execution_count": 21,
   "metadata": {},
   "outputs": [
    {
     "data": {
      "text/html": [
       "<div>\n",
       "<style scoped>\n",
       "    .dataframe tbody tr th:only-of-type {\n",
       "        vertical-align: middle;\n",
       "    }\n",
       "\n",
       "    .dataframe tbody tr th {\n",
       "        vertical-align: top;\n",
       "    }\n",
       "\n",
       "    .dataframe thead th {\n",
       "        text-align: right;\n",
       "    }\n",
       "</style>\n",
       "<table border=\"1\" class=\"dataframe\">\n",
       "  <thead>\n",
       "    <tr style=\"text-align: right;\">\n",
       "      <th></th>\n",
       "      <th>tf</th>\n",
       "      <th>skew</th>\n",
       "    </tr>\n",
       "  </thead>\n",
       "  <tbody>\n",
       "    <tr>\n",
       "      <th>0</th>\n",
       "      <td>1m</td>\n",
       "      <td>0.294967222</td>\n",
       "    </tr>\n",
       "    <tr>\n",
       "      <th>1</th>\n",
       "      <td>3m</td>\n",
       "      <td>0.675015277</td>\n",
       "    </tr>\n",
       "    <tr>\n",
       "      <th>2</th>\n",
       "      <td>5m</td>\n",
       "      <td>0.355812883</td>\n",
       "    </tr>\n",
       "    <tr>\n",
       "      <th>4</th>\n",
       "      <td>30m</td>\n",
       "      <td>0.404607105</td>\n",
       "    </tr>\n",
       "    <tr>\n",
       "      <th>5</th>\n",
       "      <td>1h</td>\n",
       "      <td>0.207761672</td>\n",
       "    </tr>\n",
       "    <tr>\n",
       "      <th>7</th>\n",
       "      <td>4h</td>\n",
       "      <td>0.834205604</td>\n",
       "    </tr>\n",
       "    <tr>\n",
       "      <th>8</th>\n",
       "      <td>6h</td>\n",
       "      <td>0.556794138</td>\n",
       "    </tr>\n",
       "  </tbody>\n",
       "</table>\n",
       "</div>"
      ],
      "text/plain": [
       "    tf         skew\n",
       "0   1m  0.294967222\n",
       "1   3m  0.675015277\n",
       "2   5m  0.355812883\n",
       "4  30m  0.404607105\n",
       "5   1h  0.207761672\n",
       "7   4h  0.834205604\n",
       "8   6h  0.556794138"
      ]
     },
     "execution_count": 21,
     "metadata": {},
     "output_type": "execute_result"
    }
   ],
   "source": [
    "skew_treshold = 0.15\n",
    "df_skew[df_skew['skew'] > skew_treshold]"
   ]
  },
  {
   "cell_type": "code",
   "execution_count": 126,
   "metadata": {},
   "outputs": [
    {
     "data": {
      "text/plain": [
       "10.23"
      ]
     },
     "execution_count": 126,
     "metadata": {},
     "output_type": "execute_result"
    }
   ],
   "source": [
    "round(10.23234234, 2)"
   ]
  }
 ],
 "metadata": {
  "kernelspec": {
   "display_name": "t",
   "language": "python",
   "name": "t"
  },
  "language_info": {
   "codemirror_mode": {
    "name": "ipython",
    "version": 3
   },
   "file_extension": ".py",
   "mimetype": "text/x-python",
   "name": "python",
   "nbconvert_exporter": "python",
   "pygments_lexer": "ipython3",
   "version": "3.11.7"
  }
 },
 "nbformat": 4,
 "nbformat_minor": 4
}
