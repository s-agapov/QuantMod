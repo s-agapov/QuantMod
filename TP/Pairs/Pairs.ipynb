{
 "cells": [
  {
   "cell_type": "code",
   "execution_count": 9,
   "metadata": {},
   "outputs": [],
   "source": [
    "import numpy as np\n",
    "import pandas as pd\n",
    "import sys\n",
    "sys.path.append(\"../tp\") "
   ]
  },
  {
   "cell_type": "code",
   "execution_count": 11,
   "metadata": {},
   "outputs": [],
   "source": [
    "from data_provider import read_prices, read_data"
   ]
  },
  {
   "cell_type": "code",
   "execution_count": 17,
   "metadata": {},
   "outputs": [],
   "source": [
    "import seaborn\n",
    "import statsmodels\n",
    "import statsmodels.api as sm\n",
    "from statsmodels.tsa.stattools import coint\n",
    "\n"
   ]
  },
  {
   "cell_type": "code",
   "execution_count": 49,
   "metadata": {},
   "outputs": [
    {
     "data": {
      "text/html": [
       "<div>\n",
       "<style scoped>\n",
       "    .dataframe tbody tr th:only-of-type {\n",
       "        vertical-align: middle;\n",
       "    }\n",
       "\n",
       "    .dataframe tbody tr th {\n",
       "        vertical-align: top;\n",
       "    }\n",
       "\n",
       "    .dataframe thead th {\n",
       "        text-align: right;\n",
       "    }\n",
       "</style>\n",
       "<table border=\"1\" class=\"dataframe\">\n",
       "  <thead>\n",
       "    <tr style=\"text-align: right;\">\n",
       "      <th></th>\n",
       "      <th>ADA</th>\n",
       "      <th>BNB</th>\n",
       "    </tr>\n",
       "    <tr>\n",
       "      <th>T</th>\n",
       "      <th></th>\n",
       "      <th></th>\n",
       "    </tr>\n",
       "  </thead>\n",
       "  <tbody>\n",
       "    <tr>\n",
       "      <th>1500004800000</th>\n",
       "      <td>NaN</td>\n",
       "      <td>0.00004955</td>\n",
       "    </tr>\n",
       "    <tr>\n",
       "      <th>1500008400000</th>\n",
       "      <td>NaN</td>\n",
       "      <td>0.00004429</td>\n",
       "    </tr>\n",
       "    <tr>\n",
       "      <th>1500012000000</th>\n",
       "      <td>NaN</td>\n",
       "      <td>0.00004800</td>\n",
       "    </tr>\n",
       "    <tr>\n",
       "      <th>1500015600000</th>\n",
       "      <td>NaN</td>\n",
       "      <td>0.00004780</td>\n",
       "    </tr>\n",
       "    <tr>\n",
       "      <th>1500019200000</th>\n",
       "      <td>NaN</td>\n",
       "      <td>0.00004410</td>\n",
       "    </tr>\n",
       "    <tr>\n",
       "      <th>...</th>\n",
       "      <td>...</td>\n",
       "      <td>...</td>\n",
       "    </tr>\n",
       "    <tr>\n",
       "      <th>1616403600000</th>\n",
       "      <td>0.00002070</td>\n",
       "      <td>0.00465490</td>\n",
       "    </tr>\n",
       "    <tr>\n",
       "      <th>1616407200000</th>\n",
       "      <td>0.00002061</td>\n",
       "      <td>0.00459880</td>\n",
       "    </tr>\n",
       "    <tr>\n",
       "      <th>1616410800000</th>\n",
       "      <td>0.00002063</td>\n",
       "      <td>0.00462450</td>\n",
       "    </tr>\n",
       "    <tr>\n",
       "      <th>1616414400000</th>\n",
       "      <td>0.00002067</td>\n",
       "      <td>0.00463960</td>\n",
       "    </tr>\n",
       "    <tr>\n",
       "      <th>1616418000000</th>\n",
       "      <td>0.00002064</td>\n",
       "      <td>0.00464400</td>\n",
       "    </tr>\n",
       "  </tbody>\n",
       "</table>\n",
       "<p>32266 rows × 2 columns</p>\n",
       "</div>"
      ],
      "text/plain": [
       "                      ADA         BNB\n",
       "T                                    \n",
       "1500004800000         NaN  0.00004955\n",
       "1500008400000         NaN  0.00004429\n",
       "1500012000000         NaN  0.00004800\n",
       "1500015600000         NaN  0.00004780\n",
       "1500019200000         NaN  0.00004410\n",
       "...                   ...         ...\n",
       "1616403600000  0.00002070  0.00465490\n",
       "1616407200000  0.00002061  0.00459880\n",
       "1616410800000  0.00002063  0.00462450\n",
       "1616414400000  0.00002067  0.00463960\n",
       "1616418000000  0.00002064  0.00464400\n",
       "\n",
       "[32266 rows x 2 columns]"
      ]
     },
     "execution_count": 49,
     "metadata": {},
     "output_type": "execute_result"
    }
   ],
   "source": [
    "pair = 'BTC'\n",
    "assets = ['ADA', 'BNB']\n",
    "df_1 = read_data('ADA-BTC', '1h')\n",
    "df_2 = read_data('BNB-BTC', '1h')\n",
    "dfs = []\n",
    "for asset in assets:\n",
    "    df = read_data(asset + '-' +pair, '1h')\n",
    "    df = df[['T', 'C']]\n",
    "    df.index = df['T']\n",
    "    df = df.drop('T', axis = 1)\n",
    "    df.columns = [asset]\n",
    "    dfs.append(df)\n",
    "\n",
    "pd.concat(dfs, axis = 1)"
   ]
  },
  {
   "cell_type": "code",
   "execution_count": null,
   "metadata": {},
   "outputs": [],
   "source": [
    "dfs = [pd.read_csv(file, parse_dates = [\"date\"], index_col = \"date\") for file in files]\n",
    "\n",
    "# concatenate the dataframes into one temporary dataframe\n",
    "df_master = pd.concat(dfs)\n",
    "df_master = df_master.drop('time', axis = 1)"
   ]
  }
 ],
 "metadata": {
  "kernelspec": {
   "display_name": "Python 3",
   "language": "python",
   "name": "python3"
  },
  "language_info": {
   "codemirror_mode": {
    "name": "ipython",
    "version": 3
   },
   "file_extension": ".py",
   "mimetype": "text/x-python",
   "name": "python",
   "nbconvert_exporter": "python",
   "pygments_lexer": "ipython3",
   "version": "3.6.10"
  }
 },
 "nbformat": 4,
 "nbformat_minor": 4
}
