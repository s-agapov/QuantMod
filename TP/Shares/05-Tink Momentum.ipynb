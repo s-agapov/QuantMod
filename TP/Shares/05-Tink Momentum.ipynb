{
 "cells": [
  {
   "cell_type": "code",
   "execution_count": 1,
   "metadata": {
    "tags": []
   },
   "outputs": [],
   "source": [
    "import numpy as np\n",
    "import pandas as pd\n",
    "import logging\n",
    "import os\n",
    "from datetime import timedelta\n",
    "from pathlib import Path\n",
    "\n",
    "from tinkoff.invest import CandleInterval, Client\n",
    "from tinkoff.invest.utils import now\n",
    "from tinkoff.invest.caching.market_data_cache.cache import MarketDataCache\n",
    "from tinkoff.invest.caching.market_data_cache.cache_settings import (\n",
    "    MarketDataCacheSettings,\n",
    ")\n",
    "\n",
    "from pypfopt.efficient_frontier import EfficientFrontier\n",
    "from pypfopt import risk_models\n",
    "from pypfopt import expected_returns\n",
    "\n",
    "import sys\n",
    "sys.path.append(\"..\") \n",
    "from Portfolio.portfolio_tools import *\n",
    "\n",
    "import tink_port as tink"
   ]
  },
  {
   "cell_type": "markdown",
   "metadata": {},
   "source": [
    "Вводим токен, получаем список доступных аккаунтов"
   ]
  },
  {
   "cell_type": "code",
   "execution_count": 2,
   "metadata": {
    "tags": []
   },
   "outputs": [],
   "source": [
    "BASE = 't.UFRJ8SC9hafVOhFxEUY7yf1wZ1gGhwJp-WCp9o4rnEChHWns0c3jQ21eQwoOW_RurFqeZpss2scJkmMQnomJ9g'\n",
    "ETF = 't.6nHltT1dYSfrVTIV9zF72fxDlB2sXJbRD6iJNpZXTFAN61rmD7m71xPp9ko12ta1JxA06em4YdN36xicnBmjWg'\n",
    "MOMENTUM = 't.24WV5_MMG1bQArK1WPp1_DYWD52f-VfGjpR1ci5Pqf0PJ948zWhDstoO_6d4wXIhFTMVsVJSgOzPElUIPEO4Mw'\n",
    "\n",
    "token = MOMENTUM"
   ]
  },
  {
   "cell_type": "code",
   "execution_count": 50,
   "metadata": {
    "tags": []
   },
   "outputs": [
    {
     "name": "stdout",
     "output_type": "stream",
     "text": [
      "Количество аккаунтов: 1\n",
      "Momentum 90 Days\n"
     ]
    }
   ],
   "source": [
    "accs = tink.get_accounts(token)\n",
    "print(\"Количество аккаунтов:\", len(accs.accounts))\n",
    "\n",
    "print(accs.accounts[0].name)\n",
    "account_id = accs.accounts[0].id"
   ]
  },
  {
   "cell_type": "markdown",
   "metadata": {
    "tags": []
   },
   "source": [
    "#### База идентификаторов Tinkoff"
   ]
  },
  {
   "cell_type": "code",
   "execution_count": 4,
   "metadata": {
    "tags": []
   },
   "outputs": [],
   "source": [
    "base = tink.get_id_base(token)\n",
    "port = tink.get_portfolio(token)\n",
    "df_port = tink.port_to_df(port, base)"
   ]
  },
  {
   "cell_type": "code",
   "execution_count": 5,
   "metadata": {
    "tags": []
   },
   "outputs": [
    {
     "data": {
      "text/plain": [
       "100"
      ]
     },
     "execution_count": 5,
     "metadata": {},
     "output_type": "execute_result"
    }
   ],
   "source": [
    "tink.get_asset_lot('BBG004S68614', base)"
   ]
  },
  {
   "cell_type": "code",
   "execution_count": 6,
   "metadata": {
    "tags": []
   },
   "outputs": [
    {
     "data": {
      "text/html": [
       "<div>\n",
       "<style scoped>\n",
       "    .dataframe tbody tr th:only-of-type {\n",
       "        vertical-align: middle;\n",
       "    }\n",
       "\n",
       "    .dataframe tbody tr th {\n",
       "        vertical-align: top;\n",
       "    }\n",
       "\n",
       "    .dataframe thead th {\n",
       "        text-align: right;\n",
       "    }\n",
       "</style>\n",
       "<table border=\"1\" class=\"dataframe\">\n",
       "  <thead>\n",
       "    <tr style=\"text-align: right;\">\n",
       "      <th></th>\n",
       "      <th>figi</th>\n",
       "      <th>ticker</th>\n",
       "      <th>name</th>\n",
       "      <th>quantity</th>\n",
       "      <th>lot_quantity</th>\n",
       "      <th>price</th>\n",
       "    </tr>\n",
       "  </thead>\n",
       "  <tbody>\n",
       "    <tr>\n",
       "      <th>3</th>\n",
       "      <td>BBG004S68614</td>\n",
       "      <td>AFKS</td>\n",
       "      <td>АФК Система</td>\n",
       "      <td>1900</td>\n",
       "      <td>19</td>\n",
       "      <td>24.07</td>\n",
       "    </tr>\n",
       "    <tr>\n",
       "      <th>1</th>\n",
       "      <td>BBG004S68758</td>\n",
       "      <td>BANE</td>\n",
       "      <td>Башнефть</td>\n",
       "      <td>4</td>\n",
       "      <td>4</td>\n",
       "      <td>3166.50</td>\n",
       "    </tr>\n",
       "    <tr>\n",
       "      <th>8</th>\n",
       "      <td>BBG00475K6C3</td>\n",
       "      <td>CHMF</td>\n",
       "      <td>Северсталь</td>\n",
       "      <td>4</td>\n",
       "      <td>4</td>\n",
       "      <td>1859.00</td>\n",
       "    </tr>\n",
       "    <tr>\n",
       "      <th>2</th>\n",
       "      <td>BBG00Y91R9T3</td>\n",
       "      <td>OZON</td>\n",
       "      <td>Ozon Holdings PLC</td>\n",
       "      <td>1</td>\n",
       "      <td>1</td>\n",
       "      <td>3801.00</td>\n",
       "    </tr>\n",
       "    <tr>\n",
       "      <th>6</th>\n",
       "      <td>TCS00A103X66</td>\n",
       "      <td>POSI</td>\n",
       "      <td>Positive Technologies</td>\n",
       "      <td>2</td>\n",
       "      <td>2</td>\n",
       "      <td>2886.00</td>\n",
       "    </tr>\n",
       "    <tr>\n",
       "      <th>0</th>\n",
       "      <td>BBG004S682Z6</td>\n",
       "      <td>RTKM</td>\n",
       "      <td>Ростелеком</td>\n",
       "      <td>80</td>\n",
       "      <td>8</td>\n",
       "      <td>100.50</td>\n",
       "    </tr>\n",
       "    <tr>\n",
       "      <th>7</th>\n",
       "      <td>BBG004S685M3</td>\n",
       "      <td>RTKMP</td>\n",
       "      <td>Ростелеком - Привилегированные акции</td>\n",
       "      <td>270</td>\n",
       "      <td>27</td>\n",
       "      <td>85.35</td>\n",
       "    </tr>\n",
       "    <tr>\n",
       "      <th>5</th>\n",
       "      <td>TCS00A105EX7</td>\n",
       "      <td>WUSH</td>\n",
       "      <td>Whoosh</td>\n",
       "      <td>20</td>\n",
       "      <td>20</td>\n",
       "      <td>320.87</td>\n",
       "    </tr>\n",
       "    <tr>\n",
       "      <th>4</th>\n",
       "      <td>RUB000UTSTOM</td>\n",
       "      <td>None</td>\n",
       "      <td>None</td>\n",
       "      <td>3133</td>\n",
       "      <td>3133</td>\n",
       "      <td>1.00</td>\n",
       "    </tr>\n",
       "  </tbody>\n",
       "</table>\n",
       "</div>"
      ],
      "text/plain": [
       "           figi ticker                                  name  quantity  \\\n",
       "3  BBG004S68614   AFKS                           АФК Система      1900   \n",
       "1  BBG004S68758   BANE                              Башнефть         4   \n",
       "8  BBG00475K6C3   CHMF                            Северсталь         4   \n",
       "2  BBG00Y91R9T3   OZON                     Ozon Holdings PLC         1   \n",
       "6  TCS00A103X66   POSI                 Positive Technologies         2   \n",
       "0  BBG004S682Z6   RTKM                            Ростелеком        80   \n",
       "7  BBG004S685M3  RTKMP  Ростелеком - Привилегированные акции       270   \n",
       "5  TCS00A105EX7   WUSH                                Whoosh        20   \n",
       "4  RUB000UTSTOM   None                                  None      3133   \n",
       "\n",
       "   lot_quantity    price  \n",
       "3            19    24.07  \n",
       "1             4  3166.50  \n",
       "8             4  1859.00  \n",
       "2             1  3801.00  \n",
       "6             2  2886.00  \n",
       "0             8   100.50  \n",
       "7            27    85.35  \n",
       "5            20   320.87  \n",
       "4          3133     1.00  "
      ]
     },
     "execution_count": 6,
     "metadata": {},
     "output_type": "execute_result"
    }
   ],
   "source": [
    "df_port"
   ]
  },
  {
   "cell_type": "markdown",
   "metadata": {
    "jp-MarkdownHeadingCollapsed": true,
    "tags": []
   },
   "source": [
    "### Portfolio Black-Litterman Model"
   ]
  },
  {
   "cell_type": "code",
   "execution_count": 8,
   "metadata": {
    "tags": []
   },
   "outputs": [
    {
     "data": {
      "text/plain": [
       "{'LKOH': 1,\n",
       " 'NLMK': 1,\n",
       " 'AGRO': 1,\n",
       " 'MAGN': 1,\n",
       " 'TATN': 1,\n",
       " 'SIBN': 1,\n",
       " 'BANEP': 1,\n",
       " 'SNGSP': 1,\n",
       " 'POSI': 1,\n",
       " 'SBER': 1,\n",
       " 'CHMF': 1,\n",
       " 'ROSN': 1}"
      ]
     },
     "execution_count": 8,
     "metadata": {},
     "output_type": "execute_result"
    }
   ],
   "source": [
    "mcaps = {}\n",
    "for t in dfp.columns:\n",
    "   # mcaps[t] = stock.info[\"marketCap\"]\n",
    "    mcaps[t] = 1\n",
    "mcaps"
   ]
  },
  {
   "cell_type": "code",
   "execution_count": 9,
   "metadata": {
    "tags": []
   },
   "outputs": [],
   "source": [
    "mcaps['SBER'] = 1.5\n",
    "mcaps['POSI'] = 1.5"
   ]
  },
  {
   "cell_type": "code",
   "execution_count": 28,
   "metadata": {
    "tags": []
   },
   "outputs": [],
   "source": [
    "imoex_figi = 'BBG333333333'\n",
    "market_prices = tink.get_candles(token, imoex_figi, CandleInterval.CANDLE_INTERVAL_DAY)\n",
    "market_prices =  tink.get_open_price(market_prices)"
   ]
  },
  {
   "cell_type": "code",
   "execution_count": null,
   "metadata": {
    "tags": []
   },
   "outputs": [],
   "source": []
  },
  {
   "cell_type": "code",
   "execution_count": 21,
   "metadata": {
    "tags": []
   },
   "outputs": [
    {
     "data": {
      "text/html": [
       "<div>\n",
       "<style scoped>\n",
       "    .dataframe tbody tr th:only-of-type {\n",
       "        vertical-align: middle;\n",
       "    }\n",
       "\n",
       "    .dataframe tbody tr th {\n",
       "        vertical-align: top;\n",
       "    }\n",
       "\n",
       "    .dataframe thead th {\n",
       "        text-align: right;\n",
       "    }\n",
       "</style>\n",
       "<table border=\"1\" class=\"dataframe\">\n",
       "  <thead>\n",
       "    <tr style=\"text-align: right;\">\n",
       "      <th></th>\n",
       "      <th>LKOH</th>\n",
       "      <th>NLMK</th>\n",
       "      <th>AGRO</th>\n",
       "      <th>MAGN</th>\n",
       "      <th>TATN</th>\n",
       "      <th>SIBN</th>\n",
       "      <th>BANEP</th>\n",
       "      <th>SNGSP</th>\n",
       "      <th>POSI</th>\n",
       "      <th>SBER</th>\n",
       "      <th>CHMF</th>\n",
       "      <th>ROSN</th>\n",
       "    </tr>\n",
       "    <tr>\n",
       "      <th>date</th>\n",
       "      <th></th>\n",
       "      <th></th>\n",
       "      <th></th>\n",
       "      <th></th>\n",
       "      <th></th>\n",
       "      <th></th>\n",
       "      <th></th>\n",
       "      <th></th>\n",
       "      <th></th>\n",
       "      <th></th>\n",
       "      <th></th>\n",
       "      <th></th>\n",
       "    </tr>\n",
       "  </thead>\n",
       "  <tbody>\n",
       "    <tr>\n",
       "      <th>2023-10-02</th>\n",
       "      <td>6716.5</td>\n",
       "      <td>210.50</td>\n",
       "      <td>1208.0</td>\n",
       "      <td>52.650</td>\n",
       "      <td>628.0</td>\n",
       "      <td>722.10</td>\n",
       "      <td>1468.0</td>\n",
       "      <td>58.500</td>\n",
       "      <td>2372.2</td>\n",
       "      <td>261.37</td>\n",
       "      <td>1371.0</td>\n",
       "      <td>538.50</td>\n",
       "    </tr>\n",
       "    <tr>\n",
       "      <th>2023-10-03</th>\n",
       "      <td>6720.0</td>\n",
       "      <td>209.96</td>\n",
       "      <td>1190.0</td>\n",
       "      <td>52.955</td>\n",
       "      <td>639.0</td>\n",
       "      <td>711.00</td>\n",
       "      <td>1439.5</td>\n",
       "      <td>56.800</td>\n",
       "      <td>2420.0</td>\n",
       "      <td>258.99</td>\n",
       "      <td>1392.0</td>\n",
       "      <td>534.65</td>\n",
       "    </tr>\n",
       "    <tr>\n",
       "      <th>2023-10-04</th>\n",
       "      <td>6740.0</td>\n",
       "      <td>208.86</td>\n",
       "      <td>1179.8</td>\n",
       "      <td>51.500</td>\n",
       "      <td>640.0</td>\n",
       "      <td>723.90</td>\n",
       "      <td>1432.5</td>\n",
       "      <td>56.650</td>\n",
       "      <td>2397.0</td>\n",
       "      <td>259.00</td>\n",
       "      <td>1355.6</td>\n",
       "      <td>538.20</td>\n",
       "    </tr>\n",
       "    <tr>\n",
       "      <th>2023-10-05</th>\n",
       "      <td>6706.0</td>\n",
       "      <td>212.84</td>\n",
       "      <td>1149.8</td>\n",
       "      <td>52.250</td>\n",
       "      <td>634.2</td>\n",
       "      <td>704.45</td>\n",
       "      <td>1475.0</td>\n",
       "      <td>55.475</td>\n",
       "      <td>2440.0</td>\n",
       "      <td>260.70</td>\n",
       "      <td>1370.0</td>\n",
       "      <td>536.00</td>\n",
       "    </tr>\n",
       "    <tr>\n",
       "      <th>2023-10-06</th>\n",
       "      <td>6749.5</td>\n",
       "      <td>210.80</td>\n",
       "      <td>1158.8</td>\n",
       "      <td>51.995</td>\n",
       "      <td>635.0</td>\n",
       "      <td>718.10</td>\n",
       "      <td>1460.0</td>\n",
       "      <td>57.090</td>\n",
       "      <td>2435.0</td>\n",
       "      <td>259.77</td>\n",
       "      <td>1369.4</td>\n",
       "      <td>534.50</td>\n",
       "    </tr>\n",
       "    <tr>\n",
       "      <th>...</th>\n",
       "      <td>...</td>\n",
       "      <td>...</td>\n",
       "      <td>...</td>\n",
       "      <td>...</td>\n",
       "      <td>...</td>\n",
       "      <td>...</td>\n",
       "      <td>...</td>\n",
       "      <td>...</td>\n",
       "      <td>...</td>\n",
       "      <td>...</td>\n",
       "      <td>...</td>\n",
       "      <td>...</td>\n",
       "    </tr>\n",
       "    <tr>\n",
       "      <th>2024-03-21</th>\n",
       "      <td>7450.0</td>\n",
       "      <td>212.78</td>\n",
       "      <td>1411.8</td>\n",
       "      <td>54.800</td>\n",
       "      <td>695.7</td>\n",
       "      <td>755.70</td>\n",
       "      <td>2142.0</td>\n",
       "      <td>61.845</td>\n",
       "      <td>2674.0</td>\n",
       "      <td>295.99</td>\n",
       "      <td>1743.2</td>\n",
       "      <td>561.30</td>\n",
       "    </tr>\n",
       "    <tr>\n",
       "      <th>2024-03-22</th>\n",
       "      <td>7420.0</td>\n",
       "      <td>217.98</td>\n",
       "      <td>1422.6</td>\n",
       "      <td>55.520</td>\n",
       "      <td>704.1</td>\n",
       "      <td>756.80</td>\n",
       "      <td>2143.0</td>\n",
       "      <td>62.490</td>\n",
       "      <td>2680.0</td>\n",
       "      <td>295.77</td>\n",
       "      <td>1796.6</td>\n",
       "      <td>562.85</td>\n",
       "    </tr>\n",
       "    <tr>\n",
       "      <th>2024-03-25</th>\n",
       "      <td>7305.0</td>\n",
       "      <td>214.50</td>\n",
       "      <td>1388.0</td>\n",
       "      <td>54.800</td>\n",
       "      <td>694.5</td>\n",
       "      <td>737.00</td>\n",
       "      <td>2120.0</td>\n",
       "      <td>61.945</td>\n",
       "      <td>2642.2</td>\n",
       "      <td>294.00</td>\n",
       "      <td>1777.8</td>\n",
       "      <td>556.70</td>\n",
       "    </tr>\n",
       "    <tr>\n",
       "      <th>2024-03-26</th>\n",
       "      <td>7454.5</td>\n",
       "      <td>221.90</td>\n",
       "      <td>1400.4</td>\n",
       "      <td>55.900</td>\n",
       "      <td>690.0</td>\n",
       "      <td>747.00</td>\n",
       "      <td>2135.0</td>\n",
       "      <td>62.930</td>\n",
       "      <td>2745.6</td>\n",
       "      <td>294.50</td>\n",
       "      <td>1836.2</td>\n",
       "      <td>559.00</td>\n",
       "    </tr>\n",
       "    <tr>\n",
       "      <th>2024-03-27</th>\n",
       "      <td>7425.5</td>\n",
       "      <td>222.00</td>\n",
       "      <td>1418.0</td>\n",
       "      <td>56.755</td>\n",
       "      <td>694.0</td>\n",
       "      <td>741.80</td>\n",
       "      <td>2127.0</td>\n",
       "      <td>64.515</td>\n",
       "      <td>2742.0</td>\n",
       "      <td>294.47</td>\n",
       "      <td>1847.8</td>\n",
       "      <td>556.10</td>\n",
       "    </tr>\n",
       "  </tbody>\n",
       "</table>\n",
       "<p>124 rows × 12 columns</p>\n",
       "</div>"
      ],
      "text/plain": [
       "              LKOH    NLMK    AGRO    MAGN   TATN    SIBN   BANEP   SNGSP  \\\n",
       "date                                                                        \n",
       "2023-10-02  6716.5  210.50  1208.0  52.650  628.0  722.10  1468.0  58.500   \n",
       "2023-10-03  6720.0  209.96  1190.0  52.955  639.0  711.00  1439.5  56.800   \n",
       "2023-10-04  6740.0  208.86  1179.8  51.500  640.0  723.90  1432.5  56.650   \n",
       "2023-10-05  6706.0  212.84  1149.8  52.250  634.2  704.45  1475.0  55.475   \n",
       "2023-10-06  6749.5  210.80  1158.8  51.995  635.0  718.10  1460.0  57.090   \n",
       "...            ...     ...     ...     ...    ...     ...     ...     ...   \n",
       "2024-03-21  7450.0  212.78  1411.8  54.800  695.7  755.70  2142.0  61.845   \n",
       "2024-03-22  7420.0  217.98  1422.6  55.520  704.1  756.80  2143.0  62.490   \n",
       "2024-03-25  7305.0  214.50  1388.0  54.800  694.5  737.00  2120.0  61.945   \n",
       "2024-03-26  7454.5  221.90  1400.4  55.900  690.0  747.00  2135.0  62.930   \n",
       "2024-03-27  7425.5  222.00  1418.0  56.755  694.0  741.80  2127.0  64.515   \n",
       "\n",
       "              POSI    SBER    CHMF    ROSN  \n",
       "date                                        \n",
       "2023-10-02  2372.2  261.37  1371.0  538.50  \n",
       "2023-10-03  2420.0  258.99  1392.0  534.65  \n",
       "2023-10-04  2397.0  259.00  1355.6  538.20  \n",
       "2023-10-05  2440.0  260.70  1370.0  536.00  \n",
       "2023-10-06  2435.0  259.77  1369.4  534.50  \n",
       "...            ...     ...     ...     ...  \n",
       "2024-03-21  2674.0  295.99  1743.2  561.30  \n",
       "2024-03-22  2680.0  295.77  1796.6  562.85  \n",
       "2024-03-25  2642.2  294.00  1777.8  556.70  \n",
       "2024-03-26  2745.6  294.50  1836.2  559.00  \n",
       "2024-03-27  2742.0  294.47  1847.8  556.10  \n",
       "\n",
       "[124 rows x 12 columns]"
      ]
     },
     "execution_count": 21,
     "metadata": {},
     "output_type": "execute_result"
    }
   ],
   "source": [
    "dfp"
   ]
  },
  {
   "cell_type": "code",
   "execution_count": 38,
   "metadata": {
    "tags": []
   },
   "outputs": [
    {
     "data": {
      "text/plain": [
       "9.802403162030824"
      ]
     },
     "execution_count": 38,
     "metadata": {},
     "output_type": "execute_result"
    }
   ],
   "source": [
    "from pypfopt import black_litterman, risk_models\n",
    "from pypfopt import BlackLittermanModel\n",
    "\n",
    "S = risk_models.CovarianceShrinkage(dfp).ledoit_wolf()\n",
    "delta = black_litterman.market_implied_risk_aversion(market_prices['ticker'])\n",
    "delta"
   ]
  },
  {
   "cell_type": "code",
   "execution_count": 39,
   "metadata": {
    "tags": []
   },
   "outputs": [
    {
     "data": {
      "text/plain": [
       "LKOH     0.235540\n",
       "NLMK     0.250621\n",
       "AGRO     0.404671\n",
       "MAGN     0.222163\n",
       "TATN     0.175982\n",
       "SIBN     0.177426\n",
       "BANEP    0.306354\n",
       "SNGSP    0.265854\n",
       "POSI     0.254061\n",
       "SBER     0.201803\n",
       "CHMF     0.241332\n",
       "ROSN     0.239506\n",
       "dtype: float64"
      ]
     },
     "execution_count": 39,
     "metadata": {},
     "output_type": "execute_result"
    }
   ],
   "source": [
    "market_prior = black_litterman.market_implied_prior_returns(mcaps, delta, S)\n",
    "market_prior"
   ]
  },
  {
   "cell_type": "code",
   "execution_count": 41,
   "metadata": {
    "tags": []
   },
   "outputs": [],
   "source": [
    "# You don't have to provide views on all the assets\n",
    "viewdict = {\n",
    "    \"POSI\": 0.10,\n",
    "}\n",
    "\n",
    "confidences = [\n",
    "    0.6\n",
    "]\n",
    "bl = BlackLittermanModel(S, pi=market_prior, absolute_views=viewdict)"
   ]
  },
  {
   "cell_type": "code",
   "execution_count": 43,
   "metadata": {
    "tags": []
   },
   "outputs": [
    {
     "name": "stdout",
     "output_type": "stream",
     "text": [
      "[0.022500000000000006]\n"
     ]
    }
   ],
   "source": [
    "intervals = [\n",
    "    (0.1, 0.4),\n",
    "]\n",
    "\n",
    "variances = []\n",
    "for lb, ub in intervals:\n",
    "    sigma = (ub - lb)/2\n",
    "    variances.append(sigma ** 2)\n",
    "\n",
    "print(variances)\n",
    "omega = np.diag(variances)"
   ]
  },
  {
   "cell_type": "code",
   "execution_count": 44,
   "metadata": {
    "tags": []
   },
   "outputs": [],
   "source": [
    "# We are using the shortcut to automatically compute market-implied prior\n",
    "bl = BlackLittermanModel(S, pi=\"market\", market_caps=mcaps, risk_aversion=delta,\n",
    "                        absolute_views=viewdict, omega=omega)"
   ]
  },
  {
   "cell_type": "code",
   "execution_count": 45,
   "metadata": {
    "tags": []
   },
   "outputs": [
    {
     "data": {
      "text/plain": [
       "LKOH     0.210907\n",
       "NLMK     0.225580\n",
       "AGRO     0.377385\n",
       "MAGN     0.198196\n",
       "TATN     0.153239\n",
       "SIBN     0.155086\n",
       "BANEP    0.281036\n",
       "SNGSP    0.241803\n",
       "POSI     0.213216\n",
       "SBER     0.178689\n",
       "CHMF     0.218008\n",
       "ROSN     0.216051\n",
       "dtype: float64"
      ]
     },
     "execution_count": 45,
     "metadata": {},
     "output_type": "execute_result"
    }
   ],
   "source": [
    "# Posterior estimate of returns\n",
    "ret_bl = bl.bl_returns()\n",
    "ret_bl"
   ]
  },
  {
   "cell_type": "code",
   "execution_count": 46,
   "metadata": {
    "tags": []
   },
   "outputs": [
    {
     "data": {
      "text/html": [
       "<div>\n",
       "<style scoped>\n",
       "    .dataframe tbody tr th:only-of-type {\n",
       "        vertical-align: middle;\n",
       "    }\n",
       "\n",
       "    .dataframe tbody tr th {\n",
       "        vertical-align: top;\n",
       "    }\n",
       "\n",
       "    .dataframe thead th {\n",
       "        text-align: right;\n",
       "    }\n",
       "</style>\n",
       "<table border=\"1\" class=\"dataframe\">\n",
       "  <thead>\n",
       "    <tr style=\"text-align: right;\">\n",
       "      <th></th>\n",
       "      <th>Prior</th>\n",
       "      <th>Posterior</th>\n",
       "      <th>Views</th>\n",
       "    </tr>\n",
       "  </thead>\n",
       "  <tbody>\n",
       "    <tr>\n",
       "      <th>LKOH</th>\n",
       "      <td>0.235540</td>\n",
       "      <td>0.210907</td>\n",
       "      <td>NaN</td>\n",
       "    </tr>\n",
       "    <tr>\n",
       "      <th>NLMK</th>\n",
       "      <td>0.250621</td>\n",
       "      <td>0.225580</td>\n",
       "      <td>NaN</td>\n",
       "    </tr>\n",
       "    <tr>\n",
       "      <th>AGRO</th>\n",
       "      <td>0.404671</td>\n",
       "      <td>0.377385</td>\n",
       "      <td>NaN</td>\n",
       "    </tr>\n",
       "    <tr>\n",
       "      <th>MAGN</th>\n",
       "      <td>0.222163</td>\n",
       "      <td>0.198196</td>\n",
       "      <td>NaN</td>\n",
       "    </tr>\n",
       "    <tr>\n",
       "      <th>TATN</th>\n",
       "      <td>0.175982</td>\n",
       "      <td>0.153239</td>\n",
       "      <td>NaN</td>\n",
       "    </tr>\n",
       "    <tr>\n",
       "      <th>SIBN</th>\n",
       "      <td>0.177426</td>\n",
       "      <td>0.155086</td>\n",
       "      <td>NaN</td>\n",
       "    </tr>\n",
       "    <tr>\n",
       "      <th>BANEP</th>\n",
       "      <td>0.306354</td>\n",
       "      <td>0.281036</td>\n",
       "      <td>NaN</td>\n",
       "    </tr>\n",
       "    <tr>\n",
       "      <th>SNGSP</th>\n",
       "      <td>0.265854</td>\n",
       "      <td>0.241803</td>\n",
       "      <td>NaN</td>\n",
       "    </tr>\n",
       "    <tr>\n",
       "      <th>POSI</th>\n",
       "      <td>0.254061</td>\n",
       "      <td>0.213216</td>\n",
       "      <td>0.1</td>\n",
       "    </tr>\n",
       "    <tr>\n",
       "      <th>SBER</th>\n",
       "      <td>0.201803</td>\n",
       "      <td>0.178689</td>\n",
       "      <td>NaN</td>\n",
       "    </tr>\n",
       "    <tr>\n",
       "      <th>CHMF</th>\n",
       "      <td>0.241332</td>\n",
       "      <td>0.218008</td>\n",
       "      <td>NaN</td>\n",
       "    </tr>\n",
       "    <tr>\n",
       "      <th>ROSN</th>\n",
       "      <td>0.239506</td>\n",
       "      <td>0.216051</td>\n",
       "      <td>NaN</td>\n",
       "    </tr>\n",
       "  </tbody>\n",
       "</table>\n",
       "</div>"
      ],
      "text/plain": [
       "          Prior  Posterior  Views\n",
       "LKOH   0.235540   0.210907    NaN\n",
       "NLMK   0.250621   0.225580    NaN\n",
       "AGRO   0.404671   0.377385    NaN\n",
       "MAGN   0.222163   0.198196    NaN\n",
       "TATN   0.175982   0.153239    NaN\n",
       "SIBN   0.177426   0.155086    NaN\n",
       "BANEP  0.306354   0.281036    NaN\n",
       "SNGSP  0.265854   0.241803    NaN\n",
       "POSI   0.254061   0.213216    0.1\n",
       "SBER   0.201803   0.178689    NaN\n",
       "CHMF   0.241332   0.218008    NaN\n",
       "ROSN   0.239506   0.216051    NaN"
      ]
     },
     "execution_count": 46,
     "metadata": {},
     "output_type": "execute_result"
    }
   ],
   "source": [
    "rets_df = pd.DataFrame([market_prior, ret_bl, pd.Series(viewdict)], \n",
    "             index=[\"Prior\", \"Posterior\", \"Views\"]).T\n",
    "rets_df"
   ]
  },
  {
   "cell_type": "code",
   "execution_count": 49,
   "metadata": {
    "tags": []
   },
   "outputs": [],
   "source": [
    "S_bl = bl.bl_cov()\n"
   ]
  },
  {
   "cell_type": "code",
   "execution_count": 50,
   "metadata": {
    "tags": []
   },
   "outputs": [
    {
     "name": "stderr",
     "output_type": "stream",
     "text": [
      "D:\\Soft\\Anaconda\\envs\\t\\Lib\\site-packages\\pypfopt\\efficient_frontier\\efficient_frontier.py:259: UserWarning: max_sharpe transforms the optimization problem so additional objectives may not work as expected.\n",
      "  warnings.warn(\n"
     ]
    },
    {
     "data": {
      "text/plain": [
       "OrderedDict([('LKOH', 0.07897),\n",
       "             ('NLMK', 0.08567),\n",
       "             ('AGRO', 0.14173),\n",
       "             ('MAGN', 0.07393),\n",
       "             ('TATN', 0.05579),\n",
       "             ('SIBN', 0.0562),\n",
       "             ('BANEP', 0.10686),\n",
       "             ('SNGSP', 0.09078),\n",
       "             ('POSI', 0.08075),\n",
       "             ('SBER', 0.06611),\n",
       "             ('CHMF', 0.08197),\n",
       "             ('ROSN', 0.08124)])"
      ]
     },
     "execution_count": 50,
     "metadata": {},
     "output_type": "execute_result"
    }
   ],
   "source": [
    "from pypfopt import EfficientFrontier, objective_functions\n",
    "\n",
    "ef = EfficientFrontier(ret_bl, S_bl)\n",
    "ef.add_objective(objective_functions.L2_reg)\n",
    "ef.max_sharpe()\n",
    "weights = ef.clean_weights()\n",
    "weights\n",
    "     "
   ]
  },
  {
   "cell_type": "code",
   "execution_count": 52,
   "metadata": {
    "tags": []
   },
   "outputs": [
    {
     "name": "stdout",
     "output_type": "stream",
     "text": [
      "Leftover: $703.29\n"
     ]
    },
    {
     "name": "stderr",
     "output_type": "stream",
     "text": [
      "D:\\Soft\\Anaconda\\envs\\t\\Lib\\site-packages\\cvxpy\\problems\\problem.py:1403: UserWarning: Solution may be inaccurate. Try another solver, adjusting the solver settings, or solve with verbose=True for more information.\n",
      "  warnings.warn(\n"
     ]
    },
    {
     "data": {
      "text/plain": [
       "{'LKOH': 1,\n",
       " 'NLMK': 39,\n",
       " 'AGRO': 10,\n",
       " 'MAGN': 130,\n",
       " 'TATN': 8,\n",
       " 'SIBN': 8,\n",
       " 'BANEP': 5,\n",
       " 'SNGSP': 141,\n",
       " 'POSI': 3,\n",
       " 'SBER': 22,\n",
       " 'CHMF': 4,\n",
       " 'ROSN': 15}"
      ]
     },
     "execution_count": 52,
     "metadata": {},
     "output_type": "execute_result"
    }
   ],
   "source": [
    "from pypfopt import DiscreteAllocation\n",
    "\n",
    "da = DiscreteAllocation(weights, dfp.iloc[-1], total_portfolio_value=100000)\n",
    "alloc, leftover = da.lp_portfolio()\n",
    "print(f\"Leftover: ${leftover:.2f}\")\n",
    "alloc"
   ]
  },
  {
   "cell_type": "markdown",
   "metadata": {
    "tags": []
   },
   "source": [
    "### Model"
   ]
  },
  {
   "cell_type": "markdown",
   "metadata": {
    "tags": []
   },
   "source": [
    "## Load all shares"
   ]
  },
  {
   "cell_type": "code",
   "execution_count": 7,
   "metadata": {
    "tags": []
   },
   "outputs": [],
   "source": [
    "dfx = base[base[\"type\"] == \"shares\"]\n",
    "dfx = dfx[dfx[\"cur\"] == \"rub\"]\n",
    "base_ru = dfx.copy()"
   ]
  },
  {
   "cell_type": "code",
   "execution_count": 8,
   "metadata": {
    "tags": []
   },
   "outputs": [],
   "source": [
    "res = []\n",
    "for ind, pos in base_ru.iterrows():\n",
    "#    print(pos.figi)        \n",
    "    candles = tink.get_candles(token, pos.figi, CandleInterval.CANDLE_INTERVAL_DAY, 50)\n",
    "    df =  tink.get_open_price(candles)\n",
    "    ticker = tink.figi_to_ticker(pos.figi, base)\n",
    "    \n",
    "    if ticker == None:\n",
    "        ticker = pos.figi\n",
    "    df.columns = [ticker]\n",
    "    res.append(df)\n",
    "    \n",
    "df_full = pd.concat(res, axis = 1)"
   ]
  },
  {
   "cell_type": "markdown",
   "metadata": {
    "tags": []
   },
   "source": [
    "#### Drops Momentum"
   ]
  },
  {
   "cell_type": "code",
   "execution_count": 9,
   "metadata": {
    "tags": []
   },
   "outputs": [],
   "source": [
    "dfp = df_full.copy()\n",
    "drops = [\"GTRK\", \"NTZL\", \"LSRG\", 'TGKBP', 'FIVE', \"VEON-RX\"]\n",
    "columns = [x for x in dfp.columns if x not in drops]\n",
    "dfp = dfp[columns]\n"
   ]
  },
  {
   "cell_type": "markdown",
   "metadata": {
    "tags": []
   },
   "source": [
    "#### Drops Base"
   ]
  },
  {
   "cell_type": "code",
   "execution_count": 17,
   "metadata": {
    "tags": []
   },
   "outputs": [],
   "source": [
    "dfp = df_full.copy()\n",
    "index_assets = pd.read_csv('index_assets.csv')['asset'].values.tolist()\n",
    "columns = [x for x in dfp.columns if x in index_assets]\n",
    "\n",
    "drops = ['FIVE']\n",
    "columns = [x for x in dfp.columns if x not in drops]\n",
    "\n",
    "dfp = dfp[columns]"
   ]
  },
  {
   "cell_type": "markdown",
   "metadata": {
    "tags": []
   },
   "source": [
    "### RiskFolio"
   ]
  },
  {
   "cell_type": "code",
   "execution_count": 10,
   "metadata": {
    "tags": []
   },
   "outputs": [
    {
     "name": "stdout",
     "output_type": "stream",
     "text": [
      "You must convert self.cov to a positive definite matrix\n"
     ]
    },
    {
     "data": {
      "text/html": [
       "<div>\n",
       "<style scoped>\n",
       "    .dataframe tbody tr th:only-of-type {\n",
       "        vertical-align: middle;\n",
       "    }\n",
       "\n",
       "    .dataframe tbody tr th {\n",
       "        vertical-align: top;\n",
       "    }\n",
       "\n",
       "    .dataframe thead th {\n",
       "        text-align: right;\n",
       "    }\n",
       "</style>\n",
       "<table border=\"1\" class=\"dataframe\">\n",
       "  <thead>\n",
       "    <tr style=\"text-align: right;\">\n",
       "      <th></th>\n",
       "      <th>weights</th>\n",
       "    </tr>\n",
       "  </thead>\n",
       "  <tbody>\n",
       "    <tr>\n",
       "      <th>WUSH</th>\n",
       "      <td>0.020454915</td>\n",
       "    </tr>\n",
       "    <tr>\n",
       "      <th>UGLD</th>\n",
       "      <td>0.052492146</td>\n",
       "    </tr>\n",
       "    <tr>\n",
       "      <th>HHRU</th>\n",
       "      <td>0.011809049</td>\n",
       "    </tr>\n",
       "    <tr>\n",
       "      <th>SELG</th>\n",
       "      <td>0.012389420</td>\n",
       "    </tr>\n",
       "    <tr>\n",
       "      <th>RTKM</th>\n",
       "      <td>0.050751753</td>\n",
       "    </tr>\n",
       "    <tr>\n",
       "      <th>GCHE</th>\n",
       "      <td>0.020867767</td>\n",
       "    </tr>\n",
       "    <tr>\n",
       "      <th>OZON</th>\n",
       "      <td>0.036326022</td>\n",
       "    </tr>\n",
       "    <tr>\n",
       "      <th>GLTR</th>\n",
       "      <td>0.030307263</td>\n",
       "    </tr>\n",
       "    <tr>\n",
       "      <th>RTKMP</th>\n",
       "      <td>0.029445959</td>\n",
       "    </tr>\n",
       "    <tr>\n",
       "      <th>AFLT</th>\n",
       "      <td>0.018677611</td>\n",
       "    </tr>\n",
       "    <tr>\n",
       "      <th>CIAN</th>\n",
       "      <td>0.026217292</td>\n",
       "    </tr>\n",
       "    <tr>\n",
       "      <th>RBCM</th>\n",
       "      <td>0.181555501</td>\n",
       "    </tr>\n",
       "    <tr>\n",
       "      <th>LENT</th>\n",
       "      <td>0.016708034</td>\n",
       "    </tr>\n",
       "    <tr>\n",
       "      <th>ASTR</th>\n",
       "      <td>0.022755623</td>\n",
       "    </tr>\n",
       "    <tr>\n",
       "      <th>POSI</th>\n",
       "      <td>0.043286769</td>\n",
       "    </tr>\n",
       "    <tr>\n",
       "      <th>RNFT</th>\n",
       "      <td>0.089459198</td>\n",
       "    </tr>\n",
       "    <tr>\n",
       "      <th>SFIN</th>\n",
       "      <td>0.206290152</td>\n",
       "    </tr>\n",
       "    <tr>\n",
       "      <th>AFKS</th>\n",
       "      <td>0.043477708</td>\n",
       "    </tr>\n",
       "    <tr>\n",
       "      <th>PLZL</th>\n",
       "      <td>0.010771358</td>\n",
       "    </tr>\n",
       "    <tr>\n",
       "      <th>DELI</th>\n",
       "      <td>0.029124048</td>\n",
       "    </tr>\n",
       "  </tbody>\n",
       "</table>\n",
       "</div>"
      ],
      "text/plain": [
       "           weights\n",
       "WUSH   0.020454915\n",
       "UGLD   0.052492146\n",
       "HHRU   0.011809049\n",
       "SELG   0.012389420\n",
       "RTKM   0.050751753\n",
       "GCHE   0.020867767\n",
       "OZON   0.036326022\n",
       "GLTR   0.030307263\n",
       "RTKMP  0.029445959\n",
       "AFLT   0.018677611\n",
       "CIAN   0.026217292\n",
       "RBCM   0.181555501\n",
       "LENT   0.016708034\n",
       "ASTR   0.022755623\n",
       "POSI   0.043286769\n",
       "RNFT   0.089459198\n",
       "SFIN   0.206290152\n",
       "AFKS   0.043477708\n",
       "PLZL   0.010771358\n",
       "DELI   0.029124048"
      ]
     },
     "execution_count": 10,
     "metadata": {},
     "output_type": "execute_result"
    }
   ],
   "source": [
    "import riskfolio as rp\n",
    "\n",
    "rms= ['MV', 'MSV',  'CVaR']\n",
    "\n",
    "lookback = 30\n",
    "df_period = dfp[-lookback:]\n",
    "\n",
    "def riskfolio_weights(df_period, rm , obj):\n",
    "    \"\"\"\n",
    "        obj - Objective function, could be MinRisk, MaxRet, Utility or Sharpe\n",
    "    \"\"\"\n",
    "    Y = df_period.pct_change().dropna()\n",
    "\n",
    "    # Building the portfolio object\n",
    "    port = rp.Portfolio(returns=Y)\n",
    "    port.solvers = ['MOSEK']\n",
    "    # Calculating optimum portfolio\n",
    "\n",
    "    # Select method and estimate input parameters:\n",
    "\n",
    "    method_mu='hist' # Method to estimate expected returns based on historical data.\n",
    "    method_cov='hist' # Method to estimate covariance matrix based on historical data.\n",
    "\n",
    "    port.assets_stats(method_mu=method_mu, method_cov=method_cov, d=0.94)\n",
    "\n",
    "    # Estimate optimal portfolio:\n",
    "\n",
    "    model='Classic' # Could be Classic (historical), BL (Black Litterman) or FM (Factor Model)\n",
    "    hist = True # Use historical scenarios for risk measures that depend on scenarios\n",
    "    rf = 0 # Risk free rate\n",
    "    l = 0 # Risk aversion factor, only useful when obj is 'Utility'\n",
    "    # First we need to delete the cardinality constraint\n",
    "    port.card = None \n",
    "\n",
    "    # Then we need to set the constraint on the minimum number of effective assets\n",
    "    port.nea = 10\n",
    "    w = port.optimization(model=model, rm=rm, obj=obj, rf=rf, l=l, hist=hist)\n",
    "    w = w[w.weights > 0.01]\n",
    "    return w\n",
    "\n",
    "#print_data(dfp)\n",
    "df_period = dfp.dropna(axis = 1)\n",
    "\n",
    "dfw = riskfolio_weights(df_period, 'CVaR', 'MaxRet')\n",
    "dfw"
   ]
  },
  {
   "cell_type": "code",
   "execution_count": 25,
   "metadata": {
    "tags": []
   },
   "outputs": [],
   "source": [
    "dfx = final_sums(dfw, 116000, 50)\n",
    "dfx['lot'] = 1\n",
    "inds = dfx.index.values.tolist()\n",
    "\n",
    "x = base_ru[base_ru['ticker'].isin (inds)]\n",
    "s = x[['ticker', 'lot']].set_index('ticker')\n",
    "dfx['lot'] = s"
   ]
  },
  {
   "cell_type": "code",
   "execution_count": null,
   "metadata": {
    "tags": []
   },
   "outputs": [],
   "source": []
  },
  {
   "cell_type": "code",
   "execution_count": 26,
   "metadata": {
    "tags": []
   },
   "outputs": [
    {
     "data": {
      "text/html": [
       "<div>\n",
       "<style scoped>\n",
       "    .dataframe tbody tr th:only-of-type {\n",
       "        vertical-align: middle;\n",
       "    }\n",
       "\n",
       "    .dataframe tbody tr th {\n",
       "        vertical-align: top;\n",
       "    }\n",
       "\n",
       "    .dataframe thead th {\n",
       "        text-align: right;\n",
       "    }\n",
       "</style>\n",
       "<table border=\"1\" class=\"dataframe\">\n",
       "  <thead>\n",
       "    <tr style=\"text-align: right;\">\n",
       "      <th></th>\n",
       "      <th>ticker</th>\n",
       "      <th>weights</th>\n",
       "      <th>lot</th>\n",
       "      <th>price</th>\n",
       "      <th>lot_quantity</th>\n",
       "      <th>quantity</th>\n",
       "      <th>sum</th>\n",
       "    </tr>\n",
       "  </thead>\n",
       "  <tbody>\n",
       "    <tr>\n",
       "      <th>0</th>\n",
       "      <td>SFIN</td>\n",
       "      <td>23930.0</td>\n",
       "      <td>1</td>\n",
       "      <td>1820.000</td>\n",
       "      <td>13</td>\n",
       "      <td>13</td>\n",
       "      <td>23660.00</td>\n",
       "    </tr>\n",
       "    <tr>\n",
       "      <th>1</th>\n",
       "      <td>RBCM</td>\n",
       "      <td>21060.0</td>\n",
       "      <td>100</td>\n",
       "      <td>17.500</td>\n",
       "      <td>12</td>\n",
       "      <td>1200</td>\n",
       "      <td>21000.00</td>\n",
       "    </tr>\n",
       "    <tr>\n",
       "      <th>2</th>\n",
       "      <td>RNFT</td>\n",
       "      <td>10380.0</td>\n",
       "      <td>1</td>\n",
       "      <td>237.500</td>\n",
       "      <td>44</td>\n",
       "      <td>44</td>\n",
       "      <td>10450.00</td>\n",
       "    </tr>\n",
       "    <tr>\n",
       "      <th>3</th>\n",
       "      <td>UGLD</td>\n",
       "      <td>6090.0</td>\n",
       "      <td>1000</td>\n",
       "      <td>0.960</td>\n",
       "      <td>6</td>\n",
       "      <td>6000</td>\n",
       "      <td>5760.00</td>\n",
       "    </tr>\n",
       "    <tr>\n",
       "      <th>4</th>\n",
       "      <td>RTKM</td>\n",
       "      <td>5890.0</td>\n",
       "      <td>10</td>\n",
       "      <td>100.950</td>\n",
       "      <td>6</td>\n",
       "      <td>60</td>\n",
       "      <td>6057.00</td>\n",
       "    </tr>\n",
       "    <tr>\n",
       "      <th>5</th>\n",
       "      <td>AFKS</td>\n",
       "      <td>5040.0</td>\n",
       "      <td>100</td>\n",
       "      <td>23.454</td>\n",
       "      <td>2</td>\n",
       "      <td>200</td>\n",
       "      <td>4690.80</td>\n",
       "    </tr>\n",
       "    <tr>\n",
       "      <th>6</th>\n",
       "      <td>POSI</td>\n",
       "      <td>5020.0</td>\n",
       "      <td>1</td>\n",
       "      <td>2943.600</td>\n",
       "      <td>2</td>\n",
       "      <td>2</td>\n",
       "      <td>5887.20</td>\n",
       "    </tr>\n",
       "    <tr>\n",
       "      <th>7</th>\n",
       "      <td>OZON</td>\n",
       "      <td>4210.0</td>\n",
       "      <td>1</td>\n",
       "      <td>3845.500</td>\n",
       "      <td>1</td>\n",
       "      <td>1</td>\n",
       "      <td>3845.50</td>\n",
       "    </tr>\n",
       "    <tr>\n",
       "      <th>8</th>\n",
       "      <td>GLTR</td>\n",
       "      <td>3520.0</td>\n",
       "      <td>1</td>\n",
       "      <td>815.000</td>\n",
       "      <td>4</td>\n",
       "      <td>4</td>\n",
       "      <td>3260.00</td>\n",
       "    </tr>\n",
       "    <tr>\n",
       "      <th>9</th>\n",
       "      <td>RTKMP</td>\n",
       "      <td>3420.0</td>\n",
       "      <td>10</td>\n",
       "      <td>85.000</td>\n",
       "      <td>4</td>\n",
       "      <td>40</td>\n",
       "      <td>3400.00</td>\n",
       "    </tr>\n",
       "    <tr>\n",
       "      <th>10</th>\n",
       "      <td>DELI</td>\n",
       "      <td>3380.0</td>\n",
       "      <td>1</td>\n",
       "      <td>337.000</td>\n",
       "      <td>10</td>\n",
       "      <td>10</td>\n",
       "      <td>3370.00</td>\n",
       "    </tr>\n",
       "    <tr>\n",
       "      <th>11</th>\n",
       "      <td>CIAN</td>\n",
       "      <td>3040.0</td>\n",
       "      <td>1</td>\n",
       "      <td>872.000</td>\n",
       "      <td>3</td>\n",
       "      <td>3</td>\n",
       "      <td>2616.00</td>\n",
       "    </tr>\n",
       "    <tr>\n",
       "      <th>12</th>\n",
       "      <td>ASTR</td>\n",
       "      <td>2640.0</td>\n",
       "      <td>1</td>\n",
       "      <td>689.900</td>\n",
       "      <td>4</td>\n",
       "      <td>4</td>\n",
       "      <td>2759.60</td>\n",
       "    </tr>\n",
       "    <tr>\n",
       "      <th>13</th>\n",
       "      <td>GCHE</td>\n",
       "      <td>2420.0</td>\n",
       "      <td>1</td>\n",
       "      <td>5476.000</td>\n",
       "      <td>0</td>\n",
       "      <td>0</td>\n",
       "      <td>0.00</td>\n",
       "    </tr>\n",
       "    <tr>\n",
       "      <th>14</th>\n",
       "      <td>WUSH</td>\n",
       "      <td>2370.0</td>\n",
       "      <td>1</td>\n",
       "      <td>308.770</td>\n",
       "      <td>8</td>\n",
       "      <td>8</td>\n",
       "      <td>2470.16</td>\n",
       "    </tr>\n",
       "    <tr>\n",
       "      <th>15</th>\n",
       "      <td>AFLT</td>\n",
       "      <td>2170.0</td>\n",
       "      <td>10</td>\n",
       "      <td>48.200</td>\n",
       "      <td>5</td>\n",
       "      <td>50</td>\n",
       "      <td>2410.00</td>\n",
       "    </tr>\n",
       "    <tr>\n",
       "      <th>16</th>\n",
       "      <td>LENT</td>\n",
       "      <td>1940.0</td>\n",
       "      <td>1</td>\n",
       "      <td>903.000</td>\n",
       "      <td>2</td>\n",
       "      <td>2</td>\n",
       "      <td>1806.00</td>\n",
       "    </tr>\n",
       "    <tr>\n",
       "      <th>17</th>\n",
       "      <td>SELG</td>\n",
       "      <td>1440.0</td>\n",
       "      <td>10</td>\n",
       "      <td>79.130</td>\n",
       "      <td>2</td>\n",
       "      <td>20</td>\n",
       "      <td>1582.60</td>\n",
       "    </tr>\n",
       "    <tr>\n",
       "      <th>18</th>\n",
       "      <td>HHRU</td>\n",
       "      <td>1370.0</td>\n",
       "      <td>1</td>\n",
       "      <td>4300.000</td>\n",
       "      <td>0</td>\n",
       "      <td>0</td>\n",
       "      <td>0.00</td>\n",
       "    </tr>\n",
       "    <tr>\n",
       "      <th>19</th>\n",
       "      <td>PLZL</td>\n",
       "      <td>1250.0</td>\n",
       "      <td>1</td>\n",
       "      <td>13080.000</td>\n",
       "      <td>0</td>\n",
       "      <td>0</td>\n",
       "      <td>0.00</td>\n",
       "    </tr>\n",
       "  </tbody>\n",
       "</table>\n",
       "</div>"
      ],
      "text/plain": [
       "   ticker  weights   lot      price  lot_quantity  quantity       sum\n",
       "0    SFIN  23930.0     1   1820.000            13        13  23660.00\n",
       "1    RBCM  21060.0   100     17.500            12      1200  21000.00\n",
       "2    RNFT  10380.0     1    237.500            44        44  10450.00\n",
       "3    UGLD   6090.0  1000      0.960             6      6000   5760.00\n",
       "4    RTKM   5890.0    10    100.950             6        60   6057.00\n",
       "5    AFKS   5040.0   100     23.454             2       200   4690.80\n",
       "6    POSI   5020.0     1   2943.600             2         2   5887.20\n",
       "7    OZON   4210.0     1   3845.500             1         1   3845.50\n",
       "8    GLTR   3520.0     1    815.000             4         4   3260.00\n",
       "9   RTKMP   3420.0    10     85.000             4        40   3400.00\n",
       "10   DELI   3380.0     1    337.000            10        10   3370.00\n",
       "11   CIAN   3040.0     1    872.000             3         3   2616.00\n",
       "12   ASTR   2640.0     1    689.900             4         4   2759.60\n",
       "13   GCHE   2420.0     1   5476.000             0         0      0.00\n",
       "14   WUSH   2370.0     1    308.770             8         8   2470.16\n",
       "15   AFLT   2170.0    10     48.200             5        50   2410.00\n",
       "16   LENT   1940.0     1    903.000             2         2   1806.00\n",
       "17   SELG   1440.0    10     79.130             2        20   1582.60\n",
       "18   HHRU   1370.0     1   4300.000             0         0      0.00\n",
       "19   PLZL   1250.0     1  13080.000             0         0      0.00"
      ]
     },
     "execution_count": 26,
     "metadata": {},
     "output_type": "execute_result"
    }
   ],
   "source": [
    "prices = dfp.iloc[-1].T.loc[dfx.index]\n",
    "dfx[\"price\"] = prices\n",
    "dfx[\"lot_quantity\"] = np.round(dfx.weights/ (dfx.price * dfx.lot)).astype(int)\n",
    "dfx[\"quantity\"] =  dfx.lot * dfx.lot_quantity\n",
    "dfx[\"sum\"]= dfx.price * dfx.lot_quantity * dfx.lot\n",
    "dfx = dfx.sort_values(\"weights\", ascending = False)\n",
    "dfx.to_csv(\"t.csv\")\n",
    "dfx = dfx.reset_index()\n",
    "dfx.columns = ['ticker', 'weights', 'lot', 'price', 'lot_quantity','quantity', 'sum']\n",
    "\n",
    "dfx"
   ]
  },
  {
   "cell_type": "code",
   "execution_count": 27,
   "metadata": {
    "tags": []
   },
   "outputs": [
    {
     "data": {
      "text/html": [
       "<div>\n",
       "<style scoped>\n",
       "    .dataframe tbody tr th:only-of-type {\n",
       "        vertical-align: middle;\n",
       "    }\n",
       "\n",
       "    .dataframe tbody tr th {\n",
       "        vertical-align: top;\n",
       "    }\n",
       "\n",
       "    .dataframe thead th {\n",
       "        text-align: right;\n",
       "    }\n",
       "</style>\n",
       "<table border=\"1\" class=\"dataframe\">\n",
       "  <thead>\n",
       "    <tr style=\"text-align: right;\">\n",
       "      <th></th>\n",
       "      <th>figi</th>\n",
       "      <th>ticker</th>\n",
       "      <th>name</th>\n",
       "      <th>quantity</th>\n",
       "      <th>lot_quantity</th>\n",
       "      <th>price</th>\n",
       "    </tr>\n",
       "  </thead>\n",
       "  <tbody>\n",
       "    <tr>\n",
       "      <th>3</th>\n",
       "      <td>BBG004S68614</td>\n",
       "      <td>AFKS</td>\n",
       "      <td>АФК Система</td>\n",
       "      <td>1900</td>\n",
       "      <td>19</td>\n",
       "      <td>24.07</td>\n",
       "    </tr>\n",
       "    <tr>\n",
       "      <th>1</th>\n",
       "      <td>BBG004S68758</td>\n",
       "      <td>BANE</td>\n",
       "      <td>Башнефть</td>\n",
       "      <td>4</td>\n",
       "      <td>4</td>\n",
       "      <td>3166.50</td>\n",
       "    </tr>\n",
       "    <tr>\n",
       "      <th>8</th>\n",
       "      <td>BBG00475K6C3</td>\n",
       "      <td>CHMF</td>\n",
       "      <td>Северсталь</td>\n",
       "      <td>4</td>\n",
       "      <td>4</td>\n",
       "      <td>1859.00</td>\n",
       "    </tr>\n",
       "    <tr>\n",
       "      <th>2</th>\n",
       "      <td>BBG00Y91R9T3</td>\n",
       "      <td>OZON</td>\n",
       "      <td>Ozon Holdings PLC</td>\n",
       "      <td>1</td>\n",
       "      <td>1</td>\n",
       "      <td>3801.00</td>\n",
       "    </tr>\n",
       "    <tr>\n",
       "      <th>6</th>\n",
       "      <td>TCS00A103X66</td>\n",
       "      <td>POSI</td>\n",
       "      <td>Positive Technologies</td>\n",
       "      <td>2</td>\n",
       "      <td>2</td>\n",
       "      <td>2886.00</td>\n",
       "    </tr>\n",
       "    <tr>\n",
       "      <th>0</th>\n",
       "      <td>BBG004S682Z6</td>\n",
       "      <td>RTKM</td>\n",
       "      <td>Ростелеком</td>\n",
       "      <td>80</td>\n",
       "      <td>8</td>\n",
       "      <td>100.50</td>\n",
       "    </tr>\n",
       "    <tr>\n",
       "      <th>7</th>\n",
       "      <td>BBG004S685M3</td>\n",
       "      <td>RTKMP</td>\n",
       "      <td>Ростелеком - Привилегированные акции</td>\n",
       "      <td>270</td>\n",
       "      <td>27</td>\n",
       "      <td>85.35</td>\n",
       "    </tr>\n",
       "    <tr>\n",
       "      <th>5</th>\n",
       "      <td>TCS00A105EX7</td>\n",
       "      <td>WUSH</td>\n",
       "      <td>Whoosh</td>\n",
       "      <td>20</td>\n",
       "      <td>20</td>\n",
       "      <td>320.87</td>\n",
       "    </tr>\n",
       "    <tr>\n",
       "      <th>4</th>\n",
       "      <td>RUB000UTSTOM</td>\n",
       "      <td>None</td>\n",
       "      <td>None</td>\n",
       "      <td>3133</td>\n",
       "      <td>3133</td>\n",
       "      <td>1.00</td>\n",
       "    </tr>\n",
       "  </tbody>\n",
       "</table>\n",
       "</div>"
      ],
      "text/plain": [
       "           figi ticker                                  name  quantity  \\\n",
       "3  BBG004S68614   AFKS                           АФК Система      1900   \n",
       "1  BBG004S68758   BANE                              Башнефть         4   \n",
       "8  BBG00475K6C3   CHMF                            Северсталь         4   \n",
       "2  BBG00Y91R9T3   OZON                     Ozon Holdings PLC         1   \n",
       "6  TCS00A103X66   POSI                 Positive Technologies         2   \n",
       "0  BBG004S682Z6   RTKM                            Ростелеком        80   \n",
       "7  BBG004S685M3  RTKMP  Ростелеком - Привилегированные акции       270   \n",
       "5  TCS00A105EX7   WUSH                                Whoosh        20   \n",
       "4  RUB000UTSTOM   None                                  None      3133   \n",
       "\n",
       "   lot_quantity    price  \n",
       "3            19    24.07  \n",
       "1             4  3166.50  \n",
       "8             4  1859.00  \n",
       "2             1  3801.00  \n",
       "6             2  2886.00  \n",
       "0             8   100.50  \n",
       "7            27    85.35  \n",
       "5            20   320.87  \n",
       "4          3133     1.00  "
      ]
     },
     "execution_count": 27,
     "metadata": {},
     "output_type": "execute_result"
    }
   ],
   "source": [
    "df_port"
   ]
  },
  {
   "cell_type": "code",
   "execution_count": 32,
   "metadata": {
    "tags": []
   },
   "outputs": [
    {
     "data": {
      "text/plain": [
       "{'SFIN': 13,\n",
       " 'RBCM': 12,\n",
       " 'RNFT': 44,\n",
       " 'UGLD': 6,\n",
       " 'RTKM': 6,\n",
       " 'AFKS': 2,\n",
       " 'POSI': 2,\n",
       " 'OZON': 1,\n",
       " 'GLTR': 4,\n",
       " 'RTKMP': 4,\n",
       " 'DELI': 10,\n",
       " 'CIAN': 3,\n",
       " 'ASTR': 4,\n",
       " 'GCHE': 0,\n",
       " 'WUSH': 8,\n",
       " 'AFLT': 5,\n",
       " 'LENT': 2,\n",
       " 'SELG': 2,\n",
       " 'HHRU': 0,\n",
       " 'PLZL': 0}"
      ]
     },
     "execution_count": 32,
     "metadata": {},
     "output_type": "execute_result"
    }
   ],
   "source": [
    "def df_to_dict(dfx):\n",
    "    return {row.ticker:row.lot_quantity for _,row in dfx.iterrows()}\n",
    "\n",
    "old_port = df_to_dict(df_port)\n",
    "new_port = df_to_dict(dfx)\n",
    "new_port"
   ]
  },
  {
   "cell_type": "code",
   "execution_count": 33,
   "metadata": {
    "tags": []
   },
   "outputs": [
    {
     "data": {
      "text/plain": [
       "{'AFKS': 19,\n",
       " 'BANE': 4,\n",
       " 'CHMF': 4,\n",
       " 'OZON': 1,\n",
       " 'POSI': 2,\n",
       " 'RTKM': 8,\n",
       " 'RTKMP': 27,\n",
       " 'WUSH': 20,\n",
       " None: 3133}"
      ]
     },
     "execution_count": 33,
     "metadata": {},
     "output_type": "execute_result"
    }
   ],
   "source": [
    "old_port"
   ]
  },
  {
   "cell_type": "code",
   "execution_count": 34,
   "metadata": {
    "tags": []
   },
   "outputs": [],
   "source": [
    "def calculate_portfolio_difference(old_portfolio, new_portfolio):\n",
    "    \"\"\"\n",
    "    Рассчитать разницу между двумя портфелями.\n",
    "\n",
    "    Args:\n",
    "        old_portfolio: Словарь, где ключом является тикер, а значением - количество акций.\n",
    "        new_portfolio: Словарь, где ключом является тикер, а значением - количество акций.\n",
    "\n",
    "    Returns:\n",
    "        Словарь, где ключом является тикер, а значением - разница между количеством акций в \n",
    "        новых и старых портфелях.\n",
    "    \"\"\"\n",
    "\n",
    "    difference = {}\n",
    "    for ticker in new_portfolio:\n",
    "        if ticker in old_portfolio:\n",
    "            difference[ticker] = new_portfolio[ticker] - old_portfolio[ticker]\n",
    "        else:\n",
    "            difference[ticker] = new_portfolio[ticker]\n",
    "\n",
    "    for ticker in old_portfolio:\n",
    "        if ticker not in new_portfolio:\n",
    "            difference[ticker] = -old_portfolio[ticker]\n",
    "    # Сортировка по значению, по возрастанию\n",
    "    sorted_diff = sorted(difference.items(), key=lambda x: x[1])\n",
    "\n",
    "    return sorted_diff"
   ]
  },
  {
   "cell_type": "code",
   "execution_count": 36,
   "metadata": {
    "tags": []
   },
   "outputs": [],
   "source": [
    "rebalance = calculate_portfolio_difference(old_port, new_port)\n",
    "\n",
    "flag_rebalance = True"
   ]
  },
  {
   "cell_type": "code",
   "execution_count": 57,
   "metadata": {
    "tags": []
   },
   "outputs": [
    {
     "name": "stdout",
     "output_type": "stream",
     "text": [
      "LENT 2\n",
      "SELG 2\n",
      "CIAN 3\n",
      "GLTR 4\n",
      "ASTR 4\n",
      "AFLT 5\n",
      "UGLD 6\n",
      "DELI 10\n",
      "RBCM 12\n",
      "SFIN 13\n",
      "RNFT 44\n"
     ]
    }
   ],
   "source": [
    "for asset, qty in rebalance[12:]:\n",
    "    if asset is None:\n",
    "        continue\n",
    "        \n",
    "    print(asset, qty)"
   ]
  },
  {
   "cell_type": "code",
   "execution_count": 58,
   "metadata": {
    "tags": []
   },
   "outputs": [
    {
     "name": "stdout",
     "output_type": "stream",
     "text": [
      "LENT\n",
      "Не доступно\n",
      "SELG\n",
      "CIAN\n",
      "Не доступно\n",
      "GLTR\n",
      "ASTR\n",
      "AFLT\n",
      "UGLD\n",
      "Не доступно\n",
      "DELI\n",
      "Не доступно\n",
      "RBCM\n",
      "Не доступно\n",
      "SFIN\n",
      "Не доступно\n",
      "RNFT\n"
     ]
    }
   ],
   "source": [
    "from tinkoff.invest import OrderDirection, OrderType\n",
    "residuals = []\n",
    "if flag_rebalance:\n",
    "    with Client(token) as client:\n",
    "\n",
    "        for asset, qty in rebalance[12:]:\n",
    "            print(asset)\n",
    "            if asset is None:\n",
    "                continue\n",
    "                \n",
    "            figi = tink.ticker_to_figi(asset, base)\n",
    "            trading_status = client.market_data.get_trading_status(\n",
    "                figi=figi\n",
    "            )\n",
    "            \n",
    "            if trading_status.market_order_available_flag and trading_status.api_trade_available_flag:\n",
    "                if qty < 0:\n",
    "                    resp = client.orders.post_order(figi=figi,\n",
    "                                quantity= -qty,\n",
    "                                direction=OrderDirection.ORDER_DIRECTION_SELL,\n",
    "                                account_id=account_id,\n",
    "                                order_type=OrderType.ORDER_TYPE_MARKET,)\n",
    "                elif qty > 0:\n",
    "                    resp = client.orders.post_order(figi=figi,\n",
    "                        quantity=qty,\n",
    "                        direction=OrderDirection.ORDER_DIRECTION_BUY,\n",
    "                        account_id=account_id,\n",
    "                        order_type=OrderType.ORDER_TYPE_MARKET,)\n",
    "            else:\n",
    "                print(\"Не доступно\")\n",
    "                residuals.append((asset, qty))\n",
    "    flag_rebalance = False"
   ]
  },
  {
   "cell_type": "code",
   "execution_count": 59,
   "metadata": {
    "tags": []
   },
   "outputs": [
    {
     "data": {
      "text/plain": [
       "[('LENT', 2),\n",
       " ('CIAN', 3),\n",
       " ('UGLD', 6),\n",
       " ('DELI', 10),\n",
       " ('RBCM', 12),\n",
       " ('SFIN', 13)]"
      ]
     },
     "execution_count": 59,
     "metadata": {},
     "output_type": "execute_result"
    }
   ],
   "source": [
    "residuals"
   ]
  }
 ],
 "metadata": {
  "kernelspec": {
   "display_name": "t",
   "language": "python",
   "name": "t"
  },
  "language_info": {
   "codemirror_mode": {
    "name": "ipython",
    "version": 3
   },
   "file_extension": ".py",
   "mimetype": "text/x-python",
   "name": "python",
   "nbconvert_exporter": "python",
   "pygments_lexer": "ipython3",
   "version": "3.11.7"
  }
 },
 "nbformat": 4,
 "nbformat_minor": 4
}
