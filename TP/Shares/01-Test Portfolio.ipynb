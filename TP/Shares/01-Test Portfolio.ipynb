{
 "cells": [
  {
   "cell_type": "code",
   "execution_count": null,
   "metadata": {},
   "outputs": [],
   "source": []
  },
  {
   "cell_type": "code",
   "execution_count": 1,
   "metadata": {
    "tags": []
   },
   "outputs": [],
   "source": [
    "import numpy as np\n",
    "import pandas as pd\n",
    "from glob import glob\n",
    "import sys\n",
    "import os\n",
    "from datetime import datetime\n",
    "import logging\n",
    "\n",
    "import matplotlib.pyplot as plt\n",
    "\n",
    "\n",
    "from decimal import Decimal\n",
    "from tinkoff.invest import MoneyValue\n",
    "from tinkoff.invest.sandbox.client import SandboxClient\n",
    "\n",
    "sys.path.append(\"..\") \n",
    "from tp_utils import *\n",
    "from tp_config import *\n",
    "import tink_port as tink\n",
    "\n",
    "\n",
    "pd.set_option(\"display.max_rows\", 90)"
   ]
  },
  {
   "cell_type": "code",
   "execution_count": null,
   "metadata": {
    "tags": []
   },
   "outputs": [],
   "source": []
  },
  {
   "cell_type": "code",
   "execution_count": 2,
   "metadata": {
    "tags": []
   },
   "outputs": [],
   "source": [
    "TOKEN0 = 't.UFRJ8SC9hafVOhFxEUY7yf1wZ1gGhwJp-WCp9o4rnEChHWns0c3jQ21eQwoOW_RurFqeZpss2scJkmMQnomJ9g'\n",
    "TOKEN1 = 't.6nHltT1dYSfrVTIV9zF72fxDlB2sXJbRD6iJNpZXTFAN61rmD7m71xPp9ko12ta1JxA06em4YdN36xicnBmjWg'\n",
    "SANDBOX = 't.ZsHS2K9VKfl4Od15pNE-N2dTW62IuyLBCZl2eLJlZJyQMSHxEQXiVb8PcCroxOU94pP7fNCkXemz6OCHseu7bw'\n",
    "token = SANDBOX\n",
    "TOKEN = token"
   ]
  },
  {
   "cell_type": "code",
   "execution_count": 16,
   "metadata": {},
   "outputs": [
    {
     "data": {
      "text/plain": [
       "'t.ZsHS2K9VKfl4Od15pNE-N2dTW62IuyLBCZl2eLJlZJyQMSHxEQXiVb8PcCroxOU94pP7fNCkXemz6OCHseu7bw'"
      ]
     },
     "execution_count": 16,
     "metadata": {},
     "output_type": "execute_result"
    }
   ],
   "source": [
    "import yaml\n",
    "with open('settings.yaml') as f:\n",
    "    # Load YAML data from the file\n",
    "    read_data = yaml.load(f, Loader=yaml.FullLoader)\n",
    "\n",
    "read_data[\"sandbox\"]"
   ]
  },
  {
   "cell_type": "markdown",
   "metadata": {},
   "source": [
    "### Исторические данные"
   ]
  },
  {
   "cell_type": "code",
   "execution_count": 3,
   "metadata": {},
   "outputs": [],
   "source": [
    "client = SandboxClient(token)\n",
    "base = tink.get_id_base(client)"
   ]
  },
  {
   "cell_type": "code",
   "execution_count": 4,
   "metadata": {},
   "outputs": [
    {
     "data": {
      "text/html": [
       "<div>\n",
       "<style scoped>\n",
       "    .dataframe tbody tr th:only-of-type {\n",
       "        vertical-align: middle;\n",
       "    }\n",
       "\n",
       "    .dataframe tbody tr th {\n",
       "        vertical-align: top;\n",
       "    }\n",
       "\n",
       "    .dataframe thead th {\n",
       "        text-align: right;\n",
       "    }\n",
       "</style>\n",
       "<table border=\"1\" class=\"dataframe\">\n",
       "  <thead>\n",
       "    <tr style=\"text-align: right;\">\n",
       "      <th></th>\n",
       "      <th>ticker</th>\n",
       "      <th>figi</th>\n",
       "      <th>type</th>\n",
       "      <th>name</th>\n",
       "      <th>cur</th>\n",
       "      <th>lot</th>\n",
       "    </tr>\n",
       "  </thead>\n",
       "  <tbody>\n",
       "    <tr>\n",
       "      <th>431</th>\n",
       "      <td>ABIO</td>\n",
       "      <td>TCS10A0JNAB6</td>\n",
       "      <td>shares</td>\n",
       "      <td>Артген</td>\n",
       "      <td>rub</td>\n",
       "      <td>10</td>\n",
       "    </tr>\n",
       "    <tr>\n",
       "      <th>891</th>\n",
       "      <td>ABRD</td>\n",
       "      <td>BBG002W2FT69</td>\n",
       "      <td>shares</td>\n",
       "      <td>АбрауДюрсо</td>\n",
       "      <td>rub</td>\n",
       "      <td>10</td>\n",
       "    </tr>\n",
       "    <tr>\n",
       "      <th>1815</th>\n",
       "      <td>AFKS</td>\n",
       "      <td>BBG004S68614</td>\n",
       "      <td>shares</td>\n",
       "      <td>АФК Система</td>\n",
       "      <td>rub</td>\n",
       "      <td>100</td>\n",
       "    </tr>\n",
       "    <tr>\n",
       "      <th>1271</th>\n",
       "      <td>AFLT</td>\n",
       "      <td>BBG004S683W7</td>\n",
       "      <td>shares</td>\n",
       "      <td>Аэрофлот</td>\n",
       "      <td>rub</td>\n",
       "      <td>10</td>\n",
       "    </tr>\n",
       "    <tr>\n",
       "      <th>1204</th>\n",
       "      <td>AGRO</td>\n",
       "      <td>BBG007N0Z367</td>\n",
       "      <td>shares</td>\n",
       "      <td>РусАгро</td>\n",
       "      <td>rub</td>\n",
       "      <td>1</td>\n",
       "    </tr>\n",
       "    <tr>\n",
       "      <th>...</th>\n",
       "      <td>...</td>\n",
       "      <td>...</td>\n",
       "      <td>...</td>\n",
       "      <td>...</td>\n",
       "      <td>...</td>\n",
       "      <td>...</td>\n",
       "    </tr>\n",
       "    <tr>\n",
       "      <th>175</th>\n",
       "      <td>WUSH</td>\n",
       "      <td>TCS00A105EX7</td>\n",
       "      <td>shares</td>\n",
       "      <td>Whoosh</td>\n",
       "      <td>rub</td>\n",
       "      <td>1</td>\n",
       "    </tr>\n",
       "    <tr>\n",
       "      <th>1538</th>\n",
       "      <td>YAKG</td>\n",
       "      <td>BBG002B298N6</td>\n",
       "      <td>shares</td>\n",
       "      <td>ЯТЭК</td>\n",
       "      <td>rub</td>\n",
       "      <td>10</td>\n",
       "    </tr>\n",
       "    <tr>\n",
       "      <th>1250</th>\n",
       "      <td>YDEX</td>\n",
       "      <td>TCS00A107T19</td>\n",
       "      <td>shares</td>\n",
       "      <td>Яндекс</td>\n",
       "      <td>rub</td>\n",
       "      <td>1</td>\n",
       "    </tr>\n",
       "    <tr>\n",
       "      <th>472</th>\n",
       "      <td>ZAYM</td>\n",
       "      <td>TCS00A107RM8</td>\n",
       "      <td>shares</td>\n",
       "      <td>МФК Займер</td>\n",
       "      <td>rub</td>\n",
       "      <td>10</td>\n",
       "    </tr>\n",
       "    <tr>\n",
       "      <th>562</th>\n",
       "      <td>ZILLP</td>\n",
       "      <td>BBG000QFB4J6</td>\n",
       "      <td>shares</td>\n",
       "      <td>ЗИЛ - акции привилегированные</td>\n",
       "      <td>rub</td>\n",
       "      <td>1</td>\n",
       "    </tr>\n",
       "  </tbody>\n",
       "</table>\n",
       "<p>172 rows × 6 columns</p>\n",
       "</div>"
      ],
      "text/plain": [
       "     ticker          figi    type                           name  cur  lot\n",
       "431    ABIO  TCS10A0JNAB6  shares                         Артген  rub   10\n",
       "891    ABRD  BBG002W2FT69  shares                     АбрауДюрсо  rub   10\n",
       "1815   AFKS  BBG004S68614  shares                    АФК Система  rub  100\n",
       "1271   AFLT  BBG004S683W7  shares                       Аэрофлот  rub   10\n",
       "1204   AGRO  BBG007N0Z367  shares                        РусАгро  rub    1\n",
       "...     ...           ...     ...                            ...  ...  ...\n",
       "175    WUSH  TCS00A105EX7  shares                         Whoosh  rub    1\n",
       "1538   YAKG  BBG002B298N6  shares                           ЯТЭК  rub   10\n",
       "1250   YDEX  TCS00A107T19  shares                         Яндекс  rub    1\n",
       "472    ZAYM  TCS00A107RM8  shares                     МФК Займер  rub   10\n",
       "562   ZILLP  BBG000QFB4J6  shares  ЗИЛ - акции привилегированные  rub    1\n",
       "\n",
       "[172 rows x 6 columns]"
      ]
     },
     "execution_count": 4,
     "metadata": {},
     "output_type": "execute_result"
    }
   ],
   "source": [
    "dfw = base[(base[\"type\"] == \"shares\") & (base[\"cur\"] == \"rub\")]\n",
    "dfw.sort_values(\"ticker\")"
   ]
  },
  {
   "cell_type": "code",
   "execution_count": 7,
   "metadata": {},
   "outputs": [
    {
     "name": "stdout",
     "output_type": "stream",
     "text": [
      "ABIO\n",
      "ABRD\n",
      "AFKS\n",
      "AFLT\n",
      "AGRO\n",
      "AKRN\n",
      "ALRS\n",
      "AMEZ\n",
      "APTK\n",
      "AQUA\n",
      "ASTR\n",
      "BANE\n",
      "BANEP\n",
      "BELU\n",
      "BLNG\n",
      "BSPB\n",
      "CARM\n",
      "CBOM\n",
      "CHMF\n",
      "CHMK\n"
     ]
    },
    {
     "name": "stderr",
     "output_type": "stream",
     "text": [
      "File /home/samsmu/Data/QBP/Tink/Cache/BBG000BBV4M5/CANDLE_INTERVAL_DAY.meta was not found. Creating default.\n"
     ]
    },
    {
     "name": "stdout",
     "output_type": "stream",
     "text": [
      "CIAN\n",
      "CNTL\n"
     ]
    },
    {
     "name": "stderr",
     "output_type": "stream",
     "text": [
      "File /home/samsmu/Data/QBP/Tink/Cache/BBG0027F0Y27/CANDLE_INTERVAL_DAY.meta was not found. Creating default.\n",
      "File /home/samsmu/Data/QBP/Tink/Cache/TCS00A108ZR8/CANDLE_INTERVAL_DAY.meta was not found. Creating default.\n"
     ]
    },
    {
     "name": "stdout",
     "output_type": "stream",
     "text": [
      "CNTLP\n",
      "DATA\n"
     ]
    },
    {
     "name": "stderr",
     "output_type": "stream",
     "text": [
      "File /home/samsmu/Data/QBP/Tink/Cache/TCS00A107J11/CANDLE_INTERVAL_DAY.meta was not found. Creating default.\n",
      "File /home/samsmu/Data/QBP/Tink/Cache/TCS00A107ER5/CANDLE_INTERVAL_DAY.meta was not found. Creating default.\n"
     ]
    },
    {
     "name": "stdout",
     "output_type": "stream",
     "text": [
      "DELI\n",
      "DIAS\n"
     ]
    },
    {
     "name": "stderr",
     "output_type": "stream",
     "text": [
      "File /home/samsmu/Data/QBP/Tink/Cache/BBG000V07CB8/CANDLE_INTERVAL_DAY.meta was not found. Creating default.\n",
      "File /home/samsmu/Data/QBP/Tink/Cache/BBG000F6YPH8/CANDLE_INTERVAL_DAY.meta was not found. Creating default.\n"
     ]
    },
    {
     "name": "stdout",
     "output_type": "stream",
     "text": [
      "DVEC\n",
      "ELFV\n"
     ]
    },
    {
     "name": "stderr",
     "output_type": "stream",
     "text": [
      "File /home/samsmu/Data/QBP/Tink/Cache/TCS00A102093/CANDLE_INTERVAL_DAY.meta was not found. Creating default.\n",
      "File /home/samsmu/Data/QBP/Tink/Cache/BBG000RMWQD4/CANDLE_INTERVAL_DAY.meta was not found. Creating default.\n"
     ]
    },
    {
     "name": "stdout",
     "output_type": "stream",
     "text": [
      "ELMT\n",
      "ENPG\n"
     ]
    },
    {
     "name": "stderr",
     "output_type": "stream",
     "text": [
      "File /home/samsmu/Data/QBP/Tink/Cache/BBG001M2SC01/CANDLE_INTERVAL_DAY.meta was not found. Creating default.\n",
      "File /home/samsmu/Data/QBP/Tink/Cache/TCS00A1002V2/CANDLE_INTERVAL_DAY.meta was not found. Creating default.\n"
     ]
    },
    {
     "name": "stdout",
     "output_type": "stream",
     "text": [
      "ETLN\n",
      "EUTR\n"
     ]
    },
    {
     "name": "stderr",
     "output_type": "stream",
     "text": [
      "File /home/samsmu/Data/QBP/Tink/Cache/BBG00475JZZ6/CANDLE_INTERVAL_DAY.meta was not found. Creating default.\n",
      "File /home/samsmu/Data/QBP/Tink/Cache/BBG000QF1Q17/CANDLE_INTERVAL_DAY.meta was not found. Creating default.\n"
     ]
    },
    {
     "name": "stdout",
     "output_type": "stream",
     "text": [
      "FEES\n",
      "FESH\n"
     ]
    },
    {
     "name": "stderr",
     "output_type": "stream",
     "text": [
      "File /home/samsmu/Data/QBP/Tink/Cache/BBG00ZHCX1X2/CANDLE_INTERVAL_DAY.meta was not found. Creating default.\n",
      "File /home/samsmu/Data/QBP/Tink/Cache/BBG000R04X57/CANDLE_INTERVAL_DAY.meta was not found. Creating default.\n"
     ]
    },
    {
     "name": "stdout",
     "output_type": "stream",
     "text": [
      "FIXP\n",
      "FLOT\n"
     ]
    },
    {
     "name": "stderr",
     "output_type": "stream",
     "text": [
      "File /home/samsmu/Data/QBP/Tink/Cache/BBG004730RP0/CANDLE_INTERVAL_DAY.meta was not found. Creating default.\n",
      "File /home/samsmu/Data/QBP/Tink/Cache/BBG000RTHVK7/CANDLE_INTERVAL_DAY.meta was not found. Creating default.\n"
     ]
    },
    {
     "name": "stdout",
     "output_type": "stream",
     "text": [
      "GAZP\n",
      "GCHE\n"
     ]
    },
    {
     "name": "stderr",
     "output_type": "stream",
     "text": [
      "File /home/samsmu/Data/QBP/Tink/Cache/TCS00A105BN4/CANDLE_INTERVAL_DAY.meta was not found. Creating default.\n",
      "File /home/samsmu/Data/QBP/Tink/Cache/TCS00A107JE2/CANDLE_INTERVAL_DAY.meta was not found. Creating default.\n"
     ]
    },
    {
     "name": "stdout",
     "output_type": "stream",
     "text": [
      "GECO\n",
      "GEMC\n"
     ]
    },
    {
     "name": "stderr",
     "output_type": "stream",
     "text": [
      "File /home/samsmu/Data/QBP/Tink/Cache/BBG000VFX6Y4/CANDLE_INTERVAL_DAY.meta was not found. Creating default.\n",
      "File /home/samsmu/Data/QBP/Tink/Cache/BBG004731489/CANDLE_INTERVAL_DAY.meta was not found. Creating default.\n"
     ]
    },
    {
     "name": "stdout",
     "output_type": "stream",
     "text": [
      "GLTR\n",
      "GMKN\n"
     ]
    },
    {
     "name": "stderr",
     "output_type": "stream",
     "text": [
      "File /home/samsmu/Data/QBP/Tink/Cache/TCS10A0JV532/CANDLE_INTERVAL_DAY.meta was not found. Creating default.\n",
      "File /home/samsmu/Data/QBP/Tink/Cache/TCS30A0ZYD22/CANDLE_INTERVAL_DAY.meta was not found. Creating default.\n"
     ]
    },
    {
     "name": "stdout",
     "output_type": "stream",
     "text": [
      "GRNT\n",
      "GTRK\n"
     ]
    },
    {
     "name": "stderr",
     "output_type": "stream",
     "text": [
      "File /home/samsmu/Data/QBP/Tink/Cache/TCS20A107662/CANDLE_INTERVAL_DAY.meta was not found. Creating default.\n",
      "File /home/samsmu/Data/QBP/Tink/Cache/TCS2207L1061/CANDLE_INTERVAL_DAY.meta was not found. Creating default.\n"
     ]
    },
    {
     "name": "stdout",
     "output_type": "stream",
     "text": [
      "HEAD\n",
      "HHRU\n"
     ]
    },
    {
     "name": "stderr",
     "output_type": "stream",
     "text": [
      "File /home/samsmu/Data/QBP/Tink/Cache/TCS00A106XF2/CANDLE_INTERVAL_DAY.meta was not found. Creating default.\n",
      "File /home/samsmu/Data/QBP/Tink/Cache/BBG00475K2X9/CANDLE_INTERVAL_DAY.meta was not found. Creating default.\n"
     ]
    },
    {
     "name": "stdout",
     "output_type": "stream",
     "text": [
      "HNFG\n",
      "HYDR\n"
     ]
    },
    {
     "name": "stderr",
     "output_type": "stream",
     "text": [
      "File /home/samsmu/Data/QBP/Tink/Cache/BBG004S68473/CANDLE_INTERVAL_DAY.meta was not found. Creating default.\n",
      "File /home/samsmu/Data/QBP/Tink/Cache/BBG000FWGSZ5/CANDLE_INTERVAL_DAY.meta was not found. Creating default.\n"
     ]
    },
    {
     "name": "stdout",
     "output_type": "stream",
     "text": [
      "IRAO\n",
      "IRKT\n"
     ]
    },
    {
     "name": "stderr",
     "output_type": "stream",
     "text": [
      "File /home/samsmu/Data/QBP/Tink/Cache/TCS00A108GD8/CANDLE_INTERVAL_DAY.meta was not found. Creating default.\n",
      "File /home/samsmu/Data/QBP/Tink/Cache/BBG002B9MYC1/CANDLE_INTERVAL_DAY.meta was not found. Creating default.\n"
     ]
    },
    {
     "name": "stdout",
     "output_type": "stream",
     "text": [
      "IVAT\n",
      "KAZT\n"
     ]
    },
    {
     "name": "stderr",
     "output_type": "stream",
     "text": [
      "File /home/samsmu/Data/QBP/Tink/Cache/BBG002B9T6Y1/CANDLE_INTERVAL_DAY.meta was not found. Creating default.\n",
      "File /home/samsmu/Data/QBP/Tink/Cache/BBG000DBD6F6/CANDLE_INTERVAL_DAY.meta was not found. Creating default.\n"
     ]
    },
    {
     "name": "stdout",
     "output_type": "stream",
     "text": [
      "KAZTP\n",
      "KLSB\n"
     ]
    },
    {
     "name": "stderr",
     "output_type": "stream",
     "text": [
      "File /home/samsmu/Data/QBP/Tink/Cache/TCS00A107KX0/CANDLE_INTERVAL_DAY.meta was not found. Creating default.\n",
      "File /home/samsmu/Data/QBP/Tink/Cache/BBG000LNHHJ9/CANDLE_INTERVAL_DAY.meta was not found. Creating default.\n"
     ]
    },
    {
     "name": "stdout",
     "output_type": "stream",
     "text": [
      "KLVZ\n",
      "KMAZ\n"
     ]
    },
    {
     "name": "stderr",
     "output_type": "stream",
     "text": [
      "File /home/samsmu/Data/QBP/Tink/Cache/BBG002B2J5X0/CANDLE_INTERVAL_DAY.meta was not found. Creating default.\n",
      "File /home/samsmu/Data/QBP/Tink/Cache/BBG000NLB2G3/CANDLE_INTERVAL_DAY.meta was not found. Creating default.\n"
     ]
    },
    {
     "name": "stdout",
     "output_type": "stream",
     "text": [
      "KRKNP\n",
      "KROT\n"
     ]
    },
    {
     "name": "stderr",
     "output_type": "stream",
     "text": [
      "File /home/samsmu/Data/QBP/Tink/Cache/TCS009124010/CANDLE_INTERVAL_DAY.meta was not found. Creating default.\n",
      "File /home/samsmu/Data/QBP/Tink/Cache/TCS007940839/CANDLE_INTERVAL_DAY.meta was not found. Creating default.\n"
     ]
    },
    {
     "name": "stdout",
     "output_type": "stream",
     "text": [
      "KZIZ\n",
      "KZIZP\n"
     ]
    },
    {
     "name": "stderr",
     "output_type": "stream",
     "text": [
      "File /home/samsmu/Data/QBP/Tink/Cache/BBG0029SFXB3/CANDLE_INTERVAL_DAY.meta was not found. Creating default.\n",
      "File /home/samsmu/Data/QBP/Tink/Cache/BBG0029SG1C1/CANDLE_INTERVAL_DAY.meta was not found. Creating default.\n"
     ]
    },
    {
     "name": "stdout",
     "output_type": "stream",
     "text": [
      "KZOS\n",
      "KZOSP\n"
     ]
    },
    {
     "name": "stderr",
     "output_type": "stream",
     "text": [
      "File /home/samsmu/Data/QBP/Tink/Cache/TCS00A0ZZFS9/CANDLE_INTERVAL_DAY.meta was not found. Creating default.\n",
      "File /home/samsmu/Data/QBP/Tink/Cache/BBG0063FKTD9/CANDLE_INTERVAL_DAY.meta was not found. Creating default.\n"
     ]
    },
    {
     "name": "stdout",
     "output_type": "stream",
     "text": [
      "LEAS\n",
      "LENT\n"
     ]
    },
    {
     "name": "stderr",
     "output_type": "stream",
     "text": [
      "File /home/samsmu/Data/QBP/Tink/Cache/TCS00A0JR514/CANDLE_INTERVAL_DAY.meta was not found. Creating default.\n",
      "File /home/samsmu/Data/QBP/Tink/Cache/BBG004731032/CANDLE_INTERVAL_DAY.meta was not found. Creating default.\n"
     ]
    },
    {
     "name": "stdout",
     "output_type": "stream",
     "text": [
      "LIFE\n",
      "LKOH\n"
     ]
    },
    {
     "name": "stderr",
     "output_type": "stream",
     "text": [
      "File /home/samsmu/Data/QBP/Tink/Cache/BBG000SK7JS5/CANDLE_INTERVAL_DAY.meta was not found. Creating default.\n",
      "File /home/samsmu/Data/QBP/Tink/Cache/BBG000SR0YS4/CANDLE_INTERVAL_DAY.meta was not found. Creating default.\n"
     ]
    },
    {
     "name": "stdout",
     "output_type": "stream",
     "text": [
      "LNZL\n",
      "LNZLP\n"
     ]
    },
    {
     "name": "stderr",
     "output_type": "stream",
     "text": [
      "File /home/samsmu/Data/QBP/Tink/Cache/BBG000NLC9Z6/CANDLE_INTERVAL_DAY.meta was not found. Creating default.\n",
      "File /home/samsmu/Data/QBP/Tink/Cache/BBG000NLCCM3/CANDLE_INTERVAL_DAY.meta was not found. Creating default.\n"
     ]
    },
    {
     "name": "stdout",
     "output_type": "stream",
     "text": [
      "LSNG\n",
      "LSNGP\n"
     ]
    },
    {
     "name": "stderr",
     "output_type": "stream",
     "text": [
      "File /home/samsmu/Data/QBP/Tink/Cache/BBG004S68C39/CANDLE_INTERVAL_DAY.meta was not found. Creating default.\n",
      "File /home/samsmu/Data/QBP/Tink/Cache/BBG004S68507/CANDLE_INTERVAL_DAY.meta was not found. Creating default.\n"
     ]
    },
    {
     "name": "stdout",
     "output_type": "stream",
     "text": [
      "LSRG\n",
      "MAGN\n"
     ]
    },
    {
     "name": "stderr",
     "output_type": "stream",
     "text": [
      "File /home/samsmu/Data/QBP/Tink/Cache/TCS00A0JRH43/CANDLE_INTERVAL_DAY.meta was not found. Creating default.\n",
      "File /home/samsmu/Data/QBP/Tink/Cache/TCS00Y3XYV94/CANDLE_INTERVAL_DAY.meta was not found. Creating default.\n"
     ]
    },
    {
     "name": "stdout",
     "output_type": "stream",
     "text": [
      "MBNK\n",
      "MDMG\n"
     ]
    },
    {
     "name": "stderr",
     "output_type": "stream",
     "text": [
      "File /home/samsmu/Data/QBP/Tink/Cache/TCS00A0JVJQ8/CANDLE_INTERVAL_DAY.meta was not found. Creating default.\n",
      "File /home/samsmu/Data/QBP/Tink/Cache/BBG004RVFCY3/CANDLE_INTERVAL_DAY.meta was not found. Creating default.\n"
     ]
    },
    {
     "name": "stdout",
     "output_type": "stream",
     "text": [
      "MGKL\n",
      "MGNT\n"
     ]
    },
    {
     "name": "stderr",
     "output_type": "stream",
     "text": [
      "File /home/samsmu/Data/QBP/Tink/Cache/BBG000PZ0833/CANDLE_INTERVAL_DAY.meta was not found. Creating default.\n"
     ]
    },
    {
     "name": "stdout",
     "output_type": "stream",
     "text": [
      "MGTSP\n"
     ]
    },
    {
     "name": "stderr",
     "output_type": "stream",
     "text": [
      "File /home/samsmu/Data/QBP/Tink/Cache/BBG004730JJ5/CANDLE_INTERVAL_DAY.meta was not found. Creating default.\n",
      "File /home/samsmu/Data/QBP/Tink/Cache/BBG000VH7TZ8/CANDLE_INTERVAL_DAY.meta was not found. Creating default.\n"
     ]
    },
    {
     "name": "stdout",
     "output_type": "stream",
     "text": [
      "MOEX\n",
      "MRKC\n"
     ]
    },
    {
     "name": "stderr",
     "output_type": "stream",
     "text": [
      "File /home/samsmu/Data/QBP/Tink/Cache/BBG000VG1034/CANDLE_INTERVAL_DAY.meta was not found. Creating default.\n",
      "File /home/samsmu/Data/QBP/Tink/Cache/BBG000VJMH65/CANDLE_INTERVAL_DAY.meta was not found. Creating default.\n"
     ]
    },
    {
     "name": "stdout",
     "output_type": "stream",
     "text": [
      "MRKP\n",
      "MRKS\n"
     ]
    },
    {
     "name": "stderr",
     "output_type": "stream",
     "text": [
      "File /home/samsmu/Data/QBP/Tink/Cache/BBG000VKG4R5/CANDLE_INTERVAL_DAY.meta was not found. Creating default.\n",
      "File /home/samsmu/Data/QBP/Tink/Cache/BBG000PKWCQ7/CANDLE_INTERVAL_DAY.meta was not found. Creating default.\n"
     ]
    },
    {
     "name": "stdout",
     "output_type": "stream",
     "text": [
      "MRKU\n",
      "MRKV\n"
     ]
    },
    {
     "name": "stderr",
     "output_type": "stream",
     "text": [
      "File /home/samsmu/Data/QBP/Tink/Cache/BBG000C7P5M7/CANDLE_INTERVAL_DAY.meta was not found. Creating default.\n"
     ]
    },
    {
     "name": "stdout",
     "output_type": "stream",
     "text": [
      "MRKY\n"
     ]
    },
    {
     "name": "stderr",
     "output_type": "stream",
     "text": [
      "File /home/samsmu/Data/QBP/Tink/Cache/BBG000TJ6F42/CANDLE_INTERVAL_DAY.meta was not found. Creating default.\n",
      "File /home/samsmu/Data/QBP/Tink/Cache/BBG004S687W8/CANDLE_INTERVAL_DAY.meta was not found. Creating default.\n"
     ]
    },
    {
     "name": "stdout",
     "output_type": "stream",
     "text": [
      "MRKZ\n",
      "MSNG\n"
     ]
    },
    {
     "name": "stderr",
     "output_type": "stream",
     "text": [
      "File /home/samsmu/Data/QBP/Tink/Cache/BBG004S687G6/CANDLE_INTERVAL_DAY.meta was not found. Creating default.\n",
      "File /home/samsmu/Data/QBP/Tink/Cache/BBG004S68DD6/CANDLE_INTERVAL_DAY.meta was not found. Creating default.\n"
     ]
    },
    {
     "name": "stdout",
     "output_type": "stream",
     "text": [
      "MSRS\n",
      "MSTT\n"
     ]
    },
    {
     "name": "stderr",
     "output_type": "stream",
     "text": [
      "File /home/samsmu/Data/QBP/Tink/Cache/BBG004S68598/CANDLE_INTERVAL_DAY.meta was not found. Creating default.\n",
      "File /home/samsmu/Data/QBP/Tink/Cache/BBG004S68FR6/CANDLE_INTERVAL_DAY.meta was not found. Creating default.\n"
     ]
    },
    {
     "name": "stdout",
     "output_type": "stream",
     "text": [
      "MTLR\n",
      "MTLRP\n"
     ]
    },
    {
     "name": "stderr",
     "output_type": "stream",
     "text": [
      "File /home/samsmu/Data/QBP/Tink/Cache/BBG004S681W1/CANDLE_INTERVAL_DAY.meta was not found. Creating default.\n",
      "File /home/samsmu/Data/QBP/Tink/Cache/BBG004S68CP5/CANDLE_INTERVAL_DAY.meta was not found. Creating default.\n"
     ]
    },
    {
     "name": "stdout",
     "output_type": "stream",
     "text": [
      "MTSS\n",
      "MVID\n"
     ]
    },
    {
     "name": "stderr",
     "output_type": "stream",
     "text": [
      "File /home/samsmu/Data/QBP/Tink/Cache/BBG00BGKYH17/CANDLE_INTERVAL_DAY.meta was not found. Creating default.\n",
      "File /home/samsmu/Data/QBP/Tink/Cache/BBG000GQSRR5/CANDLE_INTERVAL_DAY.meta was not found. Creating default.\n"
     ]
    },
    {
     "name": "stdout",
     "output_type": "stream",
     "text": [
      "NKHP\n",
      "NKNC\n"
     ]
    },
    {
     "name": "stderr",
     "output_type": "stream",
     "text": [
      "File /home/samsmu/Data/QBP/Tink/Cache/BBG000GQSVC2/CANDLE_INTERVAL_DAY.meta was not found. Creating default.\n",
      "File /home/samsmu/Data/QBP/Tink/Cache/BBG004S681B4/CANDLE_INTERVAL_DAY.meta was not found. Creating default.\n"
     ]
    },
    {
     "name": "stdout",
     "output_type": "stream",
     "text": [
      "NKNCP\n",
      "NLMK\n"
     ]
    },
    {
     "name": "stderr",
     "output_type": "stream",
     "text": [
      "File /home/samsmu/Data/QBP/Tink/Cache/BBG004S68BR5/CANDLE_INTERVAL_DAY.meta was not found. Creating default.\n",
      "File /home/samsmu/Data/QBP/Tink/Cache/TCS009084453/CANDLE_INTERVAL_DAY.meta was not found. Creating default.\n"
     ]
    },
    {
     "name": "stdout",
     "output_type": "stream",
     "text": [
      "NMTP\n",
      "NOMP\n"
     ]
    },
    {
     "name": "stderr",
     "output_type": "stream",
     "text": [
      "File /home/samsmu/Data/QBP/Tink/Cache/TCS009177281/CANDLE_INTERVAL_DAY.meta was not found. Creating default.\n",
      "File /home/samsmu/Data/QBP/Tink/Cache/BBG002BCQK67/CANDLE_INTERVAL_DAY.meta was not found. Creating default.\n"
     ]
    },
    {
     "name": "stdout",
     "output_type": "stream",
     "text": [
      "NOMPP\n",
      "NSVZ\n"
     ]
    },
    {
     "name": "stderr",
     "output_type": "stream",
     "text": [
      "File /home/samsmu/Data/QBP/Tink/Cache/TCS002614686/CANDLE_INTERVAL_DAY.meta was not found. Creating default.\n",
      "File /home/samsmu/Data/QBP/Tink/Cache/BBG00475KKY8/CANDLE_INTERVAL_DAY.meta was not found. Creating default.\n"
     ]
    },
    {
     "name": "stdout",
     "output_type": "stream",
     "text": [
      "NTZL\n",
      "NVTK\n"
     ]
    },
    {
     "name": "stderr",
     "output_type": "stream",
     "text": [
      "File /home/samsmu/Data/QBP/Tink/Cache/TCS00A0HG6Z8/CANDLE_INTERVAL_DAY.meta was not found. Creating default.\n",
      "File /home/samsmu/Data/QBP/Tink/Cache/TCS00A0HG602/CANDLE_INTERVAL_DAY.meta was not found. Creating default.\n"
     ]
    },
    {
     "name": "stdout",
     "output_type": "stream",
     "text": [
      "OBNE\n",
      "OBNEP\n"
     ]
    },
    {
     "name": "stderr",
     "output_type": "stream",
     "text": [
      "File /home/samsmu/Data/QBP/Tink/Cache/BBG000RK52V1/CANDLE_INTERVAL_DAY.meta was not found. Creating default.\n",
      "File /home/samsmu/Data/QBP/Tink/Cache/BBG00172J7S9/CANDLE_INTERVAL_DAY.meta was not found. Creating default.\n"
     ]
    },
    {
     "name": "stdout",
     "output_type": "stream",
     "text": [
      "OGKB\n",
      "OKEY\n"
     ]
    },
    {
     "name": "stderr",
     "output_type": "stream",
     "text": [
      "File /home/samsmu/Data/QBP/Tink/Cache/BBG001BBGNS2/CANDLE_INTERVAL_DAY.meta was not found. Creating default.\n",
      "File /home/samsmu/Data/QBP/Tink/Cache/BBG00Y91R9T3/CANDLE_INTERVAL_DAY.meta was not found. Creating default.\n"
     ]
    },
    {
     "name": "stdout",
     "output_type": "stream",
     "text": [
      "ORUP\n",
      "OZON\n"
     ]
    },
    {
     "name": "stderr",
     "output_type": "stream",
     "text": [
      "File /home/samsmu/Data/QBP/Tink/Cache/TCS00A109B25/CANDLE_INTERVAL_DAY.meta was not found. Creating default.\n",
      "File /home/samsmu/Data/QBP/Tink/Cache/BBG004S689R0/CANDLE_INTERVAL_DAY.meta was not found. Creating default.\n"
     ]
    },
    {
     "name": "stdout",
     "output_type": "stream",
     "text": [
      "OZPH\n",
      "PHOR\n"
     ]
    },
    {
     "name": "stderr",
     "output_type": "stream",
     "text": [
      "File /home/samsmu/Data/QBP/Tink/Cache/BBG004S68BH6/CANDLE_INTERVAL_DAY.meta was not found. Creating default.\n",
      "File /home/samsmu/Data/QBP/Tink/Cache/BBG000R607Y3/CANDLE_INTERVAL_DAY.meta was not found. Creating default.\n"
     ]
    },
    {
     "name": "stdout",
     "output_type": "stream",
     "text": [
      "PIKK\n",
      "PLZL\n"
     ]
    },
    {
     "name": "stderr",
     "output_type": "stream",
     "text": [
      "File /home/samsmu/Data/QBP/Tink/Cache/BBG000MZL0Y6/CANDLE_INTERVAL_DAY.meta was not found. Creating default.\n",
      "File /home/samsmu/Data/QBP/Tink/Cache/BBG000MZL2S9/CANDLE_INTERVAL_DAY.meta was not found. Creating default.\n"
     ]
    },
    {
     "name": "stdout",
     "output_type": "stream",
     "text": [
      "PMSB\n",
      "PMSBP\n"
     ]
    },
    {
     "name": "stderr",
     "output_type": "stream",
     "text": [
      "File /home/samsmu/Data/QBP/Tink/Cache/TCS00A103X66/CANDLE_INTERVAL_DAY.meta was not found. Creating default.\n",
      "File /home/samsmu/Data/QBP/Tink/Cache/TCS00A0JNXF9/CANDLE_INTERVAL_DAY.meta was not found. Creating default.\n"
     ]
    },
    {
     "name": "stdout",
     "output_type": "stream",
     "text": [
      "POSI\n",
      "PRFN\n"
     ]
    },
    {
     "name": "stderr",
     "output_type": "stream",
     "text": [
      "File /home/samsmu/Data/QBP/Tink/Cache/TCS30A108JF7/CANDLE_INTERVAL_DAY.meta was not found. Creating default.\n",
      "File /home/samsmu/Data/QBP/Tink/Cache/BBG005D1WCQ1/CANDLE_INTERVAL_DAY.meta was not found. Creating default.\n"
     ]
    },
    {
     "name": "stdout",
     "output_type": "stream",
     "text": [
      "PRMD\n",
      "QIWI\n"
     ]
    },
    {
     "name": "stderr",
     "output_type": "stream",
     "text": [
      "File /home/samsmu/Data/QBP/Tink/Cache/BBG004S68696/CANDLE_INTERVAL_DAY.meta was not found. Creating default.\n",
      "File /home/samsmu/Data/QBP/Tink/Cache/TCS00A0JR6A6/CANDLE_INTERVAL_DAY.meta was not found. Creating default.\n"
     ]
    },
    {
     "name": "stdout",
     "output_type": "stream",
     "text": [
      "RASP\n",
      "RBCM\n"
     ]
    },
    {
     "name": "stderr",
     "output_type": "stream",
     "text": [
      "File /home/samsmu/Data/QBP/Tink/Cache/BBG00QKJSX05/CANDLE_INTERVAL_DAY.meta was not found. Creating default.\n",
      "File /home/samsmu/Data/QBP/Tink/Cache/BBG000LWNRP3/CANDLE_INTERVAL_DAY.meta was not found. Creating default.\n"
     ]
    },
    {
     "name": "stdout",
     "output_type": "stream",
     "text": [
      "RENI\n",
      "RKKE\n"
     ]
    },
    {
     "name": "stderr",
     "output_type": "stream",
     "text": [
      "File /home/samsmu/Data/QBP/Tink/Cache/BBG00F9XX7H4/CANDLE_INTERVAL_DAY.meta was not found. Creating default.\n",
      "File /home/samsmu/Data/QBP/Tink/Cache/BBG004Z2RGW8/CANDLE_INTERVAL_DAY.meta was not found. Creating default.\n"
     ]
    },
    {
     "name": "stdout",
     "output_type": "stream",
     "text": [
      "RNFT\n",
      "ROLO\n"
     ]
    },
    {
     "name": "stderr",
     "output_type": "stream",
     "text": [
      "File /home/samsmu/Data/QBP/Tink/Cache/BBG004731354/CANDLE_INTERVAL_DAY.meta was not found. Creating default.\n",
      "File /home/samsmu/Data/QBP/Tink/Cache/BBG004S682Z6/CANDLE_INTERVAL_DAY.meta was not found. Creating default.\n"
     ]
    },
    {
     "name": "stdout",
     "output_type": "stream",
     "text": [
      "ROSN\n",
      "RTKM\n"
     ]
    },
    {
     "name": "stderr",
     "output_type": "stream",
     "text": [
      "File /home/samsmu/Data/QBP/Tink/Cache/BBG004S685M3/CANDLE_INTERVAL_DAY.meta was not found. Creating default.\n",
      "File /home/samsmu/Data/QBP/Tink/Cache/BBG008F2T3T2/CANDLE_INTERVAL_DAY.meta was not found. Creating default.\n"
     ]
    },
    {
     "name": "stdout",
     "output_type": "stream",
     "text": [
      "RTKMP\n",
      "RUAL\n"
     ]
    },
    {
     "name": "stderr",
     "output_type": "stream",
     "text": [
      "File /home/samsmu/Data/QBP/Tink/Cache/BBG004730N88/CANDLE_INTERVAL_DAY.meta was not found. Creating default.\n",
      "File /home/samsmu/Data/QBP/Tink/Cache/BBG0047315Y7/CANDLE_INTERVAL_DAY.meta was not found. Creating default.\n"
     ]
    },
    {
     "name": "stdout",
     "output_type": "stream",
     "text": [
      "SBER\n",
      "SBERP\n"
     ]
    },
    {
     "name": "stderr",
     "output_type": "stream",
     "text": [
      "File /home/samsmu/Data/QBP/Tink/Cache/BBG002458LF8/CANDLE_INTERVAL_DAY.meta was not found. Creating default.\n",
      "File /home/samsmu/Data/QBP/Tink/Cache/BBG003LYCMB1/CANDLE_INTERVAL_DAY.meta was not found. Creating default.\n"
     ]
    },
    {
     "name": "stdout",
     "output_type": "stream",
     "text": [
      "SELG\n",
      "SFIN\n"
     ]
    },
    {
     "name": "stderr",
     "output_type": "stream",
     "text": [
      "File /home/samsmu/Data/QBP/Tink/Cache/TCS5407L2079/CANDLE_INTERVAL_DAY.meta was not found. Creating default.\n",
      "File /home/samsmu/Data/QBP/Tink/Cache/BBG0100R9963/CANDLE_INTERVAL_DAY.meta was not found. Creating default.\n"
     ]
    },
    {
     "name": "stdout",
     "output_type": "stream",
     "text": [
      "SFTL\n",
      "SGZH\n"
     ]
    },
    {
     "name": "stderr",
     "output_type": "stream",
     "text": [
      "File /home/samsmu/Data/QBP/Tink/Cache/BBG004S684M6/CANDLE_INTERVAL_DAY.meta was not found. Creating default.\n",
      "File /home/samsmu/Data/QBP/Tink/Cache/TCS009086904/CANDLE_INTERVAL_DAY.meta was not found. Creating default.\n"
     ]
    },
    {
     "name": "stdout",
     "output_type": "stream",
     "text": [
      "SIBN\n",
      "SLAV\n"
     ]
    },
    {
     "name": "stderr",
     "output_type": "stream",
     "text": [
      "File /home/samsmu/Data/QBP/Tink/Cache/BBG00F6NKQX3/CANDLE_INTERVAL_DAY.meta was not found. Creating default.\n",
      "File /home/samsmu/Data/QBP/Tink/Cache/BBG0047315D0/CANDLE_INTERVAL_DAY.meta was not found. Creating default.\n"
     ]
    },
    {
     "name": "stdout",
     "output_type": "stream",
     "text": [
      "SMLT\n",
      "SNGS\n"
     ]
    },
    {
     "name": "stderr",
     "output_type": "stream",
     "text": [
      "File /home/samsmu/Data/QBP/Tink/Cache/BBG004S681M2/CANDLE_INTERVAL_DAY.meta was not found. Creating default.\n"
     ]
    },
    {
     "name": "stdout",
     "output_type": "stream",
     "text": [
      "SNGSP\n"
     ]
    },
    {
     "name": "stderr",
     "output_type": "stream",
     "text": [
      "File /home/samsmu/Data/QBP/Tink/Cache/TCS00A0ZZBC2/CANDLE_INTERVAL_DAY.meta was not found. Creating default.\n",
      "File /home/samsmu/Data/QBP/Tink/Cache/BBG002GHV6L9/CANDLE_INTERVAL_DAY.meta was not found. Creating default.\n"
     ]
    },
    {
     "name": "stdout",
     "output_type": "stream",
     "text": [
      "SOFL\n",
      "SPBE\n"
     ]
    },
    {
     "name": "stderr",
     "output_type": "stream",
     "text": [
      "File /home/samsmu/Data/QBP/Tink/Cache/BBG004S68JR8/CANDLE_INTERVAL_DAY.meta was not found. Creating default.\n",
      "File /home/samsmu/Data/QBP/Tink/Cache/TCS00A0ZZAC4/CANDLE_INTERVAL_DAY.meta was not found. Creating default.\n"
     ]
    },
    {
     "name": "stdout",
     "output_type": "stream",
     "text": [
      "SVAV\n",
      "SVCB\n"
     ]
    },
    {
     "name": "stderr",
     "output_type": "stream",
     "text": [
      "File /home/samsmu/Data/QBP/Tink/Cache/BBG004RVFFC0/CANDLE_INTERVAL_DAY.meta was not found. Creating default.\n",
      "File /home/samsmu/Data/QBP/Tink/Cache/BBG004S68829/CANDLE_INTERVAL_DAY.meta was not found. Creating default.\n"
     ]
    },
    {
     "name": "stdout",
     "output_type": "stream",
     "text": [
      "TATN\n",
      "TATNP\n"
     ]
    },
    {
     "name": "stderr",
     "output_type": "stream",
     "text": [
      "File /home/samsmu/Data/QBP/Tink/Cache/TCS00A107UL4/CANDLE_INTERVAL_DAY.meta was not found. Creating default.\n",
      "File /home/samsmu/Data/QBP/Tink/Cache/BBG000QFH687/CANDLE_INTERVAL_DAY.meta was not found. Creating default.\n"
     ]
    },
    {
     "name": "stdout",
     "output_type": "stream",
     "text": [
      "TCSG\n",
      "TGKA\n"
     ]
    },
    {
     "name": "stderr",
     "output_type": "stream",
     "text": [
      "File /home/samsmu/Data/QBP/Tink/Cache/BBG000Q7GG57/CANDLE_INTERVAL_DAY.meta was not found. Creating default.\n",
      "File /home/samsmu/Data/QBP/Tink/Cache/BBG000Q7GJ60/CANDLE_INTERVAL_DAY.meta was not found. Creating default.\n"
     ]
    },
    {
     "name": "stdout",
     "output_type": "stream",
     "text": [
      "TGKB\n",
      "TGKBP\n"
     ]
    },
    {
     "name": "stderr",
     "output_type": "stream",
     "text": [
      "File /home/samsmu/Data/QBP/Tink/Cache/TCS00A0F61T7/CANDLE_INTERVAL_DAY.meta was not found. Creating default.\n",
      "File /home/samsmu/Data/QBP/Tink/Cache/BBG000RG4ZQ4/CANDLE_INTERVAL_DAY.meta was not found. Creating default.\n"
     ]
    },
    {
     "name": "stdout",
     "output_type": "stream",
     "text": [
      "TGKJ\n",
      "TGKN\n"
     ]
    },
    {
     "name": "stderr",
     "output_type": "stream",
     "text": [
      "File /home/samsmu/Data/QBP/Tink/Cache/BBG004TC84Z8/CANDLE_INTERVAL_DAY.meta was not found. Creating default.\n",
      "File /home/samsmu/Data/QBP/Tink/Cache/BBG00475KHX6/CANDLE_INTERVAL_DAY.meta was not found. Creating default.\n"
     ]
    },
    {
     "name": "stdout",
     "output_type": "stream",
     "text": [
      "TRMK\n",
      "TRNFP\n"
     ]
    },
    {
     "name": "stderr",
     "output_type": "stream",
     "text": [
      "File /home/samsmu/Data/QBP/Tink/Cache/BBG000RJL816/CANDLE_INTERVAL_DAY.meta was not found. Creating default.\n",
      "File /home/samsmu/Data/QBP/Tink/Cache/TCS009046502/CANDLE_INTERVAL_DAY.meta was not found. Creating default.\n"
     ]
    },
    {
     "name": "stdout",
     "output_type": "stream",
     "text": [
      "TTLK\n",
      "UDMN\n"
     ]
    },
    {
     "name": "stderr",
     "output_type": "stream",
     "text": [
      "File /home/samsmu/Data/QBP/Tink/Cache/TCS009102396/CANDLE_INTERVAL_DAY.meta was not found. Creating default.\n",
      "File /home/samsmu/Data/QBP/Tink/Cache/TCS00A0JPP37/CANDLE_INTERVAL_DAY.meta was not found. Creating default.\n"
     ]
    },
    {
     "name": "stdout",
     "output_type": "stream",
     "text": [
      "UFOSP\n",
      "UGLD\n"
     ]
    },
    {
     "name": "stderr",
     "output_type": "stream",
     "text": [
      "File /home/samsmu/Data/QBP/Tink/Cache/BBG000Q7ZZY2/CANDLE_INTERVAL_DAY.meta was not found. Creating default.\n",
      "File /home/samsmu/Data/QBP/Tink/Cache/BBG002YFXL29/CANDLE_INTERVAL_DAY.meta was not found. Creating default.\n"
     ]
    },
    {
     "name": "stdout",
     "output_type": "stream",
     "text": [
      "UNAC\n",
      "UNKL\n"
     ]
    },
    {
     "name": "stderr",
     "output_type": "stream",
     "text": [
      "File /home/samsmu/Data/QBP/Tink/Cache/BBG004S686W0/CANDLE_INTERVAL_DAY.meta was not found. Creating default.\n",
      "File /home/samsmu/Data/QBP/Tink/Cache/BBG008HD3V85/CANDLE_INTERVAL_DAY.meta was not found. Creating default.\n"
     ]
    },
    {
     "name": "stdout",
     "output_type": "stream",
     "text": [
      "UPRO\n",
      "UWGN\n"
     ]
    },
    {
     "name": "stderr",
     "output_type": "stream",
     "text": [
      "File /home/samsmu/Data/QBP/Tink/Cache/BBG00R4Z2NT4/CANDLE_INTERVAL_DAY.meta was not found. Creating default.\n",
      "File /home/samsmu/Data/QBP/Tink/Cache/TCS00A106YF0/CANDLE_INTERVAL_DAY.meta was not found. Creating default.\n"
     ]
    },
    {
     "name": "stdout",
     "output_type": "stream",
     "text": [
      "VEON-RX\n",
      "VKCO\n"
     ]
    },
    {
     "name": "stderr",
     "output_type": "stream",
     "text": [
      "File /home/samsmu/Data/QBP/Tink/Cache/BBG000BX7DH0/CANDLE_INTERVAL_DAY.meta was not found. Creating default.\n",
      "File /home/samsmu/Data/QBP/Tink/Cache/TCS10A108K09/CANDLE_INTERVAL_DAY.meta was not found. Creating default.\n"
     ]
    },
    {
     "name": "stdout",
     "output_type": "stream",
     "text": [
      "VRSB\n",
      "VSEH\n"
     ]
    },
    {
     "name": "stderr",
     "output_type": "stream",
     "text": [
      "File /home/samsmu/Data/QBP/Tink/Cache/BBG004S68CV8/CANDLE_INTERVAL_DAY.meta was not found. Creating default.\n",
      "File /home/samsmu/Data/QBP/Tink/Cache/BBG004730ZJ9/CANDLE_INTERVAL_DAY.meta was not found. Creating default.\n"
     ]
    },
    {
     "name": "stdout",
     "output_type": "stream",
     "text": [
      "VSMO\n",
      "VTBR\n"
     ]
    },
    {
     "name": "stderr",
     "output_type": "stream",
     "text": [
      "File /home/samsmu/Data/QBP/Tink/Cache/TCS00A105EX7/CANDLE_INTERVAL_DAY.meta was not found. Creating default.\n",
      "File /home/samsmu/Data/QBP/Tink/Cache/BBG002B298N6/CANDLE_INTERVAL_DAY.meta was not found. Creating default.\n"
     ]
    },
    {
     "name": "stdout",
     "output_type": "stream",
     "text": [
      "WUSH\n",
      "YAKG\n"
     ]
    },
    {
     "name": "stderr",
     "output_type": "stream",
     "text": [
      "File /home/samsmu/Data/QBP/Tink/Cache/TCS00A107T19/CANDLE_INTERVAL_DAY.meta was not found. Creating default.\n",
      "File /home/samsmu/Data/QBP/Tink/Cache/TCS00A107RM8/CANDLE_INTERVAL_DAY.meta was not found. Creating default.\n"
     ]
    },
    {
     "name": "stdout",
     "output_type": "stream",
     "text": [
      "YDEX\n",
      "ZAYM\n"
     ]
    },
    {
     "name": "stderr",
     "output_type": "stream",
     "text": [
      "File /home/samsmu/Data/QBP/Tink/Cache/BBG000QFB4J6/CANDLE_INTERVAL_DAY.meta was not found. Creating default.\n"
     ]
    },
    {
     "name": "stdout",
     "output_type": "stream",
     "text": [
      "ZILLP\n"
     ]
    }
   ],
   "source": [
    "from dataload import ReadData\n",
    "\n",
    "data_reader = ReadData(SandboxClient, token)\n",
    "data_reader.read_id_base()\n",
    "data_reader.read_candles( 20)\n",
    "data_reader.to_df()\n",
    "data_reader.save('portfolio_prices.csv')"
   ]
  },
  {
   "cell_type": "markdown",
   "metadata": {
    "tags": []
   },
   "source": [
    "## Tinkoff sandbox"
   ]
  },
  {
   "cell_type": "markdown",
   "metadata": {
    "tags": []
   },
   "source": [
    "#### Открываем новый счет"
   ]
  },
  {
   "cell_type": "code",
   "execution_count": 6,
   "metadata": {
    "tags": []
   },
   "outputs": [],
   "source": [
    "logging.basicConfig(format=\"%(asctime)s %(levelname)s:%(message)s\", level=logging.DEBUG)\n",
    "logger = logging.getLogger(__name__)"
   ]
  },
  {
   "cell_type": "code",
   "execution_count": 7,
   "metadata": {
    "tags": []
   },
   "outputs": [
    {
     "name": "stderr",
     "output_type": "stream",
     "text": [
      "2024-11-07 10:30:25,995 INFO:114873b65cc621205f52446b90c32fab GetInfo\n",
      "2024-11-07 10:30:26,196 INFO:44f642daf692738c4993d7aa4e05e27a GetAccounts\n",
      "2024-11-07 10:30:26,240 INFO:5cbaac0e21333799fac1f6ab8d25a0aa OpenSandboxAccount\n"
     ]
    },
    {
     "name": "stdout",
     "output_type": "stream",
     "text": [
      "GetAccountsResponse(accounts=[])\n",
      "6543ea6e-d49e-4e2b-9b95-793fb48f4c6a\n"
     ]
    }
   ],
   "source": [
    "from tinkoff.invest.sandbox.client import SandboxClient\n",
    "\n",
    "\"\"\"Example - How to set/get balance for sandbox account.\n",
    "How to get/close all sandbox accounts.\n",
    "How to open new sandbox account.\"\"\"\n",
    "with SandboxClient(token) as client:\n",
    "    try:\n",
    "        client.users.get_info()\n",
    "        connect = True\n",
    "    except:\n",
    "        print(\"Ошибка подключения!\")\n",
    "        connect = False\n",
    "\n",
    "if connect:\n",
    "    with SandboxClient(token) as client:\n",
    "        # get all sandbox accounts\n",
    "        sandbox_accounts = client.users.get_accounts()\n",
    "        print(sandbox_accounts)\n",
    "    \n",
    "        # close all sandbox accounts\n",
    "        for sandbox_account in sandbox_accounts.accounts:\n",
    "            client.sandbox.close_sandbox_account(account_id=sandbox_account.id)\n",
    "    \n",
    "        # open new sandbox account\n",
    "        sandbox_account = client.sandbox.open_sandbox_account()\n",
    "        print(sandbox_account.account_id)\n",
    "    \n",
    "        account_id = sandbox_account.account_id"
   ]
  },
  {
   "cell_type": "code",
   "execution_count": null,
   "metadata": {},
   "outputs": [],
   "source": []
  },
  {
   "cell_type": "markdown",
   "metadata": {},
   "source": [
    "#### Add money to Account"
   ]
  },
  {
   "cell_type": "code",
   "execution_count": 8,
   "metadata": {
    "tags": []
   },
   "outputs": [
    {
     "name": "stderr",
     "output_type": "stream",
     "text": [
      "2024-11-07 10:30:37,830 INFO:8a8a97a0e35decf66098cd9a7a0f04a7 SandboxPayIn\n",
      "2024-11-07 10:30:37,867 INFO:54ca5f63a47b7f239d4c5700daa40592 GetPositions\n",
      "2024-11-07 10:30:37,869 INFO:positions: PositionsResponse(money=[MoneyValue(currency='rub', units=1000000, nano=0)], blocked=[MoneyValue(currency='rub', units=0, nano=0)], securities=[], limits_loading_in_progress=False, futures=[], options=[])\n",
      "2024-11-07 10:30:37,914 INFO:844efd1198f30a760421efd64882722a GetPositions\n"
     ]
    },
    {
     "name": "stdout",
     "output_type": "stream",
     "text": [
      "SandboxPayInResponse(balance=MoneyValue(currency='rub', units=1000000, nano=0))\n",
      "money:  1000000.0\n"
     ]
    }
   ],
   "source": [
    "from tinkoff.invest.utils import decimal_to_quotation, quotation_to_decimal\n",
    "\n",
    "def add_money_sandbox(client, account_id, money, currency=\"rub\"):\n",
    "    \"\"\"Function to add money to sandbox account.\"\"\"\n",
    "    money = decimal_to_quotation(Decimal(money))\n",
    "    return client.sandbox.sandbox_pay_in(\n",
    "        account_id=account_id,\n",
    "        amount=MoneyValue(units=money.units, nano=money.nano, currency=currency),\n",
    "    )\n",
    "\n",
    "with SandboxClient(token) as client:\n",
    "      # add initial 1 000 000 to sandbox account\n",
    "        print(add_money_sandbox(client=client, account_id=account_id, money=1000000))\n",
    "        logger.info(\n",
    "            \"positions: %s\", client.operations.get_positions(account_id=account_id)\n",
    "        )\n",
    "        print(\n",
    "            \"money: \",\n",
    "            float(\n",
    "                quotation_to_decimal(\n",
    "                    client.operations.get_positions(account_id=account_id).money[0]\n",
    "                )\n",
    "            ),\n",
    "        )"
   ]
  },
  {
   "cell_type": "markdown",
   "metadata": {
    "tags": []
   },
   "source": [
    "#### Покупаем базовый портфель"
   ]
  },
  {
   "cell_type": "code",
   "execution_count": 8,
   "metadata": {
    "tags": []
   },
   "outputs": [
    {
     "name": "stderr",
     "output_type": "stream",
     "text": [
      "2024-11-06 10:43:33,699 INFO:6ae303b28265f8d54d94b5bafdbbdcb1 Shares\n",
      "2024-11-06 10:43:34,326 INFO:254a3ea47092bf3ba73bd9ab4f2ccac2 Currencies\n",
      "2024-11-06 10:43:34,486 INFO:6e810a70f8233a05c52b1ac0ba907717 Futures\n",
      "2024-11-06 10:43:34,913 INFO:2951033180deb7cb52c8b8e66fd93ef3 Bonds\n"
     ]
    }
   ],
   "source": [
    "client = SandboxClient(token)\n",
    "base = tink.get_id_base(client)"
   ]
  },
  {
   "cell_type": "code",
   "execution_count": 9,
   "metadata": {},
   "outputs": [
    {
     "data": {
      "text/html": [
       "<div>\n",
       "<style scoped>\n",
       "    .dataframe tbody tr th:only-of-type {\n",
       "        vertical-align: middle;\n",
       "    }\n",
       "\n",
       "    .dataframe tbody tr th {\n",
       "        vertical-align: top;\n",
       "    }\n",
       "\n",
       "    .dataframe thead th {\n",
       "        text-align: right;\n",
       "    }\n",
       "</style>\n",
       "<table border=\"1\" class=\"dataframe\">\n",
       "  <thead>\n",
       "    <tr style=\"text-align: right;\">\n",
       "      <th></th>\n",
       "      <th>ticker</th>\n",
       "      <th>figi</th>\n",
       "      <th>type</th>\n",
       "      <th>name</th>\n",
       "      <th>cur</th>\n",
       "      <th>lot</th>\n",
       "    </tr>\n",
       "  </thead>\n",
       "  <tbody>\n",
       "    <tr>\n",
       "      <th>0</th>\n",
       "      <td>CNX</td>\n",
       "      <td>BBG000CKVSG8</td>\n",
       "      <td>shares</td>\n",
       "      <td>CNX Resources Corporation</td>\n",
       "      <td>usd</td>\n",
       "      <td>1</td>\n",
       "    </tr>\n",
       "    <tr>\n",
       "      <th>1</th>\n",
       "      <td>SLM</td>\n",
       "      <td>BBG000BBCQD7</td>\n",
       "      <td>shares</td>\n",
       "      <td>SLM Corp</td>\n",
       "      <td>usd</td>\n",
       "      <td>1</td>\n",
       "    </tr>\n",
       "    <tr>\n",
       "      <th>2</th>\n",
       "      <td>ACLS</td>\n",
       "      <td>BBG000DW34S2</td>\n",
       "      <td>shares</td>\n",
       "      <td>Axcelis Technologies</td>\n",
       "      <td>usd</td>\n",
       "      <td>1</td>\n",
       "    </tr>\n",
       "    <tr>\n",
       "      <th>3</th>\n",
       "      <td>AMPH</td>\n",
       "      <td>BBG000BW90S6</td>\n",
       "      <td>shares</td>\n",
       "      <td>Amphastar Pharmaceuticals</td>\n",
       "      <td>usd</td>\n",
       "      <td>1</td>\n",
       "    </tr>\n",
       "    <tr>\n",
       "      <th>4</th>\n",
       "      <td>RELY</td>\n",
       "      <td>BBG012C7JST2</td>\n",
       "      <td>shares</td>\n",
       "      <td>Remitly Global</td>\n",
       "      <td>usd</td>\n",
       "      <td>1</td>\n",
       "    </tr>\n",
       "    <tr>\n",
       "      <th>...</th>\n",
       "      <td>...</td>\n",
       "      <td>...</td>\n",
       "      <td>...</td>\n",
       "      <td>...</td>\n",
       "      <td>...</td>\n",
       "      <td>...</td>\n",
       "    </tr>\n",
       "    <tr>\n",
       "      <th>3480</th>\n",
       "      <td>RU000A103VD8</td>\n",
       "      <td>BBG012YS2TP2</td>\n",
       "      <td>bonds</td>\n",
       "      <td>МСБ-Лизинг 002P выпуск 5</td>\n",
       "      <td>rub</td>\n",
       "      <td>1</td>\n",
       "    </tr>\n",
       "    <tr>\n",
       "      <th>3481</th>\n",
       "      <td>RU000A105HJ9</td>\n",
       "      <td>TCS00A105HJ9</td>\n",
       "      <td>bonds</td>\n",
       "      <td>Альфа-Банк 002Р-18</td>\n",
       "      <td>rub</td>\n",
       "      <td>1</td>\n",
       "    </tr>\n",
       "    <tr>\n",
       "      <th>3482</th>\n",
       "      <td>RU000A101L96</td>\n",
       "      <td>BBG00T7HZJG4</td>\n",
       "      <td>bonds</td>\n",
       "      <td>ЕвроХим выпуск 7</td>\n",
       "      <td>rub</td>\n",
       "      <td>1</td>\n",
       "    </tr>\n",
       "    <tr>\n",
       "      <th>3483</th>\n",
       "      <td>RU000A104735</td>\n",
       "      <td>TCS00A104735</td>\n",
       "      <td>bonds</td>\n",
       "      <td>ГК Пионер-001P выпуск 6</td>\n",
       "      <td>rub</td>\n",
       "      <td>1</td>\n",
       "    </tr>\n",
       "    <tr>\n",
       "      <th>3484</th>\n",
       "      <td>RU000A0ZYG52</td>\n",
       "      <td>BBG00J7HHGH1</td>\n",
       "      <td>bonds</td>\n",
       "      <td>Ростелеком выпуск 3</td>\n",
       "      <td>rub</td>\n",
       "      <td>1</td>\n",
       "    </tr>\n",
       "  </tbody>\n",
       "</table>\n",
       "<p>3485 rows × 6 columns</p>\n",
       "</div>"
      ],
      "text/plain": [
       "            ticker          figi    type                       name  cur  lot\n",
       "0              CNX  BBG000CKVSG8  shares  CNX Resources Corporation  usd    1\n",
       "1              SLM  BBG000BBCQD7  shares                   SLM Corp  usd    1\n",
       "2             ACLS  BBG000DW34S2  shares       Axcelis Technologies  usd    1\n",
       "3             AMPH  BBG000BW90S6  shares  Amphastar Pharmaceuticals  usd    1\n",
       "4             RELY  BBG012C7JST2  shares             Remitly Global  usd    1\n",
       "...            ...           ...     ...                        ...  ...  ...\n",
       "3480  RU000A103VD8  BBG012YS2TP2   bonds   МСБ-Лизинг 002P выпуск 5  rub    1\n",
       "3481  RU000A105HJ9  TCS00A105HJ9   bonds         Альфа-Банк 002Р-18  rub    1\n",
       "3482  RU000A101L96  BBG00T7HZJG4   bonds           ЕвроХим выпуск 7  rub    1\n",
       "3483  RU000A104735  TCS00A104735   bonds    ГК Пионер-001P выпуск 6  rub    1\n",
       "3484  RU000A0ZYG52  BBG00J7HHGH1   bonds        Ростелеком выпуск 3  rub    1\n",
       "\n",
       "[3485 rows x 6 columns]"
      ]
     },
     "execution_count": 9,
     "metadata": {},
     "output_type": "execute_result"
    }
   ],
   "source": [
    "base"
   ]
  },
  {
   "cell_type": "code",
   "execution_count": 10,
   "metadata": {
    "tags": []
   },
   "outputs": [
    {
     "name": "stdout",
     "output_type": "stream",
     "text": [
      "BBG004730ZJ9\n",
      "TCS00A103X66\n",
      "BBG004S682Z6\n",
      "BBG000FWGSZ5\n"
     ]
    }
   ],
   "source": [
    "# BBG004730ZJ9 - VTBR / BBG004730N88 - SBER\n",
    "portfolio = {'VTBR':10, 'POSI':20, 'RTKM':30, 'IRKT':20}\n",
    "\n",
    "for asset in portfolio:\n",
    "    figi = tink.ticker_to_figi(asset, base)\n",
    "    print(figi)\n",
    "    "
   ]
  },
  {
   "cell_type": "code",
   "execution_count": 7,
   "metadata": {
    "tags": []
   },
   "outputs": [],
   "source": [
    "base[base.lot > 1];"
   ]
  },
  {
   "cell_type": "code",
   "execution_count": 11,
   "metadata": {
    "tags": []
   },
   "outputs": [
    {
     "name": "stderr",
     "output_type": "stream",
     "text": [
      "2024-11-06 10:45:50,151 INFO:9dbf5fb8fc8e7273812a411ccf65b384 PostOrder\n"
     ]
    },
    {
     "name": "stdout",
     "output_type": "stream",
     "text": [
      "VTBR\n",
      "POSI\n"
     ]
    },
    {
     "name": "stderr",
     "output_type": "stream",
     "text": [
      "2024-11-06 10:45:50,254 INFO:0f12a72eae072562571721432270bcb0 PostOrder\n",
      "2024-11-06 10:45:50,329 INFO:901a75769335c44f67bc6ab13e3ae52e PostOrder\n",
      "2024-11-06 10:45:50,434 INFO:08fb0ed4b14fcc5b701567f4893faafc PostOrder\n"
     ]
    },
    {
     "name": "stdout",
     "output_type": "stream",
     "text": [
      "RTKM\n",
      "IRKT\n"
     ]
    }
   ],
   "source": [
    "from tinkoff.invest import OrderDirection, OrderType\n",
    "\n",
    "\n",
    "with SandboxClient(token) as client:\n",
    "    for asset in portfolio:\n",
    "        print(asset)\n",
    "        figi = tink.ticker_to_figi(asset, base)\n",
    "        qty = portfolio[asset]\n",
    "        resp = client.orders.post_order(figi=figi,\n",
    "                    quantity=qty,\n",
    "                    direction=OrderDirection.ORDER_DIRECTION_BUY,\n",
    "                    account_id=account_id,\n",
    "                    order_type=OrderType.ORDER_TYPE_MARKET,)"
   ]
  },
  {
   "cell_type": "code",
   "execution_count": 14,
   "metadata": {},
   "outputs": [
    {
     "name": "stderr",
     "output_type": "stream",
     "text": [
      "2024-11-06 10:47:08,087 INFO:f8fb4de35464cc5dbc238639aec292a4 GetAccounts\n",
      "2024-11-06 10:47:08,221 INFO:614c49e8590f0b181f6a2843c31f2d7c GetPortfolio\n"
     ]
    },
    {
     "data": {
      "text/plain": [
       "PortfolioResponse(total_amount_shares=MoneyValue(currency='rub', units=126844, nano=800000000), total_amount_bonds=MoneyValue(currency='rub', units=0, nano=0), total_amount_etf=MoneyValue(currency='rub', units=0, nano=0), total_amount_currencies=MoneyValue(currency='rub', units=1873021, nano=242350000), total_amount_futures=MoneyValue(currency='rub', units=0, nano=0), expected_yield=Quotation(units=-1, nano=993300000), positions=[PortfolioPosition(figi='RUB000UTSTOM', instrument_type='currency', quantity=Quotation(units=1873021, nano=242350000), average_position_price=MoneyValue(currency='', units=0, nano=0), expected_yield=Quotation(units=0, nano=0), current_nkd=MoneyValue(currency='', units=0, nano=0), average_position_price_pt=Quotation(units=0, nano=0), current_price=MoneyValue(currency='', units=0, nano=0), average_position_price_fifo=MoneyValue(currency='', units=0, nano=0), quantity_lots=Quotation(units=1873021, nano=242350000), blocked=False, blocked_lots=Quotation(units=0, nano=0), position_uid='33e24a92-aab0-409c-88b8-f2d57415b920', instrument_uid='a92e2e25-a698-45cc-a781-167cf465257c', var_margin=MoneyValue(currency='', units=0, nano=0), expected_yield_fifo=Quotation(units=0, nano=0)), PortfolioPosition(figi='BBG004S682Z6', instrument_type='share', quantity=Quotation(units=300, nano=0), average_position_price=MoneyValue(currency='rub', units=63, nano=200000000), expected_yield=Quotation(units=0, nano=0), current_nkd=MoneyValue(currency='', units=0, nano=0), average_position_price_pt=Quotation(units=0, nano=0), current_price=MoneyValue(currency='rub', units=63, nano=310000000), average_position_price_fifo=MoneyValue(currency='rub', units=63, nano=200000000), quantity_lots=Quotation(units=30, nano=0), blocked=False, blocked_lots=Quotation(units=0, nano=0), position_uid='fe4d90a1-c6e9-478f-a1de-dbab19e29390', instrument_uid='02eda274-10c4-4815-8e02-a8ee7eaf485b', var_margin=MoneyValue(currency='', units=0, nano=0), expected_yield_fifo=Quotation(units=0, nano=0)), PortfolioPosition(figi='BBG004730ZJ9', instrument_type='share', quantity=Quotation(units=10, nano=0), average_position_price=MoneyValue(currency='rub', units=78, nano=730000000), expected_yield=Quotation(units=0, nano=0), current_nkd=MoneyValue(currency='', units=0, nano=0), average_position_price_pt=Quotation(units=0, nano=0), current_price=MoneyValue(currency='rub', units=78, nano=780000000), average_position_price_fifo=MoneyValue(currency='rub', units=78, nano=730000000), quantity_lots=Quotation(units=10, nano=0), blocked=False, blocked_lots=Quotation(units=0, nano=0), position_uid='626d2ab0-3359-4d2d-8366-daedd2a0d000', instrument_uid='8e2b0325-0292-4654-8a18-4f63ed3b0e09', var_margin=MoneyValue(currency='', units=0, nano=0), expected_yield_fifo=Quotation(units=0, nano=0)), PortfolioPosition(figi='BBG000FWGSZ5', instrument_type='share', quantity=Quotation(units=2000, nano=0), average_position_price=MoneyValue(currency='rub', units=29, nano=850000000), expected_yield=Quotation(units=0, nano=0), current_nkd=MoneyValue(currency='', units=0, nano=0), average_position_price_pt=Quotation(units=0, nano=0), current_price=MoneyValue(currency='rub', units=29, nano=850000000), average_position_price_fifo=MoneyValue(currency='rub', units=29, nano=850000000), quantity_lots=Quotation(units=20, nano=0), blocked=False, blocked_lots=Quotation(units=0, nano=0), position_uid='1a583ddf-b4af-426b-890f-2749767a8379', instrument_uid='cfb50a23-2465-497e-bc7e-e4f0e042cf3d', var_margin=MoneyValue(currency='', units=0, nano=0), expected_yield_fifo=Quotation(units=0, nano=0)), PortfolioPosition(figi='TCS00A103X66', instrument_type='share', quantity=Quotation(units=20, nano=0), average_position_price=MoneyValue(currency='rub', units=2373, nano=400000000), expected_yield=Quotation(units=0, nano=0), current_nkd=MoneyValue(currency='', units=0, nano=0), average_position_price_pt=Quotation(units=0, nano=0), current_price=MoneyValue(currency='rub', units=2368, nano=200000000), average_position_price_fifo=MoneyValue(currency='rub', units=2373, nano=400000000), quantity_lots=Quotation(units=20, nano=0), blocked=False, blocked_lots=Quotation(units=0, nano=0), position_uid='5a1bbbeb-8616-49c4-9752-d06be058f90b', instrument_uid='de08affe-4fbd-454e-9fd1-46a81b23f870', var_margin=MoneyValue(currency='', units=0, nano=0), expected_yield_fifo=Quotation(units=0, nano=0))], account_id='8dce5835-bb94-4ac1-a83e-72b56651124c', total_amount_options=MoneyValue(currency='rub', units=0, nano=0), total_amount_sp=MoneyValue(currency='rub', units=0, nano=0), total_amount_portfolio=MoneyValue(currency='rub', units=1999866, nano=42350000), virtual_positions=[])"
      ]
     },
     "execution_count": 14,
     "metadata": {},
     "output_type": "execute_result"
    }
   ],
   "source": [
    "port = tink.TinkSession(SandboxClient, token)\n",
    "\n",
    "port.get_portfolio()"
   ]
  },
  {
   "cell_type": "markdown",
   "metadata": {},
   "source": [
    "### Account Operations"
   ]
  },
  {
   "cell_type": "code",
   "execution_count": null,
   "metadata": {
    "tags": []
   },
   "outputs": [],
   "source": [
    "with SandboxClient(token) as client:\n",
    "    logger.info(\"orders: %s\", client.orders.get_orders(account_id=account_id))\n",
    "    logger.info(\n",
    "        \"positions: %s\", client.operations.get_positions(account_id=account_id)\n",
    "    )\n",
    "    logger.info(\n",
    "        \"portfolio: %s\", client.operations.get_portfolio(account_id=account_id)\n",
    "    )\n",
    "    logger.info(\n",
    "        \"operations: %s\",\n",
    "        client.operations.get_operations(\n",
    "            account_id=account_id,\n",
    "            from_=datetime(2023, 1, 1),\n",
    "            to=datetime(2023, 2, 5),\n",
    "        ),\n",
    "    )\n",
    "    logger.info(\n",
    "        \"withdraw_limits: %s\",\n",
    "        client.operations.get_withdraw_limits(account_id=account_id),\n",
    "    )"
   ]
  },
  {
   "cell_type": "markdown",
   "metadata": {},
   "source": [
    "### Закрытие аккаунта"
   ]
  },
  {
   "cell_type": "code",
   "execution_count": 16,
   "metadata": {
    "tags": []
   },
   "outputs": [
    {
     "name": "stderr",
     "output_type": "stream",
     "text": [
      "2024-11-06 10:49:58,513 INFO:47cc592c526112097af07aae7ea65a54 SandboxPayIn\n",
      "2024-11-06 10:49:58,550 INFO:5f9a7b6676a8ddd78a424b6fe7b40e32 GetPositions\n",
      "2024-11-06 10:49:58,553 INFO:positions: PositionsResponse(money=[MoneyValue(currency='rub', units=3873021, nano=240000000)], blocked=[MoneyValue(currency='rub', units=0, nano=0)], securities=[PositionsSecurities(figi='BBG004S682Z6', blocked=0, balance=300, position_uid='fe4d90a1-c6e9-478f-a1de-dbab19e29390', instrument_uid='02eda274-10c4-4815-8e02-a8ee7eaf485b', exchange_blocked=False, instrument_type='share'), PositionsSecurities(figi='BBG004730ZJ9', blocked=0, balance=10, position_uid='626d2ab0-3359-4d2d-8366-daedd2a0d000', instrument_uid='8e2b0325-0292-4654-8a18-4f63ed3b0e09', exchange_blocked=False, instrument_type='share'), PositionsSecurities(figi='BBG000FWGSZ5', blocked=0, balance=2000, position_uid='1a583ddf-b4af-426b-890f-2749767a8379', instrument_uid='cfb50a23-2465-497e-bc7e-e4f0e042cf3d', exchange_blocked=False, instrument_type='share'), PositionsSecurities(figi='TCS00A103X66', blocked=0, balance=20, position_uid='5a1bbbeb-8616-49c4-9752-d06be058f90b', instrument_uid='de08affe-4fbd-454e-9fd1-46a81b23f870', exchange_blocked=False, instrument_type='share')], limits_loading_in_progress=False, futures=[], options=[])\n",
      "2024-11-06 10:49:58,590 INFO:18d86486875e8fea0af4dfd1fdbf5607 CloseSandboxAccount\n"
     ]
    },
    {
     "name": "stdout",
     "output_type": "stream",
     "text": [
      "SandboxPayInResponse(balance=MoneyValue(currency='rub', units=3873021, nano=240000000))\n",
      "CloseSandboxAccountResponse()\n"
     ]
    }
   ],
   "source": [
    "with SandboxClient(token) as client:        \n",
    "        # add + 2 000 000 to sandbox account, total is 4 000 000\n",
    "        print(add_money_sandbox(client=client, account_id=account_id, money=2000000))\n",
    "        logger.info(\n",
    "            \"positions: %s\", client.operations.get_positions(account_id=account_id)\n",
    "        )\n",
    "\n",
    "        # close new sandbox account\n",
    "        sandbox_account = client.sandbox.close_sandbox_account(\n",
    "            account_id=sandbox_account.account_id\n",
    "        )\n",
    "        print(sandbox_account)\n"
   ]
  },
  {
   "cell_type": "markdown",
   "metadata": {},
   "source": [
    "### Get order price"
   ]
  },
  {
   "cell_type": "code",
   "execution_count": null,
   "metadata": {
    "tags": []
   },
   "outputs": [],
   "source": [
    "\n",
    "import logging\n",
    "import os\n",
    "from decimal import Decimal\n",
    "\n",
    "from tinkoff.invest import Client, GetOrderPriceRequest, OrderDirection\n",
    "from tinkoff.invest.utils import decimal_to_quotation\n",
    "\n",
    "TOKEN = TOKEN1\n",
    "\n",
    "logger = logging.getLogger(__name__)\n",
    "logging.basicConfig(level=logging.INFO)\n",
    "\n",
    "\n",
    "INSTRUMENT_ID = \"TCS00A105GE2\"\n",
    "QUANTITY = 1\n",
    "PRICE = 230.1\n",
    "\n",
    "\n",
    "\n",
    "logger.info(\"Getting Max Lots\")\n",
    "with SandboxClient(TOKEN) as client:\n",
    " #   response = client.users.get_accounts()\n",
    " #   account, *_ = response.accounts\n",
    " #   account_id = account.id\n",
    "\n",
    "    logger.info(\n",
    "        \"Get pre-trade order commission and price for instrument=%s, quantity=%s and price=%s\",\n",
    "        INSTRUMENT_ID,\n",
    "        QUANTITY,\n",
    "        PRICE,\n",
    "    )\n",
    "    get_order_price = client.orders.get_order_price(\n",
    "        GetOrderPriceRequest(\n",
    "            account_id=account_id,\n",
    "            instrument_id=INSTRUMENT_ID,\n",
    "            quantity=QUANTITY,\n",
    "            direction=OrderDirection.ORDER_DIRECTION_BUY,\n",
    "            price=decimal_to_quotation(Decimal(PRICE)),\n",
    "        )\n",
    "    )\n",
    "\n",
    "print(get_order_price)\n"
   ]
  },
  {
   "cell_type": "code",
   "execution_count": 41,
   "metadata": {
    "tags": []
   },
   "outputs": [
    {
     "data": {
      "text/plain": [
       "'9da21a29-1529-4b06-8e5f-7d88cca949c3'"
      ]
     },
     "execution_count": 41,
     "metadata": {},
     "output_type": "execute_result"
    }
   ],
   "source": [
    "account_id"
   ]
  },
  {
   "cell_type": "code",
   "execution_count": null,
   "metadata": {
    "tags": []
   },
   "outputs": [],
   "source": [
    "import logging\n",
    "import os\n",
    "from decimal import Decimal\n",
    "\n",
    "from tinkoff.invest import (\n",
    "    Client,\n",
    "    InstrumentIdType,\n",
    "    StopOrderDirection,\n",
    "    StopOrderExpirationType,\n",
    "    StopOrderType,\n",
    ")\n",
    "from tinkoff.invest.exceptions import InvestError\n",
    "from tinkoff.invest.utils import decimal_to_quotation, quotation_to_decimal\n",
    "\n",
    "with SandboxClient(TOKEN) as client:\n",
    "#    response = client.users.get_accounts()\n",
    "#    account, *_ = response.accounts\n",
    "#    account_id = account.id\n",
    "    logger.info(\"Orders: %s\", client.orders.get_orders(account_id=account_id))\n",
    "\n",
    "    figi = \"BBG004730ZJ9\"  # BBG004730ZJ9 - VTBR / BBG004730N88 - SBER\n",
    "\n",
    "    # getting the last price for instrument\n",
    "    last_price = (\n",
    "        client.market_data.get_last_prices(figi=[figi]).last_prices[0].price\n",
    "    )\n",
    "    last_price = quotation_to_decimal(last_price)\n",
    "    print(f\"figi, last price = {last_price}\")\n",
    "\n",
    "    # setting the percentage by which the takeprofit stop order\n",
    "    # should be set below the last price\n",
    "    percent_down = 5\n",
    "\n",
    "    # calculation of the price for takeprofit stop order\n",
    "    calculated_price = last_price - last_price * Decimal(percent_down / 100)\n",
    "    print(f\"calculated_price = {calculated_price}\")\n",
    "\n",
    "    # getting the min price increment and the number of digits after point\n",
    "    min_price_increment = client.instruments.get_instrument_by(\n",
    "        id_type=InstrumentIdType.INSTRUMENT_ID_TYPE_FIGI, id=figi\n",
    "    ).instrument.min_price_increment\n",
    "    number_digits_after_point = 9 - len(str(min_price_increment.nano)) + 1\n",
    "    min_price_increment = quotation_to_decimal(min_price_increment)\n",
    "    print(\n",
    "        f\"min_price_increment = {min_price_increment}, \"\n",
    "        f\"number_digits_after_point={number_digits_after_point}\"\n",
    "    )\n",
    "\n",
    "    # calculation of the price for instrument which is\n",
    "    # divisible to min price increment\n",
    "    calculated_price = (\n",
    "        round(calculated_price / min_price_increment) * min_price_increment\n",
    "    )\n",
    "    print(\n",
    "        f\"let's send stop order at price = \"\n",
    "        f\"{calculated_price:.{number_digits_after_point}f} divisible to \"\n",
    "        f\"min price increment {min_price_increment}\"\n",
    "    )\n"
   ]
  },
  {
   "cell_type": "markdown",
   "metadata": {
    "tags": []
   },
   "source": [
    "### Market Order"
   ]
  },
  {
   "cell_type": "code",
   "execution_count": 13,
   "metadata": {
    "tags": []
   },
   "outputs": [
    {
     "name": "stderr",
     "output_type": "stream",
     "text": [
      "2024-04-03 09:11:12,726 INFO:0ededbd580708669f87e75db1eda44f8 GetTradingStatus\n"
     ]
    },
    {
     "data": {
      "text/plain": [
       "False"
      ]
     },
     "execution_count": 13,
     "metadata": {},
     "output_type": "execute_result"
    }
   ],
   "source": [
    "with SandboxClient(token) as client:\n",
    "    trading_status = client.market_data.get_trading_status(\n",
    "        figi=figi\n",
    "    )\n",
    "trading_status.api_trade_available_flag\n",
    "trading_status.market_order_available_flag"
   ]
  },
  {
   "cell_type": "code",
   "execution_count": 9,
   "metadata": {
    "tags": []
   },
   "outputs": [
    {
     "name": "stderr",
     "output_type": "stream",
     "text": [
      "2024-04-03 09:07:12,160 ERROR:18390a18d80f59ef1d8b0a6b70e7a0e6 PostOrder INVALID_ARGUMENT 30079\n"
     ]
    },
    {
     "ename": "RequestError",
     "evalue": "(<StatusCode.INVALID_ARGUMENT: (3, 'invalid argument')>, '30079', Metadata(tracking_id='18390a18d80f59ef1d8b0a6b70e7a0e6', ratelimit_limit='200, 200;w=60', ratelimit_remaining=199, ratelimit_reset=49, message='instrument is not available for trading'))",
     "output_type": "error",
     "traceback": [
      "\u001b[1;31m---------------------------------------------------------------------------\u001b[0m",
      "\u001b[1;31m_InactiveRpcError\u001b[0m                         Traceback (most recent call last)",
      "File \u001b[1;32mD:\\Soft\\Anaconda\\envs\\t\\Lib\\site-packages\\tinkoff\\invest\\_errors.py:23\u001b[0m, in \u001b[0;36mhandle_request_error.<locals>.decorator.<locals>.wrapper\u001b[1;34m(*args, **kwargs)\u001b[0m\n\u001b[0;32m     22\u001b[0m \u001b[38;5;28;01mtry\u001b[39;00m:\n\u001b[1;32m---> 23\u001b[0m     \u001b[38;5;28;01mreturn\u001b[39;00m \u001b[43mfunc\u001b[49m\u001b[43m(\u001b[49m\u001b[38;5;241;43m*\u001b[39;49m\u001b[43margs\u001b[49m\u001b[43m,\u001b[49m\u001b[43m \u001b[49m\u001b[38;5;241;43m*\u001b[39;49m\u001b[38;5;241;43m*\u001b[39;49m\u001b[43mkwargs\u001b[49m\u001b[43m)\u001b[49m\n\u001b[0;32m     24\u001b[0m \u001b[38;5;28;01mexcept\u001b[39;00m RpcError \u001b[38;5;28;01mas\u001b[39;00m e:\n",
      "File \u001b[1;32mD:\\Soft\\Anaconda\\envs\\t\\Lib\\site-packages\\tinkoff\\invest\\services.py:1298\u001b[0m, in \u001b[0;36mOrdersService.post_order\u001b[1;34m(self, figi, quantity, price, direction, account_id, order_type, order_id, instrument_id, time_in_force, price_type)\u001b[0m\n\u001b[0;32m   1297\u001b[0m request\u001b[38;5;241m.\u001b[39mprice_type \u001b[38;5;241m=\u001b[39m price_type\n\u001b[1;32m-> 1298\u001b[0m response, call \u001b[38;5;241m=\u001b[39m \u001b[38;5;28;43mself\u001b[39;49m\u001b[38;5;241;43m.\u001b[39;49m\u001b[43mstub\u001b[49m\u001b[38;5;241;43m.\u001b[39;49m\u001b[43mPostOrder\u001b[49m\u001b[38;5;241;43m.\u001b[39;49m\u001b[43mwith_call\u001b[49m\u001b[43m(\u001b[49m\n\u001b[0;32m   1299\u001b[0m \u001b[43m    \u001b[49m\u001b[43mrequest\u001b[49m\u001b[38;5;241;43m=\u001b[39;49m\u001b[43m_grpc_helpers\u001b[49m\u001b[38;5;241;43m.\u001b[39;49m\u001b[43mdataclass_to_protobuff\u001b[49m\u001b[43m(\u001b[49m\n\u001b[0;32m   1300\u001b[0m \u001b[43m        \u001b[49m\u001b[43mrequest\u001b[49m\u001b[43m,\u001b[49m\u001b[43m \u001b[49m\u001b[43morders_pb2\u001b[49m\u001b[38;5;241;43m.\u001b[39;49m\u001b[43mPostOrderRequest\u001b[49m\u001b[43m(\u001b[49m\u001b[43m)\u001b[49m\n\u001b[0;32m   1301\u001b[0m \u001b[43m    \u001b[49m\u001b[43m)\u001b[49m\u001b[43m,\u001b[49m\n\u001b[0;32m   1302\u001b[0m \u001b[43m    \u001b[49m\u001b[43mmetadata\u001b[49m\u001b[38;5;241;43m=\u001b[39;49m\u001b[38;5;28;43mself\u001b[39;49m\u001b[38;5;241;43m.\u001b[39;49m\u001b[43mmetadata\u001b[49m\u001b[43m,\u001b[49m\n\u001b[0;32m   1303\u001b[0m \u001b[43m\u001b[49m\u001b[43m)\u001b[49m\n\u001b[0;32m   1304\u001b[0m log_request(get_tracking_id_from_call(call), \u001b[38;5;124m\"\u001b[39m\u001b[38;5;124mPostOrder\u001b[39m\u001b[38;5;124m\"\u001b[39m)\n",
      "File \u001b[1;32mD:\\Soft\\Anaconda\\envs\\t\\Lib\\site-packages\\grpc\\_channel.py:1177\u001b[0m, in \u001b[0;36m_UnaryUnaryMultiCallable.with_call\u001b[1;34m(self, request, timeout, metadata, credentials, wait_for_ready, compression)\u001b[0m\n\u001b[0;32m   1171\u001b[0m (\n\u001b[0;32m   1172\u001b[0m     state,\n\u001b[0;32m   1173\u001b[0m     call,\n\u001b[0;32m   1174\u001b[0m ) \u001b[38;5;241m=\u001b[39m \u001b[38;5;28mself\u001b[39m\u001b[38;5;241m.\u001b[39m_blocking(\n\u001b[0;32m   1175\u001b[0m     request, timeout, metadata, credentials, wait_for_ready, compression\n\u001b[0;32m   1176\u001b[0m )\n\u001b[1;32m-> 1177\u001b[0m \u001b[38;5;28;01mreturn\u001b[39;00m \u001b[43m_end_unary_response_blocking\u001b[49m\u001b[43m(\u001b[49m\u001b[43mstate\u001b[49m\u001b[43m,\u001b[49m\u001b[43m \u001b[49m\u001b[43mcall\u001b[49m\u001b[43m,\u001b[49m\u001b[43m \u001b[49m\u001b[38;5;28;43;01mTrue\u001b[39;49;00m\u001b[43m,\u001b[49m\u001b[43m \u001b[49m\u001b[38;5;28;43;01mNone\u001b[39;49;00m\u001b[43m)\u001b[49m\n",
      "File \u001b[1;32mD:\\Soft\\Anaconda\\envs\\t\\Lib\\site-packages\\grpc\\_channel.py:1003\u001b[0m, in \u001b[0;36m_end_unary_response_blocking\u001b[1;34m(state, call, with_call, deadline)\u001b[0m\n\u001b[0;32m   1002\u001b[0m \u001b[38;5;28;01melse\u001b[39;00m:\n\u001b[1;32m-> 1003\u001b[0m     \u001b[38;5;28;01mraise\u001b[39;00m _InactiveRpcError(state)\n",
      "\u001b[1;31m_InactiveRpcError\u001b[0m: <_InactiveRpcError of RPC that terminated with:\n\tstatus = StatusCode.INVALID_ARGUMENT\n\tdetails = \"30079\"\n\tdebug_error_string = \"UNKNOWN:Error received from peer  {grpc_message:\"30079\", grpc_status:3, created_time:\"2024-04-03T05:07:12.1432703+00:00\"}\"\n>",
      "\nThe above exception was the direct cause of the following exception:\n",
      "\u001b[1;31mRequestError\u001b[0m                              Traceback (most recent call last)",
      "Cell \u001b[1;32mIn[9], line 4\u001b[0m\n\u001b[0;32m      2\u001b[0m figi \u001b[38;5;241m=\u001b[39m \u001b[38;5;124m\"\u001b[39m\u001b[38;5;124mBBG004730ZJ9\u001b[39m\u001b[38;5;124m\"\u001b[39m\n\u001b[0;32m      3\u001b[0m \u001b[38;5;28;01mwith\u001b[39;00m SandboxClient(token) \u001b[38;5;28;01mas\u001b[39;00m client:\n\u001b[1;32m----> 4\u001b[0m     resp \u001b[38;5;241m=\u001b[39m \u001b[43mclient\u001b[49m\u001b[38;5;241;43m.\u001b[39;49m\u001b[43morders\u001b[49m\u001b[38;5;241;43m.\u001b[39;49m\u001b[43mpost_order\u001b[49m\u001b[43m(\u001b[49m\u001b[43m \u001b[49m\u001b[43mfigi\u001b[49m\u001b[38;5;241;43m=\u001b[39;49m\u001b[43mfigi\u001b[49m\u001b[43m,\u001b[49m\n\u001b[0;32m      5\u001b[0m \u001b[43m                \u001b[49m\u001b[43mquantity\u001b[49m\u001b[38;5;241;43m=\u001b[39;49m\u001b[38;5;241;43m1\u001b[39;49m\u001b[43m,\u001b[49m\n\u001b[0;32m      6\u001b[0m \u001b[43m                \u001b[49m\u001b[43mdirection\u001b[49m\u001b[38;5;241;43m=\u001b[39;49m\u001b[43mOrderDirection\u001b[49m\u001b[38;5;241;43m.\u001b[39;49m\u001b[43mORDER_DIRECTION_BUY\u001b[49m\u001b[43m,\u001b[49m\n\u001b[0;32m      7\u001b[0m \u001b[43m                \u001b[49m\u001b[43maccount_id\u001b[49m\u001b[38;5;241;43m=\u001b[39;49m\u001b[43maccount_id\u001b[49m\u001b[43m,\u001b[49m\n\u001b[0;32m      8\u001b[0m \u001b[43m                \u001b[49m\u001b[43morder_type\u001b[49m\u001b[38;5;241;43m=\u001b[39;49m\u001b[43mOrderType\u001b[49m\u001b[38;5;241;43m.\u001b[39;49m\u001b[43mORDER_TYPE_MARKET\u001b[49m\u001b[43m,\u001b[49m\u001b[43m)\u001b[49m\n",
      "File \u001b[1;32mD:\\Soft\\Anaconda\\envs\\t\\Lib\\site-packages\\tinkoff\\invest\\_errors.py:41\u001b[0m, in \u001b[0;36mhandle_request_error.<locals>.decorator.<locals>.wrapper\u001b[1;34m(*args, **kwargs)\u001b[0m\n\u001b[0;32m     36\u001b[0m     \u001b[38;5;28;01mif\u001b[39;00m status_code \u001b[38;5;241m==\u001b[39m StatusCode\u001b[38;5;241m.\u001b[39mUNAUTHENTICATED:\n\u001b[0;32m     37\u001b[0m         \u001b[38;5;28;01mraise\u001b[39;00m UnauthenticatedError(\n\u001b[0;32m     38\u001b[0m             status_code, details, metadata\n\u001b[0;32m     39\u001b[0m         ) \u001b[38;5;28;01mfrom\u001b[39;00m \u001b[38;5;21;01me\u001b[39;00m\n\u001b[1;32m---> 41\u001b[0m     \u001b[38;5;28;01mraise\u001b[39;00m RequestError(status_code, details, metadata) \u001b[38;5;28;01mfrom\u001b[39;00m \u001b[38;5;21;01me\u001b[39;00m\n\u001b[0;32m     42\u001b[0m \u001b[38;5;28;01mraise\u001b[39;00m\n",
      "\u001b[1;31mRequestError\u001b[0m: (<StatusCode.INVALID_ARGUMENT: (3, 'invalid argument')>, '30079', Metadata(tracking_id='18390a18d80f59ef1d8b0a6b70e7a0e6', ratelimit_limit='200, 200;w=60', ratelimit_remaining=199, ratelimit_reset=49, message='instrument is not available for trading'))"
     ]
    }
   ],
   "source": [
    "from tinkoff.invest import OrderDirection, OrderType\n",
    "figi = \"BBG004730ZJ9\"\n",
    "with SandboxClient(token) as client:\n",
    "    resp = client.orders.post_order( figi=figi,\n",
    "                quantity=1,\n",
    "                direction=OrderDirection.ORDER_DIRECTION_BUY,\n",
    "                account_id=account_id,\n",
    "                order_type=OrderType.ORDER_TYPE_MARKET,)"
   ]
  },
  {
   "cell_type": "code",
   "execution_count": 55,
   "metadata": {
    "tags": []
   },
   "outputs": [
    {
     "data": {
      "text/plain": [
       "PostOrderResponse(order_id='8b666896-b27d-46e1-bcec-435b5d5f6231', execution_report_status=<OrderExecutionReportStatus.EXECUTION_REPORT_STATUS_FILL: 1>, lots_requested=1, lots_executed=1, initial_order_price=MoneyValue(currency='rub', units=232, nano=0), executed_order_price=MoneyValue(currency='rub', units=0, nano=23200000), total_order_amount=MoneyValue(currency='rub', units=232, nano=0), initial_commission=MoneyValue(currency='rub', units=0, nano=116000000), executed_commission=MoneyValue(currency='rub', units=0, nano=116000000), aci_value=MoneyValue(currency='', units=0, nano=0), figi='BBG004730ZJ9', direction=<OrderDirection.ORDER_DIRECTION_BUY: 1>, initial_security_price=MoneyValue(currency='rub', units=0, nano=23200000), order_type=<OrderType.ORDER_TYPE_MARKET: 2>, message='', initial_order_price_pt=Quotation(units=0, nano=0), instrument_uid='8e2b0325-0292-4654-8a18-4f63ed3b0e09', order_request_id='', response_metadata=ResponseMetadata(tracking_id='d4f88ec0baaae61b8b3fd5692828b887', server_time=datetime.datetime(2024, 4, 2, 16, 14, 31, 639027, tzinfo=datetime.timezone.utc)))"
      ]
     },
     "execution_count": 55,
     "metadata": {},
     "output_type": "execute_result"
    }
   ],
   "source": [
    "resp"
   ]
  },
  {
   "cell_type": "code",
   "execution_count": 66,
   "metadata": {
    "tags": []
   },
   "outputs": [
    {
     "name": "stderr",
     "output_type": "stream",
     "text": [
      "2024-04-03 08:22:30,915 INFO:3b660782159cb02542c10cdfa5550706 Shares\n",
      "2024-04-03 08:22:32,176 INFO:27fa9439f271f783e285ff053e0a4076 Currencies\n",
      "2024-04-03 08:22:32,436 INFO:52f29eda572f433d4b4eac4b7b452298 Futures\n",
      "2024-04-03 08:22:33,798 INFO:c85b8fa40e8996550b72672ee3c5b185 Bonds\n",
      "2024-04-03 08:22:34,731 INFO:8f26771087d22975c10be9585acb9c0b Etfs\n",
      "2024-04-03 08:22:35,041 INFO:1b446e3e56694a780af05eb98b175fa5 GetPortfolio\n"
     ]
    },
    {
     "data": {
      "text/html": [
       "<div>\n",
       "<style scoped>\n",
       "    .dataframe tbody tr th:only-of-type {\n",
       "        vertical-align: middle;\n",
       "    }\n",
       "\n",
       "    .dataframe tbody tr th {\n",
       "        vertical-align: top;\n",
       "    }\n",
       "\n",
       "    .dataframe thead th {\n",
       "        text-align: right;\n",
       "    }\n",
       "</style>\n",
       "<table border=\"1\" class=\"dataframe\">\n",
       "  <thead>\n",
       "    <tr style=\"text-align: right;\">\n",
       "      <th></th>\n",
       "      <th>figi</th>\n",
       "      <th>ticker</th>\n",
       "      <th>name</th>\n",
       "      <th>quantity</th>\n",
       "      <th>price</th>\n",
       "    </tr>\n",
       "  </thead>\n",
       "  <tbody>\n",
       "    <tr>\n",
       "      <th>1</th>\n",
       "      <td>BBG004730ZJ9</td>\n",
       "      <td>VTBR</td>\n",
       "      <td>Банк ВТБ</td>\n",
       "      <td>20000</td>\n",
       "      <td>0.02363</td>\n",
       "    </tr>\n",
       "    <tr>\n",
       "      <th>0</th>\n",
       "      <td>RUB000UTSTOM</td>\n",
       "      <td>None</td>\n",
       "      <td>None</td>\n",
       "      <td>1999535</td>\n",
       "      <td>0.00000</td>\n",
       "    </tr>\n",
       "  </tbody>\n",
       "</table>\n",
       "</div>"
      ],
      "text/plain": [
       "           figi ticker      name  quantity    price\n",
       "1  BBG004730ZJ9   VTBR  Банк ВТБ     20000  0.02363\n",
       "0  RUB000UTSTOM   None      None   1999535  0.00000"
      ]
     },
     "execution_count": 66,
     "metadata": {},
     "output_type": "execute_result"
    }
   ],
   "source": [
    "base = tink.get_id_base(token)\n",
    "\n",
    "sess = SandboxClient(token) \n",
    "\n",
    "with sess as cl:\n",
    "    port = cl.operations.get_portfolio(account_id=account_id) \n",
    "tink.port_to_df(port, base)"
   ]
  },
  {
   "cell_type": "code",
   "execution_count": 53,
   "metadata": {
    "tags": []
   },
   "outputs": [
    {
     "name": "stderr",
     "output_type": "stream",
     "text": [
      "2024-04-02 20:12:51,913 INFO:a5543646ba0e0aea5be67619ae261c2a GetTradingStatuses\n"
     ]
    },
    {
     "name": "stdout",
     "output_type": "stream",
     "text": [
      "GetTradingStatusesResponse(trading_statuses=[GetTradingStatusResponse(figi='BBG004730N88', trading_status=<SecurityTradingStatus.SECURITY_TRADING_STATUS_NORMAL_TRADING: 5>, limit_order_available_flag=True, market_order_available_flag=True, api_trade_available_flag=True, instrument_uid='e6123145-9665-43e0-8413-cd61b8aa9b13', bestprice_order_available_flag=True, only_best_price=False)])\n"
     ]
    }
   ],
   "source": [
    "with SandboxClient(token) as client:\n",
    "    statuses = client.market_data.get_trading_statuses(instrument_ids=[\"BBG004730N88\"])\n",
    "    print(statuses)"
   ]
  },
  {
   "cell_type": "markdown",
   "metadata": {
    "tags": []
   },
   "source": [
    "## Helper functions"
   ]
  },
  {
   "cell_type": "code",
   "execution_count": 2,
   "metadata": {},
   "outputs": [],
   "source": [
    "from pypfopt.efficient_frontier import EfficientFrontier\n",
    "from pypfopt import risk_models\n",
    "from pypfopt import expected_returns\n",
    "\n",
    "from datetime import datetime\n",
    "now = datetime.today().strftime('%Y-%m-%d')\n"
   ]
  },
  {
   "cell_type": "code",
   "execution_count": 16,
   "metadata": {
    "tags": []
   },
   "outputs": [],
   "source": [
    "def calculate_portfolio_difference(old_portfolio, new_portfolio):\n",
    "    \"\"\"\n",
    "    Рассчитать разницу между двумя портфелями.\n",
    "\n",
    "    Args:\n",
    "        old_portfolio: Словарь, где ключом является тикер, а значением - количество акций.\n",
    "        new_portfolio: Словарь, где ключом является тикер, а значением - количество акций.\n",
    "\n",
    "    Returns:\n",
    "        Словарь, где ключом является тикер, а значением - разница между количеством акций в \n",
    "        новых и старых портфелях.\n",
    "    \"\"\"\n",
    "\n",
    "    difference = {}\n",
    "    for ticker in new_portfolio:\n",
    "        if ticker in old_portfolio:\n",
    "            difference[ticker] = new_portfolio[ticker] - old_portfolio[ticker]\n",
    "        else:\n",
    "            difference[ticker] = new_portfolio[ticker]\n",
    "\n",
    "    for ticker in old_portfolio:\n",
    "        if ticker not in new_portfolio:\n",
    "            difference[ticker] = -old_portfolio[ticker]\n",
    "\n",
    "    return difference\n"
   ]
  },
  {
   "cell_type": "code",
   "execution_count": 31,
   "metadata": {
    "tags": []
   },
   "outputs": [
    {
     "name": "stdout",
     "output_type": "stream",
     "text": [
      "Количество: 1, Вес: 40.00%\n",
      "Количество: 1, Вес: 30.00%\n",
      "Количество: 1, Вес: 30.00%\n",
      "\n",
      "Общая сумма: 1011\n"
     ]
    }
   ],
   "source": [
    "def calculate_portfolio_allocation(weights, total_amount, lot_sizes):\n",
    "    \"\"\"\n",
    "    Рассчитать распределение суммы на веса в портфеле, учитывая лоты.\n",
    "\n",
    "    Args:\n",
    "        weights: Список весов акций в портфеле.\n",
    "        total_amount: Общая сумма, которую нужно распределить.\n",
    "        lot_sizes: Список размеров лотов для акций.\n",
    "\n",
    "    Returns:\n",
    "        Список, где каждый элемент - количество акций, \n",
    "        округленное до размера лота.\n",
    "    \"\"\"\n",
    "\n",
    "    # Нормализация весов\n",
    "    weights = normalize_weights(weights)\n",
    "\n",
    "    # Распределение суммы\n",
    "    amounts = [weight * total_amount for weight in weights]\n",
    "\n",
    "    # Округление до размера лота\n",
    "    quantities = [round(amount / lot_size, 0) for amount, lot_size in zip(amounts, lot_sizes)]\n",
    "\n",
    "    # Корректировка с учетом минимального лота\n",
    "    for i in range(len(quantities)):\n",
    "        if lot_sizes[i] > 0 and quantities[i] * lot_sizes[i] < total_amount:\n",
    "            quantities[i] = 1\n",
    "\n",
    "    # Распределение остатка\n",
    "    remaining_amount = total_amount - sum(quantity * lot_size for quantity, lot_size in zip(quantities, lot_sizes))\n",
    "\n",
    "    return quantities, remaining_amount\n",
    "\n",
    "\n",
    "def normalize_weights(weights):\n",
    "    \"\"\"\n",
    "    Нормализовать веса, чтобы они давали в сумме единицу.\n",
    "\n",
    "    Args:\n",
    "        weights: Список весов.\n",
    "\n",
    "    Returns:\n",
    "        Список нормализованных весов.\n",
    "    \"\"\"\n",
    "\n",
    "    total_weight = sum(weights)\n",
    "    return [weight / total_weight for weight in weights]\n",
    "\n",
    "\n",
    "# Пример\n",
    "weights = [0.4, 0.3, 0.3]\n",
    "total_amount = 10000\n",
    "lot_sizes = [1, 10, 1000]\n",
    "\n",
    "quantities, rem = calculate_portfolio_allocation(weights, total_amount, lot_sizes)\n",
    "\n",
    "# Вывод\n",
    "for quantity, weight in zip(quantities, weights):\n",
    "    print(f\"Количество: {quantity}, Вес: {weight:.2%}\")\n",
    "\n",
    "print(f\"\\nОбщая сумма: {sum(quantity * lot_size for quantity, lot_size in zip(quantities, lot_sizes))}\")"
   ]
  },
  {
   "cell_type": "code",
   "execution_count": 21,
   "metadata": {
    "tags": []
   },
   "outputs": [
    {
     "name": "stdout",
     "output_type": "stream",
     "text": [
      "Количество: 4000\n",
      "Цена за лот: 1.0\n",
      "Стоимость позиции: 4000\n",
      "\n",
      "Количество: 3000\n",
      "Цена за лот: 10.0\n",
      "Стоимость позиции: 30000\n",
      "\n",
      "Количество: 3000\n",
      "Цена за лот: 1000.0\n",
      "Стоимость позиции: 3000000\n",
      "\n",
      "\n",
      "Общая сумма: 3034000\n"
     ]
    }
   ],
   "source": [
    "def calculate_portfolio_allocation(weights, total_amount, lot_sizes):\n",
    "    \"\"\"\n",
    "    Рассчитать распределение суммы на веса в портфеле, учитывая лоты.\n",
    "\n",
    "    Args:\n",
    "        weights: Список весов акций в портфеле.\n",
    "        total_amount: Общая сумма, которую нужно распределить.\n",
    "        lot_sizes: Список размеров лотов для акций.\n",
    "\n",
    "    Returns:\n",
    "        Список, где каждый элемент - \n",
    "        словарь с информацией о количестве акций, цене за 1 акцию, \n",
    "        цене за лот и стоимости позиции.\n",
    "    \"\"\"\n",
    "\n",
    "    # Нормализация весов\n",
    "    weights = normalize_weights(weights)\n",
    "\n",
    "    # Распределение суммы\n",
    "    amounts = [weight * total_amount for weight in weights]\n",
    "\n",
    "    # Округление до размера лота\n",
    "    quantities = [round_to_lot_size(amount, lot_size) for amount, lot_size in zip(amounts, lot_sizes)]\n",
    "\n",
    "    # Расчет стоимости позиции\n",
    "    position_values = [quantity * lot_size for quantity, lot_size in zip(quantities, lot_sizes)]\n",
    "\n",
    "    # Формирование выходных данных\n",
    "    portfolio = []\n",
    "    for quantity, lot_size, position_value in zip(quantities, lot_sizes, position_values):\n",
    "        portfolio.append({\n",
    "            \"quantity\": quantity,\n",
    "            \"price_per_lot\": position_value / quantity,\n",
    "            \"position_value\": position_value,\n",
    "        })\n",
    "\n",
    "    return portfolio\n",
    "\n",
    "\n",
    "def round_to_lot_size(amount, lot_size):\n",
    "    \"\"\"\n",
    "    Округлить число до размера лота.\n",
    "\n",
    "    Args:\n",
    "        amount: Число, которое нужно округлить.\n",
    "        lot_size: Размер лота.\n",
    "\n",
    "    Returns:\n",
    "        Округленное число.\n",
    "    \"\"\"\n",
    "\n",
    "    if lot_size == 1:\n",
    "        return round(amount)\n",
    "\n",
    "    return round(amount / lot_size) * lot_size\n",
    "\n",
    "\n",
    "# Пример\n",
    "weights = [0.4, 0.3, 0.3]\n",
    "total_amount = 10000\n",
    "lot_sizes = [1, 10, 1000]\n",
    "\n",
    "portfolio = calculate_portfolio_allocation(weights, total_amount, lot_sizes)\n",
    "\n",
    "# Вывод\n",
    "for position in portfolio:\n",
    "    print(f\"Количество: {position['quantity']}\")\n",
    "    print(f\"Цена за лот: {position['price_per_lot']}\")\n",
    "    print(f\"Стоимость позиции: {position['position_value']}\")\n",
    "    print()\n",
    "\n",
    "print(f\"\\nОбщая сумма: {sum(position['position_value'] for position in portfolio)}\")"
   ]
  },
  {
   "cell_type": "code",
   "execution_count": 20,
   "metadata": {
    "tags": []
   },
   "outputs": [],
   "source": [
    "import json\n",
    "\n",
    "d = {\n",
    "    'base': ['FIVE'],\n",
    "    'momentum': ['GTRK']\n",
    "}\n",
    " \n",
    "with open('drops.json', 'w') as f:\n",
    "    json.dump(d, f)"
   ]
  },
  {
   "cell_type": "code",
   "execution_count": 22,
   "metadata": {
    "tags": []
   },
   "outputs": [],
   "source": [
    "with open('drops.json', 'r') as f:\n",
    "    d = json.load(f)"
   ]
  },
  {
   "cell_type": "code",
   "execution_count": 24,
   "metadata": {
    "tags": []
   },
   "outputs": [
    {
     "data": {
      "text/plain": [
       "WindowsPath('asd/sd')"
      ]
     },
     "execution_count": 24,
     "metadata": {},
     "output_type": "execute_result"
    }
   ],
   "source": [
    "from pathlib import Path\n",
    "\n",
    "Path('asd', 'sd')"
   ]
  }
 ],
 "metadata": {
  "kernelspec": {
   "display_name": "quant",
   "language": "python",
   "name": "quant"
  },
  "language_info": {
   "codemirror_mode": {
    "name": "ipython",
    "version": 3
   },
   "file_extension": ".py",
   "mimetype": "text/x-python",
   "name": "python",
   "nbconvert_exporter": "python",
   "pygments_lexer": "ipython3",
   "version": "3.11.4"
  }
 },
 "nbformat": 4,
 "nbformat_minor": 4
}
