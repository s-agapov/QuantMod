{
 "cells": [
  {
   "cell_type": "code",
   "execution_count": null,
   "metadata": {},
   "outputs": [],
   "source": []
  },
  {
   "cell_type": "code",
   "execution_count": 1,
   "metadata": {
    "tags": []
   },
   "outputs": [
    {
     "name": "stderr",
     "output_type": "stream",
     "text": [
      "/home/samsmu/anaconda3/envs/t/lib/python3.9/site-packages/pandas/core/computation/expressions.py:21: UserWarning: Pandas requires version '2.8.4' or newer of 'numexpr' (version '2.7.3' currently installed).\n",
      "  from pandas.core.computation.check import NUMEXPR_INSTALLED\n",
      "/home/samsmu/anaconda3/envs/t/lib/python3.9/site-packages/pandas/core/arrays/masked.py:60: UserWarning: Pandas requires version '1.3.6' or newer of 'bottleneck' (version '1.3.2' currently installed).\n",
      "  from pandas.core import (\n"
     ]
    }
   ],
   "source": [
    "import numpy as np\n",
    "import pandas as pd\n",
    "from glob import glob\n",
    "import sys\n",
    "import os\n",
    "from datetime import datetime\n",
    "import logging\n",
    "\n",
    "import matplotlib.pyplot as plt\n",
    "\n",
    "\n",
    "from decimal import Decimal\n",
    "from tinkoff.invest import MoneyValue\n",
    "\n",
    "\n",
    "sys.path.append(\"..\") \n",
    "from tp_utils import *\n",
    "from tp_config import *\n",
    "from tp_assets import *\n",
    "import tink_port as tink\n",
    "\n",
    "\n",
    "pd.set_option(\"display.max_rows\", 90)"
   ]
  },
  {
   "cell_type": "code",
   "execution_count": 2,
   "metadata": {
    "tags": []
   },
   "outputs": [],
   "source": []
  },
  {
   "cell_type": "code",
   "execution_count": 2,
   "metadata": {
    "tags": []
   },
   "outputs": [],
   "source": [
    "TOKEN0 = 't.UFRJ8SC9hafVOhFxEUY7yf1wZ1gGhwJp-WCp9o4rnEChHWns0c3jQ21eQwoOW_RurFqeZpss2scJkmMQnomJ9g'\n",
    "TOKEN1 = 't.6nHltT1dYSfrVTIV9zF72fxDlB2sXJbRD6iJNpZXTFAN61rmD7m71xPp9ko12ta1JxA06em4YdN36xicnBmjWg'\n",
    "SANDBOX = 't.qTfMeDk8iM5GLjIGj5Q5DVSnGdvOmSOzG4r3jQqdkdE2YUJMtFvBNb4v-Tyr50-4rxPBqia2jT-kBsE4NtoiKw'\n",
    "token = SANDBOX\n",
    "TOKEN = token"
   ]
  },
  {
   "cell_type": "code",
   "execution_count": 35,
   "metadata": {},
   "outputs": [
    {
     "name": "stderr",
     "output_type": "stream",
     "text": [
      "2024-04-03 15:03:49,464 INFO:11ff580501aa78dd2071b582e4358066 GetAccounts\n",
      "2024-04-03 15:03:49,569 INFO:26dd7d4c2370fa94b5695576e2d7636a GetAccounts\n",
      "2024-04-03 15:03:49,674 INFO:f8613a0c883293ed53616c326b4b236c GetPortfolio\n"
     ]
    },
    {
     "data": {
      "text/plain": [
       "PortfolioResponse(total_amount_shares=MoneyValue(currency='rub', units=236924, nano=500000000), total_amount_bonds=MoneyValue(currency='rub', units=0, nano=0), total_amount_etf=MoneyValue(currency='rub', units=0, nano=0), total_amount_currencies=MoneyValue(currency='rub', units=1763377, nano=247750000), total_amount_futures=MoneyValue(currency='rub', units=0, nano=0), expected_yield=Quotation(units=0, nano=15100000), positions=[PortfolioPosition(figi='RUB000UTSTOM', instrument_type='currency', quantity=Quotation(units=1763377, nano=247750000), average_position_price=MoneyValue(currency='', units=0, nano=0), expected_yield=Quotation(units=0, nano=0), current_nkd=MoneyValue(currency='', units=0, nano=0), average_position_price_pt=Quotation(units=0, nano=0), current_price=MoneyValue(currency='', units=0, nano=0), average_position_price_fifo=MoneyValue(currency='', units=0, nano=0), quantity_lots=Quotation(units=1763377, nano=247750000), blocked=False, blocked_lots=Quotation(units=0, nano=0), position_uid='33e24a92-aab0-409c-88b8-f2d57415b920', instrument_uid='a92e2e25-a698-45cc-a781-167cf465257c', var_margin=MoneyValue(currency='', units=0, nano=0), expected_yield_fifo=Quotation(units=0, nano=0)), PortfolioPosition(figi='BBG004S682Z6', instrument_type='share', quantity=Quotation(units=300, nano=0), average_position_price=MoneyValue(currency='rub', units=100, nano=740000000), expected_yield=Quotation(units=0, nano=0), current_nkd=MoneyValue(currency='', units=0, nano=0), average_position_price_pt=Quotation(units=0, nano=0), current_price=MoneyValue(currency='rub', units=100, nano=810000000), average_position_price_fifo=MoneyValue(currency='rub', units=100, nano=740000000), quantity_lots=Quotation(units=30, nano=0), blocked=False, blocked_lots=Quotation(units=0, nano=0), position_uid='fe4d90a1-c6e9-478f-a1de-dbab19e29390', instrument_uid='02eda274-10c4-4815-8e02-a8ee7eaf485b', var_margin=MoneyValue(currency='', units=0, nano=0), expected_yield_fifo=Quotation(units=0, nano=0)), PortfolioPosition(figi='BBG004730ZJ9', instrument_type='share', quantity=Quotation(units=100000, nano=0), average_position_price=MoneyValue(currency='rub', units=0, nano=23745000), expected_yield=Quotation(units=0, nano=0), current_nkd=MoneyValue(currency='', units=0, nano=0), average_position_price_pt=Quotation(units=0, nano=0), current_price=MoneyValue(currency='rub', units=0, nano=23815000), average_position_price_fifo=MoneyValue(currency='rub', units=0, nano=23745000), quantity_lots=Quotation(units=10, nano=0), blocked=False, blocked_lots=Quotation(units=0, nano=0), position_uid='626d2ab0-3359-4d2d-8366-daedd2a0d000', instrument_uid='8e2b0325-0292-4654-8a18-4f63ed3b0e09', var_margin=MoneyValue(currency='', units=0, nano=0), expected_yield_fifo=Quotation(units=0, nano=0)), PortfolioPosition(figi='BBG000FWGSZ5', instrument_type='share', quantity=Quotation(units=2000, nano=0), average_position_price=MoneyValue(currency='rub', units=73, nano=0), expected_yield=Quotation(units=0, nano=0), current_nkd=MoneyValue(currency='', units=0, nano=0), average_position_price_pt=Quotation(units=0, nano=0), current_price=MoneyValue(currency='rub', units=73, nano=200000000), average_position_price_fifo=MoneyValue(currency='rub', units=73, nano=0), quantity_lots=Quotation(units=20, nano=0), blocked=False, blocked_lots=Quotation(units=0, nano=0), position_uid='1a583ddf-b4af-426b-890f-2749767a8379', instrument_uid='cfb50a23-2465-497e-bc7e-e4f0e042cf3d', var_margin=MoneyValue(currency='', units=0, nano=0), expected_yield_fifo=Quotation(units=0, nano=0)), PortfolioPosition(figi='TCS00A103X66', instrument_type='share', quantity=Quotation(units=20, nano=0), average_position_price=MoneyValue(currency='rub', units=2895, nano=400000000), expected_yield=Quotation(units=0, nano=0), current_nkd=MoneyValue(currency='', units=0, nano=0), average_position_price_pt=Quotation(units=0, nano=0), current_price=MoneyValue(currency='rub', units=2895, nano=0), average_position_price_fifo=MoneyValue(currency='rub', units=2895, nano=400000000), quantity_lots=Quotation(units=20, nano=0), blocked=False, blocked_lots=Quotation(units=0, nano=0), position_uid='5a1bbbeb-8616-49c4-9752-d06be058f90b', instrument_uid='de08affe-4fbd-454e-9fd1-46a81b23f870', var_margin=MoneyValue(currency='', units=0, nano=0), expected_yield_fifo=Quotation(units=0, nano=0))], account_id='7019afa8-3ef3-4523-8d86-a2dee5f166d5', total_amount_options=MoneyValue(currency='rub', units=0, nano=0), total_amount_sp=MoneyValue(currency='rub', units=0, nano=0), total_amount_portfolio=MoneyValue(currency='rub', units=2000301, nano=747750000), virtual_positions=[])"
      ]
     },
     "execution_count": 35,
     "metadata": {},
     "output_type": "execute_result"
    }
   ],
   "source": [
    "t = TinkPortfolio(SandboxClient, token)\n",
    "#t.get_accounts()\n",
    "#t.get_portfolio()"
   ]
  },
  {
   "cell_type": "markdown",
   "metadata": {
    "tags": []
   },
   "source": [
    "## Tinkoff sandbox"
   ]
  },
  {
   "cell_type": "markdown",
   "metadata": {
    "tags": []
   },
   "source": [
    "#### Открываем новый счет"
   ]
  },
  {
   "cell_type": "code",
   "execution_count": 3,
   "metadata": {
    "tags": []
   },
   "outputs": [],
   "source": [
    "logging.basicConfig(format=\"%(asctime)s %(levelname)s:%(message)s\", level=logging.DEBUG)\n",
    "logger = logging.getLogger(__name__)"
   ]
  },
  {
   "cell_type": "code",
   "execution_count": 4,
   "metadata": {
    "tags": []
   },
   "outputs": [
    {
     "name": "stderr",
     "output_type": "stream",
     "text": [
      "2024-04-03 14:41:58,496 INFO:3cc169c6713ed16965af32736a5ac086 GetAccounts\n",
      "2024-04-03 14:41:58,546 INFO:340b3e400d0169d263bd841d7df68807 CloseSandboxAccount\n",
      "2024-04-03 14:41:58,597 INFO:f1ebf3582a02c08150572e66f9d12374 OpenSandboxAccount\n"
     ]
    },
    {
     "name": "stdout",
     "output_type": "stream",
     "text": [
      "GetAccountsResponse(accounts=[Account(id='8f280e58-a10d-486a-b283-90526c893cc5', type=<AccountType.ACCOUNT_TYPE_TINKOFF: 1>, name='', status=<AccountStatus.ACCOUNT_STATUS_OPEN: 2>, opened_date=datetime.datetime(2024, 4, 3, 14, 39, 30, 762239, tzinfo=datetime.timezone.utc), closed_date=datetime.datetime(1970, 1, 1, 0, 0, tzinfo=datetime.timezone.utc), access_level=<AccessLevel.ACCOUNT_ACCESS_LEVEL_FULL_ACCESS: 1>)])\n",
      "7019afa8-3ef3-4523-8d86-a2dee5f166d5\n"
     ]
    }
   ],
   "source": [
    "from tinkoff.invest.sandbox.client import SandboxClient\n",
    "\n",
    "\"\"\"Example - How to set/get balance for sandbox account.\n",
    "How to get/close all sandbox accounts.\n",
    "How to open new sandbox account.\"\"\"\n",
    "with SandboxClient(token) as client:\n",
    "    # get all sandbox accounts\n",
    "    sandbox_accounts = client.users.get_accounts()\n",
    "    print(sandbox_accounts)\n",
    "\n",
    "    # close all sandbox accounts\n",
    "    for sandbox_account in sandbox_accounts.accounts:\n",
    "        client.sandbox.close_sandbox_account(account_id=sandbox_account.id)\n",
    "\n",
    "    # open new sandbox account\n",
    "    sandbox_account = client.sandbox.open_sandbox_account()\n",
    "    print(sandbox_account.account_id)\n",
    "\n",
    "    account_id = sandbox_account.account_id"
   ]
  },
  {
   "cell_type": "markdown",
   "metadata": {},
   "source": [
    "#### Add money to Account"
   ]
  },
  {
   "cell_type": "code",
   "execution_count": 5,
   "metadata": {
    "tags": []
   },
   "outputs": [
    {
     "name": "stderr",
     "output_type": "stream",
     "text": [
      "2024-04-03 14:42:00,677 INFO:56aaeec64cc762eec360e2d58796e342 SandboxPayIn\n",
      "2024-04-03 14:42:00,720 INFO:4cc848960a2c91f24845e94fb806c0a5 GetPositions\n",
      "2024-04-03 14:42:00,722 INFO:positions: PositionsResponse(money=[MoneyValue(currency='rub', units=2000000, nano=0)], blocked=[MoneyValue(currency='rub', units=0, nano=0)], securities=[], limits_loading_in_progress=False, futures=[], options=[])\n",
      "2024-04-03 14:42:00,757 INFO:2a4133a1fa2aae079bd14bb5eb56ceaa GetPositions\n"
     ]
    },
    {
     "name": "stdout",
     "output_type": "stream",
     "text": [
      "SandboxPayInResponse(balance=MoneyValue(currency='rub', units=2000000, nano=0))\n",
      "money:  2000000.0\n"
     ]
    }
   ],
   "source": [
    "from tinkoff.invest.utils import decimal_to_quotation, quotation_to_decimal\n",
    "\n",
    "def add_money_sandbox(client, account_id, money, currency=\"rub\"):\n",
    "    \"\"\"Function to add money to sandbox account.\"\"\"\n",
    "    money = decimal_to_quotation(Decimal(money))\n",
    "    return client.sandbox.sandbox_pay_in(\n",
    "        account_id=account_id,\n",
    "        amount=MoneyValue(units=money.units, nano=money.nano, currency=currency),\n",
    "    )\n",
    "\n",
    "with SandboxClient(token) as client:\n",
    "      # add initial 2 000 000 to sandbox account\n",
    "        print(add_money_sandbox(client=client, account_id=account_id, money=2000000))\n",
    "        logger.info(\n",
    "            \"positions: %s\", client.operations.get_positions(account_id=account_id)\n",
    "        )\n",
    "        print(\n",
    "            \"money: \",\n",
    "            float(\n",
    "                quotation_to_decimal(\n",
    "                    client.operations.get_positions(account_id=account_id).money[0]\n",
    "                )\n",
    "            ),\n",
    "        )"
   ]
  },
  {
   "cell_type": "markdown",
   "metadata": {
    "tags": []
   },
   "source": [
    "#### Покупаем базовый портфель"
   ]
  },
  {
   "cell_type": "code",
   "execution_count": 6,
   "metadata": {
    "tags": []
   },
   "outputs": [
    {
     "name": "stderr",
     "output_type": "stream",
     "text": [
      "2024-04-03 14:42:04,138 INFO:cae0cbfecae00fd9ea69ef306ba2bb18 Shares\n",
      "2024-04-03 14:42:04,788 INFO:27b9fe69d4a92be318b0b3ecbd4db74f Currencies\n",
      "2024-04-03 14:42:04,837 INFO:1e6cb299eb82148f9ec52c7ffcf379ca Futures\n",
      "2024-04-03 14:42:05,051 INFO:8d4c4ad31acd5a614b7221e9c3f35d50 Bonds\n",
      "2024-04-03 14:42:05,551 INFO:7b08a1437e694fc778b12d0574941767 Etfs\n"
     ]
    },
    {
     "name": "stdout",
     "output_type": "stream",
     "text": [
      "BBG004730ZJ9\n",
      "TCS00A103X66\n",
      "BBG004S682Z6\n",
      "BBG000FWGSZ5\n"
     ]
    }
   ],
   "source": [
    "base = tink.get_id_base(token)\n",
    "\n",
    "# BBG004730ZJ9 - VTBR / BBG004730N88 - SBER\n",
    "portfolio = {'VTBR':10, 'POSI':20, 'RTKM':30, 'IRKT':20}\n",
    "\n",
    "for asset in portfolio:\n",
    "    figi = tink.ticker_to_figi(asset, base)\n",
    "    print(figi)\n",
    "    "
   ]
  },
  {
   "cell_type": "code",
   "execution_count": 7,
   "metadata": {
    "tags": []
   },
   "outputs": [],
   "source": [
    "base[base.lot > 1];"
   ]
  },
  {
   "cell_type": "code",
   "execution_count": 8,
   "metadata": {
    "tags": []
   },
   "outputs": [
    {
     "name": "stderr",
     "output_type": "stream",
     "text": [
      "2024-04-03 14:42:13,283 INFO:a6e1109b34fa10b1ce2539cf136f92cc PostOrder\n"
     ]
    },
    {
     "name": "stdout",
     "output_type": "stream",
     "text": [
      "VTBR\n",
      "POSI\n"
     ]
    },
    {
     "name": "stderr",
     "output_type": "stream",
     "text": [
      "2024-04-03 14:42:13,386 INFO:5cae09b031d0910dd77767cedb0b9092 PostOrder\n",
      "2024-04-03 14:42:13,465 INFO:5a960aab4c9e590150e21bbcf9130f85 PostOrder\n",
      "2024-04-03 14:42:13,530 INFO:123f3c9412700c17c6430f5ed2d4b3bd PostOrder\n"
     ]
    },
    {
     "name": "stdout",
     "output_type": "stream",
     "text": [
      "RTKM\n",
      "IRKT\n"
     ]
    }
   ],
   "source": [
    "from tinkoff.invest import OrderDirection, OrderType\n",
    "\n",
    "\n",
    "with SandboxClient(token) as client:\n",
    "    for asset in portfolio:\n",
    "        print(asset)\n",
    "        figi = tink.ticker_to_figi(asset, base)\n",
    "        qty = portfolio[asset]\n",
    "        resp = client.orders.post_order(figi=figi,\n",
    "                    quantity=qty,\n",
    "                    direction=OrderDirection.ORDER_DIRECTION_BUY,\n",
    "                    account_id=account_id,\n",
    "                    order_type=OrderType.ORDER_TYPE_MARKET,)"
   ]
  },
  {
   "cell_type": "code",
   "execution_count": 9,
   "metadata": {},
   "outputs": [
    {
     "ename": "AttributeError",
     "evalue": "'SandboxClient' object has no attribute 'users'",
     "output_type": "error",
     "traceback": [
      "\u001b[0;31m---------------------------------------------------------------------------\u001b[0m",
      "\u001b[0;31mAttributeError\u001b[0m                            Traceback (most recent call last)",
      "\u001b[0;32m<ipython-input-9-0f8b565504b9>\u001b[0m in \u001b[0;36m<module>\u001b[0;34m\u001b[0m\n\u001b[1;32m      1\u001b[0m \u001b[0mport\u001b[0m \u001b[0;34m=\u001b[0m \u001b[0mtink\u001b[0m\u001b[0;34m.\u001b[0m\u001b[0mTinkPortfolio\u001b[0m\u001b[0;34m(\u001b[0m\u001b[0mSandboxClient\u001b[0m\u001b[0;34m(\u001b[0m\u001b[0mtoken\u001b[0m\u001b[0;34m)\u001b[0m\u001b[0;34m)\u001b[0m\u001b[0;34m\u001b[0m\u001b[0;34m\u001b[0m\u001b[0m\n\u001b[1;32m      2\u001b[0m \u001b[0;34m\u001b[0m\u001b[0m\n\u001b[0;32m----> 3\u001b[0;31m \u001b[0mport\u001b[0m\u001b[0;34m.\u001b[0m\u001b[0mget_portfolio\u001b[0m\u001b[0;34m(\u001b[0m\u001b[0;34m)\u001b[0m\u001b[0;34m\u001b[0m\u001b[0;34m\u001b[0m\u001b[0m\n\u001b[0m",
      "\u001b[0;32m~/Code/Learn/QuantMod/TP/Shares/tink_port.py\u001b[0m in \u001b[0;36mget_portfolio\u001b[0;34m(self)\u001b[0m\n\u001b[1;32m     24\u001b[0m \u001b[0;34m\u001b[0m\u001b[0m\n\u001b[1;32m     25\u001b[0m     \u001b[0;32mdef\u001b[0m \u001b[0mget_portfolio\u001b[0m\u001b[0;34m(\u001b[0m\u001b[0mself\u001b[0m\u001b[0;34m)\u001b[0m\u001b[0;34m:\u001b[0m\u001b[0;34m\u001b[0m\u001b[0;34m\u001b[0m\u001b[0m\n\u001b[0;32m---> 26\u001b[0;31m         \u001b[0maccounts\u001b[0m \u001b[0;34m=\u001b[0m \u001b[0mself\u001b[0m\u001b[0;34m.\u001b[0m\u001b[0mget_accounts\u001b[0m\u001b[0;34m(\u001b[0m\u001b[0;34m)\u001b[0m\u001b[0;34m\u001b[0m\u001b[0;34m\u001b[0m\u001b[0m\n\u001b[0m\u001b[1;32m     27\u001b[0m         \u001b[0macc_id\u001b[0m \u001b[0;34m=\u001b[0m \u001b[0maccounts\u001b[0m\u001b[0;34m.\u001b[0m\u001b[0maccounts\u001b[0m\u001b[0;34m[\u001b[0m\u001b[0;36m0\u001b[0m\u001b[0;34m]\u001b[0m\u001b[0;34m.\u001b[0m\u001b[0mid\u001b[0m\u001b[0;34m\u001b[0m\u001b[0;34m\u001b[0m\u001b[0m\n\u001b[1;32m     28\u001b[0m         \u001b[0mport\u001b[0m \u001b[0;34m=\u001b[0m \u001b[0mself\u001b[0m\u001b[0;34m.\u001b[0m\u001b[0msession\u001b[0m\u001b[0;34m.\u001b[0m\u001b[0moperations\u001b[0m\u001b[0;34m.\u001b[0m\u001b[0mget_portfolio\u001b[0m\u001b[0;34m(\u001b[0m\u001b[0maccount_id\u001b[0m\u001b[0;34m=\u001b[0m\u001b[0macc_id\u001b[0m\u001b[0;34m)\u001b[0m\u001b[0;34m\u001b[0m\u001b[0;34m\u001b[0m\u001b[0m\n",
      "\u001b[0;32m~/Code/Learn/QuantMod/TP/Shares/tink_port.py\u001b[0m in \u001b[0;36mget_accounts\u001b[0;34m(self)\u001b[0m\n\u001b[1;32m     20\u001b[0m \u001b[0;34m\u001b[0m\u001b[0m\n\u001b[1;32m     21\u001b[0m     \u001b[0;32mdef\u001b[0m \u001b[0mget_accounts\u001b[0m\u001b[0;34m(\u001b[0m\u001b[0mself\u001b[0m\u001b[0;34m)\u001b[0m\u001b[0;34m:\u001b[0m\u001b[0;34m\u001b[0m\u001b[0;34m\u001b[0m\u001b[0m\n\u001b[0;32m---> 22\u001b[0;31m         \u001b[0maccounts\u001b[0m \u001b[0;34m=\u001b[0m \u001b[0mself\u001b[0m\u001b[0;34m.\u001b[0m\u001b[0msession\u001b[0m\u001b[0;34m.\u001b[0m\u001b[0musers\u001b[0m\u001b[0;34m.\u001b[0m\u001b[0mget_accounts\u001b[0m\u001b[0;34m(\u001b[0m\u001b[0;34m)\u001b[0m\u001b[0;34m\u001b[0m\u001b[0;34m\u001b[0m\u001b[0m\n\u001b[0m\u001b[1;32m     23\u001b[0m         \u001b[0;32mreturn\u001b[0m \u001b[0maccounts\u001b[0m\u001b[0;34m\u001b[0m\u001b[0;34m\u001b[0m\u001b[0m\n\u001b[1;32m     24\u001b[0m \u001b[0;34m\u001b[0m\u001b[0m\n",
      "\u001b[0;31mAttributeError\u001b[0m: 'SandboxClient' object has no attribute 'users'"
     ]
    }
   ],
   "source": [
    "port = tink.TinkPortfolio(SandboxClient(token))\n",
    "\n",
    "port.get_portfolio()"
   ]
  },
  {
   "cell_type": "markdown",
   "metadata": {},
   "source": [
    "### Account Operations"
   ]
  },
  {
   "cell_type": "code",
   "execution_count": 29,
   "metadata": {
    "tags": []
   },
   "outputs": [
    {
     "name": "stderr",
     "output_type": "stream",
     "text": [
      "2024-04-03 09:01:50,439 INFO:06c39aebd0eb9e6e7d5b4fac902a13b8 GetOrders\n",
      "2024-04-03 09:01:50,440 INFO:orders: GetOrdersResponse(orders=[])\n",
      "2024-04-03 09:01:50,474 INFO:9317a534af5f7646e3d7a2efc8033bcb GetPositions\n",
      "2024-04-03 09:01:50,475 INFO:positions: PositionsResponse(money=[MoneyValue(currency='rub', units=2000000, nano=0)], blocked=[MoneyValue(currency='rub', units=0, nano=0)], securities=[], limits_loading_in_progress=False, futures=[], options=[])\n",
      "2024-04-03 09:01:50,525 INFO:1b9aa09257a00aece836613763656e1e GetPortfolio\n",
      "2024-04-03 09:01:50,527 INFO:portfolio: PortfolioResponse(total_amount_shares=MoneyValue(currency='rub', units=0, nano=0), total_amount_bonds=MoneyValue(currency='rub', units=0, nano=0), total_amount_etf=MoneyValue(currency='rub', units=0, nano=0), total_amount_currencies=MoneyValue(currency='rub', units=2000000, nano=0), total_amount_futures=MoneyValue(currency='rub', units=0, nano=0), expected_yield=Quotation(units=0, nano=0), positions=[PortfolioPosition(figi='RUB000UTSTOM', instrument_type='currency', quantity=Quotation(units=2000000, nano=0), average_position_price=MoneyValue(currency='', units=0, nano=0), expected_yield=Quotation(units=0, nano=0), current_nkd=MoneyValue(currency='', units=0, nano=0), average_position_price_pt=Quotation(units=0, nano=0), current_price=MoneyValue(currency='', units=0, nano=0), average_position_price_fifo=MoneyValue(currency='', units=0, nano=0), quantity_lots=Quotation(units=2000000, nano=0), blocked=False, blocked_lots=Quotation(units=0, nano=0), position_uid='33e24a92-aab0-409c-88b8-f2d57415b920', instrument_uid='a92e2e25-a698-45cc-a781-167cf465257c', var_margin=MoneyValue(currency='', units=0, nano=0), expected_yield_fifo=Quotation(units=0, nano=0))], account_id='c5bfa99f-9617-4f84-a3f6-6a463e50c494', total_amount_options=MoneyValue(currency='rub', units=0, nano=0), total_amount_sp=MoneyValue(currency='rub', units=0, nano=0), total_amount_portfolio=MoneyValue(currency='rub', units=2000000, nano=0), virtual_positions=[])\n",
      "2024-04-03 09:01:50,565 INFO:f4e261b65e738155c7ad8f2b153f637f GetOperations\n",
      "2024-04-03 09:01:50,566 INFO:operations: OperationsResponse(operations=[])\n",
      "2024-04-03 09:01:50,601 INFO:53c43d32f09585553a9aa0f76a6fa2fe GetWithdrawLimits\n",
      "2024-04-03 09:01:50,602 INFO:withdraw_limits: WithdrawLimitsResponse(money=[MoneyValue(currency='rub', units=2000000, nano=0)], blocked=[], blocked_guarantee=[])\n"
     ]
    }
   ],
   "source": [
    "with SandboxClient(token) as client:\n",
    "    logger.info(\"orders: %s\", client.orders.get_orders(account_id=account_id))\n",
    "    logger.info(\n",
    "        \"positions: %s\", client.operations.get_positions(account_id=account_id)\n",
    "    )\n",
    "    logger.info(\n",
    "        \"portfolio: %s\", client.operations.get_portfolio(account_id=account_id)\n",
    "    )\n",
    "    logger.info(\n",
    "        \"operations: %s\",\n",
    "        client.operations.get_operations(\n",
    "            account_id=account_id,\n",
    "            from_=datetime(2023, 1, 1),\n",
    "            to=datetime(2023, 2, 5),\n",
    "        ),\n",
    "    )\n",
    "    logger.info(\n",
    "        \"withdraw_limits: %s\",\n",
    "        client.operations.get_withdraw_limits(account_id=account_id),\n",
    "    )"
   ]
  },
  {
   "cell_type": "markdown",
   "metadata": {},
   "source": [
    "### Закрытие аккаунта"
   ]
  },
  {
   "cell_type": "code",
   "execution_count": 9,
   "metadata": {
    "tags": []
   },
   "outputs": [
    {
     "name": "stderr",
     "output_type": "stream",
     "text": [
      "2024-04-03 08:22:24,987 INFO:21527552690c5dc87c79800734bd5257 SandboxPayIn\n",
      "2024-04-03 08:22:25,023 INFO:2468c8378e448edd37f9523ecc2c30a8 GetPositions\n",
      "2024-04-03 08:22:25,025 INFO:positions: PositionsResponse(money=[MoneyValue(currency='rub', units=3761966, nano=40000000)], blocked=[MoneyValue(currency='rub', units=0, nano=0)], securities=[PositionsSecurities(figi='BBG004S682Z6', blocked=0, balance=300, position_uid='fe4d90a1-c6e9-478f-a1de-dbab19e29390', instrument_uid='02eda274-10c4-4815-8e02-a8ee7eaf485b', exchange_blocked=False, instrument_type='share'), PositionsSecurities(figi='BBG004730ZJ9', blocked=0, balance=100000, position_uid='626d2ab0-3359-4d2d-8366-daedd2a0d000', instrument_uid='8e2b0325-0292-4654-8a18-4f63ed3b0e09', exchange_blocked=False, instrument_type='share'), PositionsSecurities(figi='BBG000FWGSZ5', blocked=0, balance=2000, position_uid='1a583ddf-b4af-426b-890f-2749767a8379', instrument_uid='cfb50a23-2465-497e-bc7e-e4f0e042cf3d', exchange_blocked=False, instrument_type='share'), PositionsSecurities(figi='TCS00A103X66', blocked=0, balance=20, position_uid='5a1bbbeb-8616-49c4-9752-d06be058f90b', instrument_uid='de08affe-4fbd-454e-9fd1-46a81b23f870', exchange_blocked=False, instrument_type='share')], limits_loading_in_progress=False, futures=[], options=[])\n",
      "2024-04-03 08:22:25,147 INFO:5bd49cd3389c90ece600e46227720de3 CloseSandboxAccount\n"
     ]
    },
    {
     "name": "stdout",
     "output_type": "stream",
     "text": [
      "SandboxPayInResponse(balance=MoneyValue(currency='rub', units=3761966, nano=40000000))\n",
      "CloseSandboxAccountResponse()\n"
     ]
    }
   ],
   "source": [
    "with SandboxClient(token) as client:        \n",
    "        # add + 2 000 000 to sandbox account, total is 4 000 000\n",
    "        print(add_money_sandbox(client=client, account_id=account_id, money=2000000))\n",
    "        logger.info(\n",
    "            \"positions: %s\", client.operations.get_positions(account_id=account_id)\n",
    "        )\n",
    "\n",
    "        # close new sandbox account\n",
    "        sandbox_account = client.sandbox.close_sandbox_account(\n",
    "            account_id=sandbox_account.account_id\n",
    "        )\n",
    "        print(sandbox_account)\n"
   ]
  },
  {
   "cell_type": "markdown",
   "metadata": {},
   "source": [
    "### Get order price"
   ]
  },
  {
   "cell_type": "code",
   "execution_count": 28,
   "metadata": {
    "tags": []
   },
   "outputs": [
    {
     "name": "stderr",
     "output_type": "stream",
     "text": [
      "2024-04-03 08:59:44,571 INFO:Getting Max Lots\n",
      "2024-04-03 08:59:44,573 INFO:Get pre-trade order commission and price for instrument=TCS00A105GE2, quantity=1 and price=230.1\n",
      "2024-04-03 08:59:44,724 ERROR:b04d0fb6967116ac629eb43dcea83191 GetOrderPrice INTERNAL 70001\n"
     ]
    },
    {
     "ename": "RequestError",
     "evalue": "(<StatusCode.INTERNAL: (13, 'internal')>, '70001', Metadata(tracking_id='b04d0fb6967116ac629eb43dcea83191', ratelimit_limit='200, 200;w=60', ratelimit_remaining=199, ratelimit_reset=16, message='internal error'))",
     "output_type": "error",
     "traceback": [
      "\u001b[1;31m---------------------------------------------------------------------------\u001b[0m",
      "\u001b[1;31m_InactiveRpcError\u001b[0m                         Traceback (most recent call last)",
      "File \u001b[1;32mD:\\Soft\\Anaconda\\envs\\t\\Lib\\site-packages\\tinkoff\\invest\\_errors.py:23\u001b[0m, in \u001b[0;36mhandle_request_error.<locals>.decorator.<locals>.wrapper\u001b[1;34m(*args, **kwargs)\u001b[0m\n\u001b[0;32m     22\u001b[0m \u001b[38;5;28;01mtry\u001b[39;00m:\n\u001b[1;32m---> 23\u001b[0m     \u001b[38;5;28;01mreturn\u001b[39;00m \u001b[43mfunc\u001b[49m\u001b[43m(\u001b[49m\u001b[38;5;241;43m*\u001b[39;49m\u001b[43margs\u001b[49m\u001b[43m,\u001b[49m\u001b[43m \u001b[49m\u001b[38;5;241;43m*\u001b[39;49m\u001b[38;5;241;43m*\u001b[39;49m\u001b[43mkwargs\u001b[49m\u001b[43m)\u001b[49m\n\u001b[0;32m     24\u001b[0m \u001b[38;5;28;01mexcept\u001b[39;00m RpcError \u001b[38;5;28;01mas\u001b[39;00m e:\n",
      "File \u001b[1;32mD:\\Soft\\Anaconda\\envs\\t\\Lib\\site-packages\\tinkoff\\invest\\services.py:1381\u001b[0m, in \u001b[0;36mOrdersService.get_order_price\u001b[1;34m(self, request)\u001b[0m\n\u001b[0;32m   1379\u001b[0m \u001b[38;5;129m@handle_request_error\u001b[39m(\u001b[38;5;124m\"\u001b[39m\u001b[38;5;124mGetOrderPrice\u001b[39m\u001b[38;5;124m\"\u001b[39m)\n\u001b[0;32m   1380\u001b[0m \u001b[38;5;28;01mdef\u001b[39;00m \u001b[38;5;21mget_order_price\u001b[39m(\u001b[38;5;28mself\u001b[39m, request: GetOrderPriceRequest) \u001b[38;5;241m-\u001b[39m\u001b[38;5;241m>\u001b[39m GetOrderPriceResponse:\n\u001b[1;32m-> 1381\u001b[0m     response, call \u001b[38;5;241m=\u001b[39m \u001b[38;5;28;43mself\u001b[39;49m\u001b[38;5;241;43m.\u001b[39;49m\u001b[43mstub\u001b[49m\u001b[38;5;241;43m.\u001b[39;49m\u001b[43mGetOrderPrice\u001b[49m\u001b[38;5;241;43m.\u001b[39;49m\u001b[43mwith_call\u001b[49m\u001b[43m(\u001b[49m\n\u001b[0;32m   1382\u001b[0m \u001b[43m        \u001b[49m\u001b[43mrequest\u001b[49m\u001b[38;5;241;43m=\u001b[39;49m\u001b[43m_grpc_helpers\u001b[49m\u001b[38;5;241;43m.\u001b[39;49m\u001b[43mdataclass_to_protobuff\u001b[49m\u001b[43m(\u001b[49m\n\u001b[0;32m   1383\u001b[0m \u001b[43m            \u001b[49m\u001b[43mrequest\u001b[49m\u001b[43m,\u001b[49m\u001b[43m \u001b[49m\u001b[43morders_pb2\u001b[49m\u001b[38;5;241;43m.\u001b[39;49m\u001b[43mGetOrderPriceRequest\u001b[49m\u001b[43m(\u001b[49m\u001b[43m)\u001b[49m\n\u001b[0;32m   1384\u001b[0m \u001b[43m        \u001b[49m\u001b[43m)\u001b[49m\u001b[43m,\u001b[49m\n\u001b[0;32m   1385\u001b[0m \u001b[43m        \u001b[49m\u001b[43mmetadata\u001b[49m\u001b[38;5;241;43m=\u001b[39;49m\u001b[38;5;28;43mself\u001b[39;49m\u001b[38;5;241;43m.\u001b[39;49m\u001b[43mmetadata\u001b[49m\u001b[43m,\u001b[49m\n\u001b[0;32m   1386\u001b[0m \u001b[43m    \u001b[49m\u001b[43m)\u001b[49m\n\u001b[0;32m   1387\u001b[0m     log_request(get_tracking_id_from_call(call), \u001b[38;5;124m\"\u001b[39m\u001b[38;5;124mGetOrderPrice\u001b[39m\u001b[38;5;124m\"\u001b[39m)\n",
      "File \u001b[1;32mD:\\Soft\\Anaconda\\envs\\t\\Lib\\site-packages\\grpc\\_channel.py:1177\u001b[0m, in \u001b[0;36m_UnaryUnaryMultiCallable.with_call\u001b[1;34m(self, request, timeout, metadata, credentials, wait_for_ready, compression)\u001b[0m\n\u001b[0;32m   1171\u001b[0m (\n\u001b[0;32m   1172\u001b[0m     state,\n\u001b[0;32m   1173\u001b[0m     call,\n\u001b[0;32m   1174\u001b[0m ) \u001b[38;5;241m=\u001b[39m \u001b[38;5;28mself\u001b[39m\u001b[38;5;241m.\u001b[39m_blocking(\n\u001b[0;32m   1175\u001b[0m     request, timeout, metadata, credentials, wait_for_ready, compression\n\u001b[0;32m   1176\u001b[0m )\n\u001b[1;32m-> 1177\u001b[0m \u001b[38;5;28;01mreturn\u001b[39;00m \u001b[43m_end_unary_response_blocking\u001b[49m\u001b[43m(\u001b[49m\u001b[43mstate\u001b[49m\u001b[43m,\u001b[49m\u001b[43m \u001b[49m\u001b[43mcall\u001b[49m\u001b[43m,\u001b[49m\u001b[43m \u001b[49m\u001b[38;5;28;43;01mTrue\u001b[39;49;00m\u001b[43m,\u001b[49m\u001b[43m \u001b[49m\u001b[38;5;28;43;01mNone\u001b[39;49;00m\u001b[43m)\u001b[49m\n",
      "File \u001b[1;32mD:\\Soft\\Anaconda\\envs\\t\\Lib\\site-packages\\grpc\\_channel.py:1003\u001b[0m, in \u001b[0;36m_end_unary_response_blocking\u001b[1;34m(state, call, with_call, deadline)\u001b[0m\n\u001b[0;32m   1002\u001b[0m \u001b[38;5;28;01melse\u001b[39;00m:\n\u001b[1;32m-> 1003\u001b[0m     \u001b[38;5;28;01mraise\u001b[39;00m _InactiveRpcError(state)\n",
      "\u001b[1;31m_InactiveRpcError\u001b[0m: <_InactiveRpcError of RPC that terminated with:\n\tstatus = StatusCode.INTERNAL\n\tdetails = \"70001\"\n\tdebug_error_string = \"UNKNOWN:Error received from peer  {grpc_message:\"70001\", grpc_status:13, created_time:\"2024-04-03T04:59:44.7082264+00:00\"}\"\n>",
      "\nThe above exception was the direct cause of the following exception:\n",
      "\u001b[1;31mRequestError\u001b[0m                              Traceback (most recent call last)",
      "Cell \u001b[1;32mIn[28], line 32\u001b[0m\n\u001b[0;32m     21\u001b[0m \u001b[38;5;28;01mwith\u001b[39;00m SandboxClient(TOKEN) \u001b[38;5;28;01mas\u001b[39;00m client:\n\u001b[0;32m     22\u001b[0m  \u001b[38;5;66;03m#   response = client.users.get_accounts()\u001b[39;00m\n\u001b[0;32m     23\u001b[0m  \u001b[38;5;66;03m#   account, *_ = response.accounts\u001b[39;00m\n\u001b[0;32m     24\u001b[0m  \u001b[38;5;66;03m#   account_id = account.id\u001b[39;00m\n\u001b[0;32m     26\u001b[0m     logger\u001b[38;5;241m.\u001b[39minfo(\n\u001b[0;32m     27\u001b[0m         \u001b[38;5;124m\"\u001b[39m\u001b[38;5;124mGet pre-trade order commission and price for instrument=\u001b[39m\u001b[38;5;132;01m%s\u001b[39;00m\u001b[38;5;124m, quantity=\u001b[39m\u001b[38;5;132;01m%s\u001b[39;00m\u001b[38;5;124m and price=\u001b[39m\u001b[38;5;132;01m%s\u001b[39;00m\u001b[38;5;124m\"\u001b[39m,\n\u001b[0;32m     28\u001b[0m         INSTRUMENT_ID,\n\u001b[0;32m     29\u001b[0m         QUANTITY,\n\u001b[0;32m     30\u001b[0m         PRICE,\n\u001b[0;32m     31\u001b[0m     )\n\u001b[1;32m---> 32\u001b[0m     get_order_price \u001b[38;5;241m=\u001b[39m \u001b[43mclient\u001b[49m\u001b[38;5;241;43m.\u001b[39;49m\u001b[43morders\u001b[49m\u001b[38;5;241;43m.\u001b[39;49m\u001b[43mget_order_price\u001b[49m\u001b[43m(\u001b[49m\n\u001b[0;32m     33\u001b[0m \u001b[43m        \u001b[49m\u001b[43mGetOrderPriceRequest\u001b[49m\u001b[43m(\u001b[49m\n\u001b[0;32m     34\u001b[0m \u001b[43m            \u001b[49m\u001b[43maccount_id\u001b[49m\u001b[38;5;241;43m=\u001b[39;49m\u001b[43maccount_id\u001b[49m\u001b[43m,\u001b[49m\n\u001b[0;32m     35\u001b[0m \u001b[43m            \u001b[49m\u001b[43minstrument_id\u001b[49m\u001b[38;5;241;43m=\u001b[39;49m\u001b[43mINSTRUMENT_ID\u001b[49m\u001b[43m,\u001b[49m\n\u001b[0;32m     36\u001b[0m \u001b[43m            \u001b[49m\u001b[43mquantity\u001b[49m\u001b[38;5;241;43m=\u001b[39;49m\u001b[43mQUANTITY\u001b[49m\u001b[43m,\u001b[49m\n\u001b[0;32m     37\u001b[0m \u001b[43m            \u001b[49m\u001b[43mdirection\u001b[49m\u001b[38;5;241;43m=\u001b[39;49m\u001b[43mOrderDirection\u001b[49m\u001b[38;5;241;43m.\u001b[39;49m\u001b[43mORDER_DIRECTION_BUY\u001b[49m\u001b[43m,\u001b[49m\n\u001b[0;32m     38\u001b[0m \u001b[43m            \u001b[49m\u001b[43mprice\u001b[49m\u001b[38;5;241;43m=\u001b[39;49m\u001b[43mdecimal_to_quotation\u001b[49m\u001b[43m(\u001b[49m\u001b[43mDecimal\u001b[49m\u001b[43m(\u001b[49m\u001b[43mPRICE\u001b[49m\u001b[43m)\u001b[49m\u001b[43m)\u001b[49m\u001b[43m,\u001b[49m\n\u001b[0;32m     39\u001b[0m \u001b[43m        \u001b[49m\u001b[43m)\u001b[49m\n\u001b[0;32m     40\u001b[0m \u001b[43m    \u001b[49m\u001b[43m)\u001b[49m\n\u001b[0;32m     42\u001b[0m \u001b[38;5;28mprint\u001b[39m(get_order_price)\n",
      "File \u001b[1;32mD:\\Soft\\Anaconda\\envs\\t\\Lib\\site-packages\\tinkoff\\invest\\_errors.py:41\u001b[0m, in \u001b[0;36mhandle_request_error.<locals>.decorator.<locals>.wrapper\u001b[1;34m(*args, **kwargs)\u001b[0m\n\u001b[0;32m     36\u001b[0m     \u001b[38;5;28;01mif\u001b[39;00m status_code \u001b[38;5;241m==\u001b[39m StatusCode\u001b[38;5;241m.\u001b[39mUNAUTHENTICATED:\n\u001b[0;32m     37\u001b[0m         \u001b[38;5;28;01mraise\u001b[39;00m UnauthenticatedError(\n\u001b[0;32m     38\u001b[0m             status_code, details, metadata\n\u001b[0;32m     39\u001b[0m         ) \u001b[38;5;28;01mfrom\u001b[39;00m \u001b[38;5;21;01me\u001b[39;00m\n\u001b[1;32m---> 41\u001b[0m     \u001b[38;5;28;01mraise\u001b[39;00m RequestError(status_code, details, metadata) \u001b[38;5;28;01mfrom\u001b[39;00m \u001b[38;5;21;01me\u001b[39;00m\n\u001b[0;32m     42\u001b[0m \u001b[38;5;28;01mraise\u001b[39;00m\n",
      "\u001b[1;31mRequestError\u001b[0m: (<StatusCode.INTERNAL: (13, 'internal')>, '70001', Metadata(tracking_id='b04d0fb6967116ac629eb43dcea83191', ratelimit_limit='200, 200;w=60', ratelimit_remaining=199, ratelimit_reset=16, message='internal error'))"
     ]
    }
   ],
   "source": [
    "\n",
    "import logging\n",
    "import os\n",
    "from decimal import Decimal\n",
    "\n",
    "from tinkoff.invest import Client, GetOrderPriceRequest, OrderDirection\n",
    "from tinkoff.invest.utils import decimal_to_quotation\n",
    "\n",
    "TOKEN = TOKEN1\n",
    "\n",
    "logger = logging.getLogger(__name__)\n",
    "logging.basicConfig(level=logging.INFO)\n",
    "\n",
    "\n",
    "INSTRUMENT_ID = \"TCS00A105GE2\"\n",
    "QUANTITY = 1\n",
    "PRICE = 230.1\n",
    "\n",
    "\n",
    "\n",
    "logger.info(\"Getting Max Lots\")\n",
    "with SandboxClient(TOKEN) as client:\n",
    " #   response = client.users.get_accounts()\n",
    " #   account, *_ = response.accounts\n",
    " #   account_id = account.id\n",
    "\n",
    "    logger.info(\n",
    "        \"Get pre-trade order commission and price for instrument=%s, quantity=%s and price=%s\",\n",
    "        INSTRUMENT_ID,\n",
    "        QUANTITY,\n",
    "        PRICE,\n",
    "    )\n",
    "    get_order_price = client.orders.get_order_price(\n",
    "        GetOrderPriceRequest(\n",
    "            account_id=account_id,\n",
    "            instrument_id=INSTRUMENT_ID,\n",
    "            quantity=QUANTITY,\n",
    "            direction=OrderDirection.ORDER_DIRECTION_BUY,\n",
    "            price=decimal_to_quotation(Decimal(PRICE)),\n",
    "        )\n",
    "    )\n",
    "\n",
    "print(get_order_price)\n"
   ]
  },
  {
   "cell_type": "code",
   "execution_count": 41,
   "metadata": {
    "tags": []
   },
   "outputs": [
    {
     "data": {
      "text/plain": [
       "'9da21a29-1529-4b06-8e5f-7d88cca949c3'"
      ]
     },
     "execution_count": 41,
     "metadata": {},
     "output_type": "execute_result"
    }
   ],
   "source": [
    "account_id"
   ]
  },
  {
   "cell_type": "code",
   "execution_count": 24,
   "metadata": {
    "tags": []
   },
   "outputs": [
    {
     "ename": "NameError",
     "evalue": "name 'TOKEN' is not defined",
     "output_type": "error",
     "traceback": [
      "\u001b[1;31m---------------------------------------------------------------------------\u001b[0m",
      "\u001b[1;31mNameError\u001b[0m                                 Traceback (most recent call last)",
      "Cell \u001b[1;32mIn[24], line 15\u001b[0m\n\u001b[0;32m     12\u001b[0m \u001b[38;5;28;01mfrom\u001b[39;00m \u001b[38;5;21;01mtinkoff\u001b[39;00m\u001b[38;5;21;01m.\u001b[39;00m\u001b[38;5;21;01minvest\u001b[39;00m\u001b[38;5;21;01m.\u001b[39;00m\u001b[38;5;21;01mexceptions\u001b[39;00m \u001b[38;5;28;01mimport\u001b[39;00m InvestError\n\u001b[0;32m     13\u001b[0m \u001b[38;5;28;01mfrom\u001b[39;00m \u001b[38;5;21;01mtinkoff\u001b[39;00m\u001b[38;5;21;01m.\u001b[39;00m\u001b[38;5;21;01minvest\u001b[39;00m\u001b[38;5;21;01m.\u001b[39;00m\u001b[38;5;21;01mutils\u001b[39;00m \u001b[38;5;28;01mimport\u001b[39;00m decimal_to_quotation, quotation_to_decimal\n\u001b[1;32m---> 15\u001b[0m \u001b[38;5;28;01mwith\u001b[39;00m SandboxClient(\u001b[43mTOKEN\u001b[49m) \u001b[38;5;28;01mas\u001b[39;00m client:\n\u001b[0;32m     16\u001b[0m \u001b[38;5;66;03m#    response = client.users.get_accounts()\u001b[39;00m\n\u001b[0;32m     17\u001b[0m \u001b[38;5;66;03m#    account, *_ = response.accounts\u001b[39;00m\n\u001b[0;32m     18\u001b[0m \u001b[38;5;66;03m#    account_id = account.id\u001b[39;00m\n\u001b[0;32m     19\u001b[0m     logger\u001b[38;5;241m.\u001b[39minfo(\u001b[38;5;124m\"\u001b[39m\u001b[38;5;124mOrders: \u001b[39m\u001b[38;5;132;01m%s\u001b[39;00m\u001b[38;5;124m\"\u001b[39m, client\u001b[38;5;241m.\u001b[39morders\u001b[38;5;241m.\u001b[39mget_orders(account_id\u001b[38;5;241m=\u001b[39maccount_id))\n\u001b[0;32m     21\u001b[0m     figi \u001b[38;5;241m=\u001b[39m \u001b[38;5;124m\"\u001b[39m\u001b[38;5;124mBBG004730ZJ9\u001b[39m\u001b[38;5;124m\"\u001b[39m  \u001b[38;5;66;03m# BBG004730ZJ9 - VTBR / BBG004730N88 - SBER\u001b[39;00m\n",
      "\u001b[1;31mNameError\u001b[0m: name 'TOKEN' is not defined"
     ]
    }
   ],
   "source": [
    "import logging\n",
    "import os\n",
    "from decimal import Decimal\n",
    "\n",
    "from tinkoff.invest import (\n",
    "    Client,\n",
    "    InstrumentIdType,\n",
    "    StopOrderDirection,\n",
    "    StopOrderExpirationType,\n",
    "    StopOrderType,\n",
    ")\n",
    "from tinkoff.invest.exceptions import InvestError\n",
    "from tinkoff.invest.utils import decimal_to_quotation, quotation_to_decimal\n",
    "\n",
    "with SandboxClient(TOKEN) as client:\n",
    "#    response = client.users.get_accounts()\n",
    "#    account, *_ = response.accounts\n",
    "#    account_id = account.id\n",
    "    logger.info(\"Orders: %s\", client.orders.get_orders(account_id=account_id))\n",
    "\n",
    "    figi = \"BBG004730ZJ9\"  # BBG004730ZJ9 - VTBR / BBG004730N88 - SBER\n",
    "\n",
    "    # getting the last price for instrument\n",
    "    last_price = (\n",
    "        client.market_data.get_last_prices(figi=[figi]).last_prices[0].price\n",
    "    )\n",
    "    last_price = quotation_to_decimal(last_price)\n",
    "    print(f\"figi, last price = {last_price}\")\n",
    "\n",
    "    # setting the percentage by which the takeprofit stop order\n",
    "    # should be set below the last price\n",
    "    percent_down = 5\n",
    "\n",
    "    # calculation of the price for takeprofit stop order\n",
    "    calculated_price = last_price - last_price * Decimal(percent_down / 100)\n",
    "    print(f\"calculated_price = {calculated_price}\")\n",
    "\n",
    "    # getting the min price increment and the number of digits after point\n",
    "    min_price_increment = client.instruments.get_instrument_by(\n",
    "        id_type=InstrumentIdType.INSTRUMENT_ID_TYPE_FIGI, id=figi\n",
    "    ).instrument.min_price_increment\n",
    "    number_digits_after_point = 9 - len(str(min_price_increment.nano)) + 1\n",
    "    min_price_increment = quotation_to_decimal(min_price_increment)\n",
    "    print(\n",
    "        f\"min_price_increment = {min_price_increment}, \"\n",
    "        f\"number_digits_after_point={number_digits_after_point}\"\n",
    "    )\n",
    "\n",
    "    # calculation of the price for instrument which is\n",
    "    # divisible to min price increment\n",
    "    calculated_price = (\n",
    "        round(calculated_price / min_price_increment) * min_price_increment\n",
    "    )\n",
    "    print(\n",
    "        f\"let's send stop order at price = \"\n",
    "        f\"{calculated_price:.{number_digits_after_point}f} divisible to \"\n",
    "        f\"min price increment {min_price_increment}\"\n",
    "    )\n"
   ]
  },
  {
   "cell_type": "markdown",
   "metadata": {
    "tags": []
   },
   "source": [
    "### Market Order"
   ]
  },
  {
   "cell_type": "code",
   "execution_count": 13,
   "metadata": {
    "tags": []
   },
   "outputs": [
    {
     "name": "stderr",
     "output_type": "stream",
     "text": [
      "2024-04-03 09:11:12,726 INFO:0ededbd580708669f87e75db1eda44f8 GetTradingStatus\n"
     ]
    },
    {
     "data": {
      "text/plain": [
       "False"
      ]
     },
     "execution_count": 13,
     "metadata": {},
     "output_type": "execute_result"
    }
   ],
   "source": [
    "with SandboxClient(token) as client:\n",
    "    trading_status = client.market_data.get_trading_status(\n",
    "        figi=figi\n",
    "    )\n",
    "trading_status.api_trade_available_flag\n",
    "trading_status.market_order_available_flag"
   ]
  },
  {
   "cell_type": "code",
   "execution_count": 9,
   "metadata": {
    "tags": []
   },
   "outputs": [
    {
     "name": "stderr",
     "output_type": "stream",
     "text": [
      "2024-04-03 09:07:12,160 ERROR:18390a18d80f59ef1d8b0a6b70e7a0e6 PostOrder INVALID_ARGUMENT 30079\n"
     ]
    },
    {
     "ename": "RequestError",
     "evalue": "(<StatusCode.INVALID_ARGUMENT: (3, 'invalid argument')>, '30079', Metadata(tracking_id='18390a18d80f59ef1d8b0a6b70e7a0e6', ratelimit_limit='200, 200;w=60', ratelimit_remaining=199, ratelimit_reset=49, message='instrument is not available for trading'))",
     "output_type": "error",
     "traceback": [
      "\u001b[1;31m---------------------------------------------------------------------------\u001b[0m",
      "\u001b[1;31m_InactiveRpcError\u001b[0m                         Traceback (most recent call last)",
      "File \u001b[1;32mD:\\Soft\\Anaconda\\envs\\t\\Lib\\site-packages\\tinkoff\\invest\\_errors.py:23\u001b[0m, in \u001b[0;36mhandle_request_error.<locals>.decorator.<locals>.wrapper\u001b[1;34m(*args, **kwargs)\u001b[0m\n\u001b[0;32m     22\u001b[0m \u001b[38;5;28;01mtry\u001b[39;00m:\n\u001b[1;32m---> 23\u001b[0m     \u001b[38;5;28;01mreturn\u001b[39;00m \u001b[43mfunc\u001b[49m\u001b[43m(\u001b[49m\u001b[38;5;241;43m*\u001b[39;49m\u001b[43margs\u001b[49m\u001b[43m,\u001b[49m\u001b[43m \u001b[49m\u001b[38;5;241;43m*\u001b[39;49m\u001b[38;5;241;43m*\u001b[39;49m\u001b[43mkwargs\u001b[49m\u001b[43m)\u001b[49m\n\u001b[0;32m     24\u001b[0m \u001b[38;5;28;01mexcept\u001b[39;00m RpcError \u001b[38;5;28;01mas\u001b[39;00m e:\n",
      "File \u001b[1;32mD:\\Soft\\Anaconda\\envs\\t\\Lib\\site-packages\\tinkoff\\invest\\services.py:1298\u001b[0m, in \u001b[0;36mOrdersService.post_order\u001b[1;34m(self, figi, quantity, price, direction, account_id, order_type, order_id, instrument_id, time_in_force, price_type)\u001b[0m\n\u001b[0;32m   1297\u001b[0m request\u001b[38;5;241m.\u001b[39mprice_type \u001b[38;5;241m=\u001b[39m price_type\n\u001b[1;32m-> 1298\u001b[0m response, call \u001b[38;5;241m=\u001b[39m \u001b[38;5;28;43mself\u001b[39;49m\u001b[38;5;241;43m.\u001b[39;49m\u001b[43mstub\u001b[49m\u001b[38;5;241;43m.\u001b[39;49m\u001b[43mPostOrder\u001b[49m\u001b[38;5;241;43m.\u001b[39;49m\u001b[43mwith_call\u001b[49m\u001b[43m(\u001b[49m\n\u001b[0;32m   1299\u001b[0m \u001b[43m    \u001b[49m\u001b[43mrequest\u001b[49m\u001b[38;5;241;43m=\u001b[39;49m\u001b[43m_grpc_helpers\u001b[49m\u001b[38;5;241;43m.\u001b[39;49m\u001b[43mdataclass_to_protobuff\u001b[49m\u001b[43m(\u001b[49m\n\u001b[0;32m   1300\u001b[0m \u001b[43m        \u001b[49m\u001b[43mrequest\u001b[49m\u001b[43m,\u001b[49m\u001b[43m \u001b[49m\u001b[43morders_pb2\u001b[49m\u001b[38;5;241;43m.\u001b[39;49m\u001b[43mPostOrderRequest\u001b[49m\u001b[43m(\u001b[49m\u001b[43m)\u001b[49m\n\u001b[0;32m   1301\u001b[0m \u001b[43m    \u001b[49m\u001b[43m)\u001b[49m\u001b[43m,\u001b[49m\n\u001b[0;32m   1302\u001b[0m \u001b[43m    \u001b[49m\u001b[43mmetadata\u001b[49m\u001b[38;5;241;43m=\u001b[39;49m\u001b[38;5;28;43mself\u001b[39;49m\u001b[38;5;241;43m.\u001b[39;49m\u001b[43mmetadata\u001b[49m\u001b[43m,\u001b[49m\n\u001b[0;32m   1303\u001b[0m \u001b[43m\u001b[49m\u001b[43m)\u001b[49m\n\u001b[0;32m   1304\u001b[0m log_request(get_tracking_id_from_call(call), \u001b[38;5;124m\"\u001b[39m\u001b[38;5;124mPostOrder\u001b[39m\u001b[38;5;124m\"\u001b[39m)\n",
      "File \u001b[1;32mD:\\Soft\\Anaconda\\envs\\t\\Lib\\site-packages\\grpc\\_channel.py:1177\u001b[0m, in \u001b[0;36m_UnaryUnaryMultiCallable.with_call\u001b[1;34m(self, request, timeout, metadata, credentials, wait_for_ready, compression)\u001b[0m\n\u001b[0;32m   1171\u001b[0m (\n\u001b[0;32m   1172\u001b[0m     state,\n\u001b[0;32m   1173\u001b[0m     call,\n\u001b[0;32m   1174\u001b[0m ) \u001b[38;5;241m=\u001b[39m \u001b[38;5;28mself\u001b[39m\u001b[38;5;241m.\u001b[39m_blocking(\n\u001b[0;32m   1175\u001b[0m     request, timeout, metadata, credentials, wait_for_ready, compression\n\u001b[0;32m   1176\u001b[0m )\n\u001b[1;32m-> 1177\u001b[0m \u001b[38;5;28;01mreturn\u001b[39;00m \u001b[43m_end_unary_response_blocking\u001b[49m\u001b[43m(\u001b[49m\u001b[43mstate\u001b[49m\u001b[43m,\u001b[49m\u001b[43m \u001b[49m\u001b[43mcall\u001b[49m\u001b[43m,\u001b[49m\u001b[43m \u001b[49m\u001b[38;5;28;43;01mTrue\u001b[39;49;00m\u001b[43m,\u001b[49m\u001b[43m \u001b[49m\u001b[38;5;28;43;01mNone\u001b[39;49;00m\u001b[43m)\u001b[49m\n",
      "File \u001b[1;32mD:\\Soft\\Anaconda\\envs\\t\\Lib\\site-packages\\grpc\\_channel.py:1003\u001b[0m, in \u001b[0;36m_end_unary_response_blocking\u001b[1;34m(state, call, with_call, deadline)\u001b[0m\n\u001b[0;32m   1002\u001b[0m \u001b[38;5;28;01melse\u001b[39;00m:\n\u001b[1;32m-> 1003\u001b[0m     \u001b[38;5;28;01mraise\u001b[39;00m _InactiveRpcError(state)\n",
      "\u001b[1;31m_InactiveRpcError\u001b[0m: <_InactiveRpcError of RPC that terminated with:\n\tstatus = StatusCode.INVALID_ARGUMENT\n\tdetails = \"30079\"\n\tdebug_error_string = \"UNKNOWN:Error received from peer  {grpc_message:\"30079\", grpc_status:3, created_time:\"2024-04-03T05:07:12.1432703+00:00\"}\"\n>",
      "\nThe above exception was the direct cause of the following exception:\n",
      "\u001b[1;31mRequestError\u001b[0m                              Traceback (most recent call last)",
      "Cell \u001b[1;32mIn[9], line 4\u001b[0m\n\u001b[0;32m      2\u001b[0m figi \u001b[38;5;241m=\u001b[39m \u001b[38;5;124m\"\u001b[39m\u001b[38;5;124mBBG004730ZJ9\u001b[39m\u001b[38;5;124m\"\u001b[39m\n\u001b[0;32m      3\u001b[0m \u001b[38;5;28;01mwith\u001b[39;00m SandboxClient(token) \u001b[38;5;28;01mas\u001b[39;00m client:\n\u001b[1;32m----> 4\u001b[0m     resp \u001b[38;5;241m=\u001b[39m \u001b[43mclient\u001b[49m\u001b[38;5;241;43m.\u001b[39;49m\u001b[43morders\u001b[49m\u001b[38;5;241;43m.\u001b[39;49m\u001b[43mpost_order\u001b[49m\u001b[43m(\u001b[49m\u001b[43m \u001b[49m\u001b[43mfigi\u001b[49m\u001b[38;5;241;43m=\u001b[39;49m\u001b[43mfigi\u001b[49m\u001b[43m,\u001b[49m\n\u001b[0;32m      5\u001b[0m \u001b[43m                \u001b[49m\u001b[43mquantity\u001b[49m\u001b[38;5;241;43m=\u001b[39;49m\u001b[38;5;241;43m1\u001b[39;49m\u001b[43m,\u001b[49m\n\u001b[0;32m      6\u001b[0m \u001b[43m                \u001b[49m\u001b[43mdirection\u001b[49m\u001b[38;5;241;43m=\u001b[39;49m\u001b[43mOrderDirection\u001b[49m\u001b[38;5;241;43m.\u001b[39;49m\u001b[43mORDER_DIRECTION_BUY\u001b[49m\u001b[43m,\u001b[49m\n\u001b[0;32m      7\u001b[0m \u001b[43m                \u001b[49m\u001b[43maccount_id\u001b[49m\u001b[38;5;241;43m=\u001b[39;49m\u001b[43maccount_id\u001b[49m\u001b[43m,\u001b[49m\n\u001b[0;32m      8\u001b[0m \u001b[43m                \u001b[49m\u001b[43morder_type\u001b[49m\u001b[38;5;241;43m=\u001b[39;49m\u001b[43mOrderType\u001b[49m\u001b[38;5;241;43m.\u001b[39;49m\u001b[43mORDER_TYPE_MARKET\u001b[49m\u001b[43m,\u001b[49m\u001b[43m)\u001b[49m\n",
      "File \u001b[1;32mD:\\Soft\\Anaconda\\envs\\t\\Lib\\site-packages\\tinkoff\\invest\\_errors.py:41\u001b[0m, in \u001b[0;36mhandle_request_error.<locals>.decorator.<locals>.wrapper\u001b[1;34m(*args, **kwargs)\u001b[0m\n\u001b[0;32m     36\u001b[0m     \u001b[38;5;28;01mif\u001b[39;00m status_code \u001b[38;5;241m==\u001b[39m StatusCode\u001b[38;5;241m.\u001b[39mUNAUTHENTICATED:\n\u001b[0;32m     37\u001b[0m         \u001b[38;5;28;01mraise\u001b[39;00m UnauthenticatedError(\n\u001b[0;32m     38\u001b[0m             status_code, details, metadata\n\u001b[0;32m     39\u001b[0m         ) \u001b[38;5;28;01mfrom\u001b[39;00m \u001b[38;5;21;01me\u001b[39;00m\n\u001b[1;32m---> 41\u001b[0m     \u001b[38;5;28;01mraise\u001b[39;00m RequestError(status_code, details, metadata) \u001b[38;5;28;01mfrom\u001b[39;00m \u001b[38;5;21;01me\u001b[39;00m\n\u001b[0;32m     42\u001b[0m \u001b[38;5;28;01mraise\u001b[39;00m\n",
      "\u001b[1;31mRequestError\u001b[0m: (<StatusCode.INVALID_ARGUMENT: (3, 'invalid argument')>, '30079', Metadata(tracking_id='18390a18d80f59ef1d8b0a6b70e7a0e6', ratelimit_limit='200, 200;w=60', ratelimit_remaining=199, ratelimit_reset=49, message='instrument is not available for trading'))"
     ]
    }
   ],
   "source": [
    "from tinkoff.invest import OrderDirection, OrderType\n",
    "figi = \"BBG004730ZJ9\"\n",
    "with SandboxClient(token) as client:\n",
    "    resp = client.orders.post_order( figi=figi,\n",
    "                quantity=1,\n",
    "                direction=OrderDirection.ORDER_DIRECTION_BUY,\n",
    "                account_id=account_id,\n",
    "                order_type=OrderType.ORDER_TYPE_MARKET,)"
   ]
  },
  {
   "cell_type": "code",
   "execution_count": 55,
   "metadata": {
    "tags": []
   },
   "outputs": [
    {
     "data": {
      "text/plain": [
       "PostOrderResponse(order_id='8b666896-b27d-46e1-bcec-435b5d5f6231', execution_report_status=<OrderExecutionReportStatus.EXECUTION_REPORT_STATUS_FILL: 1>, lots_requested=1, lots_executed=1, initial_order_price=MoneyValue(currency='rub', units=232, nano=0), executed_order_price=MoneyValue(currency='rub', units=0, nano=23200000), total_order_amount=MoneyValue(currency='rub', units=232, nano=0), initial_commission=MoneyValue(currency='rub', units=0, nano=116000000), executed_commission=MoneyValue(currency='rub', units=0, nano=116000000), aci_value=MoneyValue(currency='', units=0, nano=0), figi='BBG004730ZJ9', direction=<OrderDirection.ORDER_DIRECTION_BUY: 1>, initial_security_price=MoneyValue(currency='rub', units=0, nano=23200000), order_type=<OrderType.ORDER_TYPE_MARKET: 2>, message='', initial_order_price_pt=Quotation(units=0, nano=0), instrument_uid='8e2b0325-0292-4654-8a18-4f63ed3b0e09', order_request_id='', response_metadata=ResponseMetadata(tracking_id='d4f88ec0baaae61b8b3fd5692828b887', server_time=datetime.datetime(2024, 4, 2, 16, 14, 31, 639027, tzinfo=datetime.timezone.utc)))"
      ]
     },
     "execution_count": 55,
     "metadata": {},
     "output_type": "execute_result"
    }
   ],
   "source": [
    "resp"
   ]
  },
  {
   "cell_type": "code",
   "execution_count": 66,
   "metadata": {
    "tags": []
   },
   "outputs": [
    {
     "name": "stderr",
     "output_type": "stream",
     "text": [
      "2024-04-03 08:22:30,915 INFO:3b660782159cb02542c10cdfa5550706 Shares\n",
      "2024-04-03 08:22:32,176 INFO:27fa9439f271f783e285ff053e0a4076 Currencies\n",
      "2024-04-03 08:22:32,436 INFO:52f29eda572f433d4b4eac4b7b452298 Futures\n",
      "2024-04-03 08:22:33,798 INFO:c85b8fa40e8996550b72672ee3c5b185 Bonds\n",
      "2024-04-03 08:22:34,731 INFO:8f26771087d22975c10be9585acb9c0b Etfs\n",
      "2024-04-03 08:22:35,041 INFO:1b446e3e56694a780af05eb98b175fa5 GetPortfolio\n"
     ]
    },
    {
     "data": {
      "text/html": [
       "<div>\n",
       "<style scoped>\n",
       "    .dataframe tbody tr th:only-of-type {\n",
       "        vertical-align: middle;\n",
       "    }\n",
       "\n",
       "    .dataframe tbody tr th {\n",
       "        vertical-align: top;\n",
       "    }\n",
       "\n",
       "    .dataframe thead th {\n",
       "        text-align: right;\n",
       "    }\n",
       "</style>\n",
       "<table border=\"1\" class=\"dataframe\">\n",
       "  <thead>\n",
       "    <tr style=\"text-align: right;\">\n",
       "      <th></th>\n",
       "      <th>figi</th>\n",
       "      <th>ticker</th>\n",
       "      <th>name</th>\n",
       "      <th>quantity</th>\n",
       "      <th>price</th>\n",
       "    </tr>\n",
       "  </thead>\n",
       "  <tbody>\n",
       "    <tr>\n",
       "      <th>1</th>\n",
       "      <td>BBG004730ZJ9</td>\n",
       "      <td>VTBR</td>\n",
       "      <td>Банк ВТБ</td>\n",
       "      <td>20000</td>\n",
       "      <td>0.02363</td>\n",
       "    </tr>\n",
       "    <tr>\n",
       "      <th>0</th>\n",
       "      <td>RUB000UTSTOM</td>\n",
       "      <td>None</td>\n",
       "      <td>None</td>\n",
       "      <td>1999535</td>\n",
       "      <td>0.00000</td>\n",
       "    </tr>\n",
       "  </tbody>\n",
       "</table>\n",
       "</div>"
      ],
      "text/plain": [
       "           figi ticker      name  quantity    price\n",
       "1  BBG004730ZJ9   VTBR  Банк ВТБ     20000  0.02363\n",
       "0  RUB000UTSTOM   None      None   1999535  0.00000"
      ]
     },
     "execution_count": 66,
     "metadata": {},
     "output_type": "execute_result"
    }
   ],
   "source": [
    "base = tink.get_id_base(token)\n",
    "\n",
    "sess = SandboxClient(token) \n",
    "\n",
    "with sess as cl:\n",
    "    port = cl.operations.get_portfolio(account_id=account_id) \n",
    "tink.port_to_df(port, base)"
   ]
  },
  {
   "cell_type": "code",
   "execution_count": 53,
   "metadata": {
    "tags": []
   },
   "outputs": [
    {
     "name": "stderr",
     "output_type": "stream",
     "text": [
      "2024-04-02 20:12:51,913 INFO:a5543646ba0e0aea5be67619ae261c2a GetTradingStatuses\n"
     ]
    },
    {
     "name": "stdout",
     "output_type": "stream",
     "text": [
      "GetTradingStatusesResponse(trading_statuses=[GetTradingStatusResponse(figi='BBG004730N88', trading_status=<SecurityTradingStatus.SECURITY_TRADING_STATUS_NORMAL_TRADING: 5>, limit_order_available_flag=True, market_order_available_flag=True, api_trade_available_flag=True, instrument_uid='e6123145-9665-43e0-8413-cd61b8aa9b13', bestprice_order_available_flag=True, only_best_price=False)])\n"
     ]
    }
   ],
   "source": [
    "with SandboxClient(token) as client:\n",
    "    statuses = client.market_data.get_trading_statuses(instrument_ids=[\"BBG004730N88\"])\n",
    "    print(statuses)"
   ]
  },
  {
   "cell_type": "markdown",
   "metadata": {
    "tags": []
   },
   "source": [
    "## Helper functions"
   ]
  },
  {
   "cell_type": "code",
   "execution_count": 2,
   "metadata": {},
   "outputs": [],
   "source": [
    "from pypfopt.efficient_frontier import EfficientFrontier\n",
    "from pypfopt import risk_models\n",
    "from pypfopt import expected_returns\n",
    "\n",
    "from datetime import datetime\n",
    "now = datetime.today().strftime('%Y-%m-%d')\n"
   ]
  },
  {
   "cell_type": "code",
   "execution_count": 16,
   "metadata": {
    "tags": []
   },
   "outputs": [],
   "source": [
    "def calculate_portfolio_difference(old_portfolio, new_portfolio):\n",
    "    \"\"\"\n",
    "    Рассчитать разницу между двумя портфелями.\n",
    "\n",
    "    Args:\n",
    "        old_portfolio: Словарь, где ключом является тикер, а значением - количество акций.\n",
    "        new_portfolio: Словарь, где ключом является тикер, а значением - количество акций.\n",
    "\n",
    "    Returns:\n",
    "        Словарь, где ключом является тикер, а значением - разница между количеством акций в \n",
    "        новых и старых портфелях.\n",
    "    \"\"\"\n",
    "\n",
    "    difference = {}\n",
    "    for ticker in new_portfolio:\n",
    "        if ticker in old_portfolio:\n",
    "            difference[ticker] = new_portfolio[ticker] - old_portfolio[ticker]\n",
    "        else:\n",
    "            difference[ticker] = new_portfolio[ticker]\n",
    "\n",
    "    for ticker in old_portfolio:\n",
    "        if ticker not in new_portfolio:\n",
    "            difference[ticker] = -old_portfolio[ticker]\n",
    "\n",
    "    return difference\n"
   ]
  },
  {
   "cell_type": "code",
   "execution_count": 31,
   "metadata": {
    "tags": []
   },
   "outputs": [
    {
     "name": "stdout",
     "output_type": "stream",
     "text": [
      "Количество: 1, Вес: 40.00%\n",
      "Количество: 1, Вес: 30.00%\n",
      "Количество: 1, Вес: 30.00%\n",
      "\n",
      "Общая сумма: 1011\n"
     ]
    }
   ],
   "source": [
    "def calculate_portfolio_allocation(weights, total_amount, lot_sizes):\n",
    "    \"\"\"\n",
    "    Рассчитать распределение суммы на веса в портфеле, учитывая лоты.\n",
    "\n",
    "    Args:\n",
    "        weights: Список весов акций в портфеле.\n",
    "        total_amount: Общая сумма, которую нужно распределить.\n",
    "        lot_sizes: Список размеров лотов для акций.\n",
    "\n",
    "    Returns:\n",
    "        Список, где каждый элемент - количество акций, \n",
    "        округленное до размера лота.\n",
    "    \"\"\"\n",
    "\n",
    "    # Нормализация весов\n",
    "    weights = normalize_weights(weights)\n",
    "\n",
    "    # Распределение суммы\n",
    "    amounts = [weight * total_amount for weight in weights]\n",
    "\n",
    "    # Округление до размера лота\n",
    "    quantities = [round(amount / lot_size, 0) for amount, lot_size in zip(amounts, lot_sizes)]\n",
    "\n",
    "    # Корректировка с учетом минимального лота\n",
    "    for i in range(len(quantities)):\n",
    "        if lot_sizes[i] > 0 and quantities[i] * lot_sizes[i] < total_amount:\n",
    "            quantities[i] = 1\n",
    "\n",
    "    # Распределение остатка\n",
    "    remaining_amount = total_amount - sum(quantity * lot_size for quantity, lot_size in zip(quantities, lot_sizes))\n",
    "\n",
    "    return quantities, remaining_amount\n",
    "\n",
    "\n",
    "def normalize_weights(weights):\n",
    "    \"\"\"\n",
    "    Нормализовать веса, чтобы они давали в сумме единицу.\n",
    "\n",
    "    Args:\n",
    "        weights: Список весов.\n",
    "\n",
    "    Returns:\n",
    "        Список нормализованных весов.\n",
    "    \"\"\"\n",
    "\n",
    "    total_weight = sum(weights)\n",
    "    return [weight / total_weight for weight in weights]\n",
    "\n",
    "\n",
    "# Пример\n",
    "weights = [0.4, 0.3, 0.3]\n",
    "total_amount = 10000\n",
    "lot_sizes = [1, 10, 1000]\n",
    "\n",
    "quantities, rem = calculate_portfolio_allocation(weights, total_amount, lot_sizes)\n",
    "\n",
    "# Вывод\n",
    "for quantity, weight in zip(quantities, weights):\n",
    "    print(f\"Количество: {quantity}, Вес: {weight:.2%}\")\n",
    "\n",
    "print(f\"\\nОбщая сумма: {sum(quantity * lot_size for quantity, lot_size in zip(quantities, lot_sizes))}\")"
   ]
  },
  {
   "cell_type": "code",
   "execution_count": 21,
   "metadata": {
    "tags": []
   },
   "outputs": [
    {
     "name": "stdout",
     "output_type": "stream",
     "text": [
      "Количество: 4000\n",
      "Цена за лот: 1.0\n",
      "Стоимость позиции: 4000\n",
      "\n",
      "Количество: 3000\n",
      "Цена за лот: 10.0\n",
      "Стоимость позиции: 30000\n",
      "\n",
      "Количество: 3000\n",
      "Цена за лот: 1000.0\n",
      "Стоимость позиции: 3000000\n",
      "\n",
      "\n",
      "Общая сумма: 3034000\n"
     ]
    }
   ],
   "source": [
    "def calculate_portfolio_allocation(weights, total_amount, lot_sizes):\n",
    "    \"\"\"\n",
    "    Рассчитать распределение суммы на веса в портфеле, учитывая лоты.\n",
    "\n",
    "    Args:\n",
    "        weights: Список весов акций в портфеле.\n",
    "        total_amount: Общая сумма, которую нужно распределить.\n",
    "        lot_sizes: Список размеров лотов для акций.\n",
    "\n",
    "    Returns:\n",
    "        Список, где каждый элемент - \n",
    "        словарь с информацией о количестве акций, цене за 1 акцию, \n",
    "        цене за лот и стоимости позиции.\n",
    "    \"\"\"\n",
    "\n",
    "    # Нормализация весов\n",
    "    weights = normalize_weights(weights)\n",
    "\n",
    "    # Распределение суммы\n",
    "    amounts = [weight * total_amount for weight in weights]\n",
    "\n",
    "    # Округление до размера лота\n",
    "    quantities = [round_to_lot_size(amount, lot_size) for amount, lot_size in zip(amounts, lot_sizes)]\n",
    "\n",
    "    # Расчет стоимости позиции\n",
    "    position_values = [quantity * lot_size for quantity, lot_size in zip(quantities, lot_sizes)]\n",
    "\n",
    "    # Формирование выходных данных\n",
    "    portfolio = []\n",
    "    for quantity, lot_size, position_value in zip(quantities, lot_sizes, position_values):\n",
    "        portfolio.append({\n",
    "            \"quantity\": quantity,\n",
    "            \"price_per_lot\": position_value / quantity,\n",
    "            \"position_value\": position_value,\n",
    "        })\n",
    "\n",
    "    return portfolio\n",
    "\n",
    "\n",
    "def round_to_lot_size(amount, lot_size):\n",
    "    \"\"\"\n",
    "    Округлить число до размера лота.\n",
    "\n",
    "    Args:\n",
    "        amount: Число, которое нужно округлить.\n",
    "        lot_size: Размер лота.\n",
    "\n",
    "    Returns:\n",
    "        Округленное число.\n",
    "    \"\"\"\n",
    "\n",
    "    if lot_size == 1:\n",
    "        return round(amount)\n",
    "\n",
    "    return round(amount / lot_size) * lot_size\n",
    "\n",
    "\n",
    "# Пример\n",
    "weights = [0.4, 0.3, 0.3]\n",
    "total_amount = 10000\n",
    "lot_sizes = [1, 10, 1000]\n",
    "\n",
    "portfolio = calculate_portfolio_allocation(weights, total_amount, lot_sizes)\n",
    "\n",
    "# Вывод\n",
    "for position in portfolio:\n",
    "    print(f\"Количество: {position['quantity']}\")\n",
    "    print(f\"Цена за лот: {position['price_per_lot']}\")\n",
    "    print(f\"Стоимость позиции: {position['position_value']}\")\n",
    "    print()\n",
    "\n",
    "print(f\"\\nОбщая сумма: {sum(position['position_value'] for position in portfolio)}\")"
   ]
  }
 ],
 "metadata": {
  "kernelspec": {
   "display_name": "t",
   "language": "python",
   "name": "t"
  },
  "language_info": {
   "codemirror_mode": {
    "name": "ipython",
    "version": 3
   },
   "file_extension": ".py",
   "mimetype": "text/x-python",
   "name": "python",
   "nbconvert_exporter": "python",
   "pygments_lexer": "ipython3",
   "version": "3.9.4"
  }
 },
 "nbformat": 4,
 "nbformat_minor": 4
}
