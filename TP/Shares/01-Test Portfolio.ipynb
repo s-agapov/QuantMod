{
 "cells": [
  {
   "cell_type": "code",
   "execution_count": null,
   "metadata": {},
   "outputs": [],
   "source": []
  },
  {
   "cell_type": "code",
   "execution_count": 1,
   "metadata": {
    "tags": []
   },
   "outputs": [
    {
     "name": "stderr",
     "output_type": "stream",
     "text": [
      "/home/samsmu/anaconda3/envs/t/lib/python3.9/site-packages/pandas/core/computation/expressions.py:21: UserWarning: Pandas requires version '2.8.4' or newer of 'numexpr' (version '2.7.3' currently installed).\n",
      "  from pandas.core.computation.check import NUMEXPR_INSTALLED\n",
      "/home/samsmu/anaconda3/envs/t/lib/python3.9/site-packages/pandas/core/arrays/masked.py:60: UserWarning: Pandas requires version '1.3.6' or newer of 'bottleneck' (version '1.3.2' currently installed).\n",
      "  from pandas.core import (\n"
     ]
    },
    {
     "ename": "ModuleNotFoundError",
     "evalue": "No module named 'tp_config'",
     "output_type": "error",
     "traceback": [
      "\u001b[0;31m---------------------------------------------------------------------------\u001b[0m",
      "\u001b[0;31mModuleNotFoundError\u001b[0m                       Traceback (most recent call last)",
      "\u001b[0;32m<ipython-input-1-5fdab2185ab6>\u001b[0m in \u001b[0;36m<module>\u001b[0;34m\u001b[0m\n\u001b[1;32m      9\u001b[0m \u001b[0msys\u001b[0m\u001b[0;34m.\u001b[0m\u001b[0mpath\u001b[0m\u001b[0;34m.\u001b[0m\u001b[0mappend\u001b[0m\u001b[0;34m(\u001b[0m\u001b[0;34m\"..\"\u001b[0m\u001b[0;34m)\u001b[0m\u001b[0;34m\u001b[0m\u001b[0;34m\u001b[0m\u001b[0m\n\u001b[1;32m     10\u001b[0m \u001b[0;32mfrom\u001b[0m \u001b[0mtp_utils\u001b[0m \u001b[0;32mimport\u001b[0m \u001b[0;34m*\u001b[0m\u001b[0;34m\u001b[0m\u001b[0;34m\u001b[0m\u001b[0m\n\u001b[0;32m---> 11\u001b[0;31m \u001b[0;32mfrom\u001b[0m \u001b[0mtp_config\u001b[0m \u001b[0;32mimport\u001b[0m \u001b[0;34m*\u001b[0m\u001b[0;34m\u001b[0m\u001b[0;34m\u001b[0m\u001b[0m\n\u001b[0m\u001b[1;32m     12\u001b[0m \u001b[0;32mfrom\u001b[0m \u001b[0mtp_assets\u001b[0m \u001b[0;32mimport\u001b[0m \u001b[0;34m*\u001b[0m\u001b[0;34m\u001b[0m\u001b[0;34m\u001b[0m\u001b[0m\n",
      "\u001b[0;31mModuleNotFoundError\u001b[0m: No module named 'tp_config'"
     ]
    }
   ],
   "source": [
    "import numpy as np\n",
    "import pandas as pd\n",
    "from glob import glob\n",
    "import sys\n",
    "import os\n",
    "\n",
    "import matplotlib.pyplot as plt\n",
    "\n",
    "sys.path.append(\"..\") \n",
    "from tp_utils import *\n",
    "from tp_config import *\n",
    "from tp_assets import *"
   ]
  },
  {
   "cell_type": "code",
   "execution_count": 4,
   "metadata": {
    "tags": []
   },
   "outputs": [],
   "source": [
    "TOKEN0 = 't.UFRJ8SC9hafVOhFxEUY7yf1wZ1gGhwJp-WCp9o4rnEChHWns0c3jQ21eQwoOW_RurFqeZpss2scJkmMQnomJ9g'\n",
    "TOKEN1 = 't.6nHltT1dYSfrVTIV9zF72fxDlB2sXJbRD6iJNpZXTFAN61rmD7m71xPp9ko12ta1JxA06em4YdN36xicnBmjWg'\n",
    "\n",
    "token = TOKEN0"
   ]
  },
  {
   "cell_type": "markdown",
   "metadata": {
    "tags": []
   },
   "source": [
    "## Tinkoff sandbox"
   ]
  },
  {
   "cell_type": "code",
   "execution_count": 12,
   "metadata": {
    "tags": []
   },
   "outputs": [],
   "source": [
    "logging.basicConfig(format=\"%(asctime)s %(levelname)s:%(message)s\", level=logging.DEBUG)\n",
    "logger = logging.getLogger(__name__)\n",
    "\n",
    "\n",
    "def add_money_sandbox(client, account_id, money, currency=\"rub\"):\n",
    "    \"\"\"Function to add money to sandbox account.\"\"\"\n",
    "    money = decimal_to_quotation(Decimal(money))\n",
    "    return client.sandbox.sandbox_pay_in(\n",
    "        account_id=account_id,\n",
    "        amount=MoneyValue(units=money.units, nano=money.nano, currency=currency),\n",
    "    )"
   ]
  },
  {
   "cell_type": "markdown",
   "metadata": {
    "tags": []
   },
   "source": [
    "### Get accounts"
   ]
  },
  {
   "cell_type": "code",
   "execution_count": 8,
   "metadata": {
    "tags": []
   },
   "outputs": [
    {
     "name": "stdout",
     "output_type": "stream",
     "text": [
      "GetAccountsResponse(accounts=[Account(id='906e2901-c68e-4848-944c-9617aadd216d', type=<AccountType.ACCOUNT_TYPE_TINKOFF: 1>, name='', status=<AccountStatus.ACCOUNT_STATUS_OPEN: 2>, opened_date=datetime.datetime(2024, 1, 18, 12, 49, 28, 599230, tzinfo=datetime.timezone.utc), closed_date=datetime.datetime(1970, 1, 1, 0, 0, tzinfo=datetime.timezone.utc), access_level=<AccessLevel.ACCOUNT_ACCESS_LEVEL_FULL_ACCESS: 1>)])\n",
      "064522ee-7760-422b-8995-1d1a4476c83b\n"
     ]
    }
   ],
   "source": [
    "\"\"\"Example - How to set/get balance for sandbox account.\n",
    "How to get/close all sandbox accounts.\n",
    "How to open new sandbox account.\"\"\"\n",
    "with SandboxClient(token) as client:\n",
    "    # get all sandbox accounts\n",
    "    sandbox_accounts = client.users.get_accounts()\n",
    "    print(sandbox_accounts)\n",
    "\n",
    "    # close all sandbox accounts\n",
    "    for sandbox_account in sandbox_accounts.accounts:\n",
    "        client.sandbox.close_sandbox_account(account_id=sandbox_account.id)\n",
    "\n",
    "    # open new sandbox account\n",
    "    sandbox_account = client.sandbox.open_sandbox_account()\n",
    "    print(sandbox_account.account_id)\n",
    "\n",
    "    account_id = sandbox_account.account_id"
   ]
  },
  {
   "cell_type": "markdown",
   "metadata": {},
   "source": [
    "### Add money to Account"
   ]
  },
  {
   "cell_type": "code",
   "execution_count": 13,
   "metadata": {
    "tags": []
   },
   "outputs": [
    {
     "name": "stderr",
     "output_type": "stream",
     "text": [
      "2024-03-31 11:21:11,289 INFO:0e342b0c6c227b74cb7cd866751aa2cf SandboxPayIn\n",
      "2024-03-31 11:21:11,328 INFO:52731d154e4ab6a4a2f96b16b26ad1e3 GetPositions\n",
      "2024-03-31 11:21:11,329 INFO:positions: PositionsResponse(money=[MoneyValue(currency='rub', units=2000000, nano=0)], blocked=[MoneyValue(currency='rub', units=0, nano=0)], securities=[], limits_loading_in_progress=False, futures=[], options=[])\n",
      "2024-03-31 11:21:11,362 INFO:dd96ccec7d690375d4d62bb393b9a9a4 GetPositions\n"
     ]
    },
    {
     "name": "stdout",
     "output_type": "stream",
     "text": [
      "SandboxPayInResponse(balance=MoneyValue(currency='rub', units=2000000, nano=0))\n",
      "money:  2000000.0\n"
     ]
    }
   ],
   "source": [
    "with SandboxClient(token) as client:\n",
    "      # add initial 2 000 000 to sandbox account\n",
    "        print(add_money_sandbox(client=client, account_id=account_id, money=2000000))\n",
    "        logger.info(\n",
    "            \"positions: %s\", client.operations.get_positions(account_id=account_id)\n",
    "        )\n",
    "        print(\n",
    "            \"money: \",\n",
    "            float(\n",
    "                quotation_to_decimal(\n",
    "                    client.operations.get_positions(account_id=account_id).money[0]\n",
    "                )\n",
    "            ),\n",
    "        )"
   ]
  },
  {
   "cell_type": "markdown",
   "metadata": {},
   "source": [
    "### Account Operations"
   ]
  },
  {
   "cell_type": "code",
   "execution_count": 14,
   "metadata": {
    "tags": []
   },
   "outputs": [
    {
     "name": "stderr",
     "output_type": "stream",
     "text": [
      "2024-03-31 11:23:15,354 INFO:e5ace91b692eae9d8495b714896f3d8d GetOrders\n",
      "2024-03-31 11:23:15,355 INFO:orders: GetOrdersResponse(orders=[])\n",
      "2024-03-31 11:23:15,406 INFO:6e70d944f04fb9909701df51aad9c7b6 GetPositions\n",
      "2024-03-31 11:23:15,406 INFO:positions: PositionsResponse(money=[MoneyValue(currency='rub', units=2000000, nano=0)], blocked=[MoneyValue(currency='rub', units=0, nano=0)], securities=[], limits_loading_in_progress=False, futures=[], options=[])\n",
      "2024-03-31 11:23:15,442 INFO:74ae5ded9b5919aa893f935a8d5ae613 GetPortfolio\n",
      "2024-03-31 11:23:15,444 INFO:portfolio: PortfolioResponse(total_amount_shares=MoneyValue(currency='rub', units=0, nano=0), total_amount_bonds=MoneyValue(currency='rub', units=0, nano=0), total_amount_etf=MoneyValue(currency='rub', units=0, nano=0), total_amount_currencies=MoneyValue(currency='rub', units=2000000, nano=0), total_amount_futures=MoneyValue(currency='rub', units=0, nano=0), expected_yield=Quotation(units=0, nano=0), positions=[PortfolioPosition(figi='RUB000UTSTOM', instrument_type='currency', quantity=Quotation(units=2000000, nano=0), average_position_price=MoneyValue(currency='', units=0, nano=0), expected_yield=Quotation(units=0, nano=0), current_nkd=MoneyValue(currency='', units=0, nano=0), average_position_price_pt=Quotation(units=0, nano=0), current_price=MoneyValue(currency='', units=0, nano=0), average_position_price_fifo=MoneyValue(currency='', units=0, nano=0), quantity_lots=Quotation(units=2000000, nano=0), blocked=False, blocked_lots=Quotation(units=0, nano=0), position_uid='33e24a92-aab0-409c-88b8-f2d57415b920', instrument_uid='a92e2e25-a698-45cc-a781-167cf465257c', var_margin=MoneyValue(currency='', units=0, nano=0), expected_yield_fifo=Quotation(units=0, nano=0))], account_id='064522ee-7760-422b-8995-1d1a4476c83b', total_amount_options=MoneyValue(currency='rub', units=0, nano=0), total_amount_sp=MoneyValue(currency='rub', units=0, nano=0), total_amount_portfolio=MoneyValue(currency='rub', units=2000000, nano=0), virtual_positions=[])\n",
      "2024-03-31 11:23:15,480 INFO:a58e01fa71b2d90d89a35eec815b4911 GetOperations\n",
      "2024-03-31 11:23:15,481 INFO:operations: OperationsResponse(operations=[])\n",
      "2024-03-31 11:23:15,519 INFO:0ab5dfa4e2ee78d54346345630463ceb GetWithdrawLimits\n",
      "2024-03-31 11:23:15,520 INFO:withdraw_limits: WithdrawLimitsResponse(money=[MoneyValue(currency='rub', units=2000000, nano=0)], blocked=[], blocked_guarantee=[])\n"
     ]
    }
   ],
   "source": [
    "with SandboxClient(token) as client:\n",
    "    logger.info(\"orders: %s\", client.orders.get_orders(account_id=account_id))\n",
    "    logger.info(\n",
    "        \"positions: %s\", client.operations.get_positions(account_id=account_id)\n",
    "    )\n",
    "    logger.info(\n",
    "        \"portfolio: %s\", client.operations.get_portfolio(account_id=account_id)\n",
    "    )\n",
    "    logger.info(\n",
    "        \"operations: %s\",\n",
    "        client.operations.get_operations(\n",
    "            account_id=account_id,\n",
    "            from_=datetime(2023, 1, 1),\n",
    "            to=datetime(2023, 2, 5),\n",
    "        ),\n",
    "    )\n",
    "    logger.info(\n",
    "        \"withdraw_limits: %s\",\n",
    "        client.operations.get_withdraw_limits(account_id=account_id),\n",
    "    )"
   ]
  },
  {
   "cell_type": "markdown",
   "metadata": {},
   "source": [
    "### Закрытие аккаунта"
   ]
  },
  {
   "cell_type": "code",
   "execution_count": 15,
   "metadata": {
    "tags": []
   },
   "outputs": [
    {
     "name": "stderr",
     "output_type": "stream",
     "text": [
      "2024-03-31 11:25:02,638 INFO:479c3b336f5f9bc9e1461d06abae047a SandboxPayIn\n",
      "2024-03-31 11:25:02,674 INFO:6b6c36a8dfbc7198565f34064a34f626 GetPositions\n",
      "2024-03-31 11:25:02,675 INFO:positions: PositionsResponse(money=[MoneyValue(currency='rub', units=4000000, nano=0)], blocked=[MoneyValue(currency='rub', units=0, nano=0)], securities=[], limits_loading_in_progress=False, futures=[], options=[])\n",
      "2024-03-31 11:25:02,719 INFO:2467bc738855363080bc5e2f5e9f6a5a CloseSandboxAccount\n"
     ]
    },
    {
     "name": "stdout",
     "output_type": "stream",
     "text": [
      "SandboxPayInResponse(balance=MoneyValue(currency='rub', units=4000000, nano=0))\n",
      "CloseSandboxAccountResponse()\n"
     ]
    }
   ],
   "source": [
    "with SandboxClient(token) as client:        \n",
    "        # add + 2 000 000 to sandbox account, total is 4 000 000\n",
    "        print(add_money_sandbox(client=client, account_id=account_id, money=2000000))\n",
    "        logger.info(\n",
    "            \"positions: %s\", client.operations.get_positions(account_id=account_id)\n",
    "        )\n",
    "\n",
    "        # close new sandbox account\n",
    "        sandbox_account = client.sandbox.close_sandbox_account(\n",
    "            account_id=sandbox_account.account_id\n",
    "        )\n",
    "        print(sandbox_account)\n"
   ]
  },
  {
   "cell_type": "markdown",
   "metadata": {
    "tags": []
   },
   "source": [
    "## Helper functions"
   ]
  },
  {
   "cell_type": "code",
   "execution_count": 2,
   "metadata": {},
   "outputs": [],
   "source": [
    "from pypfopt.efficient_frontier import EfficientFrontier\n",
    "from pypfopt import risk_models\n",
    "from pypfopt import expected_returns\n",
    "\n",
    "from datetime import datetime\n",
    "now = datetime.today().strftime('%Y-%m-%d')\n"
   ]
  },
  {
   "cell_type": "code",
   "execution_count": 16,
   "metadata": {
    "tags": []
   },
   "outputs": [],
   "source": [
    "def calculate_portfolio_difference(old_portfolio, new_portfolio):\n",
    "    \"\"\"\n",
    "    Рассчитать разницу между двумя портфелями.\n",
    "\n",
    "    Args:\n",
    "        old_portfolio: Словарь, где ключом является тикер, а значением - количество акций.\n",
    "        new_portfolio: Словарь, где ключом является тикер, а значением - количество акций.\n",
    "\n",
    "    Returns:\n",
    "        Словарь, где ключом является тикер, а значением - разница между количеством акций в \n",
    "        новых и старых портфелях.\n",
    "    \"\"\"\n",
    "\n",
    "    difference = {}\n",
    "    for ticker in new_portfolio:\n",
    "        if ticker in old_portfolio:\n",
    "            difference[ticker] = new_portfolio[ticker] - old_portfolio[ticker]\n",
    "        else:\n",
    "            difference[ticker] = new_portfolio[ticker]\n",
    "\n",
    "    for ticker in old_portfolio:\n",
    "        if ticker not in new_portfolio:\n",
    "            difference[ticker] = -old_portfolio[ticker]\n",
    "\n",
    "    return difference\n"
   ]
  },
  {
   "cell_type": "code",
   "execution_count": 31,
   "metadata": {
    "tags": []
   },
   "outputs": [
    {
     "name": "stdout",
     "output_type": "stream",
     "text": [
      "Количество: 1, Вес: 40.00%\n",
      "Количество: 1, Вес: 30.00%\n",
      "Количество: 1, Вес: 30.00%\n",
      "\n",
      "Общая сумма: 1011\n"
     ]
    }
   ],
   "source": [
    "def calculate_portfolio_allocation(weights, total_amount, lot_sizes):\n",
    "    \"\"\"\n",
    "    Рассчитать распределение суммы на веса в портфеле, учитывая лоты.\n",
    "\n",
    "    Args:\n",
    "        weights: Список весов акций в портфеле.\n",
    "        total_amount: Общая сумма, которую нужно распределить.\n",
    "        lot_sizes: Список размеров лотов для акций.\n",
    "\n",
    "    Returns:\n",
    "        Список, где каждый элемент - количество акций, \n",
    "        округленное до размера лота.\n",
    "    \"\"\"\n",
    "\n",
    "    # Нормализация весов\n",
    "    weights = normalize_weights(weights)\n",
    "\n",
    "    # Распределение суммы\n",
    "    amounts = [weight * total_amount for weight in weights]\n",
    "\n",
    "    # Округление до размера лота\n",
    "    quantities = [round(amount / lot_size, 0) for amount, lot_size in zip(amounts, lot_sizes)]\n",
    "\n",
    "    # Корректировка с учетом минимального лота\n",
    "    for i in range(len(quantities)):\n",
    "        if lot_sizes[i] > 0 and quantities[i] * lot_sizes[i] < total_amount:\n",
    "            quantities[i] = 1\n",
    "\n",
    "    # Распределение остатка\n",
    "    remaining_amount = total_amount - sum(quantity * lot_size for quantity, lot_size in zip(quantities, lot_sizes))\n",
    "\n",
    "    return quantities, remaining_amount\n",
    "\n",
    "\n",
    "def normalize_weights(weights):\n",
    "    \"\"\"\n",
    "    Нормализовать веса, чтобы они давали в сумме единицу.\n",
    "\n",
    "    Args:\n",
    "        weights: Список весов.\n",
    "\n",
    "    Returns:\n",
    "        Список нормализованных весов.\n",
    "    \"\"\"\n",
    "\n",
    "    total_weight = sum(weights)\n",
    "    return [weight / total_weight for weight in weights]\n",
    "\n",
    "\n",
    "# Пример\n",
    "weights = [0.4, 0.3, 0.3]\n",
    "total_amount = 10000\n",
    "lot_sizes = [1, 10, 1000]\n",
    "\n",
    "quantities, rem = calculate_portfolio_allocation(weights, total_amount, lot_sizes)\n",
    "\n",
    "# Вывод\n",
    "for quantity, weight in zip(quantities, weights):\n",
    "    print(f\"Количество: {quantity}, Вес: {weight:.2%}\")\n",
    "\n",
    "print(f\"\\nОбщая сумма: {sum(quantity * lot_size for quantity, lot_size in zip(quantities, lot_sizes))}\")"
   ]
  },
  {
   "cell_type": "code",
   "execution_count": 21,
   "metadata": {
    "tags": []
   },
   "outputs": [
    {
     "name": "stdout",
     "output_type": "stream",
     "text": [
      "Количество: 4000\n",
      "Цена за лот: 1.0\n",
      "Стоимость позиции: 4000\n",
      "\n",
      "Количество: 3000\n",
      "Цена за лот: 10.0\n",
      "Стоимость позиции: 30000\n",
      "\n",
      "Количество: 3000\n",
      "Цена за лот: 1000.0\n",
      "Стоимость позиции: 3000000\n",
      "\n",
      "\n",
      "Общая сумма: 3034000\n"
     ]
    }
   ],
   "source": [
    "def calculate_portfolio_allocation(weights, total_amount, lot_sizes):\n",
    "    \"\"\"\n",
    "    Рассчитать распределение суммы на веса в портфеле, учитывая лоты.\n",
    "\n",
    "    Args:\n",
    "        weights: Список весов акций в портфеле.\n",
    "        total_amount: Общая сумма, которую нужно распределить.\n",
    "        lot_sizes: Список размеров лотов для акций.\n",
    "\n",
    "    Returns:\n",
    "        Список, где каждый элемент - \n",
    "        словарь с информацией о количестве акций, цене за 1 акцию, \n",
    "        цене за лот и стоимости позиции.\n",
    "    \"\"\"\n",
    "\n",
    "    # Нормализация весов\n",
    "    weights = normalize_weights(weights)\n",
    "\n",
    "    # Распределение суммы\n",
    "    amounts = [weight * total_amount for weight in weights]\n",
    "\n",
    "    # Округление до размера лота\n",
    "    quantities = [round_to_lot_size(amount, lot_size) for amount, lot_size in zip(amounts, lot_sizes)]\n",
    "\n",
    "    # Расчет стоимости позиции\n",
    "    position_values = [quantity * lot_size for quantity, lot_size in zip(quantities, lot_sizes)]\n",
    "\n",
    "    # Формирование выходных данных\n",
    "    portfolio = []\n",
    "    for quantity, lot_size, position_value in zip(quantities, lot_sizes, position_values):\n",
    "        portfolio.append({\n",
    "            \"quantity\": quantity,\n",
    "            \"price_per_lot\": position_value / quantity,\n",
    "            \"position_value\": position_value,\n",
    "        })\n",
    "\n",
    "    return portfolio\n",
    "\n",
    "\n",
    "def round_to_lot_size(amount, lot_size):\n",
    "    \"\"\"\n",
    "    Округлить число до размера лота.\n",
    "\n",
    "    Args:\n",
    "        amount: Число, которое нужно округлить.\n",
    "        lot_size: Размер лота.\n",
    "\n",
    "    Returns:\n",
    "        Округленное число.\n",
    "    \"\"\"\n",
    "\n",
    "    if lot_size == 1:\n",
    "        return round(amount)\n",
    "\n",
    "    return round(amount / lot_size) * lot_size\n",
    "\n",
    "\n",
    "# Пример\n",
    "weights = [0.4, 0.3, 0.3]\n",
    "total_amount = 10000\n",
    "lot_sizes = [1, 10, 1000]\n",
    "\n",
    "portfolio = calculate_portfolio_allocation(weights, total_amount, lot_sizes)\n",
    "\n",
    "# Вывод\n",
    "for position in portfolio:\n",
    "    print(f\"Количество: {position['quantity']}\")\n",
    "    print(f\"Цена за лот: {position['price_per_lot']}\")\n",
    "    print(f\"Стоимость позиции: {position['position_value']}\")\n",
    "    print()\n",
    "\n",
    "print(f\"\\nОбщая сумма: {sum(position['position_value'] for position in portfolio)}\")"
   ]
  }
 ],
 "metadata": {
  "kernelspec": {
   "display_name": "t",
   "language": "python",
   "name": "t"
  },
  "language_info": {
   "codemirror_mode": {
    "name": "ipython",
    "version": 3
   },
   "file_extension": ".py",
   "mimetype": "text/x-python",
   "name": "python",
   "nbconvert_exporter": "python",
   "pygments_lexer": "ipython3",
   "version": "3.9.4"
  }
 },
 "nbformat": 4,
 "nbformat_minor": 4
}
