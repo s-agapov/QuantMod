{
 "cells": [
  {
   "cell_type": "code",
   "execution_count": 1,
   "metadata": {},
   "outputs": [],
   "source": [
    "import numpy as np\n",
    "import pandas as pd\n",
    "import datetime\n",
    "import matplotlib.pyplot as plt\n",
    "import sys\n",
    "import os\n",
    "\n",
    "#from yahoo_fin.stock_info import *\n",
    "#from yahoo_fin.stock_info import get_data\n",
    "\n",
    "import yfinance as yf\n",
    "\n",
    "from scipy.stats import skew, skewtest\n",
    "\n",
    "sys.path.append(\"..\") \n",
    "from tp_utils import daily_returns\n",
    "from tp_config import *"
   ]
  },
  {
   "cell_type": "code",
   "execution_count": null,
   "metadata": {},
   "outputs": [],
   "source": []
  },
  {
   "cell_type": "code",
   "execution_count": 2,
   "metadata": {},
   "outputs": [
    {
     "name": "stdout",
     "output_type": "stream",
     "text": [
      "sp\n",
      "[*********************100%***********************]  1 of 1 completed\n",
      "msft\n",
      "[*********************100%***********************]  1 of 1 completed\n",
      "nflx\n",
      "[*********************100%***********************]  1 of 1 completed\n",
      "dis\n",
      "[*********************100%***********************]  1 of 1 completed\n",
      "ntdoy\n",
      "[*********************100%***********************]  1 of 1 completed\n",
      "goog\n",
      "[*********************100%***********************]  1 of 1 completed\n",
      "fb\n",
      "[*********************100%***********************]  1 of 1 completed\n",
      "amzn\n",
      "[*********************100%***********************]  1 of 1 completed\n",
      "lyft\n",
      "[*********************100%***********************]  1 of 1 completed\n",
      "rtn\n",
      "[*********************100%***********************]  1 of 1 completed\n",
      "gold\n",
      "[*********************100%***********************]  1 of 1 completed\n",
      "yndx\n",
      "[*********************100%***********************]  1 of 1 completed\n",
      "sber.me\n",
      "[*********************100%***********************]  1 of 1 completed\n",
      "ba\n",
      "[*********************100%***********************]  1 of 1 completed\n",
      "baba\n",
      "[*********************100%***********************]  1 of 1 completed\n",
      "cpri\n",
      "[*********************100%***********************]  1 of 1 completed\n",
      "lmt\n",
      "[*********************100%***********************]  1 of 1 completed\n",
      "A2A.MI\n",
      "[*********************100%***********************]  1 of 1 completed\n",
      "ATC.AS\n",
      "[*********************100%***********************]  1 of 1 completed\n",
      "AEE\n",
      "[*********************100%***********************]  1 of 1 completed\n",
      "AEP\n",
      "[*********************100%***********************]  1 of 1 completed\n",
      "ALB\n",
      "[*********************100%***********************]  1 of 1 completed\n",
      "ATO\n",
      "[*********************100%***********************]  1 of 1 completed\n",
      "AWK\n",
      "[*********************100%***********************]  1 of 1 completed\n",
      "BCPT.L\n",
      "[*********************100%***********************]  1 of 1 completed\n",
      "BRW.L\n",
      "[*********************100%***********************]  1 of 1 completed\n",
      "BWLPG.OL\n",
      "[*********************100%***********************]  1 of 1 completed\n",
      "CCC.L\n",
      "[*********************100%***********************]  1 of 1 completed\n",
      "CIG\n",
      "[*********************100%***********************]  1 of 1 completed\n",
      "CMS\n",
      "[*********************100%***********************]  1 of 1 completed\n",
      "CNA.L\n",
      "[*********************100%***********************]  1 of 1 completed\n",
      "CNP\n",
      "[*********************100%***********************]  1 of 1 completed\n",
      "CVA\n",
      "[*********************100%***********************]  1 of 1 completed\n",
      "D\n",
      "[*********************100%***********************]  1 of 1 completed\n",
      "DANSKE.CO\n",
      "[*********************100%***********************]  1 of 1 completed\n",
      "DC.L\n",
      "[*********************100%***********************]  1 of 1 completed\n",
      "DRI.DE\n",
      "[*********************100%***********************]  1 of 1 completed\n",
      "DTE\n",
      "[*********************100%***********************]  1 of 1 completed\n",
      "DUK\n",
      "[*********************100%***********************]  1 of 1 completed\n",
      "ED\n",
      "[*********************100%***********************]  1 of 1 completed\n",
      "EDF.PA\n",
      "[*********************100%***********************]  1 of 1 completed\n",
      "EIX\n",
      "[*********************100%***********************]  1 of 1 completed\n",
      "ELE.MC\n",
      "[*********************100%***********************]  1 of 1 completed\n",
      "ELISA.HE\n",
      "[*********************100%***********************]  1 of 1 completed\n",
      "ENEL.MI\n",
      "[*********************100%***********************]  1 of 1 completed\n",
      "ENG.MC\n",
      "[*********************100%***********************]  1 of 1 completed\n",
      "ENGI.PA\n",
      "[*********************100%***********************]  1 of 1 completed\n",
      "ENS\n",
      "[*********************100%***********************]  1 of 1 completed\n",
      "EOAN.DE\n",
      "[*********************100%***********************]  1 of 1 completed\n",
      "ES\n",
      "[*********************100%***********************]  1 of 1 completed\n",
      "ETR\n",
      "[*********************100%***********************]  1 of 1 completed\n",
      "EVA\n",
      "[*********************100%***********************]  1 of 1 completed\n",
      "EVRG\n",
      "[*********************100%***********************]  1 of 1 completed\n",
      "EXC\n",
      "[*********************100%***********************]  1 of 1 completed\n",
      "FE\n",
      "[*********************100%***********************]  1 of 1 completed\n",
      "FGP.L\n",
      "[*********************100%***********************]  1 of 1 completed\n",
      "FORTUM.HE\n",
      "[*********************100%***********************]  1 of 1 completed\n",
      "GLO.L\n",
      "[*********************100%***********************]  1 of 1 completed\n",
      "GVC.L\n",
      "[*********************100%***********************]  1 of 1 completed\n",
      "HER.MI\n",
      "[*********************100%***********************]  1 of 1 completed\n",
      "IBE.MC\n",
      "[*********************100%***********************]  1 of 1 completed\n",
      "IG.MI\n",
      "[*********************100%***********************]  1 of 1 completed\n",
      "IGY.DE\n",
      "[*********************100%***********************]  1 of 1 completed\n",
      "ILD.PA\n",
      "[*********************100%***********************]  1 of 1 completed\n",
      "IRE.MI\n",
      "[*********************100%***********************]  1 of 1 completed\n",
      "LEO.DE\n",
      "[*********************100%***********************]  1 of 1 completed\n",
      "LNT\n",
      "[*********************100%***********************]  1 of 1 completed\n",
      "MPC\n",
      "[*********************100%***********************]  1 of 1 completed\n",
      "MRC.L\n",
      "[*********************100%***********************]  1 of 1 completed\n",
      "NEE\n",
      "[*********************100%***********************]  1 of 1 completed\n",
      "NEP\n",
      "[*********************100%***********************]  1 of 1 completed\n",
      "NG.L\n",
      "[*********************100%***********************]  1 of 1 completed\n",
      "NI\n",
      "[*********************100%***********************]  1 of 1 completed\n",
      "NMC.L\n",
      "[*********************100%***********************]  1 of 1 completed\n",
      "NTGY.MC\n",
      "[*********************100%***********************]  1 of 1 completed\n",
      "NVTK.IL\n",
      "[*********************100%***********************]  1 of 1 completed\n",
      "OGZD.IL\n",
      "[*********************100%***********************]  1 of 1 completed\n",
      "OKE\n",
      "[*********************100%***********************]  1 of 1 completed\n",
      "ORA\n",
      "[*********************100%***********************]  1 of 1 completed\n",
      "PAM\n",
      "[*********************100%***********************]  1 of 1 completed\n",
      "PCG\n",
      "[*********************100%***********************]  1 of 1 completed\n",
      "PDL.L\n",
      "[*********************100%***********************]  1 of 1 completed\n",
      "PEG\n",
      "[*********************100%***********************]  1 of 1 completed\n",
      "PEGI\n",
      "[*********************100%***********************]  1 of 1 completed\n",
      "PPL\n",
      "[*********************100%***********************]  1 of 1 completed\n",
      "PSX\n",
      "[*********************100%***********************]  1 of 1 completed\n",
      "All Done\n"
     ]
    }
   ],
   "source": [
    "start_date = datetime.datetime(2009,1,1)\n",
    "end_date = datetime.date.today()\n",
    "\n",
    "data_path = DATA_PATH_SHARES\n",
    "\n",
    "etoro_energy = ['A2A.MI', 'ATC.AS', 'AEE', 'AEP', 'ALB', 'ATO', 'AWK', 'BCPT.L', 'BRW.L', 'BWLPG.OL',\n",
    "               'CCC.L', 'CIG', 'CMS', 'CNA.L', 'CNP', 'CVA',\n",
    "               'D', 'DANSKE.CO', 'DC.L', 'DRI.DE', 'DTE', 'DUK',\n",
    "                'ED', 'EDF.PA', 'EIX', 'ELE.MC', 'ELISA.HE', 'ENEL.MI', 'ENG.MC', 'ENGI.PA', 'ENS', 'EOAN.DE', 'ES', 'ETR', 'EVA', 'EVRG', 'EXC',\n",
    "                'FE', 'FGP.L', 'FORTUM.HE', 'GLO.L', 'GVC.L', 'HER.MI', 'IBE.MC', 'IG.MI', 'IGY.DE', 'ILD.PA', 'IRE.MI', 'LEO.DE', 'LNT',\n",
    "               'MPC', 'MRC.L', 'NEE', 'NEP', 'NG.L', 'NI', 'NMC.L', 'NTGY.MC', 'NVTK.IL', 'OGZD.IL', 'OKE', 'ORA', \n",
    "                'PAM', 'PCG', 'PDL.L', 'PEG', 'PEGI', 'PPL', 'PSX']\n",
    "assets = ['sp', 'msft', 'nflx', 'dis', 'ntdoy', 'goog', 'fb', 'amzn', 'lyft', 'rtn', 'gold', 'yndx', 'sber.me', 'ba', 'baba', 'cpri', 'lmt']    \n",
    "\n",
    "\n",
    "def get_ticker_data(ticker, start_date = None, end_date = None):\n",
    "    df = yf.download(ticker, start_date, end_date)\n",
    "    return df\n",
    "    \n",
    "tickers = assets + etoro_energy\n",
    "for ticker in tickers:\n",
    "    print (ticker)\n",
    "    df = get_ticker_data(ticker, start_date)\n",
    "    df.to_csv(os.path.join(data_path, ticker.upper() +'.csv'))\n",
    "\n",
    "print(\"All Done\")"
   ]
  },
  {
   "cell_type": "code",
   "execution_count": 4,
   "metadata": {},
   "outputs": [],
   "source": [
    "\n"
   ]
  },
  {
   "cell_type": "code",
   "execution_count": null,
   "metadata": {},
   "outputs": [],
   "source": []
  },
  {
   "cell_type": "code",
   "execution_count": null,
   "metadata": {},
   "outputs": [],
   "source": []
  },
  {
   "cell_type": "code",
   "execution_count": null,
   "metadata": {},
   "outputs": [],
   "source": []
  },
  {
   "cell_type": "code",
   "execution_count": 30,
   "metadata": {},
   "outputs": [
    {
     "data": {
      "text/plain": [
       "dict_values(['A2A.MI', 'ATC.AS', 'aee', 'aep', 'alb'])"
      ]
     },
     "execution_count": 30,
     "metadata": {},
     "output_type": "execute_result"
    }
   ],
   "source": [
    "etoro_energy.values()"
   ]
  },
  {
   "cell_type": "code",
   "execution_count": 9,
   "metadata": {},
   "outputs": [],
   "source": [
    "#Instrument blocks\n",
    "instrument_blocks = {'sp' : 50, 'nflx': 50}"
   ]
  },
  {
   "cell_type": "code",
   "execution_count": 11,
   "metadata": {},
   "outputs": [
    {
     "ename": "NameError",
     "evalue": "name 'pd' is not defined",
     "output_type": "error",
     "traceback": [
      "\u001b[1;31m---------------------------------------------------------------------------\u001b[0m",
      "\u001b[1;31mNameError\u001b[0m                                 Traceback (most recent call last)",
      "\u001b[1;32m<ipython-input-11-9c8dc54c7d7d>\u001b[0m in \u001b[0;36m<module>\u001b[1;34m\u001b[0m\n\u001b[0;32m      8\u001b[0m \u001b[0mdf_dret\u001b[0m \u001b[1;33m=\u001b[0m \u001b[1;33m[\u001b[0m\u001b[1;33m]\u001b[0m\u001b[1;33m\u001b[0m\u001b[1;33m\u001b[0m\u001b[0m\n\u001b[0;32m      9\u001b[0m \u001b[1;32mfor\u001b[0m \u001b[0masset\u001b[0m \u001b[1;32min\u001b[0m \u001b[0mshares\u001b[0m\u001b[1;33m:\u001b[0m\u001b[1;33m\u001b[0m\u001b[1;33m\u001b[0m\u001b[0m\n\u001b[1;32m---> 10\u001b[1;33m     \u001b[0mdf\u001b[0m \u001b[1;33m=\u001b[0m \u001b[0mpd\u001b[0m\u001b[1;33m.\u001b[0m\u001b[0mread_csv\u001b[0m\u001b[1;33m(\u001b[0m\u001b[0mdata_path\u001b[0m \u001b[1;33m+\u001b[0m \u001b[1;34m'/'\u001b[0m \u001b[1;33m+\u001b[0m \u001b[0masset\u001b[0m \u001b[1;33m+\u001b[0m\u001b[1;34m'.csv'\u001b[0m\u001b[1;33m)\u001b[0m\u001b[1;33m\u001b[0m\u001b[1;33m\u001b[0m\u001b[0m\n\u001b[0m\u001b[0;32m     11\u001b[0m     \u001b[0mdret\u001b[0m \u001b[1;33m=\u001b[0m \u001b[0mdaily_returns\u001b[0m\u001b[1;33m(\u001b[0m\u001b[0mdf\u001b[0m\u001b[1;33m[\u001b[0m\u001b[1;34m'adjclose'\u001b[0m\u001b[1;33m]\u001b[0m\u001b[1;33m)\u001b[0m\u001b[1;33m\u001b[0m\u001b[1;33m\u001b[0m\u001b[0m\n\u001b[0;32m     12\u001b[0m     \u001b[0mdf_dret\u001b[0m\u001b[1;33m.\u001b[0m\u001b[0mappend\u001b[0m\u001b[1;33m(\u001b[0m\u001b[0mdret\u001b[0m\u001b[1;33m)\u001b[0m\u001b[1;33m\u001b[0m\u001b[1;33m\u001b[0m\u001b[0m\n",
      "\u001b[1;31mNameError\u001b[0m: name 'pd' is not defined"
     ]
    }
   ],
   "source": [
    "#Correlation calculate\n",
    "\n",
    "shares = ['sp', 'msft', 'nflx', 'dis', 'ntdoy', 'goog', 'fb', 'amzn', 'rtn', 'gold', 'yndx', 'ba', 'cpri', 'lmt']\n",
    "shares = ['dis', 'msft', 'ba', 'rtn']\n",
    "shares = ['sp', 'nflx',  'ntdoy', 'goog', 'fb', 'amzn', 'gold', 'yndx', 'cpri', 'lmt']\n",
    "\n",
    "\n",
    "df_dret = []\n",
    "for asset in shares:\n",
    "    df = pd.read_csv(data_path + '/' + asset +'.csv')\n",
    "    dret = daily_returns(df['adjclose'])\n",
    "    df_dret.append(dret)\n",
    "\n",
    "    \n",
    "df_dret = pd.DataFrame(df_dret)\n",
    "df_dret = df_dret.transpose()\n",
    "df_dret.columns = shares\n",
    "corr = df_dret.iloc[:1000].corr()\n",
    "print(len(shares))\n",
    "print(abs(corr).sum())\n",
    "abs(corr)\n"
   ]
  },
  {
   "cell_type": "markdown",
   "metadata": {},
   "source": [
    "## Skew test"
   ]
  },
  {
   "cell_type": "code",
   "execution_count": 163,
   "metadata": {},
   "outputs": [
    {
     "name": "stdout",
     "output_type": "stream",
     "text": [
      "    sp 0.019\n",
      "  msft 0.034\n",
      "  nflx 0.916\n",
      "   dis 0.306\n",
      " ntdoy 1.938\n",
      "  goog 0.756\n",
      "    fb 1.265\n",
      "  amzn 1.276\n",
      "  lyft -0.536\n",
      "   rtn 0.023\n",
      "  gold -0.010\n",
      "  yndx -0.135\n",
      "    ba -0.026\n",
      "  baba 0.228\n",
      "  cpri 1.048\n"
     ]
    }
   ],
   "source": [
    "skew_list = []\n",
    "for asset in shares:\n",
    "    df = pd.read_csv(data_path + '/' + asset +'.csv')\n",
    "    dret = daily_returns(df['adjclose'])\n",
    "    asset_skew = skew(dret)\n",
    "    print('%6s %0.3f' % (asset,asset_skew))\n",
    "    skew_list.append([asset, asset_skew]) \n",
    "\n",
    "df_skew = pd.DataFrame(skew_list)    \n",
    "df_skew.columns = ['asset', 'skew']"
   ]
  },
  {
   "cell_type": "code",
   "execution_count": 164,
   "metadata": {},
   "outputs": [
    {
     "data": {
      "text/html": [
       "<div>\n",
       "<style scoped>\n",
       "    .dataframe tbody tr th:only-of-type {\n",
       "        vertical-align: middle;\n",
       "    }\n",
       "\n",
       "    .dataframe tbody tr th {\n",
       "        vertical-align: top;\n",
       "    }\n",
       "\n",
       "    .dataframe thead th {\n",
       "        text-align: right;\n",
       "    }\n",
       "</style>\n",
       "<table border=\"1\" class=\"dataframe\">\n",
       "  <thead>\n",
       "    <tr style=\"text-align: right;\">\n",
       "      <th></th>\n",
       "      <th>asset</th>\n",
       "      <th>skew</th>\n",
       "    </tr>\n",
       "  </thead>\n",
       "  <tbody>\n",
       "    <tr>\n",
       "      <th>2</th>\n",
       "      <td>nflx</td>\n",
       "      <td>0.915824</td>\n",
       "    </tr>\n",
       "    <tr>\n",
       "      <th>3</th>\n",
       "      <td>dis</td>\n",
       "      <td>0.306172</td>\n",
       "    </tr>\n",
       "    <tr>\n",
       "      <th>4</th>\n",
       "      <td>ntdoy</td>\n",
       "      <td>1.937878</td>\n",
       "    </tr>\n",
       "    <tr>\n",
       "      <th>5</th>\n",
       "      <td>goog</td>\n",
       "      <td>0.756359</td>\n",
       "    </tr>\n",
       "    <tr>\n",
       "      <th>6</th>\n",
       "      <td>fb</td>\n",
       "      <td>1.265273</td>\n",
       "    </tr>\n",
       "    <tr>\n",
       "      <th>7</th>\n",
       "      <td>amzn</td>\n",
       "      <td>1.275621</td>\n",
       "    </tr>\n",
       "    <tr>\n",
       "      <th>13</th>\n",
       "      <td>baba</td>\n",
       "      <td>0.228099</td>\n",
       "    </tr>\n",
       "    <tr>\n",
       "      <th>14</th>\n",
       "      <td>cpri</td>\n",
       "      <td>1.047706</td>\n",
       "    </tr>\n",
       "  </tbody>\n",
       "</table>\n",
       "</div>"
      ],
      "text/plain": [
       "    asset      skew\n",
       "2    nflx  0.915824\n",
       "3     dis  0.306172\n",
       "4   ntdoy  1.937878\n",
       "5    goog  0.756359\n",
       "6      fb  1.265273\n",
       "7    amzn  1.275621\n",
       "13   baba  0.228099\n",
       "14   cpri  1.047706"
      ]
     },
     "execution_count": 164,
     "metadata": {},
     "output_type": "execute_result"
    }
   ],
   "source": [
    "skew_treshold = 0.15\n",
    "df_skew[df_skew['skew'] > skew_treshold]"
   ]
  },
  {
   "cell_type": "code",
   "execution_count": null,
   "metadata": {},
   "outputs": [],
   "source": []
  },
  {
   "cell_type": "code",
   "execution_count": null,
   "metadata": {},
   "outputs": [],
   "source": []
  },
  {
   "cell_type": "code",
   "execution_count": 13,
   "metadata": {},
   "outputs": [
    {
     "data": {
      "image/png": "[encoded data removed]",
      "text/plain": [
       "<Figure size 1080x504 with 1 Axes>"
      ]
     },
     "metadata": {},
     "output_type": "display_data"
    }
   ],
   "source": [
    "fig = plt.figure( figsize = (15, 7))\n",
    "ax1 = fig.add_axes([0.1,0.1,0.8,0.8])\n",
    "dret.plot.hist(bins = 70)\n",
    "ax1.set_xlabel(\"Daily returns %\")\n",
    "ax1.set_ylabel(\"Percent\")\n",
    "ax1.set_title(\"Daily returns data\")\n",
    "ax1.text(-0.35,200,\"Extreme Low\\nreturns\")\n",
    "ax1.text(0.25,200,\"Extreme High\\nreturns\")\n",
    "plt.show()"
   ]
  },
  {
   "cell_type": "code",
   "execution_count": null,
   "metadata": {},
   "outputs": [],
   "source": []
  },
  {
   "cell_type": "code",
   "execution_count": null,
   "metadata": {},
   "outputs": [],
   "source": []
  },
  {
   "cell_type": "markdown",
   "metadata": {},
   "source": [
    "## END"
   ]
  }
 ],
 "metadata": {
  "kernelspec": {
   "display_name": "Python 3",
   "language": "python",
   "name": "python3"
  },
  "language_info": {
   "codemirror_mode": {
    "name": "ipython",
    "version": 3
   },
   "file_extension": ".py",
   "mimetype": "text/x-python",
   "name": "python",
   "nbconvert_exporter": "python",
   "pygments_lexer": "ipython3",
   "version": "3.6.10"
  }
 },
 "nbformat": 4,
 "nbformat_minor": 4
}
