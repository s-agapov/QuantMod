{
 "cells": [
  {
   "cell_type": "code",
   "execution_count": 1,
   "id": "316f246a-89a0-4ca6-b9b1-8fadc77820f9",
   "metadata": {
    "tags": []
   },
   "outputs": [],
   "source": [
    "import numpy as np\n",
    "import pandas as pd\n",
    "import matplotlib.pyplot as plt\n",
    "\n",
    "\n",
    "import pypfopt\n",
    "import yfinance as yf\n",
    "\n",
    "from portfolio_tools import load_data_for_portfolio, calc_frontier, calc_weights, weights_to_df"
   ]
  },
  {
   "cell_type": "code",
   "execution_count": 2,
   "id": "11ddaf4e-71cf-40d2-9132-1507ab502919",
   "metadata": {
    "tags": []
   },
   "outputs": [],
   "source": [
    "tickers = [\"MSFT\", \"AMZN\", \"NAT\", \"BAC\",  \"DIS\", \"KO\", \"MCD\", \"COST\", \"SBUX\"]"
   ]
  },
  {
   "cell_type": "code",
   "execution_count": 3,
   "id": "7ffc4834-4dca-4c3c-82d2-ab4a2d9c403d",
   "metadata": {
    "tags": []
   },
   "outputs": [
    {
     "name": "stderr",
     "output_type": "stream",
     "text": [
      "[*********************100%%**********************]  9 of 9 completed\n"
     ]
    },
    {
     "data": {
      "text/html": [
       "<div>\n",
       "<style scoped>\n",
       "    .dataframe tbody tr th:only-of-type {\n",
       "        vertical-align: middle;\n",
       "    }\n",
       "\n",
       "    .dataframe tbody tr th {\n",
       "        vertical-align: top;\n",
       "    }\n",
       "\n",
       "    .dataframe thead th {\n",
       "        text-align: right;\n",
       "    }\n",
       "</style>\n",
       "<table border=\"1\" class=\"dataframe\">\n",
       "  <thead>\n",
       "    <tr style=\"text-align: right;\">\n",
       "      <th>Ticker</th>\n",
       "      <th>AMZN</th>\n",
       "      <th>BAC</th>\n",
       "      <th>COST</th>\n",
       "      <th>DIS</th>\n",
       "      <th>KO</th>\n",
       "      <th>MCD</th>\n",
       "      <th>MSFT</th>\n",
       "      <th>NAT</th>\n",
       "      <th>SBUX</th>\n",
       "    </tr>\n",
       "    <tr>\n",
       "      <th>Date</th>\n",
       "      <th></th>\n",
       "      <th></th>\n",
       "      <th></th>\n",
       "      <th></th>\n",
       "      <th></th>\n",
       "      <th></th>\n",
       "      <th></th>\n",
       "      <th></th>\n",
       "      <th></th>\n",
       "    </tr>\n",
       "  </thead>\n",
       "  <tbody>\n",
       "    <tr>\n",
       "      <th>2024-03-21</th>\n",
       "      <td>178.149993896</td>\n",
       "      <td>37.509998322</td>\n",
       "      <td>742.559997559</td>\n",
       "      <td>116.699996948</td>\n",
       "      <td>60.470001221</td>\n",
       "      <td>283.529998779</td>\n",
       "      <td>429.369995117</td>\n",
       "      <td>4.000000000</td>\n",
       "      <td>91.660003662</td>\n",
       "    </tr>\n",
       "    <tr>\n",
       "      <th>2024-03-22</th>\n",
       "      <td>178.869995117</td>\n",
       "      <td>37.049999237</td>\n",
       "      <td>734.799987793</td>\n",
       "      <td>115.870002747</td>\n",
       "      <td>60.490001678</td>\n",
       "      <td>282.630004883</td>\n",
       "      <td>428.739990234</td>\n",
       "      <td>3.930000067</td>\n",
       "      <td>90.709999084</td>\n",
       "    </tr>\n",
       "    <tr>\n",
       "      <th>2024-03-25</th>\n",
       "      <td>179.710006714</td>\n",
       "      <td>36.860000610</td>\n",
       "      <td>730.960021973</td>\n",
       "      <td>119.360000610</td>\n",
       "      <td>60.400001526</td>\n",
       "      <td>278.619995117</td>\n",
       "      <td>422.859985352</td>\n",
       "      <td>3.910000086</td>\n",
       "      <td>90.669998169</td>\n",
       "    </tr>\n",
       "    <tr>\n",
       "      <th>2024-03-26</th>\n",
       "      <td>178.300003052</td>\n",
       "      <td>37.090000153</td>\n",
       "      <td>730.979980469</td>\n",
       "      <td>119.930000305</td>\n",
       "      <td>60.540000916</td>\n",
       "      <td>278.619995117</td>\n",
       "      <td>421.649993896</td>\n",
       "      <td>3.859999895</td>\n",
       "      <td>90.360000610</td>\n",
       "    </tr>\n",
       "    <tr>\n",
       "      <th>2024-03-27</th>\n",
       "      <td>179.830001831</td>\n",
       "      <td>37.810001373</td>\n",
       "      <td>732.080017090</td>\n",
       "      <td>120.980003357</td>\n",
       "      <td>61.029998779</td>\n",
       "      <td>282.019989014</td>\n",
       "      <td>421.429992676</td>\n",
       "      <td>3.910000086</td>\n",
       "      <td>91.500000000</td>\n",
       "    </tr>\n",
       "  </tbody>\n",
       "</table>\n",
       "</div>"
      ],
      "text/plain": [
       "Ticker               AMZN           BAC           COST            DIS  \\\n",
       "Date                                                                    \n",
       "2024-03-21  178.149993896  37.509998322  742.559997559  116.699996948   \n",
       "2024-03-22  178.869995117  37.049999237  734.799987793  115.870002747   \n",
       "2024-03-25  179.710006714  36.860000610  730.960021973  119.360000610   \n",
       "2024-03-26  178.300003052  37.090000153  730.979980469  119.930000305   \n",
       "2024-03-27  179.830001831  37.810001373  732.080017090  120.980003357   \n",
       "\n",
       "Ticker                KO            MCD           MSFT          NAT  \\\n",
       "Date                                                                  \n",
       "2024-03-21  60.470001221  283.529998779  429.369995117  4.000000000   \n",
       "2024-03-22  60.490001678  282.630004883  428.739990234  3.930000067   \n",
       "2024-03-25  60.400001526  278.619995117  422.859985352  3.910000086   \n",
       "2024-03-26  60.540000916  278.619995117  421.649993896  3.859999895   \n",
       "2024-03-27  61.029998779  282.019989014  421.429992676  3.910000086   \n",
       "\n",
       "Ticker              SBUX  \n",
       "Date                      \n",
       "2024-03-21  91.660003662  \n",
       "2024-03-22  90.709999084  \n",
       "2024-03-25  90.669998169  \n",
       "2024-03-26  90.360000610  \n",
       "2024-03-27  91.500000000  "
      ]
     },
     "execution_count": 3,
     "metadata": {},
     "output_type": "execute_result"
    }
   ],
   "source": [
    "ohlc = yf.download(tickers, period=\"max\")\n",
    "prices = ohlc[\"Adj Close\"]\n",
    "prices.tail()"
   ]
  },
  {
   "cell_type": "code",
   "execution_count": 4,
   "id": "4ef1ea5e-4fc3-4524-877c-2d67eefe6666",
   "metadata": {
    "tags": []
   },
   "outputs": [
    {
     "name": "stderr",
     "output_type": "stream",
     "text": [
      "[*********************100%%**********************]  1 of 1 completed\n"
     ]
    },
    {
     "data": {
      "text/plain": [
       "Date\n",
       "1993-01-29    24.763736725\n",
       "1993-02-01    24.939867020\n",
       "1993-02-02    24.992702484\n",
       "1993-02-03    25.256898880\n",
       "1993-02-04    25.362569809\n",
       "Name: Adj Close, dtype: float64"
      ]
     },
     "execution_count": 4,
     "metadata": {},
     "output_type": "execute_result"
    }
   ],
   "source": [
    "market_prices = yf.download(\"SPY\", period=\"max\")[\"Adj Close\"]\n",
    "market_prices.head()"
   ]
  },
  {
   "cell_type": "code",
   "execution_count": 19,
   "id": "7e9ac8b6-d873-401b-8d82-f8433aad4c1e",
   "metadata": {
    "tags": []
   },
   "outputs": [],
   "source": [
    "mcaps = {}\n",
    "for t in tickers:\n",
    "    stock = yf.Ticker(t)\n",
    "   # mcaps[t] = stock.info[\"marketCap\"]\n",
    "    mcaps[t] = 1\n",
    "mcaps\n",
    "mcaps['AMZN'] = 2"
   ]
  },
  {
   "cell_type": "code",
   "execution_count": null,
   "id": "77f83bbd-b412-4ef1-b0a5-b77ca690a1a3",
   "metadata": {
    "tags": []
   },
   "outputs": [],
   "source": []
  },
  {
   "cell_type": "code",
   "execution_count": 41,
   "id": "95acbae3-d18d-4b1e-af56-9521263a3a80",
   "metadata": {
    "tags": []
   },
   "outputs": [
    {
     "data": {
      "text/plain": [
       "2.725673566861315"
      ]
     },
     "execution_count": 41,
     "metadata": {},
     "output_type": "execute_result"
    }
   ],
   "source": [
    "from pypfopt import black_litterman, risk_models\n",
    "from pypfopt import BlackLittermanModel\n",
    "S = risk_models.CovarianceShrinkage(prices).ledoit_wolf()\n",
    "delta = black_litterman.market_implied_risk_aversion(market_prices)\n",
    "delta"
   ]
  },
  {
   "cell_type": "code",
   "execution_count": null,
   "id": "2395d0b0-0a9b-427e-8f80-700908884b62",
   "metadata": {
    "tags": []
   },
   "outputs": [],
   "source": []
  },
  {
   "cell_type": "code",
   "execution_count": 42,
   "id": "31544686-3b39-45c8-a047-f401ead7f73a",
   "metadata": {
    "tags": []
   },
   "outputs": [
    {
     "data": {
      "text/plain": [
       "Ticker\n",
       "AMZN    0.138725541\n",
       "BAC     0.114664970\n",
       "COST    0.078658930\n",
       "DIS     0.106075844\n",
       "KO      0.070737032\n",
       "MCD     0.082665249\n",
       "MSFT    0.093803474\n",
       "NAT     0.074636463\n",
       "SBUX    0.087964607\n",
       "dtype: float64"
      ]
     },
     "execution_count": 42,
     "metadata": {},
     "output_type": "execute_result"
    }
   ],
   "source": [
    "market_prior = black_litterman.market_implied_prior_returns(mcaps, delta, S)\n",
    "market_prior"
   ]
  },
  {
   "cell_type": "code",
   "execution_count": 22,
   "id": "469a4194-0855-4a99-997a-654b97dfe558",
   "metadata": {
    "tags": []
   },
   "outputs": [
    {
     "data": {
      "image/png": "[encoded data removed]",
      "text/plain": [
       "<Figure size 1000x500 with 1 Axes>"
      ]
     },
     "metadata": {},
     "output_type": "display_data"
    }
   ],
   "source": [
    "market_prior.plot.barh(figsize=(10,5));"
   ]
  },
  {
   "cell_type": "code",
   "execution_count": 23,
   "id": "72d0fc3c-77d8-4eb7-8307-cc5a74bc623c",
   "metadata": {
    "tags": []
   },
   "outputs": [],
   "source": [
    "# You don't have to provide views on all the assets\n",
    "viewdict = {\n",
    "    #\"AMZN\": 0.10,\n",
    "    \"BAC\": 0.30,\n",
    "    \"COST\": 0.05,\n",
    "    \"DIS\": 0.05,\n",
    "    \"KO\": -0.05,  # I think Coca-Cola will go down 5%\n",
    "    \"MCD\": 0.15,\n",
    "    \"MSFT\": 0.10,\n",
    "    \"NAT\": 0.50,  # but low confidence, which will be reflected later\n",
    "    \"SBUX\": 0.10\n",
    "}\n",
    "\n",
    "bl = BlackLittermanModel(S, pi=market_prior, absolute_views=viewdict)"
   ]
  },
  {
   "cell_type": "code",
   "execution_count": 24,
   "id": "b60a24af-abe0-4239-b7fc-9fc4fd85448c",
   "metadata": {
    "tags": []
   },
   "outputs": [],
   "source": [
    "confidences = [\n",
    "#    0.6,\n",
    "    0.4,\n",
    "    0.2,\n",
    "    0.5,\n",
    "    0.7, # confident KO will do poorly\n",
    "    0.7, \n",
    "    0.5,\n",
    "    0.1,\n",
    "    0.4\n",
    "]"
   ]
  },
  {
   "cell_type": "code",
   "execution_count": 25,
   "id": "c108e92d-50a8-4271-ae77-6b5fd1a05618",
   "metadata": {
    "tags": []
   },
   "outputs": [],
   "source": [
    "bl = BlackLittermanModel(S, pi=market_prior, absolute_views=viewdict, omega=\"idzorek\", view_confidences=confidences)"
   ]
  },
  {
   "cell_type": "code",
   "execution_count": 26,
   "id": "0da47549-6eaa-478e-a9b3-5f3382f8e918",
   "metadata": {
    "tags": []
   },
   "outputs": [
    {
     "data": {
      "image/png": "[encoded data removed]",
      "text/plain": [
       "<Figure size 700x700 with 1 Axes>"
      ]
     },
     "metadata": {},
     "output_type": "display_data"
    }
   ],
   "source": [
    "fig, ax = plt.subplots(figsize=(7,7))\n",
    "im = ax.imshow(bl.omega)\n",
    "\n",
    "# We want to show all ticks...\n",
    "ax.set_xticks(np.arange(len(bl.tickers)))\n",
    "ax.set_yticks(np.arange(len(bl.tickers)))\n",
    "\n",
    "ax.set_xticklabels(bl.tickers)\n",
    "ax.set_yticklabels(bl.tickers)\n",
    "plt.show()"
   ]
  },
  {
   "cell_type": "code",
   "execution_count": 27,
   "id": "abb2e36b-0846-4608-a043-464194d4719f",
   "metadata": {
    "tags": []
   },
   "outputs": [],
   "source": [
    "intervals = [\n",
    "#    (0, 0.25),\n",
    "    (0.1, 0.4),\n",
    "    (-0.1, 0.15),\n",
    "    (-0.05, 0.1),\n",
    "    (-0.1, 0),\n",
    "    (0.1, 0.2),\n",
    "    (0.08, 0.12),\n",
    "    (0.1, 0.9),\n",
    "    (0, 0.3)\n",
    "]"
   ]
  },
  {
   "cell_type": "code",
   "execution_count": 28,
   "id": "257374d5-b2c0-4002-8571-dc5cce7c6d72",
   "metadata": {
    "tags": []
   },
   "outputs": [
    {
     "name": "stdout",
     "output_type": "stream",
     "text": [
      "[0.022500000000000006, 0.015625, 0.0056250000000000015, 0.0025000000000000005, 0.0025000000000000005, 0.00039999999999999986, 0.16000000000000003, 0.0225]\n"
     ]
    }
   ],
   "source": [
    "variances = []\n",
    "for lb, ub in intervals:\n",
    "    sigma = (ub - lb)/2\n",
    "    variances.append(sigma ** 2)\n",
    "\n",
    "print(variances)\n",
    "omega = np.diag(variances)"
   ]
  },
  {
   "cell_type": "code",
   "execution_count": 29,
   "id": "c44661cf-da7a-4468-b790-5970f6f8ef42",
   "metadata": {
    "tags": []
   },
   "outputs": [],
   "source": [
    "# We are using the shortcut to automatically compute market-implied prior\n",
    "bl = BlackLittermanModel(S, pi=\"market\", market_caps=mcaps, risk_aversion=delta,\n",
    "                        absolute_views=viewdict, omega=omega)"
   ]
  },
  {
   "cell_type": "code",
   "execution_count": 30,
   "id": "a41b1d9f-aece-4e36-9192-17fabae9287d",
   "metadata": {
    "tags": []
   },
   "outputs": [
    {
     "data": {
      "text/plain": [
       "Ticker\n",
       "AMZN    0.134834140\n",
       "BAC     0.134624155\n",
       "COST    0.064688995\n",
       "DIS     0.078855137\n",
       "KO      0.012172741\n",
       "MCD     0.108016743\n",
       "MSFT    0.097006086\n",
       "NAT     0.074928665\n",
       "SBUX    0.082473244\n",
       "dtype: float64"
      ]
     },
     "execution_count": 30,
     "metadata": {},
     "output_type": "execute_result"
    }
   ],
   "source": [
    "# Posterior estimate of returns\n",
    "ret_bl = bl.bl_returns()\n",
    "ret_bl"
   ]
  },
  {
   "cell_type": "code",
   "execution_count": 31,
   "id": "f6d260eb-6680-4c1d-87d5-244292d556af",
   "metadata": {
    "tags": []
   },
   "outputs": [
    {
     "data": {
      "text/html": [
       "<div>\n",
       "<style scoped>\n",
       "    .dataframe tbody tr th:only-of-type {\n",
       "        vertical-align: middle;\n",
       "    }\n",
       "\n",
       "    .dataframe tbody tr th {\n",
       "        vertical-align: top;\n",
       "    }\n",
       "\n",
       "    .dataframe thead th {\n",
       "        text-align: right;\n",
       "    }\n",
       "</style>\n",
       "<table border=\"1\" class=\"dataframe\">\n",
       "  <thead>\n",
       "    <tr style=\"text-align: right;\">\n",
       "      <th></th>\n",
       "      <th>Prior</th>\n",
       "      <th>Posterior</th>\n",
       "      <th>Views</th>\n",
       "    </tr>\n",
       "  </thead>\n",
       "  <tbody>\n",
       "    <tr>\n",
       "      <th>AMZN</th>\n",
       "      <td>0.138725541</td>\n",
       "      <td>0.134834140</td>\n",
       "      <td>NaN</td>\n",
       "    </tr>\n",
       "    <tr>\n",
       "      <th>BAC</th>\n",
       "      <td>0.114664970</td>\n",
       "      <td>0.134624155</td>\n",
       "      <td>0.30</td>\n",
       "    </tr>\n",
       "    <tr>\n",
       "      <th>COST</th>\n",
       "      <td>0.078658930</td>\n",
       "      <td>0.064688995</td>\n",
       "      <td>0.05</td>\n",
       "    </tr>\n",
       "    <tr>\n",
       "      <th>DIS</th>\n",
       "      <td>0.106075844</td>\n",
       "      <td>0.078855137</td>\n",
       "      <td>0.05</td>\n",
       "    </tr>\n",
       "    <tr>\n",
       "      <th>KO</th>\n",
       "      <td>0.070737032</td>\n",
       "      <td>0.012172741</td>\n",
       "      <td>-0.05</td>\n",
       "    </tr>\n",
       "    <tr>\n",
       "      <th>MCD</th>\n",
       "      <td>0.082665249</td>\n",
       "      <td>0.108016743</td>\n",
       "      <td>0.15</td>\n",
       "    </tr>\n",
       "    <tr>\n",
       "      <th>MSFT</th>\n",
       "      <td>0.093803474</td>\n",
       "      <td>0.097006086</td>\n",
       "      <td>0.10</td>\n",
       "    </tr>\n",
       "    <tr>\n",
       "      <th>NAT</th>\n",
       "      <td>0.074636463</td>\n",
       "      <td>0.074928665</td>\n",
       "      <td>0.50</td>\n",
       "    </tr>\n",
       "    <tr>\n",
       "      <th>SBUX</th>\n",
       "      <td>0.087964607</td>\n",
       "      <td>0.082473244</td>\n",
       "      <td>0.10</td>\n",
       "    </tr>\n",
       "  </tbody>\n",
       "</table>\n",
       "</div>"
      ],
      "text/plain": [
       "            Prior    Posterior  Views\n",
       "AMZN  0.138725541  0.134834140    NaN\n",
       "BAC   0.114664970  0.134624155   0.30\n",
       "COST  0.078658930  0.064688995   0.05\n",
       "DIS   0.106075844  0.078855137   0.05\n",
       "KO    0.070737032  0.012172741  -0.05\n",
       "MCD   0.082665249  0.108016743   0.15\n",
       "MSFT  0.093803474  0.097006086   0.10\n",
       "NAT   0.074636463  0.074928665   0.50\n",
       "SBUX  0.087964607  0.082473244   0.10"
      ]
     },
     "execution_count": 31,
     "metadata": {},
     "output_type": "execute_result"
    }
   ],
   "source": [
    "rets_df = pd.DataFrame([market_prior, ret_bl, pd.Series(viewdict)], \n",
    "             index=[\"Prior\", \"Posterior\", \"Views\"]).T\n",
    "rets_df"
   ]
  },
  {
   "cell_type": "code",
   "execution_count": 39,
   "id": "47d469e9-86b1-4db3-9557-cb7ab68e78db",
   "metadata": {
    "tags": []
   },
   "outputs": [],
   "source": [
    "S_bl = bl.bl_cov()\n"
   ]
  },
  {
   "cell_type": "code",
   "execution_count": 36,
   "id": "34be5b41-b08c-49db-93a8-a0b1a65dd923",
   "metadata": {
    "tags": []
   },
   "outputs": [],
   "source": [
    "from pypfopt import EfficientFrontier, objective_functions"
   ]
  },
  {
   "cell_type": "code",
   "execution_count": 40,
   "id": "7cc81c3d-fc68-4bc2-a2b8-e25288f77ecc",
   "metadata": {
    "tags": []
   },
   "outputs": [
    {
     "name": "stderr",
     "output_type": "stream",
     "text": [
      "D:\\Soft\\Anaconda\\envs\\t\\Lib\\site-packages\\pypfopt\\efficient_frontier\\efficient_frontier.py:259: UserWarning: max_sharpe transforms the optimization problem so additional objectives may not work as expected.\n",
      "  warnings.warn(\n"
     ]
    },
    {
     "data": {
      "text/plain": [
       "OrderedDict([('AMZN', 0.23218),\n",
       "             ('BAC', 0.17761),\n",
       "             ('COST', 0.06305),\n",
       "             ('DIS', 0.07562),\n",
       "             ('KO', 0.0),\n",
       "             ('MCD', 0.15887),\n",
       "             ('MSFT', 0.16269),\n",
       "             ('NAT', 0.04785),\n",
       "             ('SBUX', 0.08213)])"
      ]
     },
     "execution_count": 40,
     "metadata": {},
     "output_type": "execute_result"
    }
   ],
   "source": [
    "ef = EfficientFrontier(ret_bl, S_bl)\n",
    "ef.add_objective(objective_functions.L2_reg)\n",
    "ef.max_sharpe()\n",
    "weights = ef.clean_weights()\n",
    "weights\n",
    "     "
   ]
  },
  {
   "cell_type": "code",
   "execution_count": 41,
   "id": "650be1c9-fef0-4e8d-9faf-126cd731d34a",
   "metadata": {
    "tags": []
   },
   "outputs": [
    {
     "name": "stdout",
     "output_type": "stream",
     "text": [
      "Leftover: $700.55\n"
     ]
    },
    {
     "name": "stderr",
     "output_type": "stream",
     "text": [
      "D:\\Soft\\Anaconda\\envs\\t\\Lib\\site-packages\\cvxpy\\problems\\problem.py:1403: UserWarning: Solution may be inaccurate. Try another solver, adjusting the solver settings, or solve with verbose=True for more information.\n",
      "  warnings.warn(\n"
     ]
    },
    {
     "data": {
      "text/plain": [
       "{'BAC': 109,\n",
       " 'COST': 2,\n",
       " 'DIS': 16,\n",
       " 'KO': 10,\n",
       " 'MCD': 12,\n",
       " 'MSFT': 8,\n",
       " 'NAT': 600,\n",
       " 'SBUX': 22}"
      ]
     },
     "execution_count": 41,
     "metadata": {},
     "output_type": "execute_result"
    }
   ],
   "source": [
    "from pypfopt import DiscreteAllocation\n",
    "\n",
    "da = DiscreteAllocation(weights, prices.iloc[-1], total_portfolio_value=20000)\n",
    "alloc, leftover = da.lp_portfolio()\n",
    "print(f\"Leftover: ${leftover:.2f}\")\n",
    "alloc\n",
    "     "
   ]
  },
  {
   "cell_type": "markdown",
   "id": "785e4141-118b-4efb-aabe-445150ecdf4d",
   "metadata": {
    "tags": []
   },
   "source": [
    "### Crypto"
   ]
  },
  {
   "cell_type": "code",
   "execution_count": 18,
   "id": "c7a4dd89-4fcc-4b8a-8ac2-0884cca38b8c",
   "metadata": {
    "tags": []
   },
   "outputs": [
    {
     "name": "stdout",
     "output_type": "stream",
     "text": [
      "AVAX-USDT\n",
      "BTC-USDT\n",
      "BNB-USDT\n",
      "DOT-USDT\n",
      "DOGE-USDT\n",
      "ETH-USDT\n",
      "LINK-USDT\n",
      "LTC-USDT\n",
      "LUNA-USDT\n",
      "MATIC-USDT\n",
      "MNT-USDT\n",
      "SOL-USDT\n",
      "TON-USDT\n",
      "TRX-USDT\n"
     ]
    }
   ],
   "source": [
    "pair = \"USDT\"\n",
    "index_assets = pd.read_csv('index_assets.csv')['asset'].tolist()\n",
    "assets = index_assets\n",
    "markets = [m + '-' + pair for m in assets]\n",
    "df_all =  load_data_for_portfolio(markets, '4h')   "
   ]
  },
  {
   "cell_type": "code",
   "execution_count": null,
   "id": "3e00185b-4c9f-4158-9ca7-0265b6a7832e",
   "metadata": {},
   "outputs": [],
   "source": []
  }
 ],
 "metadata": {
  "kernelspec": {
   "display_name": "t",
   "language": "python",
   "name": "t"
  },
  "language_info": {
   "codemirror_mode": {
    "name": "ipython",
    "version": 3
   },
   "file_extension": ".py",
   "mimetype": "text/x-python",
   "name": "python",
   "nbconvert_exporter": "python",
   "pygments_lexer": "ipython3",
   "version": "3.11.7"
  }
 },
 "nbformat": 4,
 "nbformat_minor": 5
}
