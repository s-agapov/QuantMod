{
 "cells": [
  {
   "cell_type": "code",
   "execution_count": 2,
   "id": "316f246a-89a0-4ca6-b9b1-8fadc77820f9",
   "metadata": {
    "tags": []
   },
   "outputs": [],
   "source": [
    "import numpy as np\n",
    "import pandas as pd\n",
    "import matplotlib.pyplot as plt\n",
    "\n",
    "\n",
    "import pypfopt\n",
    "import yfinance as yf\n",
    "\n",
    "from portfolio_tools import load_data_for_portfolio, calc_frontier, calc_weights, weights_to_df"
   ]
  },
  {
   "cell_type": "code",
   "execution_count": 3,
   "id": "11ddaf4e-71cf-40d2-9132-1507ab502919",
   "metadata": {
    "tags": []
   },
   "outputs": [],
   "source": [
    "tickers = [\"MSFT\", \"AMZN\", \"NAT\", \"BAC\",  \"DIS\", \"KO\", \"MCD\", \"COST\", \"SBUX\"]"
   ]
  },
  {
   "cell_type": "code",
   "execution_count": 4,
   "id": "7ffc4834-4dca-4c3c-82d2-ab4a2d9c403d",
   "metadata": {
    "tags": []
   },
   "outputs": [
    {
     "name": "stderr",
     "output_type": "stream",
     "text": [
      "[*********************100%%**********************]  9 of 9 completed\n"
     ]
    },
    {
     "data": {
      "text/html": [
       "<div>\n",
       "<style scoped>\n",
       "    .dataframe tbody tr th:only-of-type {\n",
       "        vertical-align: middle;\n",
       "    }\n",
       "\n",
       "    .dataframe tbody tr th {\n",
       "        vertical-align: top;\n",
       "    }\n",
       "\n",
       "    .dataframe thead th {\n",
       "        text-align: right;\n",
       "    }\n",
       "</style>\n",
       "<table border=\"1\" class=\"dataframe\">\n",
       "  <thead>\n",
       "    <tr style=\"text-align: right;\">\n",
       "      <th>Ticker</th>\n",
       "      <th>AMZN</th>\n",
       "      <th>BAC</th>\n",
       "      <th>COST</th>\n",
       "      <th>DIS</th>\n",
       "      <th>KO</th>\n",
       "      <th>MCD</th>\n",
       "      <th>MSFT</th>\n",
       "      <th>NAT</th>\n",
       "      <th>SBUX</th>\n",
       "    </tr>\n",
       "    <tr>\n",
       "      <th>Date</th>\n",
       "      <th></th>\n",
       "      <th></th>\n",
       "      <th></th>\n",
       "      <th></th>\n",
       "      <th></th>\n",
       "      <th></th>\n",
       "      <th></th>\n",
       "      <th></th>\n",
       "      <th></th>\n",
       "    </tr>\n",
       "  </thead>\n",
       "  <tbody>\n",
       "    <tr>\n",
       "      <th>2024-03-18</th>\n",
       "      <td>174.479995728</td>\n",
       "      <td>36.009998322</td>\n",
       "      <td>731.539978027</td>\n",
       "      <td>113.849998474</td>\n",
       "      <td>60.130001068</td>\n",
       "      <td>278.579986572</td>\n",
       "      <td>417.320007324</td>\n",
       "      <td>3.910000086</td>\n",
       "      <td>91.010002136</td>\n",
       "    </tr>\n",
       "    <tr>\n",
       "      <th>2024-03-19</th>\n",
       "      <td>175.899993896</td>\n",
       "      <td>36.029998779</td>\n",
       "      <td>732.169982910</td>\n",
       "      <td>114.510002136</td>\n",
       "      <td>60.229999542</td>\n",
       "      <td>282.869995117</td>\n",
       "      <td>421.410003662</td>\n",
       "      <td>3.880000114</td>\n",
       "      <td>91.589996338</td>\n",
       "    </tr>\n",
       "    <tr>\n",
       "      <th>2024-03-20</th>\n",
       "      <td>178.149993896</td>\n",
       "      <td>36.750000000</td>\n",
       "      <td>740.719970703</td>\n",
       "      <td>116.459999084</td>\n",
       "      <td>60.750000000</td>\n",
       "      <td>284.450012207</td>\n",
       "      <td>425.230010986</td>\n",
       "      <td>3.849999905</td>\n",
       "      <td>92.599998474</td>\n",
       "    </tr>\n",
       "    <tr>\n",
       "      <th>2024-03-21</th>\n",
       "      <td>178.149993896</td>\n",
       "      <td>37.509998322</td>\n",
       "      <td>742.559997559</td>\n",
       "      <td>116.699996948</td>\n",
       "      <td>60.470001221</td>\n",
       "      <td>283.529998779</td>\n",
       "      <td>429.369995117</td>\n",
       "      <td>4.000000000</td>\n",
       "      <td>91.660003662</td>\n",
       "    </tr>\n",
       "    <tr>\n",
       "      <th>2024-03-22</th>\n",
       "      <td>178.869995117</td>\n",
       "      <td>37.049999237</td>\n",
       "      <td>734.799987793</td>\n",
       "      <td>115.870002747</td>\n",
       "      <td>60.490001678</td>\n",
       "      <td>282.630004883</td>\n",
       "      <td>428.739990234</td>\n",
       "      <td>3.930000067</td>\n",
       "      <td>90.709999084</td>\n",
       "    </tr>\n",
       "  </tbody>\n",
       "</table>\n",
       "</div>"
      ],
      "text/plain": [
       "Ticker               AMZN           BAC           COST            DIS  \\\n",
       "Date                                                                    \n",
       "2024-03-18  174.479995728  36.009998322  731.539978027  113.849998474   \n",
       "2024-03-19  175.899993896  36.029998779  732.169982910  114.510002136   \n",
       "2024-03-20  178.149993896  36.750000000  740.719970703  116.459999084   \n",
       "2024-03-21  178.149993896  37.509998322  742.559997559  116.699996948   \n",
       "2024-03-22  178.869995117  37.049999237  734.799987793  115.870002747   \n",
       "\n",
       "Ticker                KO            MCD           MSFT          NAT  \\\n",
       "Date                                                                  \n",
       "2024-03-18  60.130001068  278.579986572  417.320007324  3.910000086   \n",
       "2024-03-19  60.229999542  282.869995117  421.410003662  3.880000114   \n",
       "2024-03-20  60.750000000  284.450012207  425.230010986  3.849999905   \n",
       "2024-03-21  60.470001221  283.529998779  429.369995117  4.000000000   \n",
       "2024-03-22  60.490001678  282.630004883  428.739990234  3.930000067   \n",
       "\n",
       "Ticker              SBUX  \n",
       "Date                      \n",
       "2024-03-18  91.010002136  \n",
       "2024-03-19  91.589996338  \n",
       "2024-03-20  92.599998474  \n",
       "2024-03-21  91.660003662  \n",
       "2024-03-22  90.709999084  "
      ]
     },
     "execution_count": 4,
     "metadata": {},
     "output_type": "execute_result"
    }
   ],
   "source": [
    "ohlc = yf.download(tickers, period=\"max\")\n",
    "prices = ohlc[\"Adj Close\"]\n",
    "prices.tail()"
   ]
  },
  {
   "cell_type": "code",
   "execution_count": 5,
   "id": "4ef1ea5e-4fc3-4524-877c-2d67eefe6666",
   "metadata": {
    "tags": []
   },
   "outputs": [
    {
     "name": "stderr",
     "output_type": "stream",
     "text": [
      "[*********************100%%**********************]  1 of 1 completed\n"
     ]
    },
    {
     "data": {
      "text/plain": [
       "Date\n",
       "1993-01-29    24.763738632\n",
       "1993-02-01    24.939859390\n",
       "1993-02-02    24.992685318\n",
       "1993-02-03    25.256885529\n",
       "1993-02-04    25.362579346\n",
       "Name: Adj Close, dtype: float64"
      ]
     },
     "execution_count": 5,
     "metadata": {},
     "output_type": "execute_result"
    }
   ],
   "source": [
    "market_prices = yf.download(\"SPY\", period=\"max\")[\"Adj Close\"]\n",
    "market_prices.head()"
   ]
  },
  {
   "cell_type": "code",
   "execution_count": 6,
   "id": "7e9ac8b6-d873-401b-8d82-f8433aad4c1e",
   "metadata": {
    "tags": []
   },
   "outputs": [
    {
     "data": {
      "text/plain": [
       "{'MSFT': 3192492130304,\n",
       " 'AMZN': 1857994096640,\n",
       " 'NAT': 820568320,\n",
       " 'BAC': 295978008576,\n",
       " 'DIS': 214062874624,\n",
       " 'KO': 260783898624,\n",
       " 'MCD': 204723322880,\n",
       " 'COST': 325886738432,\n",
       " 'SBUX': 102703677440}"
      ]
     },
     "execution_count": 6,
     "metadata": {},
     "output_type": "execute_result"
    }
   ],
   "source": [
    "mcaps = {}\n",
    "for t in tickers:\n",
    "    stock = yf.Ticker(t)\n",
    "    mcaps[t] = stock.info[\"marketCap\"]\n",
    "mcaps"
   ]
  },
  {
   "cell_type": "code",
   "execution_count": 7,
   "id": "95acbae3-d18d-4b1e-af56-9521263a3a80",
   "metadata": {
    "tags": []
   },
   "outputs": [
    {
     "data": {
      "text/plain": [
       "2.722610472941319"
      ]
     },
     "execution_count": 7,
     "metadata": {},
     "output_type": "execute_result"
    }
   ],
   "source": [
    "from pypfopt import black_litterman, risk_models\n",
    "from pypfopt import BlackLittermanModel\n",
    "S = risk_models.CovarianceShrinkage(prices).ledoit_wolf()\n",
    "delta = black_litterman.market_implied_risk_aversion(market_prices)\n",
    "delta"
   ]
  },
  {
   "cell_type": "code",
   "execution_count": 8,
   "id": "31544686-3b39-45c8-a047-f401ead7f73a",
   "metadata": {
    "tags": []
   },
   "outputs": [
    {
     "data": {
      "text/plain": [
       "Ticker\n",
       "AMZN    0.180668656\n",
       "BAC     0.102938632\n",
       "COST    0.081895540\n",
       "DIS     0.095311456\n",
       "KO      0.063775868\n",
       "MCD     0.067538051\n",
       "MSFT    0.150310353\n",
       "NAT     0.053152838\n",
       "SBUX    0.082430261\n",
       "dtype: float64"
      ]
     },
     "execution_count": 8,
     "metadata": {},
     "output_type": "execute_result"
    }
   ],
   "source": [
    "market_prior = black_litterman.market_implied_prior_returns(mcaps, delta, S)\n",
    "market_prior"
   ]
  },
  {
   "cell_type": "code",
   "execution_count": 9,
   "id": "469a4194-0855-4a99-997a-654b97dfe558",
   "metadata": {
    "tags": []
   },
   "outputs": [
    {
     "data": {
      "image/png": "[encoded data removed]",
      "text/plain": [
       "<Figure size 1000x500 with 1 Axes>"
      ]
     },
     "metadata": {},
     "output_type": "display_data"
    }
   ],
   "source": [
    "market_prior.plot.barh(figsize=(10,5));"
   ]
  },
  {
   "cell_type": "code",
   "execution_count": 10,
   "id": "72d0fc3c-77d8-4eb7-8307-cc5a74bc623c",
   "metadata": {
    "tags": []
   },
   "outputs": [],
   "source": [
    "# You don't have to provide views on all the assets\n",
    "viewdict = {\n",
    "    #\"AMZN\": 0.10,\n",
    "    \"BAC\": 0.30,\n",
    "    \"COST\": 0.05,\n",
    "    \"DIS\": 0.05,\n",
    "    \"KO\": -0.05,  # I think Coca-Cola will go down 5%\n",
    "    \"MCD\": 0.15,\n",
    "    \"MSFT\": 0.10,\n",
    "    \"NAT\": 0.50,  # but low confidence, which will be reflected later\n",
    "    \"SBUX\": 0.10\n",
    "}\n",
    "\n",
    "bl = BlackLittermanModel(S, pi=market_prior, absolute_views=viewdict)"
   ]
  },
  {
   "cell_type": "code",
   "execution_count": 12,
   "id": "b60a24af-abe0-4239-b7fc-9fc4fd85448c",
   "metadata": {
    "tags": []
   },
   "outputs": [],
   "source": [
    "confidences = [\n",
    "#    0.6,\n",
    "    0.4,\n",
    "    0.2,\n",
    "    0.5,\n",
    "    0.7, # confident KO will do poorly\n",
    "    0.7, \n",
    "    0.5,\n",
    "    0.1,\n",
    "    0.4\n",
    "]"
   ]
  },
  {
   "cell_type": "code",
   "execution_count": 13,
   "id": "c108e92d-50a8-4271-ae77-6b5fd1a05618",
   "metadata": {
    "tags": []
   },
   "outputs": [],
   "source": [
    "bl = BlackLittermanModel(S, pi=market_prior, absolute_views=viewdict, omega=\"idzorek\", view_confidences=confidences)"
   ]
  },
  {
   "cell_type": "code",
   "execution_count": 14,
   "id": "0da47549-6eaa-478e-a9b3-5f3382f8e918",
   "metadata": {
    "tags": []
   },
   "outputs": [
    {
     "data": {
      "image/png": "[encoded data removed]",
      "text/plain": [
       "<Figure size 700x700 with 1 Axes>"
      ]
     },
     "metadata": {},
     "output_type": "display_data"
    }
   ],
   "source": [
    "fig, ax = plt.subplots(figsize=(7,7))\n",
    "im = ax.imshow(bl.omega)\n",
    "\n",
    "# We want to show all ticks...\n",
    "ax.set_xticks(np.arange(len(bl.tickers)))\n",
    "ax.set_yticks(np.arange(len(bl.tickers)))\n",
    "\n",
    "ax.set_xticklabels(bl.tickers)\n",
    "ax.set_yticklabels(bl.tickers)\n",
    "plt.show()"
   ]
  },
  {
   "cell_type": "code",
   "execution_count": 22,
   "id": "abb2e36b-0846-4608-a043-464194d4719f",
   "metadata": {
    "tags": []
   },
   "outputs": [],
   "source": [
    "intervals = [\n",
    "#    (0, 0.25),\n",
    "    (0.1, 0.4),\n",
    "    (-0.1, 0.15),\n",
    "    (-0.05, 0.1),\n",
    "    (-0.1, 0),\n",
    "    (0.1, 0.2),\n",
    "    (0.08, 0.12),\n",
    "    (0.1, 0.9),\n",
    "    (0, 0.3)\n",
    "]"
   ]
  },
  {
   "cell_type": "code",
   "execution_count": 23,
   "id": "257374d5-b2c0-4002-8571-dc5cce7c6d72",
   "metadata": {
    "tags": []
   },
   "outputs": [
    {
     "name": "stdout",
     "output_type": "stream",
     "text": [
      "[0.022500000000000006, 0.015625, 0.0056250000000000015, 0.0025000000000000005, 0.0025000000000000005, 0.00039999999999999986, 0.16000000000000003, 0.0225]\n"
     ]
    }
   ],
   "source": [
    "variances = []\n",
    "for lb, ub in intervals:\n",
    "    sigma = (ub - lb)/2\n",
    "    variances.append(sigma ** 2)\n",
    "\n",
    "print(variances)\n",
    "omega = np.diag(variances)"
   ]
  },
  {
   "cell_type": "code",
   "execution_count": 21,
   "id": "c44661cf-da7a-4468-b790-5970f6f8ef42",
   "metadata": {
    "tags": []
   },
   "outputs": [
    {
     "ename": "AssertionError",
     "evalue": "omega must have dimensions KxK",
     "output_type": "error",
     "traceback": [
      "\u001b[1;31m---------------------------------------------------------------------------\u001b[0m",
      "\u001b[1;31mAssertionError\u001b[0m                            Traceback (most recent call last)",
      "Cell \u001b[1;32mIn[21], line 2\u001b[0m\n\u001b[0;32m      1\u001b[0m \u001b[38;5;66;03m# We are using the shortcut to automatically compute market-implied prior\u001b[39;00m\n\u001b[1;32m----> 2\u001b[0m bl \u001b[38;5;241m=\u001b[39m \u001b[43mBlackLittermanModel\u001b[49m\u001b[43m(\u001b[49m\u001b[43mS\u001b[49m\u001b[43m,\u001b[49m\u001b[43m \u001b[49m\u001b[43mpi\u001b[49m\u001b[38;5;241;43m=\u001b[39;49m\u001b[38;5;124;43m\"\u001b[39;49m\u001b[38;5;124;43mmarket\u001b[39;49m\u001b[38;5;124;43m\"\u001b[39;49m\u001b[43m,\u001b[49m\u001b[43m \u001b[49m\u001b[43mmarket_caps\u001b[49m\u001b[38;5;241;43m=\u001b[39;49m\u001b[43mmcaps\u001b[49m\u001b[43m,\u001b[49m\u001b[43m \u001b[49m\u001b[43mrisk_aversion\u001b[49m\u001b[38;5;241;43m=\u001b[39;49m\u001b[43mdelta\u001b[49m\u001b[43m,\u001b[49m\n\u001b[0;32m      3\u001b[0m \u001b[43m                        \u001b[49m\u001b[43mabsolute_views\u001b[49m\u001b[38;5;241;43m=\u001b[39;49m\u001b[43mviewdict\u001b[49m\u001b[43m,\u001b[49m\u001b[43m \u001b[49m\u001b[43momega\u001b[49m\u001b[38;5;241;43m=\u001b[39;49m\u001b[43momega\u001b[49m\u001b[43m)\u001b[49m\n",
      "File \u001b[1;32mD:\\Soft\\Anaconda\\envs\\t\\Lib\\site-packages\\pypfopt\\black_litterman.py:200\u001b[0m, in \u001b[0;36mBlackLittermanModel.__init__\u001b[1;34m(self, cov_matrix, pi, absolute_views, Q, P, omega, view_confidences, tau, risk_aversion, **kwargs)\u001b[0m\n\u001b[0;32m    197\u001b[0m \u001b[38;5;66;03m# Make sure all dimensions work\u001b[39;00m\n\u001b[0;32m    198\u001b[0m \u001b[38;5;28mself\u001b[39m\u001b[38;5;241m.\u001b[39m_check_attribute_dimensions()\n\u001b[1;32m--> 200\u001b[0m \u001b[38;5;28;43mself\u001b[39;49m\u001b[38;5;241;43m.\u001b[39;49m\u001b[43m_set_omega\u001b[49m\u001b[43m(\u001b[49m\u001b[43momega\u001b[49m\u001b[43m,\u001b[49m\u001b[43m \u001b[49m\u001b[43mview_confidences\u001b[49m\u001b[43m)\u001b[49m\n\u001b[0;32m    202\u001b[0m \u001b[38;5;66;03m# Private intermediaries\u001b[39;00m\n\u001b[0;32m    203\u001b[0m \u001b[38;5;28mself\u001b[39m\u001b[38;5;241m.\u001b[39m_tau_sigma_P \u001b[38;5;241m=\u001b[39m \u001b[38;5;28;01mNone\u001b[39;00m\n",
      "File \u001b[1;32mD:\\Soft\\Anaconda\\envs\\t\\Lib\\site-packages\\pypfopt\\black_litterman.py:331\u001b[0m, in \u001b[0;36mBlackLittermanModel._set_omega\u001b[1;34m(self, omega, view_confidences)\u001b[0m\n\u001b[0;32m    328\u001b[0m     \u001b[38;5;28;01mraise\u001b[39;00m \u001b[38;5;167;01mTypeError\u001b[39;00m(\u001b[38;5;124m\"\u001b[39m\u001b[38;5;124mself.omega must be a square array, dataframe, or string\u001b[39m\u001b[38;5;124m\"\u001b[39m)\n\u001b[0;32m    330\u001b[0m K \u001b[38;5;241m=\u001b[39m \u001b[38;5;28mlen\u001b[39m(\u001b[38;5;28mself\u001b[39m\u001b[38;5;241m.\u001b[39mQ)\n\u001b[1;32m--> 331\u001b[0m \u001b[38;5;28;01massert\u001b[39;00m \u001b[38;5;28mself\u001b[39m\u001b[38;5;241m.\u001b[39momega\u001b[38;5;241m.\u001b[39mshape \u001b[38;5;241m==\u001b[39m (K, K), \u001b[38;5;124m\"\u001b[39m\u001b[38;5;124momega must have dimensions KxK\u001b[39m\u001b[38;5;124m\"\u001b[39m\n",
      "\u001b[1;31mAssertionError\u001b[0m: omega must have dimensions KxK"
     ]
    }
   ],
   "source": [
    "\n",
    "# We are using the shortcut to automatically compute market-implied prior\n",
    "bl = BlackLittermanModel(S, pi=\"market\", market_caps=mcaps, risk_aversion=delta,\n",
    "                        absolute_views=viewdict, omega=omega)"
   ]
  },
  {
   "cell_type": "code",
   "execution_count": 18,
   "id": "a41b1d9f-aece-4e36-9192-17fabae9287d",
   "metadata": {
    "tags": []
   },
   "outputs": [
    {
     "data": {
      "text/plain": [
       "Ticker\n",
       "AMZN    0.158139143\n",
       "BAC     0.116276860\n",
       "COST    0.057500884\n",
       "DIS     0.067194556\n",
       "KO      0.005769997\n",
       "MCD     0.100025499\n",
       "MSFT    0.103852941\n",
       "NAT     0.049147888\n",
       "SBUX    0.068464358\n",
       "dtype: float64"
      ]
     },
     "execution_count": 18,
     "metadata": {},
     "output_type": "execute_result"
    }
   ],
   "source": [
    "# Posterior estimate of returns\n",
    "ret_bl = bl.bl_returns()\n",
    "ret_bl"
   ]
  },
  {
   "cell_type": "code",
   "execution_count": 35,
   "id": "f6d260eb-6680-4c1d-87d5-244292d556af",
   "metadata": {
    "tags": []
   },
   "outputs": [
    {
     "data": {
      "text/html": [
       "<div>\n",
       "<style scoped>\n",
       "    .dataframe tbody tr th:only-of-type {\n",
       "        vertical-align: middle;\n",
       "    }\n",
       "\n",
       "    .dataframe tbody tr th {\n",
       "        vertical-align: top;\n",
       "    }\n",
       "\n",
       "    .dataframe thead th {\n",
       "        text-align: right;\n",
       "    }\n",
       "</style>\n",
       "<table border=\"1\" class=\"dataframe\">\n",
       "  <thead>\n",
       "    <tr style=\"text-align: right;\">\n",
       "      <th></th>\n",
       "      <th>Prior</th>\n",
       "      <th>Posterior</th>\n",
       "      <th>Views</th>\n",
       "    </tr>\n",
       "  </thead>\n",
       "  <tbody>\n",
       "    <tr>\n",
       "      <th>AMZN</th>\n",
       "      <td>0.180493303</td>\n",
       "      <td>0.141534265</td>\n",
       "      <td>0.10</td>\n",
       "    </tr>\n",
       "    <tr>\n",
       "      <th>BAC</th>\n",
       "      <td>0.103001203</td>\n",
       "      <td>0.114974904</td>\n",
       "      <td>0.30</td>\n",
       "    </tr>\n",
       "    <tr>\n",
       "      <th>COST</th>\n",
       "      <td>0.082001175</td>\n",
       "      <td>0.056443316</td>\n",
       "      <td>0.05</td>\n",
       "    </tr>\n",
       "    <tr>\n",
       "      <th>DIS</th>\n",
       "      <td>0.095364789</td>\n",
       "      <td>0.066357582</td>\n",
       "      <td>0.05</td>\n",
       "    </tr>\n",
       "    <tr>\n",
       "      <th>KO</th>\n",
       "      <td>0.063823457</td>\n",
       "      <td>0.005818535</td>\n",
       "      <td>-0.05</td>\n",
       "    </tr>\n",
       "    <tr>\n",
       "      <th>MCD</th>\n",
       "      <td>0.067586470</td>\n",
       "      <td>0.099884703</td>\n",
       "      <td>0.15</td>\n",
       "    </tr>\n",
       "    <tr>\n",
       "      <th>MSFT</th>\n",
       "      <td>0.150392304</td>\n",
       "      <td>0.103484395</td>\n",
       "      <td>0.10</td>\n",
       "    </tr>\n",
       "    <tr>\n",
       "      <th>NAT</th>\n",
       "      <td>0.053165971</td>\n",
       "      <td>0.048149046</td>\n",
       "      <td>0.50</td>\n",
       "    </tr>\n",
       "    <tr>\n",
       "      <th>SBUX</th>\n",
       "      <td>0.082481664</td>\n",
       "      <td>0.066633829</td>\n",
       "      <td>0.10</td>\n",
       "    </tr>\n",
       "  </tbody>\n",
       "</table>\n",
       "</div>"
      ],
      "text/plain": [
       "            Prior    Posterior  Views\n",
       "AMZN  0.180493303  0.141534265   0.10\n",
       "BAC   0.103001203  0.114974904   0.30\n",
       "COST  0.082001175  0.056443316   0.05\n",
       "DIS   0.095364789  0.066357582   0.05\n",
       "KO    0.063823457  0.005818535  -0.05\n",
       "MCD   0.067586470  0.099884703   0.15\n",
       "MSFT  0.150392304  0.103484395   0.10\n",
       "NAT   0.053165971  0.048149046   0.50\n",
       "SBUX  0.082481664  0.066633829   0.10"
      ]
     },
     "execution_count": 35,
     "metadata": {},
     "output_type": "execute_result"
    }
   ],
   "source": [
    "\n",
    "rets_df = pd.DataFrame([market_prior, ret_bl, pd.Series(viewdict)], \n",
    "             index=[\"Prior\", \"Posterior\", \"Views\"]).T\n",
    "rets_df"
   ]
  },
  {
   "cell_type": "code",
   "execution_count": 39,
   "id": "47d469e9-86b1-4db3-9557-cb7ab68e78db",
   "metadata": {
    "tags": []
   },
   "outputs": [],
   "source": [
    "S_bl = bl.bl_cov()\n"
   ]
  },
  {
   "cell_type": "code",
   "execution_count": 36,
   "id": "34be5b41-b08c-49db-93a8-a0b1a65dd923",
   "metadata": {
    "tags": []
   },
   "outputs": [],
   "source": [
    "from pypfopt import EfficientFrontier, objective_functions"
   ]
  },
  {
   "cell_type": "code",
   "execution_count": 40,
   "id": "7cc81c3d-fc68-4bc2-a2b8-e25288f77ecc",
   "metadata": {
    "tags": []
   },
   "outputs": [
    {
     "name": "stderr",
     "output_type": "stream",
     "text": [
      "D:\\Soft\\Anaconda\\envs\\t\\Lib\\site-packages\\pypfopt\\efficient_frontier\\efficient_frontier.py:259: UserWarning: max_sharpe transforms the optimization problem so additional objectives may not work as expected.\n",
      "  warnings.warn(\n"
     ]
    },
    {
     "data": {
      "text/plain": [
       "OrderedDict([('AMZN', 0.23218),\n",
       "             ('BAC', 0.17761),\n",
       "             ('COST', 0.06305),\n",
       "             ('DIS', 0.07562),\n",
       "             ('KO', 0.0),\n",
       "             ('MCD', 0.15887),\n",
       "             ('MSFT', 0.16269),\n",
       "             ('NAT', 0.04785),\n",
       "             ('SBUX', 0.08213)])"
      ]
     },
     "execution_count": 40,
     "metadata": {},
     "output_type": "execute_result"
    }
   ],
   "source": [
    "ef = EfficientFrontier(ret_bl, S_bl)\n",
    "ef.add_objective(objective_functions.L2_reg)\n",
    "ef.max_sharpe()\n",
    "weights = ef.clean_weights()\n",
    "weights\n",
    "     "
   ]
  },
  {
   "cell_type": "code",
   "execution_count": 41,
   "id": "650be1c9-fef0-4e8d-9faf-126cd731d34a",
   "metadata": {
    "tags": []
   },
   "outputs": [
    {
     "name": "stdout",
     "output_type": "stream",
     "text": [
      "Leftover: $700.55\n"
     ]
    },
    {
     "name": "stderr",
     "output_type": "stream",
     "text": [
      "D:\\Soft\\Anaconda\\envs\\t\\Lib\\site-packages\\cvxpy\\problems\\problem.py:1403: UserWarning: Solution may be inaccurate. Try another solver, adjusting the solver settings, or solve with verbose=True for more information.\n",
      "  warnings.warn(\n"
     ]
    },
    {
     "data": {
      "text/plain": [
       "{'BAC': 109,\n",
       " 'COST': 2,\n",
       " 'DIS': 16,\n",
       " 'KO': 10,\n",
       " 'MCD': 12,\n",
       " 'MSFT': 8,\n",
       " 'NAT': 600,\n",
       " 'SBUX': 22}"
      ]
     },
     "execution_count": 41,
     "metadata": {},
     "output_type": "execute_result"
    }
   ],
   "source": [
    "from pypfopt import DiscreteAllocation\n",
    "\n",
    "da = DiscreteAllocation(weights, prices.iloc[-1], total_portfolio_value=20000)\n",
    "alloc, leftover = da.lp_portfolio()\n",
    "print(f\"Leftover: ${leftover:.2f}\")\n",
    "alloc\n",
    "     "
   ]
  },
  {
   "cell_type": "markdown",
   "id": "785e4141-118b-4efb-aabe-445150ecdf4d",
   "metadata": {
    "tags": []
   },
   "source": [
    "### Crypto"
   ]
  },
  {
   "cell_type": "code",
   "execution_count": 10,
   "id": "c7a4dd89-4fcc-4b8a-8ac2-0884cca38b8c",
   "metadata": {
    "tags": []
   },
   "outputs": [
    {
     "name": "stdout",
     "output_type": "stream",
     "text": [
      "AAVE-USDT\n",
      "ADA-USDT\n",
      "ALGO-USDT\n",
      "APT-USDT\n",
      "AVAX-USDT\n",
      "AXS-USDT\n",
      "BNB-USDT\n",
      "BONK-USDT\n",
      "CAKE-USDT\n",
      "CYBER-USDT\n",
      "DOGE-USDT\n",
      "DOT-USDT\n",
      "EOS-USDT\n",
      "ETC-USDT\n",
      "ETH-USDT\n",
      "ETHFI-USDT\n",
      "FIRE-USDT\n",
      "FTT-USDT\n",
      "FTM-USDT\n",
      "GALA-USDT\n",
      "INJ-USDT\n",
      "JUP-USDT\n",
      "LINK-USDT\n",
      "LTC-USDT\n",
      "LUNA-USDT\n",
      "MATIC-USDT\n",
      "NEON-USDT\n",
      "NEAR-USDT\n",
      "NGL-USDT\n",
      "ONDO-USDT\n",
      "ONDO-USDT Нет данных\n",
      "PEPE-USDT\n",
      "PPT-USDT\n",
      "PYTH-USDT\n",
      "RUNE-USDT\n",
      "SEI-USDT\n",
      "SOL-USDT\n",
      "SUI-USDT\n",
      "THETA-USDT\n",
      "TOKEN-USDT\n",
      "TOKEN-USDT Нет данных\n",
      "TRX-USDT\n",
      "UNI-USDT\n",
      "WAVES-USDT\n",
      "WLD-USDT\n",
      "XRP-USDT\n",
      "ZIL-USDT\n"
     ]
    }
   ],
   "source": [
    "pair = \"USDT\"\n",
    "index_assets = pd.read_csv('index_assets.csv')['asset'].tolist()\n",
    "assets = index_assets\n",
    "markets = [m + '-' + pair for m in assets]\n",
    "df_all =  load_data_for_portfolio(markets, '4h')   "
   ]
  }
 ],
 "metadata": {
  "kernelspec": {
   "display_name": "t",
   "language": "python",
   "name": "t"
  },
  "language_info": {
   "codemirror_mode": {
    "name": "ipython",
    "version": 3
   },
   "file_extension": ".py",
   "mimetype": "text/x-python",
   "name": "python",
   "nbconvert_exporter": "python",
   "pygments_lexer": "ipython3",
   "version": "3.11.7"
  }
 },
 "nbformat": 4,
 "nbformat_minor": 5
}
