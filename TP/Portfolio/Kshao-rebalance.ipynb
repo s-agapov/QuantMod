{
 "cells": [
  {
   "cell_type": "code",
   "execution_count": 1,
   "metadata": {},
   "outputs": [],
   "source": [
    "import pandas as pd\n",
    "import ccxt\n",
    "from pypfopt.efficient_frontier import EfficientFrontier\n",
    "from pypfopt import risk_models\n",
    "from pypfopt import expected_returns\n",
    "\n",
    "from datetime import datetime\n",
    "\n",
    "import sys\n",
    "sys.path.append(\"..\") \n",
    "\n",
    "from tp_config import *\n",
    "from tp_utils.data_provider import read_prices, read_data, load_data_from_exchange, market_to_symbol\n",
    "import json"
   ]
  },
  {
   "cell_type": "code",
   "execution_count": 3,
   "metadata": {},
   "outputs": [],
   "source": [
    "delisted_assets = ['MOD', 'SBTC', 'BCX', 'EON', 'ADD', 'ATD', 'EOP', 'MEETONE', 'IQ', 'VTHO']\n",
    "pd.set_option('precision', 9)\n",
    "\n",
    "def get_balance():\n",
    "    json = exchange.fetch_balance()\n",
    "    df = pd.DataFrame(json['info']['balances'])\n",
    "    return df\n",
    "\n",
    "\n",
    "def create_market_buy_order(exchange, market, amount):\n",
    "    symbol = market_to_symbol(market)\n",
    "    order = exchange.create_market_buy_order(symbol, amount)\n",
    "    trades = exchange.fetchMyTrades (symbol, limit = 1)\n",
    "    price = trades[-1]['price']\n",
    "    return price\n",
    "\n",
    "def create_market_sell_order(exchange, market, amount):\n",
    "    symbol = market_to_symbol(market)\n",
    "    order = exchange.create_market_sell_order(symbol, amount)\n",
    "    trades = exchange.fetchMyTrades (symbol, limit = 1)\n",
    "    price = trades[-1]['price']\n",
    "    return price\n",
    "  \n",
    "def weights_to_df(cleaned_weights):\n",
    "    dfw = pd.DataFrame.from_dict([cleaned_weights]).transpose()\n",
    "    dfw.columns = ['W']\n",
    "    dfw = dfw[dfw['W'] > 0]\n",
    "    return dfw\n",
    "\n",
    "def final_sums(df, total):\n",
    "    xx = round(df * total, -1)\n",
    "    return xx[xx['W'] > 50]\n",
    "\n",
    "def load_data_for_portfolio(tickers):\n",
    "    res = []\n",
    "    for ticker in tickers:\n",
    "        print(ticker)\n",
    "        df = read_data(ticker, '1h')\n",
    "        df = df.drop_duplicates(subset=['T'])\n",
    "        df.index = df['T']\n",
    "        df_close = df[['C']]\n",
    "        df_close.columns = [ticker]\n",
    "        res.append(df_close)\n",
    "\n",
    "    df1 = res[0]\n",
    "    for df2 in res[1:]:\n",
    "        #df1 = df1.join(df2, how='inner', on= 'T')\n",
    "        df1 = pd.merge_asof(df1, df2, on= 'T', tolerance = 1)\n",
    "    df1 = df1.dropna(axis = 0)\n",
    "    df_prices = df1.set_index('T') \n",
    "    return df_prices\n",
    "\n",
    "def calc_weights(lookback, opt_type, par):\n",
    "    df_period = df_prices.iloc[-lookback:]\n",
    "\n",
    "    avg_returns = expected_returns.mean_historical_return(df_period)\n",
    "    cov_mat = risk_models.sample_cov(df_period)\n",
    "\n",
    "    # get weights maximizing the Sharpe ratio\n",
    "    ef = EfficientFrontier(avg_returns, cov_mat)\n",
    "\n",
    "    if opt_type == 'max_sharpe':\n",
    "        weights = ef.max_sharpe()\n",
    "    elif opt_type == 'efficient_risk':\n",
    "        weights = ef.efficient_risk(par) \n",
    "    #weights = ef.max_quadratic_utility(0.3)\n",
    "\n",
    "    print(weights)\n",
    "\n",
    "    ef.portfolio_performance(verbose=False)\n",
    "    cleaned_weights = ef.clean_weights()\n",
    "    dfw = weights_to_df(cleaned_weights)\n",
    "    return dfw"
   ]
  },
  {
   "cell_type": "code",
   "execution_count": 5,
   "metadata": {},
   "outputs": [],
   "source": [
    "kshao_api = \"LuvsqHIVmpvQKKGnPQZ4QbPWY6FYPhdldEk81zmoWO6ef4jHYWBa4Dgh0IKEaezZ\"\n",
    "kshao_secret = \"kLyVpmF4b74y3KGD57wMJR7SA9cQ0op7SJZR6GfluCuXpEwk1l5KnzCwvsDHfzW2\"\n",
    "\n",
    "exchange = ccxt.binance({'apiKey': kshao_api, 'secret': kshao_secret})"
   ]
  },
  {
   "cell_type": "markdown",
   "metadata": {},
   "source": [
    "## Current balance"
   ]
  },
  {
   "cell_type": "code",
   "execution_count": 268,
   "metadata": {},
   "outputs": [
    {
     "name": "stdout",
     "output_type": "stream",
     "text": [
      "BTC:  0.11216794427112001\n",
      "USDT: 4386.8\n"
     ]
    },
    {
     "data": {
      "text/html": [
       "<div>\n",
       "<style scoped>\n",
       "    .dataframe tbody tr th:only-of-type {\n",
       "        vertical-align: middle;\n",
       "    }\n",
       "\n",
       "    .dataframe tbody tr th {\n",
       "        vertical-align: top;\n",
       "    }\n",
       "\n",
       "    .dataframe thead th {\n",
       "        text-align: right;\n",
       "    }\n",
       "</style>\n",
       "<table border=\"1\" class=\"dataframe\">\n",
       "  <thead>\n",
       "    <tr style=\"text-align: right;\">\n",
       "      <th></th>\n",
       "      <th>asset</th>\n",
       "      <th>free</th>\n",
       "      <th>locked</th>\n",
       "    </tr>\n",
       "  </thead>\n",
       "  <tbody>\n",
       "    <tr>\n",
       "      <th>0</th>\n",
       "      <td>BTC</td>\n",
       "      <td>0.09200582</td>\n",
       "      <td>0.00000000</td>\n",
       "    </tr>\n",
       "    <tr>\n",
       "      <th>4</th>\n",
       "      <td>BNB</td>\n",
       "      <td>2.15223359</td>\n",
       "      <td>0.00000000</td>\n",
       "    </tr>\n",
       "  </tbody>\n",
       "</table>\n",
       "</div>"
      ],
      "text/plain": [
       "  asset        free      locked\n",
       "0   BTC  0.09200582  0.00000000\n",
       "4   BNB  2.15223359  0.00000000"
      ]
     },
     "execution_count": 268,
     "metadata": {},
     "output_type": "execute_result"
    }
   ],
   "source": [
    "df = get_balance()\n",
    "df = df[df['free'].astype(float) > 0]\n",
    "df = df[~df['asset'].isin(delisted_assets)]\n",
    "\n",
    "ticker = 'BTC/USDT'\n",
    "price_btc = exchange.fetch_ticker(ticker)['last']\n",
    "\n",
    "balance = 0\n",
    "balance_btc = 0\n",
    "\n",
    "for row in df.iterrows():\n",
    "    asset = row[1]['asset']\n",
    "    amount = float(row[1]['free'])\n",
    "    if asset == 'BTC':\n",
    "        balance = balance + amount * price_btc\n",
    "        balance_btc = balance_btc + amount\n",
    "    else:\n",
    "        ticker = asset + '/BTC'\n",
    "        price = exchange.fetch_ticker(ticker)['last']\n",
    "        balance = balance + amount * price * price_btc \n",
    "        balance_btc = balance_btc + amount*price\n",
    "print('BTC: ', balance_btc)\n",
    "print('USDT:', round(balance, 2))\n",
    "  \n",
    "    \n",
    "df"
   ]
  },
  {
   "cell_type": "markdown",
   "metadata": {},
   "source": [
    "### Sell All"
   ]
  },
  {
   "cell_type": "code",
   "execution_count": null,
   "metadata": {},
   "outputs": [],
   "source": []
  },
  {
   "cell_type": "code",
   "execution_count": 266,
   "metadata": {},
   "outputs": [
    {
     "name": "stdout",
     "output_type": "stream",
     "text": [
      "ADA-BTC 4.147e-05\n"
     ]
    }
   ],
   "source": [
    "df = get_balance()\n",
    "df = df[df['free'].astype(float) > 0]\n",
    "df = df[~df['asset'].isin(delisted_assets)]\n",
    "for row in df.iterrows():\n",
    "    asset = row[1]['asset']\n",
    "    amount = row[1]['free']\n",
    "\n",
    "    if asset in ['BTC', 'USDT', 'BNB']:\n",
    "        continue\n",
    "\n",
    "    market = asset + '-BTC' \n",
    "    try:\n",
    "        price_sell = create_market_sell_order(exchange, market, amount)\n",
    "        print(market, price_sell)\n",
    "    except:\n",
    "        pass"
   ]
  },
  {
   "cell_type": "code",
   "execution_count": 251,
   "metadata": {},
   "outputs": [],
   "source": [
    "market = 'ADA-BTC'\n",
    "amount = 10"
   ]
  },
  {
   "cell_type": "markdown",
   "metadata": {},
   "source": [
    "### Sell market"
   ]
  },
  {
   "cell_type": "code",
   "execution_count": 245,
   "metadata": {},
   "outputs": [
    {
     "name": "stdout",
     "output_type": "stream",
     "text": [
      "5.699e-05\n"
     ]
    }
   ],
   "source": [
    "price_sell = create_market_sell_order(exchange, market, amount)\n",
    "print(price_sell)"
   ]
  },
  {
   "cell_type": "markdown",
   "metadata": {},
   "source": [
    "### Buy market"
   ]
  },
  {
   "cell_type": "code",
   "execution_count": 252,
   "metadata": {},
   "outputs": [
    {
     "name": "stdout",
     "output_type": "stream",
     "text": [
      "4.147e-05\n"
     ]
    }
   ],
   "source": [
    "price_buy = create_market_buy_order(exchange, market, amount)\n",
    "print(price_buy)"
   ]
  },
  {
   "cell_type": "markdown",
   "metadata": {},
   "source": [
    "### 0. Data from exchange"
   ]
  },
  {
   "cell_type": "code",
   "execution_count": 190,
   "metadata": {},
   "outputs": [
    {
     "name": "stdout",
     "output_type": "stream",
     "text": [
      "1546300800000 2019-01-01 04:00:00\n",
      "AAVE-BTC\n",
      "1h\n",
      "ADA-BTC\n",
      "1h\n",
      "AVAX-BTC\n",
      "1h\n",
      "BNB-BTC\n",
      "1h\n",
      "BCH-BTC\n",
      "1h\n",
      "CAKE-BTC\n",
      "1h\n",
      "CTSI-BTC\n",
      "1h\n",
      "DOGE-BTC\n",
      "1h\n",
      "DOT-BTC\n",
      "1h\n",
      "EOS-BTC\n",
      "1h\n",
      "ETC-BTC\n",
      "1h\n",
      "ETH-BTC\n",
      "1h\n",
      "FTT-BTC\n",
      "1h\n",
      "LINK-BTC\n",
      "1h\n",
      "LTC-BTC\n",
      "1h\n",
      "LUNA-BTC\n",
      "1h\n",
      "MATIC-BTC\n",
      "1h\n",
      "NEO-BTC\n",
      "1h\n",
      "RUNE-BTC\n",
      "1h\n",
      "SOL-BTC\n",
      "1h\n",
      "SXP-BTC\n",
      "1h\n",
      "THETA-BTC\n",
      "1h\n",
      "TRX-BTC\n",
      "1h\n",
      "UNI-BTC\n",
      "1h\n",
      "VET-BTC\n",
      "1h\n",
      "WBTC-BTC\n",
      "1h\n",
      "XMR-BTC\n",
      "1h\n",
      "XRP-BTC\n",
      "1h\n",
      "ZIL-BTC\n",
      "1h\n",
      "Done\n",
      "Time taken = 0.007  hours\n"
     ]
    }
   ],
   "source": [
    "pair = 'BTC'\n",
    "index_assets = pd.read_csv('index_assets.csv')['asset'].tolist()\n",
    "markets = [s + '-' + pair for s in index_assets]\n",
    "start_timestamp = exchange.parse8601('2019-01-01 00:00:00')\n",
    "timeframes = {'1h':60}\n",
    "data_path = DATA_PATH_CRYPTO + '/' + pair \n",
    "load_data_from_exchange(exchange, markets, timeframes, start_timestamp, data_path)"
   ]
  },
  {
   "cell_type": "markdown",
   "metadata": {},
   "source": [
    "### 1. Set index assets"
   ]
  },
  {
   "cell_type": "code",
   "execution_count": 199,
   "metadata": {},
   "outputs": [
    {
     "data": {
      "text/plain": [
       "{'opt_method': 'max_sharpe',\n",
       " 'base': ['main'],\n",
       " 'markets': {'SOL-BTC': 1.498214447715895, 'MATIC-BTC': 302.60276252288236}}"
      ]
     },
     "execution_count": 199,
     "metadata": {},
     "output_type": "execute_result"
    }
   ],
   "source": [
    "portfolio = 'kshao'\n",
    "portfolio_file = portfolio + '.json'\n",
    "\n",
    "with open(portfolio_file) as f:\n",
    "    portfolio_data = json.load(f)\n",
    "\n",
    "opt_method = portfolio_data['opt_method']\n",
    "    \n",
    "pair = 'USDT'\n",
    "pair = 'BTC'\n",
    "\n",
    "main_assets = ['ETH', 'ETC', 'BNB', 'SOL', 'FTT',  'LINK', 'MATIC']\n",
    "\n",
    "#if portfolio_data['base'][0] == 'index':\n",
    "\n",
    "#else:\n",
    "assets = index_assets\n",
    "assets = main_assets\n",
    "    \n",
    "markets = [m + '-' + pair for m in assets]\n",
    "portfolio_data"
   ]
  },
  {
   "cell_type": "markdown",
   "metadata": {},
   "source": [
    "### 2. Load data"
   ]
  },
  {
   "cell_type": "code",
   "execution_count": 192,
   "metadata": {},
   "outputs": [
    {
     "name": "stdout",
     "output_type": "stream",
     "text": [
      "ETH-BTC\n",
      "ETC-BTC\n",
      "BNB-BTC\n",
      "SOL-BTC\n",
      "FTT-BTC\n",
      "LINK-BTC\n",
      "MATIC-BTC\n",
      "2021-05-19 13:00:00\n"
     ]
    }
   ],
   "source": [
    "df_prices =  load_data_for_portfolio(markets)   \n",
    "print(datetime.fromtimestamp(df_prices.index[-1]/1000))"
   ]
  },
  {
   "cell_type": "markdown",
   "metadata": {},
   "source": [
    "### 3. Calc weights"
   ]
  },
  {
   "cell_type": "code",
   "execution_count": 193,
   "metadata": {},
   "outputs": [
    {
     "name": "stdout",
     "output_type": "stream",
     "text": [
      "OrderedDict([('ETH-BTC', 0.0), ('ETC-BTC', 0.0), ('BNB-BTC', 0.0), ('SOL-BTC', 0.0908257612411391), ('FTT-BTC', 0.0), ('LINK-BTC', 0.0), ('MATIC-BTC', 0.909174238758861)])\n",
      "max_sharpe\n"
     ]
    },
    {
     "data": {
      "text/html": [
       "<div>\n",
       "<style scoped>\n",
       "    .dataframe tbody tr th:only-of-type {\n",
       "        vertical-align: middle;\n",
       "    }\n",
       "\n",
       "    .dataframe tbody tr th {\n",
       "        vertical-align: top;\n",
       "    }\n",
       "\n",
       "    .dataframe thead th {\n",
       "        text-align: right;\n",
       "    }\n",
       "</style>\n",
       "<table border=\"1\" class=\"dataframe\">\n",
       "  <thead>\n",
       "    <tr style=\"text-align: right;\">\n",
       "      <th></th>\n",
       "      <th>W</th>\n",
       "    </tr>\n",
       "  </thead>\n",
       "  <tbody>\n",
       "    <tr>\n",
       "      <th>SOL-BTC</th>\n",
       "      <td>0.09083</td>\n",
       "    </tr>\n",
       "    <tr>\n",
       "      <th>MATIC-BTC</th>\n",
       "      <td>0.90917</td>\n",
       "    </tr>\n",
       "  </tbody>\n",
       "</table>\n",
       "</div>"
      ],
      "text/plain": [
       "                 W\n",
       "SOL-BTC    0.09083\n",
       "MATIC-BTC  0.90917"
      ]
     },
     "execution_count": 193,
     "metadata": {},
     "output_type": "execute_result"
    }
   ],
   "source": [
    "lookback = 24*7\n",
    "\n",
    "if opt_method == 'max_sharpe': \n",
    "    dfw = calc_weights(lookback, opt_method, 0)\n",
    "else:\n",
    "    dfw = calc_weights(lookback, opt_method, 0.4)\n",
    "print(opt_method)    \n",
    "dfw "
   ]
  },
  {
   "cell_type": "markdown",
   "metadata": {},
   "source": [
    "### 4. Sell portfolio"
   ]
  },
  {
   "cell_type": "code",
   "execution_count": 173,
   "metadata": {},
   "outputs": [
    {
     "name": "stdout",
     "output_type": "stream",
     "text": [
      "{'opt_method': 'max_sharpe', 'base': ['main'], 'markets': {'SOL-BTC': 1.7296091232129576, 'MATIC-BTC': 138.57245724572456}}\n",
      "SOL-BTC 0.00126554\n",
      "MATIC-BTC 5.579e-05\n",
      "Current balance: 0.0099198469195299\n"
     ]
    }
   ],
   "source": [
    "print(portfolio_data)\n",
    "\n",
    "# Sell portfolio    \n",
    "balance = 0.0\n",
    "portfolio = portfolio_data['markets']\n",
    "for market in portfolio.keys():\n",
    "    amount = portfolio[market]\n",
    "    price_sell = create_market_sell_order(exchange, market, amount) \n",
    "    print(market, price_sell)\n",
    "#    ticker = key.replace('-','/')\n",
    "#    price_sell = exchange.fetch_ticker(ticker)['last']\n",
    "    balance = balance + amount * price_sell\n",
    "print('Current balance:', balance)       "
   ]
  },
  {
   "cell_type": "code",
   "execution_count": 194,
   "metadata": {},
   "outputs": [],
   "source": [
    "balance = 0.02"
   ]
  },
  {
   "cell_type": "markdown",
   "metadata": {},
   "source": [
    "### 5. Set new portfolio"
   ]
  },
  {
   "cell_type": "code",
   "execution_count": 195,
   "metadata": {},
   "outputs": [
    {
     "data": {
      "text/plain": [
       "{'SOL-BTC': 1.498214447715895, 'MATIC-BTC': 302.60276252288236}"
      ]
     },
     "execution_count": 195,
     "metadata": {},
     "output_type": "execute_result"
    }
   ],
   "source": [
    "# buy \n",
    "portfolio = dfw.to_dict()['W']\n",
    "overall_balance = balance\n",
    "for key in portfolio.keys():\n",
    "#    price_buy =  create_market_buy_order(exchange, market, amount)\n",
    "    ticker = key.replace('-','/')\n",
    "    price_buy = exchange.fetch_ticker(ticker)['last']\n",
    "    sum_for_asset = portfolio[key] * overall_balance\n",
    "    balance = balance - min(sum_for_asset, balance)\n",
    "    quant = sum_for_asset / price_buy\n",
    "    portfolio[key] = quant\n",
    "    if balance < 0:\n",
    "        print('Balance < 0')    \n",
    "portfolio"
   ]
  },
  {
   "cell_type": "markdown",
   "metadata": {},
   "source": [
    "### 6. Buy portfolio"
   ]
  },
  {
   "cell_type": "code",
   "execution_count": 196,
   "metadata": {},
   "outputs": [
    {
     "name": "stdout",
     "output_type": "stream",
     "text": [
      "SOL-BTC 1.498214447715895\n",
      "MATIC-BTC 302.60276252288236\n"
     ]
    }
   ],
   "source": [
    "for market in portfolio.keys():\n",
    "    amount = portfolio[market]\n",
    "    print(market, amount)\n",
    "    price_buy =  create_market_buy_order(exchange, market, amount)\n",
    "\n",
    "portfolio_data['markets'] = portfolio    \n",
    "with open(portfolio_file, 'w') as f:\n",
    "    json.dump(portfolio_data, f)    "
   ]
  },
  {
   "cell_type": "markdown",
   "metadata": {},
   "source": [
    "### End"
   ]
  }
 ],
 "metadata": {
  "kernelspec": {
   "display_name": "t",
   "language": "python",
   "name": "t"
  },
  "language_info": {
   "codemirror_mode": {
    "name": "ipython",
    "version": 3
   },
   "file_extension": ".py",
   "mimetype": "text/x-python",
   "name": "python",
   "nbconvert_exporter": "python",
   "pygments_lexer": "ipython3",
   "version": "3.8.5"
  }
 },
 "nbformat": 4,
 "nbformat_minor": 4
}
