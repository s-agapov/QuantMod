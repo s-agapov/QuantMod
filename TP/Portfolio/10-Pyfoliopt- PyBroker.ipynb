{
 "cells": [
  {
   "cell_type": "code",
   "execution_count": 15,
   "id": "2d937da6-c5f0-4f79-8588-90ad0c38528c",
   "metadata": {
    "tags": []
   },
   "outputs": [],
   "source": [
    "import numpy as np\n",
    "import pandas as pd\n",
    "from datetime import datetime, timedelta\n",
    "from pathlib import Path\n",
    "\n",
    "import ccxt\n",
    "import matplotlib.pyplot as plt\n",
    "import sys\n",
    "sys.path.append(\"..\") \n",
    "from tp_config import *\n",
    "from portfolio_tools import load_data_for_portfolio, calc_frontier, calc_weights\n",
    "from tp_utils.data_provider import read_prices, read_data, load_data_from_exchange"
   ]
  },
  {
   "cell_type": "code",
   "execution_count": null,
   "id": "e22036b6-30d5-4601-8d62-20f5d2a166f8",
   "metadata": {
    "tags": []
   },
   "outputs": [],
   "source": []
  },
  {
   "cell_type": "code",
   "execution_count": 11,
   "id": "c81f2650-b1dd-40fe-afcf-3f36a3496feb",
   "metadata": {
    "tags": []
   },
   "outputs": [],
   "source": [
    "from pypfopt.efficient_frontier import EfficientFrontier\n",
    "from pypfopt import risk_models\n",
    "from pypfopt import expected_returns, objective_functions"
   ]
  },
  {
   "cell_type": "code",
   "execution_count": 12,
   "id": "59212aa7-9e0c-4c69-86a0-a99f6f8ce234",
   "metadata": {
    "tags": []
   },
   "outputs": [],
   "source": [
    "def calc_frontier(df_period, risk_method, ret_method = \"mean_historical_return\", span = 180):\n",
    "\n",
    "    if ret_method == \"ema_historical_return\":\n",
    "        mu = expected_returns.return_model(df_period, method=ret_method, span = span)\n",
    "    else:\n",
    "        mu = expected_returns.return_model(df_period, method=ret_method)\n",
    "  \n",
    "    cov_mat = risk_models.risk_matrix(df_period, method=risk_method)        \n",
    "    ef = EfficientFrontier(mu, cov_mat)\n",
    "    return ef\n",
    "\n",
    "\n",
    "def calc_weights(ef, opt_type, par, verbose = False):\n",
    "\n",
    "    if opt_type == 'max_sharpe':\n",
    "        try:\n",
    "            weights = ef.max_sharpe()\n",
    "        except:\n",
    "            if verbose:\n",
    "                print(\"Non-convex optimize!\")\n",
    "            weights = ef.nonconvex_objective(\n",
    "            objective_functions.sharpe_ratio,\n",
    "            objective_args=(ef.expected_returns, ef.cov_matrix),\n",
    "            weights_sum_to_one=True,\n",
    "        )  \n",
    "    elif opt_type == 'efficient_risk':\n",
    "        weights = ef.efficient_risk(par) \n",
    "\n",
    "    ef.portfolio_performance(verbose=verbose)\n",
    "    cleaned_weights = ef.clean_weights(cutoff=0.001)\n",
    "    dfw = weights_to_df(cleaned_weights)\n",
    "    dfw['W'] = dfw['W']/dfw['W'].sum()\n",
    "    return dfw\n",
    "\n",
    "\n",
    "def weights_to_df(cleaned_weights):\n",
    "    dfw = pd.DataFrame.from_dict([cleaned_weights]).transpose()\n",
    "    dfw.columns = ['W']\n",
    "    dfw = dfw[dfw['W'] > 0]\n",
    "    return dfw\n",
    "\n",
    "def final_sums(df, total):\n",
    "    xx = round(df * total, -1)\n",
    "    xx = xx[xx['W'] > 0]\n",
    "    xx = xx.sort_values(\"W\")\n",
    "    return xx"
   ]
  },
  {
   "cell_type": "code",
   "execution_count": 36,
   "id": "095f2985-9434-4ef5-b019-5f9bbabd8b59",
   "metadata": {
    "tags": []
   },
   "outputs": [],
   "source": [
    "data_path = DATA_PATH_CRYPTO\n",
    "\n",
    "pair = 'USDT'\n",
    "#pair = 'BTC'\n",
    "\n",
    "main_assets = [ 'BNB', 'THETA', 'RUNE', 'TFUEL', 'LINK', 'SOL', 'MATIC']\n",
    "main_assets = [ 'BNB', 'AUDIO', 'RUNE', 'CTSI',  'TVK', 'POA', 'LUNA', 'TLM']\n",
    "#index_assets = pd.read_csv('index_assets.csv')['asset'].tolist()\n",
    "#index_low_assets = pd.read_csv('index_low_assets.csv')['asset'].tolist()\n",
    "assets = ['ADA', 'BNB', 'SOL', 'FTT', 'TRX', 'ZIL', 'NEON', 'AVAX', 'WLD', 'PEPE', 'NEAR', 'ETH', 'BONK', 'WAVES',\n",
    "              'FTM', 'MATIC', 'INJ', 'JUP', 'THETA', 'GALA',  'RUNE', 'RAIN', 'LUNA']\n",
    "\n",
    "#assets = index_assets + index_low_assets\n",
    "markets = [m + '-' + pair for m in assets]\n",
    "if pair  == 'USDT':\n",
    "    markets = ['BTC-USDT'] + markets"
   ]
  },
  {
   "cell_type": "code",
   "execution_count": 37,
   "id": "be7f1fa4-d740-4a07-9932-511b8de03010",
   "metadata": {
    "tags": []
   },
   "outputs": [
    {
     "name": "stdout",
     "output_type": "stream",
     "text": [
      "1680307200000 2023-04-01 04:00:00\n",
      "BTC-USDT\n",
      "4h\n",
      "2024-03-18 08:00:00\n",
      "ADA-USDT\n",
      "4h\n",
      "2024-03-18 08:00:00\n",
      "BNB-USDT\n",
      "4h\n",
      "2024-03-18 08:00:00\n",
      "SOL-USDT\n",
      "4h\n",
      "2024-03-18 08:00:00\n",
      "FTT-USDT\n",
      "4h\n",
      "2024-03-18 08:00:00\n",
      "TRX-USDT\n",
      "4h\n",
      "2024-03-18 08:00:00\n",
      "ZIL-USDT\n",
      "4h\n",
      "2024-03-18 08:00:00\n",
      "NEON-USDT\n",
      "4h\n",
      "2024-03-18 08:00:00\n",
      "AVAX-USDT\n",
      "4h\n",
      "2024-03-18 08:00:00\n",
      "WLD-USDT\n",
      "4h\n",
      "2024-03-18 08:00:00\n",
      "PEPE-USDT\n",
      "4h\n",
      "2024-03-18 08:00:00\n",
      "NEAR-USDT\n",
      "4h\n",
      "2024-03-18 08:00:00\n",
      "ETH-USDT\n",
      "4h\n",
      "2024-03-18 08:00:00\n",
      "BONK-USDT\n",
      "4h\n",
      "2024-03-18 08:00:00\n",
      "WAVES-USDT\n",
      "4h\n",
      "2024-03-18 08:00:00\n",
      "FTM-USDT\n",
      "4h\n",
      "2024-03-18 08:00:00\n",
      "MATIC-USDT\n",
      "4h\n",
      "2024-03-18 08:00:00\n",
      "INJ-USDT\n",
      "4h\n",
      "2024-03-18 08:00:00\n",
      "JUP-USDT\n",
      "4h\n",
      "Ошибка чтения 1  из  10\n",
      "Ошибка чтения 2  из  10\n",
      "Ошибка чтения 3  из  10\n",
      "Ошибка чтения 4  из  10\n",
      "Ошибка чтения 5  из  10\n",
      "Ошибка чтения 6  из  10\n",
      "Ошибка чтения 7  из  10\n",
      "Ошибка чтения 8  из  10\n",
      "Ошибка чтения 9  из  10\n",
      "Нет данных\n",
      "THETA-USDT\n",
      "4h\n",
      "2024-03-18 08:00:00\n",
      "GALA-USDT\n",
      "4h\n",
      "2024-03-18 08:00:00\n",
      "RUNE-USDT\n",
      "4h\n",
      "2024-03-18 08:00:00\n",
      "RAIN-USDT\n",
      "4h\n",
      "2024-03-18 08:00:00\n",
      "LUNA-USDT\n",
      "4h\n",
      "2024-03-18 08:00:00\n",
      "Done\n",
      "Time taken = 0.004  hours\n"
     ]
    }
   ],
   "source": [
    "exchange = ccxt.bybit()\n",
    "start_timestamp = exchange.parse8601('2023-04-01 00:00:00')\n",
    "timeframes = {'4h':240}\n",
    "\n",
    "data_path = DATA_PATH_CRYPTO + '/' + pair\n",
    "load_data_from_exchange(exchange, markets, timeframes, start_timestamp, data_path, 10)"
   ]
  },
  {
   "cell_type": "code",
   "execution_count": 38,
   "id": "cd2409ca-0f55-4515-bb49-7769c5968bd8",
   "metadata": {
    "tags": []
   },
   "outputs": [
    {
     "name": "stdout",
     "output_type": "stream",
     "text": [
      "BTC-USDT\n",
      "ADA-USDT\n",
      "BNB-USDT\n",
      "SOL-USDT\n",
      "FTT-USDT\n",
      "TRX-USDT\n",
      "ZIL-USDT\n",
      "NEON-USDT\n",
      "AVAX-USDT\n",
      "WLD-USDT\n",
      "PEPE-USDT\n",
      "NEAR-USDT\n",
      "ETH-USDT\n",
      "BONK-USDT\n",
      "WAVES-USDT\n",
      "FTM-USDT\n",
      "MATIC-USDT\n",
      "INJ-USDT\n",
      "JUP-USDT\n",
      "JUP-USDT Нет данных\n",
      "THETA-USDT\n",
      "GALA-USDT\n",
      "RUNE-USDT\n",
      "RAIN-USDT\n",
      "LUNA-USDT\n",
      "2023-10-01 04:00:00\n",
      "2024-03-18 08:00:00\n"
     ]
    }
   ],
   "source": [
    "df_all =  load_data_for_portfolio(markets, '4h')   \n",
    "print(datetime.fromtimestamp(df_all.index[0]/1000))\n",
    "print(datetime.fromtimestamp(df_all.index[-1]/1000))"
   ]
  },
  {
   "cell_type": "code",
   "execution_count": null,
   "id": "261ee548-7475-4670-aaf0-a57634e914b9",
   "metadata": {
    "tags": []
   },
   "outputs": [],
   "source": []
  },
  {
   "cell_type": "code",
   "execution_count": 39,
   "id": "ea7b683c-f24d-41b8-8717-9b0e14862357",
   "metadata": {
    "tags": []
   },
   "outputs": [
    {
     "name": "stdout",
     "output_type": "stream",
     "text": [
      "OrderedDict([('BTC-USDT', 0.0), ('ADA-USDT', 0.0), ('BNB-USDT', 0.0), ('SOL-USDT', 0.2710700702184537), ('FTT-USDT', 0.0), ('TRX-USDT', 0.0), ('ZIL-USDT', 0.0), ('NEON-USDT', 0.0), ('AVAX-USDT', 0.0), ('WLD-USDT', 0.0), ('PEPE-USDT', 0.0), ('NEAR-USDT', 0.3242382962375062), ('ETH-USDT', 0.0), ('BONK-USDT', 0.0), ('WAVES-USDT', 0.0), ('FTM-USDT', 0.0), ('MATIC-USDT', 0.0), ('INJ-USDT', 0.0), ('THETA-USDT', 0.0), ('GALA-USDT', 0.0), ('RUNE-USDT', 0.0), ('RAIN-USDT', 0.40469163354404), ('LUNA-USDT', 0.0)])\n",
      "Expected annual return: 1102.0%\n",
      "Annual volatility: 45.8%\n",
      "Sharpe Ratio: 24.04\n"
     ]
    }
   ],
   "source": [
    "dfp = df_all\n",
    "ef = calc_frontier(dfp, \"ledoit_wolf\",  \"ema_historical_return\", span = 90)\n",
    "dfw = calc_weights(ef, 'max_sharpe', 0, verbose = True)    "
   ]
  },
  {
   "cell_type": "code",
   "execution_count": 19,
   "id": "2ab080bb-a207-4dab-b0aa-1d9c0476a045",
   "metadata": {
    "tags": []
   },
   "outputs": [
    {
     "data": {
      "text/plain": [
       "{'W': {'BNB-USDT': 0.5702400000000001,\n",
       "  'SOL-USDT': 0.19580000000000003,\n",
       "  'PEPE-USDT': 0.017860000000000004,\n",
       "  'FTM-USDT': 0.21610000000000001}}"
      ]
     },
     "execution_count": 19,
     "metadata": {},
     "output_type": "execute_result"
    }
   ],
   "source": [
    "dfw.to_dict()"
   ]
  },
  {
   "cell_type": "markdown",
   "id": "2de45e7c-11ab-473a-a212-36e2ae6d518f",
   "metadata": {
    "tags": []
   },
   "source": [
    "### Rebalancing"
   ]
  },
  {
   "cell_type": "code",
   "execution_count": 20,
   "id": "4b18f2a1-ea93-4397-9c57-2e9d129b2267",
   "metadata": {
    "tags": []
   },
   "outputs": [
    {
     "data": {
      "text/plain": [
       "<diskcache.core.Cache at 0x22d99a1a650>"
      ]
     },
     "execution_count": 20,
     "metadata": {},
     "output_type": "execute_result"
    }
   ],
   "source": [
    "import pybroker as pyb\n",
    "from datetime import datetime\n",
    "from pybroker import ExecContext, Strategy, StrategyConfig, FeeMode\n",
    "\n",
    "pyb.enable_data_source_cache('rebalancing')"
   ]
  },
  {
   "cell_type": "code",
   "execution_count": null,
   "id": "cfde1f86-814f-4bc6-b6a7-df487e91db13",
   "metadata": {
    "tags": []
   },
   "outputs": [],
   "source": []
  },
  {
   "cell_type": "code",
   "execution_count": 24,
   "id": "c397ad5b-a050-4446-8bbc-2bc33e54414f",
   "metadata": {
    "tags": []
   },
   "outputs": [],
   "source": [
    "def periods(dt: datetime) -> bool:\n",
    "    x = pyb.param('count_periods') \n",
    "    if x == 4:\n",
    "        pyb.param('count_periods', 0)\n",
    "        return True\n",
    "    else: \n",
    "        x += 1\n",
    "        pyb.param('count_periods', x) \n",
    "    return False\n",
    "\n",
    "def start_of_week(dt: datetime) -> bool:\n",
    "    if dt.weekday() == 0:\n",
    "        return True\n",
    "    return False\n",
    "\n",
    "def set_target_shares(\n",
    "    ctxs: dict[str, ExecContext],\n",
    "    targets: dict[str, float]\n",
    "):\n",
    "    for symbol, target in targets.items():\n",
    "        ctx = ctxs[symbol]\n",
    "        target_shares = ctx.calc_target_shares(target)\n",
    "        pos = ctx.long_pos()\n",
    "        if pos is None:\n",
    "            ctx.buy_shares = target_shares\n",
    "        elif pos.shares < target_shares:\n",
    "            ctx.buy_shares = target_shares - pos.shares\n",
    "        elif pos.shares > target_shares:\n",
    "            ctx.sell_shares = pos.shares - target_shares "
   ]
  },
  {
   "cell_type": "code",
   "execution_count": 25,
   "id": "ee41c931-49a8-4d22-928f-db4dde18b63b",
   "metadata": {
    "tags": []
   },
   "outputs": [],
   "source": [
    "import riskfolio as rp\n",
    "\n",
    "pyb.param('lookback', 90)  # Use past year of returns.\n",
    "\n",
    "def calculate_returns(ctxs: dict[str, ExecContext], lookback: int):\n",
    "    prices = {}\n",
    "    for ctx in ctxs.values():\n",
    "        prices[ctx.symbol] = ctx.close[-lookback:]\n",
    "    df = pd.DataFrame(prices)\n",
    "    return df.pct_change().dropna()\n",
    "\n",
    "def optimization(ctxs: dict[str, ExecContext]):\n",
    "    lookback = pyb.param('lookback')\n",
    "    first_ctx = tuple(ctxs.values())[0]\n",
    "    if start_of_week(first_ctx.dt):\n",
    "        Y = calculate_returns(ctxs, lookback)\n",
    "        port = rp.Portfolio(returns=Y)\n",
    "        port.assets_stats(method_mu='hist', method_cov='hist', d=0.94)\n",
    "        w = port.optimization(\n",
    "            model='Classic',\n",
    "            rm='CVaR',\n",
    "            obj='MinRisk',\n",
    "            rf=0,      # Risk free rate.\n",
    "            l=0,       # Risk aversion factor.\n",
    "            hist=True  # Use historical scenarios.\n",
    "        )\n",
    "        targets = {\n",
    "            symbol: w.T[symbol].values[0]\n",
    "            for symbol in ctxs.keys()\n",
    "        }\n",
    "        set_target_shares(ctxs, targets)"
   ]
  },
  {
   "cell_type": "code",
   "execution_count": 26,
   "id": "2c4f85e6-ff2d-4eae-bcb3-70ea4e5e3bcc",
   "metadata": {
    "tags": []
   },
   "outputs": [],
   "source": [
    "\n",
    "pyb.param('lookback', 90)  # Use past year of returns.\n",
    "\n",
    "def to_dfp(ctxs: dict[str, ExecContext], lookback: int):\n",
    "    prices = {}\n",
    "    for ctx in ctxs.values():\n",
    "        prices[ctx.symbol] = ctx.close[-lookback:]\n",
    "    df = pd.DataFrame(prices)\n",
    "    return df\n",
    "\n",
    "def optimization(ctxs: dict[str, ExecContext]):\n",
    "    lookback = pyb.param('lookback')\n",
    "    first_ctx = tuple(ctxs.values())[0]\n",
    "    if start_of_week(first_ctx.dt):\n",
    "        dfp = to_dfp(ctxs, lookback) \n",
    "        ef = calc_frontier(dfp, \"ledoit_wolf\",  \"ema_historical_return\", span = 90)\n",
    "        dfw = calc_weights(ef, 'max_sharpe', 0, verbose = True) \n",
    "        targets = dfw.to_dict()[\"W\"]\n",
    "        print(targets)\n",
    "        set_target_shares(ctxs, targets)"
   ]
  },
  {
   "cell_type": "code",
   "execution_count": null,
   "id": "e1ab3830-f8ed-4c79-a0a8-00a68030a4e6",
   "metadata": {
    "tags": []
   },
   "outputs": [],
   "source": []
  },
  {
   "cell_type": "code",
   "execution_count": 27,
   "id": "91fbfe81-ff0a-4c5b-8827-3d2ebba16bb8",
   "metadata": {
    "tags": []
   },
   "outputs": [],
   "source": [
    "fee = FeeMode('order_percent')\n",
    "config = StrategyConfig(fee_mode = fee, fee_amount = 0.05)"
   ]
  },
  {
   "cell_type": "code",
   "execution_count": 29,
   "id": "f87f7013-060f-4090-bd49-71d77038ee2d",
   "metadata": {
    "tags": []
   },
   "outputs": [
    {
     "ename": "ValueError",
     "evalue": "DataFrame is missing required columns: ['symbol', 'date', 'open', 'high', 'low', 'close']",
     "output_type": "error",
     "traceback": [
      "\u001b[1;31m---------------------------------------------------------------------------\u001b[0m",
      "\u001b[1;31mValueError\u001b[0m                                Traceback (most recent call last)",
      "Cell \u001b[1;32mIn[29], line 1\u001b[0m\n\u001b[1;32m----> 1\u001b[0m strategy \u001b[38;5;241m=\u001b[39m \u001b[43mStrategy\u001b[49m\u001b[43m(\u001b[49m\u001b[43mdfp\u001b[49m\u001b[43m,\u001b[49m\u001b[43m \u001b[49m\u001b[43mstart_date\u001b[49m\u001b[38;5;241;43m=\u001b[39;49m\u001b[38;5;124;43m'\u001b[39;49m\u001b[38;5;124;43m1/1/2023\u001b[39;49m\u001b[38;5;124;43m'\u001b[39;49m\u001b[43m,\u001b[49m\u001b[43m \u001b[49m\u001b[43mend_date\u001b[49m\u001b[38;5;241;43m=\u001b[39;49m\u001b[38;5;124;43m'\u001b[39;49m\u001b[38;5;124;43m7/3/2024\u001b[39;49m\u001b[38;5;124;43m'\u001b[39;49m\u001b[43m,\u001b[49m\u001b[43m \u001b[49m\u001b[43mconfig\u001b[49m\u001b[43m \u001b[49m\u001b[38;5;241;43m=\u001b[39;49m\u001b[43m \u001b[49m\u001b[43mconfig\u001b[49m\u001b[43m)\u001b[49m\n\u001b[0;32m      3\u001b[0m assets \u001b[38;5;241m=\u001b[39m [\u001b[38;5;124m'\u001b[39m\u001b[38;5;124mDSKY\u001b[39m\u001b[38;5;124m'\u001b[39m, \u001b[38;5;124m'\u001b[39m\u001b[38;5;124mCHMF\u001b[39m\u001b[38;5;124m'\u001b[39m, \u001b[38;5;124m'\u001b[39m\u001b[38;5;124mBANEP\u001b[39m\u001b[38;5;124m'\u001b[39m, \u001b[38;5;124m'\u001b[39m\u001b[38;5;124mSBER\u001b[39m\u001b[38;5;124m'\u001b[39m]\n\u001b[0;32m      4\u001b[0m assets \u001b[38;5;241m=\u001b[39m dfp\u001b[38;5;241m.\u001b[39mcolumns\u001b[38;5;241m.\u001b[39mvalues\n",
      "File \u001b[1;32mD:\\Soft\\Anaconda\\envs\\t\\Lib\\site-packages\\pybroker\\strategy.py:823\u001b[0m, in \u001b[0;36mStrategy.__init__\u001b[1;34m(self, data_source, start_date, end_date, config)\u001b[0m\n\u001b[0;32m    816\u001b[0m \u001b[38;5;28;01mdef\u001b[39;00m \u001b[38;5;21m__init__\u001b[39m(\n\u001b[0;32m    817\u001b[0m     \u001b[38;5;28mself\u001b[39m,\n\u001b[0;32m    818\u001b[0m     data_source: Union[DataSource, pd\u001b[38;5;241m.\u001b[39mDataFrame],\n\u001b[1;32m   (...)\u001b[0m\n\u001b[0;32m    821\u001b[0m     config: Optional[StrategyConfig] \u001b[38;5;241m=\u001b[39m \u001b[38;5;28;01mNone\u001b[39;00m,\n\u001b[0;32m    822\u001b[0m ):\n\u001b[1;32m--> 823\u001b[0m     \u001b[38;5;28;43mself\u001b[39;49m\u001b[38;5;241;43m.\u001b[39;49m\u001b[43m_verify_data_source\u001b[49m\u001b[43m(\u001b[49m\u001b[43mdata_source\u001b[49m\u001b[43m)\u001b[49m\n\u001b[0;32m    824\u001b[0m     \u001b[38;5;28mself\u001b[39m\u001b[38;5;241m.\u001b[39m_data_source \u001b[38;5;241m=\u001b[39m data_source\n\u001b[0;32m    825\u001b[0m     \u001b[38;5;28mself\u001b[39m\u001b[38;5;241m.\u001b[39m_start_date \u001b[38;5;241m=\u001b[39m to_datetime(start_date)\n",
      "File \u001b[1;32mD:\\Soft\\Anaconda\\envs\\t\\Lib\\site-packages\\pybroker\\strategy.py:873\u001b[0m, in \u001b[0;36mStrategy._verify_data_source\u001b[1;34m(self, data_source)\u001b[0m\n\u001b[0;32m    869\u001b[0m \u001b[38;5;28;01mdef\u001b[39;00m \u001b[38;5;21m_verify_data_source\u001b[39m(\n\u001b[0;32m    870\u001b[0m     \u001b[38;5;28mself\u001b[39m, data_source: Union[DataSource, pd\u001b[38;5;241m.\u001b[39mDataFrame]\n\u001b[0;32m    871\u001b[0m ):\n\u001b[0;32m    872\u001b[0m     \u001b[38;5;28;01mif\u001b[39;00m \u001b[38;5;28misinstance\u001b[39m(data_source, pd\u001b[38;5;241m.\u001b[39mDataFrame):\n\u001b[1;32m--> 873\u001b[0m         \u001b[43mverify_data_source_columns\u001b[49m\u001b[43m(\u001b[49m\u001b[43mdata_source\u001b[49m\u001b[43m)\u001b[49m\n\u001b[0;32m    874\u001b[0m     \u001b[38;5;28;01melif\u001b[39;00m \u001b[38;5;129;01mnot\u001b[39;00m \u001b[38;5;28misinstance\u001b[39m(data_source, DataSource):\n\u001b[0;32m    875\u001b[0m         \u001b[38;5;28;01mraise\u001b[39;00m \u001b[38;5;167;01mTypeError\u001b[39;00m(\u001b[38;5;124mf\u001b[39m\u001b[38;5;124m\"\u001b[39m\u001b[38;5;124mInvalid data_source type: \u001b[39m\u001b[38;5;132;01m{\u001b[39;00m\u001b[38;5;28mtype\u001b[39m(data_source)\u001b[38;5;132;01m}\u001b[39;00m\u001b[38;5;124m\"\u001b[39m)\n",
      "File \u001b[1;32mD:\\Soft\\Anaconda\\envs\\t\\Lib\\site-packages\\pybroker\\common.py:340\u001b[0m, in \u001b[0;36mverify_data_source_columns\u001b[1;34m(df)\u001b[0m\n\u001b[0;32m    338\u001b[0m         missing\u001b[38;5;241m.\u001b[39mappend(col\u001b[38;5;241m.\u001b[39mvalue)\n\u001b[0;32m    339\u001b[0m \u001b[38;5;28;01mif\u001b[39;00m missing:\n\u001b[1;32m--> 340\u001b[0m     \u001b[38;5;28;01mraise\u001b[39;00m \u001b[38;5;167;01mValueError\u001b[39;00m(\u001b[38;5;124mf\u001b[39m\u001b[38;5;124m\"\u001b[39m\u001b[38;5;124mDataFrame is missing required columns: \u001b[39m\u001b[38;5;132;01m{\u001b[39;00mmissing\u001b[38;5;132;01m!r}\u001b[39;00m\u001b[38;5;124m\"\u001b[39m)\n",
      "\u001b[1;31mValueError\u001b[0m: DataFrame is missing required columns: ['symbol', 'date', 'open', 'high', 'low', 'close']"
     ]
    }
   ],
   "source": [
    "strategy = Strategy(dfp, start_date='1/1/2023', end_date='7/3/2024', config = config)\n",
    "\n",
    "assets = ['DSKY', 'CHMF', 'BANEP', 'SBER']\n",
    "assets = dfp.columns.values\n",
    "drops = [\"GTRK\", \"SFIN\", \"ORUP\", \"UWGN\", \"RKKE\", \"KROT\", \"APTK\", \"VEON-RX\"]\n",
    "assets = [x for x in assets if x not in drops]\n",
    "strategy.add_execution(None, assets)\n"
   ]
  },
  {
   "cell_type": "code",
   "execution_count": null,
   "id": "b613a37c-c2af-4815-8065-d6beea9bfd7c",
   "metadata": {
    "tags": []
   },
   "outputs": [],
   "source": []
  },
  {
   "cell_type": "code",
   "execution_count": 122,
   "id": "3265a523-2ec2-4be1-84ac-e7a6edb8c6a1",
   "metadata": {
    "tags": []
   },
   "outputs": [
    {
     "name": "stdout",
     "output_type": "stream",
     "text": [
      "Backtesting: 2023-01-01 00:00:00 to 2024-07-03 00:00:00\n",
      "\n",
      "Test split: 2023-01-03 00:00:00 to 2024-03-07 00:00:00\n"
     ]
    },
    {
     "name": "stderr",
     "output_type": "stream",
     "text": [
      "\u001b[38;2;255;139;0m 30%\u001b[39m \u001b[38;2;255;139;0m(91 of 300)\u001b[39m |######                 | Elapsed Time: 0:00:00 ETA:   0:00:00"
     ]
    },
    {
     "name": "stdout",
     "output_type": "stream",
     "text": [
      "Expected annual return: 172124.0%\n",
      "Annual volatility: 81.4%\n",
      "Sharpe Ratio: 2113.25\n",
      "{'VSMO': 0.008070000000000003, 'SVAV': 0.8623500000000001, 'LNZL': 0.028210000000000002, 'NKHP': 0.011690000000000002, 'LSNG': 0.044160000000000005, 'LNZLP': 0.009250000000000001, 'AMEZ': 0.036270000000000004}\n",
      "Expected annual return: 19499.5%\n",
      "Annual volatility: 36.8%\n",
      "Sharpe Ratio: 530.33\n",
      "{'ENPG': 0.003414069187773805, 'NKNCP': 0.002155194118535676, 'IRKT': 0.0021149101163200562, 'MRKV': 0.002124981116873961, 'VSMO': 0.003816909209930006, 'UNAC': 0.002437182134045017, 'TTLK': 0.0011581650636990784, 'CNTL': 0.0036154891988519054, 'MGNT': 0.0018429931013646205, 'SVAV': 0.23703106903670879, 'SPBE': 0.0025278211390301624, 'ETLN': 0.0016315020897326147, 'KZOSP': 0.0018329221008107153, 'KMAZ': 0.0018127800997029052, 'FIXP': 0.0016315020897326147, 'PHOR': 0.001359585074777179, 'HHRU': 0.001792638098595095, 'LNZL': 0.002920590160632458, 'ELFV': 0.003061584168387129, 'SELG': 0.0015207210836396595, 'AGRO': 0.0022357621229669167, 'TATNP': 0.0016415730902865197, 'PRFN': 0.002749383151216073, 'MAGN': 0.0017019990936099501, 'VTBR': 0.001792638098595095, 'SMLT': 0.002437182134045017, 'BANE': 0.02494586837202276, 'AFLT': 0.002034342111888816, 'CIAN': 0.0022659751246286316, 'RUAL': 0.001460295080316229, 'SBER': 0.0012286620675764136, 'MDMG': 0.003142152172818369, 'MVID': 0.0025983181429074975, 'BANEP': 0.12513218188227, 'OKEY': 0.0029407321617402685, 'ALRS': 0.0020041291102271008, 'MRKP': 0.0012387330681303186, 'FLOT': 0.0025983181429074975, 'PMSBP': 0.0026688151467848327, 'TATN': 0.0019134901052419557, 'FIVE': 0.002155194118535676, 'MTLR': 0.002064555113550531, 'ABIO': 0.0013696560753310842, 'GAZP': 0.002135052117427866, 'DVEC': 0.002819880155093408, 'SBERP': 0.0013394430736693688, 'RTKM': 0.0012790170703459388, 'LENT': 0.001127952062037363, 'BSPB': 0.0012286620675764136, 'TGKN': 0.34636185104990175, 'LSNG': 0.032801248804068685, 'MRKC': 0.0021954781207512964, 'POSI': 0.0017523540963794752, 'KAZT': 0.0012387330681303186, 'PMSB': 0.002437182134045017, 'SIBN': 0.0015106500830857545, 'YAKG': 0.0015106500830857545, 'TGKB': 0.002064555113550531, 'KLSB': 0.0030011581650636987, 'CHMK': 0.0014502240797623243, 'RNFT': 0.0011883780653607935, 'MSRS': 0.0014905080819779444, 'MRKZ': 0.0019638451080114805, 'QIWI': 0.0015106500830857545, 'IRAO': 0.0015005790825318493, 'HYDR': 0.0014502240797623243, 'NLMK': 0.0020041291102271008, 'BELU': 0.002709099149000453, 'GCHE': 0.001691928093056045, 'LNZLP': 0.003796767208822196, 'SNGSP': 0.002769525152323883, 'YNDX': 0.0016415730902865197, 'FESH': 0.0013394430736693688, 'RASP': 0.0024069691323833024, 'NVTK': 0.0026788861473387377, 'UNKL': 0.0025580341406918777, 'NKNC': 0.001359585074777179, 'AQUA': 0.0012588750692381287, 'VRSB': 0.0016012890880708996, 'SGZH': 0.0028702351578629333, 'GMKN': 0.0012185910670225084, 'MOEX': 0.0019336321063497656, 'LIFE': 0.002809809154539503, 'UPRO': 0.002648673145677023, 'MRKS': 0.0025681051412457826, 'MSNG': 0.001319301072561559, 'AFKS': 0.002316330127398157, 'OZON': 0.002749383151216073, 'LKOH': 0.001349514074223274, 'OGKB': 0.0013696560753310842, 'GLTR': 0.003152223173372274, 'NMTP': 0.002447253134598922, 'TGKA': 0.002709099149000453, 'SNGS': 0.002437182134045017, 'CBOM': 0.0013092300720076537, 'AMEZ': 0.025378921395840675, 'TGKBP': 0.0019437031069036708, 'ABRD': 0.002447253134598922, 'CNTLP': 0.002709099149000453, 'PIKK': 0.0015207210836396595, 'ROSN': 0.0018127800997029052, 'MTLRP': 0.0021954781207512964, 'TRMK': 0.0029608741628480784, 'MRKU': 0.0010373130570522182, 'MRKY': 0.002104839115766151, 'KRKNP': 0.0015509340853013744, 'CHMF': 0.0018329221008107153}\n"
     ]
    },
    {
     "name": "stderr",
     "output_type": "stream",
     "text": [
      "\u001b[38;2;255;149;0m 33%\u001b[39m \u001b[38;2;255;149;0m(101 of 300)\u001b[39m |#######               | Elapsed Time: 0:00:00 ETA:   0:00:00"
     ]
    },
    {
     "name": "stdout",
     "output_type": "stream",
     "text": [
      "Expected annual return: 7957.9%\n",
      "Annual volatility: 34.7%\n",
      "Sharpe Ratio: 229.11\n",
      "{'VSMO': 0.002248277021348126, 'CNTL': 0.0011136325432845855, 'SVAV': 0.20389981509497396, 'KZOSP': 0.001281728021516221, 'BANE': 0.11219322575222726, 'SBER': 0.02008740964868045, 'BANEP': 0.1710686670028576, 'ABIO': 0.001607413010590015, 'SBERP': 0.008919566313666161, 'TGKN': 0.372005799293999, 'LSNG': 0.03321986888552698, 'KLSB': 0.003340897629853757, 'RNFT': 0.0012502101193477895, 'NSVZ': 0.00132375189107413, 'LNZLP': 0.005221465792570179, 'FESH': 0.03164397377710539, 'LIFE': 0.0012081862497898806, 'AMEZ': 0.027031854093124894, 'CNTLP': 0.0013342578584636074}\n"
     ]
    },
    {
     "name": "stderr",
     "output_type": "stream",
     "text": [
      "\u001b[38;2;255;158;0m 37%\u001b[39m \u001b[38;2;255;158;0m(111 of 300)\u001b[39m |########              | Elapsed Time: 0:00:00 ETA:   0:00:01"
     ]
    },
    {
     "name": "stdout",
     "output_type": "stream",
     "text": [
      "Expected annual return: 8294.1%\n",
      "Annual volatility: 33.4%\n",
      "Sharpe Ratio: 247.98\n",
      "{'CNTL': 0.0011015642211940958, 'SVAV': 0.0705945299468102, 'PRFN': 0.0010700909577314073, 'BANE': 0.14051763027308303, 'BANEP': 0.23151732603153624, 'FLOT': 0.016334623737135307, 'MSTT': 0.006598894239343678, 'MTLR': 0.0010910731333731995, 'ABIO': 0.0016995562269851762, 'TGKN': 0.42378749252509995, 'LSNG': 0.031242459530628736, 'TGKB': 0.0012169661872239535, 'KLSB': 0.009368541424060262, 'NSVZ': 0.0013533503288956034, 'FESH': 0.02270271404441927, 'VRSB': 0.010470105645254357, 'LIFE': 0.001258930538507538, 'AMEZ': 0.023961644582926805, 'TGKBP': 0.0015212077340299418, 'CNTLP': 0.0014582612071045648, 'MTLRP': 0.0011330374846567843}\n",
      "Expected annual return: 3444.6%\n",
      "Annual volatility: 28.4%\n",
      "Sharpe Ratio: 121.29\n",
      "{'VSMO': 0.007339926600733992, 'SVAV': 0.1771882281177188, 'BANE': 0.08113918860811392, 'NKHP': 0.007869921300786991, 'BANEP': 0.15838841611583884, 'TGKN': 0.17575824241757582, 'KLSB': 0.01695983040169598, 'LNZLP': 0.006499935000649993, 'FESH': 0.023819761802381975, 'LSNGP': 0.08476915230847691, 'AMEZ': 0.023139768602313975, 'TRMK': 0.23712762872371276}\n"
     ]
    },
    {
     "name": "stderr",
     "output_type": "stream",
     "text": [
      "\u001b[38;2;255;167;0m 40%\u001b[39m \u001b[38;2;255;167;0m(121 of 300)\u001b[39m |########              | Elapsed Time: 0:00:00 ETA:   0:00:01"
     ]
    },
    {
     "name": "stdout",
     "output_type": "stream",
     "text": [
      "Expected annual return: 2915.3%\n",
      "Annual volatility: 28.5%\n",
      "Sharpe Ratio: 102.22\n",
      "{'SVAV': 0.12360123601236013, 'PHOR': 0.006920069200692007, 'BANE': 0.15939159391593918, 'NKHP': 0.25700257002570026, 'BANEP': 0.12788127881278813, 'TGKN': 0.0937909379093791, 'LNZLP': 0.033460334603346034, 'FESH': 0.005730057300573006, 'VRSB': 0.01660016600166002, 'TRMK': 0.17562175621756218}\n",
      "Expected annual return: 3158.4%\n",
      "Annual volatility: 28.0%\n",
      "Sharpe Ratio: 112.53\n",
      "{'SVAV': 0.10950890491095087, 'PHOR': 0.04925950740492595, 'BANE': 0.10992890071099289, 'NKHP': 0.2863471365286347, 'SBER': 0.00936990630093699, 'BANEP': 0.1044889551104489, 'SBERP': 0.025629743702562973, 'TGKN': 0.11561884381156187, 'LSNG': 0.023079769202307976, 'RENI': 0.05872941270587294, 'QIWI': 0.012949870501294985, 'NLMK': 0.003919960800391996, 'TRMK': 0.09116908830911691}\n"
     ]
    },
    {
     "name": "stderr",
     "output_type": "stream",
     "text": [
      "\u001b[38;2;255;179;0m 43%\u001b[39m \u001b[38;2;255;179;0m(131 of 300)\u001b[39m |#########             | Elapsed Time: 0:00:01 ETA:   0:00:01"
     ]
    },
    {
     "name": "stdout",
     "output_type": "stream",
     "text": [
      "Expected annual return: 1880.9%\n",
      "Annual volatility: 27.7%\n",
      "Sharpe Ratio: 67.91\n",
      "{'SVAV': 0.11489577008702692, 'PHOR': 0.04273426431896377, 'BANE': 0.06416717263711799, 'NKHP': 0.25258044930176077, 'SBER': 0.008773527625986642, 'SBERP': 0.03676381299332119, 'TGKN': 0.1421169803683465, 'LSNG': 0.03539769277474195, 'RENI': 0.12175672940700263, 'NLMK': 0.06572556162720097, 'FESH': 0.014693381906496661, 'LSNGP': 0.00979558793766444, 'TRMK': 0.06641368144100385, 'MRKU': 0.02418538757336572}\n",
      "Expected annual return: 32496.7%\n",
      "Annual volatility: 51.5%\n",
      "Sharpe Ratio: 630.81\n",
      "{'DSKY': 0.003969693305928344, 'ENPG': 0.002690122113408294, 'NKNCP': 0.004443235400797969, 'IRKT': 0.003425623665014307, 'VSMO': 0.0030931366622335065, 'UNAC': 0.002035223471567324, 'TTLK': 0.004302180308709145, 'MGNT': 0.004009994760810865, 'SVAV': 0.02817071696288236, 'SPBE': 0.0019243944706403902, 'RTKMP': 0.0020049973804054325, 'KZOSP': 0.002942006206424052, 'KMAZ': 0.0012594204650787895, 'KZOS': 0.002599443839922621, 'FIXP': 0.002589368476201991, 'PHOR': 0.00827187361463749, 'LNZL': 0.0033349453915286344, 'MGTSP': 0.001249345101358159, 'ELFV': 0.001057913190666183, 'SELG': 0.002901704751541531, 'AGRO': 0.00254906702131947, 'TATNP': 0.0017430379236690445, 'PRFN': 0.0026699713859670337, 'MAGN': 0.0022971829283037117, 'VTBR': 0.0022266553822593, 'SMLT': 0.0023777858380687545, 'BANE': 0.006468383508644663, 'AFLT': 0.0027908757506145973, 'CIAN': 0.0012694958287994198, 'RUAL': 0.0038487889412807804, 'NKHP': 0.503435699028735, 'SBER': 0.018981985249667512, 'MVID': 0.0021662031999355176, 'BANEP': 0.029611493974932495, 'OKEY': 0.0024785394752750577, 'ALRS': 0.0015516060129770685, 'PMSBP': 0.005370168863095957, 'TATN': 0.0014508523757707655, 'FIVE': 0.0022971829283037117, 'MSTT': 0.0012795711925200502, 'AKRN': 0.002045298835287954, 'GAZP': 0.0034457743924555676, 'DVEC': 0.0018337161971547175, 'SBERP': 0.022558739370491274, 'RTKM': 0.0030125337524684642, 'LENT': 0.0031435134808366584, 'MTSS': 0.0013299480111232016, 'TGKN': 0.10042115020352235, 'LSNG': 0.0015516060129770685, 'MRKC': 0.0014105509208882441, 'POSI': 0.0012392697376375288, 'KAZT': 0.002690122113408294, 'PMSB': 0.004705194857534357, 'SIBN': 0.004070446943134648, 'YAKG': 0.0019243944706403902, 'TGKB': 0.0037178092129125863, 'KLSB': 0.002357635110627494, 'CHMK': 0.0015919074678595899, 'RNFT': 0.0019949220166848025, 'MSRS': 0.0035666787571031317, 'MRKZ': 0.0021561278362148876, 'QIWI': 0.0012896465562406804, 'IRAO': 0.0016523596501833717, 'HYDR': 0.0021359771087736267, 'NLMK': 0.0018941683794784993, 'GCHE': 0.002972232297585943, 'LNZLP': 0.0013500987385644623, 'SNGSP': 0.001057913190666183, 'YNDX': 0.0015919074678595899, 'FESH': 0.001178817555313747, 'RASP': 0.0023173336557449726, 'NVTK': 0.0015919074678595899, 'UNKL': 0.00288155402410027, 'NKNC': 0.0038790150324426714, 'AQUA': 0.0022770322008624513, 'VRSB': 0.003435699028734937, 'SGZH': 0.004282029581267884, 'LSNGP': 0.05293596098819168, 'GMKN': 0.0032442671180429616, 'MOEX': 0.0022165800185386694, 'UPRO': 0.002266956837141821, 'MRKS': 0.0013198726474025712, 'MSNG': 0.0037480353040744777, 'AFKS': 0.0020251481078466934, 'PLZL': 0.0014105509208882441, 'OZON': 0.0014508523757707655, 'LKOH': 0.0030125337524684642, 'OGKB': 0.003486075847338089, 'GLTR': 0.0035566033933825012, 'KAZTP': 0.002921855478982791, 'NMTP': 0.0014609277394913955, 'TGKA': 0.0020755249264498453, 'SNGS': 0.00350622657477935, 'CBOM': 0.001662435013904002, 'TGKBP': 0.0028009511143352274, 'CNTLP': 0.0014206262846088744, 'PIKK': 0.0024886148389956877, 'ROSN': 0.0022971829283037117, 'TRMK': 0.002599443839922621, 'MRKY': 0.0022770322008624513, 'KRKNP': 0.002206504654818039, 'CHMF': 0.00191431910691976}\n",
      "Expected annual return: 39365.1%\n",
      "Annual volatility: 43.0%\n",
      "Sharpe Ratio: 914.37\n"
     ]
    },
    {
     "name": "stderr",
     "output_type": "stream",
     "text": [
      "\u001b[38;2;255;198;0m 47%\u001b[39m \u001b[38;2;255;198;0m(141 of 300)\u001b[39m |##########            | Elapsed Time: 0:00:01 ETA:   0:00:01"
     ]
    },
    {
     "name": "stdout",
     "output_type": "stream",
     "text": [
      "{'ENPG': 0.0060099163619972956, 'NKNCP': 0.0036760655080883458, 'IRKT': 0.0031652226173185757, 'MRKV': 0.0012520659087494365, 'VSMO': 0.005499073471227525, 'UNAC': 0.002383933490258927, 'TTLK': 0.001362247708719387, 'CNTL': 0.004988230580457755, 'MGNT': 0.002193619472129013, 'SVAV': 0.002393950017528923, 'SPBE': 0.004918114889567787, 'ETLN': 0.003035007762808634, 'KZOSP': 0.004727800871437872, 'KMAZ': 0.0024440326538789, 'KZOS': 0.002163569890319026, 'FIXP': 0.003896429108028246, 'HHRU': 0.003014974708268643, 'MGTSP': 0.006600891470927029, 'ELFV': 0.0030049581809986478, 'AGRO': 0.002544197926578855, 'TATNP': 0.0030850903991586115, 'BLNG': 0.002233685581208995, 'PRFN': 0.0018630740722191616, 'MAGN': 0.002423999599338909, 'VTBR': 0.007101717834426803, 'SMLT': 0.003115139980968598, 'BANE': 0.07134772374417789, 'AFLT': 0.005539139580307507, 'CIAN': 0.0034557019081484447, 'RUAL': 0.002864726799218711, 'NKHP': 0.20144237992687936, 'SBER': 0.002544197926578855, 'MDMG': 0.0050683627986177196, 'MVID': 0.006070015525617268, 'BANEP': 0.05439975960334551, 'OKEY': 0.004607602544197926, 'ALRS': 0.002303801272098963, 'FLOT': 0.002854710271948715, 'PMSBP': 0.001342214654179396, 'TATN': 0.00346571843541844, 'FIVE': 0.0018730905994891569, 'MSTT': 0.0016627435268192516, 'MTLR': 0.007442279761606651, 'ABIO': 0.005699404016627435, 'GAZP': 0.003625982871738368, 'DVEC': 0.003425652326338458, 'SBERP': 0.002393950017528923, 'RTKM': 0.003505784544498422, 'LENT': 0.0019231732358391345, 'BSPB': 0.001632693945009265, 'MTSS': 0.0018831071267591524, 'TGKN': 0.3095006761155907, 'LSNG': 0.034416787699704514, 'MRKC': 0.0017228426904392245, 'KAZT': 0.001652726999549256, 'PMSB': 0.001833024490409175, 'SIBN': 0.003375569689988481, 'KLSB': 0.001342214654179396, 'CHMK': 0.0016927931086292381, 'RNFT': 0.0036359993990083637, 'MSRS': 0.0011719336905894725, 'MRKZ': 0.002033355035809085, 'QIWI': 0.003646015926278359, 'IRAO': 0.0018730905994891569, 'HYDR': 0.002864726799218711, 'NSVZ': 0.0018831071267591524, 'NLMK': 0.0016927931086292381, 'BELU': 0.0029047929082986926, 'GCHE': 0.001833024490409175, 'LNZLP': 0.00193318976310913, 'SNGSP': 0.0026042970901988278, 'YNDX': 0.0030650573446186205, 'FESH': 0.002163569890319026, 'RASP': 0.0027445284719787646, 'NVTK': 0.0037361646717083185, 'UNKL': 0.002263735163018981, 'NKNC': 0.005829618871137376, 'AQUA': 0.0014323633996093555, 'SGZH': 0.005148495016777682, 'LSNGP': 0.0012720989632894275, 'GMKN': 0.0022236690539389993, 'MOEX': 0.0013522311814493915, 'LIFE': 0.005469023889417538, 'UPRO': 0.006270346071017178, 'MRKS': 0.0013722642359893823, 'MSNG': 0.0030850903991586115, 'AFKS': 0.004988230580457755, 'PLZL': 0.002103470726699053, 'OZON': 0.003565883708118395, 'LKOH': 0.002774578053788751, 'OGKB': 0.003565883708118395, 'GLTR': 0.003095106926428607, 'KAZTP': 0.0010116692542695446, 'NMTP': 0.006851304652676916, 'TGKA': 0.002594280562928832, 'SNGS': 0.005368858616717584, 'CBOM': 0.0016427104722792605, 'AMEZ': 0.005368858616717584, 'TGKBP': 0.004567536435117944, 'ABRD': 0.0023138177993689587, 'CNTLP': 0.006200230380127209, 'PIKK': 0.0037962638353282916, 'ROSN': 0.002974908599188661, 'MTLRP': 0.00539890819852757, 'TRMK': 0.0020433715630790803, 'MRKY': 0.00264436319927881, 'KRKNP': 0.002153553363049031, 'CHMF': 0.002464065708418891}\n",
      "Expected annual return: 14515.3%\n",
      "Annual volatility: 39.3%\n",
      "Sharpe Ratio: 369.18\n",
      "{'ENPG': 0.0022899181431975963, 'NKNCP': 0.0015231582219459123, 'IRKT': 0.001388457154698995, 'VSMO': 0.0018650917003419335, 'CNTL': 0.002507512174904155, 'SVAV': 0.019614547715262668, 'SPBE': 0.0016993057714226505, 'ETLN': 0.0012537560874520774, 'KZOSP': 0.0019272614236866647, 'KZOS': 0.0011915863641073464, 'FIXP': 0.0014091803958139054, 'MGTSP': 0.002673298103823438, 'ELFV': 0.0017925603564397472, 'AGRO': 0.001108693399647705, 'BLNG': 0.0014713501191586365, 'PRFN': 0.04505232618381515, 'SMLT': 0.0012744793285669879, 'BANE': 0.06975442959278833, 'AFLT': 0.0016371360480779194, 'CIAN': 0.001284840949124443, 'RUAL': 0.0011294166407626153, 'NKHP': 0.15298932753082584, 'MDMG': 0.0016474976686353747, 'MVID': 0.0019376230442441197, 'BANEP': 0.039508859185576624, 'OKEY': 0.001554243083618278, 'MSTT': 0.002103408973163403, 'MTLR': 0.00167858253030774, 'ABIO': 0.002818360791627811, 'GAZP': 0.0012019479846648016, 'DVEC': 0.0021241322142783133, 'RTKM': 0.0012123096052222568, 'MTSS': 0.0010879701585327945, 'TGKN': 0.29388664387110147, 'LSNG': 0.013749870479743033, 'PMSB': 0.0011605015024349808, 'SIBN': 0.001336649051911719, 'YAKG': 0.017055227437571235, 'RNFT': 0.001108693399647705, 'QIWI': 0.0017718371153248368, 'HYDR': 0.001450626878043726, 'NSVZ': 0.0011812247435498912, 'BELU': 0.0018754533208993887, 'GCHE': 0.0012537560874520774, 'LNZLP': 0.0015646047041757332, 'YNDX': 0.001284840949124443, 'NVTK': 0.0013159258107968087, 'UNKL': 0.001336649051911719, 'NKNC': 0.0021552170759506785, 'SGZH': 0.0015438814630608227, 'GMKN': 0.0011294166407626153, 'MOEX': 0.0010465236763029739, 'LIFE': 0.0028079991710703556, 'UPRO': 0.001979069526473941, 'MRKS': 0.23631748005388042, 'MSNG': 0.0016889441508651953, 'AFKS': 0.0011812247435498912, 'PLZL': 0.0010361620557455186, 'OGKB': 0.0016267744275204642, 'NMTP': 0.0016993057714226505, 'TGKA': 0.0017718371153248368, 'SNGS': 0.0014817117397160917, 'AMEZ': 0.0028079991710703556, 'TGKBP': 0.002445342451559424, 'ABRD': 0.0016474976686353747, 'CNTLP': 0.002611128380478707, 'PIKK': 0.0014299036369288156, 'MTLRP': 0.0017096673919801057, 'MRKU': 0.014837840638275826}\n",
      "Expected annual return: 14065.4%\n",
      "Annual volatility: 42.1%\n",
      "Sharpe Ratio: 334.25\n",
      "{'SVAV': 0.02163021630216302, 'PRFN': 0.07763077630776308, 'NKHP': 0.2657226572265723, 'BANEP': 0.007350073500735007, 'BSPB': 0.013110131101311012, 'TGKN': 0.1290412904129041, 'FESH': 0.11643116431164312, 'VRSB': 0.11623116231162312, 'MRKS': 0.08031080310803108, 'NMTP': 0.15181151811518115, 'TRMK': 0.02073020730207302}\n"
     ]
    },
    {
     "name": "stderr",
     "output_type": "stream",
     "text": [
      "\u001b[38;2;255;235;0m 53%\u001b[39m \u001b[38;2;255;235;0m(161 of 300)\u001b[39m |###########           | Elapsed Time: 0:00:01 ETA:   0:00:01"
     ]
    },
    {
     "name": "stdout",
     "output_type": "stream",
     "text": [
      "Expected annual return: 15938.2%\n",
      "Annual volatility: 51.0%\n",
      "Sharpe Ratio: 312.53\n",
      "{'DSKY': 0.022179999999999995, 'SVAV': 0.024849999999999994, 'PRFN': 0.05013999999999998, 'BANE': 0.04649999999999999, 'NKHP': 0.13598999999999997, 'BANEP': 0.009229999999999999, 'BSPB': 0.007349999999999998, 'TGKB': 0.35314999999999996, 'KLSB': 0.20344999999999994, 'FESH': 0.03731999999999999, 'TRMK': 0.10983999999999997}\n",
      "Expected annual return: 9613.2%\n",
      "Annual volatility: 42.7%\n",
      "Sharpe Ratio: 225.09\n",
      "{'DSKY': 0.001849963000739985, 'UNAC': 0.06875862482750345, 'SVAV': 0.03323933521329573, 'PRFN': 0.02816943661126777, 'BANE': 0.011249775004499907, 'NKHP': 0.1977860442791144, 'BANEP': 0.01091978160436791, 'BSPB': 0.04323913521729565, 'RENI': 0.051098978020439584, 'TGKB': 0.18675626487470248, 'KLSB': 0.23998520029599404, 'CHMK': 0.036319273614527706, 'TRMK': 0.08839823203535929, 'MRKU': 0.002229955400891982}\n",
      "Expected annual return: 20057.4%\n",
      "Annual volatility: 41.4%\n",
      "Sharpe Ratio: 483.96\n",
      "{'ENPG': 0.0036091567144508198, 'NKNCP': 0.002301344309495326, 'VSMO': 0.0015409882601025973, 'UNAC': 0.48914211561467186, 'TTLK': 0.002402725116081024, 'CNTL': 0.002483829761349581, 'MGNT': 0.0018654068411768283, 'SVAV': 0.0012875362436383544, 'SPBE': 0.0031123907621809035, 'ETLN': 0.0022607919868610476, 'RTKMP': 0.0012064315983697966, 'KZOSP': 0.002848800665058091, 'KMAZ': 0.0020884446156653625, 'KZOS': 0.0016930594699811432, 'FIXP': 0.002666315213203836, 'LNZL': 0.001480159776151179, 'MGTSP': 0.002240515825543908, 'ELFV': 0.0014193312921997607, 'AGRO': 0.0019667876477625257, 'TATNP': 0.0010949127111255297, 'BLNG': 0.001946511486445386, 'MAGN': 0.001916097244469677, 'VTBR': 0.0016930594699811432, 'SMLT': 0.001905959163811107, 'BANE': 0.0022506539062024777, 'AFLT': 0.001946511486445386, 'CIAN': 0.0017437498732739917, 'RUAL': 0.001905959163811107, 'NKHP': 0.09157728258886026, 'SBER': 0.001155741195076948, 'MDMG': 0.0011253269531012388, 'MVID': 0.003315152375352298, 'BANEP': 0.0020681684543482227, 'OKEY': 0.002483829761349581, 'ALRS': 0.002037754212372514, 'FLOT': 0.0011658792757355176, 'TATN': 0.0012064315983697966, 'FIVE': 0.0010644984691498204, 'MSTT': 0.0014902978568097486, 'MTLR': 0.004045094182769318, 'ABIO': 0.0030921146008637645, 'GAZP': 0.001622092905371155, 'SBERP': 0.0010340842271741113, 'RTKM': 0.002128996938299641, 'LENT': 0.0016829213893225735, 'BSPB': 0.06876660110707841, 'MTSS': 0.0017437498732739917, 'TGKN': 0.003223909649425171, 'POSI': 0.001733611792615422, 'KAZT': 0.001956649567103956, 'SIBN': 0.0013483647275897726, 'YAKG': 0.0023317585514710353, 'TGKB': 0.012865224355724974, 'RNFT': 0.0011861554370526572, 'MSRS': 0.00215941118027535, 'QIWI': 0.001976925728421095, 'IRAO': 0.0015714025020783064, 'HYDR': 0.00216954926093392, 'NLMK': 0.0019262353251282467, 'BELU': 0.0013889170502240514, 'LNZLP': 0.0019667876477625257, 'SNGSP': 0.0013585028082483423, 'YNDX': 0.002493967842008151, 'RASP': 0.0016322309860297248, 'NVTK': 0.0016322309860297248, 'UNKL': 0.002210101583568199, 'NKNC': 0.003629432875767959, 'AQUA': 0.0011050507917840994, 'VRSB': 0.1149354204262049, 'SGZH': 0.0023723108741053145, 'LSNGP': 0.0016727833086640036, 'GMKN': 0.0017437498732739917, 'LIFE': 0.0036091567144508198, 'UPRO': 0.003163081165473752, 'MRKS': 0.04323891400879985, 'MSNG': 0.002706867535838115, 'AFKS': 0.002453415519373872, 'PLZL': 0.0017437498732739917, 'OZON': 0.001155741195076948, 'LKOH': 0.0011151888724426691, 'OGKB': 0.0018248545185425495, 'GLTR': 0.00108477463046696, 'KAZTP': 0.0016119548247125854, 'TGKA': 0.0020985826963239316, 'SNGS': 0.002575072487276709, 'CBOM': 0.0014396074535169001, 'AMEZ': 0.003396257020620856, 'TGKBP': 0.0012368458403455057, 'ABRD': 0.0024331393580567322, 'CNTLP': 0.002818386423082382, 'PIKK': 0.002443277438715302, 'ROSN': 0.0014497455341754698, 'MTLRP': 0.0023317585514710353, 'MRKY': 0.0010543603884912507, 'KRKNP': 0.001946511486445386, 'CHMF': 0.0016525071473468642}\n"
     ]
    },
    {
     "name": "stderr",
     "output_type": "stream",
     "text": [
      "\u001b[38;2;255;254;0m 57%\u001b[39m \u001b[38;2;255;254;0m(171 of 300)\u001b[39m |############          | Elapsed Time: 0:00:01 ETA:   0:00:01"
     ]
    },
    {
     "name": "stdout",
     "output_type": "stream",
     "text": [
      "Expected annual return: 72850.8%\n",
      "Annual volatility: 33.8%\n",
      "Sharpe Ratio: 2156.49\n",
      "{'DSKY': 0.010825399054909556, 'ENPG': 0.002799153231065585, 'NKNCP': 0.006130045247960833, 'VSMO': 0.008758640755269734, 'UNAC': 0.25760235971627227, 'TTLK': 0.0012541009099756206, 'MGNT': 0.006130045247960833, 'SPBE': 0.0026887923509877304, 'ETLN': 0.004595025734150673, 'RTKMP': 0.008638247067912073, 'KZOSP': 0.0038525979954451063, 'KMAZ': 0.002197184794277287, 'KZOS': 0.0071032275541019155, 'FIXP': 0.0044946976613526235, 'PHOR': 0.009481002879415692, 'HHRU': 0.0010133135352603014, 'LNZL': 0.008056344245683387, 'MGTSP': 0.0034312200896932975, 'ELFV': 0.0024379721689926064, 'SELG': 0.0019162661904427482, 'AGRO': 0.0022674144452359216, 'TATNP': 0.005136797327260142, 'BLNG': 0.004344205552155549, 'MAGN': 0.004976272410783263, 'VTBR': 0.0022373160233965074, 'SMLT': 0.0038024339590460813, 'BANE': 0.004986305218063067, 'AFLT': 0.00725371966329899, 'CIAN': 0.00276905480922617, 'RUAL': 0.006360799815396348, 'NKHP': 0.1487263351158288, 'SBER': 0.008497787765994805, 'MDMG': 0.00278912042378578, 'MVID': 0.0031603342931385637, 'BANEP': 0.006039749982442589, 'OKEY': 0.005207026978218777, 'ALRS': 0.0058190282222868785, 'MRKP': 0.003180399907698174, 'FLOT': 0.002568398663630071, 'TATN': 0.004514763275912234, 'FIVE': 0.001966430226841773, 'MSTT': 0.0024078737471531914, 'ABIO': 0.003983024490082571, 'AKRN': 0.01141733468441805, 'GAZP': 0.007424277387055674, 'SBERP': 0.009109789010062907, 'RTKM': 0.004173647828398865, 'LENT': 0.009481002879415692, 'BSPB': 0.028683796012962393, 'MTSS': 0.006350767008116542, 'TGKN': 0.0023175784816349466, 'RENI': 0.0030499734130607094, 'MRKC': 0.0032405967513770033, 'POSI': 0.004053254141041206, 'KAZT': 0.007996147402004557, 'SIBN': 0.005267223821897607, 'YAKG': 0.0019262989977225531, 'RNFT': 0.006029717175162783, 'MSRS': 0.006310635778997323, 'MRKZ': 0.0850681729254663, 'QIWI': 0.008377394078637145, 'IRAO': 0.0076750975690507975, 'HYDR': 0.0033007935950558334, 'NLMK': 0.00420374625023828, 'BELU': 0.0030198749912212944, 'GCHE': 0.005467879967493706, 'LNZLP': 0.007584802303532553, 'SNGSP': 0.004173647828398865, 'YNDX': 0.002859350074744415, 'FESH': 0.00276905480922617, 'RASP': 0.00410341817744023, 'NVTK': 0.004605058541430479, 'UNKL': 0.006069848404282003, 'NKNC': 0.0037422371153672516, 'SGZH': 0.007213588434179769, 'LSNGP': 0.007715228798170017, 'GMKN': 0.007213588434179769, 'MOEX': 0.0035516137770509578, 'LIFE': 0.006732013684749131, 'UPRO': 0.0034713513188125177, 'MSNG': 0.006260471742598298, 'AFKS': 0.00416361502111906, 'PLZL': 0.00854795180239383, 'OZON': 0.0011638056444573759, 'LKOH': 0.003682040271688422, 'OGKB': 0.0074744414234546985, 'GLTR': 0.0017356756594062589, 'KAZTP': 0.009551232530374328, 'NMTP': 0.0029195469184232444, 'TGKA': 0.0037522699226470563, 'SNGS': 0.004635156963269893, 'CBOM': 0.008337262849517925, 'TGKBP': 0.006451095080914592, 'ABRD': 0.008728542333430319, 'PIKK': 0.002799153231065585, 'ROSN': 0.005508011196612926, 'TRMK': 0.0021068895287590424, 'KRKNP': 0.006130045247960833, 'CHMF': 0.003902762031844131}\n",
      "Expected annual return: 33716.7%\n",
      "Annual volatility: 33.9%\n",
      "Sharpe Ratio: 993.80\n",
      "{'ENPG': 0.006716350177993365, 'NKNCP': 0.004396889906313975, 'VSMO': 0.002097598854388318, 'UNAC': 0.3042930184245823, 'CNTL': 0.0024303909803249264, 'MGNT': 0.0046691743729893815, 'SPBE': 0.00565746614092234, 'ETLN': 0.0043061284174221726, 'RTKMP': 0.002238783392664455, 'KZOSP': 0.003519528847026553, 'KMAZ': 0.0033884289186272834, 'KZOS': 0.002964875303798873, 'FIXP': 0.006333135002672422, 'PHOR': 0.001754722118574843, 'HHRU': 0.0015328607012837711, 'LNZL': 0.001976583535865915, 'MGTSP': 0.0021581065136495195, 'ELFV': 0.001976583535865915, 'SELG': 0.0022085295630338542, 'AGRO': 0.0030152983531832075, 'TATNP': 0.0021681911235263865, 'PRFN': 0.0016740452395599078, 'MAGN': 0.004729682032250583, 'VTBR': 0.005899496777967145, 'SMLT': 0.0049918818890491235, 'BANE': 0.0053549278446163315, 'AFLT': 0.004265789977914705, 'CIAN': 0.005889412168090278, 'RUAL': 0.003932997851978096, 'NKHP': 0.08825042103246238, 'SBER': 0.0029043676445376716, 'MDMG': 0.0015933683605449725, 'MVID': 0.0052641663557245295, 'BANEP': 0.0045078206149595105, 'OKEY': 0.006262542733534354, 'ALRS': 0.004578412884097579, 'MRKP': 0.0013916761630076342, 'FLOT': 0.003196821330966812, 'PMSBP': 0.001189983965470296, 'TATN': 0.0024303909803249264, 'FIVE': 0.002087514244511451, 'MSTT': 0.0023295448815562575, 'MTLR': 0.006595334859470962, 'ABIO': 0.0043262976371759064, 'AKRN': 0.0016034529704218395, 'GAZP': 0.0031463982815824773, 'DVEC': 0.0636742267625377, 'SBERP': 0.0027026754470003333, 'RTKM': 0.004880951180403587, 'LENT': 0.003307752039612348, 'BSPB': 0.026976331420618997, 'MTSS': 0.00366071338530269, 'TGKN': 0.0014925222617763034, 'LSNG': 0.0017345528988211092, 'RENI': 0.0019463297062353147, 'MRKC': 0.0010891378667016267, 'POSI': 0.0032371597704742797, 'KAZT': 0.0022791218321719224, 'PMSB': 0.0011698147457165622, 'SIBN': 0.003257328990228013, 'YAKG': 0.0035800365062877548, 'CHMK': 0.0011395609160859612, 'RNFT': 0.0033682596988735495, 'MSRS': 0.0011294763062090942, 'MRKZ': 0.1339639576043001, 'QIWI': 0.003287582819858614, 'IRAO': 0.003176652111213078, 'HYDR': 0.005254081745847663, 'NLMK': 0.004679258982866249, 'BELU': 0.0024404755902017934, 'LNZLP': 0.0038825748025937625, 'SNGSP': 0.004245620758160971, 'YNDX': 0.0047397666421274505, 'FESH': 0.0022892064420487893, 'RASP': 0.00460866671372818, 'NVTK': 0.0038926594124706294, 'UNKL': 0.004406974516190841, 'NKNC': 0.0064743195409485595, 'SGZH': 0.004316213027299039, 'LSNGP': 0.004023759340869898, 'GMKN': 0.0037918133137019596, 'MOEX': 0.0019463297062353147, 'LIFE': 0.0049212896199110545, 'UPRO': 0.003559867286534021, 'MRKS': 0.016619437077076676, 'MSNG': 0.005627212311291738, 'AFKS': 0.00503222032855659, 'PLZL': 0.0037413902643176253, 'OZON': 0.004780105081634918, 'LKOH': 0.0035800365062877548, 'OGKB': 0.0037111364346870245, 'GLTR': 0.0038220671433325604, 'KAZTP': 0.001653876019806174, 'NMTP': 0.0021581065136495195, 'TGKA': 0.0034791904075190854, 'SNGS': 0.005486027773015602, 'CBOM': 0.0029043676445376716, 'AMEZ': 0.0018051451679591776, 'TGKBP': 0.0021379372938957857, 'ABRD': 0.0045078206149595105, 'CNTLP': 0.005506196992769335, 'PIKK': 0.005980173656982081, 'ROSN': 0.003620374945795222, 'MTLRP': 0.005415435503877533, 'TRMK': 0.0019059912667278467, 'MRKY': 0.009257671866963827, 'KRKNP': 0.004013674730993032, 'CHMF': 0.004527989834713244}\n"
     ]
    },
    {
     "name": "stderr",
     "output_type": "stream",
     "text": [
      "\u001b[38;2;246;255;0m 60%\u001b[39m \u001b[38;2;246;255;0m(181 of 300)\u001b[39m |#############         | Elapsed Time: 0:00:02 ETA:   0:00:01"
     ]
    },
    {
     "name": "stdout",
     "output_type": "stream",
     "text": [
      "Expected annual return: 26432.0%\n",
      "Annual volatility: 55.1%\n",
      "Sharpe Ratio: 479.46\n",
      "{'UNAC': 0.3401634016340163, 'NKHP': 0.1836818368183682, 'DVEC': 0.39685396853968535, 'MRKZ': 0.02961029610296103, 'MRKS': 0.049690496904969045}\n",
      "Expected annual return: 10529.8%\n",
      "Annual volatility: 53.8%\n",
      "Sharpe Ratio: 195.51\n",
      "{'DSKY': 0.09304906950930489, 'UNAC': 0.29072709272907266, 'NKHP': 0.03488965110348896, 'DVEC': 0.4203957960420395, 'MRKZ': 0.15574844251557482, 'NLMK': 0.005189948100518995}\n",
      "Expected annual return: 4787.6%\n",
      "Annual volatility: 52.5%\n",
      "Sharpe Ratio: 91.13\n",
      "{'DSKY': 0.09094090940909409, 'UNAC': 0.2519625196251963, 'NKHP': 0.005320053200532006, 'DVEC': 0.5006850068500686, 'SIBN': 0.00890008900089001, 'MRKZ': 0.011060110601106012, 'NLMK': 0.01839018390183902, 'SNGSP': 0.07119071190711908, 'MRKS': 0.024330243302433028, 'MRKY': 0.017220172201722016}\n"
     ]
    },
    {
     "name": "stderr",
     "output_type": "stream",
     "text": [
      "\u001b[38;2;236;255;0m 63%\u001b[39m \u001b[38;2;236;255;0m(191 of 300)\u001b[39m |##############        | Elapsed Time: 0:00:02 ETA:   0:00:01"
     ]
    },
    {
     "name": "stdout",
     "output_type": "stream",
     "text": [
      "Expected annual return: 2667.6%\n",
      "Annual volatility: 49.5%\n",
      "Sharpe Ratio: 53.86\n",
      "{'DSKY': 0.05808653808536442, 'UNAC': 0.24259614256093268, 'DVEC': 0.43049958921794923, 'SIBN': 0.10815304565549078, 'MRKZ': 0.05811587966042017, 'NLMK': 0.024881655647275146, 'SNGSP': 0.07766714917256758}\n"
     ]
    },
    {
     "name": "stderr",
     "output_type": "stream",
     "text": [
      "\u001b[38;2;227;255;0m 67%\u001b[39m \u001b[38;2;227;255;0m(201 of 300)\u001b[39m |##############        | Elapsed Time: 0:00:02 ETA:   0:00:01"
     ]
    },
    {
     "name": "stdout",
     "output_type": "stream",
     "text": [
      "Expected annual return: 1384.6%\n",
      "Annual volatility: 37.5%\n",
      "Sharpe Ratio: 36.86\n",
      "{'DSKY': 0.050507779278603226, 'UNAC': 0.12199709840412226, 'HHRU': 0.06492570914002702, 'AGRO': 0.06375506528590724, 'MTLR': 0.022112161688928912, 'DVEC': 0.3459902946620641, 'SIBN': 0.16704187303016657, 'MRKZ': 0.05207864325378958, 'AQUA': 0.05670118565210865, 'MOEX': 0.0456451048076442, 'LKOH': 0.00924508479663815}\n",
      "Expected annual return: 877.1%\n",
      "Annual volatility: 31.2%\n",
      "Sharpe Ratio: 28.02\n",
      "{'DSKY': 0.02814028140281403, 'UNAC': 0.07241072410724107, 'HHRU': 0.06027060270602706, 'AGRO': 0.21856218562185623, 'MTLR': 0.11247112471124712, 'DVEC': 0.25270252702527024, 'SIBN': 0.17851178511785118, 'MRKZ': 0.04650046500465005, 'AQUA': 0.00857008570085701, 'MOEX': 0.006400064000640007, 'LKOH': 0.015460154601546016}\n"
     ]
    },
    {
     "name": "stderr",
     "output_type": "stream",
     "text": [
      "\u001b[38;2;218;255;0m 70%\u001b[39m \u001b[38;2;218;255;0m(211 of 300)\u001b[39m |###############       | Elapsed Time: 0:00:03 ETA:   0:00:01"
     ]
    },
    {
     "name": "stdout",
     "output_type": "stream",
     "text": [
      "Expected annual return: 550.1%\n",
      "Annual volatility: 27.7%\n",
      "Sharpe Ratio: 19.75\n",
      "{'DSKY': 0.030980309803098034, 'UNAC': 0.04927049270492705, 'HHRU': 0.09399093990939911, 'AGRO': 0.0913109131091311, 'MTLR': 0.26808268082680825, 'DVEC': 0.05957059570595706, 'BSPB': 0.002480024800248003, 'SIBN': 0.1797317973179732, 'TGKB': 0.012700127001270012, 'MRKZ': 0.1620616206162062, 'MOEX': 0.04982049820498206}\n",
      "Expected annual return: 432.5%\n",
      "Annual volatility: 25.0%\n",
      "Sharpe Ratio: 17.25\n",
      "{'UNAC': 0.03335933281334374, 'HHRU': 0.04914901701965961, 'AGRO': 0.013069738605227896, 'MTLR': 0.2727845443091138, 'DVEC': 0.020589588208235837, 'BSPB': 0.012309753804923903, 'SIBN': 0.250604987900242, 'MRKZ': 0.10952780944381113, 'MOEX': 0.2386052278954421}\n"
     ]
    },
    {
     "name": "stderr",
     "output_type": "stream",
     "text": [
      "\u001b[38;2;208;255;0m 73%\u001b[39m \u001b[38;2;208;255;0m(221 of 300)\u001b[39m |################      | Elapsed Time: 0:00:03 ETA:   0:00:01"
     ]
    },
    {
     "name": "stdout",
     "output_type": "stream",
     "text": [
      "Expected annual return: 594.8%\n",
      "Annual volatility: 27.6%\n",
      "Sharpe Ratio: 21.45\n",
      "{'MTLR': 0.2839, 'BSPB': 0.00873, 'SIBN': 0.2353, 'MRKZ': 0.0217, 'AQUA': 0.03783, 'MOEX': 0.0725, 'MTLRP': 0.34004}\n",
      "Expected annual return: 799.0%\n",
      "Annual volatility: 34.9%\n",
      "Sharpe Ratio: 22.83\n",
      "{'RTKMP': 0.01077, 'AGRO': 0.02015, 'SIBN': 0.1989, 'MRKZ': 0.02781, 'MOEX': 0.00794, 'MTLRP': 0.73443}\n"
     ]
    },
    {
     "name": "stderr",
     "output_type": "stream",
     "text": [
      "\u001b[38;2;199;255;0m 77%\u001b[39m \u001b[38;2;199;255;0m(231 of 300)\u001b[39m |################      | Elapsed Time: 0:00:03 ETA:   0:00:01"
     ]
    },
    {
     "name": "stdout",
     "output_type": "stream",
     "text": [
      "Expected annual return: 366.7%\n",
      "Annual volatility: 24.8%\n",
      "Sharpe Ratio: 14.70\n",
      "{'BANE': 0.15683, 'BANEP': 0.02857, 'SIBN': 0.27534, 'MOEX': 0.12995, 'MTLRP': 0.40931}\n",
      "Expected annual return: 287.0%\n",
      "Annual volatility: 27.5%\n",
      "Sharpe Ratio: 10.36\n",
      "{'BANEP': 0.06213920542655048, 'SIBN': 0.29810010705031365, 'MOEX': 0.07835682770902323, 'CBOM': 0.04563144677998659, 'MTLRP': 0.515772413034126}\n"
     ]
    },
    {
     "name": "stderr",
     "output_type": "stream",
     "text": [
      "\u001b[38;2;190;255;0m 80%\u001b[39m \u001b[38;2;190;255;0m(241 of 300)\u001b[39m |#################     | Elapsed Time: 0:00:03 ETA:   0:00:00"
     ]
    },
    {
     "name": "stdout",
     "output_type": "stream",
     "text": [
      "Expected annual return: 127.9%\n",
      "Annual volatility: 26.4%\n",
      "Sharpe Ratio: 4.77\n",
      "{'SIBN': 0.6632, 'RASP': 0.007, 'MOEX': 0.02804, 'MTLRP': 0.30176}\n",
      "Expected annual return: 133.1%\n",
      "Annual volatility: 20.2%\n",
      "Sharpe Ratio: 6.48\n",
      "{'FLOT': 0.01439, 'MTLR': 0.03066, 'SIBN': 0.26731, 'RASP': 0.11625, 'MOEX': 0.12005, 'CBOM': 0.25747, 'MTLRP': 0.19387}\n"
     ]
    },
    {
     "name": "stderr",
     "output_type": "stream",
     "text": [
      "\u001b[38;2;180;255;0m 83%\u001b[39m \u001b[38;2;180;255;0m(251 of 300)\u001b[39m |##################    | Elapsed Time: 0:00:04 ETA:   0:00:00"
     ]
    },
    {
     "name": "stdout",
     "output_type": "stream",
     "text": [
      "Expected annual return: 194.8%\n",
      "Annual volatility: 21.5%\n",
      "Sharpe Ratio: 8.95\n",
      "{'MGNT': 0.13368133681336813, 'TATNP': 0.008500085000850009, 'FLOT': 0.016020160201602015, 'MTLR': 0.025270252702527026, 'SIBN': 0.25188251882518825, 'RASP': 0.08389083890838908, 'CBOM': 0.2191421914219142, 'MTLRP': 0.26161261612616127}\n",
      "Expected annual return: 214.2%\n",
      "Annual volatility: 22.4%\n",
      "Sharpe Ratio: 9.49\n",
      "{'DSKY': 0.025500255002550026, 'IRKT': 0.006980069800698007, 'MGNT': 0.1797317973179732, 'TATNP': 0.17736177361773617, 'BANEP': 0.13358133581335815, 'FLOT': 0.06307063070630707, 'TATN': 0.061720617206172064, 'MTLR': 0.0973109731097311, 'MTLRP': 0.2547425474254743}\n"
     ]
    },
    {
     "name": "stderr",
     "output_type": "stream",
     "text": [
      "\u001b[38;2;162;255;0m 90%\u001b[39m \u001b[38;2;162;255;0m(271 of 300)\u001b[39m |###################   | Elapsed Time: 0:00:04 ETA:   0:00:00"
     ]
    },
    {
     "name": "stdout",
     "output_type": "stream",
     "text": [
      "Expected annual return: 290.7%\n",
      "Annual volatility: 25.3%\n",
      "Sharpe Ratio: 11.41\n",
      "{'MGNT': 0.11941, 'BANEP': 0.32439, 'TGKB': 0.23323, 'RASP': 0.13808, 'MTLRP': 0.08185, 'CHMF': 0.10304}\n",
      "Expected annual return: 215.1%\n",
      "Annual volatility: 22.1%\n",
      "Sharpe Ratio: 9.66\n",
      "{'BANEP': 0.23312, 'FLOT': 0.0109, 'ABIO': 0.03982, 'TGKB': 0.08274, 'RASP': 0.07704, 'MRKS': 0.07984, 'MTLRP': 0.09274, 'CHMF': 0.3838}\n"
     ]
    },
    {
     "name": "stderr",
     "output_type": "stream",
     "text": [
      "\u001b[38;2;77;255;0m 93%\u001b[39m \u001b[38;2;77;255;0m(281 of 300)\u001b[39m |####################  | Elapsed Time: 0:00:04 ETA:   0:00:00"
     ]
    },
    {
     "name": "stdout",
     "output_type": "stream",
     "text": [
      "Expected annual return: 484.5%\n",
      "Annual volatility: 29.3%\n",
      "Sharpe Ratio: 16.45\n",
      "{'BANEP': 0.22781227812278124, 'SIBN': 0.02325023250232502, 'YNDX': 0.15367153671536715, 'RASP': 0.013100131001310014, 'MRKS': 0.03484034840348404, 'MTLRP': 0.06743067430674307, 'MRKY': 0.3200532005320053, 'CHMF': 0.15984159841598417}\n",
      "Expected annual return: 301.8%\n",
      "Annual volatility: 22.3%\n",
      "Sharpe Ratio: 13.47\n",
      "{'BANE': 0.00765, 'MDMG': 0.02467, 'BANEP': 0.43491, 'YNDX': 0.16555, 'MRKS': 0.05296, 'MTLRP': 0.25006, 'CHMF': 0.0642}\n"
     ]
    },
    {
     "name": "stderr",
     "output_type": "stream",
     "text": [
      "\u001b[38;2;36;255;0m 97%\u001b[39m \u001b[38;2;36;255;0m(291 of 300)\u001b[39m |##################### | Elapsed Time: 0:00:05 ETA:   0:00:00"
     ]
    },
    {
     "name": "stdout",
     "output_type": "stream",
     "text": [
      "Expected annual return: 291.8%\n",
      "Annual volatility: 21.3%\n",
      "Sharpe Ratio: 13.58\n",
      "{'BANE': 0.12068, 'BANEP': 0.19779, 'YNDX': 0.35525, 'MRKS': 0.02288, 'PIKK': 0.14043, 'MTLRP': 0.10433, 'MRKY': 0.05864}\n",
      "Expected annual return: 214.0%\n",
      "Annual volatility: 18.8%\n",
      "Sharpe Ratio: 11.26\n",
      "{'MGNT': 0.04698046980469805, 'BANE': 0.052700527005270045, 'MDMG': 0.15978159781597817, 'RTKM': 0.08412084120841208, 'YNDX': 0.25732257322573227, 'MRKS': 0.03930039300393004, 'MSNG': 0.11024110241102411, 'PIKK': 0.2080620806208062, 'MTLRP': 0.04149041490414904}\n"
     ]
    },
    {
     "name": "stderr",
     "output_type": "stream",
     "text": [
      "\u001b[38;2;0;255;0m100%\u001b[39m \u001b[38;2;0;255;0m(300 of 300)\u001b[39m |######################| Elapsed Time: 0:00:05 Time:  0:00:05\n"
     ]
    },
    {
     "name": "stdout",
     "output_type": "stream",
     "text": [
      "Expected annual return: 203.7%\n",
      "Annual volatility: 21.4%\n",
      "Sharpe Ratio: 9.41\n",
      "{'MGNT': 0.1024410244102441, 'BANE': 0.057970579705797054, 'MDMG': 0.039650396503965034, 'RTKM': 0.1904819048190482, 'YNDX': 0.40350403504035043, 'MRKS': 0.027930279302793026, 'PIKK': 0.17170171701717016, 'CHMF': 0.006320063200632006}\n",
      "Expected annual return: 349.5%\n",
      "Annual volatility: 24.4%\n",
      "Sharpe Ratio: 14.22\n",
      "{'MGNT': 0.09174091740917409, 'BANE': 0.13330133301333014, 'MDMG': 0.02195021950219502, 'RTKM': 0.14014140141401413, 'YNDX': 0.5331253312533125, 'MRKS': 0.03307033070330703, 'PIKK': 0.025400254002540024, 'CHMF': 0.02127021270212702}\n",
      "\n",
      "Finished backtest: 0:00:06\n"
     ]
    }
   ],
   "source": [
    "strategy.set_after_exec(optimization)\n",
    "result = strategy.backtest(warmup=pyb.param('lookback'))"
   ]
  },
  {
   "cell_type": "code",
   "execution_count": 124,
   "id": "7ea7e7e8-8feb-4701-b723-cc0dbfe8e35d",
   "metadata": {
    "tags": []
   },
   "outputs": [
    {
     "data": {
      "text/plain": [
       "[<matplotlib.lines.Line2D at 0x285258675d0>]"
      ]
     },
     "execution_count": 124,
     "metadata": {},
     "output_type": "execute_result"
    },
    {
     "data": {
      "image/png": "[encoded data removed]",
      "text/plain": [
       "<Figure size 640x480 with 1 Axes>"
      ]
     },
     "metadata": {},
     "output_type": "display_data"
    }
   ],
   "source": [
    "chart = plt.subplot2grid((3, 2), (0, 0), rowspan=3, colspan=2)\n",
    "chart.plot(result.portfolio.index, result.portfolio['market_value'])"
   ]
  }
 ],
 "metadata": {
  "kernelspec": {
   "display_name": "t",
   "language": "python",
   "name": "t"
  },
  "language_info": {
   "codemirror_mode": {
    "name": "ipython",
    "version": 3
   },
   "file_extension": ".py",
   "mimetype": "text/x-python",
   "name": "python",
   "nbconvert_exporter": "python",
   "pygments_lexer": "ipython3",
   "version": "3.11.7"
  }
 },
 "nbformat": 4,
 "nbformat_minor": 5
}
