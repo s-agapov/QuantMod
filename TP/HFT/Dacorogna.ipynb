{
 "cells": [
  {
   "cell_type": "code",
   "execution_count": 2,
   "metadata": {},
   "outputs": [],
   "source": [
    "import numpy as np\n",
    "import pandas as pd"
   ]
  },
  {
   "cell_type": "markdown",
   "metadata": {},
   "source": [
    "## Current return calculations"
   ]
  },
  {
   "cell_type": "code",
   "execution_count": 9,
   "metadata": {},
   "outputs": [
    {
     "data": {
      "text/plain": [
       "100"
      ]
     },
     "execution_count": 9,
     "metadata": {},
     "output_type": "execute_result"
    }
   ],
   "source": [
    "g = [-1, -0.5, 0, 0.5, 1]\n",
    "g_cur = 1/2\n",
    "g_prev = 0\n",
    "\n",
    "p_cur = 100\n",
    "\n",
    "\n",
    "if g_cur == 0:\n",
    "    ap_cur = None   \n",
    "elif abs(g_cur) < abs(g_prev) and g_cur * g_prev > 0:\n",
    "    ap_cur = p_prev\n",
    "elif abs(g_cur) > abs (g_prev) and g_cur * g_prev > 0:\n",
    "    ap_cur = g_cur/((g_cur - g_prev)/p_cur +g_prev/p_prev)\n",
    "elif g_cur * g_prev < 0 or g_prev == 0:\n",
    "    ap_cur = p_cur\n",
    "\n",
    "ap_cur"
   ]
  },
  {
   "cell_type": "markdown",
   "metadata": {},
   "source": [
    "## Trading Model"
   ]
  },
  {
   "cell_type": "code",
   "execution_count": 11,
   "metadata": {},
   "outputs": [],
   "source": [
    "def f(Ixt, a ,b):\n",
    "    if np.abs(Ixt) > b:\n",
    "        res = 1\n",
    "    elif np.abs(Ixt) < a:\n",
    "        res = 0\n",
    "    else:\n",
    "        res = 0.5\n",
    "        \n",
    "def a_func(a, g_prev):\n",
    "    if g_prev == 0:\n",
    "        return 2 * a\n",
    "    else\n",
    "        return a\n",
    "\n",
    "b = 2 * a_func(a, g_prev  ) \n",
    "    \n",
    "def gear(Ix, t):\n",
    "    g = np.sign(Ix(t)) * f(np.abs(Ix(t))) * c(I(t))\n",
    "    "
   ]
  }
 ],
 "metadata": {
  "kernelspec": {
   "display_name": "Python 3",
   "language": "python",
   "name": "python3"
  },
  "language_info": {
   "codemirror_mode": {
    "name": "ipython",
    "version": 3
   },
   "file_extension": ".py",
   "mimetype": "text/x-python",
   "name": "python",
   "nbconvert_exporter": "python",
   "pygments_lexer": "ipython3",
   "version": "3.6.10"
  }
 },
 "nbformat": 4,
 "nbformat_minor": 4
}
