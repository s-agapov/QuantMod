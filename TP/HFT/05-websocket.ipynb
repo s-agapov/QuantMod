{
 "cells": [
  {
   "cell_type": "code",
   "execution_count": 1,
   "metadata": {
    "ExecuteTime": {
     "end_time": "2019-08-17T06:08:50.408559Z",
     "start_time": "2019-08-17T06:08:50.401068Z"
    }
   },
   "outputs": [],
   "source": [
    "import torch.nn as nn\n",
    "import numpy as np\n",
    "import pandas as pd\n",
    "from datetime import datetime\n",
    "from glob import glob"
   ]
  },
  {
   "cell_type": "code",
   "execution_count": null,
   "metadata": {},
   "outputs": [],
   "source": []
  },
  {
   "cell_type": "code",
   "execution_count": 4,
   "metadata": {},
   "outputs": [
    {
     "name": "stdout",
     "output_type": "stream",
     "text": [
      "Release unicorn-binance-websocket-api_1.15.0 is available, please consider updating! (Changelog: https://github.com/oliver-zehentleitner/unicorn-binance-websocket-api/blob/master/CHANGELOG.md)\n"
     ]
    },
    {
     "name": "stderr",
     "output_type": "stream",
     "text": [
      "WARNING:root:Release unicorn-binance-websocket-api_1.15.0 is available, please consider updating! (Changelog: https://github.com/oliver-zehentleitner/unicorn-binance-websocket-api/blob/master/CHANGELOG.md)\n"
     ]
    },
    {
     "data": {
      "text/plain": [
       "UUID('6a0d880d-8cd7-4cd3-9927-c1bfc0b42ec4')"
      ]
     },
     "execution_count": 4,
     "metadata": {},
     "output_type": "execute_result"
    },
    {
     "name": "stderr",
     "output_type": "stream",
     "text": [
      "CRITICAL:root:BinanceWebSocketApiSocket->start_socket(8972727a-d828-452c-a38d-e623e481860f, ['trade', 'kline_1m'], ['neblbtc']) Exception ConnectionClosed Info: code = 1006 (connection closed abnormally [internal]), no reason\n",
      "CRITICAL:root:BinanceWebSocketApiManager->stream_is_crashing(8972727a-d828-452c-a38d-e623e481860f)\n"
     ]
    }
   ],
   "source": [
    "from unicorn_binance_websocket_api.unicorn_binance_websocket_api_manager import BinanceWebSocketApiManager\n",
    "\n",
    "binance_websocket_api_manager = BinanceWebSocketApiManager(exchange=\"binance.com\")\n",
    "#binance_websocket_api_manager.create_stream(['trade', 'kline_1m'], ['btcusdt', 'bnbbtc', 'ethbtc'])\n",
    "binance_websocket_api_manager.create_stream(['trade', 'kline_1m'], ['nanobtc'])"
   ]
  },
  {
   "cell_type": "code",
   "execution_count": null,
   "metadata": {},
   "outputs": [],
   "source": [
    "type(oldest_stream_data_from_stream_buffer)"
   ]
  },
  {
   "cell_type": "markdown",
   "metadata": {},
   "source": [
    "## 30-100 trades on parameter"
   ]
  },
  {
   "cell_type": "code",
   "execution_count": 2,
   "metadata": {},
   "outputs": [],
   "source": [
    "def highlight_max(s):\n",
    "    '''\n",
    "    highlight the maximum in a Series yellow.\n",
    "    '''\n",
    "    is_max = s == s.max()\n",
    "    return ['background-color: #51719C' if v else '' for v in is_max]"
   ]
  },
  {
   "cell_type": "code",
   "execution_count": 14,
   "metadata": {},
   "outputs": [],
   "source": [
    "df = pd.read_csv('dd_USDT.csv')\n",
    "#df = pd.read_csv('dd_USDT.csv')\n",
    "\n",
    "\n",
    "df['min_trades'] = df['trades'] - df['params'].apply(lambda x: len(x.split(','))) * 30\n",
    "df['pdd'] = -df['profit']/df['dd'] \n",
    "#df['opt_trades'] = df['trades'] - df['params'].apply(lambda x: len(x.split(','))) * 100\n",
    "\n",
    "df = df[df['min_trades'] > 0]\n",
    "df = df[df['profit'] > 0]\n",
    "df = df[df['pdd'] > 2]\n",
    "\n",
    "df['c1'] = -df['profit']/df['dd'] * np.log(df['trades'])\n",
    "#df = df[df['asset'] == 'LTC-USDT']"
   ]
  },
  {
   "cell_type": "code",
   "execution_count": 15,
   "metadata": {},
   "outputs": [
    {
     "data": {
      "text/html": [
       "<div>\n",
       "<style scoped>\n",
       "    .dataframe tbody tr th:only-of-type {\n",
       "        vertical-align: middle;\n",
       "    }\n",
       "\n",
       "    .dataframe tbody tr th {\n",
       "        vertical-align: top;\n",
       "    }\n",
       "\n",
       "    .dataframe thead th {\n",
       "        text-align: right;\n",
       "    }\n",
       "</style>\n",
       "<table border=\"1\" class=\"dataframe\">\n",
       "  <thead>\n",
       "    <tr style=\"text-align: right;\">\n",
       "      <th></th>\n",
       "      <th>asset</th>\n",
       "      <th>tf</th>\n",
       "      <th>robot</th>\n",
       "      <th>params</th>\n",
       "      <th>profit</th>\n",
       "      <th>dd</th>\n",
       "      <th>trades</th>\n",
       "      <th>min_trades</th>\n",
       "      <th>pdd</th>\n",
       "      <th>c1</th>\n",
       "    </tr>\n",
       "  </thead>\n",
       "  <tbody>\n",
       "  </tbody>\n",
       "</table>\n",
       "</div>"
      ],
      "text/plain": [
       "Empty DataFrame\n",
       "Columns: [asset, tf, robot, params, profit, dd, trades, min_trades, pdd, c1]\n",
       "Index: []"
      ]
     },
     "execution_count": 15,
     "metadata": {},
     "output_type": "execute_result"
    }
   ],
   "source": [
    "df"
   ]
  },
  {
   "cell_type": "code",
   "execution_count": 11,
   "metadata": {},
   "outputs": [
    {
     "data": {
      "text/html": [
       "<style  type=\"text/css\" >\n",
       "    #T_5f87cb0c_c724_11ea_a64b_305a3a45813drow0_col1 {\n",
       "            background-color:  #51719C;\n",
       "        }    #T_5f87cb0c_c724_11ea_a64b_305a3a45813drow1_col0 {\n",
       "            background-color:  #51719C;\n",
       "        }</style><table id=\"T_5f87cb0c_c724_11ea_a64b_305a3a45813d\" ><thead>    <tr>        <th class=\"blank level0\" ></th>        <th class=\"col_heading level0 col0\" colspan=2>c1</th>    </tr>    <tr>        <th class=\"index_name level1\" >tf</th>        <th class=\"col_heading level1 col0\" >15m</th>        <th class=\"col_heading level1 col1\" >5m</th>    </tr>    <tr>        <th class=\"index_name level0\" >robot</th>        <th class=\"blank\" ></th>        <th class=\"blank\" ></th>    </tr></thead><tbody>\n",
       "                <tr>\n",
       "                        <th id=\"T_5f87cb0c_c724_11ea_a64b_305a3a45813dlevel0_row0\" class=\"row_heading level0 row0\" >kestner-ma</th>\n",
       "                        <td id=\"T_5f87cb0c_c724_11ea_a64b_305a3a45813drow0_col0\" class=\"data row0 col0\" >nan</td>\n",
       "                        <td id=\"T_5f87cb0c_c724_11ea_a64b_305a3a45813drow0_col1\" class=\"data row0 col1\" >57.400296</td>\n",
       "            </tr>\n",
       "            <tr>\n",
       "                        <th id=\"T_5f87cb0c_c724_11ea_a64b_305a3a45813dlevel0_row1\" class=\"row_heading level0 row1\" >ma-2-crossover</th>\n",
       "                        <td id=\"T_5f87cb0c_c724_11ea_a64b_305a3a45813drow1_col0\" class=\"data row1 col0\" >46.327661</td>\n",
       "                        <td id=\"T_5f87cb0c_c724_11ea_a64b_305a3a45813drow1_col1\" class=\"data row1 col1\" >51.601413</td>\n",
       "            </tr>\n",
       "            <tr>\n",
       "                        <th id=\"T_5f87cb0c_c724_11ea_a64b_305a3a45813dlevel0_row2\" class=\"row_heading level0 row2\" >ma-2-crossover-ichimoku</th>\n",
       "                        <td id=\"T_5f87cb0c_c724_11ea_a64b_305a3a45813drow2_col0\" class=\"data row2 col0\" >30.396227</td>\n",
       "                        <td id=\"T_5f87cb0c_c724_11ea_a64b_305a3a45813drow2_col1\" class=\"data row2 col1\" >48.423006</td>\n",
       "            </tr>\n",
       "            <tr>\n",
       "                        <th id=\"T_5f87cb0c_c724_11ea_a64b_305a3a45813dlevel0_row3\" class=\"row_heading level0 row3\" >rsi</th>\n",
       "                        <td id=\"T_5f87cb0c_c724_11ea_a64b_305a3a45813drow3_col0\" class=\"data row3 col0\" >33.014461</td>\n",
       "                        <td id=\"T_5f87cb0c_c724_11ea_a64b_305a3a45813drow3_col1\" class=\"data row3 col1\" >20.018000</td>\n",
       "            </tr>\n",
       "    </tbody></table>"
      ],
      "text/plain": [
       "<pandas.io.formats.style.Styler at 0x222d8abe048>"
      ]
     },
     "execution_count": 11,
     "metadata": {},
     "output_type": "execute_result"
    }
   ],
   "source": [
    "pvt = pd.pivot_table(df, values=['c1'], index=['robot'],  columns=['tf'])\n",
    "pvt.style.apply(highlight_max)"
   ]
  },
  {
   "cell_type": "code",
   "execution_count": 12,
   "metadata": {},
   "outputs": [
    {
     "data": {
      "text/html": [
       "<style  type=\"text/css\" >\n",
       "    #T_675ddb86_c724_11ea_82af_305a3a45813drow0_col1 {\n",
       "            background-color:  #51719C;\n",
       "        }    #T_675ddb86_c724_11ea_82af_305a3a45813drow2_col0 {\n",
       "            background-color:  #51719C;\n",
       "        }</style><table id=\"T_675ddb86_c724_11ea_82af_305a3a45813d\" ><thead>    <tr>        <th class=\"blank level0\" ></th>        <th class=\"col_heading level0 col0\" colspan=2>profit</th>    </tr>    <tr>        <th class=\"index_name level1\" >tf</th>        <th class=\"col_heading level1 col0\" >15m</th>        <th class=\"col_heading level1 col1\" >5m</th>    </tr>    <tr>        <th class=\"index_name level0\" >robot</th>        <th class=\"blank\" ></th>        <th class=\"blank\" ></th>    </tr></thead><tbody>\n",
       "                <tr>\n",
       "                        <th id=\"T_675ddb86_c724_11ea_82af_305a3a45813dlevel0_row0\" class=\"row_heading level0 row0\" >kestner-ma</th>\n",
       "                        <td id=\"T_675ddb86_c724_11ea_82af_305a3a45813drow0_col0\" class=\"data row0 col0\" >nan</td>\n",
       "                        <td id=\"T_675ddb86_c724_11ea_82af_305a3a45813drow0_col1\" class=\"data row0 col1\" >0.000017</td>\n",
       "            </tr>\n",
       "            <tr>\n",
       "                        <th id=\"T_675ddb86_c724_11ea_82af_305a3a45813dlevel0_row1\" class=\"row_heading level0 row1\" >ma-2-crossover</th>\n",
       "                        <td id=\"T_675ddb86_c724_11ea_82af_305a3a45813drow1_col0\" class=\"data row1 col0\" >0.000015</td>\n",
       "                        <td id=\"T_675ddb86_c724_11ea_82af_305a3a45813drow1_col1\" class=\"data row1 col1\" >0.000016</td>\n",
       "            </tr>\n",
       "            <tr>\n",
       "                        <th id=\"T_675ddb86_c724_11ea_82af_305a3a45813dlevel0_row2\" class=\"row_heading level0 row2\" >ma-2-crossover-ichimoku</th>\n",
       "                        <td id=\"T_675ddb86_c724_11ea_82af_305a3a45813drow2_col0\" class=\"data row2 col0\" >0.000016</td>\n",
       "                        <td id=\"T_675ddb86_c724_11ea_82af_305a3a45813drow2_col1\" class=\"data row2 col1\" >0.000016</td>\n",
       "            </tr>\n",
       "            <tr>\n",
       "                        <th id=\"T_675ddb86_c724_11ea_82af_305a3a45813dlevel0_row3\" class=\"row_heading level0 row3\" >rsi</th>\n",
       "                        <td id=\"T_675ddb86_c724_11ea_82af_305a3a45813drow3_col0\" class=\"data row3 col0\" >0.000006</td>\n",
       "                        <td id=\"T_675ddb86_c724_11ea_82af_305a3a45813drow3_col1\" class=\"data row3 col1\" >0.000007</td>\n",
       "            </tr>\n",
       "    </tbody></table>"
      ],
      "text/plain": [
       "<pandas.io.formats.style.Styler at 0x222d8abe7b8>"
      ]
     },
     "execution_count": 12,
     "metadata": {},
     "output_type": "execute_result"
    }
   ],
   "source": [
    "pvt = pd.pivot_table(df, values=['profit'], index=['robot'],  columns=['tf'])\n",
    "pvt.style.apply(highlight_max)"
   ]
  },
  {
   "cell_type": "code",
   "execution_count": 13,
   "metadata": {},
   "outputs": [
    {
     "data": {
      "text/html": [
       "<div>\n",
       "<style scoped>\n",
       "    .dataframe tbody tr th:only-of-type {\n",
       "        vertical-align: middle;\n",
       "    }\n",
       "\n",
       "    .dataframe tbody tr th {\n",
       "        vertical-align: top;\n",
       "    }\n",
       "\n",
       "    .dataframe thead tr th {\n",
       "        text-align: left;\n",
       "    }\n",
       "\n",
       "    .dataframe thead tr:last-of-type th {\n",
       "        text-align: right;\n",
       "    }\n",
       "</style>\n",
       "<table border=\"1\" class=\"dataframe\">\n",
       "  <thead>\n",
       "    <tr>\n",
       "      <th></th>\n",
       "      <th colspan=\"2\" halign=\"left\">dd</th>\n",
       "    </tr>\n",
       "    <tr>\n",
       "      <th>tf</th>\n",
       "      <th>15m</th>\n",
       "      <th>5m</th>\n",
       "    </tr>\n",
       "    <tr>\n",
       "      <th>robot</th>\n",
       "      <th></th>\n",
       "      <th></th>\n",
       "    </tr>\n",
       "  </thead>\n",
       "  <tbody>\n",
       "    <tr>\n",
       "      <th>kestner-ma</th>\n",
       "      <td>NaN</td>\n",
       "      <td>-0.000002</td>\n",
       "    </tr>\n",
       "    <tr>\n",
       "      <th>ma-2-crossover</th>\n",
       "      <td>-1.439044e-06</td>\n",
       "      <td>-0.000002</td>\n",
       "    </tr>\n",
       "    <tr>\n",
       "      <th>ma-2-crossover-ichimoku</th>\n",
       "      <td>-2.206098e-06</td>\n",
       "      <td>-0.000002</td>\n",
       "    </tr>\n",
       "    <tr>\n",
       "      <th>rsi</th>\n",
       "      <td>-9.226891e-07</td>\n",
       "      <td>-0.000002</td>\n",
       "    </tr>\n",
       "  </tbody>\n",
       "</table>\n",
       "</div>"
      ],
      "text/plain": [
       "                                   dd          \n",
       "tf                                15m        5m\n",
       "robot                                          \n",
       "kestner-ma                        NaN -0.000002\n",
       "ma-2-crossover          -1.439044e-06 -0.000002\n",
       "ma-2-crossover-ichimoku -2.206098e-06 -0.000002\n",
       "rsi                     -9.226891e-07 -0.000002"
      ]
     },
     "execution_count": 13,
     "metadata": {},
     "output_type": "execute_result"
    }
   ],
   "source": [
    "pd.pivot_table(df, values=['dd'], index=['robot'],  columns=['tf'])"
   ]
  },
  {
   "cell_type": "code",
   "execution_count": null,
   "metadata": {},
   "outputs": [],
   "source": []
  },
  {
   "cell_type": "code",
   "execution_count": null,
   "metadata": {},
   "outputs": [],
   "source": [
    "pvt = pd.pivot_table(df, values=['trades'], index=['robot'],  columns=['tf'])\n",
    "pvt.style.apply(highlight_max)"
   ]
  },
  {
   "cell_type": "code",
   "execution_count": null,
   "metadata": {},
   "outputs": [],
   "source": [
    "df.sort_values('tf')"
   ]
  },
  {
   "cell_type": "code",
   "execution_count": null,
   "metadata": {},
   "outputs": [],
   "source": [
    "df = df[df['robot'] == 'ma-rsi']\n",
    "pd.pivot_table(df, values=['profit'], index=['tf'],  columns=['asset'])"
   ]
  },
  {
   "cell_type": "code",
   "execution_count": null,
   "metadata": {},
   "outputs": [],
   "source": [
    "pd.pivot_table(df, values=['trades'], index=['tf'],  columns=['asset'])"
   ]
  },
  {
   "cell_type": "code",
   "execution_count": null,
   "metadata": {},
   "outputs": [],
   "source": [
    "df['c1'] = df['profit'] * np.sqrt(df['trades'])\n",
    "pd.pivot_table(df, values=['dd'], index=['tf'],  columns=['robot'])\n"
   ]
  },
  {
   "cell_type": "code",
   "execution_count": null,
   "metadata": {},
   "outputs": [],
   "source": [
    "data_path = 'G:\\Code\\Projects\\QuantMod\\Logs\\Logs'\n",
    "files = glob(data_path + '/*')"
   ]
  },
  {
   "cell_type": "code",
   "execution_count": null,
   "metadata": {},
   "outputs": [],
   "source": [
    "import os\n",
    "fn_full = files[12]\n",
    "fn = os.path.basename(fn_full)\n",
    "print(fn)\n",
    "pd.read_csv(fn_full)"
   ]
  },
  {
   "cell_type": "code",
   "execution_count": 2,
   "metadata": {
    "ExecuteTime": {
     "end_time": "2019-08-17T06:09:09.482602Z",
     "start_time": "2019-08-17T06:09:09.474324Z"
    }
   },
   "outputs": [],
   "source": [
    "import numpy as np\n",
    "X = np.random.rand(3,3)"
   ]
  },
  {
   "cell_type": "code",
   "execution_count": 12,
   "metadata": {
    "ExecuteTime": {
     "end_time": "2019-08-17T06:37:01.902180Z",
     "start_time": "2019-08-17T06:37:01.891701Z"
    }
   },
   "outputs": [],
   "source": [
    "W1 = 2 *np.random.random((3,3)) - 1\n",
    "W2 = 2 *np.random.random((3,1)) - 1\n",
    "b1 = 0.1\n",
    "b2 = 0.1 \n",
    "z1 = X@W1 + b1\n",
    "z2 = z1@W2 + b2"
   ]
  },
  {
   "cell_type": "code",
   "execution_count": 13,
   "metadata": {
    "ExecuteTime": {
     "end_time": "2019-08-17T06:35:05.553213Z",
     "start_time": "2019-08-17T06:35:05.545825Z"
    }
   },
   "outputs": [
    {
     "data": {
      "text/plain": [
       "array([[-0.10681998, -0.25498285, -0.01188085],\n",
       "       [ 0.11184781,  0.10890602, -0.21377916],\n",
       "       [ 0.24222738, -0.15552755, -0.22852381]])"
      ]
     },
     "execution_count": 13,
     "metadata": {},
     "output_type": "execute_result"
    }
   ],
   "source": [
    "z1"
   ]
  },
  {
   "cell_type": "code",
   "execution_count": null,
   "metadata": {},
   "outputs": [],
   "source": []
  },
  {
   "cell_type": "code",
   "execution_count": null,
   "metadata": {},
   "outputs": [],
   "source": []
  },
  {
   "cell_type": "code",
   "execution_count": null,
   "metadata": {},
   "outputs": [],
   "source": []
  },
  {
   "cell_type": "code",
   "execution_count": null,
   "metadata": {},
   "outputs": [],
   "source": []
  },
  {
   "cell_type": "code",
   "execution_count": null,
   "metadata": {},
   "outputs": [],
   "source": []
  },
  {
   "cell_type": "code",
   "execution_count": null,
   "metadata": {},
   "outputs": [],
   "source": []
  },
  {
   "cell_type": "code",
   "execution_count": null,
   "metadata": {},
   "outputs": [],
   "source": []
  },
  {
   "cell_type": "code",
   "execution_count": null,
   "metadata": {},
   "outputs": [],
   "source": []
  },
  {
   "cell_type": "code",
   "execution_count": null,
   "metadata": {},
   "outputs": [],
   "source": []
  },
  {
   "cell_type": "code",
   "execution_count": null,
   "metadata": {},
   "outputs": [],
   "source": []
  },
  {
   "cell_type": "code",
   "execution_count": null,
   "metadata": {},
   "outputs": [],
   "source": []
  },
  {
   "cell_type": "code",
   "execution_count": null,
   "metadata": {},
   "outputs": [],
   "source": []
  },
  {
   "cell_type": "code",
   "execution_count": null,
   "metadata": {},
   "outputs": [],
   "source": []
  },
  {
   "cell_type": "code",
   "execution_count": null,
   "metadata": {},
   "outputs": [],
   "source": []
  }
 ],
 "metadata": {
  "kernelspec": {
   "display_name": "Python 3",
   "language": "python",
   "name": "python3"
  },
  "language_info": {
   "codemirror_mode": {
    "name": "ipython",
    "version": 3
   },
   "file_extension": ".py",
   "mimetype": "text/x-python",
   "name": "python",
   "nbconvert_exporter": "python",
   "pygments_lexer": "ipython3",
   "version": "3.8.5"
  }
 },
 "nbformat": 4,
 "nbformat_minor": 4
}
