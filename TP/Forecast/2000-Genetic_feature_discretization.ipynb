{
 "cells": [
  {
   "cell_type": "markdown",
   "metadata": {},
   "source": [
    "## Genetic algorithms approach to feature discretization in artificial neural networks for the prediction of stock price index"
   ]
  },
  {
   "cell_type": "code",
   "execution_count": null,
   "metadata": {},
   "outputs": [],
   "source": [
    "import numpy as np\n",
    "import pandas as pd"
   ]
  },
  {
   "cell_type": "code",
   "execution_count": 171,
   "metadata": {},
   "outputs": [],
   "source": [
    "from sklearn.ensemble import RandomForestClassifier\n",
    "from sklearn import svm\n",
    "from sklearn.model_selection import train_test_split\n",
    "from sklearn.metrics import accuracy_score, plot_confusion_matrix\n",
    "from sklearn.preprocessing import MinMaxScaler\n",
    "\n",
    "import sys\n",
    "sys.path.append(\"..\") \n",
    "from tp_utils.data_provider import read_prices, read_data\n",
    "import pandas_ta as pta"
   ]
  },
  {
   "cell_type": "code",
   "execution_count": 37,
   "metadata": {},
   "outputs": [],
   "source": [
    "market = 'BTC-USDT'\n",
    "tf = '15m'\n",
    "\n",
    "df_raw = read_data(market, tf)\n",
    "assert df_raw[df_raw.isna()==True].sum().sum() == 0"
   ]
  },
  {
   "cell_type": "code",
   "execution_count": 102,
   "metadata": {},
   "outputs": [],
   "source": [
    "df = df_raw[-10000:].copy()\n",
    "df.columns = (['T', 'open', 'high', 'low', 'close', 'volume'])\n",
    "df = df.reset_index(drop=True)"
   ]
  },
  {
   "cell_type": "code",
   "execution_count": null,
   "metadata": {},
   "outputs": [],
   "source": []
  },
  {
   "cell_type": "code",
   "execution_count": 103,
   "metadata": {},
   "outputs": [],
   "source": [
    "n = 10\n",
    "CustomStrategy = pta.Strategy(\n",
    "    name=\"Genetic features discretization\",\n",
    "    description=\"enetic features discretization\",\n",
    "    ta=[\n",
    "        {\"kind\": \"stoch\", \"k\" : n},\n",
    "        {\"kind\": \"mom\", \"length\": 4},\n",
    "        {\"kind\": \"roc\", \"length\": n}\n",
    "    ]\n",
    ")\n",
    "# Run it\n",
    "df.ta.strategy(CustomStrategy)\n",
    "df['target'] = np.sign(df['close'].diff(1).shift(-1))\n",
    "df['target'] = df['target'].apply(lambda x: np.max([0,x]))\n",
    "df = df.drop(['T', 'close', 'open', 'high', 'low', 'volume'], axis = 1)\n",
    "features = df.dropna()"
   ]
  },
  {
   "cell_type": "code",
   "execution_count": 104,
   "metadata": {},
   "outputs": [
    {
     "data": {
      "text/html": [
       "<div>\n",
       "<style scoped>\n",
       "    .dataframe tbody tr th:only-of-type {\n",
       "        vertical-align: middle;\n",
       "    }\n",
       "\n",
       "    .dataframe tbody tr th {\n",
       "        vertical-align: top;\n",
       "    }\n",
       "\n",
       "    .dataframe thead th {\n",
       "        text-align: right;\n",
       "    }\n",
       "</style>\n",
       "<table border=\"1\" class=\"dataframe\">\n",
       "  <thead>\n",
       "    <tr style=\"text-align: right;\">\n",
       "      <th></th>\n",
       "      <th>STOCHk_10_3_3</th>\n",
       "      <th>STOCHd_10_3_3</th>\n",
       "      <th>MOM_4</th>\n",
       "      <th>ROC_10</th>\n",
       "      <th>target</th>\n",
       "    </tr>\n",
       "  </thead>\n",
       "  <tbody>\n",
       "    <tr>\n",
       "      <th>0</th>\n",
       "      <td>NaN</td>\n",
       "      <td>NaN</td>\n",
       "      <td>NaN</td>\n",
       "      <td>NaN</td>\n",
       "      <td>0.0</td>\n",
       "    </tr>\n",
       "    <tr>\n",
       "      <th>1</th>\n",
       "      <td>NaN</td>\n",
       "      <td>NaN</td>\n",
       "      <td>NaN</td>\n",
       "      <td>NaN</td>\n",
       "      <td>0.0</td>\n",
       "    </tr>\n",
       "    <tr>\n",
       "      <th>2</th>\n",
       "      <td>NaN</td>\n",
       "      <td>NaN</td>\n",
       "      <td>NaN</td>\n",
       "      <td>NaN</td>\n",
       "      <td>0.0</td>\n",
       "    </tr>\n",
       "    <tr>\n",
       "      <th>3</th>\n",
       "      <td>NaN</td>\n",
       "      <td>NaN</td>\n",
       "      <td>NaN</td>\n",
       "      <td>NaN</td>\n",
       "      <td>1.0</td>\n",
       "    </tr>\n",
       "    <tr>\n",
       "      <th>4</th>\n",
       "      <td>NaN</td>\n",
       "      <td>NaN</td>\n",
       "      <td>66.89</td>\n",
       "      <td>NaN</td>\n",
       "      <td>0.0</td>\n",
       "    </tr>\n",
       "    <tr>\n",
       "      <th>...</th>\n",
       "      <td>...</td>\n",
       "      <td>...</td>\n",
       "      <td>...</td>\n",
       "      <td>...</td>\n",
       "      <td>...</td>\n",
       "    </tr>\n",
       "    <tr>\n",
       "      <th>9995</th>\n",
       "      <td>61.146873781</td>\n",
       "      <td>49.924688848</td>\n",
       "      <td>69.90</td>\n",
       "      <td>0.426823259</td>\n",
       "      <td>0.0</td>\n",
       "    </tr>\n",
       "    <tr>\n",
       "      <th>9996</th>\n",
       "      <td>65.794935763</td>\n",
       "      <td>59.494184288</td>\n",
       "      <td>105.63</td>\n",
       "      <td>-0.162832483</td>\n",
       "      <td>0.0</td>\n",
       "    </tr>\n",
       "    <tr>\n",
       "      <th>9997</th>\n",
       "      <td>50.540045197</td>\n",
       "      <td>59.160618247</td>\n",
       "      <td>9.06</td>\n",
       "      <td>-0.041916152</td>\n",
       "      <td>1.0</td>\n",
       "    </tr>\n",
       "    <tr>\n",
       "      <th>9998</th>\n",
       "      <td>50.014235129</td>\n",
       "      <td>55.449738696</td>\n",
       "      <td>-77.12</td>\n",
       "      <td>0.106422039</td>\n",
       "      <td>0.0</td>\n",
       "    </tr>\n",
       "    <tr>\n",
       "      <th>9999</th>\n",
       "      <td>49.643232086</td>\n",
       "      <td>50.065837470</td>\n",
       "      <td>-29.44</td>\n",
       "      <td>0.415457499</td>\n",
       "      <td>NaN</td>\n",
       "    </tr>\n",
       "  </tbody>\n",
       "</table>\n",
       "<p>10000 rows × 5 columns</p>\n",
       "</div>"
      ],
      "text/plain": [
       "      STOCHk_10_3_3  STOCHd_10_3_3   MOM_4       ROC_10  target\n",
       "0               NaN            NaN     NaN          NaN     0.0\n",
       "1               NaN            NaN     NaN          NaN     0.0\n",
       "2               NaN            NaN     NaN          NaN     0.0\n",
       "3               NaN            NaN     NaN          NaN     1.0\n",
       "4               NaN            NaN   66.89          NaN     0.0\n",
       "...             ...            ...     ...          ...     ...\n",
       "9995   61.146873781   49.924688848   69.90  0.426823259     0.0\n",
       "9996   65.794935763   59.494184288  105.63 -0.162832483     0.0\n",
       "9997   50.540045197   59.160618247    9.06 -0.041916152     1.0\n",
       "9998   50.014235129   55.449738696  -77.12  0.106422039     0.0\n",
       "9999   49.643232086   50.065837470  -29.44  0.415457499     NaN\n",
       "\n",
       "[10000 rows x 5 columns]"
      ]
     },
     "execution_count": 104,
     "metadata": {},
     "output_type": "execute_result"
    }
   ],
   "source": [
    "df"
   ]
  },
  {
   "cell_type": "code",
   "execution_count": 105,
   "metadata": {},
   "outputs": [],
   "source": [
    "X = features.drop(['target'], axis=1)\n",
    "y = features['target']"
   ]
  },
  {
   "cell_type": "code",
   "execution_count": 106,
   "metadata": {},
   "outputs": [],
   "source": [
    "X_train, X_test, y_train, y_test = train_test_split(X, y, test_size=0.3, shuffle = False)"
   ]
  },
  {
   "cell_type": "code",
   "execution_count": 132,
   "metadata": {},
   "outputs": [
    {
     "data": {
      "text/plain": [
       "RandomForestClassifier(n_estimators=30, random_state=17)"
      ]
     },
     "execution_count": 132,
     "metadata": {},
     "output_type": "execute_result"
    }
   ],
   "source": [
    "#Training the model\n",
    "classifier = RandomForestClassifier(n_estimators=30, random_state=17)\n",
    "#classifier = RandomForestClassifier(n_estimators=30)\n",
    "classifier.fit(X_train, y_train)"
   ]
  },
  {
   "cell_type": "code",
   "execution_count": 133,
   "metadata": {},
   "outputs": [
    {
     "name": "stdout",
     "output_type": "stream",
     "text": [
      "Accuracy score of the model is:  0.5106809078771696\n"
     ]
    },
    {
     "data": {
      "image/png": "[encoded data removed]",
      "text/plain": [
       "<Figure size 432x288 with 2 Axes>"
      ]
     },
     "metadata": {
      "needs_background": "light"
     },
     "output_type": "display_data"
    }
   ],
   "source": [
    "y_pred = classifier.predict(X_test)\n",
    "print (\"Accuracy score of the model is: \", accuracy_score(y_test, y_pred))\n",
    "plot_confusion_matrix(classifier, X_test, y_test);"
   ]
  },
  {
   "cell_type": "markdown",
   "metadata": {},
   "source": [
    "### Sklearn Discritization"
   ]
  },
  {
   "cell_type": "code",
   "execution_count": 155,
   "metadata": {},
   "outputs": [],
   "source": [
    "from sklearn.preprocessing import KBinsDiscretizer\n",
    "enc = KBinsDiscretizer(n_bins=5, encode='ordinal')\n",
    "X_binned = enc.fit_transform(X_train)"
   ]
  },
  {
   "cell_type": "code",
   "execution_count": null,
   "metadata": {},
   "outputs": [],
   "source": []
  },
  {
   "cell_type": "code",
   "execution_count": 156,
   "metadata": {},
   "outputs": [
    {
     "data": {
      "text/plain": [
       "RandomForestClassifier(n_estimators=30, random_state=17)"
      ]
     },
     "execution_count": 156,
     "metadata": {},
     "output_type": "execute_result"
    }
   ],
   "source": [
    "#Training the model\n",
    "classifier = RandomForestClassifier(n_estimators=30, random_state=17)\n",
    "#classifier = RandomForestClassifier(n_estimators=30)\n",
    "classifier.fit(X_binned, y_train)"
   ]
  },
  {
   "cell_type": "code",
   "execution_count": 157,
   "metadata": {},
   "outputs": [
    {
     "name": "stdout",
     "output_type": "stream",
     "text": [
      "Accuracy score of the model is:  0.5213618157543392\n"
     ]
    },
    {
     "data": {
      "image/png": "[encoded data removed]",
      "text/plain": [
       "<Figure size 432x288 with 2 Axes>"
      ]
     },
     "metadata": {
      "needs_background": "light"
     },
     "output_type": "display_data"
    }
   ],
   "source": [
    "X_test_bin = enc.transform(X_test)\n",
    "y_pred = classifier.predict(X_test_bin)\n",
    "print (\"Accuracy score of the model is: \", accuracy_score(y_test, y_pred))\n",
    "plot_confusion_matrix(classifier, X_test_bin, y_test);"
   ]
  },
  {
   "cell_type": "markdown",
   "metadata": {},
   "source": [
    "### Genetic"
   ]
  },
  {
   "cell_type": "code",
   "execution_count": 99,
   "metadata": {},
   "outputs": [],
   "source": [
    "def initialPopulation(popSize, cityList):\n",
    "    population = []\n",
    "\n",
    "    for i in range(0, popSize):\n",
    "        population.append(createRoute(cityList))\n",
    "    return population"
   ]
  },
  {
   "cell_type": "code",
   "execution_count": 209,
   "metadata": {},
   "outputs": [],
   "source": [
    "n_features = 4\n",
    "n_disc = 256\n",
    "bits = np.log2(n_disc).astype(int)\n",
    "n_tresh = 4\n",
    "\n",
    "chrome = np.zeros(bits * n_tresh * n_features, int)\n",
    "chrome[6] = 1\n",
    "x1 = chrome.reshape(n_features, -1)\n",
    "x2 = x1[0].reshape(n_tresh,-1)\n",
    "\n",
    "bins = np.packbits(x2, axis = 1).reshape(-1)\n"
   ]
  },
  {
   "cell_type": "code",
   "execution_count": 211,
   "metadata": {},
   "outputs": [],
   "source": [
    "tresh_vals = np.linspace(0,1,n_disc)\n",
    "\n",
    "bins = tresh_vals[bins]"
   ]
  },
  {
   "cell_type": "code",
   "execution_count": 172,
   "metadata": {},
   "outputs": [],
   "source": [
    "#Scale the features\n",
    "scaler = MinMaxScaler()\n",
    "X_train = scaler.fit_transform(X_train)\n",
    "X_test = scaler.transform(X_test)"
   ]
  },
  {
   "cell_type": "code",
   "execution_count": 173,
   "metadata": {},
   "outputs": [
    {
     "data": {
      "text/plain": [
       "array([[0.19087894, 0.28352827, 0.61883357, 0.49334333],\n",
       "       [0.16514215, 0.23171076, 0.60419185, 0.48305652],\n",
       "       [0.30605304, 0.2171737 , 0.64028452, 0.52155253],\n",
       "       ...,\n",
       "       [0.45341513, 0.30591555, 0.64742612, 0.50603129],\n",
       "       [0.74782767, 0.49228462, 0.75563318, 0.60344588],\n",
       "       [0.84538498, 0.69083322, 0.81412412, 0.60272442]])"
      ]
     },
     "execution_count": 173,
     "metadata": {},
     "output_type": "execute_result"
    }
   ],
   "source": [
    "X_train"
   ]
  },
  {
   "cell_type": "code",
   "execution_count": 174,
   "metadata": {},
   "outputs": [],
   "source": [
    "data = np.random.random(100)\n",
    "bins = np.linspace(0, 1, 10)\n",
    "digitized = np.digitize(data, bins)"
   ]
  },
  {
   "cell_type": "code",
   "execution_count": 175,
   "metadata": {},
   "outputs": [
    {
     "data": {
      "text/plain": [
       "array([0.62252693, 0.62399913, 0.31888515, 0.57817604, 0.43829736,\n",
       "       0.29917023, 0.95962775, 0.33069726, 0.83775793, 0.57590617,\n",
       "       0.87413715, 0.05310798, 0.02944801, 0.17080539, 0.45972102,\n",
       "       0.56937516, 0.3202481 , 0.50335835, 0.55751551, 0.93839933,\n",
       "       0.81393314, 0.80866751, 0.12477049, 0.50745114, 0.8068992 ,\n",
       "       0.23916304, 0.2261876 , 0.97789647, 0.79039836, 0.07765706,\n",
       "       0.80929517, 0.48447102, 0.69365827, 0.58511303, 0.22208064,\n",
       "       0.68981846, 0.51606513, 0.51503423, 0.68568476, 0.52283777,\n",
       "       0.12569429, 0.88388493, 0.89972218, 0.91006644, 0.71162716,\n",
       "       0.11490882, 0.15198365, 0.38971777, 0.25715744, 0.67024629,\n",
       "       0.97434778, 0.73847416, 0.84123711, 0.58085856, 0.98836698,\n",
       "       0.14880087, 0.66533111, 0.24630906, 0.10664802, 0.84554163,\n",
       "       0.47252435, 0.47142916, 0.63527033, 0.74647661, 0.64606762,\n",
       "       0.81384454, 0.65318221, 0.04721742, 0.50343278, 0.84537598,\n",
       "       0.69301259, 0.25086322, 0.99241854, 0.86412775, 0.81522077,\n",
       "       0.6848985 , 0.27167996, 0.35643892, 0.98378491, 0.13137745,\n",
       "       0.32081257, 0.71287561, 0.10061582, 0.24452899, 0.92690207,\n",
       "       0.08602837, 0.40653329, 0.40576376, 0.03854807, 0.03839651,\n",
       "       0.17946281, 0.33318094, 0.05350842, 0.42310568, 0.08395653,\n",
       "       0.53281308, 0.28448408, 0.07433349, 0.45667816, 0.99242453])"
      ]
     },
     "execution_count": 175,
     "metadata": {},
     "output_type": "execute_result"
    }
   ],
   "source": [
    "data"
   ]
  },
  {
   "cell_type": "code",
   "execution_count": 205,
   "metadata": {},
   "outputs": [
    {
     "data": {
      "text/plain": [
       "array([[0.19087894, 0.28352827, 0.61883357, 0.49334333],\n",
       "       [0.16514215, 0.23171076, 0.60419185, 0.48305652],\n",
       "       [0.30605304, 0.2171737 , 0.64028452, 0.52155253],\n",
       "       ...,\n",
       "       [0.45341513, 0.30591555, 0.64742612, 0.50603129],\n",
       "       [0.74782767, 0.49228462, 0.75563318, 0.60344588],\n",
       "       [0.84538498, 0.69083322, 0.81412412, 0.60272442]])"
      ]
     },
     "execution_count": 205,
     "metadata": {},
     "output_type": "execute_result"
    }
   ],
   "source": [
    "X_train"
   ]
  }
 ],
 "metadata": {
  "kernelspec": {
   "display_name": "t",
   "language": "python",
   "name": "t"
  },
  "language_info": {
   "codemirror_mode": {
    "name": "ipython",
    "version": 3
   },
   "file_extension": ".py",
   "mimetype": "text/x-python",
   "name": "python",
   "nbconvert_exporter": "python",
   "pygments_lexer": "ipython3",
   "version": "3.11.7"
  }
 },
 "nbformat": 4,
 "nbformat_minor": 4
}
