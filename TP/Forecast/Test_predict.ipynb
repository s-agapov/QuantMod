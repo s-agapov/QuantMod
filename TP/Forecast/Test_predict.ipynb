{
 "cells": [
  {
   "cell_type": "code",
   "execution_count": 1,
   "metadata": {},
   "outputs": [],
   "source": [
    "import numpy as np\n",
    "import pandas as pd\n",
    "import sys\n",
    "import os\n",
    "from datetime import datetime\n",
    "\n",
    "sys.path.append(\"..\") \n",
    "\n",
    "\n",
    "from tp_config import *\n",
    "from tp_utils.data_provider import read_prices, read_data\n",
    "\n",
    "import matplotlib.pyplot as plt\n",
    "import seaborn as sns\n",
    "%matplotlib inline"
   ]
  },
  {
   "cell_type": "code",
   "execution_count": null,
   "metadata": {},
   "outputs": [],
   "source": [
    "import numpy as np"
   ]
  },
  {
   "cell_type": "code",
   "execution_count": 19,
   "metadata": {},
   "outputs": [],
   "source": [
    "import os.path\n",
    "import sys\n",
    "import backtrader as bt\n",
    "\n",
    "import matplotlib.pyplot as plt"
   ]
  },
  {
   "cell_type": "code",
   "execution_count": 38,
   "metadata": {},
   "outputs": [],
   "source": [
    "df_raw = read_data('BNB-BTC', '15m', '2021-05-01')\n",
    "df_raw['T'] = df_raw['T'].apply(lambda x: datetime.fromtimestamp(x/1000))\n",
    "df_raw.to_csv('mydata.csv', index = False)\n"
   ]
  },
  {
   "cell_type": "code",
   "execution_count": 12,
   "metadata": {
    "jupyter": {
     "source_hidden": true
    }
   },
   "outputs": [],
   "source": [
    "datapath = 'data/orcl-1995-2014.txt'\n",
    "\n",
    "data = bt.feeds.YahooFinanceCSVData(\n",
    "    dataname=datapath,\n",
    "    fromdate=datetime.datetime(2000,1,1),\n",
    "    todate = datetime.datetime(2000,12,31),\n",
    "    reverse=False)"
   ]
  },
  {
   "cell_type": "code",
   "execution_count": 63,
   "metadata": {},
   "outputs": [],
   "source": [
    "data = bt.feeds.GenericCSVData(\n",
    "    dataname='mydata.csv',\n",
    "       timeframe=bt.TimeFrame.Minutes,\n",
    "    fromdate=datetime(2021, 5, 1),\n",
    "    todate=datetime(2021, 5, 31),\n",
    "\n",
    "    nullvalue=0.0,\n",
    "\n",
    "    dtformat=('%Y-%m-%d %H:%M:%S'),\n",
    "    compression=15,\n",
    "    datetime=0,\n",
    "    high=1,\n",
    "    low=2,\n",
    "    open=3,\n",
    "    close=4,\n",
    "    volume=5,\n",
    "    openinterest=-1\n",
    ")"
   ]
  },
  {
   "cell_type": "code",
   "execution_count": 67,
   "metadata": {},
   "outputs": [],
   "source": [
    "class Strat1_2BD_5BH(bt.Strategy):\n",
    "    \n",
    "    def __init__(self):\n",
    "        self.dataclose= self.datas[0].close    # Keep a reference to the \"close\" line in the data[0] dataseries\n",
    "        self.order = None # Property to keep track of pending orders.  There are no orders when the strategy is initialized.\n",
    "        self.buyprice = None\n",
    "        self.buycomm = None\n",
    "    \n",
    "    \n",
    "    def log(self, txt, dt=None):\n",
    "        # Logging function for the strategy.  'txt' is the statement and 'dt' can be used to specify a specific datetime\n",
    "        dt = dt or self.datas[0].datetime.date(0)\n",
    "        print('{0},{1}'.format(self.data.datetime.datetime(),txt))\n",
    "        #print('{0},{1}'.format(dt.isoformat(),txt))\n",
    "\n",
    "    def notify_order(self, order):\n",
    "        # 1. If order is submitted/accepted, do nothing \n",
    "        if order.status in [order.Submitted, order.Accepted]:\n",
    "            return\n",
    "        # 2. If order is buy/sell executed, report price executed\n",
    "        if order.status in [order.Completed]: \n",
    "            if order.isbuy():\n",
    "                self.log('BUY EXECUTED, Price: {0:8.5f}, Cost: {1:8.5f}, Comm: {2:8.5f}'.format(\n",
    "                    order.executed.price,\n",
    "                    order.executed.value,\n",
    "                    order.executed.comm))\n",
    "                \n",
    "                self.buyprice = order.executed.price\n",
    "                self.buycomm = order.executed.comm\n",
    "            else:\n",
    "                self.log('SELL EXECUTED, {0:8.5f}, Cost: {1:8.5f}, Comm{2:8.5f}'.format(\n",
    "                    order.executed.price, \n",
    "                    order.executed.value,\n",
    "                    order.executed.comm))\n",
    "            \n",
    "            self.bar_executed = len(self) #when was trade executed\n",
    "        # 3. If order is canceled/margin/rejected, report order canceled\n",
    "        elif order.status in [order.Canceled, order.Margin, order.Rejected]:\n",
    "            self.log('Order Canceled/Margin/Rejected')\n",
    "            \n",
    "        self.order = None\n",
    "    \n",
    "    def notify_trade(self,trade):\n",
    "        if not trade.isclosed:\n",
    "            return\n",
    "        \n",
    "        self.log('OPERATION PROFIT, GROSS {0:8.5f}, NET {1:8.5f}'.format(\n",
    "            trade.pnl, trade.pnlcomm))\n",
    "    \n",
    "    def next(self):\n",
    "        # Log the closing prices of the series from the reference\n",
    "        \n",
    "        self.log('Close, {0:8.5f}'.format(self.dataclose[0]))\n",
    "\n",
    "        if self.order: # check if order is pending, if so, then break out\n",
    "            return\n",
    "                \n",
    "        # since there is no order pending, are we in the market?    \n",
    "        if not self.position: # not in the market\n",
    "            if self.dataclose[0] < self.dataclose[-1]:\n",
    "                if self.dataclose[-1] < self.dataclose[-2]:\n",
    "                    self.log('BUY CREATE {0:8.5f}'.format(self.dataclose[0]))\n",
    "                    self.order = self.buy()           \n",
    "        else: # in the market\n",
    "            if len(self) >= (self.bar_executed+5):\n",
    "                self.log('SELL CREATE, {0:8.5f}'.format(self.dataclose[0]))\n",
    "                self.order = self.sell()"
   ]
  },
  {
   "cell_type": "code",
   "execution_count": 68,
   "metadata": {},
   "outputs": [],
   "source": [
    "cerebro = bt.Cerebro()  # We initialize the `cerebro` backtester.\n",
    "cerebro.adddata(data) # We add the dataset in the Data cell.\n",
    "cerebro.addstrategy(Strat1_2BD_5BH) # We add the strategy described in the `Strategy class` cell\n",
    "cerebro.broker.setcash(100000.0) # We set an initial trading capital of $100,000\n",
    "cerebro.broker.setcommission(commission=0.001)"
   ]
  },
  {
   "cell_type": "code",
   "execution_count": null,
   "metadata": {},
   "outputs": [],
   "source": [
    "print('Starting Portfolio Value: {0:8.2f}'.format(cerebro.broker.getvalue()))\n",
    "cerebro.run()\n",
    "print('Final Portfolio Value: {0:8.2f}'.format(cerebro.broker.getvalue()))"
   ]
  },
  {
   "cell_type": "code",
   "execution_count": 16,
   "metadata": {},
   "outputs": [
    {
     "ename": "ImportError",
     "evalue": "cannot import name 'warnings' from 'matplotlib.dates' (D:\\Anaconda\\envs\\t\\lib\\site-packages\\matplotlib\\dates.py)",
     "output_type": "error",
     "traceback": [
      "\u001b[1;31m---------------------------------------------------------------------------\u001b[0m",
      "\u001b[1;31mImportError\u001b[0m                               Traceback (most recent call last)",
      "\u001b[1;32m<ipython-input-16-15590cfce483>\u001b[0m in \u001b[0;36m<module>\u001b[1;34m\u001b[0m\n\u001b[0;32m      1\u001b[0m \u001b[0mget_ipython\u001b[0m\u001b[1;33m(\u001b[0m\u001b[1;33m)\u001b[0m\u001b[1;33m.\u001b[0m\u001b[0mrun_line_magic\u001b[0m\u001b[1;33m(\u001b[0m\u001b[1;34m'matplotlib'\u001b[0m\u001b[1;33m,\u001b[0m \u001b[1;34m'inline'\u001b[0m\u001b[1;33m)\u001b[0m\u001b[1;33m\u001b[0m\u001b[1;33m\u001b[0m\u001b[0m\n\u001b[1;32m----> 2\u001b[1;33m \u001b[0mcerebro\u001b[0m\u001b[1;33m.\u001b[0m\u001b[0mplot\u001b[0m\u001b[1;33m(\u001b[0m\u001b[1;33m)\u001b[0m\u001b[1;33m\u001b[0m\u001b[1;33m\u001b[0m\u001b[0m\n\u001b[0m",
      "\u001b[1;32mD:\\Anaconda\\envs\\t\\lib\\site-packages\\backtrader\\cerebro.py\u001b[0m in \u001b[0;36mplot\u001b[1;34m(self, plotter, numfigs, iplot, start, end, width, height, dpi, tight, use, **kwargs)\u001b[0m\n\u001b[0;32m    972\u001b[0m \u001b[1;33m\u001b[0m\u001b[0m\n\u001b[0;32m    973\u001b[0m         \u001b[1;32mif\u001b[0m \u001b[1;32mnot\u001b[0m \u001b[0mplotter\u001b[0m\u001b[1;33m:\u001b[0m\u001b[1;33m\u001b[0m\u001b[1;33m\u001b[0m\u001b[0m\n\u001b[1;32m--> 974\u001b[1;33m             \u001b[1;32mfrom\u001b[0m \u001b[1;33m.\u001b[0m \u001b[1;32mimport\u001b[0m \u001b[0mplot\u001b[0m\u001b[1;33m\u001b[0m\u001b[1;33m\u001b[0m\u001b[0m\n\u001b[0m\u001b[0;32m    975\u001b[0m             \u001b[1;32mif\u001b[0m \u001b[0mself\u001b[0m\u001b[1;33m.\u001b[0m\u001b[0mp\u001b[0m\u001b[1;33m.\u001b[0m\u001b[0moldsync\u001b[0m\u001b[1;33m:\u001b[0m\u001b[1;33m\u001b[0m\u001b[1;33m\u001b[0m\u001b[0m\n\u001b[0;32m    976\u001b[0m                 \u001b[0mplotter\u001b[0m \u001b[1;33m=\u001b[0m \u001b[0mplot\u001b[0m\u001b[1;33m.\u001b[0m\u001b[0mPlot_OldSync\u001b[0m\u001b[1;33m(\u001b[0m\u001b[1;33m**\u001b[0m\u001b[0mkwargs\u001b[0m\u001b[1;33m)\u001b[0m\u001b[1;33m\u001b[0m\u001b[1;33m\u001b[0m\u001b[0m\n",
      "\u001b[1;32mD:\\Anaconda\\envs\\t\\lib\\site-packages\\backtrader\\plot\\__init__.py\u001b[0m in \u001b[0;36m<module>\u001b[1;34m\u001b[0m\n\u001b[0;32m     40\u001b[0m \u001b[1;33m\u001b[0m\u001b[0m\n\u001b[0;32m     41\u001b[0m \u001b[1;33m\u001b[0m\u001b[0m\n\u001b[1;32m---> 42\u001b[1;33m \u001b[1;32mfrom\u001b[0m \u001b[1;33m.\u001b[0m\u001b[0mplot\u001b[0m \u001b[1;32mimport\u001b[0m \u001b[0mPlot\u001b[0m\u001b[1;33m,\u001b[0m \u001b[0mPlot_OldSync\u001b[0m\u001b[1;33m\u001b[0m\u001b[1;33m\u001b[0m\u001b[0m\n\u001b[0m\u001b[0;32m     43\u001b[0m \u001b[1;32mfrom\u001b[0m \u001b[1;33m.\u001b[0m\u001b[0mscheme\u001b[0m \u001b[1;32mimport\u001b[0m \u001b[0mPlotScheme\u001b[0m\u001b[1;33m\u001b[0m\u001b[1;33m\u001b[0m\u001b[0m\n",
      "\u001b[1;32mD:\\Anaconda\\envs\\t\\lib\\site-packages\\backtrader\\plot\\plot.py\u001b[0m in \u001b[0;36m<module>\u001b[1;34m\u001b[0m\n\u001b[0;32m     42\u001b[0m \u001b[1;32mfrom\u001b[0m \u001b[1;33m.\u001b[0m\u001b[0mfinance\u001b[0m \u001b[1;32mimport\u001b[0m \u001b[0mplot_candlestick\u001b[0m\u001b[1;33m,\u001b[0m \u001b[0mplot_ohlc\u001b[0m\u001b[1;33m,\u001b[0m \u001b[0mplot_volume\u001b[0m\u001b[1;33m,\u001b[0m \u001b[0mplot_lineonclose\u001b[0m\u001b[1;33m\u001b[0m\u001b[1;33m\u001b[0m\u001b[0m\n\u001b[0;32m     43\u001b[0m \u001b[1;32mfrom\u001b[0m \u001b[1;33m.\u001b[0m\u001b[0mformatters\u001b[0m \u001b[1;32mimport\u001b[0m \u001b[1;33m(\u001b[0m\u001b[0mMyVolFormatter\u001b[0m\u001b[1;33m,\u001b[0m \u001b[0mMyDateFormatter\u001b[0m\u001b[1;33m,\u001b[0m \u001b[0mgetlocator\u001b[0m\u001b[1;33m)\u001b[0m\u001b[1;33m\u001b[0m\u001b[1;33m\u001b[0m\u001b[0m\n\u001b[1;32m---> 44\u001b[1;33m \u001b[1;32mfrom\u001b[0m \u001b[1;33m.\u001b[0m \u001b[1;32mimport\u001b[0m \u001b[0mlocator\u001b[0m \u001b[1;32mas\u001b[0m \u001b[0mloc\u001b[0m\u001b[1;33m\u001b[0m\u001b[1;33m\u001b[0m\u001b[0m\n\u001b[0m\u001b[0;32m     45\u001b[0m \u001b[1;32mfrom\u001b[0m \u001b[1;33m.\u001b[0m\u001b[0mmulticursor\u001b[0m \u001b[1;32mimport\u001b[0m \u001b[0mMultiCursor\u001b[0m\u001b[1;33m\u001b[0m\u001b[1;33m\u001b[0m\u001b[0m\n\u001b[0;32m     46\u001b[0m \u001b[1;32mfrom\u001b[0m \u001b[1;33m.\u001b[0m\u001b[0mscheme\u001b[0m \u001b[1;32mimport\u001b[0m \u001b[0mPlotScheme\u001b[0m\u001b[1;33m\u001b[0m\u001b[1;33m\u001b[0m\u001b[0m\n",
      "\u001b[1;32mD:\\Anaconda\\envs\\t\\lib\\site-packages\\backtrader\\plot\\locator.py\u001b[0m in \u001b[0;36m<module>\u001b[1;34m\u001b[0m\n\u001b[0;32m     33\u001b[0m \u001b[1;32mfrom\u001b[0m \u001b[0mmatplotlib\u001b[0m\u001b[1;33m.\u001b[0m\u001b[0mdates\u001b[0m \u001b[1;32mimport\u001b[0m \u001b[0mAutoDateFormatter\u001b[0m \u001b[1;32mas\u001b[0m \u001b[0mADFormatter\u001b[0m\u001b[1;33m\u001b[0m\u001b[1;33m\u001b[0m\u001b[0m\n\u001b[0;32m     34\u001b[0m \u001b[1;33m\u001b[0m\u001b[0m\n\u001b[1;32m---> 35\u001b[1;33m from matplotlib.dates import (HOURS_PER_DAY, MIN_PER_HOUR, SEC_PER_MIN,\n\u001b[0m\u001b[0;32m     36\u001b[0m                               \u001b[0mMONTHS_PER_YEAR\u001b[0m\u001b[1;33m,\u001b[0m \u001b[0mDAYS_PER_WEEK\u001b[0m\u001b[1;33m,\u001b[0m\u001b[1;33m\u001b[0m\u001b[1;33m\u001b[0m\u001b[0m\n\u001b[0;32m     37\u001b[0m                               \u001b[0mSEC_PER_HOUR\u001b[0m\u001b[1;33m,\u001b[0m \u001b[0mSEC_PER_DAY\u001b[0m\u001b[1;33m,\u001b[0m\u001b[1;33m\u001b[0m\u001b[1;33m\u001b[0m\u001b[0m\n",
      "\u001b[1;31mImportError\u001b[0m: cannot import name 'warnings' from 'matplotlib.dates' (D:\\Anaconda\\envs\\t\\lib\\site-packages\\matplotlib\\dates.py)"
     ]
    }
   ],
   "source": [
    "%matplotlib inline\n",
    "cerebro.plot()\n"
   ]
  },
  {
   "cell_type": "markdown",
   "metadata": {},
   "source": [
    "## $P(p)*7.99 -P(n)*11.99 \\le 0$\n",
    "\n",
    "## $\\frac{7.99} {11.99} \\le \\frac{1-P(p)}{P(p)}$\n",
    "\n",
    "## $\\frac{11.99} {19.98} \\le P(p)$"
   ]
  },
  {
   "cell_type": "code",
   "execution_count": 2,
   "metadata": {},
   "outputs": [],
   "source": [
    "init_data = {'exchange_commission': 0.075, #percent\n",
    "             'start_capital'     : 1,\n",
    "             'buy_correction'    : 1.0001,\n",
    "             'sell_correction'   : 0.9999\n",
    "            }  \n",
    "\n",
    "\n",
    "def create_X(prices):\n",
    "    pass\n",
    "def create_Y(prices):\n",
    "    pass\n",
    "    \n",
    "def train():\n",
    "    pass\n",
    "def train_opt():\n",
    "    pass\n",
    "def train_holdout():\n",
    "    pass\n",
    "def train_walkforward():\n",
    "    pass\n",
    "def signals():\n",
    "    pass\n",
    "    "
   ]
  },
  {
   "cell_type": "code",
   "execution_count": 63,
   "metadata": {},
   "outputs": [
    {
     "data": {
      "text/plain": [
       "0.6001001001001001"
      ]
     },
     "execution_count": 63,
     "metadata": {},
     "output_type": "execute_result"
    }
   ],
   "source": [
    "11.99/19.98"
   ]
  },
  {
   "cell_type": "code",
   "execution_count": 48,
   "metadata": {},
   "outputs": [],
   "source": [
    "from glob import glob\n",
    "\n",
    "pair = 'USDT'\n",
    "asset = 'ETH-USDT'\n",
    "tf = '5m'\n",
    "\n",
    "data_path = DATA_PATH_CRYPTO + '/' + pair\n",
    "\n",
    "df_raw = read_data(asset, tf, '2020-05-01')\n",
    "df_raw = df_raw.reset_index(drop = True)"
   ]
  },
  {
   "cell_type": "code",
   "execution_count": null,
   "metadata": {},
   "outputs": [],
   "source": []
  },
  {
   "cell_type": "code",
   "execution_count": 47,
   "metadata": {},
   "outputs": [],
   "source": []
  },
  {
   "cell_type": "code",
   "execution_count": 86,
   "metadata": {},
   "outputs": [],
   "source": []
  },
  {
   "cell_type": "code",
   "execution_count": null,
   "metadata": {},
   "outputs": [],
   "source": []
  },
  {
   "cell_type": "code",
   "execution_count": 49,
   "metadata": {},
   "outputs": [],
   "source": [
    "fast_window = 12\n",
    "slow_window = 26\n",
    "signal_window = 9\n",
    "ticks = df_raw['C'].values\n",
    "macd, macd_signal, macd_hist = talib.MACD(ticks, fast_window, slow_window, signal_window)"
   ]
  },
  {
   "cell_type": "code",
   "execution_count": 73,
   "metadata": {},
   "outputs": [],
   "source": [
    "X = pd.DataFrame()\n",
    "\n",
    "def macd_add(name, vec):\n",
    "    X[name] = vec\n",
    "    for i in range(1,6):\n",
    "        col_name = name + '_' + str(i).zfill(2)\n",
    "        X[col_name] = X[name].shift(i)\n",
    "\n",
    "macd_add('macd', macd)\n",
    "macd_add('macd_signal', macd_signal)\n",
    "macd_add('macd_hist', macd_hist)      "
   ]
  },
  {
   "cell_type": "code",
   "execution_count": 74,
   "metadata": {},
   "outputs": [],
   "source": [
    "def trend_indicator():\n",
    "    X['trend'] = (talib.EMA(ticks, 200) - ticks) /ticks\n",
    "X = X.dropna()    "
   ]
  },
  {
   "cell_type": "code",
   "execution_count": 75,
   "metadata": {},
   "outputs": [],
   "source": [
    "def targets(df1, n=30, lower=-0.5,upper=0.5):\n",
    "    Cumulated_boundary=[]\n",
    "    for i in range(1,n+1):\n",
    "        first_name='DiffClose'+str(i)\n",
    "        second_name='DiffMin'+str(i)\n",
    "        df1[first_name]=df1['C'].diff(i).shift(-i).fillna(0)/df_raw['C']*100\n",
    "        df1[second_name]=np.where((df1[first_name]<lower) | (df1[first_name]>upper), i, n)\n",
    "        Cumulated_boundary.append(second_name)\n",
    "    df1['Period']=df1[Cumulated_boundary].min(axis=1)\n",
    "    df1['Outcome']=df1.apply(lambda x:x['DiffClose'+str(x['Period']).split('.')[0]],axis=1)\n",
    "    return df1"
   ]
  },
  {
   "cell_type": "code",
   "execution_count": 76,
   "metadata": {},
   "outputs": [],
   "source": [
    "look_ahead = 30\n",
    "X = X.iloc[:-look_ahead]\n",
    "Y = targets(df_raw, look_ahead).iloc[X.index]"
   ]
  },
  {
   "cell_type": "code",
   "execution_count": 77,
   "metadata": {},
   "outputs": [
    {
     "data": {
      "text/plain": [
       "<matplotlib.axes._subplots.AxesSubplot at 0x1dcb74c0940>"
      ]
     },
     "execution_count": 77,
     "metadata": {},
     "output_type": "execute_result"
    },
    {
     "data": {
      "image/png": "[encoded data removed]",
      "text/plain": [
       "<Figure size 432x288 with 1 Axes>"
      ]
     },
     "metadata": {},
     "output_type": "display_data"
    }
   ],
   "source": [
    "def labels(x):\n",
    "    if x >= 0.5:\n",
    "        res = 1\n",
    "    else:\n",
    "        res = 0\n",
    "    return res\n",
    "\n",
    "y = Y['Outcome'].apply(labels)\n",
    "y.hist()"
   ]
  },
  {
   "cell_type": "code",
   "execution_count": null,
   "metadata": {},
   "outputs": [],
   "source": []
  },
  {
   "cell_type": "code",
   "execution_count": null,
   "metadata": {},
   "outputs": [],
   "source": []
  },
  {
   "cell_type": "code",
   "execution_count": 78,
   "metadata": {},
   "outputs": [],
   "source": [
    "from sklearn.preprocessing import StandardScaler\n",
    "from sklearn.metrics import confusion_matrix\n",
    "from sklearn.metrics import matthews_corrcoef as MCC\n",
    "from sklearn.model_selection import train_test_split\n",
    "\n",
    "X_train, X_test, y_train, y_test = train_test_split(X, y)\n",
    "sc = StandardScaler()\n",
    "X_train = sc.fit_transform(X_train)\n",
    "X_test = sc.transform(X_test)"
   ]
  },
  {
   "cell_type": "code",
   "execution_count": 79,
   "metadata": {},
   "outputs": [],
   "source": [
    "from sklearn.ensemble import RandomForestClassifier\n",
    "\n",
    "clf = RandomForestClassifier(\n",
    "    max_depth=2,\n",
    "    min_samples_leaf=400,\n",
    "    max_features=2,\n",
    "    min_samples_split=4,\n",
    "    n_estimators=1000,\n",
    ")\n",
    "clf = clf.fit(X_train, y_train)\n",
    "y_pred = clf.predict(X_test)"
   ]
  },
  {
   "cell_type": "code",
   "execution_count": 80,
   "metadata": {},
   "outputs": [
    {
     "data": {
      "text/plain": [
       "0.03916799702393075"
      ]
     },
     "execution_count": 80,
     "metadata": {},
     "output_type": "execute_result"
    },
    {
     "data": {
      "image/png": "[encoded data removed]",
      "text/plain": [
       "<Figure size 432x288 with 2 Axes>"
      ]
     },
     "metadata": {},
     "output_type": "display_data"
    }
   ],
   "source": [
    "cm = confusion_matrix(y_test, y_pred)\n",
    "sns.heatmap(cm, annot=True, fmt=\"d\")\n",
    "MCC(y_test, y_pred)"
   ]
  },
  {
   "cell_type": "code",
   "execution_count": 93,
   "metadata": {},
   "outputs": [
    {
     "data": {
      "text/plain": [
       "(2553,)"
      ]
     },
     "execution_count": 93,
     "metadata": {},
     "output_type": "execute_result"
    }
   ],
   "source": [
    "pp = clf.predict_proba(X_test)\n",
    "good_pp = pp[predictions_proba > 0.60]\n",
    "good_pp.shape"
   ]
  },
  {
   "cell_type": "code",
   "execution_count": 81,
   "metadata": {},
   "outputs": [
    {
     "data": {
      "image/png": "[encoded data removed]",
      "text/plain": [
       "<Figure size 864x504 with 1 Axes>"
      ]
     },
     "metadata": {},
     "output_type": "display_data"
    }
   ],
   "source": [
    "#conditional probability\n",
    "predictions_proba = clf.predict_proba(X_test)\n",
    "predictions_probability = pd.concat(\n",
    "    [pd.DataFrame(predictions_proba), pd.DataFrame(y_test.values)], axis=1\n",
    ")\n",
    "predictions_probability.columns = [\"prob_0\", \"prob_1\", \"result\"]\n",
    "\n",
    "predictions = clf.predict(X_test)\n",
    "predictions_1 = pd.concat([pd.DataFrame(predictions), pd.DataFrame(y_test)], axis=1)\n",
    "predictions_1.columns = [\"prediction\", \"result\"]\n",
    "Results = pd.DataFrame([], columns=[\"P(p)>\", \"Success rate\", \"Quantity\"])\n",
    "for i in range(1, 10):\n",
    "    P_p = np.round(0.48 + i / 50, 2)\n",
    "\n",
    "    Quantity = len(\n",
    "        (\n",
    "            predictions_probability[\n",
    "                predictions_probability[\"prob_1\"] >= (0.48 + (i / 50))\n",
    "            ]\n",
    "        )\n",
    "    )\n",
    "    if Quantity == 0:\n",
    "        break\n",
    "    Success_rate = np.round(\n",
    "        (\n",
    "            predictions_probability[\n",
    "                predictions_probability[\"prob_1\"] >= (0.48 + (i / 50))\n",
    "            ][\"result\"]\n",
    "        ).sum()\n",
    "        / len(\n",
    "            (\n",
    "                predictions_probability[\n",
    "                    predictions_probability[\"prob_1\"] >= (0.48 + (i / 50))\n",
    "                ]\n",
    "            )\n",
    "        ),\n",
    "        3,\n",
    "    )\n",
    "    Results = Results.append(\n",
    "        {\"P(p)>\": P_p, \"Success rate\": Success_rate, \"Quantity\": Quantity},\n",
    "        ignore_index=True,\n",
    "    )\n",
    "plt.figure(figsize=(12, 7))\n",
    "sns.set(font_scale=1.3)\n",
    "g = sns.barplot(data=Results, x=\"P(p)>\", y=\"Success rate\", palette=\"Pastel1\")\n",
    "plt.ylim(0.5, 0.75)\n",
    "for index, row in Results.iterrows():\n",
    "    g.text(\n",
    "        row.name,\n",
    "        row[\"Success rate\"],\n",
    "        int(row.Quantity),\n",
    "        fontsize=20,\n",
    "        color=\"black\",\n",
    "        ha=\"center\",\n",
    "    )"
   ]
  },
  {
   "cell_type": "code",
   "execution_count": 4,
   "metadata": {},
   "outputs": [],
   "source": [
    "def count_drop(numbers):\n",
    "    return len([x for x in numbers if x < 0])\n",
    "\n",
    "def count_up(numbers):\n",
    "    return len([x for x in numbers if x > 0])\n",
    "  \n",
    "def actual_calc(row):\n",
    "    if row['Open'] > row['Adj Close']:\n",
    "        return 0\n",
    "    return 1\n",
    "  \n",
    "\n",
    "df  = df_raw[df_raw['T'] < 1583798400000].copy()\n",
    "df['Diff'] =  (df['C'].shift(-1) - df['C'])\n",
    "df['Change'] = df['Diff'].shift(1)\n",
    "\n",
    "\n",
    "#df.columns = ['T', 'Open', 'High', 'Low', 'Close', 'Volume']\n",
    "\n",
    "#df['Adj Close'] = df['Close']    \n",
    "#df['Open 2'] = df['Open'].shift(1)\n",
    "df['Max_7'] = df['C'].rolling(7).max()\n",
    "df['Min_7'] = df['C'].rolling(7).min()\n",
    "df['Mean_Change_7'] = df['Change'].rolling(7).mean()\n",
    "df['Drop_7'] = df['Change'].rolling(7).apply(count_drop)\n",
    "df['Up_7'] = df['Change'].rolling(7).apply(count_up)\n",
    "df['Target'] = (df['Diff'] > 0).astype(int)"
   ]
  },
  {
   "cell_type": "code",
   "execution_count": 317,
   "metadata": {},
   "outputs": [
    {
     "data": {
      "text/html": [
       "<div>\n",
       "<style scoped>\n",
       "    .dataframe tbody tr th:only-of-type {\n",
       "        vertical-align: middle;\n",
       "    }\n",
       "\n",
       "    .dataframe tbody tr th {\n",
       "        vertical-align: top;\n",
       "    }\n",
       "\n",
       "    .dataframe thead th {\n",
       "        text-align: right;\n",
       "    }\n",
       "</style>\n",
       "<table border=\"1\" class=\"dataframe\">\n",
       "  <thead>\n",
       "    <tr style=\"text-align: right;\">\n",
       "      <th></th>\n",
       "      <th>T</th>\n",
       "      <th>O</th>\n",
       "      <th>H</th>\n",
       "      <th>L</th>\n",
       "      <th>C</th>\n",
       "      <th>V</th>\n",
       "      <th>Diff</th>\n",
       "      <th>Change</th>\n",
       "      <th>Max_7</th>\n",
       "      <th>Min_7</th>\n",
       "      <th>Mean_Change_7</th>\n",
       "      <th>Drop_7</th>\n",
       "      <th>Up_7</th>\n",
       "      <th>Target</th>\n",
       "    </tr>\n",
       "  </thead>\n",
       "  <tbody>\n",
       "    <tr>\n",
       "      <th>0</th>\n",
       "      <td>1547632800000</td>\n",
       "      <td>0.5355</td>\n",
       "      <td>0.5355</td>\n",
       "      <td>0.5050</td>\n",
       "      <td>0.5146</td>\n",
       "      <td>24874.41</td>\n",
       "      <td>-0.0080</td>\n",
       "      <td>NaN</td>\n",
       "      <td>NaN</td>\n",
       "      <td>NaN</td>\n",
       "      <td>NaN</td>\n",
       "      <td>NaN</td>\n",
       "      <td>NaN</td>\n",
       "      <td>0</td>\n",
       "    </tr>\n",
       "    <tr>\n",
       "      <th>1</th>\n",
       "      <td>1547634600000</td>\n",
       "      <td>0.5146</td>\n",
       "      <td>0.5260</td>\n",
       "      <td>0.5003</td>\n",
       "      <td>0.5066</td>\n",
       "      <td>38490.92</td>\n",
       "      <td>0.0034</td>\n",
       "      <td>-0.0080</td>\n",
       "      <td>NaN</td>\n",
       "      <td>NaN</td>\n",
       "      <td>NaN</td>\n",
       "      <td>NaN</td>\n",
       "      <td>NaN</td>\n",
       "      <td>1</td>\n",
       "    </tr>\n",
       "    <tr>\n",
       "      <th>2</th>\n",
       "      <td>1547636400000</td>\n",
       "      <td>0.5146</td>\n",
       "      <td>0.5162</td>\n",
       "      <td>0.5082</td>\n",
       "      <td>0.5100</td>\n",
       "      <td>7277.02</td>\n",
       "      <td>-0.0120</td>\n",
       "      <td>0.0034</td>\n",
       "      <td>NaN</td>\n",
       "      <td>NaN</td>\n",
       "      <td>NaN</td>\n",
       "      <td>NaN</td>\n",
       "      <td>NaN</td>\n",
       "      <td>0</td>\n",
       "    </tr>\n",
       "    <tr>\n",
       "      <th>3</th>\n",
       "      <td>1547638200000</td>\n",
       "      <td>0.5080</td>\n",
       "      <td>0.5099</td>\n",
       "      <td>0.4980</td>\n",
       "      <td>0.4980</td>\n",
       "      <td>145952.68</td>\n",
       "      <td>-0.0088</td>\n",
       "      <td>-0.0120</td>\n",
       "      <td>NaN</td>\n",
       "      <td>NaN</td>\n",
       "      <td>NaN</td>\n",
       "      <td>NaN</td>\n",
       "      <td>NaN</td>\n",
       "      <td>0</td>\n",
       "    </tr>\n",
       "    <tr>\n",
       "      <th>4</th>\n",
       "      <td>1547640000000</td>\n",
       "      <td>0.4980</td>\n",
       "      <td>0.5021</td>\n",
       "      <td>0.4846</td>\n",
       "      <td>0.4892</td>\n",
       "      <td>149928.45</td>\n",
       "      <td>-0.0005</td>\n",
       "      <td>-0.0088</td>\n",
       "      <td>NaN</td>\n",
       "      <td>NaN</td>\n",
       "      <td>NaN</td>\n",
       "      <td>NaN</td>\n",
       "      <td>NaN</td>\n",
       "      <td>0</td>\n",
       "    </tr>\n",
       "    <tr>\n",
       "      <th>5</th>\n",
       "      <td>1547641800000</td>\n",
       "      <td>0.4892</td>\n",
       "      <td>0.4920</td>\n",
       "      <td>0.4836</td>\n",
       "      <td>0.4887</td>\n",
       "      <td>35174.33</td>\n",
       "      <td>-0.0010</td>\n",
       "      <td>-0.0005</td>\n",
       "      <td>NaN</td>\n",
       "      <td>NaN</td>\n",
       "      <td>NaN</td>\n",
       "      <td>NaN</td>\n",
       "      <td>NaN</td>\n",
       "      <td>0</td>\n",
       "    </tr>\n",
       "    <tr>\n",
       "      <th>6</th>\n",
       "      <td>1547643600000</td>\n",
       "      <td>0.4887</td>\n",
       "      <td>0.4896</td>\n",
       "      <td>0.4875</td>\n",
       "      <td>0.4877</td>\n",
       "      <td>19991.99</td>\n",
       "      <td>-0.0008</td>\n",
       "      <td>-0.0010</td>\n",
       "      <td>0.5146</td>\n",
       "      <td>0.4877</td>\n",
       "      <td>NaN</td>\n",
       "      <td>NaN</td>\n",
       "      <td>NaN</td>\n",
       "      <td>0</td>\n",
       "    </tr>\n",
       "    <tr>\n",
       "      <th>7</th>\n",
       "      <td>1547645400000</td>\n",
       "      <td>0.4877</td>\n",
       "      <td>0.4973</td>\n",
       "      <td>0.4869</td>\n",
       "      <td>0.4869</td>\n",
       "      <td>47061.34</td>\n",
       "      <td>-0.0119</td>\n",
       "      <td>-0.0008</td>\n",
       "      <td>0.5100</td>\n",
       "      <td>0.4869</td>\n",
       "      <td>-0.003957</td>\n",
       "      <td>6.0</td>\n",
       "      <td>1.0</td>\n",
       "      <td>0</td>\n",
       "    </tr>\n",
       "    <tr>\n",
       "      <th>8</th>\n",
       "      <td>1547647200000</td>\n",
       "      <td>0.4914</td>\n",
       "      <td>0.4920</td>\n",
       "      <td>0.4668</td>\n",
       "      <td>0.4750</td>\n",
       "      <td>111302.96</td>\n",
       "      <td>-0.0004</td>\n",
       "      <td>-0.0119</td>\n",
       "      <td>0.5100</td>\n",
       "      <td>0.4750</td>\n",
       "      <td>-0.004514</td>\n",
       "      <td>6.0</td>\n",
       "      <td>1.0</td>\n",
       "      <td>0</td>\n",
       "    </tr>\n",
       "    <tr>\n",
       "      <th>9</th>\n",
       "      <td>1547649000000</td>\n",
       "      <td>0.4750</td>\n",
       "      <td>0.4807</td>\n",
       "      <td>0.4730</td>\n",
       "      <td>0.4746</td>\n",
       "      <td>56706.34</td>\n",
       "      <td>0.0084</td>\n",
       "      <td>-0.0004</td>\n",
       "      <td>0.4980</td>\n",
       "      <td>0.4746</td>\n",
       "      <td>-0.005057</td>\n",
       "      <td>7.0</td>\n",
       "      <td>0.0</td>\n",
       "      <td>1</td>\n",
       "    </tr>\n",
       "  </tbody>\n",
       "</table>\n",
       "</div>"
      ],
      "text/plain": [
       "               T       O       H       L       C          V    Diff  Change  \\\n",
       "0  1547632800000  0.5355  0.5355  0.5050  0.5146   24874.41 -0.0080     NaN   \n",
       "1  1547634600000  0.5146  0.5260  0.5003  0.5066   38490.92  0.0034 -0.0080   \n",
       "2  1547636400000  0.5146  0.5162  0.5082  0.5100    7277.02 -0.0120  0.0034   \n",
       "3  1547638200000  0.5080  0.5099  0.4980  0.4980  145952.68 -0.0088 -0.0120   \n",
       "4  1547640000000  0.4980  0.5021  0.4846  0.4892  149928.45 -0.0005 -0.0088   \n",
       "5  1547641800000  0.4892  0.4920  0.4836  0.4887   35174.33 -0.0010 -0.0005   \n",
       "6  1547643600000  0.4887  0.4896  0.4875  0.4877   19991.99 -0.0008 -0.0010   \n",
       "7  1547645400000  0.4877  0.4973  0.4869  0.4869   47061.34 -0.0119 -0.0008   \n",
       "8  1547647200000  0.4914  0.4920  0.4668  0.4750  111302.96 -0.0004 -0.0119   \n",
       "9  1547649000000  0.4750  0.4807  0.4730  0.4746   56706.34  0.0084 -0.0004   \n",
       "\n",
       "    Max_7   Min_7  Mean_Change_7  Drop_7  Up_7  Target  \n",
       "0     NaN     NaN            NaN     NaN   NaN       0  \n",
       "1     NaN     NaN            NaN     NaN   NaN       1  \n",
       "2     NaN     NaN            NaN     NaN   NaN       0  \n",
       "3     NaN     NaN            NaN     NaN   NaN       0  \n",
       "4     NaN     NaN            NaN     NaN   NaN       0  \n",
       "5     NaN     NaN            NaN     NaN   NaN       0  \n",
       "6  0.5146  0.4877            NaN     NaN   NaN       0  \n",
       "7  0.5100  0.4869      -0.003957     6.0   1.0       0  \n",
       "8  0.5100  0.4750      -0.004514     6.0   1.0       0  \n",
       "9  0.4980  0.4746      -0.005057     7.0   0.0       1  "
      ]
     },
     "execution_count": 317,
     "metadata": {},
     "output_type": "execute_result"
    }
   ],
   "source": [
    "df.head(10)"
   ]
  },
  {
   "cell_type": "code",
   "execution_count": 318,
   "metadata": {},
   "outputs": [],
   "source": [
    "df = df.iloc[8:-1] \n",
    "dfx = df.drop(['T', 'Diff'], axis = 1)"
   ]
  },
  {
   "cell_type": "code",
   "execution_count": 319,
   "metadata": {},
   "outputs": [],
   "source": [
    "X = dfx[dfx.columns[:-1]]\n",
    "y = dfx['Target']\n",
    "\n",
    "X_train, X_test, y_train, y_test = train_test_split(X, y, test_size=0.20)"
   ]
  },
  {
   "cell_type": "code",
   "execution_count": 320,
   "metadata": {},
   "outputs": [
    {
     "data": {
      "text/html": [
       "<div>\n",
       "<style scoped>\n",
       "    .dataframe tbody tr th:only-of-type {\n",
       "        vertical-align: middle;\n",
       "    }\n",
       "\n",
       "    .dataframe tbody tr th {\n",
       "        vertical-align: top;\n",
       "    }\n",
       "\n",
       "    .dataframe thead th {\n",
       "        text-align: right;\n",
       "    }\n",
       "</style>\n",
       "<table border=\"1\" class=\"dataframe\">\n",
       "  <thead>\n",
       "    <tr style=\"text-align: right;\">\n",
       "      <th></th>\n",
       "      <th>O</th>\n",
       "      <th>H</th>\n",
       "      <th>L</th>\n",
       "      <th>C</th>\n",
       "      <th>V</th>\n",
       "      <th>Change</th>\n",
       "      <th>Max_7</th>\n",
       "      <th>Min_7</th>\n",
       "      <th>Mean_Change_7</th>\n",
       "      <th>Drop_7</th>\n",
       "      <th>Up_7</th>\n",
       "    </tr>\n",
       "  </thead>\n",
       "  <tbody>\n",
       "    <tr>\n",
       "      <th>8</th>\n",
       "      <td>0.4914</td>\n",
       "      <td>0.4920</td>\n",
       "      <td>0.4668</td>\n",
       "      <td>0.4750</td>\n",
       "      <td>111302.96</td>\n",
       "      <td>-0.0119</td>\n",
       "      <td>0.5100</td>\n",
       "      <td>0.4750</td>\n",
       "      <td>-0.004514</td>\n",
       "      <td>6.0</td>\n",
       "      <td>1.0</td>\n",
       "    </tr>\n",
       "    <tr>\n",
       "      <th>9</th>\n",
       "      <td>0.4750</td>\n",
       "      <td>0.4807</td>\n",
       "      <td>0.4730</td>\n",
       "      <td>0.4746</td>\n",
       "      <td>56706.34</td>\n",
       "      <td>-0.0004</td>\n",
       "      <td>0.4980</td>\n",
       "      <td>0.4746</td>\n",
       "      <td>-0.005057</td>\n",
       "      <td>7.0</td>\n",
       "      <td>0.0</td>\n",
       "    </tr>\n",
       "    <tr>\n",
       "      <th>10</th>\n",
       "      <td>0.4760</td>\n",
       "      <td>0.4845</td>\n",
       "      <td>0.4760</td>\n",
       "      <td>0.4830</td>\n",
       "      <td>24642.28</td>\n",
       "      <td>0.0084</td>\n",
       "      <td>0.4892</td>\n",
       "      <td>0.4746</td>\n",
       "      <td>-0.002143</td>\n",
       "      <td>6.0</td>\n",
       "      <td>1.0</td>\n",
       "    </tr>\n",
       "    <tr>\n",
       "      <th>11</th>\n",
       "      <td>0.4832</td>\n",
       "      <td>0.4840</td>\n",
       "      <td>0.4768</td>\n",
       "      <td>0.4790</td>\n",
       "      <td>59353.96</td>\n",
       "      <td>-0.0040</td>\n",
       "      <td>0.4887</td>\n",
       "      <td>0.4746</td>\n",
       "      <td>-0.001457</td>\n",
       "      <td>6.0</td>\n",
       "      <td>1.0</td>\n",
       "    </tr>\n",
       "    <tr>\n",
       "      <th>12</th>\n",
       "      <td>0.4782</td>\n",
       "      <td>0.4821</td>\n",
       "      <td>0.4677</td>\n",
       "      <td>0.4746</td>\n",
       "      <td>61272.84</td>\n",
       "      <td>-0.0044</td>\n",
       "      <td>0.4877</td>\n",
       "      <td>0.4746</td>\n",
       "      <td>-0.002014</td>\n",
       "      <td>6.0</td>\n",
       "      <td>1.0</td>\n",
       "    </tr>\n",
       "    <tr>\n",
       "      <th>...</th>\n",
       "      <td>...</td>\n",
       "      <td>...</td>\n",
       "      <td>...</td>\n",
       "      <td>...</td>\n",
       "      <td>...</td>\n",
       "      <td>...</td>\n",
       "      <td>...</td>\n",
       "      <td>...</td>\n",
       "      <td>...</td>\n",
       "      <td>...</td>\n",
       "      <td>...</td>\n",
       "    </tr>\n",
       "    <tr>\n",
       "      <th>20012</th>\n",
       "      <td>4.0016</td>\n",
       "      <td>4.0176</td>\n",
       "      <td>3.8718</td>\n",
       "      <td>3.9237</td>\n",
       "      <td>463241.70</td>\n",
       "      <td>-0.0819</td>\n",
       "      <td>4.0056</td>\n",
       "      <td>3.9024</td>\n",
       "      <td>0.008043</td>\n",
       "      <td>2.0</td>\n",
       "      <td>5.0</td>\n",
       "    </tr>\n",
       "    <tr>\n",
       "      <th>20013</th>\n",
       "      <td>3.9237</td>\n",
       "      <td>3.9621</td>\n",
       "      <td>3.8740</td>\n",
       "      <td>3.8914</td>\n",
       "      <td>408474.28</td>\n",
       "      <td>-0.0323</td>\n",
       "      <td>4.0056</td>\n",
       "      <td>3.8914</td>\n",
       "      <td>-0.001571</td>\n",
       "      <td>3.0</td>\n",
       "      <td>4.0</td>\n",
       "    </tr>\n",
       "    <tr>\n",
       "      <th>20014</th>\n",
       "      <td>3.8882</td>\n",
       "      <td>3.9621</td>\n",
       "      <td>3.8882</td>\n",
       "      <td>3.9605</td>\n",
       "      <td>298593.12</td>\n",
       "      <td>0.0691</td>\n",
       "      <td>4.0056</td>\n",
       "      <td>3.8914</td>\n",
       "      <td>0.007771</td>\n",
       "      <td>3.0</td>\n",
       "      <td>4.0</td>\n",
       "    </tr>\n",
       "    <tr>\n",
       "      <th>20015</th>\n",
       "      <td>3.9604</td>\n",
       "      <td>4.0147</td>\n",
       "      <td>3.9040</td>\n",
       "      <td>4.0055</td>\n",
       "      <td>397195.91</td>\n",
       "      <td>0.0450</td>\n",
       "      <td>4.0056</td>\n",
       "      <td>3.8914</td>\n",
       "      <td>0.001500</td>\n",
       "      <td>3.0</td>\n",
       "      <td>4.0</td>\n",
       "    </tr>\n",
       "    <tr>\n",
       "      <th>20016</th>\n",
       "      <td>4.0067</td>\n",
       "      <td>4.0300</td>\n",
       "      <td>3.9515</td>\n",
       "      <td>3.9931</td>\n",
       "      <td>494872.06</td>\n",
       "      <td>-0.0124</td>\n",
       "      <td>4.0056</td>\n",
       "      <td>3.8914</td>\n",
       "      <td>-0.000986</td>\n",
       "      <td>4.0</td>\n",
       "      <td>3.0</td>\n",
       "    </tr>\n",
       "  </tbody>\n",
       "</table>\n",
       "<p>20009 rows × 11 columns</p>\n",
       "</div>"
      ],
      "text/plain": [
       "            O       H       L       C          V  Change   Max_7   Min_7  \\\n",
       "8      0.4914  0.4920  0.4668  0.4750  111302.96 -0.0119  0.5100  0.4750   \n",
       "9      0.4750  0.4807  0.4730  0.4746   56706.34 -0.0004  0.4980  0.4746   \n",
       "10     0.4760  0.4845  0.4760  0.4830   24642.28  0.0084  0.4892  0.4746   \n",
       "11     0.4832  0.4840  0.4768  0.4790   59353.96 -0.0040  0.4887  0.4746   \n",
       "12     0.4782  0.4821  0.4677  0.4746   61272.84 -0.0044  0.4877  0.4746   \n",
       "...       ...     ...     ...     ...        ...     ...     ...     ...   \n",
       "20012  4.0016  4.0176  3.8718  3.9237  463241.70 -0.0819  4.0056  3.9024   \n",
       "20013  3.9237  3.9621  3.8740  3.8914  408474.28 -0.0323  4.0056  3.8914   \n",
       "20014  3.8882  3.9621  3.8882  3.9605  298593.12  0.0691  4.0056  3.8914   \n",
       "20015  3.9604  4.0147  3.9040  4.0055  397195.91  0.0450  4.0056  3.8914   \n",
       "20016  4.0067  4.0300  3.9515  3.9931  494872.06 -0.0124  4.0056  3.8914   \n",
       "\n",
       "       Mean_Change_7  Drop_7  Up_7  \n",
       "8          -0.004514     6.0   1.0  \n",
       "9          -0.005057     7.0   0.0  \n",
       "10         -0.002143     6.0   1.0  \n",
       "11         -0.001457     6.0   1.0  \n",
       "12         -0.002014     6.0   1.0  \n",
       "...              ...     ...   ...  \n",
       "20012       0.008043     2.0   5.0  \n",
       "20013      -0.001571     3.0   4.0  \n",
       "20014       0.007771     3.0   4.0  \n",
       "20015       0.001500     3.0   4.0  \n",
       "20016      -0.000986     4.0   3.0  \n",
       "\n",
       "[20009 rows x 11 columns]"
      ]
     },
     "execution_count": 320,
     "metadata": {},
     "output_type": "execute_result"
    }
   ],
   "source": [
    "X"
   ]
  },
  {
   "cell_type": "code",
   "execution_count": 325,
   "metadata": {},
   "outputs": [
    {
     "data": {
      "text/plain": [
       "0.5372313843078461"
      ]
     },
     "execution_count": 325,
     "metadata": {},
     "output_type": "execute_result"
    }
   ],
   "source": [
    "X_train, X_test, y_train, y_test = train_test_split(X, y, test_size=0.20)\n",
    "\n",
    "clf = RandomForestClassifier(max_depth=2)\n",
    "clf.fit(X_train, y_train)\n",
    "\n",
    "# RandomForestClassifier(bootstrap=True, class_weight=None, criterion='gini',\n",
    "#             max_depth=2, max_features='auto', max_leaf_nodes=None,\n",
    "#             min_impurity_decrease=0.0, min_impurity_split=None,\n",
    "#             min_samples_leaf=1, min_samples_split=2,\n",
    "#             min_weight_fraction_leaf=0.0, n_estimators=10, n_jobs=1,\n",
    "#             oob_score=False, random_state=0, verbose=0, warm_start=False)\n",
    "clf.score(X_test, y_test)\n",
    "#0.9390862944162437"
   ]
  },
  {
   "cell_type": "code",
   "execution_count": null,
   "metadata": {},
   "outputs": [],
   "source": []
  },
  {
   "cell_type": "code",
   "execution_count": 190,
   "metadata": {},
   "outputs": [],
   "source": [
    "import keras\n",
    "from keras.layers import Dense, Activation, Dropout\n",
    "from keras.models import Sequential\n",
    "from keras.callbacks import EarlyStopping, ModelCheckpoint\n",
    "\n",
    "from sklearn.model_selection import train_test_split\n",
    "from sklearn.metrics import accuracy_score\n",
    "from sklearn import preprocessing\n",
    "\n",
    "    \n",
    "# Encode text values to indexes(i.e. [1],[2],[3] for red,green,blue).\n",
    "def encode_text_index(df, name):\n",
    "    le = preprocessing.LabelEncoder()\n",
    "    df[name] = le.fit_transform(df[name])\n",
    "    return le.classes_\n",
    "  \n",
    "\n",
    "num_classes = 2\n",
    "y_train = keras.utils.to_categorical(y_train, num_classes)\n",
    "y_test = keras.utils.to_categorical(y_test, num_classes)\n",
    "\n",
    "model = Sequential()\n",
    "model.add(Dense(80, activation='relu', input_dim=X_train.shape[1]))\n",
    "model.add(Dropout(0.3))\n",
    "model.add(Dense(80, activation='relu'))\n",
    "model.add(Dropout(0.3))\n",
    "model.add(Dense(80, activation='relu'))\n",
    "model.add(Dropout(0.3))\n",
    "model.add(Dense(y_train.shape[1],activation='softmax'))\n",
    "\n",
    "#model.compile(optimizer='adam', loss='categorical_crossentropy', metrics=['accuracy'])\n",
    "#model.fit(X_train, y_train, epochs=1000)\n",
    "\n",
    "model.compile(loss='categorical_crossentropy', optimizer='adam')\n",
    "#monitor = EarlyStopping(monitor='val_loss', min_delta=1e-2, patience=25, verbose=1, mode='auto')\n",
    "#checkpointer = ModelCheckpoint(filepath=\"best_weights.hdf5\", verbose=0, save_best_only=True) # save best model"
   ]
  },
  {
   "cell_type": "code",
   "execution_count": 52,
   "metadata": {},
   "outputs": [
    {
     "data": {
      "text/plain": [
       "array([[ 4.14700000e+03,  4.28508000e+03,  4.01600000e+03,\n",
       "        -4.41857143e+00,  4.00000000e+00,  3.00000000e+00],\n",
       "       [ 4.31601000e+03,  4.31601000e+03,  4.01600000e+03,\n",
       "        -2.46200000e+01,  4.00000000e+00,  3.00000000e+00],\n",
       "       [ 4.28071000e+03,  4.31601000e+03,  4.01600000e+03,\n",
       "        -3.02185714e+01,  4.00000000e+00,  3.00000000e+00],\n",
       "       ...,\n",
       "       [ 9.05464000e+03,  9.05464000e+03,  8.52361000e+03,\n",
       "        -6.28700000e+01,  4.00000000e+00,  3.00000000e+00],\n",
       "       [ 9.13089000e+03,  9.13089000e+03,  8.52361000e+03,\n",
       "        -5.16628571e+01,  4.00000000e+00,  3.00000000e+00],\n",
       "       [ 8.88525000e+03,  9.13089000e+03,  8.53030000e+03,\n",
       "         7.07914286e+01,  3.00000000e+00,  4.00000000e+00]])"
      ]
     },
     "execution_count": 52,
     "metadata": {},
     "output_type": "execute_result"
    }
   ],
   "source": [
    "X"
   ]
  },
  {
   "cell_type": "code",
   "execution_count": null,
   "metadata": {},
   "outputs": [],
   "source": [
    "#model.fit(X_train, y_train, validation_data=(X_test, y_test), callbacks=[monitor,checkpointer], verbose=2, epochs=1000)\n",
    "model.fit(X_train, y_train, verbose= 2, epochs = 50)\n",
    "#model.load_weights('best_weights.hdf5') # load weights from best model"
   ]
  },
  {
   "cell_type": "code",
   "execution_count": 194,
   "metadata": {},
   "outputs": [
    {
     "name": "stdout",
     "output_type": "stream",
     "text": [
      "Shape: (8940, 2)\n",
      "[[0.49373305 0.506267  ]\n",
      " [0.49373305 0.506267  ]\n",
      " [0.49373305 0.506267  ]\n",
      " ...\n",
      " [0.49373305 0.506267  ]\n",
      " [0.49373305 0.506267  ]\n",
      " [0.49373305 0.506267  ]]\n",
      "Predictions: [1 1 1 ... 1 1 1]\n",
      "Expected: [0 0 1 ... 0 0 0]\n",
      "Accuracy: 0.5042505592841163\n"
     ]
    }
   ],
   "source": [
    "pred = model.predict(X_test)\n",
    "\n",
    "print(\"Shape: {}\".format(pred.shape))\n",
    "print(pred)\n",
    "\n",
    "# Shape: (591, 2)\n",
    "# [[1.1338343e-02 9.8866165e-01]\n",
    "#  [0.0000000e+00 1.0000000e+00]\n",
    "#  [1.4060745e-05 9.9998593e-01]\n",
    "#  ...\n",
    "#  [7.8182465e-01 2.1817538e-01]\n",
    "#  [0.0000000e+00 1.0000000e+00]\n",
    "#  [3.2087931e-04 9.9967909e-01]]\n",
    "\n",
    "predict_classes = np.argmax(pred,axis=1)\n",
    "print(\"Predictions: {}\".format(predict_classes))\n",
    "print(\"Expected: {}\".format(np.argmax(y_test, axis=1)))\n",
    "y_test_arg = np.argmax(y_test, axis=1)\n",
    "\n",
    "correct = accuracy_score(y_test_arg,predict_classes)\n",
    "print(\"Accuracy: {}\".format(correct))"
   ]
  },
  {
   "cell_type": "code",
   "execution_count": 50,
   "metadata": {},
   "outputs": [],
   "source": [
    "from sklearn.ensemble import RandomForestClassifier"
   ]
  }
 ],
 "metadata": {
  "kernelspec": {
   "display_name": "t",
   "language": "python",
   "name": "t"
  },
  "language_info": {
   "codemirror_mode": {
    "name": "ipython",
    "version": 3
   },
   "file_extension": ".py",
   "mimetype": "text/x-python",
   "name": "python",
   "nbconvert_exporter": "python",
   "pygments_lexer": "ipython3",
   "version": "3.11.7"
  }
 },
 "nbformat": 4,
 "nbformat_minor": 4
}
