{
 "cells": [
  {
   "cell_type": "code",
   "execution_count": 69,
   "metadata": {},
   "outputs": [
    {
     "name": "stderr",
     "output_type": "stream",
     "text": [
      "INFO:finam.export:Fetching https://www.finam.ru/profile/moex-akcii/gazprom/export/\n"
     ]
    },
    {
     "name": "stdout",
     "output_type": "stream",
     "text": [
      "*** Current Russian ruble exchange rates ***\n"
     ]
    },
    {
     "name": "stderr",
     "output_type": "stream",
     "text": [
      "INFO:finam.export:Fetching https://www.finam.ru/cache/N72Hgd54/icharts/icharts.js\n",
      "INFO:finam.export:Processing chunk 1 of 2\n",
      "INFO:finam.export:Fetching http://export.finam.ru/table.csv?d=d&f=table&e=.csv&dtf=1&tmf=3&MSOR=0&mstime=on&mstimever=1&sep=3&sep2=1&at=1&p=8&em=182456&market=45&df=1&mf=0&yf=2007&dt=29&mt=11&yt=2016&cn=USD000000TOD&code=USD000000TOD&datf=5\n",
      "INFO:finam.export:Processing chunk 2 of 2\n",
      "INFO:finam.export:Sleeping for 1 second(s)\n",
      "INFO:finam.export:Fetching http://export.finam.ru/table.csv?d=d&f=table&e=.csv&dtf=1&tmf=3&MSOR=0&mstime=on&mstimever=1&sep=3&sep2=1&at=1&p=8&em=182456&market=45&df=30&mf=11&yf=2016&dt=27&mt=11&yt=2020&cn=USD000000TOD&code=USD000000TOD&datf=5\n",
      "INFO:finam.export:Processing chunk 1 of 2\n",
      "INFO:finam.export:Fetching http://export.finam.ru/table.csv?d=d&f=table&e=.csv&dtf=1&tmf=3&MSOR=0&mstime=on&mstimever=1&sep=3&sep2=1&at=1&p=8&em=19473&market=24&df=1&mf=0&yf=2007&dt=29&mt=11&yt=2016&cn=BZ&code=BZ&datf=5\n"
     ]
    },
    {
     "name": "stdout",
     "output_type": "stream",
     "text": [
      "       <DATE>    <TIME>   <OPEN>  <HIGH>    <LOW>  <CLOSE>       <VOL>\n",
      "945  20201224  00:00:00  75.0025   75.15  74.0375   74.105  1084942000\n",
      "*** Current Brent Oil price ***\n"
     ]
    },
    {
     "name": "stderr",
     "output_type": "stream",
     "text": [
      "INFO:finam.export:Processing chunk 2 of 2\n",
      "INFO:finam.export:Sleeping for 1 second(s)\n",
      "INFO:finam.export:Fetching http://export.finam.ru/table.csv?d=d&f=table&e=.csv&dtf=1&tmf=3&MSOR=0&mstime=on&mstimever=1&sep=3&sep2=1&at=1&p=8&em=19473&market=24&df=30&mf=11&yf=2016&dt=27&mt=11&yt=2020&cn=BZ&code=BZ&datf=5\n"
     ]
    },
    {
     "name": "stdout",
     "output_type": "stream",
     "text": [
      "        <DATE>    <TIME>  <OPEN>  <HIGH>  <LOW>  <CLOSE>  <VOL>\n",
      "1233  20201224  00:00:00   51.11   51.77  50.62     51.3  54926\n"
     ]
    }
   ],
   "source": [
    "import logging\n",
    "from time import sleep\n",
    "from finam import Exporter, Market, LookupComparator, Timeframe\n",
    "\n",
    "\"\"\"\n",
    "Full-on example displaying up-to-date values of some important indicators\n",
    "\"\"\"\n",
    "\n",
    "\n",
    "\n",
    "exporter = Exporter()\n",
    "print('*** Current Russian ruble exchange rates ***')\n",
    "rub = exporter.lookup(name='USDRUB_TOD', market=Market.CURRENCIES)\n",
    "assert len(rub) == 1\n",
    "data = exporter.download(rub.index[0], market=Market.CURRENCIES)\n",
    "print(data.tail(1))\n",
    "\n",
    "print('*** Current Brent Oil price ***')\n",
    "oil = exporter.lookup(name='Brent', market=Market.COMMODITIES,\n",
    "                      name_comparator=LookupComparator.EQUALS)\n",
    "assert len(oil) == 1\n",
    "data = exporter.download(oil.index[0], market=Market.COMMODITIES)\n",
    "print(data.tail(1))"
   ]
  },
  {
   "cell_type": "code",
   "execution_count": 71,
   "metadata": {},
   "outputs": [
    {
     "data": {
      "text/plain": [
       "<Timeframe.MINUTES15: 5>"
      ]
     },
     "execution_count": 71,
     "metadata": {},
     "output_type": "execute_result"
    }
   ],
   "source": [
    "Timeframe.MINUTES15"
   ]
  },
  {
   "cell_type": "code",
   "execution_count": 6,
   "metadata": {},
   "outputs": [
    {
     "name": "stderr",
     "output_type": "stream",
     "text": [
      "INFO:finam.export:Fetching https://www.finam.ru/profile/moex-akcii/gazprom/export/\n"
     ]
    },
    {
     "name": "stdout",
     "output_type": "stream",
     "text": [
      "Market.BONDS\n"
     ]
    },
    {
     "name": "stderr",
     "output_type": "stream",
     "text": [
      "INFO:finam.export:Fetching https://www.finam.ru/cache/N72Hgd54/icharts/icharts.js\n"
     ]
    },
    {
     "name": "stdout",
     "output_type": "stream",
     "text": [
      "Total items: 2120\n",
      "Sample: RU000A0JWU98, RU000A101YD6, RU000A0JWBA7, RU000A102AB8, RU000A0JXYS9\n",
      "Market.COMMODITIES\n",
      "Total items: 136\n",
      "Sample: Brent.22.Feb, Brent.23.Apr, Brent.24.Apr, Brent.22.Dec, Brent.21.Dec\n",
      "Market.CURRENCIES_WORLD\n",
      "Total items: 87\n",
      "Sample: HUFUSD, PLNUSD, HKDUSD, SI, GC\n",
      "Market.CURRENCIES\n",
      "Total items: 149\n",
      "Sample: SLVRUB_TOM, SLVRUBTODTOM, SLVRUB_FWD, SLVRUB_SPT, JPYRUB_TOD\n",
      "Market.ETF\n",
      "Total items: 87\n",
      "Sample: E2TLS, E2IDU, E2FIN, W2UTI, EWK\n",
      "Market.ETF_MOEX\n",
      "Total items: 45\n",
      "Sample: SBCB, FXRW, VTBG, GPBS, FXMM\n",
      "Market.FUTURES\n",
      "Total items: 518\n",
      "Sample: BBG00FB4Y7F6, RUCNTRR, AUDU, RTSS, RUCBTR3YNS\n",
      "Market.FUTURES_ARCHIVE\n",
      "Total items: 4732\n",
      "Sample: SPFB.Si-3.04, RcZ4, SiZ0SiH1, SPFB.Si-3.05, CFH4\n",
      "Market.FUTURES_USA\n",
      "Total items: 5\n",
      "Sample: ES, YM, SX5E, NDX, SP\n",
      "Market.INDEXES\n",
      "Total items: 79\n",
      "Sample: RTSfn, MOEXCN, MOEXTL, MERV, MOEXTN\n",
      "Market.SHARES\n",
      "Total items: 339\n",
      "Sample: MGNZ, SIBN, SNGS, SNGSP, MRSB\n",
      "Market.SPB\n",
      "Total items: 1677\n",
      "Sample: AOUT, APH, DNOW, FOLD, EUFN\n",
      "Market.USA\n",
      "Total items: 1566\n",
      "Sample: YUM, DAL, NGVT, DLX, IR\n"
     ]
    }
   ],
   "source": [
    "SAMPLE_SIZE = 5\n",
    "logging.basicConfig(level=logging.INFO)\n",
    "exporter = Exporter()\n",
    "for market in Market:\n",
    "    #print('{0.name:*^25}'.format(market))\n",
    "    print(market)\n",
    "    items = exporter.lookup(market=market)\n",
    "    print('Total items: {}'.format(len(items)))\n",
    "    print('Sample: {}'.format(', '.join(items['code'][:SAMPLE_SIZE])))"
   ]
  },
  {
   "cell_type": "code",
   "execution_count": 44,
   "metadata": {},
   "outputs": [],
   "source": [
    "shares = exporter.lookup(market=Market.SHARES)"
   ]
  },
  {
   "cell_type": "code",
   "execution_count": 66,
   "metadata": {},
   "outputs": [],
   "source": [
    "xx = shares.code.unique()\n"
   ]
  },
  {
   "cell_type": "code",
   "execution_count": 88,
   "metadata": {},
   "outputs": [],
   "source": [
    "MOEX_path = 'G:/Datasets/Shares/MOEX/15m'"
   ]
  },
  {
   "cell_type": "code",
   "execution_count": 91,
   "metadata": {},
   "outputs": [
    {
     "data": {
      "text/plain": [
       "Timestamp('2020-07-01 00:00:00')"
      ]
     },
     "execution_count": 91,
     "metadata": {},
     "output_type": "execute_result"
    }
   ],
   "source": [
    "import pandas as pd\n",
    "start_date = pd.to_datetime('2020-07-01')\n",
    "start_date"
   ]
  },
  {
   "cell_type": "code",
   "execution_count": 103,
   "metadata": {},
   "outputs": [],
   "source": [
    "from datetime import datetime\n",
    "date_time_str = '2020-07-01'\n",
    "start_date = datetime.strptime(date_time_str, '%Y-%m-%d')\n",
    "start_date = datetime.date(start_date)"
   ]
  },
  {
   "cell_type": "code",
   "execution_count": 92,
   "metadata": {},
   "outputs": [
    {
     "data": {
      "text/plain": [
       "<Timeframe.MINUTES15: 5>"
      ]
     },
     "execution_count": 92,
     "metadata": {},
     "output_type": "execute_result"
    }
   ],
   "source": [
    "Timeframe['MINUTES15']"
   ]
  },
  {
   "cell_type": "code",
   "execution_count": 104,
   "metadata": {},
   "outputs": [
    {
     "name": "stderr",
     "output_type": "stream",
     "text": [
      "INFO:finam.export:Processing chunk 1 of 1\n",
      "INFO:finam.export:Fetching http://export.finam.ru/table.csv?d=d&f=table&e=.csv&dtf=1&tmf=3&MSOR=0&mstime=on&mstimever=1&sep=3&sep2=1&at=1&p=5&em=20892&market=1&df=1&mf=6&yf=2020&dt=27&mt=11&yt=2020&cn=MGNZ&code=MGNZ&datf=5\n"
     ]
    },
    {
     "name": "stdout",
     "output_type": "stream",
     "text": [
      "СМЗ-ао\n"
     ]
    },
    {
     "name": "stderr",
     "output_type": "stream",
     "text": [
      "INFO:finam.export:Processing chunk 1 of 1\n",
      "INFO:finam.export:Fetching http://export.finam.ru/table.csv?d=d&f=table&e=.csv&dtf=1&tmf=3&MSOR=0&mstime=on&mstimever=1&sep=3&sep2=1&at=1&p=5&em=2&market=1&df=1&mf=6&yf=2020&dt=27&mt=11&yt=2020&cn=SIBN&code=SIBN&datf=5\n"
     ]
    },
    {
     "name": "stdout",
     "output_type": "stream",
     "text": [
      "Газпрнефть\n"
     ]
    },
    {
     "name": "stderr",
     "output_type": "stream",
     "text": [
      "INFO:finam.export:Processing chunk 1 of 1\n",
      "INFO:finam.export:Fetching http://export.finam.ru/table.csv?d=d&f=table&e=.csv&dtf=1&tmf=3&MSOR=0&mstime=on&mstimever=1&sep=3&sep2=1&at=1&p=5&em=4&market=1&df=1&mf=6&yf=2020&dt=27&mt=11&yt=2020&cn=SNGS&code=SNGS&datf=5\n"
     ]
    },
    {
     "name": "stdout",
     "output_type": "stream",
     "text": [
      "Сургнфгз\n"
     ]
    },
    {
     "name": "stderr",
     "output_type": "stream",
     "text": [
      "INFO:finam.export:Processing chunk 1 of 1\n",
      "INFO:finam.export:Fetching http://export.finam.ru/table.csv?d=d&f=table&e=.csv&dtf=1&tmf=3&MSOR=0&mstime=on&mstimever=1&sep=3&sep2=1&at=1&p=5&em=13&market=1&df=1&mf=6&yf=2020&dt=27&mt=11&yt=2020&cn=SNGSP&code=SNGSP&datf=5\n"
     ]
    },
    {
     "name": "stdout",
     "output_type": "stream",
     "text": [
      "Сургнфгз-п\n"
     ]
    },
    {
     "name": "stderr",
     "output_type": "stream",
     "text": [
      "INFO:finam.export:Processing chunk 1 of 1\n",
      "INFO:finam.export:Fetching http://export.finam.ru/table.csv?d=d&f=table&e=.csv&dtf=1&tmf=3&MSOR=0&mstime=on&mstimever=1&sep=3&sep2=1&at=1&p=5&em=16359&market=1&df=1&mf=6&yf=2020&dt=27&mt=11&yt=2020&cn=MRSB&code=MRSB&datf=5\n"
     ]
    },
    {
     "name": "stdout",
     "output_type": "stream",
     "text": [
      "МордЭнСб\n"
     ]
    },
    {
     "name": "stderr",
     "output_type": "stream",
     "text": [
      "INFO:finam.export:Processing chunk 1 of 1\n",
      "INFO:finam.export:Fetching http://export.finam.ru/table.csv?d=d&f=table&e=.csv&dtf=1&tmf=3&MSOR=0&mstime=on&mstimever=1&sep=3&sep2=1&at=1&p=5&em=409486&market=1&df=1&mf=6&yf=2020&dt=27&mt=11&yt=2020&cn=IDVP&code=IDVP&datf=5\n"
     ]
    },
    {
     "name": "stdout",
     "output_type": "stream",
     "text": [
      "Инв-Девел\n"
     ]
    },
    {
     "name": "stderr",
     "output_type": "stream",
     "text": [
      "INFO:finam.export:Processing chunk 1 of 1\n",
      "INFO:finam.export:Fetching http://export.finam.ru/table.csv?d=d&f=table&e=.csv&dtf=1&tmf=3&MSOR=0&mstime=on&mstimever=1&sep=3&sep2=1&at=1&p=5&em=81914&market=1&df=1&mf=6&yf=2020&dt=27&mt=11&yt=2020&cn=TANL&code=TANL&datf=5\n"
     ]
    },
    {
     "name": "stdout",
     "output_type": "stream",
     "text": [
      "ТАНТАЛ ао\n"
     ]
    },
    {
     "name": "stderr",
     "output_type": "stream",
     "text": [
      "INFO:finam.export:Processing chunk 1 of 1\n",
      "INFO:finam.export:Fetching http://export.finam.ru/table.csv?d=d&f=table&e=.csv&dtf=1&tmf=3&MSOR=0&mstime=on&mstimever=1&sep=3&sep2=1&at=1&p=5&em=81915&market=1&df=1&mf=6&yf=2020&dt=27&mt=11&yt=2020&cn=TANLP&code=TANLP&datf=5\n"
     ]
    },
    {
     "name": "stdout",
     "output_type": "stream",
     "text": [
      "ТАНТАЛ ап\n"
     ]
    },
    {
     "name": "stderr",
     "output_type": "stream",
     "text": [
      "INFO:finam.export:Processing chunk 1 of 1\n",
      "INFO:finam.export:Fetching http://export.finam.ru/table.csv?d=d&f=table&e=.csv&dtf=1&tmf=3&MSOR=0&mstime=on&mstimever=1&sep=3&sep2=1&at=1&p=5&em=18382&market=1&df=1&mf=6&yf=2020&dt=27&mt=11&yt=2020&cn=TGKA&code=TGKA&datf=5\n"
     ]
    },
    {
     "name": "stdout",
     "output_type": "stream",
     "text": [
      "ТГК-1\n"
     ]
    },
    {
     "name": "stderr",
     "output_type": "stream",
     "text": [
      "INFO:finam.export:Processing chunk 1 of 1\n",
      "INFO:finam.export:Fetching http://export.finam.ru/table.csv?d=d&f=table&e=.csv&dtf=1&tmf=3&MSOR=0&mstime=on&mstimever=1&sep=3&sep2=1&at=1&p=5&em=81944&market=1&df=1&mf=6&yf=2020&dt=27&mt=11&yt=2020&cn=MORI&code=MORI&datf=5\n"
     ]
    },
    {
     "name": "stdout",
     "output_type": "stream",
     "text": [
      "Морион ао\n"
     ]
    },
    {
     "name": "stderr",
     "output_type": "stream",
     "text": [
      "INFO:finam.export:Processing chunk 1 of 1\n",
      "INFO:finam.export:Fetching http://export.finam.ru/table.csv?d=d&f=table&e=.csv&dtf=1&tmf=3&MSOR=0&mstime=on&mstimever=1&sep=3&sep2=1&at=1&p=5&em=20088&market=1&df=1&mf=6&yf=2020&dt=27&mt=11&yt=2020&cn=STSBP&code=STSBP&datf=5\n"
     ]
    },
    {
     "name": "stdout",
     "output_type": "stream",
     "text": [
      "СтаврЭнСбп\n"
     ]
    },
    {
     "name": "stderr",
     "output_type": "stream",
     "text": [
      "INFO:finam.export:Processing chunk 1 of 1\n",
      "INFO:finam.export:Fetching http://export.finam.ru/table.csv?d=d&f=table&e=.csv&dtf=1&tmf=3&MSOR=0&mstime=on&mstimever=1&sep=3&sep2=1&at=1&p=5&em=152798&market=1&df=1&mf=6&yf=2020&dt=27&mt=11&yt=2020&cn=MOEX&code=MOEX&datf=5\n"
     ]
    },
    {
     "name": "stdout",
     "output_type": "stream",
     "text": [
      "МосБиржа\n"
     ]
    },
    {
     "name": "stderr",
     "output_type": "stream",
     "text": [
      "INFO:finam.export:Processing chunk 1 of 1\n",
      "INFO:finam.export:Fetching http://export.finam.ru/table.csv?d=d&f=table&e=.csv&dtf=1&tmf=3&MSOR=0&mstime=on&mstimever=1&sep=3&sep2=1&at=1&p=5&em=17597&market=1&df=1&mf=6&yf=2020&dt=27&mt=11&yt=2020&cn=TGKB&code=TGKB&datf=5\n"
     ]
    },
    {
     "name": "stdout",
     "output_type": "stream",
     "text": [
      "ТГК-2\n"
     ]
    },
    {
     "name": "stderr",
     "output_type": "stream",
     "text": [
      "INFO:finam.export:Processing chunk 1 of 1\n",
      "INFO:finam.export:Fetching http://export.finam.ru/table.csv?d=d&f=table&e=.csv&dtf=1&tmf=3&MSOR=0&mstime=on&mstimever=1&sep=3&sep2=1&at=1&p=5&em=18189&market=1&df=1&mf=6&yf=2020&dt=27&mt=11&yt=2020&cn=TGKBP&code=TGKBP&datf=5\n"
     ]
    },
    {
     "name": "stdout",
     "output_type": "stream",
     "text": [
      "ТГК-2 ап\n"
     ]
    },
    {
     "name": "stderr",
     "output_type": "stream",
     "text": [
      "INFO:finam.export:Processing chunk 1 of 1\n",
      "INFO:finam.export:Fetching http://export.finam.ru/table.csv?d=d&f=table&e=.csv&dtf=1&tmf=3&MSOR=0&mstime=on&mstimever=1&sep=3&sep2=1&at=1&p=5&em=81885&market=1&df=1&mf=6&yf=2020&dt=27&mt=11&yt=2020&cn=IGST&code=IGST&datf=5\n"
     ]
    },
    {
     "name": "stdout",
     "output_type": "stream",
     "text": [
      "Ижсталь2ао\n"
     ]
    },
    {
     "name": "stderr",
     "output_type": "stream",
     "text": [
      "INFO:finam.export:Processing chunk 1 of 1\n",
      "INFO:finam.export:Fetching http://export.finam.ru/table.csv?d=d&f=table&e=.csv&dtf=1&tmf=3&MSOR=0&mstime=on&mstimever=1&sep=3&sep2=1&at=1&p=5&em=81887&market=1&df=1&mf=6&yf=2020&dt=27&mt=11&yt=2020&cn=IGSTP&code=IGSTP&datf=5\n"
     ]
    },
    {
     "name": "stdout",
     "output_type": "stream",
     "text": [
      "Ижсталь ап\n"
     ]
    },
    {
     "name": "stderr",
     "output_type": "stream",
     "text": [
      "INFO:finam.export:Processing chunk 1 of 1\n",
      "INFO:finam.export:Fetching http://export.finam.ru/table.csv?d=d&f=table&e=.csv&dtf=1&tmf=3&MSOR=0&mstime=on&mstimever=1&sep=3&sep2=1&at=1&p=5&em=20716&market=1&df=1&mf=6&yf=2020&dt=27&mt=11&yt=2020&cn=TUZA&code=TUZA&datf=5\n"
     ]
    },
    {
     "name": "stdout",
     "output_type": "stream",
     "text": [
      "ТЗА ао\n"
     ]
    },
    {
     "name": "stderr",
     "output_type": "stream",
     "text": [
      "INFO:finam.export:Processing chunk 1 of 1\n",
      "INFO:finam.export:Fetching http://export.finam.ru/table.csv?d=d&f=table&e=.csv&dtf=1&tmf=3&MSOR=0&mstime=on&mstimever=1&sep=3&sep2=1&at=1&p=5&em=15547&market=1&df=1&mf=6&yf=2020&dt=27&mt=11&yt=2020&cn=IRKT&code=IRKT&datf=5\n"
     ]
    },
    {
     "name": "stdout",
     "output_type": "stream",
     "text": [
      "ИРКУТ-3\n"
     ]
    },
    {
     "name": "stderr",
     "output_type": "stream",
     "text": [
      "INFO:finam.export:Processing chunk 1 of 1\n",
      "INFO:finam.export:Fetching http://export.finam.ru/table.csv?d=d&f=table&e=.csv&dtf=1&tmf=3&MSOR=0&mstime=on&mstimever=1&sep=3&sep2=1&at=1&p=5&em=81905&market=1&df=1&mf=6&yf=2020&dt=27&mt=11&yt=2020&cn=KRKO&code=KRKO&datf=5\n"
     ]
    },
    {
     "name": "stdout",
     "output_type": "stream",
     "text": [
      "ТКЗКК ао\n"
     ]
    },
    {
     "name": "stderr",
     "output_type": "stream",
     "text": [
      "INFO:finam.export:Processing chunk 1 of 1\n",
      "INFO:finam.export:Fetching http://export.finam.ru/table.csv?d=d&f=table&e=.csv&dtf=1&tmf=3&MSOR=0&mstime=on&mstimever=1&sep=3&sep2=1&at=1&p=5&em=81906&market=1&df=1&mf=6&yf=2020&dt=27&mt=11&yt=2020&cn=KRKOP&code=KRKOP&datf=5\n"
     ]
    },
    {
     "name": "stdout",
     "output_type": "stream",
     "text": [
      "ТКЗКК ап\n"
     ]
    },
    {
     "name": "stderr",
     "output_type": "stream",
     "text": [
      "INFO:finam.export:Processing chunk 1 of 1\n",
      "INFO:finam.export:Fetching http://export.finam.ru/table.csv?d=d&f=table&e=.csv&dtf=1&tmf=3&MSOR=0&mstime=on&mstimever=1&sep=3&sep2=1&at=1&p=5&em=82890&market=1&df=1&mf=6&yf=2020&dt=27&mt=11&yt=2020&cn=MOBB&code=MOBB&datf=5\n"
     ]
    },
    {
     "name": "stdout",
     "output_type": "stream",
     "text": [
      "МосОблБанк\n"
     ]
    },
    {
     "name": "stderr",
     "output_type": "stream",
     "text": [
      "INFO:finam.export:Processing chunk 1 of 1\n",
      "INFO:finam.export:Fetching http://export.finam.ru/table.csv?d=d&f=table&e=.csv&dtf=1&tmf=3&MSOR=0&mstime=on&mstimever=1&sep=3&sep2=1&at=1&p=5&em=18176&market=1&df=1&mf=6&yf=2020&dt=27&mt=11&yt=2020&cn=TGKN&code=TGKN&datf=5\n"
     ]
    },
    {
     "name": "stdout",
     "output_type": "stream",
     "text": [
      "ТГК-14\n"
     ]
    },
    {
     "name": "stderr",
     "output_type": "stream",
     "text": [
      "INFO:finam.export:Processing chunk 1 of 1\n",
      "INFO:finam.export:Fetching http://export.finam.ru/table.csv?d=d&f=table&e=.csv&dtf=1&tmf=3&MSOR=0&mstime=on&mstimever=1&sep=3&sep2=1&at=1&p=5&em=20087&market=1&df=1&mf=6&yf=2020&dt=27&mt=11&yt=2020&cn=STSB&code=STSB&datf=5\n"
     ]
    },
    {
     "name": "stdout",
     "output_type": "stream",
     "text": [
      "СтаврЭнСб\n"
     ]
    },
    {
     "name": "stderr",
     "output_type": "stream",
     "text": [
      "INFO:finam.export:Processing chunk 1 of 1\n",
      "INFO:finam.export:Fetching http://export.finam.ru/table.csv?d=d&f=table&e=.csv&dtf=1&tmf=3&MSOR=0&mstime=on&mstimever=1&sep=3&sep2=1&at=1&p=5&em=80745&market=1&df=1&mf=6&yf=2020&dt=27&mt=11&yt=2020&cn=MTLRP&code=MTLRP&datf=5\n"
     ]
    },
    {
     "name": "stdout",
     "output_type": "stream",
     "text": [
      "Мечел ап\n"
     ]
    },
    {
     "name": "stderr",
     "output_type": "stream",
     "text": [
      "INFO:finam.export:Processing chunk 1 of 1\n",
      "INFO:finam.export:Fetching http://export.finam.ru/table.csv?d=d&f=table&e=.csv&dtf=1&tmf=3&MSOR=0&mstime=on&mstimever=1&sep=3&sep2=1&at=1&p=5&em=21018&market=1&df=1&mf=6&yf=2020&dt=27&mt=11&yt=2020&cn=MTLR&code=MTLR&datf=5\n"
     ]
    },
    {
     "name": "stdout",
     "output_type": "stream",
     "text": [
      "Мечел ао\n"
     ]
    },
    {
     "name": "stderr",
     "output_type": "stream",
     "text": [
      "INFO:finam.export:Processing chunk 1 of 1\n",
      "INFO:finam.export:Fetching http://export.finam.ru/table.csv?d=d&f=table&e=.csv&dtf=1&tmf=3&MSOR=0&mstime=on&mstimever=1&sep=3&sep2=1&at=1&p=5&em=152516&market=1&df=1&mf=6&yf=2020&dt=27&mt=11&yt=2020&cn=MFON&code=MFON&datf=5\n"
     ]
    },
    {
     "name": "stdout",
     "output_type": "stream",
     "text": [
      "МегаФон ао\n"
     ]
    },
    {
     "name": "stderr",
     "output_type": "stream",
     "text": [
      "INFO:finam.export:Processing chunk 1 of 1\n",
      "INFO:finam.export:Fetching http://export.finam.ru/table.csv?d=d&f=table&e=.csv&dtf=1&tmf=3&MSOR=0&mstime=on&mstimever=1&sep=3&sep2=1&at=1&p=5&em=20637&market=1&df=1&mf=6&yf=2020&dt=27&mt=11&yt=2020&cn=ROST&code=ROST&datf=5\n"
     ]
    },
    {
     "name": "stdout",
     "output_type": "stream",
     "text": [
      "РОСИНТЕРао\n"
     ]
    },
    {
     "name": "stderr",
     "output_type": "stream",
     "text": [
      "INFO:finam.export:Processing chunk 1 of 1\n",
      "INFO:finam.export:Fetching http://export.finam.ru/table.csv?d=d&f=table&e=.csv&dtf=1&tmf=3&MSOR=0&mstime=on&mstimever=1&sep=3&sep2=1&at=1&p=5&em=81933&market=1&df=1&mf=6&yf=2020&dt=27&mt=11&yt=2020&cn=CHGZ&code=CHGZ&datf=5\n"
     ]
    },
    {
     "name": "stdout",
     "output_type": "stream",
     "text": [
      "РН-ЗапСиб\n"
     ]
    },
    {
     "name": "stderr",
     "output_type": "stream",
     "text": [
      "INFO:finam.export:Processing chunk 1 of 1\n",
      "INFO:finam.export:Fetching http://export.finam.ru/table.csv?d=d&f=table&e=.csv&dtf=1&tmf=3&MSOR=0&mstime=on&mstimever=1&sep=3&sep2=1&at=1&p=5&em=19715&market=1&df=1&mf=6&yf=2020&dt=27&mt=11&yt=2020&cn=AFKS&code=AFKS&datf=5\n"
     ]
    },
    {
     "name": "stdout",
     "output_type": "stream",
     "text": [
      "Система ао\n"
     ]
    },
    {
     "name": "stderr",
     "output_type": "stream",
     "text": [
      "INFO:finam.export:Processing chunk 1 of 1\n",
      "INFO:finam.export:Fetching http://export.finam.ru/table.csv?d=d&f=table&e=.csv&dtf=1&tmf=3&MSOR=0&mstime=on&mstimever=1&sep=3&sep2=1&at=1&p=5&em=15723&market=1&df=1&mf=6&yf=2020&dt=27&mt=11&yt=2020&cn=JNOSP&code=JNOSP&datf=5\n"
     ]
    },
    {
     "name": "stdout",
     "output_type": "stream",
     "text": [
      "Слав-ЯНОСп\n"
     ]
    },
    {
     "name": "stderr",
     "output_type": "stream",
     "text": [
      "INFO:finam.export:Processing chunk 1 of 1\n",
      "INFO:finam.export:Fetching http://export.finam.ru/table.csv?d=d&f=table&e=.csv&dtf=1&tmf=3&MSOR=0&mstime=on&mstimever=1&sep=3&sep2=1&at=1&p=5&em=15722&market=1&df=1&mf=6&yf=2020&dt=27&mt=11&yt=2020&cn=JNOS&code=JNOS&datf=5\n"
     ]
    },
    {
     "name": "stdout",
     "output_type": "stream",
     "text": [
      "Славн-ЯНОС\n"
     ]
    },
    {
     "name": "stderr",
     "output_type": "stream",
     "text": [
      "INFO:finam.export:Processing chunk 1 of 1\n",
      "INFO:finam.export:Fetching http://export.finam.ru/table.csv?d=d&f=table&e=.csv&dtf=1&tmf=3&MSOR=0&mstime=on&mstimever=1&sep=3&sep2=1&at=1&p=5&em=15965&market=1&df=1&mf=6&yf=2020&dt=27&mt=11&yt=2020&cn=VSMO&code=VSMO&datf=5\n"
     ]
    },
    {
     "name": "stdout",
     "output_type": "stream",
     "text": [
      "ВСМПО-АВСМ\n"
     ]
    },
    {
     "name": "stderr",
     "output_type": "stream",
     "text": [
      "INFO:finam.export:Processing chunk 1 of 1\n",
      "INFO:finam.export:Fetching http://export.finam.ru/table.csv?d=d&f=table&e=.csv&dtf=1&tmf=3&MSOR=0&mstime=on&mstimever=1&sep=3&sep2=1&at=1&p=5&em=30&market=1&df=1&mf=6&yf=2020&dt=27&mt=11&yt=2020&cn=MFGS&code=MFGS&datf=5\n"
     ]
    },
    {
     "name": "stdout",
     "output_type": "stream",
     "text": [
      "Мегион-ао\n"
     ]
    },
    {
     "name": "stderr",
     "output_type": "stream",
     "text": [
      "INFO:finam.export:Processing chunk 1 of 1\n",
      "INFO:finam.export:Fetching http://export.finam.ru/table.csv?d=d&f=table&e=.csv&dtf=1&tmf=3&MSOR=0&mstime=on&mstimever=1&sep=3&sep2=1&at=1&p=5&em=51&market=1&df=1&mf=6&yf=2020&dt=27&mt=11&yt=2020&cn=MFGSP&code=MFGSP&datf=5\n"
     ]
    },
    {
     "name": "stdout",
     "output_type": "stream",
     "text": [
      "Мегион-ап\n"
     ]
    },
    {
     "name": "stderr",
     "output_type": "stream",
     "text": [
      "INFO:finam.export:Processing chunk 1 of 1\n",
      "INFO:finam.export:Fetching http://export.finam.ru/table.csv?d=d&f=table&e=.csv&dtf=1&tmf=3&MSOR=0&mstime=on&mstimever=1&sep=3&sep2=1&at=1&p=5&em=20737&market=1&df=1&mf=6&yf=2020&dt=27&mt=11&yt=2020&cn=ODVA&code=ODVA&datf=5\n"
     ]
    },
    {
     "name": "stdout",
     "output_type": "stream",
     "text": [
      "Медиахолд\n"
     ]
    },
    {
     "name": "stderr",
     "output_type": "stream",
     "text": [
      "INFO:finam.export:Processing chunk 1 of 1\n",
      "INFO:finam.export:Fetching http://export.finam.ru/table.csv?d=d&f=table&e=.csv&dtf=1&tmf=3&MSOR=0&mstime=on&mstimever=1&sep=3&sep2=1&at=1&p=5&em=488918&market=1&df=1&mf=6&yf=2020&dt=27&mt=11&yt=2020&cn=GTRK&code=GTRK&datf=5\n"
     ]
    },
    {
     "name": "stdout",
     "output_type": "stream",
     "text": [
      "ГТМ ао\n"
     ]
    },
    {
     "name": "stderr",
     "output_type": "stream",
     "text": [
      "INFO:finam.export:Processing chunk 1 of 1\n",
      "INFO:finam.export:Fetching http://export.finam.ru/table.csv?d=d&f=table&e=.csv&dtf=1&tmf=3&MSOR=0&mstime=on&mstimever=1&sep=3&sep2=1&at=1&p=5&em=152397&market=1&df=1&mf=6&yf=2020&dt=27&mt=11&yt=2020&cn=RTGZ&code=RTGZ&datf=5\n"
     ]
    },
    {
     "name": "stdout",
     "output_type": "stream",
     "text": [
      "ГазпРнД ао\n"
     ]
    },
    {
     "name": "stderr",
     "output_type": "stream",
     "text": [
      "INFO:finam.export:Processing chunk 1 of 1\n",
      "INFO:finam.export:Fetching http://export.finam.ru/table.csv?d=d&f=table&e=.csv&dtf=1&tmf=3&MSOR=0&mstime=on&mstimever=1&sep=3&sep2=1&at=1&p=5&em=81901&market=1&df=1&mf=6&yf=2020&dt=27&mt=11&yt=2020&cn=BRZL&code=BRZL&datf=5\n"
     ]
    },
    {
     "name": "stdout",
     "output_type": "stream",
     "text": [
      "БурЗолото\n"
     ]
    },
    {
     "name": "stderr",
     "output_type": "stream",
     "text": [
      "INFO:finam.export:Processing chunk 1 of 1\n",
      "INFO:finam.export:Fetching http://export.finam.ru/table.csv?d=d&f=table&e=.csv&dtf=1&tmf=3&MSOR=0&mstime=on&mstimever=1&sep=3&sep2=1&at=1&p=5&em=82616&market=1&df=1&mf=6&yf=2020&dt=27&mt=11&yt=2020&cn=ALBK&code=ALBK&datf=5\n"
     ]
    },
    {
     "name": "stdout",
     "output_type": "stream",
     "text": [
      "БестЭфБ ао\n"
     ]
    },
    {
     "name": "stderr",
     "output_type": "stream",
     "text": [
      "INFO:finam.export:Processing chunk 1 of 1\n",
      "INFO:finam.export:Fetching http://export.finam.ru/table.csv?d=d&f=table&e=.csv&dtf=1&tmf=3&MSOR=0&mstime=on&mstimever=1&sep=3&sep2=1&at=1&p=5&em=2101210&market=1&df=1&mf=6&yf=2020&dt=27&mt=11&yt=2020&cn=FLOT&code=FLOT&datf=5\n"
     ]
    },
    {
     "name": "stdout",
     "output_type": "stream",
     "text": [
      "Совкомфлот\n"
     ]
    },
    {
     "name": "stderr",
     "output_type": "stream",
     "text": [
      "INFO:finam.export:Processing chunk 1 of 1\n",
      "INFO:finam.export:Fetching http://export.finam.ru/table.csv?d=d&f=table&e=.csv&dtf=1&tmf=3&MSOR=0&mstime=on&mstimever=1&sep=3&sep2=1&at=1&p=5&em=15544&market=1&df=1&mf=6&yf=2020&dt=27&mt=11&yt=2020&cn=KMAZ&code=KMAZ&datf=5\n"
     ]
    },
    {
     "name": "stdout",
     "output_type": "stream",
     "text": [
      "КАМАЗ\n"
     ]
    },
    {
     "name": "stderr",
     "output_type": "stream",
     "text": [
      "INFO:finam.export:Processing chunk 1 of 1\n",
      "INFO:finam.export:Fetching http://export.finam.ru/table.csv?d=d&f=table&e=.csv&dtf=1&tmf=3&MSOR=0&mstime=on&mstimever=1&sep=3&sep2=1&at=1&p=5&em=9&market=1&df=1&mf=6&yf=2020&dt=27&mt=11&yt=2020&cn=IRGZ&code=IRGZ&datf=5\n"
     ]
    },
    {
     "name": "stdout",
     "output_type": "stream",
     "text": [
      "ИркЭнерго\n"
     ]
    },
    {
     "name": "stderr",
     "output_type": "stream",
     "text": [
      "INFO:finam.export:Processing chunk 1 of 1\n",
      "INFO:finam.export:Fetching http://export.finam.ru/table.csv?d=d&f=table&e=.csv&dtf=1&tmf=3&MSOR=0&mstime=on&mstimever=1&sep=3&sep2=1&at=1&p=5&em=20516&market=1&df=1&mf=6&yf=2020&dt=27&mt=11&yt=2020&cn=IRAO&code=IRAO&datf=5\n"
     ]
    },
    {
     "name": "stdout",
     "output_type": "stream",
     "text": [
      "ИнтерРАОао\n"
     ]
    },
    {
     "name": "stderr",
     "output_type": "stream",
     "text": [
      "INFO:finam.export:Processing chunk 1 of 1\n",
      "INFO:finam.export:Fetching http://export.finam.ru/table.csv?d=d&f=table&e=.csv&dtf=1&tmf=3&MSOR=0&mstime=on&mstimever=1&sep=3&sep2=1&at=1&p=5&em=19651&market=1&df=1&mf=6&yf=2020&dt=27&mt=11&yt=2020&cn=BELU&code=BELU&datf=5\n"
     ]
    },
    {
     "name": "stdout",
     "output_type": "stream",
     "text": [
      "Белуга ао\n"
     ]
    },
    {
     "name": "stderr",
     "output_type": "stream",
     "text": [
      "INFO:finam.export:Processing chunk 1 of 1\n",
      "INFO:finam.export:Fetching http://export.finam.ru/table.csv?d=d&f=table&e=.csv&dtf=1&tmf=3&MSOR=0&mstime=on&mstimever=1&sep=3&sep2=1&at=1&p=5&em=21078&market=1&df=1&mf=6&yf=2020&dt=27&mt=11&yt=2020&cn=BLNG&code=BLNG&datf=5\n"
     ]
    },
    {
     "name": "stdout",
     "output_type": "stream",
     "text": [
      "Белон ао\n"
     ]
    },
    {
     "name": "stderr",
     "output_type": "stream",
     "text": [
      "INFO:finam.export:Processing chunk 1 of 1\n",
      "INFO:finam.export:Fetching http://export.finam.ru/table.csv?d=d&f=table&e=.csv&dtf=1&tmf=3&MSOR=0&mstime=on&mstimever=1&sep=3&sep2=1&at=1&p=5&em=2028078&market=1&df=1&mf=6&yf=2020&dt=27&mt=11&yt=2020&cn=AMD-RM&code=AMD-RM&datf=5\n"
     ]
    },
    {
     "name": "stdout",
     "output_type": "stream",
     "text": [
      "AMD Inc.\n"
     ]
    },
    {
     "name": "stderr",
     "output_type": "stream",
     "text": [
      "INFO:finam.export:Processing chunk 1 of 1\n",
      "INFO:finam.export:Fetching http://export.finam.ru/table.csv?d=d&f=table&e=.csv&dtf=1&tmf=3&MSOR=0&mstime=on&mstimever=1&sep=3&sep2=1&at=1&p=5&em=74549&market=1&df=1&mf=6&yf=2020&dt=27&mt=11&yt=2020&cn=MSTT&code=MSTT&datf=5\n"
     ]
    },
    {
     "name": "stdout",
     "output_type": "stream",
     "text": [
      "Мостотрест\n"
     ]
    },
    {
     "name": "stderr",
     "output_type": "stream",
     "text": [
      "INFO:finam.export:Processing chunk 1 of 1\n",
      "INFO:finam.export:Fetching http://export.finam.ru/table.csv?d=d&f=table&e=.csv&dtf=1&tmf=3&MSOR=0&mstime=on&mstimever=1&sep=3&sep2=1&at=1&p=5&em=17359&market=1&df=1&mf=6&yf=2020&dt=27&mt=11&yt=2020&cn=KZMS&code=KZMS&datf=5\n"
     ]
    },
    {
     "name": "stdout",
     "output_type": "stream",
     "text": [
      "КЗМС ао\n"
     ]
    },
    {
     "name": "stderr",
     "output_type": "stream",
     "text": [
      "INFO:finam.export:Processing chunk 1 of 1\n",
      "INFO:finam.export:Fetching http://export.finam.ru/table.csv?d=d&f=table&e=.csv&dtf=1&tmf=3&MSOR=0&mstime=on&mstimever=1&sep=3&sep2=1&at=1&p=5&em=1667866&market=1&df=1&mf=6&yf=2020&dt=27&mt=11&yt=2020&cn=INGR&code=INGR&datf=5\n"
     ]
    },
    {
     "name": "stdout",
     "output_type": "stream",
     "text": [
      "ИНГРАД ао\n"
     ]
    },
    {
     "name": "stderr",
     "output_type": "stream",
     "text": [
      "INFO:finam.export:Processing chunk 1 of 1\n",
      "INFO:finam.export:Fetching http://export.finam.ru/table.csv?d=d&f=table&e=.csv&dtf=1&tmf=3&MSOR=0&mstime=on&mstimever=1&sep=3&sep2=1&at=1&p=5&em=152676&market=1&df=1&mf=6&yf=2020&dt=27&mt=11&yt=2020&cn=MSST&code=MSST&datf=5\n"
     ]
    },
    {
     "name": "stdout",
     "output_type": "stream",
     "text": [
      "МультиСис\n"
     ]
    },
    {
     "name": "stderr",
     "output_type": "stream",
     "text": [
      "INFO:finam.export:Processing chunk 1 of 1\n",
      "INFO:finam.export:Fetching http://export.finam.ru/table.csv?d=d&f=table&e=.csv&dtf=1&tmf=3&MSOR=0&mstime=on&mstimever=1&sep=3&sep2=1&at=1&p=5&em=19629&market=1&df=1&mf=6&yf=2020&dt=27&mt=11&yt=2020&cn=NMTP&code=NMTP&datf=5\n"
     ]
    },
    {
     "name": "stdout",
     "output_type": "stream",
     "text": [
      "НМТП ао\n"
     ]
    },
    {
     "name": "stderr",
     "output_type": "stream",
     "text": [
      "INFO:finam.export:Processing chunk 1 of 1\n",
      "INFO:finam.export:Fetching http://export.finam.ru/table.csv?d=d&f=table&e=.csv&dtf=1&tmf=3&MSOR=0&mstime=on&mstimever=1&sep=3&sep2=1&at=1&p=5&em=825&market=1&df=1&mf=6&yf=2020&dt=27&mt=11&yt=2020&cn=TATN&code=TATN&datf=5\n"
     ]
    },
    {
     "name": "stdout",
     "output_type": "stream",
     "text": [
      "Татнфт 3ао\n"
     ]
    },
    {
     "name": "stderr",
     "output_type": "stream",
     "text": [
      "INFO:finam.export:Processing chunk 1 of 1\n",
      "INFO:finam.export:Fetching http://export.finam.ru/table.csv?d=d&f=table&e=.csv&dtf=1&tmf=3&MSOR=0&mstime=on&mstimever=1&sep=3&sep2=1&at=1&p=5&em=826&market=1&df=1&mf=6&yf=2020&dt=27&mt=11&yt=2020&cn=TATNP&code=TATNP&datf=5\n"
     ]
    },
    {
     "name": "stdout",
     "output_type": "stream",
     "text": [
      "Татнфт 3ап\n"
     ]
    },
    {
     "name": "stderr",
     "output_type": "stream",
     "text": [
      "INFO:finam.export:Processing chunk 1 of 1\n",
      "INFO:finam.export:Fetching http://export.finam.ru/table.csv?d=d&f=table&e=.csv&dtf=1&tmf=3&MSOR=0&mstime=on&mstimever=1&sep=3&sep2=1&at=1&p=5&em=18371&market=1&df=1&mf=6&yf=2020&dt=27&mt=11&yt=2020&cn=TTLK&code=TTLK&datf=5\n"
     ]
    },
    {
     "name": "stdout",
     "output_type": "stream",
     "text": [
      "Таттел. ао\n"
     ]
    },
    {
     "name": "stderr",
     "output_type": "stream",
     "text": [
      "INFO:finam.export:Processing chunk 1 of 1\n",
      "INFO:finam.export:Fetching http://export.finam.ru/table.csv?d=d&f=table&e=.csv&dtf=1&tmf=3&MSOR=0&mstime=on&mstimever=1&sep=3&sep2=1&at=1&p=5&em=20066&market=1&df=1&mf=6&yf=2020&dt=27&mt=11&yt=2020&cn=BSPB&code=BSPB&datf=5\n"
     ]
    },
    {
     "name": "stdout",
     "output_type": "stream",
     "text": [
      "БСП ао\n"
     ]
    },
    {
     "name": "stderr",
     "output_type": "stream",
     "text": [
      "INFO:finam.export:Processing chunk 1 of 1\n",
      "INFO:finam.export:Fetching http://export.finam.ru/table.csv?d=d&f=table&e=.csv&dtf=1&tmf=3&MSOR=0&mstime=on&mstimever=1&sep=3&sep2=1&at=1&p=5&em=21002&market=1&df=1&mf=6&yf=2020&dt=27&mt=11&yt=2020&cn=CNTL&code=CNTL&datf=5\n"
     ]
    },
    {
     "name": "stdout",
     "output_type": "stream",
     "text": [
      "Телеграф\n"
     ]
    },
    {
     "name": "stderr",
     "output_type": "stream",
     "text": [
      "INFO:finam.export:Processing chunk 1 of 1\n",
      "INFO:finam.export:Fetching http://export.finam.ru/table.csv?d=d&f=table&e=.csv&dtf=1&tmf=3&MSOR=0&mstime=on&mstimever=1&sep=3&sep2=1&at=1&p=5&em=81575&market=1&df=1&mf=6&yf=2020&dt=27&mt=11&yt=2020&cn=CNTLP&code=CNTLP&datf=5\n"
     ]
    },
    {
     "name": "stdout",
     "output_type": "stream",
     "text": [
      "Телеграф-п\n"
     ]
    },
    {
     "name": "stderr",
     "output_type": "stream",
     "text": [
      "INFO:finam.export:Processing chunk 1 of 1\n",
      "INFO:finam.export:Fetching http://export.finam.ru/table.csv?d=d&f=table&e=.csv&dtf=1&tmf=3&MSOR=0&mstime=on&mstimever=1&sep=3&sep2=1&at=1&p=5&em=81929&market=1&df=1&mf=6&yf=2020&dt=27&mt=11&yt=2020&cn=NSVZ&code=NSVZ&datf=5\n"
     ]
    },
    {
     "name": "stdout",
     "output_type": "stream",
     "text": [
      "НаукаСвяз\n"
     ]
    },
    {
     "name": "stderr",
     "output_type": "stream",
     "text": [
      "INFO:finam.export:Processing chunk 1 of 1\n",
      "INFO:finam.export:Fetching http://export.finam.ru/table.csv?d=d&f=table&e=.csv&dtf=1&tmf=3&MSOR=0&mstime=on&mstimever=1&sep=3&sep2=1&at=1&p=5&em=29&market=1&df=1&mf=6&yf=2020&dt=27&mt=11&yt=2020&cn=AFLT&code=AFLT&datf=5\n"
     ]
    },
    {
     "name": "stdout",
     "output_type": "stream",
     "text": [
      "Аэрофлот\n"
     ]
    },
    {
     "name": "stderr",
     "output_type": "stream",
     "text": [
      "INFO:finam.export:Processing chunk 1 of 1\n",
      "INFO:finam.export:Fetching http://export.finam.ru/table.csv?d=d&f=table&e=.csv&dtf=1&tmf=3&MSOR=0&mstime=on&mstimever=1&sep=3&sep2=1&at=1&p=5&em=17046&market=1&df=1&mf=6&yf=2020&dt=27&mt=11&yt=2020&cn=NLMK&code=NLMK&datf=5\n"
     ]
    },
    {
     "name": "stdout",
     "output_type": "stream",
     "text": [
      "НЛМК ао\n"
     ]
    },
    {
     "name": "stderr",
     "output_type": "stream",
     "text": [
      "INFO:finam.export:Processing chunk 1 of 1\n",
      "INFO:finam.export:Fetching http://export.finam.ru/table.csv?d=d&f=table&e=.csv&dtf=1&tmf=3&MSOR=0&mstime=on&mstimever=1&sep=3&sep2=1&at=1&p=5&em=20702&market=1&df=1&mf=6&yf=2020&dt=27&mt=11&yt=2020&cn=AMEZ&code=AMEZ&datf=5\n"
     ]
    },
    {
     "name": "stdout",
     "output_type": "stream",
     "text": [
      "АшинскийМЗ\n"
     ]
    },
    {
     "name": "stderr",
     "output_type": "stream",
     "text": [
      "INFO:finam.export:Processing chunk 1 of 1\n",
      "INFO:finam.export:Fetching http://export.finam.ru/table.csv?d=d&f=table&e=.csv&dtf=1&tmf=3&MSOR=0&mstime=on&mstimever=1&sep=3&sep2=1&at=1&p=5&em=2052021&market=1&df=1&mf=6&yf=2020&dt=27&mt=11&yt=2020&cn=AAPL-RM&code=AAPL-RM&datf=5\n"
     ]
    },
    {
     "name": "stdout",
     "output_type": "stream",
     "text": [
      "Apple\n"
     ]
    },
    {
     "name": "stderr",
     "output_type": "stream",
     "text": [
      "INFO:finam.export:Processing chunk 1 of 1\n",
      "INFO:finam.export:Fetching http://export.finam.ru/table.csv?d=d&f=table&e=.csv&dtf=1&tmf=3&MSOR=0&mstime=on&mstimever=1&sep=3&sep2=1&at=1&p=5&em=81287&market=1&df=1&mf=6&yf=2020&dt=27&mt=11&yt=2020&cn=NFAZ&code=NFAZ&datf=5\n"
     ]
    },
    {
     "name": "stdout",
     "output_type": "stream",
     "text": [
      "Нефтекамск\n"
     ]
    },
    {
     "name": "stderr",
     "output_type": "stream",
     "text": [
      "INFO:finam.export:Processing chunk 1 of 1\n",
      "INFO:finam.export:Fetching http://export.finam.ru/table.csv?d=d&f=table&e=.csv&dtf=1&tmf=3&MSOR=0&mstime=on&mstimever=1&sep=3&sep2=1&at=1&p=5&em=16452&market=1&df=1&mf=6&yf=2020&dt=27&mt=11&yt=2020&cn=ASSB&code=ASSB&datf=5\n"
     ]
    },
    {
     "name": "stdout",
     "output_type": "stream",
     "text": [
      "АстрЭнСб\n"
     ]
    },
    {
     "name": "stderr",
     "output_type": "stream",
     "text": [
      "INFO:finam.export:Processing chunk 1 of 1\n",
      "INFO:finam.export:Fetching http://export.finam.ru/table.csv?d=d&f=table&e=.csv&dtf=1&tmf=3&MSOR=0&mstime=on&mstimever=1&sep=3&sep2=1&at=1&p=5&em=19915&market=1&df=1&mf=6&yf=2020&dt=27&mt=11&yt=2020&cn=ARSA&code=ARSA&datf=5\n"
     ]
    },
    {
     "name": "stdout",
     "output_type": "stream",
     "text": [
      "Арсагера\n"
     ]
    },
    {
     "name": "stderr",
     "output_type": "stream",
     "text": [
      "INFO:finam.export:Processing chunk 1 of 1\n",
      "INFO:finam.export:Fetching http://export.finam.ru/table.csv?d=d&f=table&e=.csv&dtf=1&tmf=3&MSOR=0&mstime=on&mstimever=1&sep=3&sep2=1&at=1&p=5&em=13855&market=1&df=1&mf=6&yf=2020&dt=27&mt=11&yt=2020&cn=APTK&code=APTK&datf=5\n"
     ]
    },
    {
     "name": "stdout",
     "output_type": "stream",
     "text": [
      "Аптеки36и6\n"
     ]
    },
    {
     "name": "stderr",
     "output_type": "stream",
     "text": [
      "INFO:finam.export:Processing chunk 1 of 1\n",
      "INFO:finam.export:Fetching http://export.finam.ru/table.csv?d=d&f=table&e=.csv&dtf=1&tmf=3&MSOR=0&mstime=on&mstimever=1&sep=3&sep2=1&at=1&p=5&em=74561&market=1&df=1&mf=6&yf=2020&dt=27&mt=11&yt=2020&cn=TRCN&code=TRCN&datf=5\n"
     ]
    },
    {
     "name": "stdout",
     "output_type": "stream",
     "text": [
      "ТрансК ао\n"
     ]
    },
    {
     "name": "stderr",
     "output_type": "stream",
     "text": [
      "INFO:finam.export:Processing chunk 1 of 1\n",
      "INFO:finam.export:Fetching http://export.finam.ru/table.csv?d=d&f=table&e=.csv&dtf=1&tmf=3&MSOR=0&mstime=on&mstimever=1&sep=3&sep2=1&at=1&p=5&em=181755&market=1&df=1&mf=6&yf=2020&dt=27&mt=11&yt=2020&cn=RDRB&code=RDRB&datf=5\n"
     ]
    },
    {
     "name": "stdout",
     "output_type": "stream",
     "text": [
      "РДБанк ао\n"
     ]
    },
    {
     "name": "stderr",
     "output_type": "stream",
     "text": [
      "INFO:finam.export:Processing chunk 1 of 1\n",
      "INFO:finam.export:Fetching http://export.finam.ru/table.csv?d=d&f=table&e=.csv&dtf=1&tmf=3&MSOR=0&mstime=on&mstimever=1&sep=3&sep2=1&at=1&p=5&em=181934&market=1&df=1&mf=6&yf=2020&dt=27&mt=11&yt=2020&cn=RGSS&code=RGSS&datf=5\n"
     ]
    },
    {
     "name": "stdout",
     "output_type": "stream",
     "text": [
      "РГС СК ао\n"
     ]
    },
    {
     "name": "stderr",
     "output_type": "stream",
     "text": [
      "INFO:finam.export:Processing chunk 1 of 1\n",
      "INFO:finam.export:Fetching http://export.finam.ru/table.csv?d=d&f=table&e=.csv&dtf=1&tmf=3&MSOR=0&mstime=on&mstimever=1&sep=3&sep2=1&at=1&p=5&em=497210&market=1&df=1&mf=6&yf=2020&dt=27&mt=11&yt=2020&cn=TRFM&code=TRFM&datf=5\n"
     ]
    },
    {
     "name": "stdout",
     "output_type": "stream",
     "text": [
      "ТрансФ ао\n"
     ]
    },
    {
     "name": "stderr",
     "output_type": "stream",
     "text": [
      "INFO:finam.export:Processing chunk 1 of 1\n",
      "INFO:finam.export:Fetching http://export.finam.ru/table.csv?d=d&f=table&e=.csv&dtf=1&tmf=3&MSOR=0&mstime=on&mstimever=1&sep=3&sep2=1&at=1&p=5&em=20708&market=1&df=1&mf=6&yf=2020&dt=27&mt=11&yt=2020&cn=FESH&code=FESH&datf=5\n"
     ]
    },
    {
     "name": "stdout",
     "output_type": "stream",
     "text": [
      "ДВМП ао\n"
     ]
    },
    {
     "name": "stderr",
     "output_type": "stream",
     "text": [
      "INFO:finam.export:Processing chunk 1 of 1\n",
      "INFO:finam.export:Fetching http://export.finam.ru/table.csv?d=d&f=table&e=.csv&dtf=1&tmf=3&MSOR=0&mstime=on&mstimever=1&sep=3&sep2=1&at=1&p=5&em=450432&market=1&df=1&mf=6&yf=2020&dt=27&mt=11&yt=2020&cn=NKHP&code=NKHP&datf=5\n"
     ]
    },
    {
     "name": "stdout",
     "output_type": "stream",
     "text": [
      "НКХП ао\n"
     ]
    },
    {
     "name": "stderr",
     "output_type": "stream",
     "text": [
      "INFO:finam.export:Processing chunk 1 of 1\n",
      "INFO:finam.export:Fetching http://export.finam.ru/table.csv?d=d&f=table&e=.csv&dtf=1&tmf=3&MSOR=0&mstime=on&mstimever=1&sep=3&sep2=1&at=1&p=5&em=16266&market=1&df=1&mf=6&yf=2020&dt=27&mt=11&yt=2020&cn=TASBP&code=TASBP&datf=5\n"
     ]
    },
    {
     "name": "stdout",
     "output_type": "stream",
     "text": [
      "ТамбЭнСб-п\n"
     ]
    },
    {
     "name": "stderr",
     "output_type": "stream",
     "text": [
      "INFO:finam.export:Processing chunk 1 of 1\n",
      "INFO:finam.export:Fetching http://export.finam.ru/table.csv?d=d&f=table&e=.csv&dtf=1&tmf=3&MSOR=0&mstime=on&mstimever=1&sep=3&sep2=1&at=1&p=5&em=16265&market=1&df=1&mf=6&yf=2020&dt=27&mt=11&yt=2020&cn=TASB&code=TASB&datf=5\n"
     ]
    },
    {
     "name": "stdout",
     "output_type": "stream",
     "text": [
      "ТамбЭнСб\n"
     ]
    },
    {
     "name": "stderr",
     "output_type": "stream",
     "text": [
      "INFO:finam.export:Processing chunk 1 of 1\n",
      "INFO:finam.export:Fetching http://export.finam.ru/table.csv?d=d&f=table&e=.csv&dtf=1&tmf=3&MSOR=0&mstime=on&mstimever=1&sep=3&sep2=1&at=1&p=5&em=17698&market=1&df=1&mf=6&yf=2020&dt=27&mt=11&yt=2020&cn=HALS&code=HALS&datf=5\n"
     ]
    },
    {
     "name": "stdout",
     "output_type": "stream",
     "text": [
      "Галс-Девел\n"
     ]
    },
    {
     "name": "stderr",
     "output_type": "stream",
     "text": [
      "INFO:finam.export:Processing chunk 1 of 1\n",
      "INFO:finam.export:Fetching http://export.finam.ru/table.csv?d=d&f=table&e=.csv&dtf=1&tmf=3&MSOR=0&mstime=on&mstimever=1&sep=3&sep2=1&at=1&p=5&em=81758&market=1&df=1&mf=6&yf=2020&dt=27&mt=11&yt=2020&cn=BANEP&code=BANEP&datf=5\n"
     ]
    },
    {
     "name": "stdout",
     "output_type": "stream",
     "text": [
      "Башнефт ап\n"
     ]
    },
    {
     "name": "stderr",
     "output_type": "stream",
     "text": [
      "INFO:finam.export:Processing chunk 1 of 1\n",
      "INFO:finam.export:Fetching http://export.finam.ru/table.csv?d=d&f=table&e=.csv&dtf=1&tmf=3&MSOR=0&mstime=on&mstimever=1&sep=3&sep2=1&at=1&p=5&em=81757&market=1&df=1&mf=6&yf=2020&dt=27&mt=11&yt=2020&cn=BANE&code=BANE&datf=5\n"
     ]
    },
    {
     "name": "stdout",
     "output_type": "stream",
     "text": [
      "Башнефт ао\n"
     ]
    },
    {
     "name": "stderr",
     "output_type": "stream",
     "text": [
      "INFO:finam.export:Processing chunk 1 of 1\n",
      "INFO:finam.export:Fetching http://export.finam.ru/table.csv?d=d&f=table&e=.csv&dtf=1&tmf=3&MSOR=0&mstime=on&mstimever=1&sep=3&sep2=1&at=1&p=5&em=18441&market=1&df=1&mf=6&yf=2020&dt=27&mt=11&yt=2020&cn=TRMK&code=TRMK&datf=5\n"
     ]
    },
    {
     "name": "stdout",
     "output_type": "stream",
     "text": [
      "ТМК ао\n"
     ]
    },
    {
     "name": "stderr",
     "output_type": "stream",
     "text": [
      "INFO:finam.export:Processing chunk 1 of 1\n",
      "INFO:finam.export:Fetching http://export.finam.ru/table.csv?d=d&f=table&e=.csv&dtf=1&tmf=3&MSOR=0&mstime=on&mstimever=1&sep=3&sep2=1&at=1&p=5&em=35243&market=1&df=1&mf=6&yf=2020&dt=27&mt=11&yt=2020&cn=BISVP&code=BISVP&datf=5\n"
     ]
    },
    {
     "name": "stdout",
     "output_type": "stream",
     "text": [
      "БашИнСв ап\n"
     ]
    },
    {
     "name": "stderr",
     "output_type": "stream",
     "text": [
      "INFO:finam.export:Processing chunk 1 of 1\n",
      "INFO:finam.export:Fetching http://export.finam.ru/table.csv?d=d&f=table&e=.csv&dtf=1&tmf=3&MSOR=0&mstime=on&mstimever=1&sep=3&sep2=1&at=1&p=5&em=19916&market=1&df=1&mf=6&yf=2020&dt=27&mt=11&yt=2020&cn=KBSB&code=KBSB&datf=5\n"
     ]
    },
    {
     "name": "stdout",
     "output_type": "stream",
     "text": [
      "ТНСэКубань\n"
     ]
    },
    {
     "name": "stderr",
     "output_type": "stream",
     "text": [
      "INFO:finam.export:Processing chunk 1 of 1\n",
      "INFO:finam.export:Fetching http://export.finam.ru/table.csv?d=d&f=table&e=.csv&dtf=1&tmf=3&MSOR=0&mstime=on&mstimever=1&sep=3&sep2=1&at=1&p=5&em=35242&market=1&df=1&mf=6&yf=2020&dt=27&mt=11&yt=2020&cn=BISV&code=BISV&datf=5\n"
     ]
    },
    {
     "name": "stdout",
     "output_type": "stream",
     "text": [
      "БашИнСв ао\n"
     ]
    },
    {
     "name": "stderr",
     "output_type": "stream",
     "text": [
      "INFO:finam.export:Processing chunk 1 of 1\n",
      "INFO:finam.export:Fetching http://export.finam.ru/table.csv?d=d&f=table&e=.csv&dtf=1&tmf=3&MSOR=0&mstime=on&mstimever=1&sep=3&sep2=1&at=1&p=5&em=16331&market=1&df=1&mf=6&yf=2020&dt=27&mt=11&yt=2020&cn=MISBP&code=MISBP&datf=5\n"
     ]
    },
    {
     "name": "stdout",
     "output_type": "stream",
     "text": [
      "ТНСэМаЭл-п\n"
     ]
    },
    {
     "name": "stderr",
     "output_type": "stream",
     "text": [
      "INFO:finam.export:Processing chunk 1 of 1\n",
      "INFO:finam.export:Fetching http://export.finam.ru/table.csv?d=d&f=table&e=.csv&dtf=1&tmf=3&MSOR=0&mstime=on&mstimever=1&sep=3&sep2=1&at=1&p=5&em=16547&market=1&df=1&mf=6&yf=2020&dt=27&mt=11&yt=2020&cn=VRSBP&code=VRSBP&datf=5\n"
     ]
    },
    {
     "name": "stdout",
     "output_type": "stream",
     "text": [
      "ТНСэнВор-п\n"
     ]
    },
    {
     "name": "stderr",
     "output_type": "stream",
     "text": [
      "INFO:finam.export:Processing chunk 1 of 1\n",
      "INFO:finam.export:Fetching http://export.finam.ru/table.csv?d=d&f=table&e=.csv&dtf=1&tmf=3&MSOR=0&mstime=on&mstimever=1&sep=3&sep2=1&at=1&p=5&em=16330&market=1&df=1&mf=6&yf=2020&dt=27&mt=11&yt=2020&cn=MISB&code=MISB&datf=5\n"
     ]
    },
    {
     "name": "stdout",
     "output_type": "stream",
     "text": [
      "ТНСэнМарЭл\n"
     ]
    },
    {
     "name": "stderr",
     "output_type": "stream",
     "text": [
      "INFO:finam.export:Processing chunk 1 of 1\n",
      "INFO:finam.export:Fetching http://export.finam.ru/table.csv?d=d&f=table&e=.csv&dtf=1&tmf=3&MSOR=0&mstime=on&mstimever=1&sep=3&sep2=1&at=1&p=5&em=16615&market=1&df=1&mf=6&yf=2020&dt=27&mt=11&yt=2020&cn=NNSB&code=NNSB&datf=5\n"
     ]
    },
    {
     "name": "stdout",
     "output_type": "stream",
     "text": [
      "ТНСэнНН ао\n"
     ]
    },
    {
     "name": "stderr",
     "output_type": "stream",
     "text": [
      "INFO:finam.export:Processing chunk 1 of 1\n",
      "INFO:finam.export:Fetching http://export.finam.ru/table.csv?d=d&f=table&e=.csv&dtf=1&tmf=3&MSOR=0&mstime=on&mstimever=1&sep=3&sep2=1&at=1&p=5&em=16616&market=1&df=1&mf=6&yf=2020&dt=27&mt=11&yt=2020&cn=NNSBP&code=NNSBP&datf=5\n"
     ]
    },
    {
     "name": "stdout",
     "output_type": "stream",
     "text": [
      "ТНСэнНН ап\n"
     ]
    },
    {
     "name": "stderr",
     "output_type": "stream",
     "text": [
      "INFO:finam.export:Processing chunk 1 of 1\n",
      "INFO:finam.export:Fetching http://export.finam.ru/table.csv?d=d&f=table&e=.csv&dtf=1&tmf=3&MSOR=0&mstime=on&mstimever=1&sep=3&sep2=1&at=1&p=5&em=16783&market=1&df=1&mf=6&yf=2020&dt=27&mt=11&yt=2020&cn=RTSB&code=RTSB&datf=5\n"
     ]
    },
    {
     "name": "stdout",
     "output_type": "stream",
     "text": [
      "ТНСэнРст\n"
     ]
    },
    {
     "name": "stderr",
     "output_type": "stream",
     "text": [
      "INFO:finam.export:Processing chunk 1 of 1\n",
      "INFO:finam.export:Fetching http://export.finam.ru/table.csv?d=d&f=table&e=.csv&dtf=1&tmf=3&MSOR=0&mstime=on&mstimever=1&sep=3&sep2=1&at=1&p=5&em=16784&market=1&df=1&mf=6&yf=2020&dt=27&mt=11&yt=2020&cn=RTSBP&code=RTSBP&datf=5\n"
     ]
    },
    {
     "name": "stdout",
     "output_type": "stream",
     "text": [
      "ТНСэнРст-п\n"
     ]
    },
    {
     "name": "stderr",
     "output_type": "stream",
     "text": [
      "INFO:finam.export:Processing chunk 1 of 1\n",
      "INFO:finam.export:Fetching http://export.finam.ru/table.csv?d=d&f=table&e=.csv&dtf=1&tmf=3&MSOR=0&mstime=on&mstimever=1&sep=3&sep2=1&at=1&p=5&em=16342&market=1&df=1&mf=6&yf=2020&dt=27&mt=11&yt=2020&cn=YRSB&code=YRSB&datf=5\n"
     ]
    },
    {
     "name": "stdout",
     "output_type": "stream",
     "text": [
      "ТНСэнЯр\n"
     ]
    },
    {
     "name": "stderr",
     "output_type": "stream",
     "text": [
      "INFO:finam.export:Processing chunk 1 of 1\n",
      "INFO:finam.export:Fetching http://export.finam.ru/table.csv?d=d&f=table&e=.csv&dtf=1&tmf=3&MSOR=0&mstime=on&mstimever=1&sep=3&sep2=1&at=1&p=5&em=16343&market=1&df=1&mf=6&yf=2020&dt=27&mt=11&yt=2020&cn=YRSBP&code=YRSBP&datf=5\n"
     ]
    },
    {
     "name": "stdout",
     "output_type": "stream",
     "text": [
      "ТНСэнЯр-п\n"
     ]
    },
    {
     "name": "stderr",
     "output_type": "stream",
     "text": [
      "INFO:finam.export:Processing chunk 1 of 1\n",
      "INFO:finam.export:Fetching http://export.finam.ru/table.csv?d=d&f=table&e=.csv&dtf=1&tmf=3&MSOR=0&mstime=on&mstimever=1&sep=3&sep2=1&at=1&p=5&em=420644&market=1&df=1&mf=6&yf=2020&dt=27&mt=11&yt=2020&cn=TNSE&code=TNSE&datf=5\n"
     ]
    },
    {
     "name": "stdout",
     "output_type": "stream",
     "text": [
      "ТНСэнрг ао\n"
     ]
    },
    {
     "name": "stderr",
     "output_type": "stream",
     "text": [
      "INFO:finam.export:Processing chunk 1 of 1\n",
      "INFO:finam.export:Fetching http://export.finam.ru/table.csv?d=d&f=table&e=.csv&dtf=1&tmf=3&MSOR=0&mstime=on&mstimever=1&sep=3&sep2=1&at=1&p=5&em=20100&market=1&df=1&mf=6&yf=2020&dt=27&mt=11&yt=2020&cn=NKNC&code=NKNC&datf=5\n"
     ]
    },
    {
     "name": "stdout",
     "output_type": "stream",
     "text": [
      "НКНХ ао\n"
     ]
    },
    {
     "name": "stderr",
     "output_type": "stream",
     "text": [
      "INFO:finam.export:Processing chunk 1 of 1\n",
      "INFO:finam.export:Fetching http://export.finam.ru/table.csv?d=d&f=table&e=.csv&dtf=1&tmf=3&MSOR=0&mstime=on&mstimever=1&sep=3&sep2=1&at=1&p=5&em=16797&market=1&df=1&mf=6&yf=2020&dt=27&mt=11&yt=2020&cn=TORS&code=TORS&datf=5\n"
     ]
    },
    {
     "name": "stdout",
     "output_type": "stream",
     "text": [
      "ТРК ао\n"
     ]
    },
    {
     "name": "stderr",
     "output_type": "stream",
     "text": [
      "INFO:finam.export:Processing chunk 1 of 1\n",
      "INFO:finam.export:Fetching http://export.finam.ru/table.csv?d=d&f=table&e=.csv&dtf=1&tmf=3&MSOR=0&mstime=on&mstimever=1&sep=3&sep2=1&at=1&p=5&em=16798&market=1&df=1&mf=6&yf=2020&dt=27&mt=11&yt=2020&cn=TORSP&code=TORSP&datf=5\n"
     ]
    },
    {
     "name": "stdout",
     "output_type": "stream",
     "text": [
      "ТРК ап\n"
     ]
    },
    {
     "name": "stderr",
     "output_type": "stream",
     "text": [
      "INFO:finam.export:Processing chunk 1 of 1\n",
      "INFO:finam.export:Fetching http://export.finam.ru/table.csv?d=d&f=table&e=.csv&dtf=1&tmf=3&MSOR=0&mstime=on&mstimever=1&sep=3&sep2=1&at=1&p=5&em=20101&market=1&df=1&mf=6&yf=2020&dt=27&mt=11&yt=2020&cn=NKNCP&code=NKNCP&datf=5\n"
     ]
    },
    {
     "name": "stdout",
     "output_type": "stream",
     "text": [
      "НКНХ ап\n"
     ]
    },
    {
     "name": "stderr",
     "output_type": "stream",
     "text": [
      "INFO:finam.export:Processing chunk 1 of 1\n",
      "INFO:finam.export:Fetching http://export.finam.ru/table.csv?d=d&f=table&e=.csv&dtf=1&tmf=3&MSOR=0&mstime=on&mstimever=1&sep=3&sep2=1&at=1&p=5&em=74746&market=1&df=1&mf=6&yf=2020&dt=27&mt=11&yt=2020&cn=TUCH&code=TUCH&datf=5\n"
     ]
    },
    {
     "name": "stdout",
     "output_type": "stream",
     "text": [
      "ТКСМ ао\n"
     ]
    },
    {
     "name": "stderr",
     "output_type": "stream",
     "text": [
      "INFO:finam.export:Processing chunk 1 of 1\n",
      "INFO:finam.export:Fetching http://export.finam.ru/table.csv?d=d&f=table&e=.csv&dtf=1&tmf=3&MSOR=0&mstime=on&mstimever=1&sep=3&sep2=1&at=1&p=5&em=74779&market=1&df=1&mf=6&yf=2020&dt=27&mt=11&yt=2020&cn=RBCM&code=RBCM&datf=5\n"
     ]
    },
    {
     "name": "stdout",
     "output_type": "stream",
     "text": [
      "РБК ао\n"
     ]
    },
    {
     "name": "stderr",
     "output_type": "stream",
     "text": [
      "INFO:finam.export:Processing chunk 1 of 1\n",
      "INFO:finam.export:Fetching http://export.finam.ru/table.csv?d=d&f=table&e=.csv&dtf=1&tmf=3&MSOR=0&mstime=on&mstimever=1&sep=3&sep2=1&at=1&p=5&em=2028079&market=1&df=1&mf=6&yf=2020&dt=27&mt=11&yt=2020&cn=GOOG-RM&code=GOOG-RM&datf=5\n"
     ]
    },
    {
     "name": "stdout",
     "output_type": "stream",
     "text": [
      "Google C\n"
     ]
    },
    {
     "name": "stderr",
     "output_type": "stream",
     "text": [
      "INFO:finam.export:Processing chunk 1 of 1\n",
      "INFO:finam.export:Fetching http://export.finam.ru/table.csv?d=d&f=table&e=.csv&dtf=1&tmf=3&MSOR=0&mstime=on&mstimever=1&sep=3&sep2=1&at=1&p=5&em=17086&market=1&df=1&mf=6&yf=2020&dt=27&mt=11&yt=2020&cn=MGNT&code=MGNT&datf=5\n"
     ]
    },
    {
     "name": "stdout",
     "output_type": "stream",
     "text": [
      "Магнит ао\n"
     ]
    },
    {
     "name": "stderr",
     "output_type": "stream",
     "text": [
      "INFO:finam.export:Processing chunk 1 of 1\n",
      "INFO:finam.export:Fetching http://export.finam.ru/table.csv?d=d&f=table&e=.csv&dtf=1&tmf=3&MSOR=0&mstime=on&mstimever=1&sep=3&sep2=1&at=1&p=5&em=17068&market=1&df=1&mf=6&yf=2020&dt=27&mt=11&yt=2020&cn=VZRZ&code=VZRZ&datf=5\n"
     ]
    },
    {
     "name": "stdout",
     "output_type": "stream",
     "text": [
      "Возрожд-ао\n"
     ]
    },
    {
     "name": "stderr",
     "output_type": "stream",
     "text": [
      "INFO:finam.export:Processing chunk 1 of 1\n",
      "INFO:finam.export:Fetching http://export.finam.ru/table.csv?d=d&f=table&e=.csv&dtf=1&tmf=3&MSOR=0&mstime=on&mstimever=1&sep=3&sep2=1&at=1&p=5&em=2139230&market=1&df=1&mf=6&yf=2020&dt=27&mt=11&yt=2020&cn=ADBE-RM&code=ADBE-RM&datf=5\n"
     ]
    },
    {
     "name": "stdout",
     "output_type": "stream",
     "text": [
      "Adobe\n"
     ]
    },
    {
     "name": "stderr",
     "output_type": "stream",
     "text": [
      "INFO:finam.export:Processing chunk 1 of 1\n",
      "INFO:finam.export:Fetching http://export.finam.ru/table.csv?d=d&f=table&e=.csv&dtf=1&tmf=3&MSOR=0&mstime=on&mstimever=1&sep=3&sep2=1&at=1&p=5&em=20947&market=1&df=1&mf=6&yf=2020&dt=27&mt=11&yt=2020&cn=MERF&code=MERF&datf=5\n"
     ]
    },
    {
     "name": "stdout",
     "output_type": "stream",
     "text": [
      "МЕРИДИАН\n"
     ]
    },
    {
     "name": "stderr",
     "output_type": "stream",
     "text": [
      "INFO:finam.export:Processing chunk 1 of 1\n",
      "INFO:finam.export:Fetching http://export.finam.ru/table.csv?d=d&f=table&e=.csv&dtf=1&tmf=3&MSOR=0&mstime=on&mstimever=1&sep=3&sep2=1&at=1&p=5&em=17067&market=1&df=1&mf=6&yf=2020&dt=27&mt=11&yt=2020&cn=VZRZP&code=VZRZP&datf=5\n"
     ]
    },
    {
     "name": "stdout",
     "output_type": "stream",
     "text": [
      "Возрожд-п\n"
     ]
    },
    {
     "name": "stderr",
     "output_type": "stream",
     "text": [
      "INFO:finam.export:Processing chunk 1 of 1\n",
      "INFO:finam.export:Fetching http://export.finam.ru/table.csv?d=d&f=table&e=.csv&dtf=1&tmf=3&MSOR=0&mstime=on&mstimever=1&sep=3&sep2=1&at=1&p=5&em=16866&market=1&df=1&mf=6&yf=2020&dt=27&mt=11&yt=2020&cn=ROSB&code=ROSB&datf=5\n"
     ]
    },
    {
     "name": "stdout",
     "output_type": "stream",
     "text": [
      "Росбанк ао\n"
     ]
    },
    {
     "name": "stderr",
     "output_type": "stream",
     "text": [
      "INFO:finam.export:Processing chunk 1 of 1\n",
      "INFO:finam.export:Fetching http://export.finam.ru/table.csv?d=d&f=table&e=.csv&dtf=1&tmf=3&MSOR=0&mstime=on&mstimever=1&sep=3&sep2=1&at=1&p=5&em=35285&market=1&df=1&mf=6&yf=2020&dt=27&mt=11&yt=2020&cn=KBTK&code=KBTK&datf=5\n"
     ]
    },
    {
     "name": "stdout",
     "output_type": "stream",
     "text": [
      "КузбТК ао\n"
     ]
    },
    {
     "name": "stderr",
     "output_type": "stream",
     "text": [
      "INFO:finam.export:Processing chunk 1 of 1\n",
      "INFO:finam.export:Fetching http://export.finam.ru/table.csv?d=d&f=table&e=.csv&dtf=1&tmf=3&MSOR=0&mstime=on&mstimever=1&sep=3&sep2=1&at=1&p=5&em=16456&market=1&df=1&mf=6&yf=2020&dt=27&mt=11&yt=2020&cn=VGSB&code=VGSB&datf=5\n"
     ]
    },
    {
     "name": "stdout",
     "output_type": "stream",
     "text": [
      "ВолгЭнСб\n"
     ]
    },
    {
     "name": "stderr",
     "output_type": "stream",
     "text": [
      "INFO:finam.export:Processing chunk 1 of 1\n",
      "INFO:finam.export:Fetching http://export.finam.ru/table.csv?d=d&f=table&e=.csv&dtf=1&tmf=3&MSOR=0&mstime=on&mstimever=1&sep=3&sep2=1&at=1&p=5&em=388313&market=1&df=1&mf=6&yf=2020&dt=27&mt=11&yt=2020&cn=RLMNP&code=RLMNP&datf=5\n"
     ]
    },
    {
     "name": "stdout",
     "output_type": "stream",
     "text": [
      "Роллман-п\n"
     ]
    },
    {
     "name": "stderr",
     "output_type": "stream",
     "text": [
      "INFO:finam.export:Processing chunk 1 of 1\n",
      "INFO:finam.export:Fetching http://export.finam.ru/table.csv?d=d&f=table&e=.csv&dtf=1&tmf=3&MSOR=0&mstime=on&mstimever=1&sep=3&sep2=1&at=1&p=5&em=2156323&market=1&df=1&mf=6&yf=2020&dt=27&mt=11&yt=2020&cn=RLMNP&code=RLMNP&datf=5\n"
     ]
    },
    {
     "name": "stdout",
     "output_type": "stream",
     "text": [
      "Роллман-п\n"
     ]
    },
    {
     "name": "stderr",
     "output_type": "stream",
     "text": [
      "INFO:finam.export:Processing chunk 1 of 1\n",
      "INFO:finam.export:Fetching http://export.finam.ru/table.csv?d=d&f=table&e=.csv&dtf=1&tmf=3&MSOR=0&mstime=on&mstimever=1&sep=3&sep2=1&at=1&p=5&em=19043&market=1&df=1&mf=6&yf=2020&dt=27&mt=11&yt=2020&cn=VTBR&code=VTBR&datf=5\n"
     ]
    },
    {
     "name": "stdout",
     "output_type": "stream",
     "text": [
      "ВТБ ао\n"
     ]
    },
    {
     "name": "stderr",
     "output_type": "stream",
     "text": [
      "INFO:finam.export:Processing chunk 1 of 1\n",
      "INFO:finam.export:Fetching http://export.finam.ru/table.csv?d=d&f=table&e=.csv&dtf=1&tmf=3&MSOR=0&mstime=on&mstimever=1&sep=3&sep2=1&at=1&p=5&em=2028090&market=1&df=1&mf=6&yf=2020&dt=27&mt=11&yt=2020&cn=ATVI-RM&code=ATVI-RM&datf=5\n"
     ]
    },
    {
     "name": "stdout",
     "output_type": "stream",
     "text": [
      "Activision\n"
     ]
    },
    {
     "name": "stderr",
     "output_type": "stream",
     "text": [
      "INFO:finam.export:Processing chunk 1 of 1\n",
      "INFO:finam.export:Fetching http://export.finam.ru/table.csv?d=d&f=table&e=.csv&dtf=1&tmf=3&MSOR=0&mstime=on&mstimever=1&sep=3&sep2=1&at=1&p=5&em=2156322&market=1&df=1&mf=6&yf=2020&dt=27&mt=11&yt=2020&cn=RLMN&code=RLMN&datf=5\n"
     ]
    },
    {
     "name": "stdout",
     "output_type": "stream",
     "text": [
      "Роллман\n"
     ]
    },
    {
     "name": "stderr",
     "output_type": "stream",
     "text": [
      "INFO:finam.export:Processing chunk 1 of 1\n",
      "INFO:finam.export:Fetching http://export.finam.ru/table.csv?d=d&f=table&e=.csv&dtf=1&tmf=3&MSOR=0&mstime=on&mstimever=1&sep=3&sep2=1&at=1&p=5&em=152677&market=1&df=1&mf=6&yf=2020&dt=27&mt=11&yt=2020&cn=RLMN&code=RLMN&datf=5\n"
     ]
    },
    {
     "name": "stdout",
     "output_type": "stream",
     "text": [
      "Роллман\n"
     ]
    },
    {
     "name": "stderr",
     "output_type": "stream",
     "text": [
      "INFO:finam.export:Processing chunk 1 of 1\n",
      "INFO:finam.export:Fetching http://export.finam.ru/table.csv?d=d&f=table&e=.csv&dtf=1&tmf=3&MSOR=0&mstime=on&mstimever=1&sep=3&sep2=1&at=1&p=5&em=16457&market=1&df=1&mf=6&yf=2020&dt=27&mt=11&yt=2020&cn=VGSBP&code=VGSBP&datf=5\n"
     ]
    },
    {
     "name": "stdout",
     "output_type": "stream",
     "text": [
      "ВолгЭнСб-п\n"
     ]
    },
    {
     "name": "stderr",
     "output_type": "stream",
     "text": [
      "INFO:finam.export:Processing chunk 1 of 1\n",
      "INFO:finam.export:Fetching http://export.finam.ru/table.csv?d=d&f=table&e=.csv&dtf=1&tmf=3&MSOR=0&mstime=on&mstimever=1&sep=3&sep2=1&at=1&p=5&em=522&market=1&df=1&mf=6&yf=2020&dt=27&mt=11&yt=2020&cn=KUBE&code=KUBE&datf=5\n"
     ]
    },
    {
     "name": "stdout",
     "output_type": "stream",
     "text": [
      "Кубанэнр\n"
     ]
    },
    {
     "name": "stderr",
     "output_type": "stream",
     "text": [
      "INFO:finam.export:Processing chunk 1 of 1\n",
      "INFO:finam.export:Fetching http://export.finam.ru/table.csv?d=d&f=table&e=.csv&dtf=1&tmf=3&MSOR=0&mstime=on&mstimever=1&sep=3&sep2=1&at=1&p=5&em=83251&market=1&df=1&mf=6&yf=2020&dt=27&mt=11&yt=2020&cn=VSYD&code=VSYD&datf=5\n"
     ]
    },
    {
     "name": "stdout",
     "output_type": "stream",
     "text": [
      "ВыбСудЗ ао\n"
     ]
    },
    {
     "name": "stderr",
     "output_type": "stream",
     "text": [
      "INFO:finam.export:Processing chunk 1 of 1\n",
      "INFO:finam.export:Fetching http://export.finam.ru/table.csv?d=d&f=table&e=.csv&dtf=1&tmf=3&MSOR=0&mstime=on&mstimever=1&sep=3&sep2=1&at=1&p=5&em=83252&market=1&df=1&mf=6&yf=2020&dt=27&mt=11&yt=2020&cn=VSYDP&code=VSYDP&datf=5\n"
     ]
    },
    {
     "name": "stdout",
     "output_type": "stream",
     "text": [
      "ВыбСудЗ ап\n"
     ]
    },
    {
     "name": "stderr",
     "output_type": "stream",
     "text": [
      "INFO:finam.export:Processing chunk 1 of 1\n",
      "INFO:finam.export:Fetching http://export.finam.ru/table.csv?d=d&f=table&e=.csv&dtf=1&tmf=3&MSOR=0&mstime=on&mstimever=1&sep=3&sep2=1&at=1&p=5&em=20913&market=1&df=1&mf=6&yf=2020&dt=27&mt=11&yt=2020&cn=KRSBP&code=KRSBP&datf=5\n"
     ]
    },
    {
     "name": "stdout",
     "output_type": "stream",
     "text": [
      "Красэсб ап\n"
     ]
    },
    {
     "name": "stderr",
     "output_type": "stream",
     "text": [
      "INFO:finam.export:Processing chunk 1 of 1\n",
      "INFO:finam.export:Fetching http://export.finam.ru/table.csv?d=d&f=table&e=.csv&dtf=1&tmf=3&MSOR=0&mstime=on&mstimever=1&sep=3&sep2=1&at=1&p=5&em=20912&market=1&df=1&mf=6&yf=2020&dt=27&mt=11&yt=2020&cn=KRSB&code=KRSB&datf=5\n"
     ]
    },
    {
     "name": "stdout",
     "output_type": "stream",
     "text": [
      "Красэсб ао\n"
     ]
    },
    {
     "name": "stderr",
     "output_type": "stream",
     "text": [
      "INFO:finam.export:Processing chunk 1 of 1\n",
      "INFO:finam.export:Fetching http://export.finam.ru/table.csv?d=d&f=table&e=.csv&dtf=1&tmf=3&MSOR=0&mstime=on&mstimever=1&sep=3&sep2=1&at=1&p=5&em=2190351&market=1&df=1&mf=6&yf=2020&dt=27&mt=11&yt=2020&cn=ABT-RM&code=ABT-RM&datf=5\n"
     ]
    },
    {
     "name": "stdout",
     "output_type": "stream",
     "text": [
      "Abbott\n"
     ]
    },
    {
     "name": "stderr",
     "output_type": "stream",
     "text": [
      "INFO:finam.export:Processing chunk 1 of 1\n",
      "INFO:finam.export:Fetching http://export.finam.ru/table.csv?d=d&f=table&e=.csv&dtf=1&tmf=3&MSOR=0&mstime=on&mstimever=1&sep=3&sep2=1&at=1&p=5&em=2139235&market=1&df=1&mf=6&yf=2020&dt=27&mt=11&yt=2020&cn=BMY-RM&code=BMY-RM&datf=5\n"
     ]
    },
    {
     "name": "stdout",
     "output_type": "stream",
     "text": [
      "BMS Co\n"
     ]
    },
    {
     "name": "stderr",
     "output_type": "stream",
     "text": [
      "INFO:finam.export:Processing chunk 1 of 1\n",
      "INFO:finam.export:Fetching http://export.finam.ru/table.csv?d=d&f=table&e=.csv&dtf=1&tmf=3&MSOR=0&mstime=on&mstimever=1&sep=3&sep2=1&at=1&p=5&em=83165&market=1&df=1&mf=6&yf=2020&dt=27&mt=11&yt=2020&cn=KUZB&code=KUZB&datf=5\n"
     ]
    },
    {
     "name": "stdout",
     "output_type": "stream",
     "text": [
      "КузнецкийБ\n"
     ]
    },
    {
     "name": "stderr",
     "output_type": "stream",
     "text": [
      "INFO:finam.export:Processing chunk 1 of 1\n",
      "INFO:finam.export:Fetching http://export.finam.ru/table.csv?d=d&f=table&e=.csv&dtf=1&tmf=3&MSOR=0&mstime=on&mstimever=1&sep=3&sep2=1&at=1&p=5&em=2190354&market=1&df=1&mf=6&yf=2020&dt=27&mt=11&yt=2020&cn=CVX-RM&code=CVX-RM&datf=5\n"
     ]
    },
    {
     "name": "stdout",
     "output_type": "stream",
     "text": [
      "Chevron\n"
     ]
    },
    {
     "name": "stderr",
     "output_type": "stream",
     "text": [
      "INFO:finam.export:Processing chunk 1 of 1\n",
      "INFO:finam.export:Fetching http://export.finam.ru/table.csv?d=d&f=table&e=.csv&dtf=1&tmf=3&MSOR=0&mstime=on&mstimever=1&sep=3&sep2=1&at=1&p=5&em=17257&market=1&df=1&mf=6&yf=2020&dt=27&mt=11&yt=2020&cn=VLHZ&code=VLHZ&datf=5\n"
     ]
    },
    {
     "name": "stdout",
     "output_type": "stream",
     "text": [
      "ВХЗ-ао\n"
     ]
    },
    {
     "name": "stderr",
     "output_type": "stream",
     "text": [
      "INFO:finam.export:Processing chunk 1 of 1\n",
      "INFO:finam.export:Fetching http://export.finam.ru/table.csv?d=d&f=table&e=.csv&dtf=1&tmf=3&MSOR=0&mstime=on&mstimever=1&sep=3&sep2=1&at=1&p=5&em=2190352&market=1&df=1&mf=6&yf=2020&dt=27&mt=11&yt=2020&cn=CAT-RM&code=CAT-RM&datf=5\n"
     ]
    },
    {
     "name": "stdout",
     "output_type": "stream",
     "text": [
      "CAT\n"
     ]
    },
    {
     "name": "stderr",
     "output_type": "stream",
     "text": [
      "INFO:finam.export:Processing chunk 1 of 1\n",
      "INFO:finam.export:Fetching http://export.finam.ru/table.csv?d=d&f=table&e=.csv&dtf=1&tmf=3&MSOR=0&mstime=on&mstimever=1&sep=3&sep2=1&at=1&p=5&em=8&market=1&df=1&mf=6&yf=2020&dt=27&mt=11&yt=2020&cn=LKOH&code=LKOH&datf=5\n"
     ]
    },
    {
     "name": "stdout",
     "output_type": "stream",
     "text": [
      "ЛУКОЙЛ\n"
     ]
    },
    {
     "name": "stderr",
     "output_type": "stream",
     "text": [
      "INFO:finam.export:Processing chunk 1 of 1\n",
      "INFO:finam.export:Fetching http://export.finam.ru/table.csv?d=d&f=table&e=.csv&dtf=1&tmf=3&MSOR=0&mstime=on&mstimever=1&sep=3&sep2=1&at=1&p=5&em=16276&market=1&df=1&mf=6&yf=2020&dt=27&mt=11&yt=2020&cn=LPSB&code=LPSB&datf=5\n"
     ]
    },
    {
     "name": "stdout",
     "output_type": "stream",
     "text": [
      "ЛЭСК ао\n"
     ]
    },
    {
     "name": "stderr",
     "output_type": "stream",
     "text": [
      "INFO:finam.export:Processing chunk 1 of 1\n",
      "INFO:finam.export:Fetching http://export.finam.ru/table.csv?d=d&f=table&e=.csv&dtf=1&tmf=3&MSOR=0&mstime=on&mstimever=1&sep=3&sep2=1&at=1&p=5&em=2190355&market=1&df=1&mf=6&yf=2020&dt=27&mt=11&yt=2020&cn=IBM-RM&code=IBM-RM&datf=5\n"
     ]
    },
    {
     "name": "stdout",
     "output_type": "stream",
     "text": [
      "IBM\n"
     ]
    },
    {
     "name": "stderr",
     "output_type": "stream",
     "text": [
      "INFO:finam.export:Processing chunk 1 of 1\n",
      "INFO:finam.export:Fetching http://export.finam.ru/table.csv?d=d&f=table&e=.csv&dtf=1&tmf=3&MSOR=0&mstime=on&mstimever=1&sep=3&sep2=1&at=1&p=5&em=152517&market=1&df=1&mf=6&yf=2020&dt=27&mt=11&yt=2020&cn=LVHK&code=LVHK&datf=5\n"
     ]
    },
    {
     "name": "stdout",
     "output_type": "stream",
     "text": [
      "Левенгук\n"
     ]
    },
    {
     "name": "stderr",
     "output_type": "stream",
     "text": [
      "INFO:finam.export:Processing chunk 1 of 1\n",
      "INFO:finam.export:Fetching http://export.finam.ru/table.csv?d=d&f=table&e=.csv&dtf=1&tmf=3&MSOR=0&mstime=on&mstimever=1&sep=3&sep2=1&at=1&p=5&em=17273&market=1&df=1&mf=6&yf=2020&dt=27&mt=11&yt=2020&cn=ROSN&code=ROSN&datf=5\n"
     ]
    },
    {
     "name": "stdout",
     "output_type": "stream",
     "text": [
      "Роснефть\n"
     ]
    },
    {
     "name": "stderr",
     "output_type": "stream",
     "text": [
      "INFO:finam.export:Processing chunk 1 of 1\n",
      "INFO:finam.export:Fetching http://export.finam.ru/table.csv?d=d&f=table&e=.csv&dtf=1&tmf=3&MSOR=0&mstime=on&mstimever=1&sep=3&sep2=1&at=1&p=5&em=22094&market=1&df=1&mf=6&yf=2020&dt=27&mt=11&yt=2020&cn=LNZLP&code=LNZLP&datf=5\n"
     ]
    },
    {
     "name": "stdout",
     "output_type": "stream",
     "text": [
      "Лензол. ап\n"
     ]
    },
    {
     "name": "stderr",
     "output_type": "stream",
     "text": [
      "INFO:finam.export:Processing chunk 1 of 1\n",
      "INFO:finam.export:Fetching http://export.finam.ru/table.csv?d=d&f=table&e=.csv&dtf=1&tmf=3&MSOR=0&mstime=on&mstimever=1&sep=3&sep2=1&at=1&p=5&em=21004&market=1&df=1&mf=6&yf=2020&dt=27&mt=11&yt=2020&cn=LNZL&code=LNZL&datf=5\n"
     ]
    },
    {
     "name": "stdout",
     "output_type": "stream",
     "text": [
      "Лензолото\n"
     ]
    },
    {
     "name": "stderr",
     "output_type": "stream",
     "text": [
      "INFO:finam.export:Processing chunk 1 of 1\n",
      "INFO:finam.export:Fetching http://export.finam.ru/table.csv?d=d&f=table&e=.csv&dtf=1&tmf=3&MSOR=0&mstime=on&mstimever=1&sep=3&sep2=1&at=1&p=5&em=2139233&market=1&df=1&mf=6&yf=2020&dt=27&mt=11&yt=2020&cn=BIDU-RM&code=BIDU-RM&datf=5\n"
     ]
    },
    {
     "name": "stdout",
     "output_type": "stream",
     "text": [
      "BIDU-адр\n"
     ]
    },
    {
     "name": "stderr",
     "output_type": "stream",
     "text": [
      "INFO:finam.export:Processing chunk 1 of 1\n",
      "INFO:finam.export:Fetching http://export.finam.ru/table.csv?d=d&f=table&e=.csv&dtf=1&tmf=3&MSOR=0&mstime=on&mstimever=1&sep=3&sep2=1&at=1&p=5&em=81954&market=1&df=1&mf=6&yf=2020&dt=27&mt=11&yt=2020&cn=VJGZ&code=VJGZ&datf=5\n"
     ]
    },
    {
     "name": "stdout",
     "output_type": "stream",
     "text": [
      "Варьеган\n"
     ]
    },
    {
     "name": "stderr",
     "output_type": "stream",
     "text": [
      "INFO:finam.export:Processing chunk 1 of 1\n",
      "INFO:finam.export:Fetching http://export.finam.ru/table.csv?d=d&f=table&e=.csv&dtf=1&tmf=3&MSOR=0&mstime=on&mstimever=1&sep=3&sep2=1&at=1&p=5&em=385792&market=1&df=1&mf=6&yf=2020&dt=27&mt=11&yt=2020&cn=LNTA&code=LNTA&datf=5\n"
     ]
    },
    {
     "name": "stdout",
     "output_type": "stream",
     "text": [
      "Лента др\n"
     ]
    },
    {
     "name": "stderr",
     "output_type": "stream",
     "text": [
      "INFO:finam.export:Processing chunk 1 of 1\n",
      "INFO:finam.export:Fetching http://export.finam.ru/table.csv?d=d&f=table&e=.csv&dtf=1&tmf=3&MSOR=0&mstime=on&mstimever=1&sep=3&sep2=1&at=1&p=5&em=81955&market=1&df=1&mf=6&yf=2020&dt=27&mt=11&yt=2020&cn=VJGZP&code=VJGZP&datf=5\n"
     ]
    },
    {
     "name": "stdout",
     "output_type": "stream",
     "text": [
      "Варьеган-п\n"
     ]
    },
    {
     "name": "stderr",
     "output_type": "stream",
     "text": [
      "INFO:finam.export:Processing chunk 1 of 1\n",
      "INFO:finam.export:Fetching http://export.finam.ru/table.csv?d=d&f=table&e=.csv&dtf=1&tmf=3&MSOR=0&mstime=on&mstimever=1&sep=3&sep2=1&at=1&p=5&em=152350&market=1&df=1&mf=6&yf=2020&dt=27&mt=11&yt=2020&cn=KGKCP&code=KGKCP&datf=5\n"
     ]
    },
    {
     "name": "stdout",
     "output_type": "stream",
     "text": [
      "КурганГКап\n"
     ]
    },
    {
     "name": "stderr",
     "output_type": "stream",
     "text": [
      "INFO:finam.export:Processing chunk 1 of 1\n",
      "INFO:finam.export:Fetching http://export.finam.ru/table.csv?d=d&f=table&e=.csv&dtf=1&tmf=3&MSOR=0&mstime=on&mstimever=1&sep=3&sep2=1&at=1&p=5&em=83261&market=1&df=1&mf=6&yf=2020&dt=27&mt=11&yt=2020&cn=KGKC&code=KGKC&datf=5\n"
     ]
    },
    {
     "name": "stdout",
     "output_type": "stream",
     "text": [
      "КурганГКао\n"
     ]
    },
    {
     "name": "stderr",
     "output_type": "stream",
     "text": [
      "INFO:finam.export:Processing chunk 1 of 1\n",
      "INFO:finam.export:Fetching http://export.finam.ru/table.csv?d=d&f=table&e=.csv&dtf=1&tmf=3&MSOR=0&mstime=on&mstimever=1&sep=3&sep2=1&at=1&p=5&em=2139236&market=1&df=1&mf=6&yf=2020&dt=27&mt=11&yt=2020&cn=CSCO-RM&code=CSCO-RM&datf=5\n"
     ]
    },
    {
     "name": "stdout",
     "output_type": "stream",
     "text": [
      "Cisco\n"
     ]
    },
    {
     "name": "stderr",
     "output_type": "stream",
     "text": [
      "INFO:finam.export:Processing chunk 1 of 1\n",
      "INFO:finam.export:Fetching http://export.finam.ru/table.csv?d=d&f=table&e=.csv&dtf=1&tmf=3&MSOR=0&mstime=on&mstimever=1&sep=3&sep2=1&at=1&p=5&em=81942&market=1&df=1&mf=6&yf=2020&dt=27&mt=11&yt=2020&cn=KAZTP&code=KAZTP&datf=5\n"
     ]
    },
    {
     "name": "stdout",
     "output_type": "stream",
     "text": [
      "Куйбазот-п\n"
     ]
    },
    {
     "name": "stderr",
     "output_type": "stream",
     "text": [
      "INFO:finam.export:Processing chunk 1 of 1\n",
      "INFO:finam.export:Fetching http://export.finam.ru/table.csv?d=d&f=table&e=.csv&dtf=1&tmf=3&MSOR=0&mstime=on&mstimever=1&sep=3&sep2=1&at=1&p=5&em=19737&market=1&df=1&mf=6&yf=2020&dt=27&mt=11&yt=2020&cn=MVID&code=MVID&datf=5\n"
     ]
    },
    {
     "name": "stdout",
     "output_type": "stream",
     "text": [
      "М.видео\n"
     ]
    },
    {
     "name": "stderr",
     "output_type": "stream",
     "text": [
      "INFO:finam.export:Processing chunk 1 of 1\n",
      "INFO:finam.export:Fetching http://export.finam.ru/table.csv?d=d&f=table&e=.csv&dtf=1&tmf=3&MSOR=0&mstime=on&mstimever=1&sep=3&sep2=1&at=1&p=5&em=2139231&market=1&df=1&mf=6&yf=2020&dt=27&mt=11&yt=2020&cn=AVGO-RM&code=AVGO-RM&datf=5\n"
     ]
    },
    {
     "name": "stdout",
     "output_type": "stream",
     "text": [
      "Broadcom\n"
     ]
    },
    {
     "name": "stderr",
     "output_type": "stream",
     "text": [
      "INFO:finam.export:Processing chunk 1 of 1\n",
      "INFO:finam.export:Fetching http://export.finam.ru/table.csv?d=d&f=table&e=.csv&dtf=1&tmf=3&MSOR=0&mstime=on&mstimever=1&sep=3&sep2=1&at=1&p=5&em=81941&market=1&df=1&mf=6&yf=2020&dt=27&mt=11&yt=2020&cn=KAZT&code=KAZT&datf=5\n"
     ]
    },
    {
     "name": "stdout",
     "output_type": "stream",
     "text": [
      "Куйбазот\n"
     ]
    },
    {
     "name": "stderr",
     "output_type": "stream",
     "text": [
      "INFO:finam.export:Processing chunk 1 of 1\n",
      "INFO:finam.export:Fetching http://export.finam.ru/table.csv?d=d&f=table&e=.csv&dtf=1&tmf=3&MSOR=0&mstime=on&mstimever=1&sep=3&sep2=1&at=1&p=5&em=12983&market=1&df=1&mf=6&yf=2020&dt=27&mt=11&yt=2020&cn=MGTSP&code=MGTSP&datf=5\n"
     ]
    },
    {
     "name": "stdout",
     "output_type": "stream",
     "text": [
      "МГТС-4ап\n"
     ]
    },
    {
     "name": "stderr",
     "output_type": "stream",
     "text": [
      "INFO:finam.export:Processing chunk 1 of 1\n",
      "INFO:finam.export:Fetching http://export.finam.ru/table.csv?d=d&f=table&e=.csv&dtf=1&tmf=3&MSOR=0&mstime=on&mstimever=1&sep=3&sep2=1&at=1&p=5&em=12984&market=1&df=1&mf=6&yf=2020&dt=27&mt=11&yt=2020&cn=MGTS&code=MGTS&datf=5\n"
     ]
    },
    {
     "name": "stdout",
     "output_type": "stream",
     "text": [
      "МГТС-5ао\n"
     ]
    },
    {
     "name": "stderr",
     "output_type": "stream",
     "text": [
      "INFO:finam.export:Processing chunk 1 of 1\n",
      "INFO:finam.export:Fetching http://export.finam.ru/table.csv?d=d&f=table&e=.csv&dtf=1&tmf=3&MSOR=0&mstime=on&mstimever=1&sep=3&sep2=1&at=1&p=5&em=2139229&market=1&df=1&mf=6&yf=2020&dt=27&mt=11&yt=2020&cn=ABBV-RM&code=ABBV-RM&datf=5\n"
     ]
    },
    {
     "name": "stdout",
     "output_type": "stream",
     "text": [
      "AbbVie\n"
     ]
    },
    {
     "name": "stderr",
     "output_type": "stream",
     "text": [
      "INFO:finam.export:Processing chunk 1 of 1\n",
      "INFO:finam.export:Fetching http://export.finam.ru/table.csv?d=d&f=table&e=.csv&dtf=1&tmf=3&MSOR=0&mstime=on&mstimever=1&sep=3&sep2=1&at=1&p=5&em=22525&market=1&df=1&mf=6&yf=2020&dt=27&mt=11&yt=2020&cn=KMEZ&code=KMEZ&datf=5\n"
     ]
    },
    {
     "name": "stdout",
     "output_type": "stream",
     "text": [
      "КМЗ\n"
     ]
    },
    {
     "name": "stderr",
     "output_type": "stream",
     "text": [
      "INFO:finam.export:Processing chunk 1 of 1\n",
      "INFO:finam.export:Fetching http://export.finam.ru/table.csv?d=d&f=table&e=.csv&dtf=1&tmf=3&MSOR=0&mstime=on&mstimever=1&sep=3&sep2=1&at=1&p=5&em=17713&market=1&df=1&mf=6&yf=2020&dt=27&mt=11&yt=2020&cn=RASP&code=RASP&datf=5\n"
     ]
    },
    {
     "name": "stdout",
     "output_type": "stream",
     "text": [
      "Распадская\n"
     ]
    },
    {
     "name": "stderr",
     "output_type": "stream",
     "text": [
      "INFO:finam.export:Processing chunk 1 of 1\n",
      "INFO:finam.export:Fetching http://export.finam.ru/table.csv?d=d&f=table&e=.csv&dtf=1&tmf=3&MSOR=0&mstime=on&mstimever=1&sep=3&sep2=1&at=1&p=5&em=81998&market=1&df=1&mf=6&yf=2020&dt=27&mt=11&yt=2020&cn=GAZAP&code=GAZAP&datf=5\n"
     ]
    },
    {
     "name": "stdout",
     "output_type": "stream",
     "text": [
      "ГАЗ ап\n"
     ]
    },
    {
     "name": "stderr",
     "output_type": "stream",
     "text": [
      "INFO:finam.export:Processing chunk 1 of 1\n",
      "INFO:finam.export:Fetching http://export.finam.ru/table.csv?d=d&f=table&e=.csv&dtf=1&tmf=3&MSOR=0&mstime=on&mstimever=1&sep=3&sep2=1&at=1&p=5&em=20235&market=1&df=1&mf=6&yf=2020&dt=27&mt=11&yt=2020&cn=MRKC&code=MRKC&datf=5\n"
     ]
    },
    {
     "name": "stdout",
     "output_type": "stream",
     "text": [
      "МРСК Центр\n"
     ]
    },
    {
     "name": "stderr",
     "output_type": "stream",
     "text": [
      "INFO:finam.export:Processing chunk 1 of 1\n",
      "INFO:finam.export:Fetching http://export.finam.ru/table.csv?d=d&f=table&e=.csv&dtf=1&tmf=3&MSOR=0&mstime=on&mstimever=1&sep=3&sep2=1&at=1&p=5&em=2190356&market=1&df=1&mf=6&yf=2020&dt=27&mt=11&yt=2020&cn=JNJ-RM&code=JNJ-RM&datf=5\n"
     ]
    },
    {
     "name": "stdout",
     "output_type": "stream",
     "text": [
      "J&J\n"
     ]
    },
    {
     "name": "stderr",
     "output_type": "stream",
     "text": [
      "INFO:finam.export:Processing chunk 1 of 1\n",
      "INFO:finam.export:Fetching http://export.finam.ru/table.csv?d=d&f=table&e=.csv&dtf=1&tmf=3&MSOR=0&mstime=on&mstimever=1&sep=3&sep2=1&at=1&p=5&em=2139228&market=1&df=1&mf=6&yf=2020&dt=27&mt=11&yt=2020&cn=AAL-RM&code=AAL-RM&datf=5\n"
     ]
    },
    {
     "name": "stdout",
     "output_type": "stream",
     "text": [
      "AmAirlines\n"
     ]
    },
    {
     "name": "stderr",
     "output_type": "stream",
     "text": [
      "INFO:finam.export:Processing chunk 1 of 1\n",
      "INFO:finam.export:Fetching http://export.finam.ru/table.csv?d=d&f=table&e=.csv&dtf=1&tmf=3&MSOR=0&mstime=on&mstimever=1&sep=3&sep2=1&at=1&p=5&em=2028087&market=1&df=1&mf=6&yf=2020&dt=27&mt=11&yt=2020&cn=AMZN-RM&code=AMZN-RM&datf=5\n"
     ]
    },
    {
     "name": "stdout",
     "output_type": "stream",
     "text": [
      "Amazon\n"
     ]
    },
    {
     "name": "stderr",
     "output_type": "stream",
     "text": [
      "INFO:finam.export:Processing chunk 1 of 1\n",
      "INFO:finam.export:Fetching http://export.finam.ru/table.csv?d=d&f=table&e=.csv&dtf=1&tmf=3&MSOR=0&mstime=on&mstimever=1&sep=3&sep2=1&at=1&p=5&em=20498&market=1&df=1&mf=6&yf=2020&dt=27&mt=11&yt=2020&cn=KCHEP&code=KCHEP&datf=5\n"
     ]
    },
    {
     "name": "stdout",
     "output_type": "stream",
     "text": [
      "КамчатЭ ап\n"
     ]
    },
    {
     "name": "stderr",
     "output_type": "stream",
     "text": [
      "INFO:finam.export:Processing chunk 1 of 1\n",
      "INFO:finam.export:Fetching http://export.finam.ru/table.csv?d=d&f=table&e=.csv&dtf=1&tmf=3&MSOR=0&mstime=on&mstimever=1&sep=3&sep2=1&at=1&p=5&em=20030&market=1&df=1&mf=6&yf=2020&dt=27&mt=11&yt=2020&cn=KCHE&code=KCHE&datf=5\n"
     ]
    },
    {
     "name": "stdout",
     "output_type": "stream",
     "text": [
      "КамчатЭ ао\n"
     ]
    },
    {
     "name": "stderr",
     "output_type": "stream",
     "text": [
      "INFO:finam.export:Processing chunk 1 of 1\n",
      "INFO:finam.export:Fetching http://export.finam.ru/table.csv?d=d&f=table&e=.csv&dtf=1&tmf=3&MSOR=0&mstime=on&mstimever=1&sep=3&sep2=1&at=1&p=5&em=16329&market=1&df=1&mf=6&yf=2020&dt=27&mt=11&yt=2020&cn=KLSB&code=KLSB&datf=5\n"
     ]
    },
    {
     "name": "stdout",
     "output_type": "stream",
     "text": [
      "КалужскСК\n"
     ]
    },
    {
     "name": "stderr",
     "output_type": "stream",
     "text": [
      "INFO:finam.export:Processing chunk 1 of 1\n",
      "INFO:finam.export:Fetching http://export.finam.ru/table.csv?d=d&f=table&e=.csv&dtf=1&tmf=3&MSOR=0&mstime=on&mstimever=1&sep=3&sep2=1&at=1&p=5&em=3&market=1&df=1&mf=6&yf=2020&dt=27&mt=11&yt=2020&cn=SBER&code=SBER&datf=5\n"
     ]
    },
    {
     "name": "stdout",
     "output_type": "stream",
     "text": [
      "Сбербанк\n"
     ]
    },
    {
     "name": "stderr",
     "output_type": "stream",
     "text": [
      "INFO:finam.export:Processing chunk 1 of 1\n",
      "INFO:finam.export:Fetching http://export.finam.ru/table.csv?d=d&f=table&e=.csv&dtf=1&tmf=3&MSOR=0&mstime=on&mstimever=1&sep=3&sep2=1&at=1&p=5&em=23&market=1&df=1&mf=6&yf=2020&dt=27&mt=11&yt=2020&cn=SBERP&code=SBERP&datf=5\n"
     ]
    },
    {
     "name": "stdout",
     "output_type": "stream",
     "text": [
      "Сбербанк-п\n"
     ]
    },
    {
     "name": "stderr",
     "output_type": "stream",
     "text": [
      "INFO:finam.export:Processing chunk 1 of 1\n",
      "INFO:finam.export:Fetching http://export.finam.ru/table.csv?d=d&f=table&e=.csv&dtf=1&tmf=3&MSOR=0&mstime=on&mstimever=1&sep=3&sep2=1&at=1&p=5&em=20107&market=1&df=1&mf=6&yf=2020&dt=27&mt=11&yt=2020&cn=MRKP&code=MRKP&datf=5\n"
     ]
    },
    {
     "name": "stdout",
     "output_type": "stream",
     "text": [
      "МРСК ЦП\n"
     ]
    },
    {
     "name": "stderr",
     "output_type": "stream",
     "text": [
      "INFO:finam.export:Processing chunk 1 of 1\n",
      "INFO:finam.export:Fetching http://export.finam.ru/table.csv?d=d&f=table&e=.csv&dtf=1&tmf=3&MSOR=0&mstime=on&mstimever=1&sep=3&sep2=1&at=1&p=5&em=2028096&market=1&df=1&mf=6&yf=2020&dt=27&mt=11&yt=2020&cn=T-RM&code=T-RM&datf=5\n"
     ]
    },
    {
     "name": "stdout",
     "output_type": "stream",
     "text": [
      "ATT\n"
     ]
    },
    {
     "name": "stderr",
     "output_type": "stream",
     "text": [
      "INFO:finam.export:Processing chunk 1 of 1\n",
      "INFO:finam.export:Fetching http://export.finam.ru/table.csv?d=d&f=table&e=.csv&dtf=1&tmf=3&MSOR=0&mstime=on&mstimever=1&sep=3&sep2=1&at=1&p=5&em=16285&market=1&df=1&mf=6&yf=2020&dt=27&mt=11&yt=2020&cn=KTSBP&code=KTSBP&datf=5\n"
     ]
    },
    {
     "name": "stdout",
     "output_type": "stream",
     "text": [
      "КСБ ап\n"
     ]
    },
    {
     "name": "stderr",
     "output_type": "stream",
     "text": [
      "INFO:finam.export:Processing chunk 1 of 1\n",
      "INFO:finam.export:Fetching http://export.finam.ru/table.csv?d=d&f=table&e=.csv&dtf=1&tmf=3&MSOR=0&mstime=on&mstimever=1&sep=3&sep2=1&at=1&p=5&em=16284&market=1&df=1&mf=6&yf=2020&dt=27&mt=11&yt=2020&cn=KTSB&code=KTSB&datf=5\n"
     ]
    },
    {
     "name": "stdout",
     "output_type": "stream",
     "text": [
      "КСБ ао\n"
     ]
    },
    {
     "name": "stderr",
     "output_type": "stream",
     "text": [
      "INFO:finam.export:Processing chunk 1 of 1\n",
      "INFO:finam.export:Fetching http://export.finam.ru/table.csv?d=d&f=table&e=.csv&dtf=1&tmf=3&MSOR=0&mstime=on&mstimever=1&sep=3&sep2=1&at=1&p=5&em=16136&market=1&df=1&mf=6&yf=2020&dt=27&mt=11&yt=2020&cn=CHMF&code=CHMF&datf=5\n"
     ]
    },
    {
     "name": "stdout",
     "output_type": "stream",
     "text": [
      "СевСт-ао\n"
     ]
    },
    {
     "name": "stderr",
     "output_type": "stream",
     "text": [
      "INFO:finam.export:Processing chunk 1 of 1\n",
      "INFO:finam.export:Fetching http://export.finam.ru/table.csv?d=d&f=table&e=.csv&dtf=1&tmf=3&MSOR=0&mstime=on&mstimever=1&sep=3&sep2=1&at=1&p=5&em=15523&market=1&df=1&mf=6&yf=2020&dt=27&mt=11&yt=2020&cn=MTSS&code=MTSS&datf=5\n"
     ]
    },
    {
     "name": "stdout",
     "output_type": "stream",
     "text": [
      "МТС-ао\n"
     ]
    },
    {
     "name": "stderr",
     "output_type": "stream",
     "text": [
      "INFO:finam.export:Processing chunk 1 of 1\n",
      "INFO:finam.export:Fetching http://export.finam.ru/table.csv?d=d&f=table&e=.csv&dtf=1&tmf=3&MSOR=0&mstime=on&mstimever=1&sep=3&sep2=1&at=1&p=5&em=81360&market=1&df=1&mf=6&yf=2020&dt=27&mt=11&yt=2020&cn=SELG&code=SELG&datf=5\n"
     ]
    },
    {
     "name": "stdout",
     "output_type": "stream",
     "text": [
      "Селигдар\n"
     ]
    },
    {
     "name": "stderr",
     "output_type": "stream",
     "text": [
      "INFO:finam.export:Processing chunk 1 of 1\n",
      "INFO:finam.export:Fetching http://export.finam.ru/table.csv?d=d&f=table&e=.csv&dtf=1&tmf=3&MSOR=0&mstime=on&mstimever=1&sep=3&sep2=1&at=1&p=5&em=82610&market=1&df=1&mf=6&yf=2020&dt=27&mt=11&yt=2020&cn=SELGP&code=SELGP&datf=5\n"
     ]
    },
    {
     "name": "stdout",
     "output_type": "stream",
     "text": [
      "Селигдар-п\n"
     ]
    },
    {
     "name": "stderr",
     "output_type": "stream",
     "text": [
      "INFO:finam.export:Processing chunk 1 of 1\n",
      "INFO:finam.export:Fetching http://export.finam.ru/table.csv?d=d&f=table&e=.csv&dtf=1&tmf=3&MSOR=0&mstime=on&mstimever=1&sep=3&sep2=1&at=1&p=5&em=436091&market=1&df=1&mf=6&yf=2020&dt=27&mt=11&yt=2020&cn=SIBG&code=SIBG&datf=5\n"
     ]
    },
    {
     "name": "stdout",
     "output_type": "stream",
     "text": [
      "СибГост ао\n"
     ]
    },
    {
     "name": "stderr",
     "output_type": "stream",
     "text": [
      "INFO:finam.export:Processing chunk 1 of 1\n",
      "INFO:finam.export:Fetching http://export.finam.ru/table.csv?d=d&f=table&e=.csv&dtf=1&tmf=3&MSOR=0&mstime=on&mstimever=1&sep=3&sep2=1&at=1&p=5&em=74562&market=1&df=1&mf=6&yf=2020&dt=27&mt=11&yt=2020&cn=MAGE&code=MAGE&datf=5\n"
     ]
    },
    {
     "name": "stdout",
     "output_type": "stream",
     "text": [
      "МагадЭн ао\n"
     ]
    },
    {
     "name": "stderr",
     "output_type": "stream",
     "text": [
      "INFO:finam.export:Processing chunk 1 of 1\n",
      "INFO:finam.export:Fetching http://export.finam.ru/table.csv?d=d&f=table&e=.csv&dtf=1&tmf=3&MSOR=0&mstime=on&mstimever=1&sep=3&sep2=1&at=1&p=5&em=74563&market=1&df=1&mf=6&yf=2020&dt=27&mt=11&yt=2020&cn=MAGEP&code=MAGEP&datf=5\n"
     ]
    },
    {
     "name": "stdout",
     "output_type": "stream",
     "text": [
      "МагадЭн ап\n"
     ]
    },
    {
     "name": "stderr",
     "output_type": "stream",
     "text": [
      "INFO:finam.export:Processing chunk 1 of 1\n",
      "INFO:finam.export:Fetching http://export.finam.ru/table.csv?d=d&f=table&e=.csv&dtf=1&tmf=3&MSOR=0&mstime=on&mstimever=1&sep=3&sep2=1&at=1&p=5&em=81943&market=1&df=1&mf=6&yf=2020&dt=27&mt=11&yt=2020&cn=KUNF&code=KUNF&datf=5\n"
     ]
    },
    {
     "name": "stdout",
     "output_type": "stream",
     "text": [
      "КУЗОЦМ ао\n"
     ]
    },
    {
     "name": "stderr",
     "output_type": "stream",
     "text": [
      "INFO:finam.export:Processing chunk 1 of 1\n",
      "INFO:finam.export:Fetching http://export.finam.ru/table.csv?d=d&f=table&e=.csv&dtf=1&tmf=3&MSOR=0&mstime=on&mstimever=1&sep=3&sep2=1&at=1&p=5&em=20402&market=1&df=1&mf=6&yf=2020&dt=27&mt=11&yt=2020&cn=MRKU&code=MRKU&datf=5\n"
     ]
    },
    {
     "name": "stdout",
     "output_type": "stream",
     "text": [
      "МРСК Ур\n"
     ]
    },
    {
     "name": "stderr",
     "output_type": "stream",
     "text": [
      "INFO:finam.export:Processing chunk 1 of 1\n",
      "INFO:finam.export:Fetching http://export.finam.ru/table.csv?d=d&f=table&e=.csv&dtf=1&tmf=3&MSOR=0&mstime=on&mstimever=1&sep=3&sep2=1&at=1&p=5&em=20309&market=1&df=1&mf=6&yf=2020&dt=27&mt=11&yt=2020&cn=MRKZ&code=MRKZ&datf=5\n"
     ]
    },
    {
     "name": "stdout",
     "output_type": "stream",
     "text": [
      "МРСК СЗ\n"
     ]
    },
    {
     "name": "stderr",
     "output_type": "stream",
     "text": [
      "INFO:finam.export:Processing chunk 1 of 1\n",
      "INFO:finam.export:Fetching http://export.finam.ru/table.csv?d=d&f=table&e=.csv&dtf=1&tmf=3&MSOR=0&mstime=on&mstimever=1&sep=3&sep2=1&at=1&p=5&em=2028093&market=1&df=1&mf=6&yf=2020&dt=27&mt=11&yt=2020&cn=INTC-RM&code=INTC-RM&datf=5\n"
     ]
    },
    {
     "name": "stdout",
     "output_type": "stream",
     "text": [
      "Intel\n"
     ]
    },
    {
     "name": "stderr",
     "output_type": "stream",
     "text": [
      "INFO:finam.export:Processing chunk 1 of 1\n",
      "INFO:finam.export:Fetching http://export.finam.ru/table.csv?d=d&f=table&e=.csv&dtf=1&tmf=3&MSOR=0&mstime=on&mstimever=1&sep=3&sep2=1&at=1&p=5&em=414279&market=1&df=1&mf=6&yf=2020&dt=27&mt=11&yt=2020&cn=RUAL&code=RUAL&datf=5\n"
     ]
    },
    {
     "name": "stdout",
     "output_type": "stream",
     "text": [
      "РУСАЛ ао\n"
     ]
    },
    {
     "name": "stderr",
     "output_type": "stream",
     "text": [
      "INFO:finam.export:Processing chunk 1 of 1\n",
      "INFO:finam.export:Fetching http://export.finam.ru/table.csv?d=d&f=table&e=.csv&dtf=1&tmf=3&MSOR=0&mstime=on&mstimever=1&sep=3&sep2=1&at=1&p=5&em=82115&market=1&df=1&mf=6&yf=2020&dt=27&mt=11&yt=2020&cn=GAZT&code=GAZT&datf=5\n"
     ]
    },
    {
     "name": "stdout",
     "output_type": "stream",
     "text": [
      "ГАЗ-Тек ао\n"
     ]
    },
    {
     "name": "stderr",
     "output_type": "stream",
     "text": [
      "INFO:finam.export:Processing chunk 1 of 1\n",
      "INFO:finam.export:Fetching http://export.finam.ru/table.csv?d=d&f=table&e=.csv&dtf=1&tmf=3&MSOR=0&mstime=on&mstimever=1&sep=3&sep2=1&at=1&p=5&em=81399&market=1&df=1&mf=6&yf=2020&dt=27&mt=11&yt=2020&cn=GAZS&code=GAZS&datf=5\n"
     ]
    },
    {
     "name": "stdout",
     "output_type": "stream",
     "text": [
      "ГАЗ-сервис\n"
     ]
    },
    {
     "name": "stderr",
     "output_type": "stream",
     "text": [
      "INFO:finam.export:Processing chunk 1 of 1\n",
      "INFO:finam.export:Fetching http://export.finam.ru/table.csv?d=d&f=table&e=.csv&dtf=1&tmf=3&MSOR=0&mstime=on&mstimever=1&sep=3&sep2=1&at=1&p=5&em=81398&market=1&df=1&mf=6&yf=2020&dt=27&mt=11&yt=2020&cn=GAZC&code=GAZC&datf=5\n"
     ]
    },
    {
     "name": "stdout",
     "output_type": "stream",
     "text": [
      "ГАЗКОН-ао\n"
     ]
    },
    {
     "name": "stderr",
     "output_type": "stream",
     "text": [
      "INFO:finam.export:Processing chunk 1 of 1\n",
      "INFO:finam.export:Fetching http://export.finam.ru/table.csv?d=d&f=table&e=.csv&dtf=1&tmf=3&MSOR=0&mstime=on&mstimever=1&sep=3&sep2=1&at=1&p=5&em=16842&market=1&df=1&mf=6&yf=2020&dt=27&mt=11&yt=2020&cn=GAZP&code=GAZP&datf=5\n"
     ]
    },
    {
     "name": "stdout",
     "output_type": "stream",
     "text": [
      "ГАЗПРОМ ао\n"
     ]
    },
    {
     "name": "stderr",
     "output_type": "stream",
     "text": [
      "INFO:finam.export:Processing chunk 1 of 1\n",
      "INFO:finam.export:Fetching http://export.finam.ru/table.csv?d=d&f=table&e=.csv&dtf=1&tmf=3&MSOR=0&mstime=on&mstimever=1&sep=3&sep2=1&at=1&p=5&em=436120&market=1&df=1&mf=6&yf=2020&dt=27&mt=11&yt=2020&cn=GTSS&code=GTSS&datf=5\n"
     ]
    },
    {
     "name": "stdout",
     "output_type": "stream",
     "text": [
      "ГЕОТЕК ао\n"
     ]
    },
    {
     "name": "stderr",
     "output_type": "stream",
     "text": [
      "INFO:finam.export:Processing chunk 1 of 1\n",
      "INFO:finam.export:Fetching http://export.finam.ru/table.csv?d=d&f=table&e=.csv&dtf=1&tmf=3&MSOR=0&mstime=on&mstimever=1&sep=3&sep2=1&at=1&p=5&em=449114&market=1&df=1&mf=6&yf=2020&dt=27&mt=11&yt=2020&cn=GRNT&code=GRNT&datf=5\n"
     ]
    },
    {
     "name": "stdout",
     "output_type": "stream",
     "text": [
      "ГИТ ао\n"
     ]
    },
    {
     "name": "stderr",
     "output_type": "stream",
     "text": [
      "INFO:finam.export:Processing chunk 1 of 1\n",
      "INFO:finam.export:Fetching http://export.finam.ru/table.csv?d=d&f=table&e=.csv&dtf=1&tmf=3&MSOR=0&mstime=on&mstimever=1&sep=3&sep2=1&at=1&p=5&em=795&market=1&df=1&mf=6&yf=2020&dt=27&mt=11&yt=2020&cn=GMKN&code=GMKN&datf=5\n"
     ]
    },
    {
     "name": "stdout",
     "output_type": "stream",
     "text": [
      "ГМКНорНик\n"
     ]
    },
    {
     "name": "stderr",
     "output_type": "stream",
     "text": [
      "INFO:finam.export:Processing chunk 1 of 1\n",
      "INFO:finam.export:Fetching http://export.finam.ru/table.csv?d=d&f=table&e=.csv&dtf=1&tmf=3&MSOR=0&mstime=on&mstimever=1&sep=3&sep2=1&at=1&p=5&em=16917&market=1&df=1&mf=6&yf=2020&dt=27&mt=11&yt=2020&cn=MSRS&code=MSRS&datf=5\n"
     ]
    },
    {
     "name": "stdout",
     "output_type": "stream",
     "text": [
      "РСетиМР ао\n"
     ]
    },
    {
     "name": "stderr",
     "output_type": "stream",
     "text": [
      "INFO:finam.export:Processing chunk 1 of 1\n",
      "INFO:finam.export:Fetching http://export.finam.ru/table.csv?d=d&f=table&e=.csv&dtf=1&tmf=3&MSOR=0&mstime=on&mstimever=1&sep=3&sep2=1&at=1&p=5&em=2190358&market=1&df=1&mf=6&yf=2020&dt=27&mt=11&yt=2020&cn=KO-RM&code=KO-RM&datf=5\n"
     ]
    },
    {
     "name": "stdout",
     "output_type": "stream",
     "text": [
      "Coca-Cola\n"
     ]
    },
    {
     "name": "stderr",
     "output_type": "stream",
     "text": [
      "INFO:finam.export:Processing chunk 1 of 1\n",
      "INFO:finam.export:Fetching http://export.finam.ru/table.csv?d=d&f=table&e=.csv&dtf=1&tmf=3&MSOR=0&mstime=on&mstimever=1&sep=3&sep2=1&at=1&p=5&em=542&market=1&df=1&mf=6&yf=2020&dt=27&mt=11&yt=2020&cn=LSNGP&code=LSNGP&datf=5\n"
     ]
    },
    {
     "name": "stdout",
     "output_type": "stream",
     "text": [
      "РСетиЛЭ-п\n"
     ]
    },
    {
     "name": "stderr",
     "output_type": "stream",
     "text": [
      "INFO:finam.export:Processing chunk 1 of 1\n",
      "INFO:finam.export:Fetching http://export.finam.ru/table.csv?d=d&f=table&e=.csv&dtf=1&tmf=3&MSOR=0&mstime=on&mstimever=1&sep=3&sep2=1&at=1&p=5&em=31&market=1&df=1&mf=6&yf=2020&dt=27&mt=11&yt=2020&cn=LSNG&code=LSNG&datf=5\n"
     ]
    },
    {
     "name": "stdout",
     "output_type": "stream",
     "text": [
      "РСетиЛЭ\n"
     ]
    },
    {
     "name": "stderr",
     "output_type": "stream",
     "text": [
      "INFO:finam.export:Processing chunk 1 of 1\n",
      "INFO:finam.export:Fetching http://export.finam.ru/table.csv?d=d&f=table&e=.csv&dtf=1&tmf=3&MSOR=0&mstime=on&mstimever=1&sep=3&sep2=1&at=1&p=5&em=510&market=1&df=1&mf=6&yf=2020&dt=27&mt=11&yt=2020&cn=KROT&code=KROT&datf=5\n"
     ]
    },
    {
     "name": "stdout",
     "output_type": "stream",
     "text": [
      "КрасОкт-ао\n"
     ]
    },
    {
     "name": "stderr",
     "output_type": "stream",
     "text": [
      "INFO:finam.export:Processing chunk 1 of 1\n",
      "INFO:finam.export:Fetching http://export.finam.ru/table.csv?d=d&f=table&e=.csv&dtf=1&tmf=3&MSOR=0&mstime=on&mstimever=1&sep=3&sep2=1&at=1&p=5&em=420694&market=1&df=1&mf=6&yf=2020&dt=27&mt=11&yt=2020&cn=CBOM&code=CBOM&datf=5\n"
     ]
    },
    {
     "name": "stdout",
     "output_type": "stream",
     "text": [
      "МКБ ао\n"
     ]
    },
    {
     "name": "stderr",
     "output_type": "stream",
     "text": [
      "INFO:finam.export:Processing chunk 1 of 1\n",
      "INFO:finam.export:Fetching http://export.finam.ru/table.csv?d=d&f=table&e=.csv&dtf=1&tmf=3&MSOR=0&mstime=on&mstimever=1&sep=3&sep2=1&at=1&p=5&em=16782&market=1&df=1&mf=6&yf=2020&dt=27&mt=11&yt=2020&cn=MAGN&code=MAGN&datf=5\n"
     ]
    },
    {
     "name": "stdout",
     "output_type": "stream",
     "text": [
      "ММК\n"
     ]
    },
    {
     "name": "stderr",
     "output_type": "stream",
     "text": [
      "INFO:finam.export:Processing chunk 1 of 1\n",
      "INFO:finam.export:Fetching http://export.finam.ru/table.csv?d=d&f=table&e=.csv&dtf=1&tmf=3&MSOR=0&mstime=on&mstimever=1&sep=3&sep2=1&at=1&p=5&em=511&market=1&df=1&mf=6&yf=2020&dt=27&mt=11&yt=2020&cn=KROTP&code=KROTP&datf=5\n"
     ]
    },
    {
     "name": "stdout",
     "output_type": "stream",
     "text": [
      "КрасОкт-1п\n"
     ]
    },
    {
     "name": "stderr",
     "output_type": "stream",
     "text": [
      "INFO:finam.export:Processing chunk 1 of 1\n",
      "INFO:finam.export:Fetching http://export.finam.ru/table.csv?d=d&f=table&e=.csv&dtf=1&tmf=3&MSOR=0&mstime=on&mstimever=1&sep=3&sep2=1&at=1&p=5&em=81903&market=1&df=1&mf=6&yf=2020&dt=27&mt=11&yt=2020&cn=KMTZ&code=KMTZ&datf=5\n"
     ]
    },
    {
     "name": "stdout",
     "output_type": "stream",
     "text": [
      "КосогМЗ ао\n"
     ]
    },
    {
     "name": "stderr",
     "output_type": "stream",
     "text": [
      "INFO:finam.export:Processing chunk 1 of 1\n",
      "INFO:finam.export:Fetching http://export.finam.ru/table.csv?d=d&f=table&e=.csv&dtf=1&tmf=3&MSOR=0&mstime=on&mstimever=1&sep=3&sep2=1&at=1&p=5&em=20710&market=1&df=1&mf=6&yf=2020&dt=27&mt=11&yt=2020&cn=KOGK&code=KOGK&datf=5\n"
     ]
    },
    {
     "name": "stdout",
     "output_type": "stream",
     "text": [
      "КоршГОК ао\n"
     ]
    },
    {
     "name": "stderr",
     "output_type": "stream",
     "text": [
      "INFO:finam.export:Processing chunk 1 of 1\n",
      "INFO:finam.export:Fetching http://export.finam.ru/table.csv?d=d&f=table&e=.csv&dtf=1&tmf=3&MSOR=0&mstime=on&mstimever=1&sep=3&sep2=1&at=1&p=5&em=75094&market=1&df=1&mf=6&yf=2020&dt=27&mt=11&yt=2020&cn=KSGR&code=KSGR&datf=5\n"
     ]
    },
    {
     "name": "stdout",
     "output_type": "stream",
     "text": [
      "Кокс ао\n"
     ]
    },
    {
     "name": "stderr",
     "output_type": "stream",
     "text": [
      "INFO:finam.export:Processing chunk 1 of 1\n",
      "INFO:finam.export:Fetching http://export.finam.ru/table.csv?d=d&f=table&e=.csv&dtf=1&tmf=3&MSOR=0&mstime=on&mstimever=1&sep=3&sep2=1&at=1&p=5&em=18391&market=1&df=1&mf=6&yf=2020&dt=27&mt=11&yt=2020&cn=TGKDP&code=TGKDP&datf=5\n"
     ]
    },
    {
     "name": "stdout",
     "output_type": "stream",
     "text": [
      "Квадра-п\n"
     ]
    },
    {
     "name": "stderr",
     "output_type": "stream",
     "text": [
      "INFO:finam.export:Processing chunk 1 of 1\n",
      "INFO:finam.export:Fetching http://export.finam.ru/table.csv?d=d&f=table&e=.csv&dtf=1&tmf=3&MSOR=0&mstime=on&mstimever=1&sep=3&sep2=1&at=1&p=5&em=18310&market=1&df=1&mf=6&yf=2020&dt=27&mt=11&yt=2020&cn=TGKD&code=TGKD&datf=5\n"
     ]
    },
    {
     "name": "stdout",
     "output_type": "stream",
     "text": [
      "Квадра\n"
     ]
    },
    {
     "name": "stderr",
     "output_type": "stream",
     "text": [
      "INFO:finam.export:Processing chunk 1 of 1\n",
      "INFO:finam.export:Fetching http://export.finam.ru/table.csv?d=d&f=table&e=.csv&dtf=1&tmf=3&MSOR=0&mstime=on&mstimever=1&sep=3&sep2=1&at=1&p=5&em=81997&market=1&df=1&mf=6&yf=2020&dt=27&mt=11&yt=2020&cn=GAZA&code=GAZA&datf=5\n"
     ]
    },
    {
     "name": "stdout",
     "output_type": "stream",
     "text": [
      "ГАЗ ао\n"
     ]
    },
    {
     "name": "stderr",
     "output_type": "stream",
     "text": [
      "INFO:finam.export:Processing chunk 1 of 1\n",
      "INFO:finam.export:Fetching http://export.finam.ru/table.csv?d=d&f=table&e=.csv&dtf=1&tmf=3&MSOR=0&mstime=on&mstimever=1&sep=3&sep2=1&at=1&p=5&em=81947&market=1&df=1&mf=6&yf=2020&dt=27&mt=11&yt=2020&cn=NKSH&code=NKSH&datf=5\n"
     ]
    },
    {
     "name": "stdout",
     "output_type": "stream",
     "text": [
      "Нижкамшина\n"
     ]
    },
    {
     "name": "stderr",
     "output_type": "stream",
     "text": [
      "INFO:finam.export:Processing chunk 1 of 1\n",
      "INFO:finam.export:Fetching http://export.finam.ru/table.csv?d=d&f=table&e=.csv&dtf=1&tmf=3&MSOR=0&mstime=on&mstimever=1&sep=3&sep2=1&at=1&p=5&em=16546&market=1&df=1&mf=6&yf=2020&dt=27&mt=11&yt=2020&cn=VRSB&code=VRSB&datf=5\n"
     ]
    },
    {
     "name": "stdout",
     "output_type": "stream",
     "text": [
      "ТНСэнВорон\n"
     ]
    },
    {
     "name": "stderr",
     "output_type": "stream",
     "text": [
      "INFO:finam.export:Processing chunk 1 of 1\n",
      "INFO:finam.export:Fetching http://export.finam.ru/table.csv?d=d&f=table&e=.csv&dtf=1&tmf=3&MSOR=0&mstime=on&mstimever=1&sep=3&sep2=1&at=1&p=5&em=2179435&market=1&df=1&mf=6&yf=2020&dt=27&mt=11&yt=2020&cn=OZON&code=OZON&datf=5\n"
     ]
    },
    {
     "name": "stdout",
     "output_type": "stream",
     "text": [
      "OZON-адр\n"
     ]
    },
    {
     "name": "stderr",
     "output_type": "stream",
     "text": [
      "INFO:finam.export:Processing chunk 1 of 1\n",
      "INFO:finam.export:Fetching http://export.finam.ru/table.csv?d=d&f=table&e=.csv&dtf=1&tmf=3&MSOR=0&mstime=on&mstimever=1&sep=3&sep2=1&at=1&p=5&em=2139238&market=1&df=1&mf=6&yf=2020&dt=27&mt=11&yt=2020&cn=F-RM&code=F-RM&datf=5\n"
     ]
    },
    {
     "name": "stdout",
     "output_type": "stream",
     "text": [
      "Ford Motor\n"
     ]
    },
    {
     "name": "stderr",
     "output_type": "stream",
     "text": [
      "INFO:finam.export:Processing chunk 1 of 1\n",
      "INFO:finam.export:Fetching http://export.finam.ru/table.csv?d=d&f=table&e=.csv&dtf=1&tmf=3&MSOR=0&mstime=on&mstimever=1&sep=3&sep2=1&at=1&p=5&em=2139244&market=1&df=1&mf=6&yf=2020&dt=27&mt=11&yt=2020&cn=PYPL-RM&code=PYPL-RM&datf=5\n"
     ]
    },
    {
     "name": "stdout",
     "output_type": "stream",
     "text": [
      "PayPal\n"
     ]
    },
    {
     "name": "stderr",
     "output_type": "stream",
     "text": [
      "INFO:finam.export:Processing chunk 1 of 1\n",
      "INFO:finam.export:Fetching http://export.finam.ru/table.csv?d=d&f=table&e=.csv&dtf=1&tmf=3&MSOR=0&mstime=on&mstimever=1&sep=3&sep2=1&at=1&p=5&em=1919466&market=1&df=1&mf=6&yf=2020&dt=27&mt=11&yt=2020&cn=POGR&code=POGR&datf=5\n"
     ]
    },
    {
     "name": "stdout",
     "output_type": "stream",
     "text": [
      "Petropavl\n"
     ]
    },
    {
     "name": "stderr",
     "output_type": "stream",
     "text": [
      "INFO:finam.export:Processing chunk 1 of 1\n",
      "INFO:finam.export:Fetching http://export.finam.ru/table.csv?d=d&f=table&e=.csv&dtf=1&tmf=3&MSOR=0&mstime=on&mstimever=1&sep=3&sep2=1&at=1&p=5&em=2028095&market=1&df=1&mf=6&yf=2020&dt=27&mt=11&yt=2020&cn=PFE-RM&code=PFE-RM&datf=5\n"
     ]
    },
    {
     "name": "stdout",
     "output_type": "stream",
     "text": [
      "Pfizer\n"
     ]
    },
    {
     "name": "stderr",
     "output_type": "stream",
     "text": [
      "INFO:finam.export:Processing chunk 1 of 1\n",
      "INFO:finam.export:Fetching http://export.finam.ru/table.csv?d=d&f=table&e=.csv&dtf=1&tmf=3&MSOR=0&mstime=on&mstimever=1&sep=3&sep2=1&at=1&p=5&em=175924&market=1&df=1&mf=6&yf=2020&dt=27&mt=11&yt=2020&cn=POLY&code=POLY&datf=5\n"
     ]
    },
    {
     "name": "stdout",
     "output_type": "stream",
     "text": [
      "Polymetal\n"
     ]
    },
    {
     "name": "stderr",
     "output_type": "stream",
     "text": [
      "INFO:finam.export:Processing chunk 1 of 1\n",
      "INFO:finam.export:Fetching http://export.finam.ru/table.csv?d=d&f=table&e=.csv&dtf=1&tmf=3&MSOR=0&mstime=on&mstimever=1&sep=3&sep2=1&at=1&p=5&em=81939&market=1&df=1&mf=6&yf=2020&dt=27&mt=11&yt=2020&cn=HIMC&code=HIMC&datf=5\n"
     ]
    },
    {
     "name": "stdout",
     "output_type": "stream",
     "text": [
      "Химпром ао\n"
     ]
    },
    {
     "name": "stderr",
     "output_type": "stream",
     "text": [
      "INFO:finam.export:Processing chunk 1 of 1\n",
      "INFO:finam.export:Fetching http://export.finam.ru/table.csv?d=d&f=table&e=.csv&dtf=1&tmf=3&MSOR=0&mstime=on&mstimever=1&sep=3&sep2=1&at=1&p=5&em=81940&market=1&df=1&mf=6&yf=2020&dt=27&mt=11&yt=2020&cn=HIMCP&code=HIMCP&datf=5\n"
     ]
    },
    {
     "name": "stdout",
     "output_type": "stream",
     "text": [
      "Химпром ап\n"
     ]
    },
    {
     "name": "stderr",
     "output_type": "stream",
     "text": [
      "INFO:finam.export:Processing chunk 1 of 1\n",
      "INFO:finam.export:Fetching http://export.finam.ru/table.csv?d=d&f=table&e=.csv&dtf=1&tmf=3&MSOR=0&mstime=on&mstimever=1&sep=3&sep2=1&at=1&p=5&em=19095&market=1&df=1&mf=6&yf=2020&dt=27&mt=11&yt=2020&cn=WTCM&code=WTCM&datf=5\n"
     ]
    },
    {
     "name": "stdout",
     "output_type": "stream",
     "text": [
      "ЦМТ ао\n"
     ]
    },
    {
     "name": "stderr",
     "output_type": "stream",
     "text": [
      "INFO:finam.export:Processing chunk 1 of 1\n",
      "INFO:finam.export:Fetching http://export.finam.ru/table.csv?d=d&f=table&e=.csv&dtf=1&tmf=3&MSOR=0&mstime=on&mstimever=1&sep=3&sep2=1&at=1&p=5&em=19096&market=1&df=1&mf=6&yf=2020&dt=27&mt=11&yt=2020&cn=WTCMP&code=WTCMP&datf=5\n"
     ]
    },
    {
     "name": "stdout",
     "output_type": "stream",
     "text": [
      "ЦМТ ап\n"
     ]
    },
    {
     "name": "stderr",
     "output_type": "stream",
     "text": [
      "INFO:finam.export:Processing chunk 1 of 1\n",
      "INFO:finam.export:Fetching http://export.finam.ru/table.csv?d=d&f=table&e=.csv&dtf=1&tmf=3&MSOR=0&mstime=on&mstimever=1&sep=3&sep2=1&at=1&p=5&em=2139245&market=1&df=1&mf=6&yf=2020&dt=27&mt=11&yt=2020&cn=QCOM-RM&code=QCOM-RM&datf=5\n"
     ]
    },
    {
     "name": "stdout",
     "output_type": "stream",
     "text": [
      "QUALCOMM\n"
     ]
    },
    {
     "name": "stderr",
     "output_type": "stream",
     "text": [
      "INFO:finam.export:Processing chunk 1 of 1\n",
      "INFO:finam.export:Fetching http://export.finam.ru/table.csv?d=d&f=table&e=.csv&dtf=1&tmf=3&MSOR=0&mstime=on&mstimever=1&sep=3&sep2=1&at=1&p=5&em=2139237&market=1&df=1&mf=6&yf=2020&dt=27&mt=11&yt=2020&cn=EA-RM&code=EA-RM&datf=5\n"
     ]
    },
    {
     "name": "stdout",
     "output_type": "stream",
     "text": [
      "EA Inc.\n"
     ]
    },
    {
     "name": "stderr",
     "output_type": "stream",
     "text": [
      "INFO:finam.export:Processing chunk 1 of 1\n",
      "INFO:finam.export:Fetching http://export.finam.ru/table.csv?d=d&f=table&e=.csv&dtf=1&tmf=3&MSOR=0&mstime=on&mstimever=1&sep=3&sep2=1&at=1&p=5&em=2139234&market=1&df=1&mf=6&yf=2020&dt=27&mt=11&yt=2020&cn=BIIB-RM&code=BIIB-RM&datf=5\n"
     ]
    },
    {
     "name": "stdout",
     "output_type": "stream",
     "text": [
      "Biogen\n"
     ]
    },
    {
     "name": "stderr",
     "output_type": "stream",
     "text": [
      "INFO:finam.export:Processing chunk 1 of 1\n",
      "INFO:finam.export:Fetching http://export.finam.ru/table.csv?d=d&f=table&e=.csv&dtf=1&tmf=3&MSOR=0&mstime=on&mstimever=1&sep=3&sep2=1&at=1&p=5&em=83121&market=1&df=1&mf=6&yf=2020&dt=27&mt=11&yt=2020&cn=PRFN&code=PRFN&datf=5\n"
     ]
    },
    {
     "name": "stdout",
     "output_type": "stream",
     "text": [
      "ЧЗПСН ао\n"
     ]
    },
    {
     "name": "stderr",
     "output_type": "stream",
     "text": [
      "INFO:finam.export:Processing chunk 1 of 1\n",
      "INFO:finam.export:Fetching http://export.finam.ru/table.csv?d=d&f=table&e=.csv&dtf=1&tmf=3&MSOR=0&mstime=on&mstimever=1&sep=3&sep2=1&at=1&p=5&em=35238&market=1&df=1&mf=6&yf=2020&dt=27&mt=11&yt=2020&cn=AQUA&code=AQUA&datf=5\n"
     ]
    },
    {
     "name": "stdout",
     "output_type": "stream",
     "text": [
      "РусАква ао\n"
     ]
    },
    {
     "name": "stderr",
     "output_type": "stream",
     "text": [
      "INFO:finam.export:Processing chunk 1 of 1\n",
      "INFO:finam.export:Fetching http://export.finam.ru/table.csv?d=d&f=table&e=.csv&dtf=1&tmf=3&MSOR=0&mstime=on&mstimever=1&sep=3&sep2=1&at=1&p=5&em=20266&market=1&df=1&mf=6&yf=2020&dt=27&mt=11&yt=2020&cn=HYDR&code=HYDR&datf=5\n"
     ]
    },
    {
     "name": "stdout",
     "output_type": "stream",
     "text": [
      "РусГидро\n"
     ]
    },
    {
     "name": "stderr",
     "output_type": "stream",
     "text": [
      "INFO:finam.export:Processing chunk 1 of 1\n",
      "INFO:finam.export:Fetching http://export.finam.ru/table.csv?d=d&f=table&e=.csv&dtf=1&tmf=3&MSOR=0&mstime=on&mstimever=1&sep=3&sep2=1&at=1&p=5&em=21000&market=1&df=1&mf=6&yf=2020&dt=27&mt=11&yt=2020&cn=CHKZ&code=CHKZ&datf=5\n"
     ]
    },
    {
     "name": "stdout",
     "output_type": "stream",
     "text": [
      "ЧКПЗ ао\n"
     ]
    },
    {
     "name": "stderr",
     "output_type": "stream",
     "text": [
      "INFO:finam.export:Processing chunk 1 of 1\n",
      "INFO:finam.export:Fetching http://export.finam.ru/table.csv?d=d&f=table&e=.csv&dtf=1&tmf=3&MSOR=0&mstime=on&mstimever=1&sep=3&sep2=1&at=1&p=5&em=21001&market=1&df=1&mf=6&yf=2020&dt=27&mt=11&yt=2020&cn=CHMK&code=CHMK&datf=5\n"
     ]
    },
    {
     "name": "stdout",
     "output_type": "stream",
     "text": [
      "ЧМК ао\n"
     ]
    },
    {
     "name": "stderr",
     "output_type": "stream",
     "text": [
      "INFO:finam.export:Processing chunk 1 of 1\n",
      "INFO:finam.export:Fetching http://export.finam.ru/table.csv?d=d&f=table&e=.csv&dtf=1&tmf=3&MSOR=0&mstime=on&mstimever=1&sep=3&sep2=1&at=1&p=5&em=152876&market=1&df=1&mf=6&yf=2020&dt=27&mt=11&yt=2020&cn=GTLC&code=GTLC&datf=5\n"
     ]
    },
    {
     "name": "stdout",
     "output_type": "stream",
     "text": [
      "ПАОДжиТиЭл\n"
     ]
    },
    {
     "name": "stderr",
     "output_type": "stream",
     "text": [
      "INFO:finam.export:Processing chunk 1 of 1\n",
      "INFO:finam.export:Fetching http://export.finam.ru/table.csv?d=d&f=table&e=.csv&dtf=1&tmf=3&MSOR=0&mstime=on&mstimever=1&sep=3&sep2=1&at=1&p=5&em=20999&market=1&df=1&mf=6&yf=2020&dt=27&mt=11&yt=2020&cn=CHEP&code=CHEP&datf=5\n"
     ]
    },
    {
     "name": "stdout",
     "output_type": "stream",
     "text": [
      "ЧТПЗ ао\n"
     ]
    },
    {
     "name": "stderr",
     "output_type": "stream",
     "text": [
      "INFO:finam.export:Processing chunk 1 of 1\n",
      "INFO:finam.export:Fetching http://export.finam.ru/table.csv?d=d&f=table&e=.csv&dtf=1&tmf=3&MSOR=0&mstime=on&mstimever=1&sep=3&sep2=1&at=1&p=5&em=498713&market=1&df=1&mf=6&yf=2020&dt=27&mt=11&yt=2020&cn=RAVN&code=RAVN&datf=5\n"
     ]
    },
    {
     "name": "stdout",
     "output_type": "stream",
     "text": [
      "Raven\n"
     ]
    },
    {
     "name": "stderr",
     "output_type": "stream",
     "text": [
      "INFO:finam.export:Processing chunk 1 of 1\n",
      "INFO:finam.export:Fetching http://export.finam.ru/table.csv?d=d&f=table&e=.csv&dtf=1&tmf=3&MSOR=0&mstime=on&mstimever=1&sep=3&sep2=1&at=1&p=5&em=66893&market=1&df=1&mf=6&yf=2020&dt=27&mt=11&yt=2020&cn=RUGR&code=RUGR&datf=5\n"
     ]
    },
    {
     "name": "stdout",
     "output_type": "stream",
     "text": [
      "Русгрэйн\n"
     ]
    },
    {
     "name": "stderr",
     "output_type": "stream",
     "text": [
      "INFO:finam.export:Processing chunk 1 of 1\n",
      "INFO:finam.export:Fetching http://export.finam.ru/table.csv?d=d&f=table&e=.csv&dtf=1&tmf=3&MSOR=0&mstime=on&mstimever=1&sep=3&sep2=1&at=1&p=5&em=20346&market=1&df=1&mf=6&yf=2020&dt=27&mt=11&yt=2020&cn=MRKS&code=MRKS&datf=5\n"
     ]
    },
    {
     "name": "stdout",
     "output_type": "stream",
     "text": [
      "РсетСиб ао\n"
     ]
    },
    {
     "name": "stderr",
     "output_type": "stream",
     "text": [
      "INFO:finam.export:Processing chunk 1 of 1\n",
      "INFO:finam.export:Fetching http://export.finam.ru/table.csv?d=d&f=table&e=.csv&dtf=1&tmf=3&MSOR=0&mstime=on&mstimever=1&sep=3&sep2=1&at=1&p=5&em=20286&market=1&df=1&mf=6&yf=2020&dt=27&mt=11&yt=2020&cn=MRKV&code=MRKV&datf=5\n"
     ]
    },
    {
     "name": "stdout",
     "output_type": "stream",
     "text": [
      "РсетВол ао\n"
     ]
    },
    {
     "name": "stderr",
     "output_type": "stream",
     "text": [
      "INFO:finam.export:Processing chunk 1 of 1\n",
      "INFO:finam.export:Fetching http://export.finam.ru/table.csv?d=d&f=table&e=.csv&dtf=1&tmf=3&MSOR=0&mstime=on&mstimever=1&sep=3&sep2=1&at=1&p=5&em=2190361&market=1&df=1&mf=6&yf=2020&dt=27&mt=11&yt=2020&cn=PG-RM&code=PG-RM&datf=5\n"
     ]
    },
    {
     "name": "stdout",
     "output_type": "stream",
     "text": [
      "P&G\n"
     ]
    },
    {
     "name": "stderr",
     "output_type": "stream",
     "text": [
      "INFO:finam.export:Processing chunk 1 of 1\n",
      "INFO:finam.export:Fetching http://export.finam.ru/table.csv?d=d&f=table&e=.csv&dtf=1&tmf=3&MSOR=0&mstime=on&mstimever=1&sep=3&sep2=1&at=1&p=5&em=17370&market=1&df=1&mf=6&yf=2020&dt=27&mt=11&yt=2020&cn=NVTK&code=NVTK&datf=5\n"
     ]
    },
    {
     "name": "stdout",
     "output_type": "stream",
     "text": [
      "Новатэк ао\n"
     ]
    },
    {
     "name": "stderr",
     "output_type": "stream",
     "text": [
      "INFO:finam.export:Processing chunk 1 of 1\n",
      "INFO:finam.export:Fetching http://export.finam.ru/table.csv?d=d&f=table&e=.csv&dtf=1&tmf=3&MSOR=0&mstime=on&mstimever=1&sep=3&sep2=1&at=1&p=5&em=74744&market=1&df=1&mf=6&yf=2020&dt=27&mt=11&yt=2020&cn=DZRD&code=DZRD&datf=5\n"
     ]
    },
    {
     "name": "stdout",
     "output_type": "stream",
     "text": [
      "ДонскЗР\n"
     ]
    },
    {
     "name": "stderr",
     "output_type": "stream",
     "text": [
      "INFO:finam.export:Processing chunk 1 of 1\n",
      "INFO:finam.export:Fetching http://export.finam.ru/table.csv?d=d&f=table&e=.csv&dtf=1&tmf=3&MSOR=0&mstime=on&mstimever=1&sep=3&sep2=1&at=1&p=5&em=70&market=1&df=1&mf=6&yf=2020&dt=27&mt=11&yt=2020&cn=SAGOP&code=SAGOP&datf=5\n"
     ]
    },
    {
     "name": "stdout",
     "output_type": "stream",
     "text": [
      "СамарЭн-ап\n"
     ]
    },
    {
     "name": "stderr",
     "output_type": "stream",
     "text": [
      "INFO:finam.export:Processing chunk 1 of 1\n",
      "INFO:finam.export:Fetching http://export.finam.ru/table.csv?d=d&f=table&e=.csv&dtf=1&tmf=3&MSOR=0&mstime=on&mstimever=1&sep=3&sep2=1&at=1&p=5&em=2190357&market=1&df=1&mf=6&yf=2020&dt=27&mt=11&yt=2020&cn=KHC-RM&code=KHC-RM&datf=5\n"
     ]
    },
    {
     "name": "stdout",
     "output_type": "stream",
     "text": [
      "KraftHeinz\n"
     ]
    },
    {
     "name": "stderr",
     "output_type": "stream",
     "text": [
      "INFO:finam.export:Processing chunk 1 of 1\n",
      "INFO:finam.export:Fetching http://export.finam.ru/table.csv?d=d&f=table&e=.csv&dtf=1&tmf=3&MSOR=0&mstime=on&mstimever=1&sep=3&sep2=1&at=1&p=5&em=445&market=1&df=1&mf=6&yf=2020&dt=27&mt=11&yt=2020&cn=SAGO&code=SAGO&datf=5\n"
     ]
    },
    {
     "name": "stdout",
     "output_type": "stream",
     "text": [
      "СамарЭн-ао\n"
     ]
    },
    {
     "name": "stderr",
     "output_type": "stream",
     "text": [
      "INFO:finam.export:Processing chunk 1 of 1\n",
      "INFO:finam.export:Fetching http://export.finam.ru/table.csv?d=d&f=table&e=.csv&dtf=1&tmf=3&MSOR=0&mstime=on&mstimever=1&sep=3&sep2=1&at=1&p=5&em=1938060&market=1&df=1&mf=6&yf=2020&dt=27&mt=11&yt=2020&cn=MAIL&code=MAIL&datf=5\n"
     ]
    },
    {
     "name": "stdout",
     "output_type": "stream",
     "text": [
      "MAIL-гдр\n"
     ]
    },
    {
     "name": "stderr",
     "output_type": "stream",
     "text": [
      "INFO:finam.export:Processing chunk 1 of 1\n",
      "INFO:finam.export:Fetching http://export.finam.ru/table.csv?d=d&f=table&e=.csv&dtf=1&tmf=3&MSOR=0&mstime=on&mstimever=1&sep=3&sep2=1&at=1&p=5&em=2152359&market=1&df=1&mf=6&yf=2020&dt=27&mt=11&yt=2020&cn=MDMG&code=MDMG&datf=5\n"
     ]
    },
    {
     "name": "stdout",
     "output_type": "stream",
     "text": [
      "MDMG-гдр\n"
     ]
    },
    {
     "name": "stderr",
     "output_type": "stream",
     "text": [
      "INFO:finam.export:Processing chunk 1 of 1\n",
      "INFO:finam.export:Fetching http://export.finam.ru/table.csv?d=d&f=table&e=.csv&dtf=1&tmf=3&MSOR=0&mstime=on&mstimever=1&sep=3&sep2=1&at=1&p=5&em=74745&market=1&df=1&mf=6&yf=2020&dt=27&mt=11&yt=2020&cn=DZRDP&code=DZRDP&datf=5\n"
     ]
    },
    {
     "name": "stdout",
     "output_type": "stream",
     "text": [
      "ДонскЗР п\n"
     ]
    },
    {
     "name": "stderr",
     "output_type": "stream",
     "text": [
      "INFO:finam.export:Processing chunk 1 of 1\n",
      "INFO:finam.export:Fetching http://export.finam.ru/table.csv?d=d&f=table&e=.csv&dtf=1&tmf=3&MSOR=0&mstime=on&mstimever=1&sep=3&sep2=1&at=1&p=5&em=2139242&market=1&df=1&mf=6&yf=2020&dt=27&mt=11&yt=2020&cn=HPQ-RM&code=HPQ-RM&datf=5\n"
     ]
    },
    {
     "name": "stdout",
     "output_type": "stream",
     "text": [
      "HP\n"
     ]
    },
    {
     "name": "stderr",
     "output_type": "stream",
     "text": [
      "INFO:finam.export:Processing chunk 1 of 1\n",
      "INFO:finam.export:Fetching http://export.finam.ru/table.csv?d=d&f=table&e=.csv&dtf=1&tmf=3&MSOR=0&mstime=on&mstimever=1&sep=3&sep2=1&at=1&p=5&em=2139232&market=1&df=1&mf=6&yf=2020&dt=27&mt=11&yt=2020&cn=BABA-RM&code=BABA-RM&datf=5\n"
     ]
    },
    {
     "name": "stdout",
     "output_type": "stream",
     "text": [
      "BABA-адр\n"
     ]
    },
    {
     "name": "stderr",
     "output_type": "stream",
     "text": [
      "INFO:finam.export:Processing chunk 1 of 1\n",
      "INFO:finam.export:Fetching http://export.finam.ru/table.csv?d=d&f=table&e=.csv&dtf=1&tmf=3&MSOR=0&mstime=on&mstimever=1&sep=3&sep2=1&at=1&p=5&em=2028089&market=1&df=1&mf=6&yf=2020&dt=27&mt=11&yt=2020&cn=MA-RM&code=MA-RM&datf=5\n"
     ]
    },
    {
     "name": "stdout",
     "output_type": "stream",
     "text": [
      "Master  A\n"
     ]
    },
    {
     "name": "stderr",
     "output_type": "stream",
     "text": [
      "INFO:finam.export:Processing chunk 1 of 1\n",
      "INFO:finam.export:Fetching http://export.finam.ru/table.csv?d=d&f=table&e=.csv&dtf=1&tmf=3&MSOR=0&mstime=on&mstimever=1&sep=3&sep2=1&at=1&p=5&em=2139239&market=1&df=1&mf=6&yf=2020&dt=27&mt=11&yt=2020&cn=FDX-RM&code=FDX-RM&datf=5\n"
     ]
    },
    {
     "name": "stdout",
     "output_type": "stream",
     "text": [
      "FedEx\n"
     ]
    },
    {
     "name": "stderr",
     "output_type": "stream",
     "text": [
      "INFO:finam.export:Processing chunk 1 of 1\n",
      "INFO:finam.export:Fetching http://export.finam.ru/table.csv?d=d&f=table&e=.csv&dtf=1&tmf=3&MSOR=0&mstime=on&mstimever=1&sep=3&sep2=1&at=1&p=5&em=2028082&market=1&df=1&mf=6&yf=2020&dt=27&mt=11&yt=2020&cn=MCD-RM&code=MCD-RM&datf=5\n"
     ]
    },
    {
     "name": "stdout",
     "output_type": "stream",
     "text": [
      "McDonald\\'s\n"
     ]
    },
    {
     "name": "stderr",
     "output_type": "stream",
     "text": [
      "INFO:finam.export:Processing chunk 1 of 1\n",
      "INFO:finam.export:Fetching http://export.finam.ru/table.csv?d=d&f=table&e=.csv&dtf=1&tmf=3&MSOR=0&mstime=on&mstimever=1&sep=3&sep2=1&at=1&p=5&em=2028086&market=1&df=1&mf=6&yf=2020&dt=27&mt=11&yt=2020&cn=MSFT-RM&code=MSFT-RM&datf=5\n"
     ]
    },
    {
     "name": "stdout",
     "output_type": "stream",
     "text": [
      "Microsoft\n"
     ]
    },
    {
     "name": "stderr",
     "output_type": "stream",
     "text": [
      "INFO:finam.export:Processing chunk 1 of 1\n",
      "INFO:finam.export:Fetching http://export.finam.ru/table.csv?d=d&f=table&e=.csv&dtf=1&tmf=3&MSOR=0&mstime=on&mstimever=1&sep=3&sep2=1&at=1&p=5&em=2190360&market=1&df=1&mf=6&yf=2020&dt=27&mt=11&yt=2020&cn=NKE-RM&code=NKE-RM&datf=5\n"
     ]
    },
    {
     "name": "stdout",
     "output_type": "stream",
     "text": [
      "NIKE\n"
     ]
    },
    {
     "name": "stderr",
     "output_type": "stream",
     "text": [
      "INFO:finam.export:Processing chunk 1 of 1\n",
      "INFO:finam.export:Fetching http://export.finam.ru/table.csv?d=d&f=table&e=.csv&dtf=1&tmf=3&MSOR=0&mstime=on&mstimever=1&sep=3&sep2=1&at=1&p=5&em=81858&market=1&df=1&mf=6&yf=2020&dt=27&mt=11&yt=2020&cn=NPOF&code=NPOF&datf=5\n"
     ]
    },
    {
     "name": "stdout",
     "output_type": "stream",
     "text": [
      "Физика ао\n"
     ]
    },
    {
     "name": "stderr",
     "output_type": "stream",
     "text": [
      "INFO:finam.export:Processing chunk 1 of 1\n",
      "INFO:finam.export:Fetching http://export.finam.ru/table.csv?d=d&f=table&e=.csv&dtf=1&tmf=3&MSOR=0&mstime=on&mstimever=1&sep=3&sep2=1&at=1&p=5&em=2028091&market=1&df=1&mf=6&yf=2020&dt=27&mt=11&yt=2020&cn=DIS-RM&code=DIS-RM&datf=5\n"
     ]
    },
    {
     "name": "stdout",
     "output_type": "stream",
     "text": [
      "Disney\n"
     ]
    },
    {
     "name": "stderr",
     "output_type": "stream",
     "text": [
      "INFO:finam.export:Processing chunk 1 of 1\n",
      "INFO:finam.export:Fetching http://export.finam.ru/table.csv?d=d&f=table&e=.csv&dtf=1&tmf=3&MSOR=0&mstime=on&mstimever=1&sep=3&sep2=1&at=1&p=5&em=2028084&market=1&df=1&mf=6&yf=2020&dt=27&mt=11&yt=2020&cn=NVDA-RM&code=NVDA-RM&datf=5\n"
     ]
    },
    {
     "name": "stdout",
     "output_type": "stream",
     "text": [
      "NVIDIA\n"
     ]
    },
    {
     "name": "stderr",
     "output_type": "stream",
     "text": [
      "INFO:finam.export:Processing chunk 1 of 1\n",
      "INFO:finam.export:Fetching http://export.finam.ru/table.csv?d=d&f=table&e=.csv&dtf=1&tmf=3&MSOR=0&mstime=on&mstimever=1&sep=3&sep2=1&at=1&p=5&em=2028081&market=1&df=1&mf=6&yf=2020&dt=27&mt=11&yt=2020&cn=NFLX-RM&code=NFLX-RM&datf=5\n"
     ]
    },
    {
     "name": "stdout",
     "output_type": "stream",
     "text": [
      "Netflix\n"
     ]
    },
    {
     "name": "stderr",
     "output_type": "stream",
     "text": [
      "INFO:finam.export:Processing chunk 1 of 1\n",
      "INFO:finam.export:Fetching http://export.finam.ru/table.csv?d=d&f=table&e=.csv&dtf=1&tmf=3&MSOR=0&mstime=on&mstimever=1&sep=3&sep2=1&at=1&p=5&em=2139243&market=1&df=1&mf=6&yf=2020&dt=27&mt=11&yt=2020&cn=NEM-RM&code=NEM-RM&datf=5\n"
     ]
    },
    {
     "name": "stdout",
     "output_type": "stream",
     "text": [
      "Newmont\n"
     ]
    },
    {
     "name": "stderr",
     "output_type": "stream",
     "text": [
      "INFO:finam.export:Processing chunk 1 of 1\n",
      "INFO:finam.export:Fetching http://export.finam.ru/table.csv?d=d&f=table&e=.csv&dtf=1&tmf=3&MSOR=0&mstime=on&mstimever=1&sep=3&sep2=1&at=1&p=5&em=81114&market=1&df=1&mf=6&yf=2020&dt=27&mt=11&yt=2020&cn=PHOR&code=PHOR&datf=5\n"
     ]
    },
    {
     "name": "stdout",
     "output_type": "stream",
     "text": [
      "ФосАгро ао\n"
     ]
    },
    {
     "name": "stderr",
     "output_type": "stream",
     "text": [
      "INFO:finam.export:Processing chunk 1 of 1\n",
      "INFO:finam.export:Fetching http://export.finam.ru/table.csv?d=d&f=table&e=.csv&dtf=1&tmf=3&MSOR=0&mstime=on&mstimever=1&sep=3&sep2=1&at=1&p=5&em=2190359&market=1&df=1&mf=6&yf=2020&dt=27&mt=11&yt=2020&cn=NEE-RM&code=NEE-RM&datf=5\n"
     ]
    },
    {
     "name": "stdout",
     "output_type": "stream",
     "text": [
      "NextEra En\n"
     ]
    },
    {
     "name": "stderr",
     "output_type": "stream",
     "text": [
      "INFO:finam.export:Processing chunk 1 of 1\n",
      "INFO:finam.export:Fetching http://export.finam.ru/table.csv?d=d&f=table&e=.csv&dtf=1&tmf=3&MSOR=0&mstime=on&mstimever=1&sep=3&sep2=1&at=1&p=5&em=2216507&market=1&df=1&mf=6&yf=2020&dt=27&mt=11&yt=2020&cn=OKEY&code=OKEY&datf=5\n"
     ]
    },
    {
     "name": "stdout",
     "output_type": "stream",
     "text": [
      "OKEY-гдр\n"
     ]
    },
    {
     "name": "stderr",
     "output_type": "stream",
     "text": [
      "INFO:finam.export:Processing chunk 1 of 1\n",
      "INFO:finam.export:Fetching http://export.finam.ru/table.csv?d=d&f=table&e=.csv&dtf=1&tmf=3&MSOR=0&mstime=on&mstimever=1&sep=3&sep2=1&at=1&p=5&em=2028094&market=1&df=1&mf=6&yf=2020&dt=27&mt=11&yt=2020&cn=MU-RM&code=MU-RM&datf=5\n"
     ]
    },
    {
     "name": "stdout",
     "output_type": "stream",
     "text": [
      "Micron\n"
     ]
    },
    {
     "name": "stderr",
     "output_type": "stream",
     "text": [
      "INFO:finam.export:Processing chunk 1 of 1\n",
      "INFO:finam.export:Fetching http://export.finam.ru/table.csv?d=d&f=table&e=.csv&dtf=1&tmf=3&MSOR=0&mstime=on&mstimever=1&sep=3&sep2=1&at=1&p=5&em=18654&market=1&df=1&mf=6&yf=2020&dt=27&mt=11&yt=2020&cn=PIKK&code=PIKK&datf=5\n"
     ]
    },
    {
     "name": "stdout",
     "output_type": "stream",
     "text": [
      "ПИК ао\n"
     ]
    },
    {
     "name": "stderr",
     "output_type": "stream",
     "text": [
      "INFO:finam.export:Processing chunk 1 of 1\n",
      "INFO:finam.export:Fetching http://export.finam.ru/table.csv?d=d&f=table&e=.csv&dtf=1&tmf=3&MSOR=0&mstime=on&mstimever=1&sep=3&sep2=1&at=1&p=5&em=181316&market=1&df=1&mf=6&yf=2020&dt=27&mt=11&yt=2020&cn=ROLO&code=ROLO&datf=5\n"
     ]
    },
    {
     "name": "stdout",
     "output_type": "stream",
     "text": [
      "Русолово\n"
     ]
    },
    {
     "name": "stderr",
     "output_type": "stream",
     "text": [
      "INFO:finam.export:Processing chunk 1 of 1\n",
      "INFO:finam.export:Fetching http://export.finam.ru/table.csv?d=d&f=table&e=.csv&dtf=1&tmf=3&MSOR=0&mstime=on&mstimever=1&sep=3&sep2=1&at=1&p=5&em=20125&market=1&df=1&mf=6&yf=2020&dt=27&mt=11&yt=2020&cn=GCHE&code=GCHE&datf=5\n"
     ]
    },
    {
     "name": "stdout",
     "output_type": "stream",
     "text": [
      "ЧеркизГ-ао\n"
     ]
    },
    {
     "name": "stderr",
     "output_type": "stream",
     "text": [
      "INFO:finam.export:Processing chunk 1 of 1\n",
      "INFO:finam.export:Fetching http://export.finam.ru/table.csv?d=d&f=table&e=.csv&dtf=1&tmf=3&MSOR=0&mstime=on&mstimever=1&sep=3&sep2=1&at=1&p=5&em=82493&market=1&df=1&mf=6&yf=2020&dt=27&mt=11&yt=2020&cn=UNKL&code=UNKL&datf=5\n"
     ]
    },
    {
     "name": "stdout",
     "output_type": "stream",
     "text": [
      "ЮУНК ао\n"
     ]
    },
    {
     "name": "stderr",
     "output_type": "stream",
     "text": [
      "INFO:finam.export:Processing chunk 1 of 1\n",
      "INFO:finam.export:Fetching http://export.finam.ru/table.csv?d=d&f=table&e=.csv&dtf=1&tmf=3&MSOR=0&mstime=on&mstimever=1&sep=3&sep2=1&at=1&p=5&em=2134426&market=1&df=1&mf=6&yf=2020&dt=27&mt=11&yt=2020&cn=GLTR&code=GLTR&datf=5\n"
     ]
    },
    {
     "name": "stdout",
     "output_type": "stream",
     "text": [
      "GLTR-гдр\n"
     ]
    },
    {
     "name": "stderr",
     "output_type": "stream",
     "text": [
      "INFO:finam.export:Processing chunk 1 of 1\n",
      "INFO:finam.export:Fetching http://export.finam.ru/table.csv?d=d&f=table&e=.csv&dtf=1&tmf=3&MSOR=0&mstime=on&mstimever=1&sep=3&sep2=1&at=1&p=5&em=20717&market=1&df=1&mf=6&yf=2020&dt=27&mt=11&yt=2020&cn=UKUZ&code=UKUZ&datf=5\n"
     ]
    },
    {
     "name": "stdout",
     "output_type": "stream",
     "text": [
      "ЮжКузб. ао\n"
     ]
    },
    {
     "name": "stderr",
     "output_type": "stream",
     "text": [
      "INFO:finam.export:Processing chunk 1 of 1\n",
      "INFO:finam.export:Fetching http://export.finam.ru/table.csv?d=d&f=table&e=.csv&dtf=1&tmf=3&MSOR=0&mstime=on&mstimever=1&sep=3&sep2=1&at=1&p=5&em=2139240&market=1&df=1&mf=6&yf=2020&dt=27&mt=11&yt=2020&cn=GE-RM&code=GE-RM&datf=5\n"
     ]
    },
    {
     "name": "stdout",
     "output_type": "stream",
     "text": [
      "GE Co\n"
     ]
    },
    {
     "name": "stderr",
     "output_type": "stream",
     "text": [
      "INFO:finam.export:Processing chunk 1 of 1\n",
      "INFO:finam.export:Fetching http://export.finam.ru/table.csv?d=d&f=table&e=.csv&dtf=1&tmf=3&MSOR=0&mstime=on&mstimever=1&sep=3&sep2=1&at=1&p=5&em=181610&market=1&df=1&mf=6&yf=2020&dt=27&mt=11&yt=2020&cn=QIWI&code=QIWI&datf=5\n"
     ]
    },
    {
     "name": "stdout",
     "output_type": "stream",
     "text": [
      "iQIWI\n"
     ]
    },
    {
     "name": "stderr",
     "output_type": "stream",
     "text": [
      "INFO:finam.export:Processing chunk 1 of 1\n",
      "INFO:finam.export:Fetching http://export.finam.ru/table.csv?d=d&f=table&e=.csv&dtf=1&tmf=3&MSOR=0&mstime=on&mstimever=1&sep=3&sep2=1&at=1&p=5&em=928412&market=1&df=1&mf=6&yf=2020&dt=27&mt=11&yt=2020&cn=ETLN&code=ETLN&datf=5\n"
     ]
    },
    {
     "name": "stdout",
     "output_type": "stream",
     "text": [
      "ETLN-гдр\n"
     ]
    },
    {
     "name": "stderr",
     "output_type": "stream",
     "text": [
      "INFO:finam.export:Processing chunk 1 of 1\n",
      "INFO:finam.export:Fetching http://export.finam.ru/table.csv?d=d&f=table&e=.csv&dtf=1&tmf=3&MSOR=0&mstime=on&mstimever=1&sep=3&sep2=1&at=1&p=5&em=18584&market=1&df=1&mf=6&yf=2020&dt=27&mt=11&yt=2020&cn=UPRO&code=UPRO&datf=5\n"
     ]
    },
    {
     "name": "stdout",
     "output_type": "stream",
     "text": [
      "Юнипро ао\n"
     ]
    },
    {
     "name": "stderr",
     "output_type": "stream",
     "text": [
      "INFO:finam.export:Processing chunk 1 of 1\n",
      "INFO:finam.export:Fetching http://export.finam.ru/table.csv?d=d&f=table&e=.csv&dtf=1&tmf=3&MSOR=0&mstime=on&mstimever=1&sep=3&sep2=1&at=1&p=5&em=22843&market=1&df=1&mf=6&yf=2020&dt=27&mt=11&yt=2020&cn=UNAC&code=UNAC&datf=5\n"
     ]
    },
    {
     "name": "stdout",
     "output_type": "stream",
     "text": [
      "iАвиастКао\n"
     ]
    },
    {
     "name": "stderr",
     "output_type": "stream",
     "text": [
      "INFO:finam.export:Processing chunk 1 of 1\n",
      "INFO:finam.export:Fetching http://export.finam.ru/table.csv?d=d&f=table&e=.csv&dtf=1&tmf=3&MSOR=0&mstime=on&mstimever=1&sep=3&sep2=1&at=1&p=5&em=17137&market=1&df=1&mf=6&yf=2020&dt=27&mt=11&yt=2020&cn=ISKJ&code=ISKJ&datf=5\n"
     ]
    },
    {
     "name": "stdout",
     "output_type": "stream",
     "text": [
      "iИСКЧ ао\n"
     ]
    },
    {
     "name": "stderr",
     "output_type": "stream",
     "text": [
      "INFO:finam.export:Processing chunk 1 of 1\n",
      "INFO:finam.export:Fetching http://export.finam.ru/table.csv?d=d&f=table&e=.csv&dtf=1&tmf=3&MSOR=0&mstime=on&mstimever=1&sep=3&sep2=1&at=1&p=5&em=901174&market=1&df=1&mf=6&yf=2020&dt=27&mt=11&yt=2020&cn=GEMA&code=GEMA&datf=5\n"
     ]
    },
    {
     "name": "stdout",
     "output_type": "stream",
     "text": [
      "iММЦБ ао\n"
     ]
    },
    {
     "name": "stderr",
     "output_type": "stream",
     "text": [
      "INFO:finam.export:Processing chunk 1 of 1\n",
      "INFO:finam.export:Fetching http://export.finam.ru/table.csv?d=d&f=table&e=.csv&dtf=1&tmf=3&MSOR=0&mstime=on&mstimever=1&sep=3&sep2=1&at=1&p=5&em=81917&market=1&df=1&mf=6&yf=2020&dt=27&mt=11&yt=2020&cn=YAKG&code=YAKG&datf=5\n"
     ]
    },
    {
     "name": "stdout",
     "output_type": "stream",
     "text": [
      "ЯТЭК ао\n"
     ]
    },
    {
     "name": "stderr",
     "output_type": "stream",
     "text": [
      "INFO:finam.export:Processing chunk 1 of 1\n",
      "INFO:finam.export:Fetching http://export.finam.ru/table.csv?d=d&f=table&e=.csv&dtf=1&tmf=3&MSOR=0&mstime=on&mstimever=1&sep=3&sep2=1&at=1&p=5&em=81992&market=1&df=1&mf=6&yf=2020&dt=27&mt=11&yt=2020&cn=NAUK&code=NAUK&datf=5\n"
     ]
    },
    {
     "name": "stdout",
     "output_type": "stream",
     "text": [
      "iНПОНаука\n"
     ]
    },
    {
     "name": "stderr",
     "output_type": "stream",
     "text": [
      "INFO:finam.export:Processing chunk 1 of 1\n",
      "INFO:finam.export:Fetching http://export.finam.ru/table.csv?d=d&f=table&e=.csv&dtf=1&tmf=3&MSOR=0&mstime=on&mstimever=1&sep=3&sep2=1&at=1&p=5&em=35363&market=1&df=1&mf=6&yf=2020&dt=27&mt=11&yt=2020&cn=DIOD&code=DIOD&datf=5\n"
     ]
    },
    {
     "name": "stdout",
     "output_type": "stream",
     "text": [
      "ЗаводДИОД\n"
     ]
    },
    {
     "name": "stderr",
     "output_type": "stream",
     "text": [
      "INFO:finam.export:Processing chunk 1 of 1\n",
      "INFO:finam.export:Fetching http://export.finam.ru/table.csv?d=d&f=table&e=.csv&dtf=1&tmf=3&MSOR=0&mstime=on&mstimever=1&sep=3&sep2=1&at=1&p=5&em=16080&market=1&df=1&mf=6&yf=2020&dt=27&mt=11&yt=2020&cn=SVAV&code=SVAV&datf=5\n"
     ]
    },
    {
     "name": "stdout",
     "output_type": "stream",
     "text": [
      "СОЛЛЕРС\n"
     ]
    },
    {
     "name": "stderr",
     "output_type": "stream",
     "text": [
      "INFO:finam.export:Processing chunk 1 of 1\n",
      "INFO:finam.export:Fetching http://export.finam.ru/table.csv?d=d&f=table&e=.csv&dtf=1&tmf=3&MSOR=0&mstime=on&mstimever=1&sep=3&sep2=1&at=1&p=5&em=82001&market=1&df=1&mf=6&yf=2020&dt=27&mt=11&yt=2020&cn=ZVEZ&code=ZVEZ&datf=5\n"
     ]
    },
    {
     "name": "stdout",
     "output_type": "stream",
     "text": [
      "ЗВЕЗДА ао\n"
     ]
    },
    {
     "name": "stderr",
     "output_type": "stream",
     "text": [
      "INFO:finam.export:Processing chunk 1 of 1\n",
      "INFO:finam.export:Fetching http://export.finam.ru/table.csv?d=d&f=table&e=.csv&dtf=1&tmf=3&MSOR=0&mstime=on&mstimever=1&sep=3&sep2=1&at=1&p=5&em=81769&market=1&df=1&mf=6&yf=2020&dt=27&mt=11&yt=2020&cn=YKENP&code=YKENP&datf=5\n"
     ]
    },
    {
     "name": "stdout",
     "output_type": "stream",
     "text": [
      "Якутскэн-п\n"
     ]
    },
    {
     "name": "stderr",
     "output_type": "stream",
     "text": [
      "INFO:finam.export:Processing chunk 1 of 1\n",
      "INFO:finam.export:Fetching http://export.finam.ru/table.csv?d=d&f=table&e=.csv&dtf=1&tmf=3&MSOR=0&mstime=on&mstimever=1&sep=3&sep2=1&at=1&p=5&em=81766&market=1&df=1&mf=6&yf=2020&dt=27&mt=11&yt=2020&cn=YKEN&code=YKEN&datf=5\n"
     ]
    },
    {
     "name": "stdout",
     "output_type": "stream",
     "text": [
      "Якутскэнрг\n"
     ]
    },
    {
     "name": "stderr",
     "output_type": "stream",
     "text": [
      "INFO:finam.export:Processing chunk 1 of 1\n",
      "INFO:finam.export:Fetching http://export.finam.ru/table.csv?d=d&f=table&e=.csv&dtf=1&tmf=3&MSOR=0&mstime=on&mstimever=1&sep=3&sep2=1&at=1&p=5&em=81856&market=1&df=1&mf=6&yf=2020&dt=27&mt=11&yt=2020&cn=KZOS&code=KZOS&datf=5\n"
     ]
    },
    {
     "name": "stdout",
     "output_type": "stream",
     "text": [
      "ОргСинт ао\n"
     ]
    },
    {
     "name": "stderr",
     "output_type": "stream",
     "text": [
      "INFO:finam.export:Processing chunk 1 of 1\n",
      "INFO:finam.export:Fetching http://export.finam.ru/table.csv?d=d&f=table&e=.csv&dtf=1&tmf=3&MSOR=0&mstime=on&mstimever=1&sep=3&sep2=1&at=1&p=5&em=81857&market=1&df=1&mf=6&yf=2020&dt=27&mt=11&yt=2020&cn=KZOSP&code=KZOSP&datf=5\n"
     ]
    },
    {
     "name": "stdout",
     "output_type": "stream",
     "text": [
      "ОргСинт ап\n"
     ]
    },
    {
     "name": "stderr",
     "output_type": "stream",
     "text": [
      "INFO:finam.export:Processing chunk 1 of 1\n",
      "INFO:finam.export:Fetching http://export.finam.ru/table.csv?d=d&f=table&e=.csv&dtf=1&tmf=3&MSOR=0&mstime=on&mstimever=1&sep=3&sep2=1&at=1&p=5&em=74584&market=1&df=1&mf=6&yf=2020&dt=27&mt=11&yt=2020&cn=LIFE&code=LIFE&datf=5\n"
     ]
    },
    {
     "name": "stdout",
     "output_type": "stream",
     "text": [
      "iФармсинтз\n"
     ]
    },
    {
     "name": "stderr",
     "output_type": "stream",
     "text": [
      "INFO:finam.export:Processing chunk 1 of 1\n",
      "INFO:finam.export:Fetching http://export.finam.ru/table.csv?d=d&f=table&e=.csv&dtf=1&tmf=3&MSOR=0&mstime=on&mstimever=1&sep=3&sep2=1&at=1&p=5&em=81918&market=1&df=1&mf=6&yf=2020&dt=27&mt=11&yt=2020&cn=ZILL&code=ZILL&datf=5\n"
     ]
    },
    {
     "name": "stdout",
     "output_type": "stream",
     "text": [
      "ЗИЛ ао\n"
     ]
    },
    {
     "name": "stderr",
     "output_type": "stream",
     "text": [
      "INFO:finam.export:Processing chunk 1 of 1\n",
      "INFO:finam.export:Fetching http://export.finam.ru/table.csv?d=d&f=table&e=.csv&dtf=1&tmf=3&MSOR=0&mstime=on&mstimever=1&sep=3&sep2=1&at=1&p=5&em=15522&market=1&df=1&mf=6&yf=2020&dt=27&mt=11&yt=2020&cn=UTAR&code=UTAR&datf=5\n"
     ]
    },
    {
     "name": "stdout",
     "output_type": "stream",
     "text": [
      "ЮТэйр ао\n"
     ]
    },
    {
     "name": "stderr",
     "output_type": "stream",
     "text": [
      "INFO:finam.export:Processing chunk 1 of 1\n",
      "INFO:finam.export:Fetching http://export.finam.ru/table.csv?d=d&f=table&e=.csv&dtf=1&tmf=3&MSOR=0&mstime=on&mstimever=1&sep=3&sep2=1&at=1&p=5&em=2139241&market=1&df=1&mf=6&yf=2020&dt=27&mt=11&yt=2020&cn=GM-RM&code=GM-RM&datf=5\n"
     ]
    },
    {
     "name": "stdout",
     "output_type": "stream",
     "text": [
      "GM Co\n"
     ]
    },
    {
     "name": "stderr",
     "output_type": "stream",
     "text": [
      "INFO:finam.export:Processing chunk 1 of 1\n",
      "INFO:finam.export:Fetching http://export.finam.ru/table.csv?d=d&f=table&e=.csv&dtf=1&tmf=3&MSOR=0&mstime=on&mstimever=1&sep=3&sep2=1&at=1&p=5&em=2077391&market=1&df=1&mf=6&yf=2020&dt=27&mt=11&yt=2020&cn=HHRU&code=HHRU&datf=5\n"
     ]
    },
    {
     "name": "stdout",
     "output_type": "stream",
     "text": [
      "iHHRU-адр\n"
     ]
    },
    {
     "name": "stderr",
     "output_type": "stream",
     "text": [
      "INFO:finam.export:Processing chunk 1 of 1\n",
      "INFO:finam.export:Fetching http://export.finam.ru/table.csv?d=d&f=table&e=.csv&dtf=1&tmf=3&MSOR=0&mstime=on&mstimever=1&sep=3&sep2=1&at=1&p=5&em=20321&market=1&df=1&mf=6&yf=2020&dt=27&mt=11&yt=2020&cn=RKKE&code=RKKE&datf=5\n"
     ]
    },
    {
     "name": "stdout",
     "output_type": "stream",
     "text": [
      "ЭнергияРКК\n"
     ]
    },
    {
     "name": "stderr",
     "output_type": "stream",
     "text": [
      "INFO:finam.export:Processing chunk 1 of 1\n",
      "INFO:finam.export:Fetching http://export.finam.ru/table.csv?d=d&f=table&e=.csv&dtf=1&tmf=3&MSOR=0&mstime=on&mstimever=1&sep=3&sep2=1&at=1&p=5&em=465236&market=1&df=1&mf=6&yf=2020&dt=27&mt=11&yt=2020&cn=RNFT&code=RNFT&datf=5\n"
     ]
    },
    {
     "name": "stdout",
     "output_type": "stream",
     "text": [
      "РуссНфт ао\n"
     ]
    },
    {
     "name": "stderr",
     "output_type": "stream",
     "text": [
      "INFO:finam.export:Processing chunk 1 of 1\n",
      "INFO:finam.export:Fetching http://export.finam.ru/table.csv?d=d&f=table&e=.csv&dtf=1&tmf=3&MSOR=0&mstime=on&mstimever=1&sep=3&sep2=1&at=1&p=5&em=16455&market=1&df=1&mf=6&yf=2020&dt=27&mt=11&yt=2020&cn=RZSB&code=RZSB&datf=5\n"
     ]
    },
    {
     "name": "stdout",
     "output_type": "stream",
     "text": [
      "РязЭнСб\n"
     ]
    },
    {
     "name": "stderr",
     "output_type": "stream",
     "text": [
      "INFO:finam.export:Processing chunk 1 of 1\n",
      "INFO:finam.export:Fetching http://export.finam.ru/table.csv?d=d&f=table&e=.csv&dtf=1&tmf=3&MSOR=0&mstime=on&mstimever=1&sep=3&sep2=1&at=1&p=5&em=2028085&market=1&df=1&mf=6&yf=2020&dt=27&mt=11&yt=2020&cn=FB-RM&code=FB-RM&datf=5\n"
     ]
    },
    {
     "name": "stdout",
     "output_type": "stream",
     "text": [
      "Facebook\n"
     ]
    },
    {
     "name": "stderr",
     "output_type": "stream",
     "text": [
      "INFO:finam.export:Processing chunk 1 of 1\n",
      "INFO:finam.export:Fetching http://export.finam.ru/table.csv?d=d&f=table&e=.csv&dtf=1&tmf=3&MSOR=0&mstime=on&mstimever=1&sep=3&sep2=1&at=1&p=5&em=2190362&market=1&df=1&mf=6&yf=2020&dt=27&mt=11&yt=2020&cn=SBUX-RM&code=SBUX-RM&datf=5\n"
     ]
    },
    {
     "name": "stdout",
     "output_type": "stream",
     "text": [
      "Starbucks\n"
     ]
    },
    {
     "name": "stderr",
     "output_type": "stream",
     "text": [
      "INFO:finam.export:Processing chunk 1 of 1\n",
      "INFO:finam.export:Fetching http://export.finam.ru/table.csv?d=d&f=table&e=.csv&dtf=1&tmf=3&MSOR=0&mstime=on&mstimever=1&sep=3&sep2=1&at=1&p=5&em=913710&market=1&df=1&mf=6&yf=2020&dt=27&mt=11&yt=2020&cn=TCSG&code=TCSG&datf=5\n"
     ]
    },
    {
     "name": "stdout",
     "output_type": "stream",
     "text": [
      "TCS-гдр\n"
     ]
    },
    {
     "name": "stderr",
     "output_type": "stream",
     "text": [
      "INFO:finam.export:Processing chunk 1 of 1\n",
      "INFO:finam.export:Fetching http://export.finam.ru/table.csv?d=d&f=table&e=.csv&dtf=1&tmf=3&MSOR=0&mstime=on&mstimever=1&sep=3&sep2=1&at=1&p=5&em=929597&market=1&df=1&mf=6&yf=2020&dt=27&mt=11&yt=2020&cn=ENPG&code=ENPG&datf=5\n"
     ]
    },
    {
     "name": "stdout",
     "output_type": "stream",
     "text": [
      "ЭН+ГРУП ао\n"
     ]
    },
    {
     "name": "stderr",
     "output_type": "stream",
     "text": [
      "INFO:finam.export:Processing chunk 1 of 1\n",
      "INFO:finam.export:Fetching http://export.finam.ru/table.csv?d=d&f=table&e=.csv&dtf=1&tmf=3&MSOR=0&mstime=on&mstimever=1&sep=3&sep2=1&at=1&p=5&em=491944&market=1&df=1&mf=6&yf=2020&dt=27&mt=11&yt=2020&cn=FIVE&code=FIVE&datf=5\n"
     ]
    },
    {
     "name": "stdout",
     "output_type": "stream",
     "text": [
      "FIVE-гдр\n"
     ]
    },
    {
     "name": "stderr",
     "output_type": "stream",
     "text": [
      "INFO:finam.export:Processing chunk 1 of 1\n",
      "INFO:finam.export:Fetching http://export.finam.ru/table.csv?d=d&f=table&e=.csv&dtf=1&tmf=3&MSOR=0&mstime=on&mstimever=1&sep=3&sep2=1&at=1&p=5&em=2190363&market=1&df=1&mf=6&yf=2020&dt=27&mt=11&yt=2020&cn=TGT-RM&code=TGT-RM&datf=5\n"
     ]
    },
    {
     "name": "stdout",
     "output_type": "stream",
     "text": [
      "Target\n"
     ]
    },
    {
     "name": "stderr",
     "output_type": "stream",
     "text": [
      "INFO:finam.export:Processing chunk 1 of 1\n",
      "INFO:finam.export:Fetching http://export.finam.ru/table.csv?d=d&f=table&e=.csv&dtf=1&tmf=3&MSOR=0&mstime=on&mstimever=1&sep=3&sep2=1&at=1&p=5&em=2139246&market=1&df=1&mf=6&yf=2020&dt=27&mt=11&yt=2020&cn=TSLA-RM&code=TSLA-RM&datf=5\n"
     ]
    },
    {
     "name": "stdout",
     "output_type": "stream",
     "text": [
      "Tesla\n"
     ]
    },
    {
     "name": "stderr",
     "output_type": "stream",
     "text": [
      "INFO:finam.export:Processing chunk 1 of 1\n",
      "INFO:finam.export:Fetching http://export.finam.ru/table.csv?d=d&f=table&e=.csv&dtf=1&tmf=3&MSOR=0&mstime=on&mstimever=1&sep=3&sep2=1&at=1&p=5&em=2028092&market=1&df=1&mf=6&yf=2020&dt=27&mt=11&yt=2020&cn=TWTR-RM&code=TWTR-RM&datf=5\n"
     ]
    },
    {
     "name": "stdout",
     "output_type": "stream",
     "text": [
      "Twitter\n"
     ]
    },
    {
     "name": "stderr",
     "output_type": "stream",
     "text": [
      "INFO:finam.export:Processing chunk 1 of 1\n",
      "INFO:finam.export:Fetching http://export.finam.ru/table.csv?d=d&f=table&e=.csv&dtf=1&tmf=3&MSOR=0&mstime=on&mstimever=1&sep=3&sep2=1&at=1&p=5&em=20712&market=1&df=1&mf=6&yf=2020&dt=27&mt=11&yt=2020&cn=RUSP&code=RUSP&datf=5\n"
     ]
    },
    {
     "name": "stdout",
     "output_type": "stream",
     "text": [
      "Русполимет\n"
     ]
    },
    {
     "name": "stderr",
     "output_type": "stream",
     "text": [
      "INFO:finam.export:Processing chunk 1 of 1\n",
      "INFO:finam.export:Fetching http://export.finam.ru/table.csv?d=d&f=table&e=.csv&dtf=1&tmf=3&MSOR=0&mstime=on&mstimever=1&sep=3&sep2=1&at=1&p=5&em=2190364&market=1&df=1&mf=6&yf=2020&dt=27&mt=11&yt=2020&cn=UBER-RM&code=UBER-RM&datf=5\n"
     ]
    },
    {
     "name": "stdout",
     "output_type": "stream",
     "text": [
      "Uber\n"
     ]
    },
    {
     "name": "stderr",
     "output_type": "stream",
     "text": [
      "INFO:finam.export:Processing chunk 1 of 1\n",
      "INFO:finam.export:Fetching http://export.finam.ru/table.csv?d=d&f=table&e=.csv&dtf=1&tmf=3&MSOR=0&mstime=on&mstimever=1&sep=3&sep2=1&at=1&p=5&em=6&market=1&df=1&mf=6&yf=2020&dt=27&mt=11&yt=2020&cn=MSNG&code=MSNG&datf=5\n"
     ]
    },
    {
     "name": "stdout",
     "output_type": "stream",
     "text": [
      "+МосЭнерго\n"
     ]
    },
    {
     "name": "stderr",
     "output_type": "stream",
     "text": [
      "INFO:finam.export:Processing chunk 1 of 1\n",
      "INFO:finam.export:Fetching http://export.finam.ru/table.csv?d=d&f=table&e=.csv&dtf=1&tmf=3&MSOR=0&mstime=on&mstimever=1&sep=3&sep2=1&at=1&p=5&em=2028083&market=1&df=1&mf=6&yf=2020&dt=27&mt=11&yt=2020&cn=V-RM&code=V-RM&datf=5\n"
     ]
    },
    {
     "name": "stdout",
     "output_type": "stream",
     "text": [
      "VISA\n"
     ]
    },
    {
     "name": "stderr",
     "output_type": "stream",
     "text": [
      "INFO:finam.export:Processing chunk 1 of 1\n",
      "INFO:finam.export:Fetching http://export.finam.ru/table.csv?d=d&f=table&e=.csv&dtf=1&tmf=3&MSOR=0&mstime=on&mstimever=1&sep=3&sep2=1&at=1&p=5&em=81934&market=1&df=1&mf=6&yf=2020&dt=27&mt=11&yt=2020&cn=ELTZ&code=ELTZ&datf=5\n"
     ]
    },
    {
     "name": "stdout",
     "output_type": "stream",
     "text": [
      "Электрцинк\n"
     ]
    },
    {
     "name": "stderr",
     "output_type": "stream",
     "text": [
      "INFO:finam.export:Processing chunk 1 of 1\n",
      "INFO:finam.export:Fetching http://export.finam.ru/table.csv?d=d&f=table&e=.csv&dtf=1&tmf=3&MSOR=0&mstime=on&mstimever=1&sep=3&sep2=1&at=1&p=5&em=2028088&market=1&df=1&mf=6&yf=2020&dt=27&mt=11&yt=2020&cn=XOM-RM&code=XOM-RM&datf=5\n"
     ]
    },
    {
     "name": "stdout",
     "output_type": "stream",
     "text": [
      "ExxonMobil\n"
     ]
    },
    {
     "name": "stderr",
     "output_type": "stream",
     "text": [
      "INFO:finam.export:Processing chunk 1 of 1\n",
      "INFO:finam.export:Fetching http://export.finam.ru/table.csv?d=d&f=table&e=.csv&dtf=1&tmf=3&MSOR=0&mstime=on&mstimever=1&sep=3&sep2=1&at=1&p=5&em=2190365&market=1&df=1&mf=6&yf=2020&dt=27&mt=11&yt=2020&cn=VTRS-RM&code=VTRS-RM&datf=5\n"
     ]
    },
    {
     "name": "stdout",
     "output_type": "stream",
     "text": [
      "Viatris\n"
     ]
    },
    {
     "name": "stderr",
     "output_type": "stream",
     "text": [
      "INFO:finam.export:Processing chunk 1 of 1\n",
      "INFO:finam.export:Fetching http://export.finam.ru/table.csv?d=d&f=table&e=.csv&dtf=1&tmf=3&MSOR=0&mstime=on&mstimever=1&sep=3&sep2=1&at=1&p=5&em=2139247&market=1&df=1&mf=6&yf=2020&dt=27&mt=11&yt=2020&cn=WMT-RM&code=WMT-RM&datf=5\n"
     ]
    },
    {
     "name": "stdout",
     "output_type": "stream",
     "text": [
      "Walmart\n"
     ]
    },
    {
     "name": "stderr",
     "output_type": "stream",
     "text": [
      "INFO:finam.export:Processing chunk 1 of 1\n",
      "INFO:finam.export:Fetching http://export.finam.ru/table.csv?d=d&f=table&e=.csv&dtf=1&tmf=3&MSOR=0&mstime=on&mstimever=1&sep=3&sep2=1&at=1&p=5&em=388383&market=1&df=1&mf=6&yf=2020&dt=27&mt=11&yt=2020&cn=YNDX&code=YNDX&datf=5\n"
     ]
    },
    {
     "name": "stdout",
     "output_type": "stream",
     "text": [
      "Yandex clA\n"
     ]
    },
    {
     "name": "stderr",
     "output_type": "stream",
     "text": [
      "INFO:finam.export:Processing chunk 1 of 1\n",
      "INFO:finam.export:Fetching http://export.finam.ru/table.csv?d=d&f=table&e=.csv&dtf=1&tmf=3&MSOR=0&mstime=on&mstimever=1&sep=3&sep2=1&at=1&p=5&em=2190353&market=1&df=1&mf=6&yf=2020&dt=27&mt=11&yt=2020&cn=CRM-RM&code=CRM-RM&datf=5\n"
     ]
    },
    {
     "name": "stdout",
     "output_type": "stream",
     "text": [
      "salesforce\n"
     ]
    },
    {
     "name": "stderr",
     "output_type": "stream",
     "text": [
      "INFO:finam.export:Processing chunk 1 of 1\n",
      "INFO:finam.export:Fetching http://export.finam.ru/table.csv?d=d&f=table&e=.csv&dtf=1&tmf=3&MSOR=0&mstime=on&mstimever=1&sep=3&sep2=1&at=1&p=5&em=491359&market=1&df=1&mf=6&yf=2020&dt=27&mt=11&yt=2020&cn=SFIN&code=SFIN&datf=5\n"
     ]
    },
    {
     "name": "stdout",
     "output_type": "stream",
     "text": [
      "САФМАР ао\n"
     ]
    },
    {
     "name": "stderr",
     "output_type": "stream",
     "text": [
      "INFO:finam.export:Processing chunk 1 of 1\n",
      "INFO:finam.export:Fetching http://export.finam.ru/table.csv?d=d&f=table&e=.csv&dtf=1&tmf=3&MSOR=0&mstime=on&mstimever=1&sep=3&sep2=1&at=1&p=5&em=16440&market=1&df=1&mf=6&yf=2020&dt=27&mt=11&yt=2020&cn=ENRU&code=ENRU&datf=5\n"
     ]
    },
    {
     "name": "stdout",
     "output_type": "stream",
     "text": [
      "ЭнелРос ао\n"
     ]
    },
    {
     "name": "stderr",
     "output_type": "stream",
     "text": [
      "INFO:finam.export:Processing chunk 1 of 1\n",
      "INFO:finam.export:Fetching http://export.finam.ru/table.csv?d=d&f=table&e=.csv&dtf=1&tmf=3&MSOR=0&mstime=on&mstimever=1&sep=3&sep2=1&at=1&p=5&em=487432&market=1&df=1&mf=6&yf=2020&dt=27&mt=11&yt=2020&cn=EELT&code=EELT&datf=5\n"
     ]
    },
    {
     "name": "stdout",
     "output_type": "stream",
     "text": [
      "ЕвроЭлтех\n"
     ]
    },
    {
     "name": "stderr",
     "output_type": "stream",
     "text": [
      "INFO:finam.export:Processing chunk 1 of 1\n",
      "INFO:finam.export:Fetching http://export.finam.ru/table.csv?d=d&f=table&e=.csv&dtf=1&tmf=3&MSOR=0&mstime=on&mstimever=1&sep=3&sep2=1&at=1&p=5&em=2135775&market=1&df=1&mf=6&yf=2020&dt=27&mt=11&yt=2020&cn=SMLT&code=SMLT&datf=5\n"
     ]
    },
    {
     "name": "stdout",
     "output_type": "stream",
     "text": [
      "Самолет ао\n"
     ]
    },
    {
     "name": "stderr",
     "output_type": "stream",
     "text": [
      "INFO:finam.export:Processing chunk 1 of 1\n",
      "INFO:finam.export:Fetching http://export.finam.ru/table.csv?d=d&f=table&e=.csv&dtf=1&tmf=3&MSOR=0&mstime=on&mstimever=1&sep=3&sep2=1&at=1&p=5&em=19736&market=1&df=1&mf=6&yf=2020&dt=27&mt=11&yt=2020&cn=LSRG&code=LSRG&datf=5\n"
     ]
    },
    {
     "name": "stdout",
     "output_type": "stream",
     "text": [
      "ЛСР ао\n"
     ]
    },
    {
     "name": "stderr",
     "output_type": "stream",
     "text": [
      "INFO:finam.export:Processing chunk 1 of 1\n",
      "INFO:finam.export:Fetching http://export.finam.ru/table.csv?d=d&f=table&e=.csv&dtf=1&tmf=3&MSOR=0&mstime=on&mstimever=1&sep=3&sep2=1&at=1&p=5&em=20681&market=1&df=1&mf=6&yf=2020&dt=27&mt=11&yt=2020&cn=MRKY&code=MRKY&datf=5\n"
     ]
    },
    {
     "name": "stdout",
     "output_type": "stream",
     "text": [
      "РоссЮг ао\n"
     ]
    },
    {
     "name": "stderr",
     "output_type": "stream",
     "text": [
      "INFO:finam.export:Processing chunk 1 of 1\n",
      "INFO:finam.export:Fetching http://export.finam.ru/table.csv?d=d&f=table&e=.csv&dtf=1&tmf=3&MSOR=0&mstime=on&mstimever=1&sep=3&sep2=1&at=1&p=5&em=11&market=1&df=1&mf=6&yf=2020&dt=27&mt=11&yt=2020&cn=SARE&code=SARE&datf=5\n"
     ]
    },
    {
     "name": "stdout",
     "output_type": "stream",
     "text": [
      "СаратЭн-ао\n"
     ]
    },
    {
     "name": "stderr",
     "output_type": "stream",
     "text": [
      "INFO:finam.export:Processing chunk 1 of 1\n",
      "INFO:finam.export:Fetching http://export.finam.ru/table.csv?d=d&f=table&e=.csv&dtf=1&tmf=3&MSOR=0&mstime=on&mstimever=1&sep=3&sep2=1&at=1&p=5&em=399716&market=1&df=1&mf=6&yf=2020&dt=27&mt=11&yt=2020&cn=AGRO&code=AGRO&datf=5\n"
     ]
    },
    {
     "name": "stdout",
     "output_type": "stream",
     "text": [
      "AGRO-гдр\n"
     ]
    },
    {
     "name": "stderr",
     "output_type": "stream",
     "text": [
      "INFO:finam.export:Processing chunk 1 of 1\n",
      "INFO:finam.export:Fetching http://export.finam.ru/table.csv?d=d&f=table&e=.csv&dtf=1&tmf=3&MSOR=0&mstime=on&mstimever=1&sep=3&sep2=1&at=1&p=5&em=17564&market=1&df=1&mf=6&yf=2020&dt=27&mt=11&yt=2020&cn=AKRN&code=AKRN&datf=5\n"
     ]
    },
    {
     "name": "stdout",
     "output_type": "stream",
     "text": [
      "Акрон\n"
     ]
    },
    {
     "name": "stderr",
     "output_type": "stream",
     "text": [
      "INFO:finam.export:Processing chunk 1 of 1\n",
      "INFO:finam.export:Fetching http://export.finam.ru/table.csv?d=d&f=table&e=.csv&dtf=1&tmf=3&MSOR=0&mstime=on&mstimever=1&sep=3&sep2=1&at=1&p=5&em=80818&market=1&df=1&mf=6&yf=2020&dt=27&mt=11&yt=2020&cn=PRMB&code=PRMB&datf=5\n"
     ]
    },
    {
     "name": "stdout",
     "output_type": "stream",
     "text": [
      "Приморье\n"
     ]
    },
    {
     "name": "stderr",
     "output_type": "stream",
     "text": [
      "INFO:finam.export:Processing chunk 1 of 1\n",
      "INFO:finam.export:Fetching http://export.finam.ru/table.csv?d=d&f=table&e=.csv&dtf=1&tmf=3&MSOR=0&mstime=on&mstimever=1&sep=3&sep2=1&at=1&p=5&em=24&market=1&df=1&mf=6&yf=2020&dt=27&mt=11&yt=2020&cn=SAREP&code=SAREP&datf=5\n"
     ]
    },
    {
     "name": "stdout",
     "output_type": "stream",
     "text": [
      "СаратЭн-ап\n"
     ]
    },
    {
     "name": "stderr",
     "output_type": "stream",
     "text": [
      "INFO:finam.export:Processing chunk 1 of 1\n",
      "INFO:finam.export:Fetching http://export.finam.ru/table.csv?d=d&f=table&e=.csv&dtf=1&tmf=3&MSOR=0&mstime=on&mstimever=1&sep=3&sep2=1&at=1&p=5&em=473000&market=1&df=1&mf=6&yf=2020&dt=27&mt=11&yt=2020&cn=SLEN&code=SLEN&datf=5\n"
     ]
    },
    {
     "name": "stdout",
     "output_type": "stream",
     "text": [
      "Сахэнер ао\n"
     ]
    },
    {
     "name": "stderr",
     "output_type": "stream",
     "text": [
      "INFO:finam.export:Processing chunk 1 of 1\n",
      "INFO:finam.export:Fetching http://export.finam.ru/table.csv?d=d&f=table&e=.csv&dtf=1&tmf=3&MSOR=0&mstime=on&mstimever=1&sep=3&sep2=1&at=1&p=5&em=81896&market=1&df=1&mf=6&yf=2020&dt=27&mt=11&yt=2020&cn=PAZA&code=PAZA&datf=5\n"
     ]
    },
    {
     "name": "stdout",
     "output_type": "stream",
     "text": [
      "ПавлАвт ао\n"
     ]
    },
    {
     "name": "stderr",
     "output_type": "stream",
     "text": [
      "INFO:finam.export:Processing chunk 1 of 1\n",
      "INFO:finam.export:Fetching http://export.finam.ru/table.csv?d=d&f=table&e=.csv&dtf=1&tmf=3&MSOR=0&mstime=on&mstimever=1&sep=3&sep2=1&at=1&p=5&em=16909&market=1&df=1&mf=6&yf=2020&dt=27&mt=11&yt=2020&cn=PMSBP&code=PMSBP&datf=5\n"
     ]
    },
    {
     "name": "stdout",
     "output_type": "stream",
     "text": [
      "ПермьЭнС-п\n"
     ]
    },
    {
     "name": "stderr",
     "output_type": "stream",
     "text": [
      "INFO:finam.export:Processing chunk 1 of 1\n",
      "INFO:finam.export:Fetching http://export.finam.ru/table.csv?d=d&f=table&e=.csv&dtf=1&tmf=3&MSOR=0&mstime=on&mstimever=1&sep=3&sep2=1&at=1&p=5&em=81820&market=1&df=1&mf=6&yf=2020&dt=27&mt=11&yt=2020&cn=ALRS&code=ALRS&datf=5\n"
     ]
    },
    {
     "name": "stdout",
     "output_type": "stream",
     "text": [
      "АЛРОСА ао\n"
     ]
    },
    {
     "name": "stderr",
     "output_type": "stream",
     "text": [
      "INFO:finam.export:Processing chunk 1 of 1\n",
      "INFO:finam.export:Fetching http://export.finam.ru/table.csv?d=d&f=table&e=.csv&dtf=1&tmf=3&MSOR=0&mstime=on&mstimever=1&sep=3&sep2=1&at=1&p=5&em=81882&market=1&df=1&mf=6&yf=2020&dt=27&mt=11&yt=2020&cn=ALNU&code=ALNU&datf=5\n"
     ]
    },
    {
     "name": "stdout",
     "output_type": "stream",
     "text": [
      "АЛРОСА-Нюр\n"
     ]
    },
    {
     "name": "stderr",
     "output_type": "stream",
     "text": [
      "INFO:finam.export:Processing chunk 1 of 1\n",
      "INFO:finam.export:Fetching http://export.finam.ru/table.csv?d=d&f=table&e=.csv&dtf=1&tmf=3&MSOR=0&mstime=on&mstimever=1&sep=3&sep2=1&at=1&p=5&em=16908&market=1&df=1&mf=6&yf=2020&dt=27&mt=11&yt=2020&cn=PMSB&code=PMSB&datf=5\n"
     ]
    },
    {
     "name": "stdout",
     "output_type": "stream",
     "text": [
      "ПермьЭнСб\n"
     ]
    },
    {
     "name": "stderr",
     "output_type": "stream",
     "text": [
      "INFO:finam.export:Processing chunk 1 of 1\n",
      "INFO:finam.export:Fetching http://export.finam.ru/table.csv?d=d&f=table&e=.csv&dtf=1&tmf=3&MSOR=0&mstime=on&mstimever=1&sep=3&sep2=1&at=1&p=5&em=1012&market=1&df=1&mf=6&yf=2020&dt=27&mt=11&yt=2020&cn=TRNFP&code=TRNFP&datf=5\n"
     ]
    },
    {
     "name": "stdout",
     "output_type": "stream",
     "text": [
      "Транснф ап\n"
     ]
    },
    {
     "name": "stderr",
     "output_type": "stream",
     "text": [
      "INFO:finam.export:Processing chunk 1 of 1\n",
      "INFO:finam.export:Fetching http://export.finam.ru/table.csv?d=d&f=table&e=.csv&dtf=1&tmf=3&MSOR=0&mstime=on&mstimever=1&sep=3&sep2=1&at=1&p=5&em=20412&market=1&df=1&mf=6&yf=2020&dt=27&mt=11&yt=2020&cn=MRKK&code=MRKK&datf=5\n"
     ]
    },
    {
     "name": "stdout",
     "output_type": "stream",
     "text": [
      "Россети СК\n"
     ]
    },
    {
     "name": "stderr",
     "output_type": "stream",
     "text": [
      "INFO:finam.export:Processing chunk 1 of 1\n",
      "INFO:finam.export:Fetching http://export.finam.ru/table.csv?d=d&f=table&e=.csv&dtf=1&tmf=3&MSOR=0&mstime=on&mstimever=1&sep=3&sep2=1&at=1&p=5&em=82611&market=1&df=1&mf=6&yf=2020&dt=27&mt=11&yt=2020&cn=URKZ&code=URKZ&datf=5\n"
     ]
    },
    {
     "name": "stdout",
     "output_type": "stream",
     "text": [
      "УрКузница\n"
     ]
    },
    {
     "name": "stderr",
     "output_type": "stream",
     "text": [
      "INFO:finam.export:Processing chunk 1 of 1\n",
      "INFO:finam.export:Fetching http://export.finam.ru/table.csv?d=d&f=table&e=.csv&dtf=1&tmf=3&MSOR=0&mstime=on&mstimever=1&sep=3&sep2=1&at=1&p=5&em=20971&market=1&df=1&mf=6&yf=2020&dt=27&mt=11&yt=2020&cn=RSTI&code=RSTI&datf=5\n"
     ]
    },
    {
     "name": "stdout",
     "output_type": "stream",
     "text": [
      "Россети ао\n"
     ]
    },
    {
     "name": "stderr",
     "output_type": "stream",
     "text": [
      "INFO:finam.export:Processing chunk 1 of 1\n",
      "INFO:finam.export:Fetching http://export.finam.ru/table.csv?d=d&f=table&e=.csv&dtf=1&tmf=3&MSOR=0&mstime=on&mstimever=1&sep=3&sep2=1&at=1&p=5&em=20972&market=1&df=1&mf=6&yf=2020&dt=27&mt=11&yt=2020&cn=RSTIP&code=RSTIP&datf=5\n"
     ]
    },
    {
     "name": "stdout",
     "output_type": "stream",
     "text": [
      "Россети ап\n"
     ]
    },
    {
     "name": "stderr",
     "output_type": "stream",
     "text": [
      "INFO:finam.export:Processing chunk 1 of 1\n",
      "INFO:finam.export:Fetching http://export.finam.ru/table.csv?d=d&f=table&e=.csv&dtf=1&tmf=3&MSOR=0&mstime=on&mstimever=1&sep=3&sep2=1&at=1&p=5&em=414560&market=1&df=1&mf=6&yf=2020&dt=27&mt=11&yt=2020&cn=UWGN&code=UWGN&datf=5\n"
     ]
    },
    {
     "name": "stdout",
     "output_type": "stream",
     "text": [
      "ОВК ао\n"
     ]
    },
    {
     "name": "stderr",
     "output_type": "stream",
     "text": [
      "INFO:finam.export:Processing chunk 1 of 1\n",
      "INFO:finam.export:Fetching http://export.finam.ru/table.csv?d=d&f=table&e=.csv&dtf=1&tmf=3&MSOR=0&mstime=on&mstimever=1&sep=3&sep2=1&at=1&p=5&em=82460&market=1&df=1&mf=6&yf=2020&dt=27&mt=11&yt=2020&cn=ABRD&code=ABRD&datf=5\n"
     ]
    },
    {
     "name": "stdout",
     "output_type": "stream",
     "text": [
      "АбрауДюрсо\n"
     ]
    },
    {
     "name": "stderr",
     "output_type": "stream",
     "text": [
      "INFO:finam.export:Processing chunk 1 of 1\n",
      "INFO:finam.export:Fetching http://export.finam.ru/table.csv?d=d&f=table&e=.csv&dtf=1&tmf=3&MSOR=0&mstime=on&mstimever=1&sep=3&sep2=1&at=1&p=5&em=484229&market=1&df=1&mf=6&yf=2020&dt=27&mt=11&yt=2020&cn=ACKO&code=ACKO&datf=5\n"
     ]
    },
    {
     "name": "stdout",
     "output_type": "stream",
     "text": [
      "АСКО ао\n"
     ]
    },
    {
     "name": "stderr",
     "output_type": "stream",
     "text": [
      "INFO:finam.export:Processing chunk 1 of 1\n",
      "INFO:finam.export:Fetching http://export.finam.ru/table.csv?d=d&f=table&e=.csv&dtf=1&tmf=3&MSOR=0&mstime=on&mstimever=1&sep=3&sep2=1&at=1&p=5&em=2216506&market=1&df=1&mf=6&yf=2020&dt=27&mt=11&yt=2020&cn=ACKO&code=ACKO&datf=5\n"
     ]
    },
    {
     "name": "stdout",
     "output_type": "stream",
     "text": [
      "АСКО ао\n"
     ]
    },
    {
     "name": "stderr",
     "output_type": "stream",
     "text": [
      "INFO:finam.export:Processing chunk 1 of 1\n",
      "INFO:finam.export:Fetching http://export.finam.ru/table.csv?d=d&f=table&e=.csv&dtf=1&tmf=3&MSOR=0&mstime=on&mstimever=1&sep=3&sep2=1&at=1&p=5&em=7&market=1&df=1&mf=6&yf=2020&dt=27&mt=11&yt=2020&cn=RTKM&code=RTKM&datf=5\n"
     ]
    },
    {
     "name": "stdout",
     "output_type": "stream",
     "text": [
      "Ростел -ао\n"
     ]
    },
    {
     "name": "stderr",
     "output_type": "stream",
     "text": [
      "INFO:finam.export:Processing chunk 1 of 1\n",
      "INFO:finam.export:Fetching http://export.finam.ru/table.csv?d=d&f=table&e=.csv&dtf=1&tmf=3&MSOR=0&mstime=on&mstimever=1&sep=3&sep2=1&at=1&p=5&em=16825&market=1&df=1&mf=6&yf=2020&dt=27&mt=11&yt=2020&cn=DASB&code=DASB&datf=5\n"
     ]
    },
    {
     "name": "stdout",
     "output_type": "stream",
     "text": [
      "ДагСб ао\n"
     ]
    },
    {
     "name": "stderr",
     "output_type": "stream",
     "text": [
      "INFO:finam.export:Processing chunk 1 of 1\n",
      "INFO:finam.export:Fetching http://export.finam.ru/table.csv?d=d&f=table&e=.csv&dtf=1&tmf=3&MSOR=0&mstime=on&mstimever=1&sep=3&sep2=1&at=1&p=5&em=19724&market=1&df=1&mf=6&yf=2020&dt=27&mt=11&yt=2020&cn=DVEC&code=DVEC&datf=5\n"
     ]
    },
    {
     "name": "stdout",
     "output_type": "stream",
     "text": [
      "ДЭК ао\n"
     ]
    },
    {
     "name": "stderr",
     "output_type": "stream",
     "text": [
      "INFO:finam.export:Processing chunk 1 of 1\n",
      "INFO:finam.export:Fetching http://export.finam.ru/table.csv?d=d&f=table&e=.csv&dtf=1&tmf=3&MSOR=0&mstime=on&mstimever=1&sep=3&sep2=1&at=1&p=5&em=18684&market=1&df=1&mf=6&yf=2020&dt=27&mt=11&yt=2020&cn=OGKB&code=OGKB&datf=5\n"
     ]
    },
    {
     "name": "stdout",
     "output_type": "stream",
     "text": [
      "ОГК-2 ао\n"
     ]
    },
    {
     "name": "stderr",
     "output_type": "stream",
     "text": [
      "INFO:finam.export:Processing chunk 1 of 1\n",
      "INFO:finam.export:Fetching http://export.finam.ru/table.csv?d=d&f=table&e=.csv&dtf=1&tmf=3&MSOR=0&mstime=on&mstimever=1&sep=3&sep2=1&at=1&p=5&em=488674&market=1&df=1&mf=6&yf=2020&dt=27&mt=11&yt=2020&cn=OBUV&code=OBUV&datf=5\n"
     ]
    },
    {
     "name": "stdout",
     "output_type": "stream",
     "text": [
      "ОР ао\n"
     ]
    },
    {
     "name": "stderr",
     "output_type": "stream",
     "text": [
      "INFO:finam.export:Processing chunk 1 of 1\n",
      "INFO:finam.export:Fetching http://export.finam.ru/table.csv?d=d&f=table&e=.csv&dtf=1&tmf=3&MSOR=0&mstime=on&mstimever=1&sep=3&sep2=1&at=1&p=5&em=15&market=1&df=1&mf=6&yf=2020&dt=27&mt=11&yt=2020&cn=RTKMP&code=RTKMP&datf=5\n"
     ]
    },
    {
     "name": "stdout",
     "output_type": "stream",
     "text": [
      "Ростел -ап\n"
     ]
    },
    {
     "name": "stderr",
     "output_type": "stream",
     "text": [
      "INFO:finam.export:Processing chunk 1 of 1\n",
      "INFO:finam.export:Fetching http://export.finam.ru/table.csv?d=d&f=table&e=.csv&dtf=1&tmf=3&MSOR=0&mstime=on&mstimever=1&sep=3&sep2=1&at=1&p=5&em=17123&market=1&df=1&mf=6&yf=2020&dt=27&mt=11&yt=2020&cn=PLZL&code=PLZL&datf=5\n"
     ]
    },
    {
     "name": "stdout",
     "output_type": "stream",
     "text": [
      "Полюс\n"
     ]
    },
    {
     "name": "stderr",
     "output_type": "stream",
     "text": [
      "INFO:finam.export:Processing chunk 1 of 1\n",
      "INFO:finam.export:Fetching http://export.finam.ru/table.csv?d=d&f=table&e=.csv&dtf=1&tmf=3&MSOR=0&mstime=on&mstimever=1&sep=3&sep2=1&at=1&p=5&em=15844&market=1&df=1&mf=6&yf=2020&dt=27&mt=11&yt=2020&cn=OMZZP&code=OMZZP&datf=5\n"
     ]
    },
    {
     "name": "stdout",
     "output_type": "stream",
     "text": [
      "ОМЗ-ап\n"
     ]
    },
    {
     "name": "stderr",
     "output_type": "stream",
     "text": [
      "INFO:finam.export:Processing chunk 1 of 1\n",
      "INFO:finam.export:Fetching http://export.finam.ru/table.csv?d=d&f=table&e=.csv&dtf=1&tmf=3&MSOR=0&mstime=on&mstimever=1&sep=3&sep2=1&at=1&p=5&em=82843&market=1&df=1&mf=6&yf=2020&dt=27&mt=11&yt=2020&cn=AVAN&code=AVAN&datf=5\n"
     ]
    },
    {
     "name": "stdout",
     "output_type": "stream",
     "text": [
      "Авангрд-ао\n"
     ]
    },
    {
     "name": "stderr",
     "output_type": "stream",
     "text": [
      "INFO:finam.export:Processing chunk 1 of 1\n",
      "INFO:finam.export:Fetching http://export.finam.ru/table.csv?d=d&f=table&e=.csv&dtf=1&tmf=3&MSOR=0&mstime=on&mstimever=1&sep=3&sep2=1&at=1&p=5&em=81953&market=1&df=1&mf=6&yf=2020&dt=27&mt=11&yt=2020&cn=USBN&code=USBN&datf=5\n"
     ]
    },
    {
     "name": "stdout",
     "output_type": "stream",
     "text": [
      "УралСиб ао\n"
     ]
    },
    {
     "name": "stderr",
     "output_type": "stream",
     "text": [
      "INFO:finam.export:Processing chunk 1 of 1\n",
      "INFO:finam.export:Fetching http://export.finam.ru/table.csv?d=d&f=table&e=.csv&dtf=1&tmf=3&MSOR=0&mstime=on&mstimever=1&sep=3&sep2=1&at=1&p=5&em=175781&market=1&df=1&mf=6&yf=2020&dt=27&mt=11&yt=2020&cn=UCSS&code=UCSS&datf=5\n"
     ]
    },
    {
     "name": "stdout",
     "output_type": "stream",
     "text": [
      "ОКС ао\n"
     ]
    },
    {
     "name": "stderr",
     "output_type": "stream",
     "text": [
      "INFO:finam.export:Processing chunk 1 of 1\n",
      "INFO:finam.export:Fetching http://export.finam.ru/table.csv?d=d&f=table&e=.csv&dtf=1&tmf=3&MSOR=0&mstime=on&mstimever=1&sep=3&sep2=1&at=1&p=5&em=473181&market=1&df=1&mf=6&yf=2020&dt=27&mt=11&yt=2020&cn=DSKY&code=DSKY&datf=5\n"
     ]
    },
    {
     "name": "stdout",
     "output_type": "stream",
     "text": [
      "ДетскийМир\n"
     ]
    },
    {
     "name": "stderr",
     "output_type": "stream",
     "text": [
      "INFO:finam.export:Processing chunk 1 of 1\n",
      "INFO:finam.export:Fetching http://export.finam.ru/table.csv?d=d&f=table&e=.csv&dtf=1&tmf=3&MSOR=0&mstime=on&mstimever=1&sep=3&sep2=1&at=1&p=5&em=2107668&market=1&df=1&mf=6&yf=2020&dt=27&mt=11&yt=2020&cn=DERZP&code=DERZP&datf=5\n"
     ]
    },
    {
     "name": "stdout",
     "output_type": "stream",
     "text": [
      "Держава ап\n"
     ]
    },
    {
     "name": "stderr",
     "output_type": "stream",
     "text": [
      "INFO:finam.export:Processing chunk 1 of 1\n",
      "INFO:finam.export:Fetching http://export.finam.ru/table.csv?d=d&f=table&e=.csv&dtf=1&tmf=3&MSOR=0&mstime=on&mstimever=1&sep=3&sep2=1&at=1&p=5&em=2028080&market=1&df=1&mf=6&yf=2020&dt=27&mt=11&yt=2020&cn=BA-RM&code=BA-RM&datf=5\n"
     ]
    },
    {
     "name": "stdout",
     "output_type": "stream",
     "text": [
      "Boeing\n"
     ]
    },
    {
     "name": "stderr",
     "output_type": "stream",
     "text": [
      "INFO:finam.export:Processing chunk 1 of 1\n",
      "INFO:finam.export:Fetching http://export.finam.ru/table.csv?d=d&f=table&e=.csv&dtf=1&tmf=3&MSOR=0&mstime=on&mstimever=1&sep=3&sep2=1&at=1&p=5&em=20509&market=1&df=1&mf=6&yf=2020&dt=27&mt=11&yt=2020&cn=FEES&code=FEES&datf=5\n"
     ]
    },
    {
     "name": "stdout",
     "output_type": "stream",
     "text": [
      "ФСК ЕЭС ао\n"
     ]
    },
    {
     "name": "stderr",
     "output_type": "stream",
     "text": [
      "INFO:finam.export:Processing chunk 1 of 1\n",
      "INFO:finam.export:Fetching http://export.finam.ru/table.csv?d=d&f=table&e=.csv&dtf=1&tmf=3&MSOR=0&mstime=on&mstimever=1&sep=3&sep2=1&at=1&p=5&em=19623&market=1&df=1&mf=6&yf=2020&dt=27&mt=11&yt=2020&cn=URKA&code=URKA&datf=5\n"
     ]
    },
    {
     "name": "stdout",
     "output_type": "stream",
     "text": [
      "Уркалий-ао\n"
     ]
    },
    {
     "name": "stderr",
     "output_type": "stream",
     "text": [
      "INFO:finam.export:Processing chunk 1 of 1\n",
      "INFO:finam.export:Fetching http://export.finam.ru/table.csv?d=d&f=table&e=.csv&dtf=1&tmf=3&MSOR=0&mstime=on&mstimever=1&sep=3&sep2=1&at=1&p=5&em=81891&market=1&df=1&mf=6&yf=2020&dt=27&mt=11&yt=2020&cn=KRKN&code=KRKN&datf=5\n"
     ]
    },
    {
     "name": "stdout",
     "output_type": "stream",
     "text": [
      "СаратНПЗ\n"
     ]
    },
    {
     "name": "stderr",
     "output_type": "stream",
     "text": [
      "INFO:finam.export:Processing chunk 1 of 1\n",
      "INFO:finam.export:Fetching http://export.finam.ru/table.csv?d=d&f=table&e=.csv&dtf=1&tmf=3&MSOR=0&mstime=on&mstimever=1&sep=3&sep2=1&at=1&p=5&em=81786&market=1&df=1&mf=6&yf=2020&dt=27&mt=11&yt=2020&cn=RUSI&code=RUSI&datf=5\n"
     ]
    },
    {
     "name": "stdout",
     "output_type": "stream",
     "text": [
      "ИКРУСС-ИНВ\n"
     ]
    },
    {
     "name": "stderr",
     "output_type": "stream",
     "text": [
      "INFO:finam.export:Processing chunk 1 of 1\n",
      "INFO:finam.export:Fetching http://export.finam.ru/table.csv?d=d&f=table&e=.csv&dtf=1&tmf=3&MSOR=0&mstime=on&mstimever=1&sep=3&sep2=1&at=1&p=5&em=81892&market=1&df=1&mf=6&yf=2020&dt=27&mt=11&yt=2020&cn=KRKNP&code=KRKNP&datf=5\n"
     ]
    },
    {
     "name": "stdout",
     "output_type": "stream",
     "text": [
      "СаратНПЗ-п\n"
     ]
    },
    {
     "name": "stderr",
     "output_type": "stream",
     "text": [
      "INFO:finam.export:Processing chunk 1 of 1\n",
      "INFO:finam.export:Fetching http://export.finam.ru/table.csv?d=d&f=table&e=.csv&dtf=1&tmf=3&MSOR=0&mstime=on&mstimever=1&sep=3&sep2=1&at=1&p=5&em=35247&market=1&df=1&mf=6&yf=2020&dt=27&mt=11&yt=2020&cn=PRTK&code=PRTK&datf=5\n"
     ]
    },
    {
     "name": "stdout",
     "output_type": "stream",
     "text": [
      "ПРОТЕК ао\n"
     ]
    }
   ],
   "source": [
    "for row in shares.iterrows():\n",
    "    sleep(4)\n",
    "    share_index = row[0]\n",
    "    share_name = row[1]['name']\n",
    "    share_ticker = row[1]['code']\n",
    "    print(share_name)\n",
    "    data = exporter.download(share_index, start_date = start_date, market=Market.SHARES, timeframe = Timeframe.MINUTES15)\n",
    "    data.columns = ['date', 'time', 'open', 'high', 'low', 'close', 'volume']\n",
    "    data['ticker'] = share_ticker\n",
    "    data.to_csv(MOEX_path + '/' + share_ticker+ '.csv', index = False)"
   ]
  },
  {
   "cell_type": "code",
   "execution_count": 87,
   "metadata": {},
   "outputs": [],
   "source": [
    "data.to_csv(MOEX_path + '/' + share_ticker+ '.csv', index = False)"
   ]
  }
 ],
 "metadata": {
  "kernelspec": {
   "display_name": "Python 3 (ipykernel)",
   "language": "python",
   "name": "python3"
  },
  "language_info": {
   "codemirror_mode": {
    "name": "ipython",
    "version": 3
   },
   "file_extension": ".py",
   "mimetype": "text/x-python",
   "name": "python",
   "nbconvert_exporter": "python",
   "pygments_lexer": "ipython3",
   "version": "3.11.4"
  }
 },
 "nbformat": 4,
 "nbformat_minor": 4
}
