{
 "cells": [
  {
   "cell_type": "code",
   "execution_count": 296,
   "metadata": {},
   "outputs": [],
   "source": [
    "import numpy as np\n",
    "import pandas as pd\n",
    "from glob import glob\n",
    "\n",
    "import pandas_ta as pta\n",
    "import sys\n",
    "sys.path.append(\"..\") \n",
    "from tp_config import *\n",
    "from tp_utils.tp_utils import returns\n",
    "from tp_utils.data_provider import read_prices, read_data,load_data_from_exchange\n",
    "from tp_utils.backtest import simulation\n",
    "pd.set_option('precision', 9)\n",
    "np.set_printoptions(edgeitems=30, linewidth=1000, formatter=dict(float=lambda x: \"%.3g\" % x))"
   ]
  },
  {
   "cell_type": "code",
   "execution_count": 297,
   "metadata": {},
   "outputs": [],
   "source": [
    "df_all = read_data(\"BTC-USDT\", \"3m\")\n",
    "df_prices = df_all[-10000:].copy()"
   ]
  },
  {
   "cell_type": "code",
   "execution_count": 298,
   "metadata": {},
   "outputs": [],
   "source": [
    "log_rets = returns(df_prices['C'])\n",
    "df_prices['high'] = df_prices['H']\n",
    "df_prices['low'] = df_prices['L']\n",
    "df_prices['close'] =  df_prices['C']"
   ]
  },
  {
   "cell_type": "code",
   "execution_count": 147,
   "metadata": {},
   "outputs": [],
   "source": []
  },
  {
   "cell_type": "code",
   "execution_count": 299,
   "metadata": {},
   "outputs": [
    {
     "name": "stdout",
     "output_type": "stream",
     "text": [
      "ADF Statistic: -15.493582\n",
      "p-value: 0.000000\n",
      "Critical Values:\n",
      "\t1%: -3.431\n",
      "\t5%: -2.862\n",
      "\t10%: -2.567\n"
     ]
    }
   ],
   "source": [
    "from statsmodels.tsa.stattools import adfuller\n",
    "\n",
    "X = log_rets\n",
    "result = adfuller(X)\n",
    "print('ADF Statistic: %f' % result[0])\n",
    "print('p-value: %f' % result[1])\n",
    "print('Critical Values:')\n",
    "for key, value in result[4].items():\n",
    "    print('\\t%s: %.3f' % (key, value))"
   ]
  },
  {
   "cell_type": "code",
   "execution_count": 329,
   "metadata": {},
   "outputs": [],
   "source": [
    "m = 1\n",
    "n = 3\n",
    "k = 2\n",
    "Basic= pta.Strategy(\n",
    "    name=\"EMAs, BBs, and MACD\",\n",
    "    description=\"Non Multiprocessing Strategy by rename Columns\",\n",
    "    ta=[\n",
    "        {\"kind\": \"ema\", \"length\": 8},\n",
    "        {\"kind\": \"ema\", \"length\": 21},\n",
    "#        {\"kind\": \"bbands\", \"length\": 20, \"col_names\": (\"BBL\", \"BBM\", \"BBU\")},\n",
    "        {\"kind\": \"macd\", \"fast\": m, \"slow\": n, \"signal\": k, \"col_names\": (\"MACD\", \"MACDh\", \"MACDs\")},\n",
    "#        {\"kind\": \"stc\"}\n",
    "    ]\n",
    ")\n",
    "# Run it\n",
    "#df.ta.strategy(NonMPStrategy)"
   ]
  },
  {
   "cell_type": "code",
   "execution_count": 326,
   "metadata": {},
   "outputs": [],
   "source": [
    "df_feat = df_prices[['close']].copy()\n",
    "df_feat.ta.strategy(Basic)\n",
    "\n",
    "df_feat['p_shift'] = df_feat['close'].shift(n+k-2)\n",
    "df_feat['X4'] = df_feat['MACDh']/df_feat['p_shift']"
   ]
  },
  {
   "cell_type": "code",
   "execution_count": 165,
   "metadata": {},
   "outputs": [],
   "source": []
  },
  {
   "cell_type": "code",
   "execution_count": 313,
   "metadata": {},
   "outputs": [],
   "source": [
    "a = -0.00019\n",
    "xx = (df_feat['X4'] < a).astype(int)\n",
    "df_feat['buy'] = xx\n",
    "\n",
    "\n",
    "b = 0.00023 * 1.2\n",
    "xx = (df_feat['X4'] > b).astype(int)\n",
    "df_feat['sell'] = xx \n",
    "\n",
    "df_feat['signals'] = df_feat['buy'] - df_feat['sell']"
   ]
  },
  {
   "cell_type": "code",
   "execution_count": 334,
   "metadata": {},
   "outputs": [],
   "source": [
    "a = -0.00019\n",
    "xx = (df_feat['X4'] < a).astype(int)\n",
    "xx = xx.diff()\n",
    "xx.iloc[0] = 0\n",
    "df_feat['buy'] = -xx.astype(int)\n",
    "df_feat['buy'] = df_feat['buy'].apply(lambda x: max(x,0))\n",
    "\n",
    "\n",
    "b = 0.00023 * 1.2\n",
    "b = 0\n",
    "xx = (df_feat['X4'] > b).astype(int)\n",
    "xx = xx.diff()\n",
    "xx.iloc[0] = 0\n",
    "df_feat['sell'] = -xx.astype(int)\n",
    "df_feat['sell'] = df_feat['sell'].apply(lambda x: max(x,0))\n",
    "\n",
    "df_feat['signals'] = df_feat['buy'] - df_feat['sell']"
   ]
  },
  {
   "cell_type": "code",
   "execution_count": 335,
   "metadata": {},
   "outputs": [],
   "source": [
    "df_signals = df_feat[['close', 'signals']]\n",
    "df_signals.to_csv('../r_macd.csv', index = False)"
   ]
  },
  {
   "cell_type": "code",
   "execution_count": null,
   "metadata": {},
   "outputs": [],
   "source": []
  },
  {
   "cell_type": "code",
   "execution_count": null,
   "metadata": {},
   "outputs": [],
   "source": []
  },
  {
   "cell_type": "code",
   "execution_count": 316,
   "metadata": {},
   "outputs": [],
   "source": []
  }
 ],
 "metadata": {
  "kernelspec": {
   "display_name": "t",
   "language": "python",
   "name": "t"
  },
  "language_info": {
   "codemirror_mode": {
    "name": "ipython",
    "version": 3
   },
   "file_extension": ".py",
   "mimetype": "text/x-python",
   "name": "python",
   "nbconvert_exporter": "python",
   "pygments_lexer": "ipython3",
   "version": "3.8.5"
  }
 },
 "nbformat": 4,
 "nbformat_minor": 4
}
