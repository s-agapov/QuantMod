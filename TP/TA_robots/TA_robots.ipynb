{
 "cells": [
  {
   "cell_type": "code",
   "execution_count": 1,
   "metadata": {},
   "outputs": [
    {
     "ename": "ModuleNotFoundError",
     "evalue": "No module named 'talib'",
     "output_type": "error",
     "traceback": [
      "\u001b[1;31m---------------------------------------------------------------------------\u001b[0m",
      "\u001b[1;31mModuleNotFoundError\u001b[0m                       Traceback (most recent call last)",
      "\u001b[1;32m<ipython-input-1-7bf56d03d268>\u001b[0m in \u001b[0;36m<module>\u001b[1;34m\u001b[0m\n\u001b[0;32m      1\u001b[0m \u001b[1;32mimport\u001b[0m \u001b[0mnumpy\u001b[0m \u001b[1;32mas\u001b[0m \u001b[0mnp\u001b[0m\u001b[1;33m\u001b[0m\u001b[1;33m\u001b[0m\u001b[0m\n\u001b[0;32m      2\u001b[0m \u001b[1;32mimport\u001b[0m \u001b[0mpandas\u001b[0m \u001b[1;32mas\u001b[0m \u001b[0mpd\u001b[0m\u001b[1;33m\u001b[0m\u001b[1;33m\u001b[0m\u001b[0m\n\u001b[1;32m----> 3\u001b[1;33m \u001b[1;32mimport\u001b[0m \u001b[0mtalib\u001b[0m\u001b[1;33m\u001b[0m\u001b[1;33m\u001b[0m\u001b[0m\n\u001b[0m\u001b[0;32m      4\u001b[0m \u001b[1;32mfrom\u001b[0m \u001b[0mglob\u001b[0m \u001b[1;32mimport\u001b[0m \u001b[0mglob\u001b[0m\u001b[1;33m\u001b[0m\u001b[1;33m\u001b[0m\u001b[0m\n\u001b[0;32m      5\u001b[0m \u001b[1;33m\u001b[0m\u001b[0m\n",
      "\u001b[1;31mModuleNotFoundError\u001b[0m: No module named 'talib'"
     ]
    }
   ],
   "source": [
    "import numpy as np\n",
    "import pandas as pd\n",
    "import talib\n",
    "from glob import glob\n",
    "\n",
    "\n",
    "from data_provider import read_prices, read_data\n",
    "from backtest import simulation\n",
    "pd.set_option('precision', 9)\n",
    "np.set_printoptions(edgeitems=30, linewidth=1000, formatter=dict(float=lambda x: \"%.3g\" % x))\n",
    "\n",
    "market = 'BTC-USDT'\n",
    "kline = '1m'\n",
    "\n",
    "df_data = read_data(market, kline)\n",
    "low = df_data['L'].values\n",
    "high = df_data['H'].values\n",
    "close = read_prices(market, kline)\n",
    "prices = close\n",
    "# signals 0 do nothing, 1 buy, -1 sell"
   ]
  },
  {
   "cell_type": "code",
   "execution_count": 2,
   "metadata": {},
   "outputs": [],
   "source": [
    "import bottleneck as bn\n",
    "\n",
    "a = np.random.randint(4, 1000, size=(5, 7))\n",
    "mm = bn.move_mean(a, window=2, min_count=1)"
   ]
  },
  {
   "cell_type": "code",
   "execution_count": 34,
   "metadata": {},
   "outputs": [],
   "source": [
    "import cupy as cp\n",
    "x_gpu = cp.array([1, 2, 3])\n",
    "x_gpu = cp.array([1, 2, 3])\n",
    "l2_gpu = cp.linalg.norm(x_gpu)\n",
    "\n",
    "def cupy_ma(array, window ):    \n",
    "    ret = cp.cumsum(array)\n",
    "    ret[window:] = ret[window:] - ret[:-window]\n",
    "    ma = ret/ window\n",
    "    #n = np.empty(window-1); n.fill(np.nan)\n",
    "    #return np.concatenate((n.ravel(), ma.ravel())) \n",
    "    return ma\n",
    "\n",
    "cu_prices = cp.asarray(prices)"
   ]
  },
  {
   "cell_type": "code",
   "execution_count": 35,
   "metadata": {},
   "outputs": [
    {
     "name": "stdout",
     "output_type": "stream",
     "text": [
      "679 µs ± 3.92 µs per loop (mean ± std. dev. of 7 runs, 1000 loops each)\n"
     ]
    }
   ],
   "source": [
    "%timeit cupy_ma(cu_prices, 25)"
   ]
  },
  {
   "cell_type": "code",
   "execution_count": 58,
   "metadata": {},
   "outputs": [],
   "source": [
    "@cp.fuse()\n",
    "def squared_diff(x):\n",
    "    ma_lag = talib.SMA(x, 25)\n",
    "    ma_lead = talib.SMA(x, 12)\n",
    "    res = ma_lead-ma_lag\n",
    "    return np.array(res)\n",
    "\n",
    "def squared_diff_01(x):\n",
    "    ma_lag = talib.SMA(x, 25)\n",
    "    ma_lead = talib.SMA(x, 12)\n",
    "    res = ma_lead-ma_lag\n",
    "    return np.array(res)\n"
   ]
  },
  {
   "cell_type": "code",
   "execution_count": 59,
   "metadata": {},
   "outputs": [
    {
     "data": {
      "text/plain": [
       "device(type='cuda')"
      ]
     },
     "execution_count": 59,
     "metadata": {},
     "output_type": "execute_result"
    }
   ],
   "source": [
    "device = torch.device(\"cuda\" if torch.cuda.is_available() else \"cpu\")\n",
    "device"
   ]
  },
  {
   "cell_type": "code",
   "execution_count": 52,
   "metadata": {},
   "outputs": [
    {
     "name": "stdout",
     "output_type": "stream",
     "text": [
      "426 µs ± 23.5 µs per loop (mean ± std. dev. of 7 runs, 1000 loops each)\n"
     ]
    }
   ],
   "source": [
    "import torch\n",
    "def torch_ma(array, window ):    \n",
    "    ret = torch.cumsum(array, dim = 0)\n",
    "    ret[window:] = ret[window:] - ret[:-window]\n",
    "    ma = ret/ window\n",
    "    #n = np.empty(window-1); n.fill(np.nan)\n",
    "    #return np.concatenate((n.ravel(), ma.ravel())) \n",
    "    return ma\n",
    "\n",
    "cu_prices = torch.Tensor(prices).to(device)\n",
    "\n",
    "%timeit torch_ma(cu_prices, 25)\n"
   ]
  },
  {
   "cell_type": "code",
   "execution_count": 53,
   "metadata": {},
   "outputs": [
    {
     "name": "stdout",
     "output_type": "stream",
     "text": [
      "6.2 ms ± 55.8 µs per loop (mean ± std. dev. of 7 runs, 100 loops each)\n",
      "2.1 ms ± 146 µs per loop (mean ± std. dev. of 7 runs, 100 loops each)\n",
      "2.1 ms ± 28.1 µs per loop (mean ± std. dev. of 7 runs, 100 loops each)\n"
     ]
    }
   ],
   "source": [
    "import numpy as np\n",
    "import numba as nb\n",
    "\n",
    "def moving_average( array, window ):    \n",
    "    ret = np.cumsum(array)\n",
    "    ret[window:] = ret[window:] - ret[:-window]\n",
    "    ma = ret[window - 1:] / window\n",
    "    #n = np.empty(window-1); n.fill(np.nan)\n",
    "    #return np.concatenate((n.ravel(), ma.ravel())) \n",
    "    return ma\n",
    "\n",
    "%timeit moving_average(prices, 25)\n",
    "%timeit talib.SMA(prices, timeperiod = 25)\n",
    "%timeit bn.move_mean(prices, window=25, min_count=1)"
   ]
  },
  {
   "cell_type": "code",
   "execution_count": 41,
   "metadata": {},
   "outputs": [
    {
     "name": "stdout",
     "output_type": "stream",
     "text": [
      "2.1 ms ± 68.7 µs per loop (mean ± std. dev. of 7 runs, 100 loops each)\n"
     ]
    }
   ],
   "source": [
    "\n",
    "bn.move_mean(prices, window=25, min_count=1)"
   ]
  },
  {
   "cell_type": "code",
   "execution_count": 109,
   "metadata": {},
   "outputs": [],
   "source": [
    "#fast shift\n",
    "def shift(arr, num, fill_value=np.nan):\n",
    "    result = np.empty_like(arr)\n",
    "    if num > 0:\n",
    "        result[:num] = fill_value\n",
    "        result[num:] = arr[:-num]\n",
    "    elif num < 0:\n",
    "        result[num:] = fill_value\n",
    "        result[:num] = arr[-num:]\n",
    "    else:\n",
    "        result = arr[:]\n",
    "    return result"
   ]
  },
  {
   "cell_type": "code",
   "execution_count": 215,
   "metadata": {},
   "outputs": [],
   "source": [
    "def ma_01(ticks, ma_window):\n",
    "    ma = talib.MA(ticks, ma_window)\n",
    "    \n",
    "    start = ma_window\n",
    "    signals = []\n",
    "    for cur_tick in range(start,len(ticks)):\n",
    "        price = ticks[cur_tick]\n",
    "        indicator = ma[cur_tick]\n",
    "        if price > indicator:\n",
    "            signal = 1\n",
    "        elif price < indicator:\n",
    "            signal = -1\n",
    "        signals.append(signal)\n",
    "             \n",
    "    #robot_log[cur_tick] = [price, indicator, signal]\n",
    "    #np.savetxt('Logs/test.csv', robot_log, delimiter=',')\n",
    "    return signals"
   ]
  },
  {
   "cell_type": "code",
   "execution_count": 208,
   "metadata": {},
   "outputs": [],
   "source": [
    "def ma_02(ticks, ma_window):\n",
    "    ma = talib.MA(ticks, ma_window)\n",
    "   \n",
    "    start = ma_window\n",
    "    ma[:start] = 0\n",
    "    \n",
    "    signals = np.zeros((len(ticks)))\n",
    "    signals[ticks > ma] =  1 \n",
    "    signals[ticks < ma] = -1\n",
    "   \n",
    "    return signals[start:]"
   ]
  },
  {
   "cell_type": "code",
   "execution_count": 217,
   "metadata": {},
   "outputs": [],
   "source": [
    "class ma:  \n",
    "    robot_name  = 'ma-02'\n",
    "    ps_names    = ['ma_window']\n",
    "    ps_ranges   = ((4,240,2))\n",
    "    \n",
    "    def signals (self, ticks, ma_window):\n",
    "        ma = talib.MA(ticks, ma_window)\n",
    "\n",
    "        start = ma_window\n",
    "        ma[:start] = 0\n",
    "\n",
    "        signals = np.zeros((len(ticks)))\n",
    "        signals[ticks > ma] =  1 \n",
    "        signals[ticks < ma] = -1\n",
    "        return signals[start:]"
   ]
  },
  {
   "cell_type": "code",
   "execution_count": 144,
   "metadata": {},
   "outputs": [],
   "source": [
    "class Robot:\n",
    "    def buy_filter(self):\n",
    "        pass\n",
    "\n",
    "class ma_2_crossover(Robot):\n",
    "    robot_name = 'ma_2_crossover'\n",
    "    ps_names    = ['lead_window', 'lag_window',]\n",
    "    ps_ranges   = [(5, 80, 2), (20, 160, 2)]\n",
    "    comment =  ''\n",
    "    \n",
    "    \n",
    "    def __init__(self, lead_window, lag_window):\n",
    "        self.lead_window = lead_window\n",
    "        self.lag_window = lag_window\n",
    "        \n",
    "    def signals (self, data):\n",
    "        self.ticks = data['C'].values\n",
    "        ma_lead = talib.MA(self.ticks, self.lead_window)\n",
    "        ma_lag  = talib.MA(self.ticks, self.lag_window)\n",
    "        ma_lead[:self.lead_window - 1] = 0\n",
    "        ma_lag[:self.lag_window - 1]   = 0\n",
    "        \n",
    "        start   = self.lag_window + 1\n",
    "        self.signals = np.zeros((len(self.ticks)), dtype = np.int32)\n",
    "        self.signals[ma_lead > ma_lag] =  1\n",
    "        self.buy_filter()\n",
    "        self.signals[ma_lead < ma_lag] = -1\n",
    "        return self.signals[start:]\n",
    "    \n",
    "    def func(self, prices):\n",
    "        ticks = np.array(prices)\n",
    "        fast  = talib.MA(ticks, self.lead_window)\n",
    "        slow  = talib.MA(ticks, self.lag_window)\n",
    "        return ('fast', fast[-1] , 'slow', slow[-1])"
   ]
  },
  {
   "cell_type": "code",
   "execution_count": null,
   "metadata": {},
   "outputs": [],
   "source": []
  },
  {
   "cell_type": "code",
   "execution_count": 154,
   "metadata": {},
   "outputs": [
    {
     "data": {
      "text/plain": [
       "array([-1, -1, -1, -1, -1, -1,  1,  1,  1,  1,  1,  1,  1,  1,  1,  1,  1,  1,  1,  1,  1,  1,  1,  1,  1,  1, -1, -1, -1, -1, ..., -1, -1,  0,  0,  0,  0,  0, -1, -1, -1, -1, -1, -1, -1, -1, -1, -1, -1, -1,  0,  0,  0,  0,  0,  0,  0,  0,  0,  0,  0], dtype=int32)"
      ]
     },
     "execution_count": 154,
     "metadata": {},
     "output_type": "execute_result"
    }
   ],
   "source": [
    "def filt(self):\n",
    "    ema = talib.EMA(self.ticks, 200)\n",
    "    ema[:200] = ema[200]\n",
    "    ff = self.ticks > ema\n",
    "    self.signals = self.signals & ff\n",
    "\n",
    "Robot.buy_filter = filt\n",
    "\n",
    "r = ma_2_crossover(12,25)\n",
    "r.signals(df_data)"
   ]
  },
  {
   "cell_type": "code",
   "execution_count": 149,
   "metadata": {},
   "outputs": [
    {
     "data": {
      "text/plain": [
       "array([0, 0, 0, 3, 4])"
      ]
     },
     "execution_count": 149,
     "metadata": {},
     "output_type": "execute_result"
    }
   ],
   "source": [
    "x = np.arange(5)\n",
    "x[:3] = 0\n",
    "x"
   ]
  },
  {
   "cell_type": "code",
   "execution_count": 138,
   "metadata": {},
   "outputs": [
    {
     "name": "stdout",
     "output_type": "stream",
     "text": [
      "Wrooof!\n"
     ]
    }
   ],
   "source": [
    "class Dog:\n",
    "    def bark(self):\n",
    "        print('Woof!')\n",
    "\n",
    "class Husky(Dog):\n",
    "    def bark(self):\n",
    "        print ('Howl!')\n",
    "        \n",
    "def newbark(self):\n",
    "    print('Wrooof!')\n",
    "\n",
    "def howl(self):\n",
    "    print('Howl!')\n",
    "\n",
    "# Replace an existing method\n",
    "Dog.bark = newbark\n",
    "\n",
    "# Add a new method\n",
    "Dog.howl = howl\n",
    "\n",
    "d = Dog()\n",
    "d.bark()"
   ]
  },
  {
   "cell_type": "code",
   "execution_count": null,
   "metadata": {},
   "outputs": [],
   "source": [
    "def ma_crossover_03(ticks, lead_window, lag_window, threshold = 0.025):\n",
    "    #Fastest\n",
    "    return 'Not tested'\n",
    "    arr = np.zeros((len(ticks), 6))\n",
    "    arr[:, 0] = ticks\n",
    "    arr[:, 1] = talib.MA(ticks, lead_window)\n",
    "    arr[:, 2] = talib.MA(ticks, lag_window)\n",
    "    arr[:lag_window + 1, 1] = 1\n",
    "    arr[:lag_window + 1, 2] = 1\n",
    "        \n",
    "    \n",
    "    arr[:, 3] = arr[:,1] - arr[:,2]\n",
    "    arr[:, 4] = arr[:,3] / arr[:,0]\n",
    "    arr[:, 5] = np.where(arr[:, 4] > threshold, 1, 0)\n",
    "    arr[:, 5] = np.where(arr[:, 4] < -threshold, -1, arr[:, 5])\n",
    "    \n",
    "    return arr[:, 5]   "
   ]
  },
  {
   "cell_type": "code",
   "execution_count": null,
   "metadata": {},
   "outputs": [],
   "source": [
    "def ma_crossover_04(ticks, lead_window, lag_window, threshold = 0.025):\n",
    "    #Trade-off between speed and readability\n",
    "    return 'Not tested'\n",
    "    arr  = np.zeros((len(ticks), 6))\n",
    "    dtype = [('close', float), ('lead', float), ('lag', float),('lead-lag', float), ('pc_diff', float), ('signals', float)] \n",
    "    arr.dtype = dtype\n",
    "    \n",
    "    ticks_shape  = (len(ticks),1)\n",
    "    arr['close'] = np.resize(ticks, ticks_shape)\n",
    "    arr['lead']  = np.resize(talib.MA(ticks, lead_window), ticks_shape)\n",
    "    arr['lag']   = np.resize(talib.MA(ticks, lag_window), ticks_shape)\n",
    "    arr['lead']  = 1\n",
    "    arr['lag']   = 1\n",
    "        \n",
    "    \n",
    "    arr['lead-lag'] = arr['lead'] - arr['lag']\n",
    "    arr['pc_diff'] = arr['lead-lag'] / arr['close']\n",
    "    arr['signals'] = np.where(arr['pc_diff'] > threshold, 1, 0)\n",
    "    arr['signals'] = np.where(arr['pc_diff'] < -threshold, -1, arr['signals'])\n",
    "    \n",
    "    return arr['signals']   "
   ]
  },
  {
   "cell_type": "code",
   "execution_count": 10,
   "metadata": {},
   "outputs": [],
   "source": [
    "class ma_crossover:\n",
    "    robot_name = 'ma-2-crossover-02'\n",
    "    ps_names    = ps_names    = ['lead_window', 'lag_window']\n",
    "    ps_ranges   = [(10, 40, 2), (30, 150, 2)]\n",
    "\n",
    "    def signals (self, ticks, lead_window, lag_window):\n",
    "        ma_lead = talib.MA(ticks, lead_window)\n",
    "        ma_lag  = talib.MA(ticks, lag_window)\n",
    "        ma_lead[:lead_window - 1] = 0\n",
    "        ma_lag[:lag_window - 1]   = 0\n",
    "        \n",
    "        start   = lead_window + 1\n",
    "        signals = np.zeros((len(ticks)))\n",
    "        signals[ma_lead > ma_lag] =  1 \n",
    "        signals[ma_lead < ma_lag] = -1\n",
    "\n",
    "        return signals[start:]"
   ]
  },
  {
   "cell_type": "code",
   "execution_count": null,
   "metadata": {},
   "outputs": [],
   "source": [
    "class ma_3_crossover:\n",
    "    robot_name = 'ma-3-crossover'\n",
    "    ps_names    = ps_names    = ['lead_window', 'lag_window', 'last_window']\n",
    "    ps_ranges   = [(5, 30, 2), (20, 80, 2), (60, 150, 2) ]\n",
    "\n",
    "    def signals (self, ticks, lead_window, lag_window, last_window):\n",
    "        ma_lead = talib.MA(ticks, lead_window)\n",
    "        ma_lag  = talib.MA(ticks, lag_window)\n",
    "        ma_last  = talib.MA(ticks, last_window)\n",
    "        ma_lead[:lead_window - 1] = 0\n",
    "        ma_lag[:lag_window - 1]   = 0\n",
    "        ma_last[:last_window - 1]   = 0\n",
    "        \n",
    "        start   = last_window + 1\n",
    "        signals = np.zeros((len(ticks)))\n",
    "        signals[(ma_lead > ma_lag) & (ma_lag > ma_last)] =  1 \n",
    "        signals[(ma_lead < ma_lag) | (ma_lag < ma_last)] = -1\n",
    "\n",
    "        return signals[start:]"
   ]
  },
  {
   "cell_type": "code",
   "execution_count": 7,
   "metadata": {},
   "outputs": [],
   "source": [
    "def ma_crossover_ichimoku_01 (ticks, lead_window, lag_window):\n",
    "    ma_lead = talib.MA(ticks, lead_window)\n",
    "    ma_lag  = talib.MA(ticks, lag_window)\n",
    "    ma_lead[:lead_window-1] = 0\n",
    "    ma_lag[:lag_window-1]   = 0\n",
    "   \n",
    "    start   = lag_window+1\n",
    "    signals = np.zeros((len(ticks)))\n",
    "    for cur_tick in range(start, len(ticks)):\n",
    "        if ma_lead[cur_tick] > ma_lag[cur_tick] and ma_lag[cur_tick] > ma_lag[cur_tick-1]:\n",
    "            signals[cur_tick] = 1\n",
    "        elif ma_lead[cur_tick] < ma_lag[cur_tick] and ma_lag[cur_tick] < ma_lag[cur_tick-1]:\n",
    "            signals[cur_tick] = -1\n",
    "     \n",
    "    #robot_log = np.transpose( np.array([ticks, ma_lead, ma_lag,  signals]))\n",
    "    #np.savetxt('Logs/test.csv', robot_log, delimiter=',')\n",
    "    #return robot_log\n",
    "    return signals"
   ]
  },
  {
   "cell_type": "code",
   "execution_count": 3,
   "metadata": {},
   "outputs": [],
   "source": [
    "def ma_crossover_ichimoku_02 (ticks, lead_window, lag_window):\n",
    "\n",
    "    ma_lead = talib.MA(ticks, lead_window)\n",
    "    ma_lag  = talib.MA(ticks, lag_window)\n",
    "    ma_lead[:lead_window - 1] = 0\n",
    "    ma_lag[:lag_window + 1]   = 0\n",
    "    \n",
    "    signals = np.zeros((len(ticks)))\n",
    "    \n",
    "    ma_lag_shift    = np.roll(ma_lag,1)\n",
    "    ma_lag_shift[0] = 0\n",
    "\n",
    "    signals[(ma_lead > ma_lag) & (ma_lag > ma_lag_shift)] =  1 \n",
    "    signals[(ma_lead < ma_lag) & (ma_lag < ma_lag_shift)] = -1\n",
    "    \n",
    "    \n",
    "    #robot_log = np.transpose( np.array([ticks, ma_lead, ma_lag,  signals]))\n",
    "    #np.savetxt('Logs/test.csv', robot_log, delimiter=',')\n",
    "    #return robot_log\n",
    "    return signals"
   ]
  },
  {
   "cell_type": "code",
   "execution_count": 218,
   "metadata": {},
   "outputs": [],
   "source": [
    "class ma_2_crossover_ichimoku: \n",
    "    robot_name = 'ma-2-crossover-ichimoku-02'\n",
    "    ps_names   = ['ma_lead', 'ma_lag']\n",
    "    ps_ranges  = [(10, 40, 2), (30, 150, 2)]\n",
    "    \n",
    "    def signals (self, ticks, lead_window, lag_window):\n",
    "\n",
    "        ma_lead = talib.MA(ticks, lead_window)\n",
    "        ma_lag  = talib.MA(ticks, lag_window)\n",
    "        ma_lead[:lead_window - 1] = 0\n",
    "        ma_lag[:lag_window + 1]   = 0\n",
    "\n",
    "        signals = np.zeros((len(ticks)))\n",
    "\n",
    "        ma_lag_shift    = np.roll(ma_lag,1)\n",
    "        ma_lag_shift[0] = 0\n",
    "\n",
    "        signals[(ma_lead > ma_lag) & (ma_lag > ma_lag_shift)] =  1 \n",
    "        signals[(ma_lead < ma_lag) & (ma_lag < ma_lag_shift)] = -1\n",
    "\n",
    "\n",
    "        #robot_log = np.transpose( np.array([ticks, ma_lead, ma_lag,  signals]))\n",
    "        #np.savetxt('Logs/test.csv', robot_log, delimiter=',')\n",
    "        #return robot_log\n",
    "        return signals"
   ]
  },
  {
   "cell_type": "code",
   "execution_count": 75,
   "metadata": {},
   "outputs": [],
   "source": [
    "def ma_rsi_01 (ticks, ma_window, rsi_window, sell_indicator):\n",
    "    rsi = talib.RSI(ticks * 100, rsi_window)\n",
    "    ma = talib.MA(ticks, ma_window)\n",
    "    \n",
    "    start = max(rsi_window, ma_window)\n",
    "    signals = []\n",
    "    for cur_tick in range(start,len(ticks)):\n",
    "        if ticks[cur_tick] > ma[cur_tick]:\n",
    "            signal = 1\n",
    "        else:\n",
    "            signal = 0\n",
    "        if  rsi[cur_tick] > sell_indicator:\n",
    "            signal = -1\n",
    "        signals.append(signal)\n",
    "         \n",
    "    #robot_log = np.transpose( np.array([signals, ticks, ma, rsi]))\n",
    "    #np.savetxt('Logs/test.csv', robot_log, delimiter=',')\n",
    "    #return robot_log\n",
    "    return signals"
   ]
  },
  {
   "cell_type": "code",
   "execution_count": 92,
   "metadata": {},
   "outputs": [],
   "source": [
    "def ma_rsi_02 (ticks, ma_window, rsi_window, sell_indicator):\n",
    "    rsi = talib.RSI(ticks * 100, rsi_window)\n",
    "    ma = talib.MA(ticks, ma_window)\n",
    "   \n",
    "    start = max(rsi_window, ma_window)\n",
    "    ma[:start] = 0\n",
    "    rsi[:start] = 0\n",
    "    \n",
    "    signals = np.zeros((len(ticks)))\n",
    "    signals[ticks > ma] =  1 \n",
    "    signals[rsi > sell_indicator] = -1\n",
    "   \n",
    "    return signals[start:]"
   ]
  },
  {
   "cell_type": "code",
   "execution_count": 3,
   "metadata": {},
   "outputs": [],
   "source": [
    "class ma_rsi:\n",
    "    robot_name = 'ma-rsi-02'\n",
    "    ps_names    = ['ma_window', 'rsi_window', 'rsi_sell']\n",
    "    ps_ranges   = ((4,100,2), (20,40,2), (50,80,2))\n",
    "\n",
    "    def signals (self, ticks, ma_window, rsi_window, rsi_sell):\n",
    "        rsi = talib.RSI(ticks * 100, rsi_window)\n",
    "        ma  = talib.MA(ticks, ma_window)\n",
    "\n",
    "        start = max(rsi_window, ma_window)\n",
    "        ma[:start]  = 0\n",
    "        rsi[:start] = 0\n",
    "\n",
    "        signals = np.zeros((len(ticks)))\n",
    "        signals[ticks > ma] =  1 \n",
    "        signals[rsi > rsi_sell] = -1\n",
    "\n",
    "        return signals[start:]"
   ]
  },
  {
   "cell_type": "code",
   "execution_count": 11,
   "metadata": {},
   "outputs": [],
   "source": [
    "class rsi_ma:\n",
    "    \n",
    "    robot_name  = 'rsi-ma-01'\n",
    "    ps_names    = ['rsi_window', 'rsi_buy', 'ma_window']\n",
    "    ps_ranges   = ((4,20,2), (20,40,2), (10,60,2))\n",
    "    \n",
    "    def signals (self, ticks, rsi_window, rsi_buy, ma_window):\n",
    "        rsi = talib.RSI(ticks * 100, rsi_window)\n",
    "        ma  = talib.MA(ticks, ma_window)\n",
    "\n",
    "        start   = max(rsi_window, ma_window)\n",
    "        ma[:start]  = 0\n",
    "        rsi[:start] = 0\n",
    "\n",
    "        signals = np.zeros((len(ticks)))\n",
    "        signals[rsi > rsi_buy] =  1 \n",
    "        signals[ticks > ma] = -1\n",
    "\n",
    "        return signals[start:]"
   ]
  },
  {
   "cell_type": "code",
   "execution_count": null,
   "metadata": {},
   "outputs": [],
   "source": [
    "class rsi__ma_01:\n",
    "    \n",
    "    robot_name  = 'rsi_ma-rsi'\n",
    "    ps_names    = ['rsi_window', 'rsi_buy', 'rsi_sell', 'ma_window']\n",
    "    ps_ranges   = ((4,20,2), (20,40,2), (50,80,2), (80, 120, 2))\n",
    "           \n",
    "    def signals (self, ticks, rsi_window, rsi_buy, rsi_sell, ma_window):\n",
    "        rsi = talib.RSI(ticks * 100, rsi_window)\n",
    "        ma  = talib.MA(ticks, ma_window)\n",
    "\n",
    "        start   = max(rsi_window, ma_window)\n",
    "        ma[:start]  = 0\n",
    "        rsi[:start] = 0\n",
    "\n",
    "        signals = np.zeros((len(self.ticks)))\n",
    "        signals[(self.rsi < rsi_buy) & (ticks > self.ma)] =  1 \n",
    "        signals[self.rsi > rsi_sell] = -1\n",
    "        \n",
    "        return signals[start:]"
   ]
  },
  {
   "cell_type": "code",
   "execution_count": 52,
   "metadata": {},
   "outputs": [],
   "source": [
    "class rsi__ma_01:\n",
    "    \n",
    "    robot_name  = 'rsi_ma-rsi'\n",
    "    ps_names    = ['rsi_window', 'rsi_buy', 'rsi_sell', 'ma_window']\n",
    "    ps_ranges   = ((4,20,2), (20,40,2), (50,80,2), (80, 120, 2))\n",
    "    \n",
    "    def __init__(self):\n",
    "        self.long =  []\n",
    "        self.short = []\n",
    "        \n",
    "    def signals (self, ticks, rsi_window, rsi_buy, rsi_sell, ma_window):\n",
    "        rsi = talib.RSI(ticks * 100, rsi_window)\n",
    "        ma  = talib.MA(ticks, ma_window)\n",
    "\n",
    "        start   = max(rsi_window, ma_window)\n",
    "        ma[:start]  = 0\n",
    "        rsi[:start] = 0\n",
    "\n",
    "        def get_long(self):\n",
    "            signals = np.zeros((len(self.ticks)))\n",
    "            signals[(self.rsi < rsi_buy) & (ticks > self.ma)] =  1 \n",
    "            signals[self.rsi > rsi_sell] = -1\n",
    "            self.long = signals\n",
    "        \n",
    "        return get_long"
   ]
  },
  {
   "cell_type": "code",
   "execution_count": 37,
   "metadata": {},
   "outputs": [],
   "source": [
    "class rsi__ma_02:\n",
    "    \n",
    "    robot_name  = 'rsi_ma-rsi'\n",
    "    ps_names    = ['rsi_window', 'rsi_buy', 'rsi_sell', 'ma_window']\n",
    "    ps_ranges   = ((4,20,2), (20,40,2), (50,80,2), (80, 120, 2))\n",
    "    \n",
    "    def __init__(self):\n",
    "        self.long =  []\n",
    "        self.short = []\n",
    "        \n",
    "    def signals (self, ticks, rsi_window, rsi_buy, rsi_sell, ma_window):\n",
    "        rsi = talib.RSI(ticks * 100, rsi_window)\n",
    "        ma  = talib.MA(ticks, ma_window)\n",
    "\n",
    "        start   = max(rsi_window, ma_window)\n",
    "        ma[:start]  = 0\n",
    "        rsi[:start] = 0\n",
    "        \n",
    "        signals = np.zeros((len(ticks)))\n",
    "        signals[(rsi < rsi_buy) & (ticks > ma)] =  1 \n",
    "        signals[rsi > rsi_sell] = -1\n",
    "        self.long = signals[start:]       \n",
    "         "
   ]
  },
  {
   "cell_type": "code",
   "execution_count": 55,
   "metadata": {},
   "outputs": [
    {
     "ename": "TypeError",
     "evalue": "get_long() missing 1 required positional argument: 'self'",
     "output_type": "error",
     "traceback": [
      "\u001b[0;31m---------------------------------------------------------------------------\u001b[0m",
      "\u001b[0;31mTypeError\u001b[0m                                 Traceback (most recent call last)",
      "\u001b[0;32m<ipython-input-55-726e5ade533f>\u001b[0m in \u001b[0;36m<module>\u001b[0;34m()\u001b[0m\n\u001b[1;32m      1\u001b[0m \u001b[0mrr\u001b[0m \u001b[0;34m=\u001b[0m \u001b[0mrsi__ma_01\u001b[0m\u001b[0;34m(\u001b[0m\u001b[0;34m)\u001b[0m\u001b[0;34m\u001b[0m\u001b[0m\n\u001b[1;32m      2\u001b[0m \u001b[0mgg\u001b[0m \u001b[0;34m=\u001b[0m \u001b[0mrr\u001b[0m\u001b[0;34m.\u001b[0m\u001b[0msignals\u001b[0m\u001b[0;34m(\u001b[0m\u001b[0mprices\u001b[0m\u001b[0;34m,\u001b[0m \u001b[0;36m14\u001b[0m\u001b[0;34m,\u001b[0m \u001b[0;36m35\u001b[0m\u001b[0;34m,\u001b[0m \u001b[0;36m60\u001b[0m\u001b[0;34m,\u001b[0m \u001b[0;36m120\u001b[0m\u001b[0;34m)\u001b[0m\u001b[0;34m\u001b[0m\u001b[0m\n\u001b[0;32m----> 3\u001b[0;31m \u001b[0mgg\u001b[0m\u001b[0;34m(\u001b[0m\u001b[0;34m)\u001b[0m\u001b[0;34m\u001b[0m\u001b[0m\n\u001b[0m",
      "\u001b[0;31mTypeError\u001b[0m: get_long() missing 1 required positional argument: 'self'"
     ]
    }
   ],
   "source": [
    "rr = rsi__ma_01()\n",
    "gg = rr.signals(prices, 14, 35, 60, 120)\n",
    "gg()"
   ]
  },
  {
   "cell_type": "code",
   "execution_count": 127,
   "metadata": {},
   "outputs": [],
   "source": [
    "def rsi_01 (ticks, rsi_window, rsi_buy, rsi_sell):\n",
    "    rsi = talib.RSI(ticks * 100, rsi_window)\n",
    "    start = rsi_window\n",
    "    \n",
    "    signals = []\n",
    "    for cur_tick in range(start,len(ticks)):\n",
    "        if rsi[cur_tick] < rsi_buy:\n",
    "            signal = 1\n",
    "        elif rsi[cur_tick] > rsi_sell:\n",
    "            signal = -1\n",
    "        else:\n",
    "            signal = 0            \n",
    "        signals.append(signal)\n",
    "   \n",
    "    #robot_log = np.transpose(np.array([signals, ticks[start:], rsi[start:]]))\n",
    "    #np.savetxt('Logs/test.csv', robot_log, delimiter=',')\n",
    "    #return robot_log\n",
    "    return signals"
   ]
  },
  {
   "cell_type": "code",
   "execution_count": 124,
   "metadata": {},
   "outputs": [],
   "source": [
    "def rsi_02 (ticks, rsi_window, rsi_buy, rsi_sell):\n",
    "    rsi = talib.RSI(ticks * 100, rsi_window)\n",
    "    start = rsi_window\n",
    "    rsi[:start] = 0\n",
    "    \n",
    "    signals = np.zeros((len(ticks)))\n",
    "    signals[rsi<rsi_buy]  = 1\n",
    "    signals[rsi>rsi_sell] = -1\n",
    "    \n",
    "    return signals[start:]"
   ]
  },
  {
   "cell_type": "code",
   "execution_count": 134,
   "metadata": {},
   "outputs": [],
   "source": [
    "class rsi:  \n",
    "    robot_name  = 'rsi-02'\n",
    "    ps_names    = ['rsi_window', 'rsi_buy', 'rsi_sell']\n",
    "    ps_ranges   = ((4,20,2), (20,40,2), (60,80,2))\n",
    "    \n",
    "    def signals (self, ticks, rsi_window, rsi_buy, rsi_sell):\n",
    "        rsi = talib.RSI(ticks * 100, rsi_window)\n",
    "        start = rsi_window\n",
    "        rsi[:start] = 0\n",
    "\n",
    "        signals = np.zeros((len(ticks)))\n",
    "        signals[rsi<rsi_buy]  = 1\n",
    "        signals[rsi>rsi_sell] = -1\n",
    "\n",
    "        return signals[start:]"
   ]
  },
  {
   "cell_type": "code",
   "execution_count": 144,
   "metadata": {},
   "outputs": [],
   "source": [
    "def macd_01 (ticks, fast_window = 12, slow_window = 26, signal_window = 9):\n",
    "    macd, macd_signal, macd_hist = talib.MACD(ticks, fast_window, slow_window, signal_window)\n",
    "    start = max(fast_window, slow_window, signal_window)\n",
    "    \n",
    "    signals = []\n",
    "    for cur_tick in range(start,len(ticks)):\n",
    "        if macd[cur_tick] > macd_signal[cur_tick] and macd_signal[cur_tick] > 0:\n",
    "            signal = 1\n",
    "        elif macd[cur_tick] < macd_signal[cur_tick] and macd_signal[cur_tick] < 0:\n",
    "            signal = -1\n",
    "        else:\n",
    "            signal = 0            \n",
    "        signals.append(signal)\n",
    "   \n",
    "    #robot_log = np.transpose(np.array([signals, ticks[start:], rsi[start:]]))\n",
    "    #np.savetxt('Logs/test.csv', robot_log, delimiter=',')\n",
    "    #return robot_log\n",
    "    return signals"
   ]
  },
  {
   "cell_type": "code",
   "execution_count": 199,
   "metadata": {},
   "outputs": [],
   "source": [
    "def macd_02 (ticks, fast_window = 12, slow_window = 26, signal_window = 9):\n",
    "    macd, macd_signal, macd_hist = talib.MACD(ticks, fast_window, slow_window, signal_window)\n",
    "    start = max(fast_window, slow_window, signal_window)\n",
    "    macd[np.isnan(macd)] = 0\n",
    "    macd_signal[np.isnan(macd_signal)] = 0\n",
    "    \n",
    "    signals = np.zeros((len(ticks)))\n",
    "    signals[(macd > macd_signal) & (macd_signal > 0)]  = 1\n",
    "    signals[(macd < macd_signal) & (macd_signal < 0)] = -1\n",
    "\n",
    "    #return signals[start:]   \n",
    "    return signals[start:]"
   ]
  },
  {
   "cell_type": "code",
   "execution_count": 201,
   "metadata": {},
   "outputs": [],
   "source": [
    "class macd:  \n",
    "    robot_name  = 'macd-01'\n",
    "    ps_names    = ['fast_window', 'slow_window', 'signal_window']\n",
    "    ps_ranges   = ((9,15,1), (20,32,1), (6,12,1))\n",
    "    \n",
    "    def signals(self, ticks, fast_window = 12, slow_window = 26, signal_window = 9):\n",
    "        macd, macd_signal, macd_hist = talib.MACD(ticks, fast_window, slow_window, signal_window)\n",
    "        start = max(fast_window, slow_window, signal_window)\n",
    "        macd[np.isnan(macd)] = 0\n",
    "        macd_signal[np.isnan(macd_signal)] = 0\n",
    "\n",
    "        signals = np.zeros((len(ticks)))\n",
    "        signals[(macd > macd_signal) & (macd_signal > 0)]  = 1\n",
    "        signals[(macd < macd_signal) & (macd_signal < 0)] = -1\n",
    "\n",
    "        #return signals[start:]   \n",
    "        return signals[start:]"
   ]
  },
  {
   "cell_type": "code",
   "execution_count": 18,
   "metadata": {},
   "outputs": [],
   "source": [
    "class kestner_ma:  \n",
    "    robot_name = 'kestner-ma'\n",
    "    ps_names    = ps_names    = ['high_window', 'low_window', 'ma_window', 'filt_x']\n",
    "    ps_ranges   = [(4, 80, 2), (20, 80, 2), (80, 140, 2), (2,24,2) ]\n",
    "\n",
    "    def signals (self, data, high_window, low_window, ma_window, filt_x):\n",
    "        \n",
    "        ticks = data['C'].values\n",
    "        ma_high = talib.MA(data['H'].values, high_window)\n",
    "        ma_low  = talib.MA(data['L'].values, low_window)\n",
    "        ma  = talib.MA(ticks, ma_window)\n",
    "        \n",
    "        ma_high[:high_window - 1] = 0\n",
    "        ma_low[:low_window - 1]   = 0\n",
    "        ma[:ma_window - 1]        = 0\n",
    "        ma_shift = np.roll(ma, filt_x)\n",
    "        ma_shift[:filt_x] = 0\n",
    "        \n",
    "\n",
    "        signals = np.zeros((len(ticks)))\n",
    "        signals[(ticks > ma_high) & (ma > ma_shift)] = 1 \n",
    "        signals[(ticks < ma_low) & (ma < ma_shift)]  = -1\n",
    "        \n",
    "        start   = max(high_window,low_window,ma_window +filt_x)\n",
    "        return signals[start:]"
   ]
  },
  {
   "cell_type": "code",
   "execution_count": null,
   "metadata": {},
   "outputs": [],
   "source": []
  },
  {
   "cell_type": "code",
   "execution_count": null,
   "metadata": {},
   "outputs": [],
   "source": [
    "class dmi_adxr_11:  \n",
    "    #short trading\n",
    "    robot_name  = 'dmi-adxr-01'\n",
    "    ps_names    = ['dmi_window', 'adxr_level']\n",
    "    ps_ranges   = ((14,140,2), (26, 200, 2))\n",
    "    \n",
    "    def signals(self, high, low, close, dmi_window, adxr_level):\n",
    "        dmi_plus = talib.PLUS_DM(high, low, timeperiod=dmi_window)\n",
    "        dmi_minus = talib.MINUS_DM(high, low, timeperiod=dmi_window)\n",
    "        adxr = talib.ADXR(high, low, close, timeperiod=dmi_window)\n",
    "        \n",
    "        start = len(adxr[np.isnan(adxr)])\n",
    "        dmi_plus[np.isnan(dmi_plus)] = 0\n",
    "        dmi_minus[np.isnan(dmi_minus)] = 0\n",
    "        adxr[np.isnan(adxr)] = 0\n",
    "\n",
    "        signals = np.zeros((len(close)))\n",
    "        for i in range(start, len(close)):\n",
    "            if adxr[i] > adxr_level or adxr[i] < di_plus[i] and adxr[i] < di_minus[i]:\n",
    "                if di_plus[i] > di_minus[i]:\n",
    "                    signal[i] = 1\n",
    "                else\n",
    "                    signal[i] = -1\n",
    "            else\n",
    "                signal[i] = 0\n",
    "        \n",
    "        return signals[start:]"
   ]
  },
  {
   "cell_type": "code",
   "execution_count": 23,
   "metadata": {},
   "outputs": [
    {
     "data": {
      "text/plain": [
       "0.00011224000000000006"
      ]
     },
     "execution_count": 23,
     "metadata": {},
     "output_type": "execute_result"
    }
   ],
   "source": [
    "class davey_01:\n",
    "    #short trading\n",
    "    #From Davey. Building Winning Algorithmic Trading Systems.\n",
    "\n",
    "    robot_name  = 'davey-01'\n",
    "    ps_names    = ['dmi_window', 'adxr_level']\n",
    "    ps_ranges   = ((14,140,2), (26, 200, 2))\n",
    "    \n",
    "    def signals(self, close, rsi_window):\n",
    "        rsi = talib(close, rsi_window)\n",
    "        start = len(adxr[np.isnan(adxr)])\n",
    "        dmi_plus[np.isnan(dmi_plus)] = 0\n",
    "        dmi_minus[np.isnan(dmi_minus)] = 0\n",
    "        adxr[np.isnan(adxr)] = 0\n",
    "\n",
    "        signals = np.zeros((len(close)))\n",
    "        for i in range(start, len(close)):\n",
    "            \n",
    "            if np.argmax(close[i:i+48]) == 48 and \n",
    "                if di_plus[i] > di_minus[i]:\n",
    "                    signal[i] = 1\n",
    "                else\n",
    "                    signal[i] = -1\n",
    "            else\n",
    "                signal[i] = 0\n",
    "        \n",
    "        return signals[start:]"
   ]
  },
  {
   "cell_type": "code",
   "execution_count": 26,
   "metadata": {},
   "outputs": [
    {
     "data": {
      "text/plain": [
       "array([1, 2, 3, 4, 5])"
      ]
     },
     "execution_count": 26,
     "metadata": {},
     "output_type": "execute_result"
    }
   ],
   "source": []
  },
  {
   "cell_type": "code",
   "execution_count": 130,
   "metadata": {},
   "outputs": [],
   "source": [
    "#Turtles\n",
    "# The first thing we need are our trading signals. The Turtle strategy was based on daily data and\n",
    "# they used to enter breakouts (new higher highs or new lower lows) in the 22-60 day range roughly.\n",
    "# We are dealing with minute bars here so a 22 minute new high isn't much to get excited about. Lets\n",
    "# pick an equivalent to 60 days then. They also only considered Close price so lets do the same...\n",
    "\n",
    "signal_lookback = 70 # days * hours * minutes\n",
    "res = []\n",
    "\n",
    "for signal_lookback in range(64,70,2):\n",
    "    data=df_data\n",
    "    train = 0.8\n",
    "    train_ind =  int(train * data.shape[0])\n",
    "    # here's our signal columns\n",
    "    data['Buy'] = np.zeros(len(data))\n",
    "    data['Sell'] = np.zeros(len(data))\n",
    "\n",
    "    # this is our 'working out', you could collapse these into the .loc call later on and save memory \n",
    "    # but I've left them in for debug purposes, makes it easier to see what is going on\n",
    "    data['RollingMax'] = data['C'].shift(1).rolling(signal_lookback, min_periods=signal_lookback).max()\n",
    "    data['RollingMin'] = data['C'].shift(1).rolling(signal_lookback, min_periods=signal_lookback).min()\n",
    "    data.loc[data['RollingMax'] < data['C'], 'Buy'] = 1\n",
    "    data.loc[data['RollingMin'] > data['C'], 'Sell'] = -1\n",
    "    data['Signals'] = data['Sell'] + data['Buy']\n",
    "    signals = data['Signals']\n",
    "    signals = signals[signal_lookback:].as_matrix()\n",
    "    df = simulation(prices[train_ind:], signals[train_ind:], init_data)\n",
    "    res.append([signal_lookback, df['cum_profit'].iloc[-1]])\n",
    "#1h 55, 105"
   ]
  },
  {
   "cell_type": "code",
   "execution_count": null,
   "metadata": {},
   "outputs": [],
   "source": [
    "np.sum(signals==-1)\n",
    "res\n",
    "np.sum(df['signal'] == -1)"
   ]
  },
  {
   "cell_type": "code",
   "execution_count": 135,
   "metadata": {},
   "outputs": [
    {
     "data": {
      "text/plain": [
       "25"
      ]
     },
     "execution_count": 135,
     "metadata": {},
     "output_type": "execute_result"
    }
   ],
   "source": [
    "init_data = {'exchange_commission': 0.0005,\n",
    "             'start_capital'     : 100,\n",
    "             'buy_correction'    : 1.004,\n",
    "             'sell_correction'   : 0.996,\n",
    "             'robot_name'        : '',\n",
    "             'market'            : '',\n",
    "             'kline'             : ''  \n",
    "            }\n",
    "\n",
    "\n",
    "df = simulation(prices[:train_ind], signals[:train_ind], init_data)\n",
    "#simulation(prices[train_ind:], signals[train_ind:], init_data)\n",
    "np.sum(df['signal'] == -1)"
   ]
  },
  {
   "cell_type": "code",
   "execution_count": 61,
   "metadata": {},
   "outputs": [
    {
     "data": {
      "text/plain": [
       "64.16666666666667"
      ]
     },
     "execution_count": 61,
     "metadata": {},
     "output_type": "execute_result"
    }
   ],
   "source": [
    "1540/24"
   ]
  },
  {
   "cell_type": "code",
   "execution_count": 198,
   "metadata": {},
   "outputs": [
    {
     "data": {
      "text/plain": [
       "0"
      ]
     },
     "execution_count": 198,
     "metadata": {},
     "output_type": "execute_result"
    }
   ],
   "source": [
    "x = macd_02(prices, 14, 30, 70)\n",
    "np.sum(np.isnan(x))"
   ]
  },
  {
   "cell_type": "code",
   "execution_count": 120,
   "metadata": {},
   "outputs": [],
   "source": [
    "log  = rsi_01(prices, 14, 30, 70)\n",
    "df = pd.DataFrame(log)\n",
    "df[df[0] !=0];"
   ]
  },
  {
   "cell_type": "code",
   "execution_count": 216,
   "metadata": {},
   "outputs": [
    {
     "name": "stdout",
     "output_type": "stream",
     "text": [
      "29918 29818 29818\n"
     ]
    },
    {
     "data": {
      "text/plain": [
       "0"
      ]
     },
     "execution_count": 216,
     "metadata": {},
     "output_type": "execute_result"
    }
   ],
   "source": [
    "s1  = ma_01(prices, 100)\n",
    "s2  = ma_02(prices, 100)\n",
    "print(len(prices), len(s1), len(s2))\n",
    "np.sum(s1!=s2)"
   ]
  },
  {
   "cell_type": "code",
   "execution_count": 129,
   "metadata": {},
   "outputs": [
    {
     "name": "stdout",
     "output_type": "stream",
     "text": [
      "13.7 ms ± 116 µs per loop (mean ± std. dev. of 7 runs, 100 loops each)\n",
      "241 µs ± 1.3 µs per loop (mean ± std. dev. of 7 runs, 1000 loops each)\n"
     ]
    }
   ],
   "source": [
    "%timeit s1  = rsi_01(prices, 30, 14, 70)\n",
    "%timeit s2  = rsi_02(prices, 30, 14, 70)\n",
    "#print(len(prices), len(s1), len(s2))"
   ]
  },
  {
   "cell_type": "code",
   "execution_count": 17,
   "metadata": {},
   "outputs": [],
   "source": [
    "class short_ma_cross:\n",
    "    robot_name = 'short-ma-cross'\n",
    "    ps_names    = ['lead_window', 'lead_window']\n",
    "    ps_ranges   = ((4,100,2), (20,40,2), (50,80,2))\n",
    "\n",
    "    def signals (self, ticks, lead_window, lag_window):\n",
    "        ma_lead = talib.MA(ticks, lead_window)\n",
    "        ma_lag  = talib.MA(ticks, lag_window)\n",
    "\n",
    "        start = max(lead_window, lag_window)\n",
    "        ma_lead[:start]  = 0\n",
    "        ma_lag[:start] = 0\n",
    "        \n",
    "        ma_lead_diff = np.sign(np.diff(ma_lead))\n",
    "        ma_lag_diff = np.sign(np.diff(ma_lag))\n",
    "\n",
    "        signals = np.zeros((len(ticks)))\n",
    "        signals[ma_lead_diff == ma_lag_diff] =  ma_lag_diff[ma_lead_diff == ma_lag_diff] \n",
    "\n",
    "        return signals[start:]"
   ]
  },
  {
   "cell_type": "code",
   "execution_count": 18,
   "metadata": {},
   "outputs": [
    {
     "ename": "IndexError",
     "evalue": "boolean index did not match indexed array along dimension 0; dimension is 17092 but corresponding boolean dimension is 17091",
     "output_type": "error",
     "traceback": [
      "\u001b[0;31m---------------------------------------------------------------------------\u001b[0m",
      "\u001b[0;31mIndexError\u001b[0m                                Traceback (most recent call last)",
      "\u001b[0;32m<ipython-input-18-4c3ac65cd22f>\u001b[0m in \u001b[0;36m<module>\u001b[0;34m()\u001b[0m\n\u001b[1;32m      1\u001b[0m \u001b[0mss\u001b[0m \u001b[0;34m=\u001b[0m \u001b[0mshort_ma_cross\u001b[0m\u001b[0;34m(\u001b[0m\u001b[0;34m)\u001b[0m\u001b[0;34m\u001b[0m\u001b[0;34m\u001b[0m\u001b[0m\n\u001b[0;32m----> 2\u001b[0;31m \u001b[0mss\u001b[0m\u001b[0;34m.\u001b[0m\u001b[0msignals\u001b[0m\u001b[0;34m(\u001b[0m\u001b[0mprices\u001b[0m\u001b[0;34m,\u001b[0m \u001b[0;36m20\u001b[0m\u001b[0;34m,\u001b[0m \u001b[0;36m40\u001b[0m\u001b[0;34m)\u001b[0m\u001b[0;34m\u001b[0m\u001b[0;34m\u001b[0m\u001b[0m\n\u001b[0m",
      "\u001b[0;32m<ipython-input-17-0fc9a1c0ba38>\u001b[0m in \u001b[0;36msignals\u001b[0;34m(self, ticks, lead_window, lag_window)\u001b[0m\n\u001b[1;32m     16\u001b[0m \u001b[0;34m\u001b[0m\u001b[0m\n\u001b[1;32m     17\u001b[0m         \u001b[0msignals\u001b[0m \u001b[0;34m=\u001b[0m \u001b[0mnp\u001b[0m\u001b[0;34m.\u001b[0m\u001b[0mzeros\u001b[0m\u001b[0;34m(\u001b[0m\u001b[0;34m(\u001b[0m\u001b[0mlen\u001b[0m\u001b[0;34m(\u001b[0m\u001b[0mticks\u001b[0m\u001b[0;34m)\u001b[0m\u001b[0;34m)\u001b[0m\u001b[0;34m)\u001b[0m\u001b[0;34m\u001b[0m\u001b[0;34m\u001b[0m\u001b[0m\n\u001b[0;32m---> 18\u001b[0;31m         \u001b[0msignals\u001b[0m\u001b[0;34m[\u001b[0m\u001b[0mma_lead_diff\u001b[0m \u001b[0;34m==\u001b[0m \u001b[0mma_lag_diff\u001b[0m\u001b[0;34m]\u001b[0m \u001b[0;34m=\u001b[0m  \u001b[0mma_lag_diff\u001b[0m\u001b[0;34m[\u001b[0m\u001b[0mma_lead_diff\u001b[0m \u001b[0;34m==\u001b[0m \u001b[0mma_lag_diff\u001b[0m\u001b[0;34m]\u001b[0m\u001b[0;34m\u001b[0m\u001b[0;34m\u001b[0m\u001b[0m\n\u001b[0m\u001b[1;32m     19\u001b[0m \u001b[0;34m\u001b[0m\u001b[0m\n\u001b[1;32m     20\u001b[0m         \u001b[0;32mreturn\u001b[0m \u001b[0msignals\u001b[0m\u001b[0;34m[\u001b[0m\u001b[0mstart\u001b[0m\u001b[0;34m:\u001b[0m\u001b[0;34m]\u001b[0m\u001b[0;34m\u001b[0m\u001b[0;34m\u001b[0m\u001b[0m\n",
      "\u001b[0;31mIndexError\u001b[0m: boolean index did not match indexed array along dimension 0; dimension is 17092 but corresponding boolean dimension is 17091"
     ]
    }
   ],
   "source": [
    "ss = short_ma_cross()\n",
    "ss.signals(prices, 20, 40)"
   ]
  }
 ],
 "metadata": {
  "kernelspec": {
   "display_name": "t",
   "language": "python",
   "name": "t"
  },
  "language_info": {
   "codemirror_mode": {
    "name": "ipython",
    "version": 3
   },
   "file_extension": ".py",
   "mimetype": "text/x-python",
   "name": "python",
   "nbconvert_exporter": "python",
   "pygments_lexer": "ipython3",
   "version": "3.11.7"
  }
 },
 "nbformat": 4,
 "nbformat_minor": 4
}
