{
 "cells": [
  {
   "cell_type": "code",
   "execution_count": 2,
   "metadata": {
    "tags": []
   },
   "outputs": [],
   "source": [
    "import numpy as np\n",
    "import pandas as pd\n",
    "import time\n",
    "from datetime import datetime\n",
    "from glob import glob\n",
    "import os\n",
    "from math import ceil\n",
    "\n",
    "import ccxt\n",
    "\n",
    "from tp_utils.data_provider import get_symbols, market_to_symbol, load_data_from_exchange\n",
    "from tp_config import *\n",
    "\n",
    "pd.set_option('display.precision', 9)"
   ]
  },
  {
   "cell_type": "code",
   "execution_count": null,
   "metadata": {},
   "outputs": [],
   "source": []
  },
  {
   "cell_type": "code",
   "execution_count": 4,
   "metadata": {},
   "outputs": [],
   "source": [
    "pair = 'USDT'\n",
    "timeframes = {'1m':1, '3m':3, '5m':5, '15m':15}\n",
    "#timeframes = {'30m':30, '1h':60} #'2h':120, '4h':240, '6h':480, '12h':960, '1d':1920}\n",
    "#timeframes = {'1h':60}# '2h':120, '4h':240, '6h':480, '12h':960, '1d':1920}\n",
    "timeframes = {'4h':240, '6h':480, '12h':960, '1d':1920}\n",
    "timeframes = {'4h':240}\n",
    "exchange = ccxt.bybit()\n",
    "symbol_list = get_symbols(exchange, pair)\n",
    "\n",
    "symbols = [x for x in symbol_list if \":\" not in x]"
   ]
  },
  {
   "cell_type": "code",
   "execution_count": null,
   "metadata": {
    "tags": []
   },
   "outputs": [],
   "source": []
  },
  {
   "cell_type": "code",
   "execution_count": 3,
   "metadata": {
    "tags": []
   },
   "outputs": [],
   "source": [
    "index_assets = pd.read_csv('Portfolio/index_assets.csv')['asset'].tolist()\n",
    "index_low_assets = pd.read_csv('Portfolio/index_low_assets.csv')['asset'].tolist()\n",
    "full_assets = index_assets + index_low_assets\n",
    "\n",
    "markets = [x.replace('/','-') for x in symbol_list if x.split('/')[0] != 'BTC']\n",
    "\n",
    "main = ['USDT']\n",
    "\n",
    "assets = full_assets\n",
    "#markets = main\n",
    "markets = [s + '-' + pair for s in assets] "
   ]
  },
  {
   "cell_type": "code",
   "execution_count": 8,
   "metadata": {
    "tags": []
   },
   "outputs": [],
   "source": [
    "markets = [x.replace('/','-') for x in symbols]\n",
    "data_path = DATA_PATH_CRYPTO + '/' + pair\n",
    "\n",
    "now = exchange.milliseconds()\n",
    "to_timestamp = now\n",
    "start_timestamp = exchange.parse8601('2024-01-01 00:00:00')\n",
    "\n",
    "### 0. Data from exchange"
   ]
  },
  {
   "cell_type": "code",
   "execution_count": 9,
   "metadata": {
    "tags": []
   },
   "outputs": [],
   "source": [
    "pair = \"USDC\"\n",
    "data_path = DATA_PATH_CRYPTO + '/' + pair\n",
    "markets = [\"SOL-USDC\"]\n",
    "timeframes = {'5m':5, '15m':15}"
   ]
  },
  {
   "cell_type": "code",
   "execution_count": 10,
   "metadata": {
    "tags": []
   },
   "outputs": [
    {
     "name": "stdout",
     "output_type": "stream",
     "text": [
      "1704067200000 2024-01-01 04:00:00\n",
      "SOL-USDC\n",
      "5m\n",
      "2024-04-07 15:40:00\n",
      "15m\n",
      "2024-04-07 15:30:00\n",
      "Done\n",
      "Time taken = 0.004  hours\n"
     ]
    }
   ],
   "source": [
    "load_data_from_exchange(exchange, markets, timeframes, start_timestamp,  data_path, 10)"
   ]
  },
  {
   "cell_type": "markdown",
   "metadata": {
    "tags": []
   },
   "source": [
    "### PyBit"
   ]
  },
  {
   "cell_type": "code",
   "execution_count": 47,
   "metadata": {
    "tags": []
   },
   "outputs": [],
   "source": [
    "import pybit"
   ]
  },
  {
   "cell_type": "code",
   "execution_count": null,
   "metadata": {
    "tags": []
   },
   "outputs": [],
   "source": [
    "from pybit.unified_trading import HTTP\n",
    "session = HTTP()\n",
    "print(session.get_kline(\n",
    "    category=\"spot\",\n",
    "    symbol=\"SOLUSDC\",\n",
    "    interval=5,\n",
    "    start=1706716267000,\n",
    "))"
   ]
  },
  {
   "cell_type": "code",
   "execution_count": 48,
   "metadata": {
    "tags": []
   },
   "outputs": [
    {
     "name": "stdout",
     "output_type": "stream",
     "text": [
      "{'retCode': 0, 'retMsg': 'OK', 'result': {'category': 'linear', 'list': [{'symbol': 'JUPUSDT', 'contractType': 'LinearPerpetual', 'status': 'Trading', 'baseCoin': 'JUP', 'quoteCoin': 'USDT', 'launchTime': '1706716267000', 'deliveryTime': '0', 'deliveryFeeRate': '', 'priceScale': '4', 'leverageFilter': {'minLeverage': '1', 'maxLeverage': '50.00', 'leverageStep': '0.01'}, 'priceFilter': {'minPrice': '0.0001', 'maxPrice': '199.9998', 'tickSize': '0.0001'}, 'lotSizeFilter': {'maxOrderQty': '30000', 'minOrderQty': '1', 'qtyStep': '1', 'postOnlyMaxOrderQty': '30000', 'maxMktOrderQty': '15000'}, 'unifiedMarginTrade': True, 'fundingInterval': 240, 'settleCoin': 'USDT', 'copyTrading': 'none', 'upperFundingRate': '0.006', 'lowerFundingRate': '-0.006'}], 'nextPageCursor': ''}, 'retExtInfo': {}, 'time': 1710779933743}\n"
     ]
    }
   ],
   "source": [
    "session = HTTP(testnet=True)\n",
    "print(session.get_instruments_info(\n",
    "    category=\"linear\",\n",
    "    symbol=\"JUPUSDT\",\n",
    "))"
   ]
  }
 ],
 "metadata": {
  "kernelspec": {
   "display_name": "t",
   "language": "python",
   "name": "t"
  },
  "language_info": {
   "codemirror_mode": {
    "name": "ipython",
    "version": 3
   },
   "file_extension": ".py",
   "mimetype": "text/x-python",
   "name": "python",
   "nbconvert_exporter": "python",
   "pygments_lexer": "ipython3",
   "version": "3.11.7"
  }
 },
 "nbformat": 4,
 "nbformat_minor": 4
}
